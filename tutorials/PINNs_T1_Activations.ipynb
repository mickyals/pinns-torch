{
 "cells": [
  {
   "metadata": {
    "collapsed": true
   },
   "cell_type": "markdown",
   "source": [
    "## Tutorial - 0: Continuous Forward Schrodinger\n",
    "\n",
    "Welcome to our tutorial on the effect of differing non-linearities in Physics-Informed Neural Networks (PINNs) using `PyTorch Lightning` and the new package, **`pinnstorch`**! This guide aims to introduce you to the integration of deep learning and scientific computing via PINNs, which embed physical laws into neural network training.\n",
    "### UPDATE TO SUIT MY CHANGES\n",
    "#### Overview:\n",
    "\n",
    "- **Mesh Generation and Sampling:** Understanding how to create and use meshes for training PINNs, crucial for defining the domain of our problem.\n",
    "- **Neural Network Model with PINNs:** How to build and structure a neural network for physical law integration.\n",
    "- **Physical Laws in Neural Networks:** Detailing the implementation of differential equations within the network using `pde_fn` and `output_fn`.\n",
    "- **Training and Validation:** Utilizing PyTorch Lightning’s Trainer to train our model, including defining the training data, initial conditions, and handling boundary conditions.\n",
    "- **Results Visualization:** Saving and analyzing the outcomes of your PINN models."
   ],
   "id": "c9f9d3c73e0b9895"
  },
  {
   "metadata": {},
   "cell_type": "markdown",
   "source": "#### Install Libraries\n",
   "id": "ab5dc003f5029330"
  },
  {
   "metadata": {
    "ExecuteTime": {
     "end_time": "2025-09-17T19:59:56.544864Z",
     "start_time": "2025-09-17T19:59:54.256232Z"
    }
   },
   "cell_type": "code",
   "source": "!pip install lightning",
   "id": "dae781f435fb95df",
   "outputs": [
    {
     "name": "stdout",
     "output_type": "stream",
     "text": [
      "Requirement already satisfied: lightning in c:\\users\\micke\\anaconda3\\lib\\site-packages (2.5.5)\n",
      "Requirement already satisfied: PyYAML<8.0,>5.4 in c:\\users\\micke\\anaconda3\\lib\\site-packages (from lightning) (6.0.1)\n",
      "Requirement already satisfied: fsspec<2027.0,>=2022.5.0 in c:\\users\\micke\\anaconda3\\lib\\site-packages (from fsspec[http]<2027.0,>=2022.5.0->lightning) (2024.6.1)\n",
      "Requirement already satisfied: lightning-utilities<2.0,>=0.10.0 in c:\\users\\micke\\anaconda3\\lib\\site-packages (from lightning) (0.11.9)\n",
      "Requirement already satisfied: packaging<27.0,>=20.0 in c:\\users\\micke\\anaconda3\\lib\\site-packages (from lightning) (24.1)\n",
      "Requirement already satisfied: torch<4.0,>=2.1.0 in c:\\users\\micke\\anaconda3\\lib\\site-packages (from lightning) (2.3.1)\n",
      "Requirement already satisfied: torchmetrics<3.0,>0.7.0 in c:\\users\\micke\\anaconda3\\lib\\site-packages (from lightning) (1.4.0.post0)\n",
      "Requirement already satisfied: tqdm<6.0,>=4.57.0 in c:\\users\\micke\\anaconda3\\lib\\site-packages (from lightning) (4.66.5)\n",
      "Requirement already satisfied: typing-extensions<6.0,>4.5.0 in c:\\users\\micke\\anaconda3\\lib\\site-packages (from lightning) (4.11.0)\n",
      "Requirement already satisfied: pytorch-lightning in c:\\users\\micke\\anaconda3\\lib\\site-packages (from lightning) (2.5.0.post0)\n",
      "Requirement already satisfied: aiohttp!=4.0.0a0,!=4.0.0a1 in c:\\users\\micke\\anaconda3\\lib\\site-packages (from fsspec[http]<2027.0,>=2022.5.0->lightning) (3.10.5)\n",
      "Requirement already satisfied: setuptools in c:\\users\\micke\\anaconda3\\lib\\site-packages (from lightning-utilities<2.0,>=0.10.0->lightning) (75.1.0)\n",
      "Requirement already satisfied: filelock in c:\\users\\micke\\anaconda3\\lib\\site-packages (from torch<4.0,>=2.1.0->lightning) (3.13.1)\n",
      "Requirement already satisfied: sympy in c:\\users\\micke\\anaconda3\\lib\\site-packages (from torch<4.0,>=2.1.0->lightning) (1.13.2)\n",
      "Requirement already satisfied: networkx in c:\\users\\micke\\anaconda3\\lib\\site-packages (from torch<4.0,>=2.1.0->lightning) (3.3)\n",
      "Requirement already satisfied: jinja2 in c:\\users\\micke\\anaconda3\\lib\\site-packages (from torch<4.0,>=2.1.0->lightning) (3.1.4)\n",
      "Requirement already satisfied: numpy>1.20.0 in c:\\users\\micke\\anaconda3\\lib\\site-packages (from torchmetrics<3.0,>0.7.0->lightning) (1.26.4)\n",
      "Requirement already satisfied: colorama in c:\\users\\micke\\anaconda3\\lib\\site-packages (from tqdm<6.0,>=4.57.0->lightning) (0.4.6)\n",
      "Requirement already satisfied: aiohappyeyeballs>=2.3.0 in c:\\users\\micke\\anaconda3\\lib\\site-packages (from aiohttp!=4.0.0a0,!=4.0.0a1->fsspec[http]<2027.0,>=2022.5.0->lightning) (2.4.0)\n",
      "Requirement already satisfied: aiosignal>=1.1.2 in c:\\users\\micke\\anaconda3\\lib\\site-packages (from aiohttp!=4.0.0a0,!=4.0.0a1->fsspec[http]<2027.0,>=2022.5.0->lightning) (1.2.0)\n",
      "Requirement already satisfied: attrs>=17.3.0 in c:\\users\\micke\\anaconda3\\lib\\site-packages (from aiohttp!=4.0.0a0,!=4.0.0a1->fsspec[http]<2027.0,>=2022.5.0->lightning) (23.1.0)\n",
      "Requirement already satisfied: frozenlist>=1.1.1 in c:\\users\\micke\\anaconda3\\lib\\site-packages (from aiohttp!=4.0.0a0,!=4.0.0a1->fsspec[http]<2027.0,>=2022.5.0->lightning) (1.4.0)\n",
      "Requirement already satisfied: multidict<7.0,>=4.5 in c:\\users\\micke\\anaconda3\\lib\\site-packages (from aiohttp!=4.0.0a0,!=4.0.0a1->fsspec[http]<2027.0,>=2022.5.0->lightning) (6.0.4)\n",
      "Requirement already satisfied: yarl<2.0,>=1.0 in c:\\users\\micke\\anaconda3\\lib\\site-packages (from aiohttp!=4.0.0a0,!=4.0.0a1->fsspec[http]<2027.0,>=2022.5.0->lightning) (1.11.0)\n",
      "Requirement already satisfied: MarkupSafe>=2.0 in c:\\users\\micke\\anaconda3\\lib\\site-packages (from jinja2->torch<4.0,>=2.1.0->lightning) (2.1.3)\n",
      "Requirement already satisfied: mpmath<1.4,>=1.1.0 in c:\\users\\micke\\anaconda3\\lib\\site-packages (from sympy->torch<4.0,>=2.1.0->lightning) (1.3.0)\n",
      "Requirement already satisfied: idna>=2.0 in c:\\users\\micke\\anaconda3\\lib\\site-packages (from yarl<2.0,>=1.0->aiohttp!=4.0.0a0,!=4.0.0a1->fsspec[http]<2027.0,>=2022.5.0->lightning) (3.7)\n"
     ]
    }
   ],
   "execution_count": 1
  },
  {
   "metadata": {
    "ExecuteTime": {
     "end_time": "2025-09-17T20:00:00.386205Z",
     "start_time": "2025-09-17T19:59:56.549380Z"
    }
   },
   "cell_type": "code",
   "source": [
    "from typing import Dict\n",
    "\n",
    "import torch\n",
    "import numpy as np\n",
    "import lightning.pytorch as pl\n",
    "\n",
    "import pinnstorch"
   ],
   "id": "b9adcf0fd99bf733",
   "outputs": [],
   "execution_count": 2
  },
  {
   "metadata": {},
   "cell_type": "markdown",
   "source": [
    "### Define Mesh\n",
    "\n",
    "Physics-Informed Neural Networks (PINNs) require a discretized domain (mesh) over which the physical equations are solved. In `pinnstorch`, there are primarily two approaches to define this mesh:\n",
    "\n",
    "\n",
    "- **Defining Point Clouds:** This method involves directly utilizing spatio-temporal data (e.g., from experiments or other simulations) to create a mesh using `pinnstorch.data.PointCloud`.\n",
    "\n",
    "\n",
    "**Note:** It's crucial to format the spatial and temporal domain dimensions correctly. Specifically:\n",
    "\n",
    "- **Spatial Domain:** Each axis should be structured in the shape of $(N \\times 1)$, where $N$ represents the number of spatial points.\n",
    "- **Time Domain:** This should be formatted as $(T \\times 1)$, where $T$ indicates the number of time steps.\n",
    "- **Solution Data:** Each solution variable (e.g., temperature, velocity) should be in the shape of $(N \\times T)$, aligning with the spatial and temporal points."
   ],
   "id": "5d98b842c17438b"
  },
  {
   "metadata": {
    "ExecuteTime": {
     "end_time": "2025-09-17T20:00:00.543595Z",
     "start_time": "2025-09-17T20:00:00.531201Z"
    }
   },
   "cell_type": "code",
   "source": [
    "def read_data_fn(root_path):\n",
    "    \"\"\"Read and preprocess data from the specified root path.\n",
    "\n",
    "    :param root_path: The root directory containing the data.\n",
    "    :return: Processed data will be used in PointCloud class.\n",
    "    \"\"\"\n",
    "\n",
    "    data = pinnstorch.utils.load_data(root_path, \"NLS.mat\")\n",
    "\n",
    "    x = data[\"x\"].T  # N x 1\n",
    "    t = data[\"tt\"].T  # T x 1\n",
    "\n",
    "    exact = data[\"uu\"]\n",
    "    exact_u = np.real(exact) # N x T\n",
    "    exact_v = np.imag(exact) # N x T\n",
    "    exact_h = np.sqrt(exact_u**2 + exact_v**2) # N x T\n",
    "\n",
    "    print(f\" x has {x.shape} shape with min: {x.min()}, max: {x.max()}\")\n",
    "    print(f\" t has {t.shape} shape with min: {t.min()}, max: {t.max()}\")\n",
    "    print(f\"  exact_u {exact_u.shape} shape with min: {exact_u.min()}, max: {exact_u.max()}\")\n",
    "    print(f\" exact_v {exact_v.shape} shape with min: {exact_v.min()}, max: {exact_v.max()}\")\n",
    "    print(f\" exact_h  {exact_h.shape} shape with min: {exact_h.min()}, max: {exact_h.max()}\")\n",
    "\n",
    "\n",
    "\n",
    "    return pinnstorch.data.PointCloudData(\n",
    "            spatial=[x], time=[t], solution={\"u\": exact_u, \"v\": exact_v, \"h\": exact_h}\n",
    "    )"
   ],
   "id": "38074e2edc59658d",
   "outputs": [],
   "execution_count": 3
  },
  {
   "metadata": {
    "ExecuteTime": {
     "end_time": "2025-09-17T19:30:08.014287Z",
     "start_time": "2025-09-17T19:30:08.010618Z"
    }
   },
   "cell_type": "markdown",
   "source": "Now, mesh can be initalize with using the function and the directory to the folder of data.",
   "id": "23784c98c72c25f1"
  },
  {
   "metadata": {
    "ExecuteTime": {
     "end_time": "2025-09-17T20:00:00.559056Z",
     "start_time": "2025-09-17T20:00:00.548998Z"
    }
   },
   "cell_type": "code",
   "source": [
    "mesh = pinnstorch.data.PointCloud(root_dir='./data',\n",
    "                                  read_data_fn=read_data_fn)"
   ],
   "id": "4788121d7e93f9af",
   "outputs": [
    {
     "name": "stdout",
     "output_type": "stream",
     "text": [
      " x has (256, 1) shape with min: -5.0, max: 4.9609375\n",
      " t has (201, 1) shape with min: 0.0, max: 1.5707963267948966\n",
      "  exact_u (256, 201) shape with min: -3.932425448799453, max: 2.1998422786360754\n",
      " exact_v (256, 201) shape with min: -3.4523031901896957, max: 2.754265786698505\n",
      " exact_h  (256, 201) shape with min: 0.015981892796576278, max: 3.9987582390710266\n"
     ]
    }
   ],
   "execution_count": 4
  },
  {
   "metadata": {},
   "cell_type": "markdown",
   "source": [
    "### Define Train datasets\n",
    "\n",
    "For solving Schrodinger PDE, we have:\n",
    "- Initial condition\n",
    "- Periodic boundary condition\n",
    "- Collection points for the PDE."
   ],
   "id": "8674c5a7b7188218"
  },
  {
   "metadata": {},
   "cell_type": "markdown",
   "source": [
    "#### Initial Condition\n",
    "\n",
    "Let's start with initial condition of the Schrodinger.\n",
    "$$ u(0, x) = 2 \\text{sech}(x) $$\n",
    "$$ v(0, x) = 0 $$\n",
    "\n",
    "For defining initial condition, again we have two options.\n",
    "\n",
    "- **Sample from the data.**\n",
    "- **Defining a function for calculating initial condition.**"
   ],
   "id": "60a28a65693bcdc8"
  },
  {
   "metadata": {},
   "cell_type": "markdown",
   "source": "##### Set number of samples",
   "id": "ae47ebe2f5d93a1f"
  },
  {
   "metadata": {
    "ExecuteTime": {
     "end_time": "2025-09-17T20:00:00.574702Z",
     "start_time": "2025-09-17T20:00:00.562566Z"
    }
   },
   "cell_type": "code",
   "source": "NO = 50",
   "id": "e3f6a6a9e2842fd2",
   "outputs": [],
   "execution_count": 5
  },
  {
   "metadata": {},
   "cell_type": "markdown",
   "source": "The input of `initial_fun` should be the same as spatial domain of the problem.",
   "id": "85f122b432c5c575"
  },
  {
   "metadata": {
    "ExecuteTime": {
     "end_time": "2025-09-17T20:00:00.590094Z",
     "start_time": "2025-09-17T20:00:00.578209Z"
    }
   },
   "cell_type": "code",
   "source": [
    "def initial_fun(x):\n",
    "    return {'u': 2*1/np.cosh(x), 'v': np.zeros_like(x)}"
   ],
   "id": "7b442a17c109669c",
   "outputs": [],
   "execution_count": 6
  },
  {
   "metadata": {
    "ExecuteTime": {
     "end_time": "2025-09-17T20:00:00.605040Z",
     "start_time": "2025-09-17T20:00:00.595167Z"
    }
   },
   "cell_type": "code",
   "source": [
    "in_c = pinnstorch.data.InitialCondition(mesh = mesh,\n",
    "                                        num_sample = NO,\n",
    "                                        initial_fun = initial_fun,\n",
    "                                        solution = ['u', 'v'])"
   ],
   "id": "bb33a00e6fe19816",
   "outputs": [],
   "execution_count": 7
  },
  {
   "metadata": {},
   "cell_type": "markdown",
   "source": "The `solution` attribute in `pinnstorch.data.InitialCondition` specifies the solutions (`u` and `v` in our case) to be sampled for initial conditions.",
   "id": "87bf5e73660056f8"
  },
  {
   "metadata": {},
   "cell_type": "markdown",
   "source": "#### Periodic Boundary Condition",
   "id": "6ff7dcb5d38b74f8"
  },
  {
   "metadata": {},
   "cell_type": "markdown",
   "source": [
    "The `pinnstorch.data.PeriodicBoundaryCondition` is used to sample periodic points from the upper and lower bounds of the spatial domain (mesh). The `derivative_order` parameter specifies the order of the derivative to be matched at these boundaries. In our case, for the Schrödinger equation, both the function and its first spatial derivative should match at the boundaries, hence `derivative_order = 1`.\n",
    "\n",
    "\n",
    "$$ u(t,-5) = u(t, 5), $$\n",
    "$$ v(t,-5) = v(t, 5), $$\n",
    "$$ u_x(t,-5) = u_x(t, 5),$$\n",
    "$$ v_x(t,-5) = v_x(t, 5) $$"
   ],
   "id": "545a8422a5186c1d"
  },
  {
   "metadata": {
    "ExecuteTime": {
     "end_time": "2025-09-17T20:00:00.620265Z",
     "start_time": "2025-09-17T20:00:00.610195Z"
    }
   },
   "cell_type": "code",
   "source": [
    "N_b = 50\n",
    "pe_b = pinnstorch.data.PeriodicBoundaryCondition(mesh = mesh,\n",
    "                                                 num_sample = N_b,\n",
    "                                                 derivative_order = 1,\n",
    "                                                 solution = ['u', 'v'])"
   ],
   "id": "d065c9e5431f6688",
   "outputs": [],
   "execution_count": 8
  },
  {
   "metadata": {},
   "cell_type": "markdown",
   "source": [
    "#### Mesh Sampler for collection points and solutions\n",
    "\n",
    "In our problem, the partial differential equations (PDEs) governing the dynamics are given by:\n",
    "\n",
    "$$ f_u := u_t + 0.5v_{xx} + v(u^2 +v^2),$$\n",
    "$$ f_v := v_t + 0.5u_{xx} + u(u^2 +v^2) $$\n",
    "\n",
    "To find the solutions to these PDEs using a neural network, we must sample points from the domain at which the network will be trained to satisfy these equations. This sampling process is crucial for training our PINN. We utilize the `pinnstorch.data.MeshSampler` for this purpose, specifying the following:\n",
    "\n",
    "- **Number of Sample Points (N_f):** We choose to sample 20,000 points from the domain. This number is a balance between computational efficiency and the need for a sufficiently dense sampling to capture the dynamics of the PDEs.\n",
    "- **Mesh (mesh):** This parameter defines the spatial-temporal domain from which the points will be sampled.\n",
    "- **Collection Points:** We define `['f_u', 'f_v']` as the targets for our collection points. These are not direct outputs from the neural network but are derived from the network outputs and their derivatives (We will define `pde_fn` function later). The PINN will be trained such that these expressions tend towards zero, aligning with the PDE constraints.\n",
    "\n",
    "Here's the code to implement this sampler:"
   ],
   "id": "bd05fae32208852f"
  },
  {
   "metadata": {
    "ExecuteTime": {
     "end_time": "2025-09-17T20:00:00.652044Z",
     "start_time": "2025-09-17T20:00:00.631078Z"
    }
   },
   "cell_type": "code",
   "source": [
    "N_f = 20000\n",
    "me_s = pinnstorch.data.MeshSampler(mesh = mesh,\n",
    "                                   num_sample = N_f,\n",
    "                                   collection_points = ['f_v', 'f_u'])"
   ],
   "id": "8734a1f980770e18",
   "outputs": [],
   "execution_count": 9
  },
  {
   "metadata": {
    "ExecuteTime": {
     "end_time": "2025-09-17T20:00:00.667247Z",
     "start_time": "2025-09-17T20:00:00.661216Z"
    }
   },
   "cell_type": "code",
   "source": "",
   "id": "6ce7ae106333b202",
   "outputs": [],
   "execution_count": null
  },
  {
   "metadata": {},
   "cell_type": "markdown",
   "source": [
    "### Define Validation dataset\n",
    "\n",
    "For validation, we sample all points from the mesh to evaluate our model comprehensively. Model will be validated for solutions of `u`, `v`, and `h`.\n",
    "\n",
    "**Note:** If `num_sample` is not specified, the sampler will use the entire mesh for data sampling."
   ],
   "id": "ee7e0926eba79067"
  },
  {
   "metadata": {
    "ExecuteTime": {
     "end_time": "2025-09-17T20:00:00.682979Z",
     "start_time": "2025-09-17T20:00:00.673371Z"
    }
   },
   "cell_type": "code",
   "source": [
    "val_s = pinnstorch.data.MeshSampler(mesh = mesh,\n",
    "                                    solution = ['u', 'v', 'h'])"
   ],
   "id": "9ae2e0e436ca3f4a",
   "outputs": [],
   "execution_count": 10
  },
  {
   "metadata": {},
   "cell_type": "markdown",
   "source": [
    "### Define `pde_fn` and `output_fn` functions\n",
    "\n",
    "Now, we define `pde_fn` and `output_fn`.\n",
    "- **`output_fn`:** is applied to the network's output, adding any necessary post-processing computations. For example, in our case, `h(x,t) = u(x,t)**2 + v(x,t)**2`, thus, we define this equation in `output_fn`.\n",
    "- **`pde_fn`:** formulates the PDE constraints, which will be used by the `MeshSampler` to compute the loss at the collection points."
   ],
   "id": "8d5263552300341e"
  },
  {
   "metadata": {},
   "cell_type": "markdown",
   "source": [
    "#### `output_fn` function\n",
    "\n",
    "**Note:** `output_fn` should always have these inputs:\n",
    "- **Outputs:** It is output of the network. In our case, this dictionary should have two output: `u` and `v`.\n",
    "- **Spatial domains:** These are the spatial domain variables. In our case, because our problem has 1-D spatial domain, the input just have `x`. For example, if we had 2-D space, we need another input for that dimention. For example, the inputs from `(outputs, x, t)` will be changed to `(outputs, x, y, t)`.\n",
    "- **Time domin:** The last input of `output_fn` function always should be time."
   ],
   "id": "587ad365fece9537"
  },
  {
   "metadata": {
    "ExecuteTime": {
     "end_time": "2025-09-17T20:00:00.697946Z",
     "start_time": "2025-09-17T20:00:00.690309Z"
    }
   },
   "cell_type": "code",
   "source": [
    "def output_fn(outputs: Dict[str, torch.Tensor],\n",
    "              x: torch.Tensor,\n",
    "              t: torch.Tensor):\n",
    "    \"\"\"Define `output_fn` function that will be applied to outputs of net.\"\"\"\n",
    "\n",
    "    outputs[\"h\"] = torch.sqrt(outputs[\"u\"] ** 2 + outputs[\"v\"] ** 2)\n",
    "\n",
    "    return outputs"
   ],
   "id": "2d383cf53ae93e7f",
   "outputs": [],
   "execution_count": 11
  },
  {
   "metadata": {},
   "cell_type": "markdown",
   "source": [
    "#### `pde_fn` function\n",
    "\n",
    "The inputs are similar to `output_fn`. Only if we have extra variables for training (i.g. in inverse problems), we should add input at the end of inputs. For example, `(outputs, x, t)` will be `(outputs, x, t, extra_variable)`. `extra_variable` is always a dictionary."
   ],
   "id": "977d649c31b4e32a"
  },
  {
   "metadata": {
    "ExecuteTime": {
     "end_time": "2025-09-17T20:00:00.713237Z",
     "start_time": "2025-09-17T20:00:00.703486Z"
    }
   },
   "cell_type": "code",
   "source": [
    "def pde_fn(outputs: Dict[str, torch.Tensor],\n",
    "           x: torch.Tensor,\n",
    "           t: torch.Tensor):\n",
    "    \"\"\"Define the partial differential equations (PDEs).\"\"\"\n",
    "    u_x, u_t = pinnstorch.utils.gradient(outputs[\"u\"], [x, t])\n",
    "    v_x, v_t = pinnstorch.utils.gradient(outputs[\"v\"], [x, t])\n",
    "\n",
    "    u_xx = pinnstorch.utils.gradient(u_x, x)[0]\n",
    "    v_xx = pinnstorch.utils.gradient(v_x, x)[0]\n",
    "\n",
    "    outputs[\"f_u\"] = u_t + 0.5 * v_xx + (outputs[\"u\"] ** 2 + outputs[\"v\"] ** 2) * outputs[\"v\"]\n",
    "    outputs[\"f_v\"] = v_t - 0.5 * u_xx - (outputs[\"u\"] ** 2 + outputs[\"v\"] ** 2) * outputs[\"u\"]\n",
    "\n",
    "    return outputs"
   ],
   "id": "7db6b0340b71302f",
   "outputs": [],
   "execution_count": 12
  },
  {
   "metadata": {},
   "cell_type": "markdown",
   "source": [
    "### Define PINNDataModule and PINNModule\n",
    "\n",
    "To integrate with Lightning, we utilize two specialized modules:\n",
    "\n",
    "- `PINNDataModule` (inherited from `LightningDataModule`) manages data.\n",
    "- `PINNModule` (derived from `LightningModule`) handles the model, compilation, and various enhancements like AMP."
   ],
   "id": "a5df194ad77c0b59"
  },
  {
   "metadata": {},
   "cell_type": "markdown",
   "source": [
    "#### Define `PINNDataModule`\n",
    "Here, we define collection points, initial condition, and preiodic boundary condition as training datasets, and also, we set validation set. `PINNDataModule` is used for defining training, validation, prediction, and test datasets."
   ],
   "id": "215ed7a78b79aeff"
  },
  {
   "metadata": {
    "ExecuteTime": {
     "end_time": "2025-09-17T20:00:00.728199Z",
     "start_time": "2025-09-17T20:00:00.719796Z"
    }
   },
   "cell_type": "code",
   "source": [
    "train_datasets = [me_s, in_c, pe_b]\n",
    "val_dataset = val_s\n",
    "datamodule = pinnstorch.data.PINNDataModule(train_datasets = [me_s, in_c, pe_b],\n",
    "                                            val_dataset = val_dataset,\n",
    "                                            pred_dataset = val_s)"
   ],
   "id": "c0d300c122c8d391",
   "outputs": [],
   "execution_count": 13
  },
  {
   "metadata": {
    "ExecuteTime": {
     "end_time": "2025-09-17T20:00:00.743537Z",
     "start_time": "2025-09-17T20:00:00.737022Z"
    }
   },
   "cell_type": "code",
   "source": "",
   "id": "1d8e0f73cf1f535",
   "outputs": [],
   "execution_count": null
  },
  {
   "metadata": {
    "ExecuteTime": {
     "end_time": "2025-09-17T20:00:00.758813Z",
     "start_time": "2025-09-17T20:00:00.748069Z"
    }
   },
   "cell_type": "code",
   "source": "",
   "id": "d11c0978e302a0de",
   "outputs": [],
   "execution_count": null
  },
  {
   "metadata": {},
   "cell_type": "markdown",
   "source": "## DEFINING MODELS",
   "id": "334e55234654ce2c"
  },
  {
   "metadata": {
    "ExecuteTime": {
     "end_time": "2025-09-17T20:00:00.774170Z",
     "start_time": "2025-09-17T20:00:00.767659Z"
    }
   },
   "cell_type": "code",
   "source": "import time",
   "id": "e29bd05361908ec4",
   "outputs": [],
   "execution_count": 14
  },
  {
   "metadata": {},
   "cell_type": "markdown",
   "source": "Define the layers and epochs of your model below",
   "id": "e28301889029a884"
  },
  {
   "metadata": {
    "ExecuteTime": {
     "end_time": "2025-09-17T20:27:02.179702Z",
     "start_time": "2025-09-17T20:27:02.166772Z"
    }
   },
   "cell_type": "code",
   "source": [
    "layers = [2, 100, 100, 100, 100, 2]\n",
    "num_epochs = 100"
   ],
   "id": "9bed08d5d22ba984",
   "outputs": [],
   "execution_count": 43
  },
  {
   "metadata": {},
   "cell_type": "markdown",
   "source": "### Activations and Initializers\n",
   "id": "186c0d1f29eaa9f3"
  },
  {
   "metadata": {},
   "cell_type": "markdown",
   "source": [
    "##### DEFAULT\n",
    "\n",
    "The default activation for PINNS is typically the `Hyperbolic Tangent` also known as `Tanh`.\n",
    "\n",
    "![](https://www.aitude.com/wp-content/uploads/2020/08/507x279xtanh-graph-aitude-1024x564.png.pagespeed.ic.W1m7DEvoG3.png)\n"
   ],
   "id": "bd4c24b099d27daa"
  },
  {
   "metadata": {
    "ExecuteTime": {
     "end_time": "2025-09-17T20:00:00.805044Z",
     "start_time": "2025-09-17T20:00:00.796448Z"
    }
   },
   "cell_type": "code",
   "outputs": [],
   "execution_count": 16,
   "source": [
    "net_tanh = pinnstorch.models.FCN(layers=layers,\n",
    "                            output_names=['u', 'v'],\n",
    "                            lb=mesh.lb,\n",
    "                            ub=mesh.ub,\n",
    "                            activation=\"TANH\",  # use registry\n",
    "                            activation_kwargs={},  # extra params\n",
    "                            initializer=\"XAVIER_UNIFORM\",  # use registry\n",
    "                            initializer_kwargs={},  # extra params\n",
    "                            layer_type='BASE',\n",
    "                            layer_kwargs={}\n",
    "                            )"
   ],
   "id": "6c909e0e7dda63f"
  },
  {
   "metadata": {
    "ExecuteTime": {
     "end_time": "2025-09-17T20:00:00.820630Z",
     "start_time": "2025-09-17T20:00:00.809280Z"
    }
   },
   "cell_type": "code",
   "outputs": [],
   "execution_count": 17,
   "source": [
    "model = pinnstorch.models.PINNModule(net = net_tanh,\n",
    "                                     pde_fn = pde_fn,\n",
    "                                     output_fn = output_fn,\n",
    "                                     loss_fn = 'mse')"
   ],
   "id": "baa3e48c0599da9f"
  },
  {
   "metadata": {
    "ExecuteTime": {
     "end_time": "2025-09-17T20:07:31.413181Z",
     "start_time": "2025-09-17T20:07:23.099345Z"
    }
   },
   "cell_type": "code",
   "source": [
    "trainer = pl.Trainer(accelerator='gpu', devices=1, max_epochs = num_epochs)\n",
    "start_time = time.time()\n",
    "\n",
    "trainer.fit(model=model, datamodule=datamodule)\n",
    "end_time = time.time()\n",
    "\n",
    "total_time = end_time - start_time\n",
    "hours = total_time // 3600\n",
    "minutes = (total_time % 3600) // 60\n",
    "seconds = total_time % 60\n",
    "\n",
    "print(f\"Training time: {hours}h {minutes}m {seconds}s\")"
   ],
   "id": "4ddb88772b1c73a",
   "outputs": [
    {
     "name": "stderr",
     "output_type": "stream",
     "text": [
      "LOCAL_RANK: 0 - CUDA_VISIBLE_DEVICES: [0]\n",
      "\n",
      "  | Name          | Type       | Params | Mode \n",
      "-----------------------------------------------------\n",
      "0 | net           | FCN        | 30.8 K | train\n",
      "1 | train_loss    | MeanMetric | 0      | train\n",
      "2 | val_loss      | MeanMetric | 0      | train\n",
      "3 | val_error     | MeanMetric | 0      | train\n",
      "4 | test_loss     | MeanMetric | 0      | train\n",
      "5 | test_error    | MeanMetric | 0      | train\n",
      "6 | val_loss_best | MinMetric  | 0      | train\n",
      "-----------------------------------------------------\n",
      "30.8 K    Trainable params\n",
      "0         Non-trainable params\n",
      "30.8 K    Total params\n",
      "0.123     Total estimated model params size (MB)\n",
      "23        Modules in train mode\n",
      "0         Modules in eval mode\n"
     ]
    },
    {
     "name": "stdout",
     "output_type": "stream",
     "text": [
      "Epoch 0: 100%|██████████| 1/1 [00:00<00:00,  4.92it/s, v_num=51, train/loss_step=0.0942]\n",
      "Validation: |          | 0/? [00:00<?, ?it/s]\u001B[A\n",
      "Validation: |          | 0/? [00:00<?, ?it/s]\u001B[A\n",
      "Validation DataLoader 0:   0%|          | 0/1 [00:00<?, ?it/s]\u001B[A\n",
      "Validation DataLoader 0: 100%|██████████| 1/1 [00:00<00:00, 93.87it/s]\u001B[A\n",
      "Epoch 1: 100%|██████████| 1/1 [00:00<00:00, 37.21it/s, v_num=51, train/loss_step=1.160, val/loss=1.080, val/error_u=0.845, val/error_v=1.310, val/error_h=0.510, val/loss_best=1.080, train/loss_epoch=0.0942] \n",
      "Validation: |          | 0/? [00:00<?, ?it/s]\u001B[A\n",
      "Validation: |          | 0/? [00:00<?, ?it/s]\u001B[A\n",
      "Validation DataLoader 0:   0%|          | 0/1 [00:00<?, ?it/s]\u001B[A\n",
      "Validation DataLoader 0: 100%|██████████| 1/1 [00:00<00:00, 105.08it/s]\u001B[A\n",
      "Epoch 2: 100%|██████████| 1/1 [00:00<00:00, 33.99it/s, v_num=51, train/loss_step=0.120, val/loss=0.868, val/error_u=0.825, val/error_v=1.100, val/error_h=0.456, val/loss_best=0.868, train/loss_epoch=1.160] \n",
      "Validation: |          | 0/? [00:00<?, ?it/s]\u001B[A\n",
      "Validation: |          | 0/? [00:00<?, ?it/s]\u001B[A\n",
      "Validation DataLoader 0:   0%|          | 0/1 [00:00<?, ?it/s]\u001B[A\n",
      "Validation DataLoader 0: 100%|██████████| 1/1 [00:00<00:00, 86.24it/s]\u001B[A\n",
      "Epoch 3: 100%|██████████| 1/1 [00:00<00:00, 34.14it/s, v_num=51, train/loss_step=0.471, val/loss=0.993, val/error_u=0.869, val/error_v=1.090, val/error_h=0.569, val/loss_best=0.868, train/loss_epoch=0.120]\n",
      "Validation: |          | 0/? [00:00<?, ?it/s]\u001B[A\n",
      "Validation: |          | 0/? [00:00<?, ?it/s]\u001B[A\n",
      "Validation DataLoader 0:   0%|          | 0/1 [00:00<?, ?it/s]\u001B[A\n",
      "Validation DataLoader 0: 100%|██████████| 1/1 [00:00<00:00, 85.96it/s]\u001B[A\n",
      "Epoch 4: 100%|██████████| 1/1 [00:00<00:00, 33.01it/s, v_num=51, train/loss_step=0.595, val/loss=1.130, val/error_u=0.907, val/error_v=1.120, val/error_h=0.649, val/loss_best=0.868, train/loss_epoch=0.471]\n",
      "Validation: |          | 0/? [00:00<?, ?it/s]\u001B[A\n",
      "Validation: |          | 0/? [00:00<?, ?it/s]\u001B[A\n",
      "Validation DataLoader 0:   0%|          | 0/1 [00:00<?, ?it/s]\u001B[A\n",
      "Validation DataLoader 0: 100%|██████████| 1/1 [00:00<00:00, 81.11it/s]\u001B[A\n",
      "Epoch 5: 100%|██████████| 1/1 [00:00<00:00, 31.01it/s, v_num=51, train/loss_step=0.533, val/loss=1.210, val/error_u=0.913, val/error_v=1.160, val/error_h=0.696, val/loss_best=0.868, train/loss_epoch=0.595]\n",
      "Validation: |          | 0/? [00:00<?, ?it/s]\u001B[A\n",
      "Validation: |          | 0/? [00:00<?, ?it/s]\u001B[A\n",
      "Validation DataLoader 0:   0%|          | 0/1 [00:00<?, ?it/s]\u001B[A\n",
      "Validation DataLoader 0: 100%|██████████| 1/1 [00:00<00:00, 66.30it/s]\u001B[A\n",
      "Epoch 6: 100%|██████████| 1/1 [00:00<00:00, 31.46it/s, v_num=51, train/loss_step=0.527, val/loss=1.260, val/error_u=0.910, val/error_v=1.190, val/error_h=0.725, val/loss_best=0.868, train/loss_epoch=0.533]\n",
      "Validation: |          | 0/? [00:00<?, ?it/s]\u001B[A\n",
      "Validation: |          | 0/? [00:00<?, ?it/s]\u001B[A\n",
      "Validation DataLoader 0:   0%|          | 0/1 [00:00<?, ?it/s]\u001B[A\n",
      "Validation DataLoader 0: 100%|██████████| 1/1 [00:00<00:00, 89.81it/s]\u001B[A\n",
      "Epoch 7: 100%|██████████| 1/1 [00:00<00:00, 32.44it/s, v_num=51, train/loss_step=0.520, val/loss=1.250, val/error_u=0.897, val/error_v=1.190, val/error_h=0.732, val/loss_best=0.868, train/loss_epoch=0.527]\n",
      "Validation: |          | 0/? [00:00<?, ?it/s]\u001B[A\n",
      "Validation: |          | 0/? [00:00<?, ?it/s]\u001B[A\n",
      "Validation DataLoader 0:   0%|          | 0/1 [00:00<?, ?it/s]\u001B[A\n",
      "Validation DataLoader 0: 100%|██████████| 1/1 [00:00<00:00, 72.91it/s]\u001B[A\n",
      "Epoch 8: 100%|██████████| 1/1 [00:00<00:00, 32.70it/s, v_num=51, train/loss_step=0.424, val/loss=1.190, val/error_u=0.867, val/error_v=1.160, val/error_h=0.714, val/loss_best=0.868, train/loss_epoch=0.520]\n",
      "Validation: |          | 0/? [00:00<?, ?it/s]\u001B[A\n",
      "Validation: |          | 0/? [00:00<?, ?it/s]\u001B[A\n",
      "Validation DataLoader 0:   0%|          | 0/1 [00:00<?, ?it/s]\u001B[A\n",
      "Validation DataLoader 0: 100%|██████████| 1/1 [00:00<00:00, 78.43it/s]\u001B[A\n",
      "Epoch 9: 100%|██████████| 1/1 [00:00<00:00, 32.18it/s, v_num=51, train/loss_step=0.316, val/loss=1.110, val/error_u=0.835, val/error_v=1.140, val/error_h=0.679, val/loss_best=0.868, train/loss_epoch=0.424]\n",
      "Validation: |          | 0/? [00:00<?, ?it/s]\u001B[A\n",
      "Validation: |          | 0/? [00:00<?, ?it/s]\u001B[A\n",
      "Validation DataLoader 0:   0%|          | 0/1 [00:00<?, ?it/s]\u001B[A\n",
      "Validation DataLoader 0: 100%|██████████| 1/1 [00:00<00:00, 64.26it/s]\u001B[A\n",
      "Epoch 10: 100%|██████████| 1/1 [00:00<00:00, 33.34it/s, v_num=51, train/loss_step=0.291, val/loss=1.030, val/error_u=0.818, val/error_v=1.110, val/error_h=0.639, val/loss_best=0.868, train/loss_epoch=0.316]\n",
      "Validation: |          | 0/? [00:00<?, ?it/s]\u001B[A\n",
      "Validation: |          | 0/? [00:00<?, ?it/s]\u001B[A\n",
      "Validation DataLoader 0:   0%|          | 0/1 [00:00<?, ?it/s]\u001B[A\n",
      "Validation DataLoader 0: 100%|██████████| 1/1 [00:00<00:00, 65.68it/s]\u001B[A\n",
      "Epoch 11: 100%|██████████| 1/1 [00:00<00:00, 32.15it/s, v_num=51, train/loss_step=0.322, val/loss=0.971, val/error_u=0.815, val/error_v=1.070, val/error_h=0.603, val/loss_best=0.868, train/loss_epoch=0.291]\n",
      "Validation: |          | 0/? [00:00<?, ?it/s]\u001B[A\n",
      "Validation: |          | 0/? [00:00<?, ?it/s]\u001B[A\n",
      "Validation DataLoader 0:   0%|          | 0/1 [00:00<?, ?it/s]\u001B[A\n",
      "Validation DataLoader 0: 100%|██████████| 1/1 [00:00<00:00, 63.61it/s]\u001B[A\n",
      "Epoch 12: 100%|██████████| 1/1 [00:00<00:00, 33.60it/s, v_num=51, train/loss_step=0.318, val/loss=0.918, val/error_u=0.813, val/error_v=1.040, val/error_h=0.571, val/loss_best=0.868, train/loss_epoch=0.322]\n",
      "Validation: |          | 0/? [00:00<?, ?it/s]\u001B[A\n",
      "Validation: |          | 0/? [00:00<?, ?it/s]\u001B[A\n",
      "Validation DataLoader 0:   0%|          | 0/1 [00:00<?, ?it/s]\u001B[A\n",
      "Validation DataLoader 0: 100%|██████████| 1/1 [00:00<00:00, 81.83it/s]\u001B[A\n",
      "Epoch 13: 100%|██████████| 1/1 [00:00<00:00, 33.38it/s, v_num=51, train/loss_step=0.278, val/loss=0.873, val/error_u=0.808, val/error_v=1.010, val/error_h=0.545, val/loss_best=0.868, train/loss_epoch=0.318]\n",
      "Validation: |          | 0/? [00:00<?, ?it/s]\u001B[A\n",
      "Validation: |          | 0/? [00:00<?, ?it/s]\u001B[A\n",
      "Validation DataLoader 0:   0%|          | 0/1 [00:00<?, ?it/s]\u001B[A\n",
      "Validation DataLoader 0: 100%|██████████| 1/1 [00:00<00:00, 76.50it/s]\u001B[A\n",
      "Epoch 14: 100%|██████████| 1/1 [00:00<00:00, 31.71it/s, v_num=51, train/loss_step=0.249, val/loss=0.845, val/error_u=0.805, val/error_v=0.993, val/error_h=0.529, val/loss_best=0.845, train/loss_epoch=0.278]\n",
      "Validation: |          | 0/? [00:00<?, ?it/s]\u001B[A\n",
      "Validation: |          | 0/? [00:00<?, ?it/s]\u001B[A\n",
      "Validation DataLoader 0:   0%|          | 0/1 [00:00<?, ?it/s]\u001B[A\n",
      "Validation DataLoader 0: 100%|██████████| 1/1 [00:00<00:00, 64.84it/s]\u001B[A\n",
      "Epoch 15: 100%|██████████| 1/1 [00:00<00:00, 34.81it/s, v_num=51, train/loss_step=0.238, val/loss=0.834, val/error_u=0.803, val/error_v=0.988, val/error_h=0.523, val/loss_best=0.834, train/loss_epoch=0.249]\n",
      "Validation: |          | 0/? [00:00<?, ?it/s]\u001B[A\n",
      "Validation: |          | 0/? [00:00<?, ?it/s]\u001B[A\n",
      "Validation DataLoader 0:   0%|          | 0/1 [00:00<?, ?it/s]\u001B[A\n",
      "Validation DataLoader 0: 100%|██████████| 1/1 [00:00<00:00, 62.26it/s]\u001B[A\n",
      "Epoch 16: 100%|██████████| 1/1 [00:00<00:00, 33.68it/s, v_num=51, train/loss_step=0.214, val/loss=0.832, val/error_u=0.800, val/error_v=0.996, val/error_h=0.517, val/loss_best=0.832, train/loss_epoch=0.238]\n",
      "Validation: |          | 0/? [00:00<?, ?it/s]\u001B[A\n",
      "Validation: |          | 0/? [00:00<?, ?it/s]\u001B[A\n",
      "Validation DataLoader 0:   0%|          | 0/1 [00:00<?, ?it/s]\u001B[A\n",
      "Validation DataLoader 0: 100%|██████████| 1/1 [00:00<00:00, 70.88it/s]\u001B[A\n",
      "Epoch 17: 100%|██████████| 1/1 [00:00<00:00, 31.64it/s, v_num=51, train/loss_step=0.168, val/loss=0.832, val/error_u=0.798, val/error_v=1.010, val/error_h=0.509, val/loss_best=0.832, train/loss_epoch=0.214]\n",
      "Validation: |          | 0/? [00:00<?, ?it/s]\u001B[A\n",
      "Validation: |          | 0/? [00:00<?, ?it/s]\u001B[A\n",
      "Validation DataLoader 0:   0%|          | 0/1 [00:00<?, ?it/s]\u001B[A\n",
      "Validation DataLoader 0: 100%|██████████| 1/1 [00:00<00:00, 70.03it/s]\u001B[A\n",
      "Epoch 18: 100%|██████████| 1/1 [00:00<00:00, 33.77it/s, v_num=51, train/loss_step=0.127, val/loss=0.835, val/error_u=0.798, val/error_v=1.030, val/error_h=0.499, val/loss_best=0.832, train/loss_epoch=0.168]\n",
      "Validation: |          | 0/? [00:00<?, ?it/s]\u001B[A\n",
      "Validation: |          | 0/? [00:00<?, ?it/s]\u001B[A\n",
      "Validation DataLoader 0:   0%|          | 0/1 [00:00<?, ?it/s]\u001B[A\n",
      "Validation DataLoader 0: 100%|██████████| 1/1 [00:00<00:00, 66.38it/s]\u001B[A\n",
      "Epoch 19: 100%|██████████| 1/1 [00:00<00:00, 33.76it/s, v_num=51, train/loss_step=0.118, val/loss=0.842, val/error_u=0.801, val/error_v=1.040, val/error_h=0.491, val/loss_best=0.832, train/loss_epoch=0.127]\n",
      "Validation: |          | 0/? [00:00<?, ?it/s]\u001B[A\n",
      "Validation: |          | 0/? [00:00<?, ?it/s]\u001B[A\n",
      "Validation DataLoader 0:   0%|          | 0/1 [00:00<?, ?it/s]\u001B[A\n",
      "Validation DataLoader 0: 100%|██████████| 1/1 [00:00<00:00, 82.98it/s]\u001B[A\n",
      "Epoch 20: 100%|██████████| 1/1 [00:00<00:00, 33.20it/s, v_num=51, train/loss_step=0.133, val/loss=0.851, val/error_u=0.805, val/error_v=1.060, val/error_h=0.484, val/loss_best=0.832, train/loss_epoch=0.118]\n",
      "Validation: |          | 0/? [00:00<?, ?it/s]\u001B[A\n",
      "Validation: |          | 0/? [00:00<?, ?it/s]\u001B[A\n",
      "Validation DataLoader 0:   0%|          | 0/1 [00:00<?, ?it/s]\u001B[A\n",
      "Validation DataLoader 0: 100%|██████████| 1/1 [00:00<00:00, 51.32it/s]\u001B[A\n",
      "Epoch 21: 100%|██████████| 1/1 [00:00<00:00, 31.68it/s, v_num=51, train/loss_step=0.144, val/loss=0.855, val/error_u=0.808, val/error_v=1.080, val/error_h=0.475, val/loss_best=0.832, train/loss_epoch=0.133]\n",
      "Validation: |          | 0/? [00:00<?, ?it/s]\u001B[A\n",
      "Validation: |          | 0/? [00:00<?, ?it/s]\u001B[A\n",
      "Validation DataLoader 0:   0%|          | 0/1 [00:00<?, ?it/s]\u001B[A\n",
      "Validation DataLoader 0: 100%|██████████| 1/1 [00:00<00:00, 78.66it/s]\u001B[A\n",
      "Epoch 22: 100%|██████████| 1/1 [00:00<00:00, 30.34it/s, v_num=51, train/loss_step=0.147, val/loss=0.856, val/error_u=0.810, val/error_v=1.090, val/error_h=0.465, val/loss_best=0.832, train/loss_epoch=0.144]\n",
      "Validation: |          | 0/? [00:00<?, ?it/s]\u001B[A\n",
      "Validation: |          | 0/? [00:00<?, ?it/s]\u001B[A\n",
      "Validation DataLoader 0:   0%|          | 0/1 [00:00<?, ?it/s]\u001B[A\n",
      "Validation DataLoader 0: 100%|██████████| 1/1 [00:00<00:00, 71.97it/s]\u001B[A\n",
      "Epoch 23: 100%|██████████| 1/1 [00:00<00:00, 32.18it/s, v_num=51, train/loss_step=0.151, val/loss=0.858, val/error_u=0.811, val/error_v=1.090, val/error_h=0.458, val/loss_best=0.832, train/loss_epoch=0.147]\n",
      "Validation: |          | 0/? [00:00<?, ?it/s]\u001B[A\n",
      "Validation: |          | 0/? [00:00<?, ?it/s]\u001B[A\n",
      "Validation DataLoader 0:   0%|          | 0/1 [00:00<?, ?it/s]\u001B[A\n",
      "Validation DataLoader 0: 100%|██████████| 1/1 [00:00<00:00, 60.68it/s]\u001B[A\n",
      "Epoch 24: 100%|██████████| 1/1 [00:00<00:00, 30.57it/s, v_num=51, train/loss_step=0.156, val/loss=0.863, val/error_u=0.811, val/error_v=1.110, val/error_h=0.456, val/loss_best=0.832, train/loss_epoch=0.151]\n",
      "Validation: |          | 0/? [00:00<?, ?it/s]\u001B[A\n",
      "Validation: |          | 0/? [00:00<?, ?it/s]\u001B[A\n",
      "Validation DataLoader 0:   0%|          | 0/1 [00:00<?, ?it/s]\u001B[A\n",
      "Validation DataLoader 0: 100%|██████████| 1/1 [00:00<00:00, 65.37it/s]\u001B[A\n",
      "Epoch 25: 100%|██████████| 1/1 [00:00<00:00, 30.26it/s, v_num=51, train/loss_step=0.155, val/loss=0.870, val/error_u=0.809, val/error_v=1.120, val/error_h=0.456, val/loss_best=0.832, train/loss_epoch=0.156]\n",
      "Validation: |          | 0/? [00:00<?, ?it/s]\u001B[A\n",
      "Validation: |          | 0/? [00:00<?, ?it/s]\u001B[A\n",
      "Validation DataLoader 0:   0%|          | 0/1 [00:00<?, ?it/s]\u001B[A\n",
      "Validation DataLoader 0: 100%|██████████| 1/1 [00:00<00:00, 63.95it/s]\u001B[A\n",
      "Epoch 26: 100%|██████████| 1/1 [00:00<00:00, 19.92it/s, v_num=51, train/loss_step=0.147, val/loss=0.874, val/error_u=0.808, val/error_v=1.120, val/error_h=0.456, val/loss_best=0.832, train/loss_epoch=0.155]\n",
      "Validation: |          | 0/? [00:00<?, ?it/s]\u001B[A\n",
      "Validation: |          | 0/? [00:00<?, ?it/s]\u001B[A\n",
      "Validation DataLoader 0:   0%|          | 0/1 [00:00<?, ?it/s]\u001B[A\n",
      "Validation DataLoader 0: 100%|██████████| 1/1 [00:00<00:00, 39.18it/s]\u001B[A\n",
      "Epoch 27: 100%|██████████| 1/1 [00:00<00:00, 13.19it/s, v_num=51, train/loss_step=0.137, val/loss=0.873, val/error_u=0.806, val/error_v=1.130, val/error_h=0.455, val/loss_best=0.832, train/loss_epoch=0.147]\n",
      "Validation: |          | 0/? [00:00<?, ?it/s]\u001B[A\n",
      "Validation: |          | 0/? [00:00<?, ?it/s]\u001B[A\n",
      "Validation DataLoader 0:   0%|          | 0/1 [00:00<?, ?it/s]\u001B[A\n",
      "Validation DataLoader 0: 100%|██████████| 1/1 [00:00<00:00, 36.89it/s]\u001B[A\n",
      "Epoch 28: 100%|██████████| 1/1 [00:00<00:00, 12.47it/s, v_num=51, train/loss_step=0.129, val/loss=0.867, val/error_u=0.805, val/error_v=1.120, val/error_h=0.455, val/loss_best=0.832, train/loss_epoch=0.137]\n",
      "Validation: |          | 0/? [00:00<?, ?it/s]\u001B[A\n",
      "Validation: |          | 0/? [00:00<?, ?it/s]\u001B[A\n",
      "Validation DataLoader 0:   0%|          | 0/1 [00:00<?, ?it/s]\u001B[A\n",
      "Validation DataLoader 0: 100%|██████████| 1/1 [00:00<00:00, 34.11it/s]\u001B[A\n",
      "Epoch 29: 100%|██████████| 1/1 [00:00<00:00, 19.82it/s, v_num=51, train/loss_step=0.123, val/loss=0.857, val/error_u=0.806, val/error_v=1.100, val/error_h=0.456, val/loss_best=0.832, train/loss_epoch=0.129]\n",
      "Validation: |          | 0/? [00:00<?, ?it/s]\u001B[A\n",
      "Validation: |          | 0/? [00:00<?, ?it/s]\u001B[A\n",
      "Validation DataLoader 0:   0%|          | 0/1 [00:00<?, ?it/s]\u001B[A\n",
      "Validation DataLoader 0: 100%|██████████| 1/1 [00:00<00:00, 51.97it/s]\u001B[A\n",
      "Epoch 30: 100%|██████████| 1/1 [00:00<00:00, 24.59it/s, v_num=51, train/loss_step=0.115, val/loss=0.846, val/error_u=0.807, val/error_v=1.080, val/error_h=0.460, val/loss_best=0.832, train/loss_epoch=0.123]\n",
      "Validation: |          | 0/? [00:00<?, ?it/s]\u001B[A\n",
      "Validation: |          | 0/? [00:00<?, ?it/s]\u001B[A\n",
      "Validation DataLoader 0:   0%|          | 0/1 [00:00<?, ?it/s]\u001B[A\n",
      "Validation DataLoader 0: 100%|██████████| 1/1 [00:00<00:00, 61.81it/s]\u001B[A\n",
      "Epoch 31: 100%|██████████| 1/1 [00:00<00:00, 23.37it/s, v_num=51, train/loss_step=0.108, val/loss=0.837, val/error_u=0.808, val/error_v=1.060, val/error_h=0.466, val/loss_best=0.832, train/loss_epoch=0.115]\n",
      "Validation: |          | 0/? [00:00<?, ?it/s]\u001B[A\n",
      "Validation: |          | 0/? [00:00<?, ?it/s]\u001B[A\n",
      "Validation DataLoader 0:   0%|          | 0/1 [00:00<?, ?it/s]\u001B[A\n",
      "Validation DataLoader 0: 100%|██████████| 1/1 [00:00<00:00, 57.63it/s]\u001B[A\n",
      "Epoch 32: 100%|██████████| 1/1 [00:00<00:00, 28.70it/s, v_num=51, train/loss_step=0.107, val/loss=0.834, val/error_u=0.809, val/error_v=1.040, val/error_h=0.474, val/loss_best=0.832, train/loss_epoch=0.108]\n",
      "Validation: |          | 0/? [00:00<?, ?it/s]\u001B[A\n",
      "Validation: |          | 0/? [00:00<?, ?it/s]\u001B[A\n",
      "Validation DataLoader 0:   0%|          | 0/1 [00:00<?, ?it/s]\u001B[A\n",
      "Validation DataLoader 0: 100%|██████████| 1/1 [00:00<00:00, 64.62it/s]\u001B[A\n",
      "Epoch 33: 100%|██████████| 1/1 [00:00<00:00, 28.04it/s, v_num=51, train/loss_step=0.112, val/loss=0.835, val/error_u=0.810, val/error_v=1.030, val/error_h=0.483, val/loss_best=0.832, train/loss_epoch=0.107]\n",
      "Validation: |          | 0/? [00:00<?, ?it/s]\u001B[A\n",
      "Validation: |          | 0/? [00:00<?, ?it/s]\u001B[A\n",
      "Validation DataLoader 0:   0%|          | 0/1 [00:00<?, ?it/s]\u001B[A\n",
      "Validation DataLoader 0: 100%|██████████| 1/1 [00:00<00:00, 62.81it/s]\u001B[A\n",
      "Epoch 34: 100%|██████████| 1/1 [00:00<00:00, 25.19it/s, v_num=51, train/loss_step=0.116, val/loss=0.837, val/error_u=0.810, val/error_v=1.020, val/error_h=0.491, val/loss_best=0.832, train/loss_epoch=0.112]\n",
      "Validation: |          | 0/? [00:00<?, ?it/s]\u001B[A\n",
      "Validation: |          | 0/? [00:00<?, ?it/s]\u001B[A\n",
      "Validation DataLoader 0:   0%|          | 0/1 [00:00<?, ?it/s]\u001B[A\n",
      "Validation DataLoader 0: 100%|██████████| 1/1 [00:00<00:00, 65.83it/s]\u001B[A\n",
      "Epoch 35: 100%|██████████| 1/1 [00:00<00:00, 25.67it/s, v_num=51, train/loss_step=0.115, val/loss=0.838, val/error_u=0.810, val/error_v=1.020, val/error_h=0.496, val/loss_best=0.832, train/loss_epoch=0.116]\n",
      "Validation: |          | 0/? [00:00<?, ?it/s]\u001B[A\n",
      "Validation: |          | 0/? [00:00<?, ?it/s]\u001B[A\n",
      "Validation DataLoader 0:   0%|          | 0/1 [00:00<?, ?it/s]\u001B[A\n",
      "Validation DataLoader 0: 100%|██████████| 1/1 [00:00<00:00, 68.33it/s]\u001B[A\n",
      "Epoch 36: 100%|██████████| 1/1 [00:00<00:00, 25.25it/s, v_num=51, train/loss_step=0.114, val/loss=0.838, val/error_u=0.809, val/error_v=1.020, val/error_h=0.498, val/loss_best=0.832, train/loss_epoch=0.115]\n",
      "Validation: |          | 0/? [00:00<?, ?it/s]\u001B[A\n",
      "Validation: |          | 0/? [00:00<?, ?it/s]\u001B[A\n",
      "Validation DataLoader 0:   0%|          | 0/1 [00:00<?, ?it/s]\u001B[A\n",
      "Validation DataLoader 0: 100%|██████████| 1/1 [00:00<00:00, 74.62it/s]\u001B[A\n",
      "Epoch 37: 100%|██████████| 1/1 [00:00<00:00, 25.52it/s, v_num=51, train/loss_step=0.116, val/loss=0.836, val/error_u=0.808, val/error_v=1.020, val/error_h=0.497, val/loss_best=0.832, train/loss_epoch=0.114]\n",
      "Validation: |          | 0/? [00:00<?, ?it/s]\u001B[A\n",
      "Validation: |          | 0/? [00:00<?, ?it/s]\u001B[A\n",
      "Validation DataLoader 0:   0%|          | 0/1 [00:00<?, ?it/s]\u001B[A\n",
      "Validation DataLoader 0: 100%|██████████| 1/1 [00:00<00:00, 73.04it/s]\u001B[A\n",
      "Epoch 38: 100%|██████████| 1/1 [00:00<00:00, 27.39it/s, v_num=51, train/loss_step=0.116, val/loss=0.832, val/error_u=0.806, val/error_v=1.020, val/error_h=0.494, val/loss_best=0.832, train/loss_epoch=0.116]\n",
      "Validation: |          | 0/? [00:00<?, ?it/s]\u001B[A\n",
      "Validation: |          | 0/? [00:00<?, ?it/s]\u001B[A\n",
      "Validation DataLoader 0:   0%|          | 0/1 [00:00<?, ?it/s]\u001B[A\n",
      "Validation DataLoader 0: 100%|██████████| 1/1 [00:00<00:00, 71.86it/s]\u001B[A\n",
      "Epoch 39: 100%|██████████| 1/1 [00:00<00:00, 29.88it/s, v_num=51, train/loss_step=0.114, val/loss=0.828, val/error_u=0.804, val/error_v=1.020, val/error_h=0.489, val/loss_best=0.828, train/loss_epoch=0.116]\n",
      "Validation: |          | 0/? [00:00<?, ?it/s]\u001B[A\n",
      "Validation: |          | 0/? [00:00<?, ?it/s]\u001B[A\n",
      "Validation DataLoader 0:   0%|          | 0/1 [00:00<?, ?it/s]\u001B[A\n",
      "Validation DataLoader 0: 100%|██████████| 1/1 [00:00<00:00, 70.55it/s]\u001B[A\n",
      "Epoch 40: 100%|██████████| 1/1 [00:00<00:00, 27.37it/s, v_num=51, train/loss_step=0.111, val/loss=0.823, val/error_u=0.803, val/error_v=1.020, val/error_h=0.483, val/loss_best=0.823, train/loss_epoch=0.114]\n",
      "Validation: |          | 0/? [00:00<?, ?it/s]\u001B[A\n",
      "Validation: |          | 0/? [00:00<?, ?it/s]\u001B[A\n",
      "Validation DataLoader 0:   0%|          | 0/1 [00:00<?, ?it/s]\u001B[A\n",
      "Validation DataLoader 0: 100%|██████████| 1/1 [00:00<00:00, 61.79it/s]\u001B[A\n",
      "Epoch 41: 100%|██████████| 1/1 [00:00<00:00, 29.38it/s, v_num=51, train/loss_step=0.109, val/loss=0.821, val/error_u=0.802, val/error_v=1.020, val/error_h=0.478, val/loss_best=0.821, train/loss_epoch=0.111]\n",
      "Validation: |          | 0/? [00:00<?, ?it/s]\u001B[A\n",
      "Validation: |          | 0/? [00:00<?, ?it/s]\u001B[A\n",
      "Validation DataLoader 0:   0%|          | 0/1 [00:00<?, ?it/s]\u001B[A\n",
      "Validation DataLoader 0: 100%|██████████| 1/1 [00:00<00:00, 62.05it/s]\u001B[A\n",
      "Epoch 42: 100%|██████████| 1/1 [00:00<00:00, 28.88it/s, v_num=51, train/loss_step=0.108, val/loss=0.820, val/error_u=0.802, val/error_v=1.030, val/error_h=0.475, val/loss_best=0.820, train/loss_epoch=0.109]\n",
      "Validation: |          | 0/? [00:00<?, ?it/s]\u001B[A\n",
      "Validation: |          | 0/? [00:00<?, ?it/s]\u001B[A\n",
      "Validation DataLoader 0:   0%|          | 0/1 [00:00<?, ?it/s]\u001B[A\n",
      "Validation DataLoader 0: 100%|██████████| 1/1 [00:00<00:00, 63.45it/s]\u001B[A\n",
      "Epoch 43: 100%|██████████| 1/1 [00:00<00:00, 27.93it/s, v_num=51, train/loss_step=0.106, val/loss=0.821, val/error_u=0.801, val/error_v=1.030, val/error_h=0.472, val/loss_best=0.820, train/loss_epoch=0.108]\n",
      "Validation: |          | 0/? [00:00<?, ?it/s]\u001B[A\n",
      "Validation: |          | 0/? [00:00<?, ?it/s]\u001B[A\n",
      "Validation DataLoader 0:   0%|          | 0/1 [00:00<?, ?it/s]\u001B[A\n",
      "Validation DataLoader 0: 100%|██████████| 1/1 [00:00<00:00, 75.32it/s]\u001B[A\n",
      "Epoch 44: 100%|██████████| 1/1 [00:00<00:00, 27.18it/s, v_num=51, train/loss_step=0.102, val/loss=0.822, val/error_u=0.801, val/error_v=1.040, val/error_h=0.469, val/loss_best=0.820, train/loss_epoch=0.106]\n",
      "Validation: |          | 0/? [00:00<?, ?it/s]\u001B[A\n",
      "Validation: |          | 0/? [00:00<?, ?it/s]\u001B[A\n",
      "Validation DataLoader 0:   0%|          | 0/1 [00:00<?, ?it/s]\u001B[A\n",
      "Validation DataLoader 0: 100%|██████████| 1/1 [00:00<00:00, 66.88it/s]\u001B[A\n",
      "Epoch 45: 100%|██████████| 1/1 [00:00<00:00, 27.47it/s, v_num=51, train/loss_step=0.101, val/loss=0.825, val/error_u=0.801, val/error_v=1.050, val/error_h=0.467, val/loss_best=0.820, train/loss_epoch=0.102]\n",
      "Validation: |          | 0/? [00:00<?, ?it/s]\u001B[A\n",
      "Validation: |          | 0/? [00:00<?, ?it/s]\u001B[A\n",
      "Validation DataLoader 0:   0%|          | 0/1 [00:00<?, ?it/s]\u001B[A\n",
      "Validation DataLoader 0: 100%|██████████| 1/1 [00:00<00:00, 73.37it/s]\u001B[A\n",
      "Epoch 46: 100%|██████████| 1/1 [00:00<00:00, 30.08it/s, v_num=51, train/loss_step=0.101, val/loss=0.828, val/error_u=0.801, val/error_v=1.050, val/error_h=0.466, val/loss_best=0.820, train/loss_epoch=0.101]\n",
      "Validation: |          | 0/? [00:00<?, ?it/s]\u001B[A\n",
      "Validation: |          | 0/? [00:00<?, ?it/s]\u001B[A\n",
      "Validation DataLoader 0:   0%|          | 0/1 [00:00<?, ?it/s]\u001B[A\n",
      "Validation DataLoader 0: 100%|██████████| 1/1 [00:00<00:00, 69.92it/s]\u001B[A\n",
      "Epoch 47: 100%|██████████| 1/1 [00:00<00:00, 28.71it/s, v_num=51, train/loss_step=0.101, val/loss=0.830, val/error_u=0.801, val/error_v=1.060, val/error_h=0.464, val/loss_best=0.820, train/loss_epoch=0.101]\n",
      "Validation: |          | 0/? [00:00<?, ?it/s]\u001B[A\n",
      "Validation: |          | 0/? [00:00<?, ?it/s]\u001B[A\n",
      "Validation DataLoader 0:   0%|          | 0/1 [00:00<?, ?it/s]\u001B[A\n",
      "Validation DataLoader 0: 100%|██████████| 1/1 [00:00<00:00, 70.18it/s]\u001B[A\n",
      "Epoch 48: 100%|██████████| 1/1 [00:00<00:00, 27.63it/s, v_num=51, train/loss_step=0.100, val/loss=0.832, val/error_u=0.802, val/error_v=1.060, val/error_h=0.462, val/loss_best=0.820, train/loss_epoch=0.101]\n",
      "Validation: |          | 0/? [00:00<?, ?it/s]\u001B[A\n",
      "Validation: |          | 0/? [00:00<?, ?it/s]\u001B[A\n",
      "Validation DataLoader 0:   0%|          | 0/1 [00:00<?, ?it/s]\u001B[A\n",
      "Validation DataLoader 0: 100%|██████████| 1/1 [00:00<00:00, 70.41it/s]\u001B[A\n",
      "Epoch 49: 100%|██████████| 1/1 [00:00<00:00, 27.34it/s, v_num=51, train/loss_step=0.100, val/loss=0.834, val/error_u=0.802, val/error_v=1.070, val/error_h=0.460, val/loss_best=0.820, train/loss_epoch=0.100]\n",
      "Validation: |          | 0/? [00:00<?, ?it/s]\u001B[A\n",
      "Validation: |          | 0/? [00:00<?, ?it/s]\u001B[A\n",
      "Validation DataLoader 0:   0%|          | 0/1 [00:00<?, ?it/s]\u001B[A\n",
      "Validation DataLoader 0: 100%|██████████| 1/1 [00:00<00:00, 51.55it/s]\u001B[A\n",
      "Epoch 50: 100%|██████████| 1/1 [00:00<00:00, 24.79it/s, v_num=51, train/loss_step=0.100, val/loss=0.835, val/error_u=0.803, val/error_v=1.070, val/error_h=0.458, val/loss_best=0.820, train/loss_epoch=0.100]\n",
      "Validation: |          | 0/? [00:00<?, ?it/s]\u001B[A\n",
      "Validation: |          | 0/? [00:00<?, ?it/s]\u001B[A\n",
      "Validation DataLoader 0:   0%|          | 0/1 [00:00<?, ?it/s]\u001B[A\n",
      "Validation DataLoader 0: 100%|██████████| 1/1 [00:00<00:00, 65.86it/s]\u001B[A\n",
      "Epoch 51: 100%|██████████| 1/1 [00:00<00:00, 26.15it/s, v_num=51, train/loss_step=0.100, val/loss=0.837, val/error_u=0.804, val/error_v=1.070, val/error_h=0.457, val/loss_best=0.820, train/loss_epoch=0.100]\n",
      "Validation: |          | 0/? [00:00<?, ?it/s]\u001B[A\n",
      "Validation: |          | 0/? [00:00<?, ?it/s]\u001B[A\n",
      "Validation DataLoader 0:   0%|          | 0/1 [00:00<?, ?it/s]\u001B[A\n",
      "Validation DataLoader 0: 100%|██████████| 1/1 [00:00<00:00, 58.55it/s]\u001B[A\n",
      "Epoch 52: 100%|██████████| 1/1 [00:00<00:00, 27.07it/s, v_num=51, train/loss_step=0.099, val/loss=0.838, val/error_u=0.804, val/error_v=1.080, val/error_h=0.456, val/loss_best=0.820, train/loss_epoch=0.100]\n",
      "Validation: |          | 0/? [00:00<?, ?it/s]\u001B[A\n",
      "Validation: |          | 0/? [00:00<?, ?it/s]\u001B[A\n",
      "Validation DataLoader 0:   0%|          | 0/1 [00:00<?, ?it/s]\u001B[A\n",
      "Validation DataLoader 0: 100%|██████████| 1/1 [00:00<00:00, 55.52it/s]\u001B[A\n",
      "Epoch 53: 100%|██████████| 1/1 [00:00<00:00, 26.05it/s, v_num=51, train/loss_step=0.0981, val/loss=0.840, val/error_u=0.805, val/error_v=1.080, val/error_h=0.456, val/loss_best=0.820, train/loss_epoch=0.099]\n",
      "Validation: |          | 0/? [00:00<?, ?it/s]\u001B[A\n",
      "Validation: |          | 0/? [00:00<?, ?it/s]\u001B[A\n",
      "Validation DataLoader 0:   0%|          | 0/1 [00:00<?, ?it/s]\u001B[A\n",
      "Validation DataLoader 0: 100%|██████████| 1/1 [00:00<00:00, 62.99it/s]\u001B[A\n",
      "Epoch 54: 100%|██████████| 1/1 [00:00<00:00, 27.79it/s, v_num=51, train/loss_step=0.0978, val/loss=0.841, val/error_u=0.805, val/error_v=1.080, val/error_h=0.457, val/loss_best=0.820, train/loss_epoch=0.0981]\n",
      "Validation: |          | 0/? [00:00<?, ?it/s]\u001B[A\n",
      "Validation: |          | 0/? [00:00<?, ?it/s]\u001B[A\n",
      "Validation DataLoader 0:   0%|          | 0/1 [00:00<?, ?it/s]\u001B[A\n",
      "Validation DataLoader 0: 100%|██████████| 1/1 [00:00<00:00, 73.13it/s]\u001B[A\n",
      "Epoch 55: 100%|██████████| 1/1 [00:00<00:00, 28.99it/s, v_num=51, train/loss_step=0.0969, val/loss=0.842, val/error_u=0.806, val/error_v=1.080, val/error_h=0.458, val/loss_best=0.820, train/loss_epoch=0.0978]\n",
      "Validation: |          | 0/? [00:00<?, ?it/s]\u001B[A\n",
      "Validation: |          | 0/? [00:00<?, ?it/s]\u001B[A\n",
      "Validation DataLoader 0:   0%|          | 0/1 [00:00<?, ?it/s]\u001B[A\n",
      "Validation DataLoader 0: 100%|██████████| 1/1 [00:00<00:00, 68.30it/s]\u001B[A\n",
      "Epoch 56: 100%|██████████| 1/1 [00:00<00:00, 29.23it/s, v_num=51, train/loss_step=0.0959, val/loss=0.842, val/error_u=0.807, val/error_v=1.070, val/error_h=0.460, val/loss_best=0.820, train/loss_epoch=0.0969]\n",
      "Validation: |          | 0/? [00:00<?, ?it/s]\u001B[A\n",
      "Validation: |          | 0/? [00:00<?, ?it/s]\u001B[A\n",
      "Validation DataLoader 0:   0%|          | 0/1 [00:00<?, ?it/s]\u001B[A\n",
      "Validation DataLoader 0: 100%|██████████| 1/1 [00:00<00:00, 65.19it/s]\u001B[A\n",
      "Epoch 57: 100%|██████████| 1/1 [00:00<00:00, 26.06it/s, v_num=51, train/loss_step=0.0955, val/loss=0.841, val/error_u=0.807, val/error_v=1.070, val/error_h=0.462, val/loss_best=0.820, train/loss_epoch=0.0959]\n",
      "Validation: |          | 0/? [00:00<?, ?it/s]\u001B[A\n",
      "Validation: |          | 0/? [00:00<?, ?it/s]\u001B[A\n",
      "Validation DataLoader 0:   0%|          | 0/1 [00:00<?, ?it/s]\u001B[A\n",
      "Validation DataLoader 0: 100%|██████████| 1/1 [00:00<00:00, 76.66it/s]\u001B[A\n",
      "Epoch 58: 100%|██████████| 1/1 [00:00<00:00, 28.62it/s, v_num=51, train/loss_step=0.0955, val/loss=0.841, val/error_u=0.808, val/error_v=1.070, val/error_h=0.464, val/loss_best=0.820, train/loss_epoch=0.0955]\n",
      "Validation: |          | 0/? [00:00<?, ?it/s]\u001B[A\n",
      "Validation: |          | 0/? [00:00<?, ?it/s]\u001B[A\n",
      "Validation DataLoader 0:   0%|          | 0/1 [00:00<?, ?it/s]\u001B[A\n",
      "Validation DataLoader 0: 100%|██████████| 1/1 [00:00<00:00, 79.00it/s]\u001B[A\n",
      "Epoch 59: 100%|██████████| 1/1 [00:00<00:00, 24.36it/s, v_num=51, train/loss_step=0.0952, val/loss=0.840, val/error_u=0.808, val/error_v=1.060, val/error_h=0.464, val/loss_best=0.820, train/loss_epoch=0.0955]\n",
      "Validation: |          | 0/? [00:00<?, ?it/s]\u001B[A\n",
      "Validation: |          | 0/? [00:00<?, ?it/s]\u001B[A\n",
      "Validation DataLoader 0:   0%|          | 0/1 [00:00<?, ?it/s]\u001B[A\n",
      "Validation DataLoader 0: 100%|██████████| 1/1 [00:00<00:00, 69.48it/s]\u001B[A\n",
      "Epoch 60: 100%|██████████| 1/1 [00:00<00:00, 29.05it/s, v_num=51, train/loss_step=0.0948, val/loss=0.840, val/error_u=0.808, val/error_v=1.060, val/error_h=0.465, val/loss_best=0.820, train/loss_epoch=0.0952]\n",
      "Validation: |          | 0/? [00:00<?, ?it/s]\u001B[A\n",
      "Validation: |          | 0/? [00:00<?, ?it/s]\u001B[A\n",
      "Validation DataLoader 0:   0%|          | 0/1 [00:00<?, ?it/s]\u001B[A\n",
      "Validation DataLoader 0: 100%|██████████| 1/1 [00:00<00:00, 70.23it/s]\u001B[A\n",
      "Epoch 61: 100%|██████████| 1/1 [00:00<00:00, 26.53it/s, v_num=51, train/loss_step=0.0944, val/loss=0.839, val/error_u=0.808, val/error_v=1.060, val/error_h=0.464, val/loss_best=0.820, train/loss_epoch=0.0948]\n",
      "Validation: |          | 0/? [00:00<?, ?it/s]\u001B[A\n",
      "Validation: |          | 0/? [00:00<?, ?it/s]\u001B[A\n",
      "Validation DataLoader 0:   0%|          | 0/1 [00:00<?, ?it/s]\u001B[A\n",
      "Validation DataLoader 0: 100%|██████████| 1/1 [00:00<00:00, 74.02it/s]\u001B[A\n",
      "Epoch 62: 100%|██████████| 1/1 [00:00<00:00, 26.97it/s, v_num=51, train/loss_step=0.094, val/loss=0.839, val/error_u=0.808, val/error_v=1.060, val/error_h=0.464, val/loss_best=0.820, train/loss_epoch=0.0944] \n",
      "Validation: |          | 0/? [00:00<?, ?it/s]\u001B[A\n",
      "Validation: |          | 0/? [00:00<?, ?it/s]\u001B[A\n",
      "Validation DataLoader 0:   0%|          | 0/1 [00:00<?, ?it/s]\u001B[A\n",
      "Validation DataLoader 0: 100%|██████████| 1/1 [00:00<00:00, 79.65it/s]\u001B[A\n",
      "Epoch 63: 100%|██████████| 1/1 [00:00<00:00, 27.95it/s, v_num=51, train/loss_step=0.0934, val/loss=0.839, val/error_u=0.808, val/error_v=1.070, val/error_h=0.463, val/loss_best=0.820, train/loss_epoch=0.094]\n",
      "Validation: |          | 0/? [00:00<?, ?it/s]\u001B[A\n",
      "Validation: |          | 0/? [00:00<?, ?it/s]\u001B[A\n",
      "Validation DataLoader 0:   0%|          | 0/1 [00:00<?, ?it/s]\u001B[A\n",
      "Validation DataLoader 0: 100%|██████████| 1/1 [00:00<00:00, 71.31it/s]\u001B[A\n",
      "Epoch 64: 100%|██████████| 1/1 [00:00<00:00, 26.24it/s, v_num=51, train/loss_step=0.0928, val/loss=0.839, val/error_u=0.807, val/error_v=1.070, val/error_h=0.462, val/loss_best=0.820, train/loss_epoch=0.0934]\n",
      "Validation: |          | 0/? [00:00<?, ?it/s]\u001B[A\n",
      "Validation: |          | 0/? [00:00<?, ?it/s]\u001B[A\n",
      "Validation DataLoader 0:   0%|          | 0/1 [00:00<?, ?it/s]\u001B[A\n",
      "Validation DataLoader 0: 100%|██████████| 1/1 [00:00<00:00, 71.96it/s]\u001B[A\n",
      "Epoch 65: 100%|██████████| 1/1 [00:00<00:00, 28.13it/s, v_num=51, train/loss_step=0.0925, val/loss=0.839, val/error_u=0.807, val/error_v=1.070, val/error_h=0.460, val/loss_best=0.820, train/loss_epoch=0.0928]\n",
      "Validation: |          | 0/? [00:00<?, ?it/s]\u001B[A\n",
      "Validation: |          | 0/? [00:00<?, ?it/s]\u001B[A\n",
      "Validation DataLoader 0:   0%|          | 0/1 [00:00<?, ?it/s]\u001B[A\n",
      "Validation DataLoader 0: 100%|██████████| 1/1 [00:00<00:00, 69.55it/s]\u001B[A\n",
      "Epoch 66: 100%|██████████| 1/1 [00:00<00:00, 29.71it/s, v_num=51, train/loss_step=0.0921, val/loss=0.839, val/error_u=0.807, val/error_v=1.070, val/error_h=0.458, val/loss_best=0.820, train/loss_epoch=0.0925]\n",
      "Validation: |          | 0/? [00:00<?, ?it/s]\u001B[A\n",
      "Validation: |          | 0/? [00:00<?, ?it/s]\u001B[A\n",
      "Validation DataLoader 0:   0%|          | 0/1 [00:00<?, ?it/s]\u001B[A\n",
      "Validation DataLoader 0: 100%|██████████| 1/1 [00:00<00:00, 67.29it/s]\u001B[A\n",
      "Epoch 67: 100%|██████████| 1/1 [00:00<00:00, 29.00it/s, v_num=51, train/loss_step=0.0917, val/loss=0.839, val/error_u=0.807, val/error_v=1.070, val/error_h=0.456, val/loss_best=0.820, train/loss_epoch=0.0921]\n",
      "Validation: |          | 0/? [00:00<?, ?it/s]\u001B[A\n",
      "Validation: |          | 0/? [00:00<?, ?it/s]\u001B[A\n",
      "Validation DataLoader 0:   0%|          | 0/1 [00:00<?, ?it/s]\u001B[A\n",
      "Validation DataLoader 0: 100%|██████████| 1/1 [00:00<00:00, 68.80it/s]\u001B[A\n",
      "Epoch 68: 100%|██████████| 1/1 [00:00<00:00, 28.85it/s, v_num=51, train/loss_step=0.0915, val/loss=0.839, val/error_u=0.808, val/error_v=1.070, val/error_h=0.455, val/loss_best=0.820, train/loss_epoch=0.0917]\n",
      "Validation: |          | 0/? [00:00<?, ?it/s]\u001B[A\n",
      "Validation: |          | 0/? [00:00<?, ?it/s]\u001B[A\n",
      "Validation DataLoader 0:   0%|          | 0/1 [00:00<?, ?it/s]\u001B[A\n",
      "Validation DataLoader 0: 100%|██████████| 1/1 [00:00<00:00, 69.35it/s]\u001B[A\n",
      "Epoch 69: 100%|██████████| 1/1 [00:00<00:00, 28.63it/s, v_num=51, train/loss_step=0.0913, val/loss=0.840, val/error_u=0.808, val/error_v=1.080, val/error_h=0.453, val/loss_best=0.820, train/loss_epoch=0.0915]\n",
      "Validation: |          | 0/? [00:00<?, ?it/s]\u001B[A\n",
      "Validation: |          | 0/? [00:00<?, ?it/s]\u001B[A\n",
      "Validation DataLoader 0:   0%|          | 0/1 [00:00<?, ?it/s]\u001B[A\n",
      "Validation DataLoader 0: 100%|██████████| 1/1 [00:00<00:00, 72.00it/s]\u001B[A\n",
      "Epoch 70: 100%|██████████| 1/1 [00:00<00:00, 28.80it/s, v_num=51, train/loss_step=0.0911, val/loss=0.841, val/error_u=0.809, val/error_v=1.080, val/error_h=0.453, val/loss_best=0.820, train/loss_epoch=0.0913]\n",
      "Validation: |          | 0/? [00:00<?, ?it/s]\u001B[A\n",
      "Validation: |          | 0/? [00:00<?, ?it/s]\u001B[A\n",
      "Validation DataLoader 0:   0%|          | 0/1 [00:00<?, ?it/s]\u001B[A\n",
      "Validation DataLoader 0: 100%|██████████| 1/1 [00:00<00:00, 65.93it/s]\u001B[A\n",
      "Epoch 71: 100%|██████████| 1/1 [00:00<00:00, 27.58it/s, v_num=51, train/loss_step=0.0908, val/loss=0.843, val/error_u=0.809, val/error_v=1.080, val/error_h=0.453, val/loss_best=0.820, train/loss_epoch=0.0911]\n",
      "Validation: |          | 0/? [00:00<?, ?it/s]\u001B[A\n",
      "Validation: |          | 0/? [00:00<?, ?it/s]\u001B[A\n",
      "Validation DataLoader 0:   0%|          | 0/1 [00:00<?, ?it/s]\u001B[A\n",
      "Validation DataLoader 0: 100%|██████████| 1/1 [00:00<00:00, 83.93it/s]\u001B[A\n",
      "Epoch 72: 100%|██████████| 1/1 [00:00<00:00, 24.47it/s, v_num=51, train/loss_step=0.0904, val/loss=0.844, val/error_u=0.810, val/error_v=1.080, val/error_h=0.452, val/loss_best=0.820, train/loss_epoch=0.0908]\n",
      "Validation: |          | 0/? [00:00<?, ?it/s]\u001B[A\n",
      "Validation: |          | 0/? [00:00<?, ?it/s]\u001B[A\n",
      "Validation DataLoader 0:   0%|          | 0/1 [00:00<?, ?it/s]\u001B[A\n",
      "Validation DataLoader 0: 100%|██████████| 1/1 [00:00<00:00, 67.54it/s]\u001B[A\n",
      "Epoch 73: 100%|██████████| 1/1 [00:00<00:00, 27.22it/s, v_num=51, train/loss_step=0.0901, val/loss=0.845, val/error_u=0.810, val/error_v=1.080, val/error_h=0.452, val/loss_best=0.820, train/loss_epoch=0.0904]\n",
      "Validation: |          | 0/? [00:00<?, ?it/s]\u001B[A\n",
      "Validation: |          | 0/? [00:00<?, ?it/s]\u001B[A\n",
      "Validation DataLoader 0:   0%|          | 0/1 [00:00<?, ?it/s]\u001B[A\n",
      "Validation DataLoader 0: 100%|██████████| 1/1 [00:00<00:00, 70.32it/s]\u001B[A\n",
      "Epoch 74: 100%|██████████| 1/1 [00:00<00:00, 27.30it/s, v_num=51, train/loss_step=0.0896, val/loss=0.845, val/error_u=0.811, val/error_v=1.080, val/error_h=0.451, val/loss_best=0.820, train/loss_epoch=0.0901]\n",
      "Validation: |          | 0/? [00:00<?, ?it/s]\u001B[A\n",
      "Validation: |          | 0/? [00:00<?, ?it/s]\u001B[A\n",
      "Validation DataLoader 0:   0%|          | 0/1 [00:00<?, ?it/s]\u001B[A\n",
      "Validation DataLoader 0: 100%|██████████| 1/1 [00:00<00:00, 66.59it/s]\u001B[A\n",
      "Epoch 75: 100%|██████████| 1/1 [00:00<00:00, 27.42it/s, v_num=51, train/loss_step=0.0892, val/loss=0.846, val/error_u=0.812, val/error_v=1.080, val/error_h=0.451, val/loss_best=0.820, train/loss_epoch=0.0896]\n",
      "Validation: |          | 0/? [00:00<?, ?it/s]\u001B[A\n",
      "Validation: |          | 0/? [00:00<?, ?it/s]\u001B[A\n",
      "Validation DataLoader 0:   0%|          | 0/1 [00:00<?, ?it/s]\u001B[A\n",
      "Validation DataLoader 0: 100%|██████████| 1/1 [00:00<00:00, 73.12it/s]\u001B[A\n",
      "Epoch 76: 100%|██████████| 1/1 [00:00<00:00, 29.02it/s, v_num=51, train/loss_step=0.0889, val/loss=0.846, val/error_u=0.812, val/error_v=1.080, val/error_h=0.451, val/loss_best=0.820, train/loss_epoch=0.0892]\n",
      "Validation: |          | 0/? [00:00<?, ?it/s]\u001B[A\n",
      "Validation: |          | 0/? [00:00<?, ?it/s]\u001B[A\n",
      "Validation DataLoader 0:   0%|          | 0/1 [00:00<?, ?it/s]\u001B[A\n",
      "Validation DataLoader 0: 100%|██████████| 1/1 [00:00<00:00, 75.31it/s]\u001B[A\n",
      "Epoch 77: 100%|██████████| 1/1 [00:00<00:00, 25.35it/s, v_num=51, train/loss_step=0.0887, val/loss=0.847, val/error_u=0.813, val/error_v=1.080, val/error_h=0.451, val/loss_best=0.820, train/loss_epoch=0.0889]\n",
      "Validation: |          | 0/? [00:00<?, ?it/s]\u001B[A\n",
      "Validation: |          | 0/? [00:00<?, ?it/s]\u001B[A\n",
      "Validation DataLoader 0:   0%|          | 0/1 [00:00<?, ?it/s]\u001B[A\n",
      "Validation DataLoader 0: 100%|██████████| 1/1 [00:00<00:00, 67.20it/s]\u001B[A\n",
      "Epoch 78: 100%|██████████| 1/1 [00:00<00:00, 26.53it/s, v_num=51, train/loss_step=0.0884, val/loss=0.848, val/error_u=0.814, val/error_v=1.080, val/error_h=0.451, val/loss_best=0.820, train/loss_epoch=0.0887]\n",
      "Validation: |          | 0/? [00:00<?, ?it/s]\u001B[A\n",
      "Validation: |          | 0/? [00:00<?, ?it/s]\u001B[A\n",
      "Validation DataLoader 0:   0%|          | 0/1 [00:00<?, ?it/s]\u001B[A\n",
      "Validation DataLoader 0: 100%|██████████| 1/1 [00:00<00:00, 80.05it/s]\u001B[A\n",
      "Epoch 79: 100%|██████████| 1/1 [00:00<00:00, 28.93it/s, v_num=51, train/loss_step=0.0882, val/loss=0.849, val/error_u=0.815, val/error_v=1.080, val/error_h=0.452, val/loss_best=0.820, train/loss_epoch=0.0884]\n",
      "Validation: |          | 0/? [00:00<?, ?it/s]\u001B[A\n",
      "Validation: |          | 0/? [00:00<?, ?it/s]\u001B[A\n",
      "Validation DataLoader 0:   0%|          | 0/1 [00:00<?, ?it/s]\u001B[A\n",
      "Validation DataLoader 0: 100%|██████████| 1/1 [00:00<00:00, 68.38it/s]\u001B[A\n",
      "Epoch 80: 100%|██████████| 1/1 [00:00<00:00, 27.46it/s, v_num=51, train/loss_step=0.088, val/loss=0.850, val/error_u=0.815, val/error_v=1.090, val/error_h=0.452, val/loss_best=0.820, train/loss_epoch=0.0882] \n",
      "Validation: |          | 0/? [00:00<?, ?it/s]\u001B[A\n",
      "Validation: |          | 0/? [00:00<?, ?it/s]\u001B[A\n",
      "Validation DataLoader 0:   0%|          | 0/1 [00:00<?, ?it/s]\u001B[A\n",
      "Validation DataLoader 0: 100%|██████████| 1/1 [00:00<00:00, 70.24it/s]\u001B[A\n",
      "Epoch 81: 100%|██████████| 1/1 [00:00<00:00, 28.78it/s, v_num=51, train/loss_step=0.0878, val/loss=0.851, val/error_u=0.816, val/error_v=1.090, val/error_h=0.452, val/loss_best=0.820, train/loss_epoch=0.088]\n",
      "Validation: |          | 0/? [00:00<?, ?it/s]\u001B[A\n",
      "Validation: |          | 0/? [00:00<?, ?it/s]\u001B[A\n",
      "Validation DataLoader 0:   0%|          | 0/1 [00:00<?, ?it/s]\u001B[A\n",
      "Validation DataLoader 0: 100%|██████████| 1/1 [00:00<00:00, 76.02it/s]\u001B[A\n",
      "Epoch 82: 100%|██████████| 1/1 [00:00<00:00, 30.76it/s, v_num=51, train/loss_step=0.0874, val/loss=0.851, val/error_u=0.816, val/error_v=1.090, val/error_h=0.451, val/loss_best=0.820, train/loss_epoch=0.0878]\n",
      "Validation: |          | 0/? [00:00<?, ?it/s]\u001B[A\n",
      "Validation: |          | 0/? [00:00<?, ?it/s]\u001B[A\n",
      "Validation DataLoader 0:   0%|          | 0/1 [00:00<?, ?it/s]\u001B[A\n",
      "Validation DataLoader 0: 100%|██████████| 1/1 [00:00<00:00, 64.32it/s]\u001B[A\n",
      "Epoch 83: 100%|██████████| 1/1 [00:00<00:00, 28.53it/s, v_num=51, train/loss_step=0.0872, val/loss=0.851, val/error_u=0.816, val/error_v=1.090, val/error_h=0.450, val/loss_best=0.820, train/loss_epoch=0.0874]\n",
      "Validation: |          | 0/? [00:00<?, ?it/s]\u001B[A\n",
      "Validation: |          | 0/? [00:00<?, ?it/s]\u001B[A\n",
      "Validation DataLoader 0:   0%|          | 0/1 [00:00<?, ?it/s]\u001B[A\n",
      "Validation DataLoader 0: 100%|██████████| 1/1 [00:00<00:00, 89.02it/s]\u001B[A\n",
      "Epoch 84: 100%|██████████| 1/1 [00:00<00:00, 28.42it/s, v_num=51, train/loss_step=0.0868, val/loss=0.851, val/error_u=0.816, val/error_v=1.090, val/error_h=0.449, val/loss_best=0.820, train/loss_epoch=0.0872]\n",
      "Validation: |          | 0/? [00:00<?, ?it/s]\u001B[A\n",
      "Validation: |          | 0/? [00:00<?, ?it/s]\u001B[A\n",
      "Validation DataLoader 0:   0%|          | 0/1 [00:00<?, ?it/s]\u001B[A\n",
      "Validation DataLoader 0: 100%|██████████| 1/1 [00:00<00:00, 80.72it/s]\u001B[A\n",
      "Epoch 85: 100%|██████████| 1/1 [00:00<00:00, 28.22it/s, v_num=51, train/loss_step=0.0865, val/loss=0.852, val/error_u=0.817, val/error_v=1.090, val/error_h=0.448, val/loss_best=0.820, train/loss_epoch=0.0868]\n",
      "Validation: |          | 0/? [00:00<?, ?it/s]\u001B[A\n",
      "Validation: |          | 0/? [00:00<?, ?it/s]\u001B[A\n",
      "Validation DataLoader 0:   0%|          | 0/1 [00:00<?, ?it/s]\u001B[A\n",
      "Validation DataLoader 0: 100%|██████████| 1/1 [00:00<00:00, 82.54it/s]\u001B[A\n",
      "Epoch 86: 100%|██████████| 1/1 [00:00<00:00, 30.05it/s, v_num=51, train/loss_step=0.0863, val/loss=0.852, val/error_u=0.817, val/error_v=1.090, val/error_h=0.447, val/loss_best=0.820, train/loss_epoch=0.0865]\n",
      "Validation: |          | 0/? [00:00<?, ?it/s]\u001B[A\n",
      "Validation: |          | 0/? [00:00<?, ?it/s]\u001B[A\n",
      "Validation DataLoader 0:   0%|          | 0/1 [00:00<?, ?it/s]\u001B[A\n",
      "Validation DataLoader 0: 100%|██████████| 1/1 [00:00<00:00, 77.39it/s]\u001B[A\n",
      "Epoch 87: 100%|██████████| 1/1 [00:00<00:00, 28.15it/s, v_num=51, train/loss_step=0.0861, val/loss=0.853, val/error_u=0.817, val/error_v=1.090, val/error_h=0.447, val/loss_best=0.820, train/loss_epoch=0.0863]\n",
      "Validation: |          | 0/? [00:00<?, ?it/s]\u001B[A\n",
      "Validation: |          | 0/? [00:00<?, ?it/s]\u001B[A\n",
      "Validation DataLoader 0:   0%|          | 0/1 [00:00<?, ?it/s]\u001B[A\n",
      "Validation DataLoader 0: 100%|██████████| 1/1 [00:00<00:00, 89.46it/s]\u001B[A\n",
      "Epoch 88: 100%|██████████| 1/1 [00:00<00:00, 29.08it/s, v_num=51, train/loss_step=0.0858, val/loss=0.853, val/error_u=0.817, val/error_v=1.090, val/error_h=0.446, val/loss_best=0.820, train/loss_epoch=0.0861]\n",
      "Validation: |          | 0/? [00:00<?, ?it/s]\u001B[A\n",
      "Validation: |          | 0/? [00:00<?, ?it/s]\u001B[A\n",
      "Validation DataLoader 0:   0%|          | 0/1 [00:00<?, ?it/s]\u001B[A\n",
      "Validation DataLoader 0: 100%|██████████| 1/1 [00:00<00:00, 75.92it/s]\u001B[A\n",
      "Epoch 89: 100%|██████████| 1/1 [00:00<00:00, 26.81it/s, v_num=51, train/loss_step=0.0856, val/loss=0.854, val/error_u=0.817, val/error_v=1.090, val/error_h=0.446, val/loss_best=0.820, train/loss_epoch=0.0858]\n",
      "Validation: |          | 0/? [00:00<?, ?it/s]\u001B[A\n",
      "Validation: |          | 0/? [00:00<?, ?it/s]\u001B[A\n",
      "Validation DataLoader 0:   0%|          | 0/1 [00:00<?, ?it/s]\u001B[A\n",
      "Validation DataLoader 0: 100%|██████████| 1/1 [00:00<00:00, 80.63it/s]\u001B[A\n",
      "Epoch 90: 100%|██████████| 1/1 [00:00<00:00, 28.35it/s, v_num=51, train/loss_step=0.0854, val/loss=0.854, val/error_u=0.818, val/error_v=1.090, val/error_h=0.445, val/loss_best=0.820, train/loss_epoch=0.0856]\n",
      "Validation: |          | 0/? [00:00<?, ?it/s]\u001B[A\n",
      "Validation: |          | 0/? [00:00<?, ?it/s]\u001B[A\n",
      "Validation DataLoader 0:   0%|          | 0/1 [00:00<?, ?it/s]\u001B[A\n",
      "Validation DataLoader 0: 100%|██████████| 1/1 [00:00<00:00, 63.74it/s]\u001B[A\n",
      "Epoch 91: 100%|██████████| 1/1 [00:00<00:00, 28.16it/s, v_num=51, train/loss_step=0.0851, val/loss=0.854, val/error_u=0.818, val/error_v=1.090, val/error_h=0.445, val/loss_best=0.820, train/loss_epoch=0.0854]\n",
      "Validation: |          | 0/? [00:00<?, ?it/s]\u001B[A\n",
      "Validation: |          | 0/? [00:00<?, ?it/s]\u001B[A\n",
      "Validation DataLoader 0:   0%|          | 0/1 [00:00<?, ?it/s]\u001B[A\n",
      "Validation DataLoader 0: 100%|██████████| 1/1 [00:00<00:00, 77.46it/s]\u001B[A\n",
      "Epoch 92: 100%|██████████| 1/1 [00:00<00:00, 30.07it/s, v_num=51, train/loss_step=0.0849, val/loss=0.855, val/error_u=0.819, val/error_v=1.090, val/error_h=0.445, val/loss_best=0.820, train/loss_epoch=0.0851]\n",
      "Validation: |          | 0/? [00:00<?, ?it/s]\u001B[A\n",
      "Validation: |          | 0/? [00:00<?, ?it/s]\u001B[A\n",
      "Validation DataLoader 0:   0%|          | 0/1 [00:00<?, ?it/s]\u001B[A\n",
      "Validation DataLoader 0: 100%|██████████| 1/1 [00:00<00:00, 78.49it/s]\u001B[A\n",
      "Epoch 93: 100%|██████████| 1/1 [00:00<00:00, 30.36it/s, v_num=51, train/loss_step=0.0847, val/loss=0.855, val/error_u=0.819, val/error_v=1.100, val/error_h=0.445, val/loss_best=0.820, train/loss_epoch=0.0849]\n",
      "Validation: |          | 0/? [00:00<?, ?it/s]\u001B[A\n",
      "Validation: |          | 0/? [00:00<?, ?it/s]\u001B[A\n",
      "Validation DataLoader 0:   0%|          | 0/1 [00:00<?, ?it/s]\u001B[A\n",
      "Validation DataLoader 0: 100%|██████████| 1/1 [00:00<00:00, 66.90it/s]\u001B[A\n",
      "Epoch 94: 100%|██████████| 1/1 [00:00<00:00, 29.17it/s, v_num=51, train/loss_step=0.0844, val/loss=0.856, val/error_u=0.820, val/error_v=1.100, val/error_h=0.445, val/loss_best=0.820, train/loss_epoch=0.0847]\n",
      "Validation: |          | 0/? [00:00<?, ?it/s]\u001B[A\n",
      "Validation: |          | 0/? [00:00<?, ?it/s]\u001B[A\n",
      "Validation DataLoader 0:   0%|          | 0/1 [00:00<?, ?it/s]\u001B[A\n",
      "Validation DataLoader 0: 100%|██████████| 1/1 [00:00<00:00, 75.69it/s]\u001B[A\n",
      "Epoch 95: 100%|██████████| 1/1 [00:00<00:00, 30.85it/s, v_num=51, train/loss_step=0.0842, val/loss=0.857, val/error_u=0.820, val/error_v=1.100, val/error_h=0.445, val/loss_best=0.820, train/loss_epoch=0.0844]\n",
      "Validation: |          | 0/? [00:00<?, ?it/s]\u001B[A\n",
      "Validation: |          | 0/? [00:00<?, ?it/s]\u001B[A\n",
      "Validation DataLoader 0:   0%|          | 0/1 [00:00<?, ?it/s]\u001B[A\n",
      "Validation DataLoader 0: 100%|██████████| 1/1 [00:00<00:00, 70.85it/s]\u001B[A\n",
      "Epoch 96: 100%|██████████| 1/1 [00:00<00:00, 26.24it/s, v_num=51, train/loss_step=0.084, val/loss=0.858, val/error_u=0.821, val/error_v=1.100, val/error_h=0.444, val/loss_best=0.820, train/loss_epoch=0.0842] \n",
      "Validation: |          | 0/? [00:00<?, ?it/s]\u001B[A\n",
      "Validation: |          | 0/? [00:00<?, ?it/s]\u001B[A\n",
      "Validation DataLoader 0:   0%|          | 0/1 [00:00<?, ?it/s]\u001B[A\n",
      "Validation DataLoader 0: 100%|██████████| 1/1 [00:00<00:00, 77.72it/s]\u001B[A\n",
      "Epoch 97: 100%|██████████| 1/1 [00:00<00:00, 29.47it/s, v_num=51, train/loss_step=0.0838, val/loss=0.858, val/error_u=0.822, val/error_v=1.100, val/error_h=0.444, val/loss_best=0.820, train/loss_epoch=0.084]\n",
      "Validation: |          | 0/? [00:00<?, ?it/s]\u001B[A\n",
      "Validation: |          | 0/? [00:00<?, ?it/s]\u001B[A\n",
      "Validation DataLoader 0:   0%|          | 0/1 [00:00<?, ?it/s]\u001B[A\n",
      "Validation DataLoader 0: 100%|██████████| 1/1 [00:00<00:00, 80.42it/s]\u001B[A\n",
      "Epoch 98: 100%|██████████| 1/1 [00:00<00:00, 27.32it/s, v_num=51, train/loss_step=0.0836, val/loss=0.859, val/error_u=0.822, val/error_v=1.100, val/error_h=0.444, val/loss_best=0.820, train/loss_epoch=0.0838]\n",
      "Validation: |          | 0/? [00:00<?, ?it/s]\u001B[A\n",
      "Validation: |          | 0/? [00:00<?, ?it/s]\u001B[A\n",
      "Validation DataLoader 0:   0%|          | 0/1 [00:00<?, ?it/s]\u001B[A\n",
      "Validation DataLoader 0: 100%|██████████| 1/1 [00:00<00:00, 67.20it/s]\u001B[A\n",
      "Epoch 99: 100%|██████████| 1/1 [00:00<00:00, 30.13it/s, v_num=51, train/loss_step=0.0834, val/loss=0.860, val/error_u=0.823, val/error_v=1.100, val/error_h=0.443, val/loss_best=0.820, train/loss_epoch=0.0836]\n",
      "Validation: |          | 0/? [00:00<?, ?it/s]\u001B[A\n",
      "Validation: |          | 0/? [00:00<?, ?it/s]\u001B[A\n",
      "Validation DataLoader 0:   0%|          | 0/1 [00:00<?, ?it/s]\u001B[A\n",
      "Validation DataLoader 0: 100%|██████████| 1/1 [00:00<00:00, 67.42it/s]\u001B[A\n",
      "Epoch 99: 100%|██████████| 1/1 [00:00<00:00, 15.24it/s, v_num=51, train/loss_step=0.0834, val/loss=0.861, val/error_u=0.823, val/error_v=1.100, val/error_h=0.443, val/loss_best=0.820, train/loss_epoch=0.0834]"
     ]
    },
    {
     "name": "stderr",
     "output_type": "stream",
     "text": [
      "`Trainer.fit` stopped: `max_epochs=100` reached.\n"
     ]
    },
    {
     "name": "stdout",
     "output_type": "stream",
     "text": [
      "Epoch 99: 100%|██████████| 1/1 [00:00<00:00, 13.15it/s, v_num=51, train/loss_step=0.0834, val/loss=0.861, val/error_u=0.823, val/error_v=1.100, val/error_h=0.443, val/loss_best=0.820, train/loss_epoch=0.0834]\n",
      "Training time: 0.0h 0.0m 8.297220945358276s\n"
     ]
    }
   ],
   "execution_count": 27
  },
  {
   "metadata": {
    "ExecuteTime": {
     "end_time": "2025-09-17T20:07:54.842403Z",
     "start_time": "2025-09-17T20:07:54.746018Z"
    }
   },
   "cell_type": "code",
   "source": "trainer.validate(model=model, datamodule=datamodule)",
   "id": "6ed408a27bc2fe69",
   "outputs": [
    {
     "name": "stderr",
     "output_type": "stream",
     "text": [
      "LOCAL_RANK: 0 - CUDA_VISIBLE_DEVICES: [0]\n"
     ]
    },
    {
     "name": "stdout",
     "output_type": "stream",
     "text": [
      "Validation DataLoader 0: 100%|██████████| 1/1 [00:00<00:00, 15.78it/s]\n"
     ]
    },
    {
     "data": {
      "text/plain": [
       "┏━━━━━━━━━━━━━━━━━━━━━━━━━━━┳━━━━━━━━━━━━━━━━━━━━━━━━━━━┓\n",
       "┃\u001B[1m \u001B[0m\u001B[1m     Validate metric     \u001B[0m\u001B[1m \u001B[0m┃\u001B[1m \u001B[0m\u001B[1m      DataLoader 0       \u001B[0m\u001B[1m \u001B[0m┃\n",
       "┡━━━━━━━━━━━━━━━━━━━━━━━━━━━╇━━━━━━━━━━━━━━━━━━━━━━━━━━━┩\n",
       "│\u001B[36m \u001B[0m\u001B[36m       val/error_h       \u001B[0m\u001B[36m \u001B[0m│\u001B[35m \u001B[0m\u001B[35m   0.44276124238967896   \u001B[0m\u001B[35m \u001B[0m│\n",
       "│\u001B[36m \u001B[0m\u001B[36m       val/error_u       \u001B[0m\u001B[36m \u001B[0m│\u001B[35m \u001B[0m\u001B[35m   0.8234055638313293    \u001B[0m\u001B[35m \u001B[0m│\n",
       "│\u001B[36m \u001B[0m\u001B[36m       val/error_v       \u001B[0m\u001B[36m \u001B[0m│\u001B[35m \u001B[0m\u001B[35m    1.101403832435608    \u001B[0m\u001B[35m \u001B[0m│\n",
       "│\u001B[36m \u001B[0m\u001B[36m        val/loss         \u001B[0m\u001B[36m \u001B[0m│\u001B[35m \u001B[0m\u001B[35m   0.8611559271812439    \u001B[0m\u001B[35m \u001B[0m│\n",
       "│\u001B[36m \u001B[0m\u001B[36m      val/loss_best      \u001B[0m\u001B[36m \u001B[0m│\u001B[35m \u001B[0m\u001B[35m   0.8201337456703186    \u001B[0m\u001B[35m \u001B[0m│\n",
       "└───────────────────────────┴───────────────────────────┘\n"
      ],
      "text/html": [
       "<pre style=\"white-space:pre;overflow-x:auto;line-height:normal;font-family:Menlo,'DejaVu Sans Mono',consolas,'Courier New',monospace\">┏━━━━━━━━━━━━━━━━━━━━━━━━━━━┳━━━━━━━━━━━━━━━━━━━━━━━━━━━┓\n",
       "┃<span style=\"font-weight: bold\">      Validate metric      </span>┃<span style=\"font-weight: bold\">       DataLoader 0        </span>┃\n",
       "┡━━━━━━━━━━━━━━━━━━━━━━━━━━━╇━━━━━━━━━━━━━━━━━━━━━━━━━━━┩\n",
       "│<span style=\"color: #008080; text-decoration-color: #008080\">        val/error_h        </span>│<span style=\"color: #800080; text-decoration-color: #800080\">    0.44276124238967896    </span>│\n",
       "│<span style=\"color: #008080; text-decoration-color: #008080\">        val/error_u        </span>│<span style=\"color: #800080; text-decoration-color: #800080\">    0.8234055638313293     </span>│\n",
       "│<span style=\"color: #008080; text-decoration-color: #008080\">        val/error_v        </span>│<span style=\"color: #800080; text-decoration-color: #800080\">     1.101403832435608     </span>│\n",
       "│<span style=\"color: #008080; text-decoration-color: #008080\">         val/loss          </span>│<span style=\"color: #800080; text-decoration-color: #800080\">    0.8611559271812439     </span>│\n",
       "│<span style=\"color: #008080; text-decoration-color: #008080\">       val/loss_best       </span>│<span style=\"color: #800080; text-decoration-color: #800080\">    0.8201337456703186     </span>│\n",
       "└───────────────────────────┴───────────────────────────┘\n",
       "</pre>\n"
      ]
     },
     "metadata": {},
     "output_type": "display_data"
    },
    {
     "data": {
      "text/plain": [
       "[{'val/loss': 0.8611559271812439,\n",
       "  'val/error_u': 0.8234055638313293,\n",
       "  'val/error_v': 1.101403832435608,\n",
       "  'val/error_h': 0.44276124238967896,\n",
       "  'val/loss_best': 0.8201337456703186}]"
      ]
     },
     "execution_count": 28,
     "metadata": {},
     "output_type": "execute_result"
    }
   ],
   "execution_count": 28
  },
  {
   "metadata": {
    "ExecuteTime": {
     "end_time": "2025-09-17T20:07:57.746392Z",
     "start_time": "2025-09-17T20:07:57.671809Z"
    }
   },
   "cell_type": "code",
   "source": [
    "preds_list = trainer.predict(model=model, datamodule=datamodule)\n",
    "preds_dict = pinnstorch.utils.fix_predictions(preds_list)"
   ],
   "id": "b27ae0c64cff66e9",
   "outputs": [
    {
     "name": "stderr",
     "output_type": "stream",
     "text": [
      "LOCAL_RANK: 0 - CUDA_VISIBLE_DEVICES: [0]\n"
     ]
    },
    {
     "name": "stdout",
     "output_type": "stream",
     "text": [
      "Predicting DataLoader 0: 100%|██████████| 1/1 [00:00<00:00, 18.45it/s]\n"
     ]
    }
   ],
   "execution_count": 29
  },
  {
   "metadata": {
    "ExecuteTime": {
     "end_time": "2025-09-17T20:08:00.550493Z",
     "start_time": "2025-09-17T20:07:59.725674Z"
    }
   },
   "cell_type": "code",
   "source": [
    "pinnstorch.utils.plot_schrodinger(mesh=mesh,\n",
    "                                  preds=preds_dict,\n",
    "                                  train_datasets=train_datasets,\n",
    "                                  val_dataset=val_dataset,\n",
    "                                  file_name='out')"
   ],
   "id": "136934f985ff58a",
   "outputs": [
    {
     "data": {
      "text/plain": [
       "<Figure size 539.643x300.166 with 6 Axes>"
      ],
      "image/png": "[encoded data removed]"
     },
     "metadata": {},
     "output_type": "display_data"
    }
   ],
   "execution_count": 30
  },
  {
   "metadata": {
    "ExecuteTime": {
     "end_time": "2025-09-17T20:00:00.944134Z",
     "start_time": "2025-09-17T20:00:00.936908Z"
    }
   },
   "cell_type": "markdown",
   "source": [
    "##### ReLu\n",
    "\n",
    "The `Rectified Linear Unit` also known as `Relu` is another common activation. This activation is typically not utilized with PINNs\n",
    "\n",
    "![](https://www.aitude.com/wp-content/uploads/2020/08/relu-activation.png)\n"
   ],
   "id": "da2080b764bd873b"
  },
  {
   "metadata": {
    "ExecuteTime": {
     "end_time": "2025-09-17T20:10:48.131063Z",
     "start_time": "2025-09-17T20:10:48.119677Z"
    }
   },
   "cell_type": "code",
   "source": [
    "net_relu = pinnstorch.models.FCN(layers=layers,\n",
    "                            output_names=['u', 'v'],\n",
    "                            lb=mesh.lb,\n",
    "                            ub=mesh.ub,\n",
    "                            activation=\"RELU\",  # use registry\n",
    "                            activation_kwargs={},  # extra params\n",
    "                            initializer=\"XAVIER_UNIFORM\",  # use registry\n",
    "                            initializer_kwargs={},  # extra params\n",
    "                            layer_type='BASE',\n",
    "                            layer_kwargs={}\n",
    "                            )"
   ],
   "id": "a7b588b62aff44b9",
   "outputs": [],
   "execution_count": 32
  },
  {
   "metadata": {
    "ExecuteTime": {
     "end_time": "2025-09-17T20:10:52.884582Z",
     "start_time": "2025-09-17T20:10:52.874849Z"
    }
   },
   "cell_type": "code",
   "source": [
    "model = pinnstorch.models.PINNModule(net = net_relu,\n",
    "                                     pde_fn = pde_fn,\n",
    "                                     output_fn = output_fn,\n",
    "                                     loss_fn = 'mse')"
   ],
   "id": "a2f19ffe19a5a8",
   "outputs": [],
   "execution_count": 33
  },
  {
   "metadata": {
    "ExecuteTime": {
     "end_time": "2025-09-17T20:12:32.352525Z",
     "start_time": "2025-09-17T20:12:23.665040Z"
    }
   },
   "cell_type": "code",
   "source": [
    "trainer = pl.Trainer(accelerator='gpu', devices=1, max_epochs = num_epochs)\n",
    "start_time = time.time()\n",
    "\n",
    "trainer.fit(model=model, datamodule=datamodule)\n",
    "end_time = time.time()\n",
    "\n",
    "total_time = end_time - start_time\n",
    "hours = total_time // 3600\n",
    "minutes = (total_time % 3600) // 60\n",
    "seconds = total_time % 60\n",
    "\n",
    "print(f\"Training time: {hours}h {minutes}m {seconds}s\")"
   ],
   "id": "f7cc74830ac5896c",
   "outputs": [
    {
     "name": "stderr",
     "output_type": "stream",
     "text": [
      "LOCAL_RANK: 0 - CUDA_VISIBLE_DEVICES: [0]\n",
      "\n",
      "  | Name          | Type       | Params | Mode \n",
      "-----------------------------------------------------\n",
      "0 | net           | FCN        | 30.8 K | train\n",
      "1 | train_loss    | MeanMetric | 0      | train\n",
      "2 | val_loss      | MeanMetric | 0      | train\n",
      "3 | val_error     | MeanMetric | 0      | train\n",
      "4 | test_loss     | MeanMetric | 0      | train\n",
      "5 | test_error    | MeanMetric | 0      | train\n",
      "6 | val_loss_best | MinMetric  | 0      | train\n",
      "-----------------------------------------------------\n",
      "30.8 K    Trainable params\n",
      "0         Non-trainable params\n",
      "30.8 K    Total params\n",
      "0.123     Total estimated model params size (MB)\n",
      "23        Modules in train mode\n",
      "0         Modules in eval mode\n"
     ]
    },
    {
     "name": "stdout",
     "output_type": "stream",
     "text": [
      "                                                                           "
     ]
    },
    {
     "name": "stderr",
     "output_type": "stream",
     "text": [
      "C:\\Users\\micke\\anaconda3\\envs\\myenv\\lib\\site-packages\\lightning\\pytorch\\loops\\fit_loop.py:310: The number of training batches (1) is smaller than the logging interval Trainer(log_every_n_steps=50). Set a lower value for log_every_n_steps if you want to see logs for the training epoch.\n"
     ]
    },
    {
     "name": "stdout",
     "output_type": "stream",
     "text": [
      "Epoch 0:   0%|          | 0/1 [00:00<?, ?it/s]"
     ]
    },
    {
     "name": "stderr",
     "output_type": "stream",
     "text": [
      "C:\\Users\\micke\\anaconda3\\envs\\myenv\\lib\\site-packages\\torch\\jit\\_trace.py:165: UserWarning: The .grad attribute of a Tensor that is not a leaf Tensor is being accessed. Its .grad attribute won't be populated during autograd.backward(). If you indeed want the .grad field to be populated for a non-leaf Tensor, use .retain_grad() on the non-leaf Tensor. If you access the non-leaf Tensor by mistake, make sure you access the leaf Tensor instead. See github.com/pytorch/pytorch/pull/30531 for more informations. (Triggered internally at C:\\actions-runner\\_work\\pytorch\\pytorch\\pytorch\\build\\aten\\src\\ATen/core/TensorBody.h:494.)\n",
      "  if a.grad is not None:\n"
     ]
    },
    {
     "name": "stdout",
     "output_type": "stream",
     "text": [
      "Epoch 0: 100%|██████████| 1/1 [00:00<00:00,  1.19it/s, v_num=52, train/loss_step=1.270]\n",
      "Validation: |          | 0/? [00:00<?, ?it/s]\u001B[A\n",
      "Validation: |          | 0/? [00:00<?, ?it/s]\u001B[A\n",
      "Validation DataLoader 0:   0%|          | 0/1 [00:00<?, ?it/s]\u001B[A\n",
      "Validation DataLoader 0: 100%|██████████| 1/1 [00:00<00:00, 28.07it/s]\u001B[A\n",
      "Epoch 1: 100%|██████████| 1/1 [00:00<00:00,  7.48it/s, v_num=52, train/loss_step=0.970, val/loss=1.530, val/error_u=0.976, val/error_v=1.010, val/error_h=0.962, val/loss_best=1.530, train/loss_epoch=1.270]\n",
      "Validation: |          | 0/? [00:00<?, ?it/s]\u001B[A\n",
      "Validation: |          | 0/? [00:00<?, ?it/s]\u001B[A\n",
      "Validation DataLoader 0:   0%|          | 0/1 [00:00<?, ?it/s]\u001B[A\n",
      "Validation DataLoader 0: 100%|██████████| 1/1 [00:00<00:00, 54.47it/s]\u001B[A\n",
      "Epoch 2: 100%|██████████| 1/1 [00:00<00:00,  2.38it/s, v_num=52, train/loss_step=0.755, val/loss=1.350, val/error_u=0.900, val/error_v=1.030, val/error_h=0.881, val/loss_best=1.350, train/loss_epoch=0.970]\n",
      "Validation: |          | 0/? [00:00<?, ?it/s]\u001B[A\n",
      "Validation: |          | 0/? [00:00<?, ?it/s]\u001B[A\n",
      "Validation DataLoader 0:   0%|          | 0/1 [00:00<?, ?it/s]\u001B[A\n",
      "Validation DataLoader 0: 100%|██████████| 1/1 [00:00<00:00, 55.25it/s]\u001B[A\n",
      "Epoch 3: 100%|██████████| 1/1 [00:00<00:00, 13.56it/s, v_num=52, train/loss_step=0.617, val/loss=1.240, val/error_u=0.862, val/error_v=1.040, val/error_h=0.822, val/loss_best=1.240, train/loss_epoch=0.755]\n",
      "Validation: |          | 0/? [00:00<?, ?it/s]\u001B[A\n",
      "Validation: |          | 0/? [00:00<?, ?it/s]\u001B[A\n",
      "Validation DataLoader 0:   0%|          | 0/1 [00:00<?, ?it/s]\u001B[A\n",
      "Validation DataLoader 0: 100%|██████████| 1/1 [00:00<00:00, 60.13it/s]\u001B[A\n",
      "Epoch 4: 100%|██████████| 1/1 [00:00<00:00, 14.50it/s, v_num=52, train/loss_step=0.536, val/loss=1.180, val/error_u=0.855, val/error_v=1.040, val/error_h=0.782, val/loss_best=1.180, train/loss_epoch=0.617]\n",
      "Validation: |          | 0/? [00:00<?, ?it/s]\u001B[A\n",
      "Validation: |          | 0/? [00:00<?, ?it/s]\u001B[A\n",
      "Validation DataLoader 0:   0%|          | 0/1 [00:00<?, ?it/s]\u001B[A\n",
      "Validation DataLoader 0: 100%|██████████| 1/1 [00:00<00:00, 84.98it/s]\u001B[A\n",
      "Epoch 5: 100%|██████████| 1/1 [00:00<00:00, 49.38it/s, v_num=52, train/loss_step=0.505, val/loss=1.170, val/error_u=0.876, val/error_v=1.030, val/error_h=0.761, val/loss_best=1.170, train/loss_epoch=0.536]\n",
      "Validation: |          | 0/? [00:00<?, ?it/s]\u001B[A\n",
      "Validation: |          | 0/? [00:00<?, ?it/s]\u001B[A\n",
      "Validation DataLoader 0:   0%|          | 0/1 [00:00<?, ?it/s]\u001B[A\n",
      "Validation DataLoader 0: 100%|██████████| 1/1 [00:00<00:00, 94.71it/s]\u001B[A\n",
      "Epoch 6: 100%|██████████| 1/1 [00:00<00:00, 39.73it/s, v_num=52, train/loss_step=0.518, val/loss=1.190, val/error_u=0.915, val/error_v=1.020, val/error_h=0.757, val/loss_best=1.170, train/loss_epoch=0.505]\n",
      "Validation: |          | 0/? [00:00<?, ?it/s]\u001B[A\n",
      "Validation: |          | 0/? [00:00<?, ?it/s]\u001B[A\n",
      "Validation DataLoader 0:   0%|          | 0/1 [00:00<?, ?it/s]\u001B[A\n",
      "Validation DataLoader 0: 100%|██████████| 1/1 [00:00<00:00, 99.79it/s]\u001B[A\n",
      "Epoch 7: 100%|██████████| 1/1 [00:00<00:00, 46.27it/s, v_num=52, train/loss_step=0.547, val/loss=1.210, val/error_u=0.944, val/error_v=1.000, val/error_h=0.760, val/loss_best=1.170, train/loss_epoch=0.518]\n",
      "Validation: |          | 0/? [00:00<?, ?it/s]\u001B[A\n",
      "Validation: |          | 0/? [00:00<?, ?it/s]\u001B[A\n",
      "Validation DataLoader 0:   0%|          | 0/1 [00:00<?, ?it/s]\u001B[A\n",
      "Validation DataLoader 0: 100%|██████████| 1/1 [00:00<00:00, 76.79it/s]\u001B[A\n",
      "Epoch 8: 100%|██████████| 1/1 [00:00<00:00, 44.79it/s, v_num=52, train/loss_step=0.544, val/loss=1.200, val/error_u=0.945, val/error_v=0.990, val/error_h=0.760, val/loss_best=1.170, train/loss_epoch=0.547]\n",
      "Validation: |          | 0/? [00:00<?, ?it/s]\u001B[A\n",
      "Validation: |          | 0/? [00:00<?, ?it/s]\u001B[A\n",
      "Validation DataLoader 0:   0%|          | 0/1 [00:00<?, ?it/s]\u001B[A\n",
      "Validation DataLoader 0: 100%|██████████| 1/1 [00:00<00:00, 73.91it/s]\u001B[A\n",
      "Epoch 9: 100%|██████████| 1/1 [00:00<00:00, 44.51it/s, v_num=52, train/loss_step=0.515, val/loss=1.180, val/error_u=0.925, val/error_v=0.983, val/error_h=0.757, val/loss_best=1.170, train/loss_epoch=0.544]\n",
      "Validation: |          | 0/? [00:00<?, ?it/s]\u001B[A\n",
      "Validation: |          | 0/? [00:00<?, ?it/s]\u001B[A\n",
      "Validation DataLoader 0:   0%|          | 0/1 [00:00<?, ?it/s]\u001B[A\n",
      "Validation DataLoader 0: 100%|██████████| 1/1 [00:00<00:00, 53.50it/s]\u001B[A\n",
      "Epoch 10: 100%|██████████| 1/1 [00:00<00:00, 40.29it/s, v_num=52, train/loss_step=0.489, val/loss=1.150, val/error_u=0.898, val/error_v=0.979, val/error_h=0.756, val/loss_best=1.150, train/loss_epoch=0.515]\n",
      "Validation: |          | 0/? [00:00<?, ?it/s]\u001B[A\n",
      "Validation: |          | 0/? [00:00<?, ?it/s]\u001B[A\n",
      "Validation DataLoader 0:   0%|          | 0/1 [00:00<?, ?it/s]\u001B[A\n",
      "Validation DataLoader 0: 100%|██████████| 1/1 [00:00<00:00, 55.26it/s]\u001B[A\n",
      "Epoch 11: 100%|██████████| 1/1 [00:00<00:00, 41.32it/s, v_num=52, train/loss_step=0.479, val/loss=1.130, val/error_u=0.877, val/error_v=0.976, val/error_h=0.760, val/loss_best=1.130, train/loss_epoch=0.489]\n",
      "Validation: |          | 0/? [00:00<?, ?it/s]\u001B[A\n",
      "Validation: |          | 0/? [00:00<?, ?it/s]\u001B[A\n",
      "Validation DataLoader 0:   0%|          | 0/1 [00:00<?, ?it/s]\u001B[A\n",
      "Validation DataLoader 0: 100%|██████████| 1/1 [00:00<00:00, 62.01it/s]\u001B[A\n",
      "Epoch 12: 100%|██████████| 1/1 [00:00<00:00, 40.45it/s, v_num=52, train/loss_step=0.480, val/loss=1.130, val/error_u=0.864, val/error_v=0.975, val/error_h=0.767, val/loss_best=1.130, train/loss_epoch=0.479]\n",
      "Validation: |          | 0/? [00:00<?, ?it/s]\u001B[A\n",
      "Validation: |          | 0/? [00:00<?, ?it/s]\u001B[A\n",
      "Validation DataLoader 0:   0%|          | 0/1 [00:00<?, ?it/s]\u001B[A\n",
      "Validation DataLoader 0: 100%|██████████| 1/1 [00:00<00:00, 69.62it/s]\u001B[A\n",
      "Epoch 13: 100%|██████████| 1/1 [00:00<00:00, 41.59it/s, v_num=52, train/loss_step=0.482, val/loss=1.130, val/error_u=0.858, val/error_v=0.974, val/error_h=0.774, val/loss_best=1.130, train/loss_epoch=0.480]\n",
      "Validation: |          | 0/? [00:00<?, ?it/s]\u001B[A\n",
      "Validation: |          | 0/? [00:00<?, ?it/s]\u001B[A\n",
      "Validation DataLoader 0:   0%|          | 0/1 [00:00<?, ?it/s]\u001B[A\n",
      "Validation DataLoader 0: 100%|██████████| 1/1 [00:00<00:00, 61.93it/s]\u001B[A\n",
      "Epoch 14: 100%|██████████| 1/1 [00:00<00:00, 41.58it/s, v_num=52, train/loss_step=0.482, val/loss=1.130, val/error_u=0.855, val/error_v=0.973, val/error_h=0.777, val/loss_best=1.130, train/loss_epoch=0.482]\n",
      "Validation: |          | 0/? [00:00<?, ?it/s]\u001B[A\n",
      "Validation: |          | 0/? [00:00<?, ?it/s]\u001B[A\n",
      "Validation DataLoader 0:   0%|          | 0/1 [00:00<?, ?it/s]\u001B[A\n",
      "Validation DataLoader 0: 100%|██████████| 1/1 [00:00<00:00, 81.88it/s]\u001B[A\n",
      "Epoch 15: 100%|██████████| 1/1 [00:00<00:00, 42.18it/s, v_num=52, train/loss_step=0.476, val/loss=1.130, val/error_u=0.854, val/error_v=0.973, val/error_h=0.775, val/loss_best=1.130, train/loss_epoch=0.482]\n",
      "Validation: |          | 0/? [00:00<?, ?it/s]\u001B[A\n",
      "Validation: |          | 0/? [00:00<?, ?it/s]\u001B[A\n",
      "Validation DataLoader 0:   0%|          | 0/1 [00:00<?, ?it/s]\u001B[A\n",
      "Validation DataLoader 0: 100%|██████████| 1/1 [00:00<00:00, 73.15it/s]\u001B[A\n",
      "Epoch 16: 100%|██████████| 1/1 [00:00<00:00, 41.59it/s, v_num=52, train/loss_step=0.466, val/loss=1.120, val/error_u=0.856, val/error_v=0.975, val/error_h=0.768, val/loss_best=1.120, train/loss_epoch=0.476]\n",
      "Validation: |          | 0/? [00:00<?, ?it/s]\u001B[A\n",
      "Validation: |          | 0/? [00:00<?, ?it/s]\u001B[A\n",
      "Validation DataLoader 0:   0%|          | 0/1 [00:00<?, ?it/s]\u001B[A\n",
      "Validation DataLoader 0: 100%|██████████| 1/1 [00:00<00:00, 79.19it/s]\u001B[A\n",
      "Epoch 17: 100%|██████████| 1/1 [00:00<00:00, 41.82it/s, v_num=52, train/loss_step=0.454, val/loss=1.120, val/error_u=0.860, val/error_v=0.977, val/error_h=0.761, val/loss_best=1.120, train/loss_epoch=0.466]\n",
      "Validation: |          | 0/? [00:00<?, ?it/s]\u001B[A\n",
      "Validation: |          | 0/? [00:00<?, ?it/s]\u001B[A\n",
      "Validation DataLoader 0:   0%|          | 0/1 [00:00<?, ?it/s]\u001B[A\n",
      "Validation DataLoader 0: 100%|██████████| 1/1 [00:00<00:00, 58.63it/s]\u001B[A\n",
      "Epoch 18: 100%|██████████| 1/1 [00:00<00:00, 38.05it/s, v_num=52, train/loss_step=0.444, val/loss=1.120, val/error_u=0.868, val/error_v=0.978, val/error_h=0.754, val/loss_best=1.120, train/loss_epoch=0.454]\n",
      "Validation: |          | 0/? [00:00<?, ?it/s]\u001B[A\n",
      "Validation: |          | 0/? [00:00<?, ?it/s]\u001B[A\n",
      "Validation DataLoader 0:   0%|          | 0/1 [00:00<?, ?it/s]\u001B[A\n",
      "Validation DataLoader 0: 100%|██████████| 1/1 [00:00<00:00, 79.77it/s]\u001B[A\n",
      "Epoch 19: 100%|██████████| 1/1 [00:00<00:00, 43.59it/s, v_num=52, train/loss_step=0.438, val/loss=1.120, val/error_u=0.878, val/error_v=0.979, val/error_h=0.748, val/loss_best=1.120, train/loss_epoch=0.444]\n",
      "Validation: |          | 0/? [00:00<?, ?it/s]\u001B[A\n",
      "Validation: |          | 0/? [00:00<?, ?it/s]\u001B[A\n",
      "Validation DataLoader 0:   0%|          | 0/1 [00:00<?, ?it/s]\u001B[A\n",
      "Validation DataLoader 0: 100%|██████████| 1/1 [00:00<00:00, 88.20it/s]\u001B[A\n",
      "Epoch 20: 100%|██████████| 1/1 [00:00<00:00, 42.23it/s, v_num=52, train/loss_step=0.434, val/loss=1.130, val/error_u=0.889, val/error_v=0.979, val/error_h=0.745, val/loss_best=1.120, train/loss_epoch=0.438]\n",
      "Validation: |          | 0/? [00:00<?, ?it/s]\u001B[A\n",
      "Validation: |          | 0/? [00:00<?, ?it/s]\u001B[A\n",
      "Validation DataLoader 0:   0%|          | 0/1 [00:00<?, ?it/s]\u001B[A\n",
      "Validation DataLoader 0: 100%|██████████| 1/1 [00:00<00:00, 90.53it/s]\u001B[A\n",
      "Epoch 21: 100%|██████████| 1/1 [00:00<00:00, 41.15it/s, v_num=52, train/loss_step=0.433, val/loss=1.130, val/error_u=0.898, val/error_v=0.978, val/error_h=0.743, val/loss_best=1.120, train/loss_epoch=0.434]\n",
      "Validation: |          | 0/? [00:00<?, ?it/s]\u001B[A\n",
      "Validation: |          | 0/? [00:00<?, ?it/s]\u001B[A\n",
      "Validation DataLoader 0:   0%|          | 0/1 [00:00<?, ?it/s]\u001B[A\n",
      "Validation DataLoader 0: 100%|██████████| 1/1 [00:00<00:00, 72.63it/s]\u001B[A\n",
      "Epoch 22: 100%|██████████| 1/1 [00:00<00:00, 37.73it/s, v_num=52, train/loss_step=0.430, val/loss=1.130, val/error_u=0.902, val/error_v=0.978, val/error_h=0.741, val/loss_best=1.120, train/loss_epoch=0.433]\n",
      "Validation: |          | 0/? [00:00<?, ?it/s]\u001B[A\n",
      "Validation: |          | 0/? [00:00<?, ?it/s]\u001B[A\n",
      "Validation DataLoader 0:   0%|          | 0/1 [00:00<?, ?it/s]\u001B[A\n",
      "Validation DataLoader 0: 100%|██████████| 1/1 [00:00<00:00, 67.47it/s]\u001B[A\n",
      "Epoch 23: 100%|██████████| 1/1 [00:00<00:00, 38.81it/s, v_num=52, train/loss_step=0.426, val/loss=1.130, val/error_u=0.902, val/error_v=0.978, val/error_h=0.739, val/loss_best=1.120, train/loss_epoch=0.430]\n",
      "Validation: |          | 0/? [00:00<?, ?it/s]\u001B[A\n",
      "Validation: |          | 0/? [00:00<?, ?it/s]\u001B[A\n",
      "Validation DataLoader 0:   0%|          | 0/1 [00:00<?, ?it/s]\u001B[A\n",
      "Validation DataLoader 0: 100%|██████████| 1/1 [00:00<00:00, 62.14it/s]\u001B[A\n",
      "Epoch 24: 100%|██████████| 1/1 [00:00<00:00, 36.28it/s, v_num=52, train/loss_step=0.420, val/loss=1.120, val/error_u=0.897, val/error_v=0.978, val/error_h=0.736, val/loss_best=1.120, train/loss_epoch=0.426]\n",
      "Validation: |          | 0/? [00:00<?, ?it/s]\u001B[A\n",
      "Validation: |          | 0/? [00:00<?, ?it/s]\u001B[A\n",
      "Validation DataLoader 0:   0%|          | 0/1 [00:00<?, ?it/s]\u001B[A\n",
      "Validation DataLoader 0: 100%|██████████| 1/1 [00:00<00:00, 67.50it/s]\u001B[A\n",
      "Epoch 25: 100%|██████████| 1/1 [00:00<00:00, 38.43it/s, v_num=52, train/loss_step=0.414, val/loss=1.110, val/error_u=0.889, val/error_v=0.978, val/error_h=0.734, val/loss_best=1.110, train/loss_epoch=0.420]\n",
      "Validation: |          | 0/? [00:00<?, ?it/s]\u001B[A\n",
      "Validation: |          | 0/? [00:00<?, ?it/s]\u001B[A\n",
      "Validation DataLoader 0:   0%|          | 0/1 [00:00<?, ?it/s]\u001B[A\n",
      "Validation DataLoader 0: 100%|██████████| 1/1 [00:00<00:00, 70.03it/s]\u001B[A\n",
      "Epoch 26: 100%|██████████| 1/1 [00:00<00:00, 37.63it/s, v_num=52, train/loss_step=0.408, val/loss=1.100, val/error_u=0.880, val/error_v=0.979, val/error_h=0.732, val/loss_best=1.100, train/loss_epoch=0.414]\n",
      "Validation: |          | 0/? [00:00<?, ?it/s]\u001B[A\n",
      "Validation: |          | 0/? [00:00<?, ?it/s]\u001B[A\n",
      "Validation DataLoader 0:   0%|          | 0/1 [00:00<?, ?it/s]\u001B[A\n",
      "Validation DataLoader 0: 100%|██████████| 1/1 [00:00<00:00, 68.36it/s]\u001B[A\n",
      "Epoch 27: 100%|██████████| 1/1 [00:00<00:00, 31.13it/s, v_num=52, train/loss_step=0.405, val/loss=1.100, val/error_u=0.872, val/error_v=0.979, val/error_h=0.731, val/loss_best=1.100, train/loss_epoch=0.408]\n",
      "Validation: |          | 0/? [00:00<?, ?it/s]\u001B[A\n",
      "Validation: |          | 0/? [00:00<?, ?it/s]\u001B[A\n",
      "Validation DataLoader 0:   0%|          | 0/1 [00:00<?, ?it/s]\u001B[A\n",
      "Validation DataLoader 0: 100%|██████████| 1/1 [00:00<00:00, 56.80it/s]\u001B[A\n",
      "Epoch 28: 100%|██████████| 1/1 [00:00<00:00, 37.65it/s, v_num=52, train/loss_step=0.402, val/loss=1.090, val/error_u=0.866, val/error_v=0.980, val/error_h=0.730, val/loss_best=1.090, train/loss_epoch=0.405]\n",
      "Validation: |          | 0/? [00:00<?, ?it/s]\u001B[A\n",
      "Validation: |          | 0/? [00:00<?, ?it/s]\u001B[A\n",
      "Validation DataLoader 0:   0%|          | 0/1 [00:00<?, ?it/s]\u001B[A\n",
      "Validation DataLoader 0: 100%|██████████| 1/1 [00:00<00:00, 62.92it/s]\u001B[A\n",
      "Epoch 29: 100%|██████████| 1/1 [00:00<00:00, 32.23it/s, v_num=52, train/loss_step=0.400, val/loss=1.090, val/error_u=0.863, val/error_v=0.982, val/error_h=0.729, val/loss_best=1.090, train/loss_epoch=0.402]\n",
      "Validation: |          | 0/? [00:00<?, ?it/s]\u001B[A\n",
      "Validation: |          | 0/? [00:00<?, ?it/s]\u001B[A\n",
      "Validation DataLoader 0:   0%|          | 0/1 [00:00<?, ?it/s]\u001B[A\n",
      "Validation DataLoader 0: 100%|██████████| 1/1 [00:00<00:00, 53.40it/s]\u001B[A\n",
      "Epoch 30: 100%|██████████| 1/1 [00:00<00:00, 39.78it/s, v_num=52, train/loss_step=0.397, val/loss=1.090, val/error_u=0.862, val/error_v=0.983, val/error_h=0.728, val/loss_best=1.090, train/loss_epoch=0.400]\n",
      "Validation: |          | 0/? [00:00<?, ?it/s]\u001B[A\n",
      "Validation: |          | 0/? [00:00<?, ?it/s]\u001B[A\n",
      "Validation DataLoader 0:   0%|          | 0/1 [00:00<?, ?it/s]\u001B[A\n",
      "Validation DataLoader 0: 100%|██████████| 1/1 [00:00<00:00, 71.30it/s]\u001B[A\n",
      "Epoch 31: 100%|██████████| 1/1 [00:00<00:00, 36.90it/s, v_num=52, train/loss_step=0.392, val/loss=1.090, val/error_u=0.864, val/error_v=0.984, val/error_h=0.726, val/loss_best=1.090, train/loss_epoch=0.397]\n",
      "Validation: |          | 0/? [00:00<?, ?it/s]\u001B[A\n",
      "Validation: |          | 0/? [00:00<?, ?it/s]\u001B[A\n",
      "Validation DataLoader 0:   0%|          | 0/1 [00:00<?, ?it/s]\u001B[A\n",
      "Validation DataLoader 0: 100%|██████████| 1/1 [00:00<00:00, 70.41it/s]\u001B[A\n",
      "Epoch 32: 100%|██████████| 1/1 [00:00<00:00, 35.69it/s, v_num=52, train/loss_step=0.387, val/loss=1.090, val/error_u=0.869, val/error_v=0.985, val/error_h=0.724, val/loss_best=1.090, train/loss_epoch=0.392]\n",
      "Validation: |          | 0/? [00:00<?, ?it/s]\u001B[A\n",
      "Validation: |          | 0/? [00:00<?, ?it/s]\u001B[A\n",
      "Validation DataLoader 0:   0%|          | 0/1 [00:00<?, ?it/s]\u001B[A\n",
      "Validation DataLoader 0: 100%|██████████| 1/1 [00:00<00:00, 68.90it/s]\u001B[A\n",
      "Epoch 33: 100%|██████████| 1/1 [00:00<00:00, 31.79it/s, v_num=52, train/loss_step=0.382, val/loss=1.090, val/error_u=0.875, val/error_v=0.986, val/error_h=0.722, val/loss_best=1.090, train/loss_epoch=0.387]\n",
      "Validation: |          | 0/? [00:00<?, ?it/s]\u001B[A\n",
      "Validation: |          | 0/? [00:00<?, ?it/s]\u001B[A\n",
      "Validation DataLoader 0:   0%|          | 0/1 [00:00<?, ?it/s]\u001B[A\n",
      "Validation DataLoader 0: 100%|██████████| 1/1 [00:00<00:00, 72.55it/s]\u001B[A\n",
      "Epoch 34: 100%|██████████| 1/1 [00:00<00:00, 34.48it/s, v_num=52, train/loss_step=0.378, val/loss=1.100, val/error_u=0.881, val/error_v=0.987, val/error_h=0.720, val/loss_best=1.090, train/loss_epoch=0.382]\n",
      "Validation: |          | 0/? [00:00<?, ?it/s]\u001B[A\n",
      "Validation: |          | 0/? [00:00<?, ?it/s]\u001B[A\n",
      "Validation DataLoader 0:   0%|          | 0/1 [00:00<?, ?it/s]\u001B[A\n",
      "Validation DataLoader 0: 100%|██████████| 1/1 [00:00<00:00, 58.86it/s]\u001B[A\n",
      "Epoch 35: 100%|██████████| 1/1 [00:00<00:00, 36.81it/s, v_num=52, train/loss_step=0.375, val/loss=1.100, val/error_u=0.887, val/error_v=0.988, val/error_h=0.719, val/loss_best=1.090, train/loss_epoch=0.378]\n",
      "Validation: |          | 0/? [00:00<?, ?it/s]\u001B[A\n",
      "Validation: |          | 0/? [00:00<?, ?it/s]\u001B[A\n",
      "Validation DataLoader 0:   0%|          | 0/1 [00:00<?, ?it/s]\u001B[A\n",
      "Validation DataLoader 0: 100%|██████████| 1/1 [00:00<00:00, 70.67it/s]\u001B[A\n",
      "Epoch 36: 100%|██████████| 1/1 [00:00<00:00, 36.79it/s, v_num=52, train/loss_step=0.371, val/loss=1.100, val/error_u=0.889, val/error_v=0.989, val/error_h=0.718, val/loss_best=1.090, train/loss_epoch=0.375]\n",
      "Validation: |          | 0/? [00:00<?, ?it/s]\u001B[A\n",
      "Validation: |          | 0/? [00:00<?, ?it/s]\u001B[A\n",
      "Validation DataLoader 0:   0%|          | 0/1 [00:00<?, ?it/s]\u001B[A\n",
      "Validation DataLoader 0: 100%|██████████| 1/1 [00:00<00:00, 70.47it/s]\u001B[A\n",
      "Epoch 37: 100%|██████████| 1/1 [00:00<00:00, 34.41it/s, v_num=52, train/loss_step=0.366, val/loss=1.100, val/error_u=0.888, val/error_v=0.990, val/error_h=0.716, val/loss_best=1.090, train/loss_epoch=0.371]\n",
      "Validation: |          | 0/? [00:00<?, ?it/s]\u001B[A\n",
      "Validation: |          | 0/? [00:00<?, ?it/s]\u001B[A\n",
      "Validation DataLoader 0:   0%|          | 0/1 [00:00<?, ?it/s]\u001B[A\n",
      "Validation DataLoader 0: 100%|██████████| 1/1 [00:00<00:00, 65.29it/s]\u001B[A\n",
      "Epoch 38: 100%|██████████| 1/1 [00:00<00:00, 32.35it/s, v_num=52, train/loss_step=0.361, val/loss=1.090, val/error_u=0.883, val/error_v=0.992, val/error_h=0.714, val/loss_best=1.090, train/loss_epoch=0.366]\n",
      "Validation: |          | 0/? [00:00<?, ?it/s]\u001B[A\n",
      "Validation: |          | 0/? [00:00<?, ?it/s]\u001B[A\n",
      "Validation DataLoader 0:   0%|          | 0/1 [00:00<?, ?it/s]\u001B[A\n",
      "Validation DataLoader 0: 100%|██████████| 1/1 [00:00<00:00, 65.29it/s]\u001B[A\n",
      "Epoch 39: 100%|██████████| 1/1 [00:00<00:00, 36.99it/s, v_num=52, train/loss_step=0.356, val/loss=1.080, val/error_u=0.876, val/error_v=0.993, val/error_h=0.711, val/loss_best=1.080, train/loss_epoch=0.361]\n",
      "Validation: |          | 0/? [00:00<?, ?it/s]\u001B[A\n",
      "Validation: |          | 0/? [00:00<?, ?it/s]\u001B[A\n",
      "Validation DataLoader 0:   0%|          | 0/1 [00:00<?, ?it/s]\u001B[A\n",
      "Validation DataLoader 0: 100%|██████████| 1/1 [00:00<00:00, 68.44it/s]\u001B[A\n",
      "Epoch 40: 100%|██████████| 1/1 [00:00<00:00, 29.31it/s, v_num=52, train/loss_step=0.351, val/loss=1.080, val/error_u=0.870, val/error_v=0.994, val/error_h=0.709, val/loss_best=1.080, train/loss_epoch=0.356]\n",
      "Validation: |          | 0/? [00:00<?, ?it/s]\u001B[A\n",
      "Validation: |          | 0/? [00:00<?, ?it/s]\u001B[A\n",
      "Validation DataLoader 0:   0%|          | 0/1 [00:00<?, ?it/s]\u001B[A\n",
      "Validation DataLoader 0: 100%|██████████| 1/1 [00:00<00:00, 70.99it/s]\u001B[A\n",
      "Epoch 41: 100%|██████████| 1/1 [00:00<00:00, 35.06it/s, v_num=52, train/loss_step=0.347, val/loss=1.070, val/error_u=0.865, val/error_v=0.995, val/error_h=0.706, val/loss_best=1.070, train/loss_epoch=0.351]\n",
      "Validation: |          | 0/? [00:00<?, ?it/s]\u001B[A\n",
      "Validation: |          | 0/? [00:00<?, ?it/s]\u001B[A\n",
      "Validation DataLoader 0:   0%|          | 0/1 [00:00<?, ?it/s]\u001B[A\n",
      "Validation DataLoader 0: 100%|██████████| 1/1 [00:00<00:00, 68.44it/s]\u001B[A\n",
      "Epoch 42: 100%|██████████| 1/1 [00:00<00:00, 32.50it/s, v_num=52, train/loss_step=0.342, val/loss=1.070, val/error_u=0.862, val/error_v=0.996, val/error_h=0.704, val/loss_best=1.070, train/loss_epoch=0.347]\n",
      "Validation: |          | 0/? [00:00<?, ?it/s]\u001B[A\n",
      "Validation: |          | 0/? [00:00<?, ?it/s]\u001B[A\n",
      "Validation DataLoader 0:   0%|          | 0/1 [00:00<?, ?it/s]\u001B[A\n",
      "Validation DataLoader 0: 100%|██████████| 1/1 [00:00<00:00, 63.36it/s]\u001B[A\n",
      "Epoch 43: 100%|██████████| 1/1 [00:00<00:00, 35.06it/s, v_num=52, train/loss_step=0.337, val/loss=1.060, val/error_u=0.862, val/error_v=0.997, val/error_h=0.701, val/loss_best=1.060, train/loss_epoch=0.342]\n",
      "Validation: |          | 0/? [00:00<?, ?it/s]\u001B[A\n",
      "Validation: |          | 0/? [00:00<?, ?it/s]\u001B[A\n",
      "Validation DataLoader 0:   0%|          | 0/1 [00:00<?, ?it/s]\u001B[A\n",
      "Validation DataLoader 0: 100%|██████████| 1/1 [00:00<00:00, 69.33it/s]\u001B[A\n",
      "Epoch 44: 100%|██████████| 1/1 [00:00<00:00, 35.06it/s, v_num=52, train/loss_step=0.331, val/loss=1.060, val/error_u=0.863, val/error_v=0.999, val/error_h=0.698, val/loss_best=1.060, train/loss_epoch=0.337]\n",
      "Validation: |          | 0/? [00:00<?, ?it/s]\u001B[A\n",
      "Validation: |          | 0/? [00:00<?, ?it/s]\u001B[A\n",
      "Validation DataLoader 0:   0%|          | 0/1 [00:00<?, ?it/s]\u001B[A\n",
      "Validation DataLoader 0: 100%|██████████| 1/1 [00:00<00:00, 69.58it/s]\u001B[A\n",
      "Epoch 45: 100%|██████████| 1/1 [00:00<00:00, 32.17it/s, v_num=52, train/loss_step=0.326, val/loss=1.060, val/error_u=0.865, val/error_v=1.000, val/error_h=0.696, val/loss_best=1.060, train/loss_epoch=0.331]\n",
      "Validation: |          | 0/? [00:00<?, ?it/s]\u001B[A\n",
      "Validation: |          | 0/? [00:00<?, ?it/s]\u001B[A\n",
      "Validation DataLoader 0:   0%|          | 0/1 [00:00<?, ?it/s]\u001B[A\n",
      "Validation DataLoader 0: 100%|██████████| 1/1 [00:00<00:00, 61.16it/s]\u001B[A\n",
      "Epoch 46: 100%|██████████| 1/1 [00:00<00:00, 37.02it/s, v_num=52, train/loss_step=0.321, val/loss=1.060, val/error_u=0.866, val/error_v=1.000, val/error_h=0.693, val/loss_best=1.060, train/loss_epoch=0.326]\n",
      "Validation: |          | 0/? [00:00<?, ?it/s]\u001B[A\n",
      "Validation: |          | 0/? [00:00<?, ?it/s]\u001B[A\n",
      "Validation DataLoader 0:   0%|          | 0/1 [00:00<?, ?it/s]\u001B[A\n",
      "Validation DataLoader 0: 100%|██████████| 1/1 [00:00<00:00, 70.22it/s]\u001B[A\n",
      "Epoch 47: 100%|██████████| 1/1 [00:00<00:00, 28.85it/s, v_num=52, train/loss_step=0.316, val/loss=1.060, val/error_u=0.866, val/error_v=1.000, val/error_h=0.690, val/loss_best=1.060, train/loss_epoch=0.321]\n",
      "Validation: |          | 0/? [00:00<?, ?it/s]\u001B[A\n",
      "Validation: |          | 0/? [00:00<?, ?it/s]\u001B[A\n",
      "Validation DataLoader 0:   0%|          | 0/1 [00:00<?, ?it/s]\u001B[A\n",
      "Validation DataLoader 0: 100%|██████████| 1/1 [00:00<00:00, 70.76it/s]\u001B[A\n",
      "Epoch 48: 100%|██████████| 1/1 [00:00<00:00, 36.34it/s, v_num=52, train/loss_step=0.309, val/loss=1.050, val/error_u=0.864, val/error_v=1.000, val/error_h=0.687, val/loss_best=1.050, train/loss_epoch=0.316]\n",
      "Validation: |          | 0/? [00:00<?, ?it/s]\u001B[A\n",
      "Validation: |          | 0/? [00:00<?, ?it/s]\u001B[A\n",
      "Validation DataLoader 0:   0%|          | 0/1 [00:00<?, ?it/s]\u001B[A\n",
      "Validation DataLoader 0: 100%|██████████| 1/1 [00:00<00:00, 75.11it/s]\u001B[A\n",
      "Epoch 49: 100%|██████████| 1/1 [00:00<00:00, 34.81it/s, v_num=52, train/loss_step=0.303, val/loss=1.050, val/error_u=0.859, val/error_v=1.000, val/error_h=0.683, val/loss_best=1.050, train/loss_epoch=0.309]\n",
      "Validation: |          | 0/? [00:00<?, ?it/s]\u001B[A\n",
      "Validation: |          | 0/? [00:00<?, ?it/s]\u001B[A\n",
      "Validation DataLoader 0:   0%|          | 0/1 [00:00<?, ?it/s]\u001B[A\n",
      "Validation DataLoader 0: 100%|██████████| 1/1 [00:00<00:00, 72.85it/s]\u001B[A\n",
      "Epoch 50: 100%|██████████| 1/1 [00:00<00:00, 33.77it/s, v_num=52, train/loss_step=0.297, val/loss=1.040, val/error_u=0.854, val/error_v=1.000, val/error_h=0.679, val/loss_best=1.040, train/loss_epoch=0.303]\n",
      "Validation: |          | 0/? [00:00<?, ?it/s]\u001B[A\n",
      "Validation: |          | 0/? [00:00<?, ?it/s]\u001B[A\n",
      "Validation DataLoader 0:   0%|          | 0/1 [00:00<?, ?it/s]\u001B[A\n",
      "Validation DataLoader 0: 100%|██████████| 1/1 [00:00<00:00, 71.26it/s]\u001B[A\n",
      "Epoch 51: 100%|██████████| 1/1 [00:00<00:00, 35.33it/s, v_num=52, train/loss_step=0.291, val/loss=1.030, val/error_u=0.849, val/error_v=1.000, val/error_h=0.675, val/loss_best=1.030, train/loss_epoch=0.297]\n",
      "Validation: |          | 0/? [00:00<?, ?it/s]\u001B[A\n",
      "Validation: |          | 0/? [00:00<?, ?it/s]\u001B[A\n",
      "Validation DataLoader 0:   0%|          | 0/1 [00:00<?, ?it/s]\u001B[A\n",
      "Validation DataLoader 0: 100%|██████████| 1/1 [00:00<00:00, 76.49it/s]\u001B[A\n",
      "Epoch 52: 100%|██████████| 1/1 [00:00<00:00, 33.31it/s, v_num=52, train/loss_step=0.285, val/loss=1.020, val/error_u=0.845, val/error_v=1.000, val/error_h=0.671, val/loss_best=1.020, train/loss_epoch=0.291]\n",
      "Validation: |          | 0/? [00:00<?, ?it/s]\u001B[A\n",
      "Validation: |          | 0/? [00:00<?, ?it/s]\u001B[A\n",
      "Validation DataLoader 0:   0%|          | 0/1 [00:00<?, ?it/s]\u001B[A\n",
      "Validation DataLoader 0: 100%|██████████| 1/1 [00:00<00:00, 59.19it/s]\u001B[A\n",
      "Epoch 53: 100%|██████████| 1/1 [00:00<00:00, 32.33it/s, v_num=52, train/loss_step=0.281, val/loss=1.010, val/error_u=0.842, val/error_v=1.000, val/error_h=0.667, val/loss_best=1.010, train/loss_epoch=0.285]\n",
      "Validation: |          | 0/? [00:00<?, ?it/s]\u001B[A\n",
      "Validation: |          | 0/? [00:00<?, ?it/s]\u001B[A\n",
      "Validation DataLoader 0:   0%|          | 0/1 [00:00<?, ?it/s]\u001B[A\n",
      "Validation DataLoader 0: 100%|██████████| 1/1 [00:00<00:00, 74.62it/s]\u001B[A\n",
      "Epoch 54: 100%|██████████| 1/1 [00:00<00:00, 33.46it/s, v_num=52, train/loss_step=0.276, val/loss=1.010, val/error_u=0.840, val/error_v=1.010, val/error_h=0.664, val/loss_best=1.010, train/loss_epoch=0.281]\n",
      "Validation: |          | 0/? [00:00<?, ?it/s]\u001B[A\n",
      "Validation: |          | 0/? [00:00<?, ?it/s]\u001B[A\n",
      "Validation DataLoader 0:   0%|          | 0/1 [00:00<?, ?it/s]\u001B[A\n",
      "Validation DataLoader 0: 100%|██████████| 1/1 [00:00<00:00, 54.36it/s]\u001B[A\n",
      "Epoch 55: 100%|██████████| 1/1 [00:00<00:00, 32.97it/s, v_num=52, train/loss_step=0.271, val/loss=1.010, val/error_u=0.839, val/error_v=1.010, val/error_h=0.660, val/loss_best=1.010, train/loss_epoch=0.276]\n",
      "Validation: |          | 0/? [00:00<?, ?it/s]\u001B[A\n",
      "Validation: |          | 0/? [00:00<?, ?it/s]\u001B[A\n",
      "Validation DataLoader 0:   0%|          | 0/1 [00:00<?, ?it/s]\u001B[A\n",
      "Validation DataLoader 0: 100%|██████████| 1/1 [00:00<00:00, 66.93it/s]\u001B[A\n",
      "Epoch 56: 100%|██████████| 1/1 [00:00<00:00, 34.29it/s, v_num=52, train/loss_step=0.267, val/loss=1.000, val/error_u=0.839, val/error_v=1.010, val/error_h=0.657, val/loss_best=1.000, train/loss_epoch=0.271]\n",
      "Validation: |          | 0/? [00:00<?, ?it/s]\u001B[A\n",
      "Validation: |          | 0/? [00:00<?, ?it/s]\u001B[A\n",
      "Validation DataLoader 0:   0%|          | 0/1 [00:00<?, ?it/s]\u001B[A\n",
      "Validation DataLoader 0: 100%|██████████| 1/1 [00:00<00:00, 60.09it/s]\u001B[A\n",
      "Epoch 57: 100%|██████████| 1/1 [00:00<00:00, 35.29it/s, v_num=52, train/loss_step=0.263, val/loss=0.998, val/error_u=0.837, val/error_v=1.010, val/error_h=0.654, val/loss_best=0.998, train/loss_epoch=0.267]\n",
      "Validation: |          | 0/? [00:00<?, ?it/s]\u001B[A\n",
      "Validation: |          | 0/? [00:00<?, ?it/s]\u001B[A\n",
      "Validation DataLoader 0:   0%|          | 0/1 [00:00<?, ?it/s]\u001B[A\n",
      "Validation DataLoader 0: 100%|██████████| 1/1 [00:00<00:00, 65.07it/s]\u001B[A\n",
      "Epoch 58: 100%|██████████| 1/1 [00:00<00:00, 37.02it/s, v_num=52, train/loss_step=0.259, val/loss=0.993, val/error_u=0.834, val/error_v=1.010, val/error_h=0.651, val/loss_best=0.993, train/loss_epoch=0.263]\n",
      "Validation: |          | 0/? [00:00<?, ?it/s]\u001B[A\n",
      "Validation: |          | 0/? [00:00<?, ?it/s]\u001B[A\n",
      "Validation DataLoader 0:   0%|          | 0/1 [00:00<?, ?it/s]\u001B[A\n",
      "Validation DataLoader 0: 100%|██████████| 1/1 [00:00<00:00, 75.56it/s]\u001B[A\n",
      "Epoch 59: 100%|██████████| 1/1 [00:00<00:00, 36.62it/s, v_num=52, train/loss_step=0.254, val/loss=0.987, val/error_u=0.830, val/error_v=1.010, val/error_h=0.647, val/loss_best=0.987, train/loss_epoch=0.259]\n",
      "Validation: |          | 0/? [00:00<?, ?it/s]\u001B[A\n",
      "Validation: |          | 0/? [00:00<?, ?it/s]\u001B[A\n",
      "Validation DataLoader 0:   0%|          | 0/1 [00:00<?, ?it/s]\u001B[A\n",
      "Validation DataLoader 0: 100%|██████████| 1/1 [00:00<00:00, 73.58it/s]\u001B[A\n",
      "Epoch 60: 100%|██████████| 1/1 [00:00<00:00, 36.74it/s, v_num=52, train/loss_step=0.250, val/loss=0.980, val/error_u=0.825, val/error_v=1.010, val/error_h=0.644, val/loss_best=0.980, train/loss_epoch=0.254]\n",
      "Validation: |          | 0/? [00:00<?, ?it/s]\u001B[A\n",
      "Validation: |          | 0/? [00:00<?, ?it/s]\u001B[A\n",
      "Validation DataLoader 0:   0%|          | 0/1 [00:00<?, ?it/s]\u001B[A\n",
      "Validation DataLoader 0: 100%|██████████| 1/1 [00:00<00:00, 66.20it/s]\u001B[A\n",
      "Epoch 61: 100%|██████████| 1/1 [00:00<00:00, 30.54it/s, v_num=52, train/loss_step=0.247, val/loss=0.973, val/error_u=0.821, val/error_v=1.010, val/error_h=0.641, val/loss_best=0.973, train/loss_epoch=0.250]\n",
      "Validation: |          | 0/? [00:00<?, ?it/s]\u001B[A\n",
      "Validation: |          | 0/? [00:00<?, ?it/s]\u001B[A\n",
      "Validation DataLoader 0:   0%|          | 0/1 [00:00<?, ?it/s]\u001B[A\n",
      "Validation DataLoader 0: 100%|██████████| 1/1 [00:00<00:00, 73.98it/s]\u001B[A\n",
      "Epoch 62: 100%|██████████| 1/1 [00:00<00:00, 29.68it/s, v_num=52, train/loss_step=0.243, val/loss=0.967, val/error_u=0.818, val/error_v=1.010, val/error_h=0.637, val/loss_best=0.967, train/loss_epoch=0.247]\n",
      "Validation: |          | 0/? [00:00<?, ?it/s]\u001B[A\n",
      "Validation: |          | 0/? [00:00<?, ?it/s]\u001B[A\n",
      "Validation DataLoader 0:   0%|          | 0/1 [00:00<?, ?it/s]\u001B[A\n",
      "Validation DataLoader 0: 100%|██████████| 1/1 [00:00<00:00, 65.53it/s]\u001B[A\n",
      "Epoch 63: 100%|██████████| 1/1 [00:00<00:00, 31.59it/s, v_num=52, train/loss_step=0.240, val/loss=0.962, val/error_u=0.816, val/error_v=1.010, val/error_h=0.633, val/loss_best=0.962, train/loss_epoch=0.243]\n",
      "Validation: |          | 0/? [00:00<?, ?it/s]\u001B[A\n",
      "Validation: |          | 0/? [00:00<?, ?it/s]\u001B[A\n",
      "Validation DataLoader 0:   0%|          | 0/1 [00:00<?, ?it/s]\u001B[A\n",
      "Validation DataLoader 0: 100%|██████████| 1/1 [00:00<00:00, 71.26it/s]\u001B[A\n",
      "Epoch 64: 100%|██████████| 1/1 [00:00<00:00, 31.17it/s, v_num=52, train/loss_step=0.238, val/loss=0.958, val/error_u=0.815, val/error_v=1.010, val/error_h=0.630, val/loss_best=0.958, train/loss_epoch=0.240]\n",
      "Validation: |          | 0/? [00:00<?, ?it/s]\u001B[A\n",
      "Validation: |          | 0/? [00:00<?, ?it/s]\u001B[A\n",
      "Validation DataLoader 0:   0%|          | 0/1 [00:00<?, ?it/s]\u001B[A\n",
      "Validation DataLoader 0: 100%|██████████| 1/1 [00:00<00:00, 79.42it/s]\u001B[A\n",
      "Epoch 65: 100%|██████████| 1/1 [00:00<00:00, 29.34it/s, v_num=52, train/loss_step=0.236, val/loss=0.955, val/error_u=0.814, val/error_v=1.010, val/error_h=0.627, val/loss_best=0.955, train/loss_epoch=0.238]\n",
      "Validation: |          | 0/? [00:00<?, ?it/s]\u001B[A\n",
      "Validation: |          | 0/? [00:00<?, ?it/s]\u001B[A\n",
      "Validation DataLoader 0:   0%|          | 0/1 [00:00<?, ?it/s]\u001B[A\n",
      "Validation DataLoader 0: 100%|██████████| 1/1 [00:00<00:00, 68.61it/s]\u001B[A\n",
      "Epoch 66: 100%|██████████| 1/1 [00:00<00:00, 33.66it/s, v_num=52, train/loss_step=0.233, val/loss=0.951, val/error_u=0.812, val/error_v=1.020, val/error_h=0.624, val/loss_best=0.951, train/loss_epoch=0.236]\n",
      "Validation: |          | 0/? [00:00<?, ?it/s]\u001B[A\n",
      "Validation: |          | 0/? [00:00<?, ?it/s]\u001B[A\n",
      "Validation DataLoader 0:   0%|          | 0/1 [00:00<?, ?it/s]\u001B[A\n",
      "Validation DataLoader 0: 100%|██████████| 1/1 [00:00<00:00, 78.23it/s]\u001B[A\n",
      "Epoch 67: 100%|██████████| 1/1 [00:00<00:00, 35.71it/s, v_num=52, train/loss_step=0.231, val/loss=0.948, val/error_u=0.810, val/error_v=1.020, val/error_h=0.621, val/loss_best=0.948, train/loss_epoch=0.233]\n",
      "Validation: |          | 0/? [00:00<?, ?it/s]\u001B[A\n",
      "Validation: |          | 0/? [00:00<?, ?it/s]\u001B[A\n",
      "Validation DataLoader 0:   0%|          | 0/1 [00:00<?, ?it/s]\u001B[A\n",
      "Validation DataLoader 0: 100%|██████████| 1/1 [00:00<00:00, 65.99it/s]\u001B[A\n",
      "Epoch 68: 100%|██████████| 1/1 [00:00<00:00, 33.70it/s, v_num=52, train/loss_step=0.228, val/loss=0.945, val/error_u=0.807, val/error_v=1.020, val/error_h=0.620, val/loss_best=0.945, train/loss_epoch=0.231]\n",
      "Validation: |          | 0/? [00:00<?, ?it/s]\u001B[A\n",
      "Validation: |          | 0/? [00:00<?, ?it/s]\u001B[A\n",
      "Validation DataLoader 0:   0%|          | 0/1 [00:00<?, ?it/s]\u001B[A\n",
      "Validation DataLoader 0: 100%|██████████| 1/1 [00:00<00:00, 61.81it/s]\u001B[A\n",
      "Epoch 69: 100%|██████████| 1/1 [00:00<00:00, 35.54it/s, v_num=52, train/loss_step=0.226, val/loss=0.942, val/error_u=0.805, val/error_v=1.020, val/error_h=0.619, val/loss_best=0.942, train/loss_epoch=0.228]\n",
      "Validation: |          | 0/? [00:00<?, ?it/s]\u001B[A\n",
      "Validation: |          | 0/? [00:00<?, ?it/s]\u001B[A\n",
      "Validation DataLoader 0:   0%|          | 0/1 [00:00<?, ?it/s]\u001B[A\n",
      "Validation DataLoader 0: 100%|██████████| 1/1 [00:00<00:00, 51.71it/s]\u001B[A\n",
      "Epoch 70: 100%|██████████| 1/1 [00:00<00:00, 29.25it/s, v_num=52, train/loss_step=0.223, val/loss=0.941, val/error_u=0.804, val/error_v=1.020, val/error_h=0.618, val/loss_best=0.941, train/loss_epoch=0.226]\n",
      "Validation: |          | 0/? [00:00<?, ?it/s]\u001B[A\n",
      "Validation: |          | 0/? [00:00<?, ?it/s]\u001B[A\n",
      "Validation DataLoader 0:   0%|          | 0/1 [00:00<?, ?it/s]\u001B[A\n",
      "Validation DataLoader 0: 100%|██████████| 1/1 [00:00<00:00, 67.74it/s]\u001B[A\n",
      "Epoch 71: 100%|██████████| 1/1 [00:00<00:00, 32.43it/s, v_num=52, train/loss_step=0.222, val/loss=0.941, val/error_u=0.804, val/error_v=1.020, val/error_h=0.617, val/loss_best=0.941, train/loss_epoch=0.223]\n",
      "Validation: |          | 0/? [00:00<?, ?it/s]\u001B[A\n",
      "Validation: |          | 0/? [00:00<?, ?it/s]\u001B[A\n",
      "Validation DataLoader 0:   0%|          | 0/1 [00:00<?, ?it/s]\u001B[A\n",
      "Validation DataLoader 0: 100%|██████████| 1/1 [00:00<00:00, 75.44it/s]\u001B[A\n",
      "Epoch 72: 100%|██████████| 1/1 [00:00<00:00, 32.97it/s, v_num=52, train/loss_step=0.220, val/loss=0.940, val/error_u=0.805, val/error_v=1.020, val/error_h=0.616, val/loss_best=0.940, train/loss_epoch=0.222]\n",
      "Validation: |          | 0/? [00:00<?, ?it/s]\u001B[A\n",
      "Validation: |          | 0/? [00:00<?, ?it/s]\u001B[A\n",
      "Validation DataLoader 0:   0%|          | 0/1 [00:00<?, ?it/s]\u001B[A\n",
      "Validation DataLoader 0: 100%|██████████| 1/1 [00:00<00:00, 57.29it/s]\u001B[A\n",
      "Epoch 73: 100%|██████████| 1/1 [00:00<00:00, 34.90it/s, v_num=52, train/loss_step=0.219, val/loss=0.940, val/error_u=0.805, val/error_v=1.020, val/error_h=0.615, val/loss_best=0.940, train/loss_epoch=0.220]\n",
      "Validation: |          | 0/? [00:00<?, ?it/s]\u001B[A\n",
      "Validation: |          | 0/? [00:00<?, ?it/s]\u001B[A\n",
      "Validation DataLoader 0:   0%|          | 0/1 [00:00<?, ?it/s]\u001B[A\n",
      "Validation DataLoader 0: 100%|██████████| 1/1 [00:00<00:00, 61.79it/s]\u001B[A\n",
      "Epoch 74: 100%|██████████| 1/1 [00:00<00:00, 35.24it/s, v_num=52, train/loss_step=0.217, val/loss=0.939, val/error_u=0.804, val/error_v=1.020, val/error_h=0.614, val/loss_best=0.939, train/loss_epoch=0.219]\n",
      "Validation: |          | 0/? [00:00<?, ?it/s]\u001B[A\n",
      "Validation: |          | 0/? [00:00<?, ?it/s]\u001B[A\n",
      "Validation DataLoader 0:   0%|          | 0/1 [00:00<?, ?it/s]\u001B[A\n",
      "Validation DataLoader 0: 100%|██████████| 1/1 [00:00<00:00, 64.29it/s]\u001B[A\n",
      "Epoch 75: 100%|██████████| 1/1 [00:00<00:00, 30.83it/s, v_num=52, train/loss_step=0.214, val/loss=0.938, val/error_u=0.802, val/error_v=1.020, val/error_h=0.614, val/loss_best=0.938, train/loss_epoch=0.217]\n",
      "Validation: |          | 0/? [00:00<?, ?it/s]\u001B[A\n",
      "Validation: |          | 0/? [00:00<?, ?it/s]\u001B[A\n",
      "Validation DataLoader 0:   0%|          | 0/1 [00:00<?, ?it/s]\u001B[A\n",
      "Validation DataLoader 0: 100%|██████████| 1/1 [00:00<00:00, 59.50it/s]\u001B[A\n",
      "Epoch 76: 100%|██████████| 1/1 [00:00<00:00, 35.26it/s, v_num=52, train/loss_step=0.212, val/loss=0.937, val/error_u=0.800, val/error_v=1.020, val/error_h=0.614, val/loss_best=0.937, train/loss_epoch=0.214]\n",
      "Validation: |          | 0/? [00:00<?, ?it/s]\u001B[A\n",
      "Validation: |          | 0/? [00:00<?, ?it/s]\u001B[A\n",
      "Validation DataLoader 0:   0%|          | 0/1 [00:00<?, ?it/s]\u001B[A\n",
      "Validation DataLoader 0: 100%|██████████| 1/1 [00:00<00:00, 75.89it/s]\u001B[A\n",
      "Epoch 77: 100%|██████████| 1/1 [00:00<00:00, 30.39it/s, v_num=52, train/loss_step=0.210, val/loss=0.936, val/error_u=0.800, val/error_v=1.020, val/error_h=0.613, val/loss_best=0.936, train/loss_epoch=0.212]\n",
      "Validation: |          | 0/? [00:00<?, ?it/s]\u001B[A\n",
      "Validation: |          | 0/? [00:00<?, ?it/s]\u001B[A\n",
      "Validation DataLoader 0:   0%|          | 0/1 [00:00<?, ?it/s]\u001B[A\n",
      "Validation DataLoader 0: 100%|██████████| 1/1 [00:00<00:00, 76.64it/s]\u001B[A\n",
      "Epoch 78: 100%|██████████| 1/1 [00:00<00:00, 34.54it/s, v_num=52, train/loss_step=0.208, val/loss=0.935, val/error_u=0.801, val/error_v=1.020, val/error_h=0.611, val/loss_best=0.935, train/loss_epoch=0.210]\n",
      "Validation: |          | 0/? [00:00<?, ?it/s]\u001B[A\n",
      "Validation: |          | 0/? [00:00<?, ?it/s]\u001B[A\n",
      "Validation DataLoader 0:   0%|          | 0/1 [00:00<?, ?it/s]\u001B[A\n",
      "Validation DataLoader 0: 100%|██████████| 1/1 [00:00<00:00, 70.58it/s]\u001B[A\n",
      "Epoch 79: 100%|██████████| 1/1 [00:00<00:00, 35.11it/s, v_num=52, train/loss_step=0.207, val/loss=0.934, val/error_u=0.802, val/error_v=1.020, val/error_h=0.610, val/loss_best=0.934, train/loss_epoch=0.208]\n",
      "Validation: |          | 0/? [00:00<?, ?it/s]\u001B[A\n",
      "Validation: |          | 0/? [00:00<?, ?it/s]\u001B[A\n",
      "Validation DataLoader 0:   0%|          | 0/1 [00:00<?, ?it/s]\u001B[A\n",
      "Validation DataLoader 0: 100%|██████████| 1/1 [00:00<00:00, 81.70it/s]\u001B[A\n",
      "Epoch 80: 100%|██████████| 1/1 [00:00<00:00, 36.15it/s, v_num=52, train/loss_step=0.204, val/loss=0.932, val/error_u=0.801, val/error_v=1.020, val/error_h=0.609, val/loss_best=0.932, train/loss_epoch=0.207]\n",
      "Validation: |          | 0/? [00:00<?, ?it/s]\u001B[A\n",
      "Validation: |          | 0/? [00:00<?, ?it/s]\u001B[A\n",
      "Validation DataLoader 0:   0%|          | 0/1 [00:00<?, ?it/s]\u001B[A\n",
      "Validation DataLoader 0: 100%|██████████| 1/1 [00:00<00:00, 82.16it/s]\u001B[A\n",
      "Epoch 81: 100%|██████████| 1/1 [00:00<00:00, 36.72it/s, v_num=52, train/loss_step=0.203, val/loss=0.931, val/error_u=0.800, val/error_v=1.020, val/error_h=0.609, val/loss_best=0.931, train/loss_epoch=0.204]\n",
      "Validation: |          | 0/? [00:00<?, ?it/s]\u001B[A\n",
      "Validation: |          | 0/? [00:00<?, ?it/s]\u001B[A\n",
      "Validation DataLoader 0:   0%|          | 0/1 [00:00<?, ?it/s]\u001B[A\n",
      "Validation DataLoader 0: 100%|██████████| 1/1 [00:00<00:00, 61.91it/s]\u001B[A\n",
      "Epoch 82: 100%|██████████| 1/1 [00:00<00:00, 33.81it/s, v_num=52, train/loss_step=0.201, val/loss=0.930, val/error_u=0.799, val/error_v=1.020, val/error_h=0.608, val/loss_best=0.930, train/loss_epoch=0.203]\n",
      "Validation: |          | 0/? [00:00<?, ?it/s]\u001B[A\n",
      "Validation: |          | 0/? [00:00<?, ?it/s]\u001B[A\n",
      "Validation DataLoader 0:   0%|          | 0/1 [00:00<?, ?it/s]\u001B[A\n",
      "Validation DataLoader 0: 100%|██████████| 1/1 [00:00<00:00, 69.15it/s]\u001B[A\n",
      "Epoch 83: 100%|██████████| 1/1 [00:00<00:00, 34.62it/s, v_num=52, train/loss_step=0.200, val/loss=0.929, val/error_u=0.799, val/error_v=1.020, val/error_h=0.608, val/loss_best=0.929, train/loss_epoch=0.201]\n",
      "Validation: |          | 0/? [00:00<?, ?it/s]\u001B[A\n",
      "Validation: |          | 0/? [00:00<?, ?it/s]\u001B[A\n",
      "Validation DataLoader 0:   0%|          | 0/1 [00:00<?, ?it/s]\u001B[A\n",
      "Validation DataLoader 0: 100%|██████████| 1/1 [00:00<00:00, 67.66it/s]\u001B[A\n",
      "Epoch 84: 100%|██████████| 1/1 [00:00<00:00, 35.10it/s, v_num=52, train/loss_step=0.198, val/loss=0.928, val/error_u=0.799, val/error_v=1.020, val/error_h=0.606, val/loss_best=0.928, train/loss_epoch=0.200]\n",
      "Validation: |          | 0/? [00:00<?, ?it/s]\u001B[A\n",
      "Validation: |          | 0/? [00:00<?, ?it/s]\u001B[A\n",
      "Validation DataLoader 0:   0%|          | 0/1 [00:00<?, ?it/s]\u001B[A\n",
      "Validation DataLoader 0: 100%|██████████| 1/1 [00:00<00:00, 72.77it/s]\u001B[A\n",
      "Epoch 85: 100%|██████████| 1/1 [00:00<00:00, 36.52it/s, v_num=52, train/loss_step=0.197, val/loss=0.926, val/error_u=0.799, val/error_v=1.020, val/error_h=0.605, val/loss_best=0.926, train/loss_epoch=0.198]\n",
      "Validation: |          | 0/? [00:00<?, ?it/s]\u001B[A\n",
      "Validation: |          | 0/? [00:00<?, ?it/s]\u001B[A\n",
      "Validation DataLoader 0:   0%|          | 0/1 [00:00<?, ?it/s]\u001B[A\n",
      "Validation DataLoader 0: 100%|██████████| 1/1 [00:00<00:00, 78.99it/s]\u001B[A\n",
      "Epoch 86: 100%|██████████| 1/1 [00:00<00:00, 35.51it/s, v_num=52, train/loss_step=0.196, val/loss=0.925, val/error_u=0.798, val/error_v=1.020, val/error_h=0.605, val/loss_best=0.925, train/loss_epoch=0.197]\n",
      "Validation: |          | 0/? [00:00<?, ?it/s]\u001B[A\n",
      "Validation: |          | 0/? [00:00<?, ?it/s]\u001B[A\n",
      "Validation DataLoader 0:   0%|          | 0/1 [00:00<?, ?it/s]\u001B[A\n",
      "Validation DataLoader 0: 100%|██████████| 1/1 [00:00<00:00, 67.34it/s]\u001B[A\n",
      "Epoch 87: 100%|██████████| 1/1 [00:00<00:00, 36.58it/s, v_num=52, train/loss_step=0.195, val/loss=0.923, val/error_u=0.797, val/error_v=1.020, val/error_h=0.604, val/loss_best=0.923, train/loss_epoch=0.196]\n",
      "Validation: |          | 0/? [00:00<?, ?it/s]\u001B[A\n",
      "Validation: |          | 0/? [00:00<?, ?it/s]\u001B[A\n",
      "Validation DataLoader 0:   0%|          | 0/1 [00:00<?, ?it/s]\u001B[A\n",
      "Validation DataLoader 0: 100%|██████████| 1/1 [00:00<00:00, 70.87it/s]\u001B[A\n",
      "Epoch 88: 100%|██████████| 1/1 [00:00<00:00, 33.77it/s, v_num=52, train/loss_step=0.194, val/loss=0.922, val/error_u=0.797, val/error_v=1.020, val/error_h=0.603, val/loss_best=0.922, train/loss_epoch=0.195]\n",
      "Validation: |          | 0/? [00:00<?, ?it/s]\u001B[A\n",
      "Validation: |          | 0/? [00:00<?, ?it/s]\u001B[A\n",
      "Validation DataLoader 0:   0%|          | 0/1 [00:00<?, ?it/s]\u001B[A\n",
      "Validation DataLoader 0: 100%|██████████| 1/1 [00:00<00:00, 79.45it/s]\u001B[A\n",
      "Epoch 89: 100%|██████████| 1/1 [00:00<00:00, 34.69it/s, v_num=52, train/loss_step=0.194, val/loss=0.922, val/error_u=0.797, val/error_v=1.020, val/error_h=0.602, val/loss_best=0.922, train/loss_epoch=0.194]\n",
      "Validation: |          | 0/? [00:00<?, ?it/s]\u001B[A\n",
      "Validation: |          | 0/? [00:00<?, ?it/s]\u001B[A\n",
      "Validation DataLoader 0:   0%|          | 0/1 [00:00<?, ?it/s]\u001B[A\n",
      "Validation DataLoader 0: 100%|██████████| 1/1 [00:00<00:00, 66.40it/s]\u001B[A\n",
      "Epoch 90: 100%|██████████| 1/1 [00:00<00:00, 32.65it/s, v_num=52, train/loss_step=0.195, val/loss=0.921, val/error_u=0.797, val/error_v=1.020, val/error_h=0.601, val/loss_best=0.921, train/loss_epoch=0.194]\n",
      "Validation: |          | 0/? [00:00<?, ?it/s]\u001B[A\n",
      "Validation: |          | 0/? [00:00<?, ?it/s]\u001B[A\n",
      "Validation DataLoader 0:   0%|          | 0/1 [00:00<?, ?it/s]\u001B[A\n",
      "Validation DataLoader 0: 100%|██████████| 1/1 [00:00<00:00, 66.22it/s]\u001B[A\n",
      "Epoch 91: 100%|██████████| 1/1 [00:00<00:00, 32.41it/s, v_num=52, train/loss_step=0.194, val/loss=0.921, val/error_u=0.797, val/error_v=1.020, val/error_h=0.601, val/loss_best=0.921, train/loss_epoch=0.195]\n",
      "Validation: |          | 0/? [00:00<?, ?it/s]\u001B[A\n",
      "Validation: |          | 0/? [00:00<?, ?it/s]\u001B[A\n",
      "Validation DataLoader 0:   0%|          | 0/1 [00:00<?, ?it/s]\u001B[A\n",
      "Validation DataLoader 0: 100%|██████████| 1/1 [00:00<00:00, 67.15it/s]\u001B[A\n",
      "Epoch 92: 100%|██████████| 1/1 [00:00<00:00, 33.89it/s, v_num=52, train/loss_step=0.193, val/loss=0.920, val/error_u=0.796, val/error_v=1.020, val/error_h=0.601, val/loss_best=0.920, train/loss_epoch=0.194]\n",
      "Validation: |          | 0/? [00:00<?, ?it/s]\u001B[A\n",
      "Validation: |          | 0/? [00:00<?, ?it/s]\u001B[A\n",
      "Validation DataLoader 0:   0%|          | 0/1 [00:00<?, ?it/s]\u001B[A\n",
      "Validation DataLoader 0: 100%|██████████| 1/1 [00:00<00:00, 81.38it/s]\u001B[A\n",
      "Epoch 93: 100%|██████████| 1/1 [00:00<00:00, 35.52it/s, v_num=52, train/loss_step=0.191, val/loss=0.920, val/error_u=0.796, val/error_v=1.020, val/error_h=0.601, val/loss_best=0.920, train/loss_epoch=0.193]\n",
      "Validation: |          | 0/? [00:00<?, ?it/s]\u001B[A\n",
      "Validation: |          | 0/? [00:00<?, ?it/s]\u001B[A\n",
      "Validation DataLoader 0:   0%|          | 0/1 [00:00<?, ?it/s]\u001B[A\n",
      "Validation DataLoader 0: 100%|██████████| 1/1 [00:00<00:00, 77.94it/s]\u001B[A\n",
      "Epoch 94: 100%|██████████| 1/1 [00:00<00:00, 36.52it/s, v_num=52, train/loss_step=0.190, val/loss=0.920, val/error_u=0.796, val/error_v=1.020, val/error_h=0.600, val/loss_best=0.920, train/loss_epoch=0.191]\n",
      "Validation: |          | 0/? [00:00<?, ?it/s]\u001B[A\n",
      "Validation: |          | 0/? [00:00<?, ?it/s]\u001B[A\n",
      "Validation DataLoader 0:   0%|          | 0/1 [00:00<?, ?it/s]\u001B[A\n",
      "Validation DataLoader 0: 100%|██████████| 1/1 [00:00<00:00, 75.86it/s]\u001B[A\n",
      "Epoch 95: 100%|██████████| 1/1 [00:00<00:00, 33.40it/s, v_num=52, train/loss_step=0.189, val/loss=0.919, val/error_u=0.796, val/error_v=1.020, val/error_h=0.599, val/loss_best=0.919, train/loss_epoch=0.190]\n",
      "Validation: |          | 0/? [00:00<?, ?it/s]\u001B[A\n",
      "Validation: |          | 0/? [00:00<?, ?it/s]\u001B[A\n",
      "Validation DataLoader 0:   0%|          | 0/1 [00:00<?, ?it/s]\u001B[A\n",
      "Validation DataLoader 0: 100%|██████████| 1/1 [00:00<00:00, 75.48it/s]\u001B[A\n",
      "Epoch 96: 100%|██████████| 1/1 [00:00<00:00, 35.21it/s, v_num=52, train/loss_step=0.188, val/loss=0.918, val/error_u=0.796, val/error_v=1.020, val/error_h=0.598, val/loss_best=0.918, train/loss_epoch=0.189]\n",
      "Validation: |          | 0/? [00:00<?, ?it/s]\u001B[A\n",
      "Validation: |          | 0/? [00:00<?, ?it/s]\u001B[A\n",
      "Validation DataLoader 0:   0%|          | 0/1 [00:00<?, ?it/s]\u001B[A\n",
      "Validation DataLoader 0: 100%|██████████| 1/1 [00:00<00:00, 64.87it/s]\u001B[A\n",
      "Epoch 97: 100%|██████████| 1/1 [00:00<00:00, 35.17it/s, v_num=52, train/loss_step=0.186, val/loss=0.917, val/error_u=0.795, val/error_v=1.020, val/error_h=0.597, val/loss_best=0.917, train/loss_epoch=0.188]\n",
      "Validation: |          | 0/? [00:00<?, ?it/s]\u001B[A\n",
      "Validation: |          | 0/? [00:00<?, ?it/s]\u001B[A\n",
      "Validation DataLoader 0:   0%|          | 0/1 [00:00<?, ?it/s]\u001B[A\n",
      "Validation DataLoader 0: 100%|██████████| 1/1 [00:00<00:00, 58.95it/s]\u001B[A\n",
      "Epoch 98: 100%|██████████| 1/1 [00:00<00:00, 35.44it/s, v_num=52, train/loss_step=0.185, val/loss=0.915, val/error_u=0.795, val/error_v=1.020, val/error_h=0.596, val/loss_best=0.915, train/loss_epoch=0.186]\n",
      "Validation: |          | 0/? [00:00<?, ?it/s]\u001B[A\n",
      "Validation: |          | 0/? [00:00<?, ?it/s]\u001B[A\n",
      "Validation DataLoader 0:   0%|          | 0/1 [00:00<?, ?it/s]\u001B[A\n",
      "Validation DataLoader 0: 100%|██████████| 1/1 [00:00<00:00, 74.52it/s]\u001B[A\n",
      "Epoch 99: 100%|██████████| 1/1 [00:00<00:00, 38.48it/s, v_num=52, train/loss_step=0.184, val/loss=0.914, val/error_u=0.794, val/error_v=1.020, val/error_h=0.595, val/loss_best=0.914, train/loss_epoch=0.185]\n",
      "Validation: |          | 0/? [00:00<?, ?it/s]\u001B[A\n",
      "Validation: |          | 0/? [00:00<?, ?it/s]\u001B[A\n",
      "Validation DataLoader 0:   0%|          | 0/1 [00:00<?, ?it/s]\u001B[A\n",
      "Validation DataLoader 0: 100%|██████████| 1/1 [00:00<00:00, 70.82it/s]\u001B[A\n",
      "Epoch 99: 100%|██████████| 1/1 [00:00<00:00, 16.94it/s, v_num=52, train/loss_step=0.184, val/loss=0.912, val/error_u=0.794, val/error_v=1.020, val/error_h=0.594, val/loss_best=0.912, train/loss_epoch=0.184]"
     ]
    },
    {
     "name": "stderr",
     "output_type": "stream",
     "text": [
      "`Trainer.fit` stopped: `max_epochs=100` reached.\n"
     ]
    },
    {
     "name": "stdout",
     "output_type": "stream",
     "text": [
      "Epoch 99: 100%|██████████| 1/1 [00:00<00:00, 14.20it/s, v_num=52, train/loss_step=0.184, val/loss=0.912, val/error_u=0.794, val/error_v=1.020, val/error_h=0.594, val/loss_best=0.912, train/loss_epoch=0.184]\n",
      "Training time: 0.0h 0.0m 8.666176795959473s\n"
     ]
    }
   ],
   "execution_count": 35
  },
  {
   "metadata": {
    "ExecuteTime": {
     "end_time": "2025-09-17T20:13:42.399484Z",
     "start_time": "2025-09-17T20:13:42.294818Z"
    }
   },
   "cell_type": "code",
   "source": "trainer.validate(model=model, datamodule=datamodule)",
   "id": "5ba06e068a406032",
   "outputs": [
    {
     "name": "stderr",
     "output_type": "stream",
     "text": [
      "LOCAL_RANK: 0 - CUDA_VISIBLE_DEVICES: [0]\n"
     ]
    },
    {
     "name": "stdout",
     "output_type": "stream",
     "text": [
      "Validation DataLoader 0: 100%|██████████| 1/1 [00:00<00:00, 15.16it/s]\n"
     ]
    },
    {
     "data": {
      "text/plain": [
       "┏━━━━━━━━━━━━━━━━━━━━━━━━━━━┳━━━━━━━━━━━━━━━━━━━━━━━━━━━┓\n",
       "┃\u001B[1m \u001B[0m\u001B[1m     Validate metric     \u001B[0m\u001B[1m \u001B[0m┃\u001B[1m \u001B[0m\u001B[1m      DataLoader 0       \u001B[0m\u001B[1m \u001B[0m┃\n",
       "┡━━━━━━━━━━━━━━━━━━━━━━━━━━━╇━━━━━━━━━━━━━━━━━━━━━━━━━━━┩\n",
       "│\u001B[36m \u001B[0m\u001B[36m       val/error_h       \u001B[0m\u001B[36m \u001B[0m│\u001B[35m \u001B[0m\u001B[35m   0.5936183333396912    \u001B[0m\u001B[35m \u001B[0m│\n",
       "│\u001B[36m \u001B[0m\u001B[36m       val/error_u       \u001B[0m\u001B[36m \u001B[0m│\u001B[35m \u001B[0m\u001B[35m   0.7940731048583984    \u001B[0m\u001B[35m \u001B[0m│\n",
       "│\u001B[36m \u001B[0m\u001B[36m       val/error_v       \u001B[0m\u001B[36m \u001B[0m│\u001B[35m \u001B[0m\u001B[35m    1.023245096206665    \u001B[0m\u001B[35m \u001B[0m│\n",
       "│\u001B[36m \u001B[0m\u001B[36m        val/loss         \u001B[0m\u001B[36m \u001B[0m│\u001B[35m \u001B[0m\u001B[35m   0.9123594760894775    \u001B[0m\u001B[35m \u001B[0m│\n",
       "│\u001B[36m \u001B[0m\u001B[36m      val/loss_best      \u001B[0m\u001B[36m \u001B[0m│\u001B[35m \u001B[0m\u001B[35m   0.9123594760894775    \u001B[0m\u001B[35m \u001B[0m│\n",
       "└───────────────────────────┴───────────────────────────┘\n"
      ],
      "text/html": [
       "<pre style=\"white-space:pre;overflow-x:auto;line-height:normal;font-family:Menlo,'DejaVu Sans Mono',consolas,'Courier New',monospace\">┏━━━━━━━━━━━━━━━━━━━━━━━━━━━┳━━━━━━━━━━━━━━━━━━━━━━━━━━━┓\n",
       "┃<span style=\"font-weight: bold\">      Validate metric      </span>┃<span style=\"font-weight: bold\">       DataLoader 0        </span>┃\n",
       "┡━━━━━━━━━━━━━━━━━━━━━━━━━━━╇━━━━━━━━━━━━━━━━━━━━━━━━━━━┩\n",
       "│<span style=\"color: #008080; text-decoration-color: #008080\">        val/error_h        </span>│<span style=\"color: #800080; text-decoration-color: #800080\">    0.5936183333396912     </span>│\n",
       "│<span style=\"color: #008080; text-decoration-color: #008080\">        val/error_u        </span>│<span style=\"color: #800080; text-decoration-color: #800080\">    0.7940731048583984     </span>│\n",
       "│<span style=\"color: #008080; text-decoration-color: #008080\">        val/error_v        </span>│<span style=\"color: #800080; text-decoration-color: #800080\">     1.023245096206665     </span>│\n",
       "│<span style=\"color: #008080; text-decoration-color: #008080\">         val/loss          </span>│<span style=\"color: #800080; text-decoration-color: #800080\">    0.9123594760894775     </span>│\n",
       "│<span style=\"color: #008080; text-decoration-color: #008080\">       val/loss_best       </span>│<span style=\"color: #800080; text-decoration-color: #800080\">    0.9123594760894775     </span>│\n",
       "└───────────────────────────┴───────────────────────────┘\n",
       "</pre>\n"
      ]
     },
     "metadata": {},
     "output_type": "display_data"
    },
    {
     "data": {
      "text/plain": [
       "[{'val/loss': 0.9123594760894775,\n",
       "  'val/error_u': 0.7940731048583984,\n",
       "  'val/error_v': 1.023245096206665,\n",
       "  'val/error_h': 0.5936183333396912,\n",
       "  'val/loss_best': 0.9123594760894775}]"
      ]
     },
     "execution_count": 36,
     "metadata": {},
     "output_type": "execute_result"
    }
   ],
   "execution_count": 36
  },
  {
   "metadata": {
    "ExecuteTime": {
     "end_time": "2025-09-17T20:13:58.128076Z",
     "start_time": "2025-09-17T20:13:58.026475Z"
    }
   },
   "cell_type": "code",
   "source": [
    "preds_list = trainer.predict(model=model, datamodule=datamodule)\n",
    "preds_dict = pinnstorch.utils.fix_predictions(preds_list)"
   ],
   "id": "286ca5682c1787c9",
   "outputs": [
    {
     "name": "stderr",
     "output_type": "stream",
     "text": [
      "LOCAL_RANK: 0 - CUDA_VISIBLE_DEVICES: [0]\n"
     ]
    },
    {
     "name": "stdout",
     "output_type": "stream",
     "text": [
      "Predicting DataLoader 0: 100%|██████████| 1/1 [00:00<00:00, 17.50it/s]\n"
     ]
    }
   ],
   "execution_count": 37
  },
  {
   "metadata": {
    "ExecuteTime": {
     "end_time": "2025-09-17T20:14:01.443942Z",
     "start_time": "2025-09-17T20:14:00.817583Z"
    }
   },
   "cell_type": "code",
   "source": [
    "pinnstorch.utils.plot_schrodinger(mesh=mesh,\n",
    "                                  preds=preds_dict,\n",
    "                                  train_datasets=train_datasets,\n",
    "                                  val_dataset=val_dataset,\n",
    "                                  file_name='out')"
   ],
   "id": "f761c3e456889233",
   "outputs": [
    {
     "data": {
      "text/plain": [
       "<Figure size 539.643x300.166 with 6 Axes>"
      ],
      "image/png": "[encoded data removed]"
     },
     "metadata": {},
     "output_type": "display_data"
    }
   ],
   "execution_count": 38
  },
  {
   "metadata": {},
   "cell_type": "markdown",
   "source": [
    "##### SIREN\n",
    "\n",
    "`SIREN` architectures utilize `sinusoidal` activation functions. These activations require tuning of the frequency parameter `omega` as well as a custom initialisation for stability.\n",
    "\n",
    "Try different values of `omega` and see how it affects the training.\n",
    "\n",
    "![](https://miro.medium.com/v2/resize:fit:1100/format:webp/1*xGr5o0m1OPsDtmtGas4rUg.png)"
   ],
   "id": "2f02aee2adefcd6"
  },
  {
   "metadata": {
    "ExecuteTime": {
     "end_time": "2025-09-17T20:23:04.217924Z",
     "start_time": "2025-09-17T20:23:04.211324Z"
    }
   },
   "cell_type": "code",
   "source": [
    "net_sine = pinnstorch.models.FCN(layers=layers,\n",
    "                            output_names=['u', 'v'],\n",
    "                            lb=mesh.lb,\n",
    "                            ub=mesh.ub,\n",
    "                            activation=\"SINE\",  # use registry\n",
    "                            activation_kwargs={'omega':5},  # extra params\n",
    "                            initializer=\"SIREN\",  # use registry\n",
    "                            initializer_kwargs={'omega':5},  # extra params\n",
    "                            layer_type='BASE',\n",
    "                            layer_kwargs={}\n",
    "                            )"
   ],
   "id": "f5a4c8717d925e64",
   "outputs": [],
   "execution_count": 39
  },
  {
   "metadata": {
    "ExecuteTime": {
     "end_time": "2025-09-17T20:23:42.931624Z",
     "start_time": "2025-09-17T20:23:42.919056Z"
    }
   },
   "cell_type": "code",
   "source": [
    "model = pinnstorch.models.PINNModule(net = net_sine,\n",
    "                                     pde_fn = pde_fn,\n",
    "                                     output_fn = output_fn,\n",
    "                                     loss_fn = 'mse')"
   ],
   "id": "1124ea8320937e0f",
   "outputs": [],
   "execution_count": 40
  },
  {
   "metadata": {
    "ExecuteTime": {
     "end_time": "2025-09-17T20:27:55.320206Z",
     "start_time": "2025-09-17T20:27:41.114666Z"
    }
   },
   "cell_type": "code",
   "source": [
    "trainer = pl.Trainer(accelerator='gpu', devices=1, max_epochs = num_epochs)\n",
    "start_time = time.time()\n",
    "\n",
    "trainer.fit(model=model, datamodule=datamodule)\n",
    "end_time = time.time()\n",
    "\n"
   ],
   "id": "7124ded4d0635b91",
   "outputs": [
    {
     "name": "stderr",
     "output_type": "stream",
     "text": [
      "💡 Tip: For seamless cloud uploads and versioning, try installing [litmodels](https://pypi.org/project/litmodels/) to enable LitModelCheckpoint, which syncs automatically with the Lightning model registry.\n",
      "GPU available: True (cuda), used: True\n",
      "TPU available: False, using: 0 TPU cores\n",
      "HPU available: False, using: 0 HPUs\n",
      "LOCAL_RANK: 0 - CUDA_VISIBLE_DEVICES: [0]\n",
      "\n",
      "  | Name          | Type       | Params | Mode \n",
      "-----------------------------------------------------\n",
      "0 | net           | FCN        | 30.8 K | train\n",
      "1 | train_loss    | MeanMetric | 0      | train\n",
      "2 | val_loss      | MeanMetric | 0      | train\n",
      "3 | val_error     | MeanMetric | 0      | train\n",
      "4 | test_loss     | MeanMetric | 0      | train\n",
      "5 | test_error    | MeanMetric | 0      | train\n",
      "6 | val_loss_best | MinMetric  | 0      | train\n",
      "-----------------------------------------------------\n",
      "30.8 K    Trainable params\n",
      "0         Non-trainable params\n",
      "30.8 K    Total params\n",
      "0.123     Total estimated model params size (MB)\n",
      "23        Modules in train mode\n",
      "0         Modules in eval mode\n"
     ]
    },
    {
     "name": "stdout",
     "output_type": "stream",
     "text": [
      "Epoch 0:   0%|          | 0/1 [00:00<?, ?it/s]                             "
     ]
    },
    {
     "name": "stderr",
     "output_type": "stream",
     "text": [
      "C:\\Users\\micke\\anaconda3\\envs\\myenv\\lib\\site-packages\\torch\\jit\\_trace.py:165: UserWarning: The .grad attribute of a Tensor that is not a leaf Tensor is being accessed. Its .grad attribute won't be populated during autograd.backward(). If you indeed want the .grad field to be populated for a non-leaf Tensor, use .retain_grad() on the non-leaf Tensor. If you access the non-leaf Tensor by mistake, make sure you access the leaf Tensor instead. See github.com/pytorch/pytorch/pull/30531 for more informations. (Triggered internally at C:\\actions-runner\\_work\\pytorch\\pytorch\\pytorch\\build\\aten\\src\\ATen/core/TensorBody.h:494.)\n",
      "  if a.grad is not None:\n"
     ]
    },
    {
     "name": "stdout",
     "output_type": "stream",
     "text": [
      "Epoch 0: 100%|██████████| 1/1 [00:01<00:00,  0.66it/s, v_num=0, train/loss_step=1.370]\n",
      "Validation: |          | 0/? [00:00<?, ?it/s]\u001B[A\n",
      "Validation: |          | 0/? [00:00<?, ?it/s]\u001B[A\n",
      "Validation DataLoader 0:   0%|          | 0/1 [00:00<?, ?it/s]\u001B[A\n",
      "Validation DataLoader 0: 100%|██████████| 1/1 [00:00<00:00, 78.77it/s]\u001B[A\n",
      "Epoch 1: 100%|██████████| 1/1 [00:00<00:00,  4.21it/s, v_num=0, train/loss_step=1.260, val/loss=1.230, val/error_u=0.911, val/error_v=1.010, val/error_h=0.796, val/loss_best=1.230, train/loss_epoch=1.370]\n",
      "Validation: |          | 0/? [00:00<?, ?it/s]\u001B[A\n",
      "Validation: |          | 0/? [00:00<?, ?it/s]\u001B[A\n",
      "Validation DataLoader 0:   0%|          | 0/1 [00:00<?, ?it/s]\u001B[A\n",
      "Validation DataLoader 0: 100%|██████████| 1/1 [00:00<00:00, 78.03it/s]\u001B[A\n",
      "Epoch 2: 100%|██████████| 1/1 [00:03<00:00,  0.30it/s, v_num=0, train/loss_step=0.546, val/loss=1.020, val/error_u=0.837, val/error_v=0.953, val/error_h=0.707, val/loss_best=1.020, train/loss_epoch=1.260]\n",
      "Validation: |          | 0/? [00:00<?, ?it/s]\u001B[A\n",
      "Validation: |          | 0/? [00:00<?, ?it/s]\u001B[A\n",
      "Validation DataLoader 0:   0%|          | 0/1 [00:00<?, ?it/s]\u001B[A\n",
      "Validation DataLoader 0: 100%|██████████| 1/1 [00:00<00:00, 26.82it/s]\u001B[A\n",
      "Epoch 3: 100%|██████████| 1/1 [00:00<00:00,  4.19it/s, v_num=0, train/loss_step=0.419, val/loss=0.939, val/error_u=0.769, val/error_v=0.980, val/error_h=0.665, val/loss_best=0.939, train/loss_epoch=0.546]\n",
      "Validation: |          | 0/? [00:00<?, ?it/s]\u001B[A\n",
      "Validation: |          | 0/? [00:00<?, ?it/s]\u001B[A\n",
      "Validation DataLoader 0:   0%|          | 0/1 [00:00<?, ?it/s]\u001B[A\n",
      "Validation DataLoader 0: 100%|██████████| 1/1 [00:00<00:00, 36.87it/s]\u001B[A\n",
      "Epoch 4: 100%|██████████| 1/1 [00:00<00:00, 13.07it/s, v_num=0, train/loss_step=0.410, val/loss=0.896, val/error_u=0.749, val/error_v=0.993, val/error_h=0.632, val/loss_best=0.896, train/loss_epoch=0.419]\n",
      "Validation: |          | 0/? [00:00<?, ?it/s]\u001B[A\n",
      "Validation: |          | 0/? [00:00<?, ?it/s]\u001B[A\n",
      "Validation DataLoader 0:   0%|          | 0/1 [00:00<?, ?it/s]\u001B[A\n",
      "Validation DataLoader 0: 100%|██████████| 1/1 [00:00<00:00, 73.08it/s]\u001B[A\n",
      "Epoch 5: 100%|██████████| 1/1 [00:00<00:00, 32.02it/s, v_num=0, train/loss_step=0.326, val/loss=0.857, val/error_u=0.757, val/error_v=0.976, val/error_h=0.595, val/loss_best=0.857, train/loss_epoch=0.410]\n",
      "Validation: |          | 0/? [00:00<?, ?it/s]\u001B[A\n",
      "Validation: |          | 0/? [00:00<?, ?it/s]\u001B[A\n",
      "Validation DataLoader 0:   0%|          | 0/1 [00:00<?, ?it/s]\u001B[A\n",
      "Validation DataLoader 0: 100%|██████████| 1/1 [00:00<00:00, 48.23it/s]\u001B[A\n",
      "Epoch 6: 100%|██████████| 1/1 [00:00<00:00, 27.15it/s, v_num=0, train/loss_step=0.258, val/loss=0.833, val/error_u=0.773, val/error_v=0.965, val/error_h=0.564, val/loss_best=0.833, train/loss_epoch=0.326]\n",
      "Validation: |          | 0/? [00:00<?, ?it/s]\u001B[A\n",
      "Validation: |          | 0/? [00:00<?, ?it/s]\u001B[A\n",
      "Validation DataLoader 0:   0%|          | 0/1 [00:00<?, ?it/s]\u001B[A\n",
      "Validation DataLoader 0: 100%|██████████| 1/1 [00:00<00:00, 80.15it/s]\u001B[A\n",
      "Epoch 7: 100%|██████████| 1/1 [00:00<00:00, 29.60it/s, v_num=0, train/loss_step=0.239, val/loss=0.826, val/error_u=0.782, val/error_v=0.970, val/error_h=0.545, val/loss_best=0.826, train/loss_epoch=0.258]\n",
      "Validation: |          | 0/? [00:00<?, ?it/s]\u001B[A\n",
      "Validation: |          | 0/? [00:00<?, ?it/s]\u001B[A\n",
      "Validation DataLoader 0:   0%|          | 0/1 [00:00<?, ?it/s]\u001B[A\n",
      "Validation DataLoader 0: 100%|██████████| 1/1 [00:00<00:00, 70.47it/s]\u001B[A\n",
      "Epoch 8: 100%|██████████| 1/1 [00:00<00:00, 30.16it/s, v_num=0, train/loss_step=0.237, val/loss=0.825, val/error_u=0.780, val/error_v=0.984, val/error_h=0.535, val/loss_best=0.825, train/loss_epoch=0.239]\n",
      "Validation: |          | 0/? [00:00<?, ?it/s]\u001B[A\n",
      "Validation: |          | 0/? [00:00<?, ?it/s]\u001B[A\n",
      "Validation DataLoader 0:   0%|          | 0/1 [00:00<?, ?it/s]\u001B[A\n",
      "Validation DataLoader 0: 100%|██████████| 1/1 [00:00<00:00, 66.36it/s]\u001B[A\n",
      "Epoch 9: 100%|██████████| 1/1 [00:00<00:00, 26.78it/s, v_num=0, train/loss_step=0.219, val/loss=0.823, val/error_u=0.773, val/error_v=0.998, val/error_h=0.529, val/loss_best=0.823, train/loss_epoch=0.237]\n",
      "Validation: |          | 0/? [00:00<?, ?it/s]\u001B[A\n",
      "Validation: |          | 0/? [00:00<?, ?it/s]\u001B[A\n",
      "Validation DataLoader 0:   0%|          | 0/1 [00:00<?, ?it/s]\u001B[A\n",
      "Validation DataLoader 0: 100%|██████████| 1/1 [00:00<00:00, 58.66it/s]\u001B[A\n",
      "Epoch 10: 100%|██████████| 1/1 [00:00<00:00, 31.95it/s, v_num=0, train/loss_step=0.183, val/loss=0.820, val/error_u=0.770, val/error_v=1.010, val/error_h=0.521, val/loss_best=0.820, train/loss_epoch=0.219]\n",
      "Validation: |          | 0/? [00:00<?, ?it/s]\u001B[A\n",
      "Validation: |          | 0/? [00:00<?, ?it/s]\u001B[A\n",
      "Validation DataLoader 0:   0%|          | 0/1 [00:00<?, ?it/s]\u001B[A\n",
      "Validation DataLoader 0: 100%|██████████| 1/1 [00:00<00:00, 69.91it/s]\u001B[A\n",
      "Epoch 11: 100%|██████████| 1/1 [00:00<00:00, 31.88it/s, v_num=0, train/loss_step=0.156, val/loss=0.819, val/error_u=0.771, val/error_v=1.020, val/error_h=0.510, val/loss_best=0.819, train/loss_epoch=0.183]\n",
      "Validation: |          | 0/? [00:00<?, ?it/s]\u001B[A\n",
      "Validation: |          | 0/? [00:00<?, ?it/s]\u001B[A\n",
      "Validation DataLoader 0:   0%|          | 0/1 [00:00<?, ?it/s]\u001B[A\n",
      "Validation DataLoader 0: 100%|██████████| 1/1 [00:00<00:00, 63.85it/s]\u001B[A\n",
      "Epoch 12: 100%|██████████| 1/1 [00:00<00:00, 28.11it/s, v_num=0, train/loss_step=0.152, val/loss=0.820, val/error_u=0.776, val/error_v=1.030, val/error_h=0.499, val/loss_best=0.819, train/loss_epoch=0.156]\n",
      "Validation: |          | 0/? [00:00<?, ?it/s]\u001B[A\n",
      "Validation: |          | 0/? [00:00<?, ?it/s]\u001B[A\n",
      "Validation DataLoader 0:   0%|          | 0/1 [00:00<?, ?it/s]\u001B[A\n",
      "Validation DataLoader 0: 100%|██████████| 1/1 [00:00<00:00, 76.10it/s]\u001B[A\n",
      "Epoch 13: 100%|██████████| 1/1 [00:00<00:00, 28.12it/s, v_num=0, train/loss_step=0.157, val/loss=0.822, val/error_u=0.780, val/error_v=1.040, val/error_h=0.492, val/loss_best=0.819, train/loss_epoch=0.152]\n",
      "Validation: |          | 0/? [00:00<?, ?it/s]\u001B[A\n",
      "Validation: |          | 0/? [00:00<?, ?it/s]\u001B[A\n",
      "Validation DataLoader 0:   0%|          | 0/1 [00:00<?, ?it/s]\u001B[A\n",
      "Validation DataLoader 0: 100%|██████████| 1/1 [00:00<00:00, 75.03it/s]\u001B[A\n",
      "Epoch 14: 100%|██████████| 1/1 [00:00<00:00, 26.22it/s, v_num=0, train/loss_step=0.152, val/loss=0.824, val/error_u=0.784, val/error_v=1.040, val/error_h=0.488, val/loss_best=0.819, train/loss_epoch=0.157]\n",
      "Validation: |          | 0/? [00:00<?, ?it/s]\u001B[A\n",
      "Validation: |          | 0/? [00:00<?, ?it/s]\u001B[A\n",
      "Validation DataLoader 0:   0%|          | 0/1 [00:00<?, ?it/s]\u001B[A\n",
      "Validation DataLoader 0: 100%|██████████| 1/1 [00:00<00:00, 75.43it/s]\u001B[A\n",
      "Epoch 15: 100%|██████████| 1/1 [00:00<00:00, 26.15it/s, v_num=0, train/loss_step=0.135, val/loss=0.828, val/error_u=0.789, val/error_v=1.040, val/error_h=0.486, val/loss_best=0.819, train/loss_epoch=0.152]\n",
      "Validation: |          | 0/? [00:00<?, ?it/s]\u001B[A\n",
      "Validation: |          | 0/? [00:00<?, ?it/s]\u001B[A\n",
      "Validation DataLoader 0:   0%|          | 0/1 [00:00<?, ?it/s]\u001B[A\n",
      "Validation DataLoader 0: 100%|██████████| 1/1 [00:00<00:00, 69.06it/s]\u001B[A\n",
      "Epoch 16: 100%|██████████| 1/1 [00:00<00:00, 26.44it/s, v_num=0, train/loss_step=0.122, val/loss=0.833, val/error_u=0.797, val/error_v=1.040, val/error_h=0.484, val/loss_best=0.819, train/loss_epoch=0.135]\n",
      "Validation: |          | 0/? [00:00<?, ?it/s]\u001B[A\n",
      "Validation: |          | 0/? [00:00<?, ?it/s]\u001B[A\n",
      "Validation DataLoader 0:   0%|          | 0/1 [00:00<?, ?it/s]\u001B[A\n",
      "Validation DataLoader 0: 100%|██████████| 1/1 [00:00<00:00, 79.04it/s]\u001B[A\n",
      "Epoch 17: 100%|██████████| 1/1 [00:00<00:00, 27.32it/s, v_num=0, train/loss_step=0.119, val/loss=0.839, val/error_u=0.806, val/error_v=1.050, val/error_h=0.481, val/loss_best=0.819, train/loss_epoch=0.122]\n",
      "Validation: |          | 0/? [00:00<?, ?it/s]\u001B[A\n",
      "Validation: |          | 0/? [00:00<?, ?it/s]\u001B[A\n",
      "Validation DataLoader 0:   0%|          | 0/1 [00:00<?, ?it/s]\u001B[A\n",
      "Validation DataLoader 0: 100%|██████████| 1/1 [00:00<00:00, 70.36it/s]\u001B[A\n",
      "Epoch 18: 100%|██████████| 1/1 [00:00<00:00, 25.52it/s, v_num=0, train/loss_step=0.118, val/loss=0.845, val/error_u=0.811, val/error_v=1.060, val/error_h=0.476, val/loss_best=0.819, train/loss_epoch=0.119]\n",
      "Validation: |          | 0/? [00:00<?, ?it/s]\u001B[A\n",
      "Validation: |          | 0/? [00:00<?, ?it/s]\u001B[A\n",
      "Validation DataLoader 0:   0%|          | 0/1 [00:00<?, ?it/s]\u001B[A\n",
      "Validation DataLoader 0: 100%|██████████| 1/1 [00:00<00:00, 65.71it/s]\u001B[A\n",
      "Epoch 19: 100%|██████████| 1/1 [00:00<00:00, 28.10it/s, v_num=0, train/loss_step=0.112, val/loss=0.849, val/error_u=0.812, val/error_v=1.070, val/error_h=0.470, val/loss_best=0.819, train/loss_epoch=0.118]\n",
      "Validation: |          | 0/? [00:00<?, ?it/s]\u001B[A\n",
      "Validation: |          | 0/? [00:00<?, ?it/s]\u001B[A\n",
      "Validation DataLoader 0:   0%|          | 0/1 [00:00<?, ?it/s]\u001B[A\n",
      "Validation DataLoader 0: 100%|██████████| 1/1 [00:00<00:00, 68.84it/s]\u001B[A\n",
      "Epoch 20: 100%|██████████| 1/1 [00:00<00:00, 26.55it/s, v_num=0, train/loss_step=0.104, val/loss=0.854, val/error_u=0.813, val/error_v=1.080, val/error_h=0.465, val/loss_best=0.819, train/loss_epoch=0.112]\n",
      "Validation: |          | 0/? [00:00<?, ?it/s]\u001B[A\n",
      "Validation: |          | 0/? [00:00<?, ?it/s]\u001B[A\n",
      "Validation DataLoader 0:   0%|          | 0/1 [00:00<?, ?it/s]\u001B[A\n",
      "Validation DataLoader 0: 100%|██████████| 1/1 [00:00<00:00, 57.67it/s]\u001B[A\n",
      "Epoch 21: 100%|██████████| 1/1 [00:00<00:00, 30.81it/s, v_num=0, train/loss_step=0.0987, val/loss=0.858, val/error_u=0.815, val/error_v=1.090, val/error_h=0.460, val/loss_best=0.819, train/loss_epoch=0.104]\n",
      "Validation: |          | 0/? [00:00<?, ?it/s]\u001B[A\n",
      "Validation: |          | 0/? [00:00<?, ?it/s]\u001B[A\n",
      "Validation DataLoader 0:   0%|          | 0/1 [00:00<?, ?it/s]\u001B[A\n",
      "Validation DataLoader 0: 100%|██████████| 1/1 [00:00<00:00, 50.45it/s]\u001B[A\n",
      "Epoch 22: 100%|██████████| 1/1 [00:00<00:00, 30.82it/s, v_num=0, train/loss_step=0.0951, val/loss=0.862, val/error_u=0.817, val/error_v=1.100, val/error_h=0.456, val/loss_best=0.819, train/loss_epoch=0.0987]\n",
      "Validation: |          | 0/? [00:00<?, ?it/s]\u001B[A\n",
      "Validation: |          | 0/? [00:00<?, ?it/s]\u001B[A\n",
      "Validation DataLoader 0:   0%|          | 0/1 [00:00<?, ?it/s]\u001B[A\n",
      "Validation DataLoader 0: 100%|██████████| 1/1 [00:00<00:00, 54.53it/s]\u001B[A\n",
      "Epoch 23: 100%|██████████| 1/1 [00:00<00:00, 32.88it/s, v_num=0, train/loss_step=0.0924, val/loss=0.865, val/error_u=0.820, val/error_v=1.100, val/error_h=0.453, val/loss_best=0.819, train/loss_epoch=0.0951]\n",
      "Validation: |          | 0/? [00:00<?, ?it/s]\u001B[A\n",
      "Validation: |          | 0/? [00:00<?, ?it/s]\u001B[A\n",
      "Validation DataLoader 0:   0%|          | 0/1 [00:00<?, ?it/s]\u001B[A\n",
      "Validation DataLoader 0: 100%|██████████| 1/1 [00:00<00:00, 72.51it/s]\u001B[A\n",
      "Epoch 24: 100%|██████████| 1/1 [00:00<00:00, 33.65it/s, v_num=0, train/loss_step=0.0903, val/loss=0.868, val/error_u=0.822, val/error_v=1.100, val/error_h=0.452, val/loss_best=0.819, train/loss_epoch=0.0924]\n",
      "Validation: |          | 0/? [00:00<?, ?it/s]\u001B[A\n",
      "Validation: |          | 0/? [00:00<?, ?it/s]\u001B[A\n",
      "Validation DataLoader 0:   0%|          | 0/1 [00:00<?, ?it/s]\u001B[A\n",
      "Validation DataLoader 0: 100%|██████████| 1/1 [00:00<00:00, 48.95it/s]\u001B[A\n",
      "Epoch 25: 100%|██████████| 1/1 [00:00<00:00, 34.95it/s, v_num=0, train/loss_step=0.0869, val/loss=0.871, val/error_u=0.823, val/error_v=1.110, val/error_h=0.451, val/loss_best=0.819, train/loss_epoch=0.0903]\n",
      "Validation: |          | 0/? [00:00<?, ?it/s]\u001B[A\n",
      "Validation: |          | 0/? [00:00<?, ?it/s]\u001B[A\n",
      "Validation DataLoader 0:   0%|          | 0/1 [00:00<?, ?it/s]\u001B[A\n",
      "Validation DataLoader 0: 100%|██████████| 1/1 [00:00<00:00, 52.26it/s]\u001B[A\n",
      "Epoch 26: 100%|██████████| 1/1 [00:00<00:00, 35.56it/s, v_num=0, train/loss_step=0.0823, val/loss=0.872, val/error_u=0.824, val/error_v=1.110, val/error_h=0.449, val/loss_best=0.819, train/loss_epoch=0.0869]\n",
      "Validation: |          | 0/? [00:00<?, ?it/s]\u001B[A\n",
      "Validation: |          | 0/? [00:00<?, ?it/s]\u001B[A\n",
      "Validation DataLoader 0:   0%|          | 0/1 [00:00<?, ?it/s]\u001B[A\n",
      "Validation DataLoader 0: 100%|██████████| 1/1 [00:00<00:00, 61.31it/s]\u001B[A\n",
      "Epoch 27: 100%|██████████| 1/1 [00:00<00:00, 33.52it/s, v_num=0, train/loss_step=0.0793, val/loss=0.871, val/error_u=0.824, val/error_v=1.110, val/error_h=0.447, val/loss_best=0.819, train/loss_epoch=0.0823]\n",
      "Validation: |          | 0/? [00:00<?, ?it/s]\u001B[A\n",
      "Validation: |          | 0/? [00:00<?, ?it/s]\u001B[A\n",
      "Validation DataLoader 0:   0%|          | 0/1 [00:00<?, ?it/s]\u001B[A\n",
      "Validation DataLoader 0: 100%|██████████| 1/1 [00:00<00:00, 77.58it/s]\u001B[A\n",
      "Epoch 28: 100%|██████████| 1/1 [00:00<00:00, 33.72it/s, v_num=0, train/loss_step=0.0784, val/loss=0.871, val/error_u=0.825, val/error_v=1.110, val/error_h=0.445, val/loss_best=0.819, train/loss_epoch=0.0793]\n",
      "Validation: |          | 0/? [00:00<?, ?it/s]\u001B[A\n",
      "Validation: |          | 0/? [00:00<?, ?it/s]\u001B[A\n",
      "Validation DataLoader 0:   0%|          | 0/1 [00:00<?, ?it/s]\u001B[A\n",
      "Validation DataLoader 0: 100%|██████████| 1/1 [00:00<00:00, 53.38it/s]\u001B[A\n",
      "Epoch 29: 100%|██████████| 1/1 [00:00<00:00, 27.05it/s, v_num=0, train/loss_step=0.0782, val/loss=0.871, val/error_u=0.826, val/error_v=1.110, val/error_h=0.444, val/loss_best=0.819, train/loss_epoch=0.0784]\n",
      "Validation: |          | 0/? [00:00<?, ?it/s]\u001B[A\n",
      "Validation: |          | 0/? [00:00<?, ?it/s]\u001B[A\n",
      "Validation DataLoader 0:   0%|          | 0/1 [00:00<?, ?it/s]\u001B[A\n",
      "Validation DataLoader 0: 100%|██████████| 1/1 [00:00<00:00, 69.70it/s]\u001B[A\n",
      "Epoch 30: 100%|██████████| 1/1 [00:00<00:00, 25.46it/s, v_num=0, train/loss_step=0.0772, val/loss=0.873, val/error_u=0.828, val/error_v=1.110, val/error_h=0.443, val/loss_best=0.819, train/loss_epoch=0.0782]\n",
      "Validation: |          | 0/? [00:00<?, ?it/s]\u001B[A\n",
      "Validation: |          | 0/? [00:00<?, ?it/s]\u001B[A\n",
      "Validation DataLoader 0:   0%|          | 0/1 [00:00<?, ?it/s]\u001B[A\n",
      "Validation DataLoader 0: 100%|██████████| 1/1 [00:00<00:00, 61.90it/s]\u001B[A\n",
      "Epoch 31: 100%|██████████| 1/1 [00:00<00:00, 25.92it/s, v_num=0, train/loss_step=0.075, val/loss=0.877, val/error_u=0.830, val/error_v=1.120, val/error_h=0.443, val/loss_best=0.819, train/loss_epoch=0.0772] \n",
      "Validation: |          | 0/? [00:00<?, ?it/s]\u001B[A\n",
      "Validation: |          | 0/? [00:00<?, ?it/s]\u001B[A\n",
      "Validation DataLoader 0:   0%|          | 0/1 [00:00<?, ?it/s]\u001B[A\n",
      "Validation DataLoader 0: 100%|██████████| 1/1 [00:00<00:00, 59.06it/s]\u001B[A\n",
      "Epoch 32: 100%|██████████| 1/1 [00:00<00:00, 22.52it/s, v_num=0, train/loss_step=0.0722, val/loss=0.882, val/error_u=0.833, val/error_v=1.120, val/error_h=0.441, val/loss_best=0.819, train/loss_epoch=0.075]\n",
      "Validation: |          | 0/? [00:00<?, ?it/s]\u001B[A\n",
      "Validation: |          | 0/? [00:00<?, ?it/s]\u001B[A\n",
      "Validation DataLoader 0:   0%|          | 0/1 [00:00<?, ?it/s]\u001B[A\n",
      "Validation DataLoader 0: 100%|██████████| 1/1 [00:00<00:00, 55.58it/s]\u001B[A\n",
      "Epoch 33: 100%|██████████| 1/1 [00:00<00:00, 23.85it/s, v_num=0, train/loss_step=0.0696, val/loss=0.889, val/error_u=0.836, val/error_v=1.130, val/error_h=0.439, val/loss_best=0.819, train/loss_epoch=0.0722]\n",
      "Validation: |          | 0/? [00:00<?, ?it/s]\u001B[A\n",
      "Validation: |          | 0/? [00:00<?, ?it/s]\u001B[A\n",
      "Validation DataLoader 0:   0%|          | 0/1 [00:00<?, ?it/s]\u001B[A\n",
      "Validation DataLoader 0: 100%|██████████| 1/1 [00:00<00:00, 50.28it/s]\u001B[A\n",
      "Epoch 34: 100%|██████████| 1/1 [00:00<00:00, 24.18it/s, v_num=0, train/loss_step=0.0685, val/loss=0.896, val/error_u=0.839, val/error_v=1.140, val/error_h=0.437, val/loss_best=0.819, train/loss_epoch=0.0696]\n",
      "Validation: |          | 0/? [00:00<?, ?it/s]\u001B[A\n",
      "Validation: |          | 0/? [00:00<?, ?it/s]\u001B[A\n",
      "Validation DataLoader 0:   0%|          | 0/1 [00:00<?, ?it/s]\u001B[A\n",
      "Validation DataLoader 0: 100%|██████████| 1/1 [00:00<00:00, 50.35it/s]\u001B[A\n",
      "Epoch 35: 100%|██████████| 1/1 [00:00<00:00, 24.15it/s, v_num=0, train/loss_step=0.0682, val/loss=0.902, val/error_u=0.843, val/error_v=1.140, val/error_h=0.436, val/loss_best=0.819, train/loss_epoch=0.0685]\n",
      "Validation: |          | 0/? [00:00<?, ?it/s]\u001B[A\n",
      "Validation: |          | 0/? [00:00<?, ?it/s]\u001B[A\n",
      "Validation DataLoader 0:   0%|          | 0/1 [00:00<?, ?it/s]\u001B[A\n",
      "Validation DataLoader 0: 100%|██████████| 1/1 [00:00<00:00, 58.37it/s]\u001B[A\n",
      "Epoch 36: 100%|██████████| 1/1 [00:00<00:00, 23.72it/s, v_num=0, train/loss_step=0.0673, val/loss=0.908, val/error_u=0.848, val/error_v=1.150, val/error_h=0.435, val/loss_best=0.819, train/loss_epoch=0.0682]\n",
      "Validation: |          | 0/? [00:00<?, ?it/s]\u001B[A\n",
      "Validation: |          | 0/? [00:00<?, ?it/s]\u001B[A\n",
      "Validation DataLoader 0:   0%|          | 0/1 [00:00<?, ?it/s]\u001B[A\n",
      "Validation DataLoader 0: 100%|██████████| 1/1 [00:00<00:00, 50.64it/s]\u001B[A\n",
      "Epoch 37: 100%|██████████| 1/1 [00:00<00:00, 24.42it/s, v_num=0, train/loss_step=0.0655, val/loss=0.911, val/error_u=0.852, val/error_v=1.150, val/error_h=0.434, val/loss_best=0.819, train/loss_epoch=0.0673]\n",
      "Validation: |          | 0/? [00:00<?, ?it/s]\u001B[A\n",
      "Validation: |          | 0/? [00:00<?, ?it/s]\u001B[A\n",
      "Validation DataLoader 0:   0%|          | 0/1 [00:00<?, ?it/s]\u001B[A\n",
      "Validation DataLoader 0: 100%|██████████| 1/1 [00:00<00:00, 40.56it/s]\u001B[A\n",
      "Epoch 38: 100%|██████████| 1/1 [00:00<00:00, 29.27it/s, v_num=0, train/loss_step=0.0637, val/loss=0.915, val/error_u=0.856, val/error_v=1.150, val/error_h=0.431, val/loss_best=0.819, train/loss_epoch=0.0655]\n",
      "Validation: |          | 0/? [00:00<?, ?it/s]\u001B[A\n",
      "Validation: |          | 0/? [00:00<?, ?it/s]\u001B[A\n",
      "Validation DataLoader 0:   0%|          | 0/1 [00:00<?, ?it/s]\u001B[A\n",
      "Validation DataLoader 0: 100%|██████████| 1/1 [00:00<00:00, 80.98it/s]\u001B[A\n",
      "Epoch 39: 100%|██████████| 1/1 [00:00<00:00, 26.88it/s, v_num=0, train/loss_step=0.0629, val/loss=0.919, val/error_u=0.858, val/error_v=1.160, val/error_h=0.428, val/loss_best=0.819, train/loss_epoch=0.0637]\n",
      "Validation: |          | 0/? [00:00<?, ?it/s]\u001B[A\n",
      "Validation: |          | 0/? [00:00<?, ?it/s]\u001B[A\n",
      "Validation DataLoader 0:   0%|          | 0/1 [00:00<?, ?it/s]\u001B[A\n",
      "Validation DataLoader 0: 100%|██████████| 1/1 [00:00<00:00, 61.15it/s]\u001B[A\n",
      "Epoch 40: 100%|██████████| 1/1 [00:00<00:00, 26.28it/s, v_num=0, train/loss_step=0.0627, val/loss=0.923, val/error_u=0.861, val/error_v=1.170, val/error_h=0.424, val/loss_best=0.819, train/loss_epoch=0.0629]\n",
      "Validation: |          | 0/? [00:00<?, ?it/s]\u001B[A\n",
      "Validation: |          | 0/? [00:00<?, ?it/s]\u001B[A\n",
      "Validation DataLoader 0:   0%|          | 0/1 [00:00<?, ?it/s]\u001B[A\n",
      "Validation DataLoader 0: 100%|██████████| 1/1 [00:00<00:00, 60.87it/s]\u001B[A\n",
      "Epoch 41: 100%|██████████| 1/1 [00:00<00:00, 25.89it/s, v_num=0, train/loss_step=0.062, val/loss=0.929, val/error_u=0.865, val/error_v=1.170, val/error_h=0.422, val/loss_best=0.819, train/loss_epoch=0.0627] \n",
      "Validation: |          | 0/? [00:00<?, ?it/s]\u001B[A\n",
      "Validation: |          | 0/? [00:00<?, ?it/s]\u001B[A\n",
      "Validation DataLoader 0:   0%|          | 0/1 [00:00<?, ?it/s]\u001B[A\n",
      "Validation DataLoader 0: 100%|██████████| 1/1 [00:00<00:00, 53.72it/s]\u001B[A\n",
      "Epoch 42: 100%|██████████| 1/1 [00:00<00:00, 23.66it/s, v_num=0, train/loss_step=0.0609, val/loss=0.935, val/error_u=0.870, val/error_v=1.170, val/error_h=0.420, val/loss_best=0.819, train/loss_epoch=0.062]\n",
      "Validation: |          | 0/? [00:00<?, ?it/s]\u001B[A\n",
      "Validation: |          | 0/? [00:00<?, ?it/s]\u001B[A\n",
      "Validation DataLoader 0:   0%|          | 0/1 [00:00<?, ?it/s]\u001B[A\n",
      "Validation DataLoader 0: 100%|██████████| 1/1 [00:00<00:00, 61.42it/s]\u001B[A\n",
      "Epoch 43: 100%|██████████| 1/1 [00:00<00:00, 26.78it/s, v_num=0, train/loss_step=0.0597, val/loss=0.941, val/error_u=0.875, val/error_v=1.180, val/error_h=0.419, val/loss_best=0.819, train/loss_epoch=0.0609]\n",
      "Validation: |          | 0/? [00:00<?, ?it/s]\u001B[A\n",
      "Validation: |          | 0/? [00:00<?, ?it/s]\u001B[A\n",
      "Validation DataLoader 0:   0%|          | 0/1 [00:00<?, ?it/s]\u001B[A\n",
      "Validation DataLoader 0: 100%|██████████| 1/1 [00:00<00:00, 57.51it/s]\u001B[A\n",
      "Epoch 44: 100%|██████████| 1/1 [00:00<00:00, 24.98it/s, v_num=0, train/loss_step=0.0591, val/loss=0.948, val/error_u=0.879, val/error_v=1.180, val/error_h=0.419, val/loss_best=0.819, train/loss_epoch=0.0597]\n",
      "Validation: |          | 0/? [00:00<?, ?it/s]\u001B[A\n",
      "Validation: |          | 0/? [00:00<?, ?it/s]\u001B[A\n",
      "Validation DataLoader 0:   0%|          | 0/1 [00:00<?, ?it/s]\u001B[A\n",
      "Validation DataLoader 0: 100%|██████████| 1/1 [00:00<00:00, 65.77it/s]\u001B[A\n",
      "Epoch 45: 100%|██████████| 1/1 [00:00<00:00, 25.70it/s, v_num=0, train/loss_step=0.0585, val/loss=0.954, val/error_u=0.883, val/error_v=1.190, val/error_h=0.418, val/loss_best=0.819, train/loss_epoch=0.0591]\n",
      "Validation: |          | 0/? [00:00<?, ?it/s]\u001B[A\n",
      "Validation: |          | 0/? [00:00<?, ?it/s]\u001B[A\n",
      "Validation DataLoader 0:   0%|          | 0/1 [00:00<?, ?it/s]\u001B[A\n",
      "Validation DataLoader 0: 100%|██████████| 1/1 [00:00<00:00, 76.12it/s]\u001B[A\n",
      "Epoch 46: 100%|██████████| 1/1 [00:00<00:00, 26.88it/s, v_num=0, train/loss_step=0.0579, val/loss=0.960, val/error_u=0.887, val/error_v=1.190, val/error_h=0.418, val/loss_best=0.819, train/loss_epoch=0.0585]\n",
      "Validation: |          | 0/? [00:00<?, ?it/s]\u001B[A\n",
      "Validation: |          | 0/? [00:00<?, ?it/s]\u001B[A\n",
      "Validation DataLoader 0:   0%|          | 0/1 [00:00<?, ?it/s]\u001B[A\n",
      "Validation DataLoader 0: 100%|██████████| 1/1 [00:00<00:00, 62.61it/s]\u001B[A\n",
      "Epoch 47: 100%|██████████| 1/1 [00:00<00:00, 26.47it/s, v_num=0, train/loss_step=0.0571, val/loss=0.965, val/error_u=0.890, val/error_v=1.200, val/error_h=0.417, val/loss_best=0.819, train/loss_epoch=0.0579]\n",
      "Validation: |          | 0/? [00:00<?, ?it/s]\u001B[A\n",
      "Validation: |          | 0/? [00:00<?, ?it/s]\u001B[A\n",
      "Validation DataLoader 0:   0%|          | 0/1 [00:00<?, ?it/s]\u001B[A\n",
      "Validation DataLoader 0: 100%|██████████| 1/1 [00:00<00:00, 66.58it/s]\u001B[A\n",
      "Epoch 48: 100%|██████████| 1/1 [00:00<00:00, 28.57it/s, v_num=0, train/loss_step=0.0566, val/loss=0.969, val/error_u=0.892, val/error_v=1.200, val/error_h=0.416, val/loss_best=0.819, train/loss_epoch=0.0571]\n",
      "Validation: |          | 0/? [00:00<?, ?it/s]\u001B[A\n",
      "Validation: |          | 0/? [00:00<?, ?it/s]\u001B[A\n",
      "Validation DataLoader 0:   0%|          | 0/1 [00:00<?, ?it/s]\u001B[A\n",
      "Validation DataLoader 0: 100%|██████████| 1/1 [00:00<00:00, 65.09it/s]\u001B[A\n",
      "Epoch 49: 100%|██████████| 1/1 [00:00<00:00, 27.36it/s, v_num=0, train/loss_step=0.0563, val/loss=0.972, val/error_u=0.894, val/error_v=1.200, val/error_h=0.416, val/loss_best=0.819, train/loss_epoch=0.0566]\n",
      "Validation: |          | 0/? [00:00<?, ?it/s]\u001B[A\n",
      "Validation: |          | 0/? [00:00<?, ?it/s]\u001B[A\n",
      "Validation DataLoader 0:   0%|          | 0/1 [00:00<?, ?it/s]\u001B[A\n",
      "Validation DataLoader 0: 100%|██████████| 1/1 [00:00<00:00, 71.41it/s]\u001B[A\n",
      "Epoch 50: 100%|██████████| 1/1 [00:00<00:00, 25.17it/s, v_num=0, train/loss_step=0.0557, val/loss=0.974, val/error_u=0.895, val/error_v=1.200, val/error_h=0.415, val/loss_best=0.819, train/loss_epoch=0.0563]\n",
      "Validation: |          | 0/? [00:00<?, ?it/s]\u001B[A\n",
      "Validation: |          | 0/? [00:00<?, ?it/s]\u001B[A\n",
      "Validation DataLoader 0:   0%|          | 0/1 [00:00<?, ?it/s]\u001B[A\n",
      "Validation DataLoader 0: 100%|██████████| 1/1 [00:00<00:00, 54.21it/s]\u001B[A\n",
      "Epoch 51: 100%|██████████| 1/1 [00:00<00:00, 25.14it/s, v_num=0, train/loss_step=0.0551, val/loss=0.977, val/error_u=0.897, val/error_v=1.210, val/error_h=0.414, val/loss_best=0.819, train/loss_epoch=0.0557]\n",
      "Validation: |          | 0/? [00:00<?, ?it/s]\u001B[A\n",
      "Validation: |          | 0/? [00:00<?, ?it/s]\u001B[A\n",
      "Validation DataLoader 0:   0%|          | 0/1 [00:00<?, ?it/s]\u001B[A\n",
      "Validation DataLoader 0: 100%|██████████| 1/1 [00:00<00:00, 53.40it/s]\u001B[A\n",
      "Epoch 52: 100%|██████████| 1/1 [00:00<00:00, 25.61it/s, v_num=0, train/loss_step=0.0547, val/loss=0.979, val/error_u=0.898, val/error_v=1.210, val/error_h=0.413, val/loss_best=0.819, train/loss_epoch=0.0551]\n",
      "Validation: |          | 0/? [00:00<?, ?it/s]\u001B[A\n",
      "Validation: |          | 0/? [00:00<?, ?it/s]\u001B[A\n",
      "Validation DataLoader 0:   0%|          | 0/1 [00:00<?, ?it/s]\u001B[A\n",
      "Validation DataLoader 0: 100%|██████████| 1/1 [00:00<00:00, 60.55it/s]\u001B[A\n",
      "Epoch 53: 100%|██████████| 1/1 [00:00<00:00, 25.64it/s, v_num=0, train/loss_step=0.0543, val/loss=0.980, val/error_u=0.900, val/error_v=1.210, val/error_h=0.413, val/loss_best=0.819, train/loss_epoch=0.0547]\n",
      "Validation: |          | 0/? [00:00<?, ?it/s]\u001B[A\n",
      "Validation: |          | 0/? [00:00<?, ?it/s]\u001B[A\n",
      "Validation DataLoader 0:   0%|          | 0/1 [00:00<?, ?it/s]\u001B[A\n",
      "Validation DataLoader 0: 100%|██████████| 1/1 [00:00<00:00, 74.17it/s]\u001B[A\n",
      "Epoch 54: 100%|██████████| 1/1 [00:00<00:00, 26.20it/s, v_num=0, train/loss_step=0.0537, val/loss=0.982, val/error_u=0.902, val/error_v=1.210, val/error_h=0.412, val/loss_best=0.819, train/loss_epoch=0.0543]\n",
      "Validation: |          | 0/? [00:00<?, ?it/s]\u001B[A\n",
      "Validation: |          | 0/? [00:00<?, ?it/s]\u001B[A\n",
      "Validation DataLoader 0:   0%|          | 0/1 [00:00<?, ?it/s]\u001B[A\n",
      "Validation DataLoader 0: 100%|██████████| 1/1 [00:00<00:00, 74.30it/s]\u001B[A\n",
      "Epoch 55: 100%|██████████| 1/1 [00:00<00:00, 27.60it/s, v_num=0, train/loss_step=0.0533, val/loss=0.984, val/error_u=0.904, val/error_v=1.210, val/error_h=0.412, val/loss_best=0.819, train/loss_epoch=0.0537]\n",
      "Validation: |          | 0/? [00:00<?, ?it/s]\u001B[A\n",
      "Validation: |          | 0/? [00:00<?, ?it/s]\u001B[A\n",
      "Validation DataLoader 0:   0%|          | 0/1 [00:00<?, ?it/s]\u001B[A\n",
      "Validation DataLoader 0: 100%|██████████| 1/1 [00:00<00:00, 57.35it/s]\u001B[A\n",
      "Epoch 56: 100%|██████████| 1/1 [00:00<00:00, 24.52it/s, v_num=0, train/loss_step=0.0529, val/loss=0.988, val/error_u=0.905, val/error_v=1.210, val/error_h=0.411, val/loss_best=0.819, train/loss_epoch=0.0533]\n",
      "Validation: |          | 0/? [00:00<?, ?it/s]\u001B[A\n",
      "Validation: |          | 0/? [00:00<?, ?it/s]\u001B[A\n",
      "Validation DataLoader 0:   0%|          | 0/1 [00:00<?, ?it/s]\u001B[A\n",
      "Validation DataLoader 0: 100%|██████████| 1/1 [00:00<00:00, 54.82it/s]\u001B[A\n",
      "Epoch 57: 100%|██████████| 1/1 [00:00<00:00, 23.29it/s, v_num=0, train/loss_step=0.0525, val/loss=0.991, val/error_u=0.908, val/error_v=1.210, val/error_h=0.410, val/loss_best=0.819, train/loss_epoch=0.0529]\n",
      "Validation: |          | 0/? [00:00<?, ?it/s]\u001B[A\n",
      "Validation: |          | 0/? [00:00<?, ?it/s]\u001B[A\n",
      "Validation DataLoader 0:   0%|          | 0/1 [00:00<?, ?it/s]\u001B[A\n",
      "Validation DataLoader 0: 100%|██████████| 1/1 [00:00<00:00, 61.10it/s]\u001B[A\n",
      "Epoch 58: 100%|██████████| 1/1 [00:00<00:00, 26.57it/s, v_num=0, train/loss_step=0.0521, val/loss=0.994, val/error_u=0.911, val/error_v=1.220, val/error_h=0.410, val/loss_best=0.819, train/loss_epoch=0.0525]\n",
      "Validation: |          | 0/? [00:00<?, ?it/s]\u001B[A\n",
      "Validation: |          | 0/? [00:00<?, ?it/s]\u001B[A\n",
      "Validation DataLoader 0:   0%|          | 0/1 [00:00<?, ?it/s]\u001B[A\n",
      "Validation DataLoader 0: 100%|██████████| 1/1 [00:00<00:00, 56.38it/s]\u001B[A\n",
      "Epoch 59: 100%|██████████| 1/1 [00:00<00:00, 25.01it/s, v_num=0, train/loss_step=0.0518, val/loss=0.996, val/error_u=0.913, val/error_v=1.220, val/error_h=0.409, val/loss_best=0.819, train/loss_epoch=0.0521]\n",
      "Validation: |          | 0/? [00:00<?, ?it/s]\u001B[A\n",
      "Validation: |          | 0/? [00:00<?, ?it/s]\u001B[A\n",
      "Validation DataLoader 0:   0%|          | 0/1 [00:00<?, ?it/s]\u001B[A\n",
      "Validation DataLoader 0: 100%|██████████| 1/1 [00:00<00:00, 59.80it/s]\u001B[A\n",
      "Epoch 60: 100%|██████████| 1/1 [00:00<00:00, 24.58it/s, v_num=0, train/loss_step=0.0514, val/loss=0.998, val/error_u=0.915, val/error_v=1.220, val/error_h=0.409, val/loss_best=0.819, train/loss_epoch=0.0518]\n",
      "Validation: |          | 0/? [00:00<?, ?it/s]\u001B[A\n",
      "Validation: |          | 0/? [00:00<?, ?it/s]\u001B[A\n",
      "Validation DataLoader 0:   0%|          | 0/1 [00:00<?, ?it/s]\u001B[A\n",
      "Validation DataLoader 0: 100%|██████████| 1/1 [00:00<00:00, 63.54it/s]\u001B[A\n",
      "Epoch 61: 100%|██████████| 1/1 [00:00<00:00, 27.28it/s, v_num=0, train/loss_step=0.0511, val/loss=1.000, val/error_u=0.916, val/error_v=1.220, val/error_h=0.408, val/loss_best=0.819, train/loss_epoch=0.0514]\n",
      "Validation: |          | 0/? [00:00<?, ?it/s]\u001B[A\n",
      "Validation: |          | 0/? [00:00<?, ?it/s]\u001B[A\n",
      "Validation DataLoader 0:   0%|          | 0/1 [00:00<?, ?it/s]\u001B[A\n",
      "Validation DataLoader 0: 100%|██████████| 1/1 [00:00<00:00, 57.15it/s]\u001B[A\n",
      "Epoch 62: 100%|██████████| 1/1 [00:00<00:00, 24.69it/s, v_num=0, train/loss_step=0.0507, val/loss=1.000, val/error_u=0.917, val/error_v=1.220, val/error_h=0.407, val/loss_best=0.819, train/loss_epoch=0.0511]\n",
      "Validation: |          | 0/? [00:00<?, ?it/s]\u001B[A\n",
      "Validation: |          | 0/? [00:00<?, ?it/s]\u001B[A\n",
      "Validation DataLoader 0:   0%|          | 0/1 [00:00<?, ?it/s]\u001B[A\n",
      "Validation DataLoader 0: 100%|██████████| 1/1 [00:00<00:00, 62.97it/s]\u001B[A\n",
      "Epoch 63: 100%|██████████| 1/1 [00:00<00:00, 28.68it/s, v_num=0, train/loss_step=0.0504, val/loss=1.000, val/error_u=0.919, val/error_v=1.220, val/error_h=0.406, val/loss_best=0.819, train/loss_epoch=0.0507]\n",
      "Validation: |          | 0/? [00:00<?, ?it/s]\u001B[A\n",
      "Validation: |          | 0/? [00:00<?, ?it/s]\u001B[A\n",
      "Validation DataLoader 0:   0%|          | 0/1 [00:00<?, ?it/s]\u001B[A\n",
      "Validation DataLoader 0: 100%|██████████| 1/1 [00:00<00:00, 64.81it/s]\u001B[A\n",
      "Epoch 64: 100%|██████████| 1/1 [00:00<00:00, 24.88it/s, v_num=0, train/loss_step=0.0502, val/loss=1.010, val/error_u=0.921, val/error_v=1.220, val/error_h=0.405, val/loss_best=0.819, train/loss_epoch=0.0504]\n",
      "Validation: |          | 0/? [00:00<?, ?it/s]\u001B[A\n",
      "Validation: |          | 0/? [00:00<?, ?it/s]\u001B[A\n",
      "Validation DataLoader 0:   0%|          | 0/1 [00:00<?, ?it/s]\u001B[A\n",
      "Validation DataLoader 0: 100%|██████████| 1/1 [00:00<00:00, 64.56it/s]\u001B[A\n",
      "Epoch 65: 100%|██████████| 1/1 [00:00<00:00, 27.74it/s, v_num=0, train/loss_step=0.0498, val/loss=1.010, val/error_u=0.923, val/error_v=1.220, val/error_h=0.405, val/loss_best=0.819, train/loss_epoch=0.0502]\n",
      "Validation: |          | 0/? [00:00<?, ?it/s]\u001B[A\n",
      "Validation: |          | 0/? [00:00<?, ?it/s]\u001B[A\n",
      "Validation DataLoader 0:   0%|          | 0/1 [00:00<?, ?it/s]\u001B[A\n",
      "Validation DataLoader 0: 100%|██████████| 1/1 [00:00<00:00, 67.94it/s]\u001B[A\n",
      "Epoch 66: 100%|██████████| 1/1 [00:00<00:00, 25.22it/s, v_num=0, train/loss_step=0.0495, val/loss=1.010, val/error_u=0.924, val/error_v=1.230, val/error_h=0.404, val/loss_best=0.819, train/loss_epoch=0.0498]\n",
      "Validation: |          | 0/? [00:00<?, ?it/s]\u001B[A\n",
      "Validation: |          | 0/? [00:00<?, ?it/s]\u001B[A\n",
      "Validation DataLoader 0:   0%|          | 0/1 [00:00<?, ?it/s]\u001B[A\n",
      "Validation DataLoader 0: 100%|██████████| 1/1 [00:00<00:00, 44.86it/s]\u001B[A\n",
      "Epoch 67: 100%|██████████| 1/1 [00:00<00:00, 13.35it/s, v_num=0, train/loss_step=0.0492, val/loss=1.010, val/error_u=0.925, val/error_v=1.230, val/error_h=0.403, val/loss_best=0.819, train/loss_epoch=0.0495]\n",
      "Validation: |          | 0/? [00:00<?, ?it/s]\u001B[A\n",
      "Validation: |          | 0/? [00:00<?, ?it/s]\u001B[A\n",
      "Validation DataLoader 0:   0%|          | 0/1 [00:00<?, ?it/s]\u001B[A\n",
      "Validation DataLoader 0: 100%|██████████| 1/1 [00:00<00:00, 33.31it/s]\u001B[A\n",
      "Epoch 68: 100%|██████████| 1/1 [00:00<00:00, 13.34it/s, v_num=0, train/loss_step=0.049, val/loss=1.010, val/error_u=0.926, val/error_v=1.230, val/error_h=0.403, val/loss_best=0.819, train/loss_epoch=0.0492] \n",
      "Validation: |          | 0/? [00:00<?, ?it/s]\u001B[A\n",
      "Validation: |          | 0/? [00:00<?, ?it/s]\u001B[A\n",
      "Validation DataLoader 0:   0%|          | 0/1 [00:00<?, ?it/s]\u001B[A\n",
      "Validation DataLoader 0: 100%|██████████| 1/1 [00:00<00:00, 32.07it/s]\u001B[A\n",
      "Epoch 69: 100%|██████████| 1/1 [00:00<00:00, 12.32it/s, v_num=0, train/loss_step=0.0487, val/loss=1.010, val/error_u=0.928, val/error_v=1.230, val/error_h=0.402, val/loss_best=0.819, train/loss_epoch=0.049]\n",
      "Validation: |          | 0/? [00:00<?, ?it/s]\u001B[A\n",
      "Validation: |          | 0/? [00:00<?, ?it/s]\u001B[A\n",
      "Validation DataLoader 0:   0%|          | 0/1 [00:00<?, ?it/s]\u001B[A\n",
      "Validation DataLoader 0: 100%|██████████| 1/1 [00:00<00:00, 42.87it/s]\u001B[A\n",
      "Epoch 70: 100%|██████████| 1/1 [00:00<00:00, 19.14it/s, v_num=0, train/loss_step=0.0485, val/loss=1.010, val/error_u=0.929, val/error_v=1.230, val/error_h=0.401, val/loss_best=0.819, train/loss_epoch=0.0487]\n",
      "Validation: |          | 0/? [00:00<?, ?it/s]\u001B[A\n",
      "Validation: |          | 0/? [00:00<?, ?it/s]\u001B[A\n",
      "Validation DataLoader 0:   0%|          | 0/1 [00:00<?, ?it/s]\u001B[A\n",
      "Validation DataLoader 0: 100%|██████████| 1/1 [00:00<00:00, 53.28it/s]\u001B[A\n",
      "Epoch 71: 100%|██████████| 1/1 [00:00<00:00, 23.59it/s, v_num=0, train/loss_step=0.0482, val/loss=1.020, val/error_u=0.930, val/error_v=1.230, val/error_h=0.401, val/loss_best=0.819, train/loss_epoch=0.0485]\n",
      "Validation: |          | 0/? [00:00<?, ?it/s]\u001B[A\n",
      "Validation: |          | 0/? [00:00<?, ?it/s]\u001B[A\n",
      "Validation DataLoader 0:   0%|          | 0/1 [00:00<?, ?it/s]\u001B[A\n",
      "Validation DataLoader 0: 100%|██████████| 1/1 [00:00<00:00, 52.81it/s]\u001B[A\n",
      "Epoch 72: 100%|██████████| 1/1 [00:00<00:00, 23.09it/s, v_num=0, train/loss_step=0.048, val/loss=1.020, val/error_u=0.931, val/error_v=1.230, val/error_h=0.400, val/loss_best=0.819, train/loss_epoch=0.0482] \n",
      "Validation: |          | 0/? [00:00<?, ?it/s]\u001B[A\n",
      "Validation: |          | 0/? [00:00<?, ?it/s]\u001B[A\n",
      "Validation DataLoader 0:   0%|          | 0/1 [00:00<?, ?it/s]\u001B[A\n",
      "Validation DataLoader 0: 100%|██████████| 1/1 [00:00<00:00, 56.98it/s]\u001B[A\n",
      "Epoch 73: 100%|██████████| 1/1 [00:00<00:00, 23.02it/s, v_num=0, train/loss_step=0.0477, val/loss=1.020, val/error_u=0.933, val/error_v=1.230, val/error_h=0.400, val/loss_best=0.819, train/loss_epoch=0.048]\n",
      "Validation: |          | 0/? [00:00<?, ?it/s]\u001B[A\n",
      "Validation: |          | 0/? [00:00<?, ?it/s]\u001B[A\n",
      "Validation DataLoader 0:   0%|          | 0/1 [00:00<?, ?it/s]\u001B[A\n",
      "Validation DataLoader 0: 100%|██████████| 1/1 [00:00<00:00, 67.42it/s]\u001B[A\n",
      "Epoch 74: 100%|██████████| 1/1 [00:00<00:00, 27.17it/s, v_num=0, train/loss_step=0.0475, val/loss=1.020, val/error_u=0.934, val/error_v=1.230, val/error_h=0.399, val/loss_best=0.819, train/loss_epoch=0.0477]\n",
      "Validation: |          | 0/? [00:00<?, ?it/s]\u001B[A\n",
      "Validation: |          | 0/? [00:00<?, ?it/s]\u001B[A\n",
      "Validation DataLoader 0:   0%|          | 0/1 [00:00<?, ?it/s]\u001B[A\n",
      "Validation DataLoader 0: 100%|██████████| 1/1 [00:00<00:00, 62.74it/s]\u001B[A\n",
      "Epoch 75: 100%|██████████| 1/1 [00:00<00:00, 25.54it/s, v_num=0, train/loss_step=0.0473, val/loss=1.020, val/error_u=0.936, val/error_v=1.230, val/error_h=0.398, val/loss_best=0.819, train/loss_epoch=0.0475]\n",
      "Validation: |          | 0/? [00:00<?, ?it/s]\u001B[A\n",
      "Validation: |          | 0/? [00:00<?, ?it/s]\u001B[A\n",
      "Validation DataLoader 0:   0%|          | 0/1 [00:00<?, ?it/s]\u001B[A\n",
      "Validation DataLoader 0: 100%|██████████| 1/1 [00:00<00:00, 76.22it/s]\u001B[A\n",
      "Epoch 76: 100%|██████████| 1/1 [00:00<00:00, 24.76it/s, v_num=0, train/loss_step=0.047, val/loss=1.020, val/error_u=0.937, val/error_v=1.230, val/error_h=0.398, val/loss_best=0.819, train/loss_epoch=0.0473] \n",
      "Validation: |          | 0/? [00:00<?, ?it/s]\u001B[A\n",
      "Validation: |          | 0/? [00:00<?, ?it/s]\u001B[A\n",
      "Validation DataLoader 0:   0%|          | 0/1 [00:00<?, ?it/s]\u001B[A\n",
      "Validation DataLoader 0: 100%|██████████| 1/1 [00:00<00:00, 58.93it/s]\u001B[A\n",
      "Epoch 77: 100%|██████████| 1/1 [00:00<00:00, 24.07it/s, v_num=0, train/loss_step=0.0468, val/loss=1.020, val/error_u=0.939, val/error_v=1.230, val/error_h=0.397, val/loss_best=0.819, train/loss_epoch=0.047]\n",
      "Validation: |          | 0/? [00:00<?, ?it/s]\u001B[A\n",
      "Validation: |          | 0/? [00:00<?, ?it/s]\u001B[A\n",
      "Validation DataLoader 0:   0%|          | 0/1 [00:00<?, ?it/s]\u001B[A\n",
      "Validation DataLoader 0: 100%|██████████| 1/1 [00:00<00:00, 55.74it/s]\u001B[A\n",
      "Epoch 78: 100%|██████████| 1/1 [00:00<00:00, 26.66it/s, v_num=0, train/loss_step=0.0466, val/loss=1.030, val/error_u=0.940, val/error_v=1.230, val/error_h=0.397, val/loss_best=0.819, train/loss_epoch=0.0468]\n",
      "Validation: |          | 0/? [00:00<?, ?it/s]\u001B[A\n",
      "Validation: |          | 0/? [00:00<?, ?it/s]\u001B[A\n",
      "Validation DataLoader 0:   0%|          | 0/1 [00:00<?, ?it/s]\u001B[A\n",
      "Validation DataLoader 0: 100%|██████████| 1/1 [00:00<00:00, 69.70it/s]\u001B[A\n",
      "Epoch 79: 100%|██████████| 1/1 [00:00<00:00, 25.63it/s, v_num=0, train/loss_step=0.0464, val/loss=1.030, val/error_u=0.941, val/error_v=1.230, val/error_h=0.396, val/loss_best=0.819, train/loss_epoch=0.0466]\n",
      "Validation: |          | 0/? [00:00<?, ?it/s]\u001B[A\n",
      "Validation: |          | 0/? [00:00<?, ?it/s]\u001B[A\n",
      "Validation DataLoader 0:   0%|          | 0/1 [00:00<?, ?it/s]\u001B[A\n",
      "Validation DataLoader 0: 100%|██████████| 1/1 [00:00<00:00, 78.52it/s]\u001B[A\n",
      "Epoch 80: 100%|██████████| 1/1 [00:00<00:00, 25.38it/s, v_num=0, train/loss_step=0.0462, val/loss=1.030, val/error_u=0.942, val/error_v=1.240, val/error_h=0.395, val/loss_best=0.819, train/loss_epoch=0.0464]\n",
      "Validation: |          | 0/? [00:00<?, ?it/s]\u001B[A\n",
      "Validation: |          | 0/? [00:00<?, ?it/s]\u001B[A\n",
      "Validation DataLoader 0:   0%|          | 0/1 [00:00<?, ?it/s]\u001B[A\n",
      "Validation DataLoader 0: 100%|██████████| 1/1 [00:00<00:00, 66.01it/s]\u001B[A\n",
      "Epoch 81: 100%|██████████| 1/1 [00:00<00:00, 27.59it/s, v_num=0, train/loss_step=0.046, val/loss=1.030, val/error_u=0.943, val/error_v=1.240, val/error_h=0.395, val/loss_best=0.819, train/loss_epoch=0.0462] \n",
      "Validation: |          | 0/? [00:00<?, ?it/s]\u001B[A\n",
      "Validation: |          | 0/? [00:00<?, ?it/s]\u001B[A\n",
      "Validation DataLoader 0:   0%|          | 0/1 [00:00<?, ?it/s]\u001B[A\n",
      "Validation DataLoader 0: 100%|██████████| 1/1 [00:00<00:00, 60.91it/s]\u001B[A\n",
      "Epoch 82: 100%|██████████| 1/1 [00:00<00:00, 24.72it/s, v_num=0, train/loss_step=0.0458, val/loss=1.030, val/error_u=0.944, val/error_v=1.240, val/error_h=0.394, val/loss_best=0.819, train/loss_epoch=0.046]\n",
      "Validation: |          | 0/? [00:00<?, ?it/s]\u001B[A\n",
      "Validation: |          | 0/? [00:00<?, ?it/s]\u001B[A\n",
      "Validation DataLoader 0:   0%|          | 0/1 [00:00<?, ?it/s]\u001B[A\n",
      "Validation DataLoader 0: 100%|██████████| 1/1 [00:00<00:00, 69.43it/s]\u001B[A\n",
      "Epoch 83: 100%|██████████| 1/1 [00:00<00:00, 24.86it/s, v_num=0, train/loss_step=0.0456, val/loss=1.030, val/error_u=0.945, val/error_v=1.240, val/error_h=0.394, val/loss_best=0.819, train/loss_epoch=0.0458]\n",
      "Validation: |          | 0/? [00:00<?, ?it/s]\u001B[A\n",
      "Validation: |          | 0/? [00:00<?, ?it/s]\u001B[A\n",
      "Validation DataLoader 0:   0%|          | 0/1 [00:00<?, ?it/s]\u001B[A\n",
      "Validation DataLoader 0: 100%|██████████| 1/1 [00:00<00:00, 74.44it/s]\u001B[A\n",
      "Epoch 84: 100%|██████████| 1/1 [00:00<00:00, 23.49it/s, v_num=0, train/loss_step=0.0454, val/loss=1.030, val/error_u=0.946, val/error_v=1.240, val/error_h=0.393, val/loss_best=0.819, train/loss_epoch=0.0456]\n",
      "Validation: |          | 0/? [00:00<?, ?it/s]\u001B[A\n",
      "Validation: |          | 0/? [00:00<?, ?it/s]\u001B[A\n",
      "Validation DataLoader 0:   0%|          | 0/1 [00:00<?, ?it/s]\u001B[A\n",
      "Validation DataLoader 0: 100%|██████████| 1/1 [00:00<00:00, 65.25it/s]\u001B[A\n",
      "Epoch 85: 100%|██████████| 1/1 [00:00<00:00, 25.86it/s, v_num=0, train/loss_step=0.0452, val/loss=1.030, val/error_u=0.948, val/error_v=1.240, val/error_h=0.393, val/loss_best=0.819, train/loss_epoch=0.0454]\n",
      "Validation: |          | 0/? [00:00<?, ?it/s]\u001B[A\n",
      "Validation: |          | 0/? [00:00<?, ?it/s]\u001B[A\n",
      "Validation DataLoader 0:   0%|          | 0/1 [00:00<?, ?it/s]\u001B[A\n",
      "Validation DataLoader 0: 100%|██████████| 1/1 [00:00<00:00, 64.59it/s]\u001B[A\n",
      "Epoch 86: 100%|██████████| 1/1 [00:00<00:00, 27.00it/s, v_num=0, train/loss_step=0.045, val/loss=1.030, val/error_u=0.949, val/error_v=1.240, val/error_h=0.392, val/loss_best=0.819, train/loss_epoch=0.0452] \n",
      "Validation: |          | 0/? [00:00<?, ?it/s]\u001B[A\n",
      "Validation: |          | 0/? [00:00<?, ?it/s]\u001B[A\n",
      "Validation DataLoader 0:   0%|          | 0/1 [00:00<?, ?it/s]\u001B[A\n",
      "Validation DataLoader 0: 100%|██████████| 1/1 [00:00<00:00, 69.77it/s]\u001B[A\n",
      "Epoch 87: 100%|██████████| 1/1 [00:00<00:00, 26.83it/s, v_num=0, train/loss_step=0.0449, val/loss=1.040, val/error_u=0.950, val/error_v=1.240, val/error_h=0.392, val/loss_best=0.819, train/loss_epoch=0.045]\n",
      "Validation: |          | 0/? [00:00<?, ?it/s]\u001B[A\n",
      "Validation: |          | 0/? [00:00<?, ?it/s]\u001B[A\n",
      "Validation DataLoader 0:   0%|          | 0/1 [00:00<?, ?it/s]\u001B[A\n",
      "Validation DataLoader 0: 100%|██████████| 1/1 [00:00<00:00, 57.84it/s]\u001B[A\n",
      "Epoch 88: 100%|██████████| 1/1 [00:00<00:00, 27.02it/s, v_num=0, train/loss_step=0.0447, val/loss=1.040, val/error_u=0.951, val/error_v=1.240, val/error_h=0.391, val/loss_best=0.819, train/loss_epoch=0.0449]\n",
      "Validation: |          | 0/? [00:00<?, ?it/s]\u001B[A\n",
      "Validation: |          | 0/? [00:00<?, ?it/s]\u001B[A\n",
      "Validation DataLoader 0:   0%|          | 0/1 [00:00<?, ?it/s]\u001B[A\n",
      "Validation DataLoader 0: 100%|██████████| 1/1 [00:00<00:00, 68.63it/s]\u001B[A\n",
      "Epoch 89: 100%|██████████| 1/1 [00:00<00:00, 26.02it/s, v_num=0, train/loss_step=0.0445, val/loss=1.040, val/error_u=0.952, val/error_v=1.240, val/error_h=0.391, val/loss_best=0.819, train/loss_epoch=0.0447]\n",
      "Validation: |          | 0/? [00:00<?, ?it/s]\u001B[A\n",
      "Validation: |          | 0/? [00:00<?, ?it/s]\u001B[A\n",
      "Validation DataLoader 0:   0%|          | 0/1 [00:00<?, ?it/s]\u001B[A\n",
      "Validation DataLoader 0: 100%|██████████| 1/1 [00:00<00:00, 60.30it/s]\u001B[A\n",
      "Epoch 90: 100%|██████████| 1/1 [00:00<00:00, 25.68it/s, v_num=0, train/loss_step=0.0443, val/loss=1.040, val/error_u=0.953, val/error_v=1.240, val/error_h=0.390, val/loss_best=0.819, train/loss_epoch=0.0445]\n",
      "Validation: |          | 0/? [00:00<?, ?it/s]\u001B[A\n",
      "Validation: |          | 0/? [00:00<?, ?it/s]\u001B[A\n",
      "Validation DataLoader 0:   0%|          | 0/1 [00:00<?, ?it/s]\u001B[A\n",
      "Validation DataLoader 0: 100%|██████████| 1/1 [00:00<00:00, 68.30it/s]\u001B[A\n",
      "Epoch 91: 100%|██████████| 1/1 [00:00<00:00, 28.10it/s, v_num=0, train/loss_step=0.0441, val/loss=1.040, val/error_u=0.954, val/error_v=1.240, val/error_h=0.390, val/loss_best=0.819, train/loss_epoch=0.0443]\n",
      "Validation: |          | 0/? [00:00<?, ?it/s]\u001B[A\n",
      "Validation: |          | 0/? [00:00<?, ?it/s]\u001B[A\n",
      "Validation DataLoader 0:   0%|          | 0/1 [00:00<?, ?it/s]\u001B[A\n",
      "Validation DataLoader 0: 100%|██████████| 1/1 [00:00<00:00, 66.86it/s]\u001B[A\n",
      "Epoch 92: 100%|██████████| 1/1 [00:00<00:00, 28.32it/s, v_num=0, train/loss_step=0.044, val/loss=1.040, val/error_u=0.955, val/error_v=1.240, val/error_h=0.389, val/loss_best=0.819, train/loss_epoch=0.0441] \n",
      "Validation: |          | 0/? [00:00<?, ?it/s]\u001B[A\n",
      "Validation: |          | 0/? [00:00<?, ?it/s]\u001B[A\n",
      "Validation DataLoader 0:   0%|          | 0/1 [00:00<?, ?it/s]\u001B[A\n",
      "Validation DataLoader 0: 100%|██████████| 1/1 [00:00<00:00, 69.64it/s]\u001B[A\n",
      "Epoch 93: 100%|██████████| 1/1 [00:00<00:00, 28.21it/s, v_num=0, train/loss_step=0.0438, val/loss=1.040, val/error_u=0.956, val/error_v=1.240, val/error_h=0.389, val/loss_best=0.819, train/loss_epoch=0.044]\n",
      "Validation: |          | 0/? [00:00<?, ?it/s]\u001B[A\n",
      "Validation: |          | 0/? [00:00<?, ?it/s]\u001B[A\n",
      "Validation DataLoader 0:   0%|          | 0/1 [00:00<?, ?it/s]\u001B[A\n",
      "Validation DataLoader 0: 100%|██████████| 1/1 [00:00<00:00, 50.12it/s]\u001B[A\n",
      "Epoch 94: 100%|██████████| 1/1 [00:00<00:00, 27.39it/s, v_num=0, train/loss_step=0.0436, val/loss=1.040, val/error_u=0.957, val/error_v=1.240, val/error_h=0.389, val/loss_best=0.819, train/loss_epoch=0.0438]\n",
      "Validation: |          | 0/? [00:00<?, ?it/s]\u001B[A\n",
      "Validation: |          | 0/? [00:00<?, ?it/s]\u001B[A\n",
      "Validation DataLoader 0:   0%|          | 0/1 [00:00<?, ?it/s]\u001B[A\n",
      "Validation DataLoader 0: 100%|██████████| 1/1 [00:00<00:00, 70.68it/s]\u001B[A\n",
      "Epoch 95: 100%|██████████| 1/1 [00:00<00:00, 26.46it/s, v_num=0, train/loss_step=0.0435, val/loss=1.040, val/error_u=0.958, val/error_v=1.240, val/error_h=0.388, val/loss_best=0.819, train/loss_epoch=0.0436]\n",
      "Validation: |          | 0/? [00:00<?, ?it/s]\u001B[A\n",
      "Validation: |          | 0/? [00:00<?, ?it/s]\u001B[A\n",
      "Validation DataLoader 0:   0%|          | 0/1 [00:00<?, ?it/s]\u001B[A\n",
      "Validation DataLoader 0: 100%|██████████| 1/1 [00:00<00:00, 72.19it/s]\u001B[A\n",
      "Epoch 96: 100%|██████████| 1/1 [00:00<00:00, 24.85it/s, v_num=0, train/loss_step=0.0433, val/loss=1.040, val/error_u=0.959, val/error_v=1.240, val/error_h=0.388, val/loss_best=0.819, train/loss_epoch=0.0435]\n",
      "Validation: |          | 0/? [00:00<?, ?it/s]\u001B[A\n",
      "Validation: |          | 0/? [00:00<?, ?it/s]\u001B[A\n",
      "Validation DataLoader 0:   0%|          | 0/1 [00:00<?, ?it/s]\u001B[A\n",
      "Validation DataLoader 0: 100%|██████████| 1/1 [00:00<00:00, 65.58it/s]\u001B[A\n",
      "Epoch 97: 100%|██████████| 1/1 [00:00<00:00, 27.83it/s, v_num=0, train/loss_step=0.0431, val/loss=1.040, val/error_u=0.960, val/error_v=1.240, val/error_h=0.387, val/loss_best=0.819, train/loss_epoch=0.0433]\n",
      "Validation: |          | 0/? [00:00<?, ?it/s]\u001B[A\n",
      "Validation: |          | 0/? [00:00<?, ?it/s]\u001B[A\n",
      "Validation DataLoader 0:   0%|          | 0/1 [00:00<?, ?it/s]\u001B[A\n",
      "Validation DataLoader 0: 100%|██████████| 1/1 [00:00<00:00, 65.78it/s]\u001B[A\n",
      "Epoch 98: 100%|██████████| 1/1 [00:00<00:00, 25.32it/s, v_num=0, train/loss_step=0.043, val/loss=1.050, val/error_u=0.961, val/error_v=1.240, val/error_h=0.387, val/loss_best=0.819, train/loss_epoch=0.0431] \n",
      "Validation: |          | 0/? [00:00<?, ?it/s]\u001B[A\n",
      "Validation: |          | 0/? [00:00<?, ?it/s]\u001B[A\n",
      "Validation DataLoader 0:   0%|          | 0/1 [00:00<?, ?it/s]\u001B[A\n",
      "Validation DataLoader 0: 100%|██████████| 1/1 [00:00<00:00, 76.51it/s]\u001B[A\n",
      "Epoch 99: 100%|██████████| 1/1 [00:00<00:00, 24.59it/s, v_num=0, train/loss_step=0.0428, val/loss=1.050, val/error_u=0.961, val/error_v=1.240, val/error_h=0.386, val/loss_best=0.819, train/loss_epoch=0.043]\n",
      "Validation: |          | 0/? [00:00<?, ?it/s]\u001B[A\n",
      "Validation: |          | 0/? [00:00<?, ?it/s]\u001B[A\n",
      "Validation DataLoader 0:   0%|          | 0/1 [00:00<?, ?it/s]\u001B[A\n",
      "Validation DataLoader 0: 100%|██████████| 1/1 [00:00<00:00, 65.32it/s]\u001B[A\n",
      "Epoch 99: 100%|██████████| 1/1 [00:00<00:00, 13.57it/s, v_num=0, train/loss_step=0.0428, val/loss=1.050, val/error_u=0.962, val/error_v=1.240, val/error_h=0.386, val/loss_best=0.819, train/loss_epoch=0.0428]"
     ]
    },
    {
     "name": "stderr",
     "output_type": "stream",
     "text": [
      "`Trainer.fit` stopped: `max_epochs=100` reached.\n"
     ]
    },
    {
     "name": "stdout",
     "output_type": "stream",
     "text": [
      "Epoch 99: 100%|██████████| 1/1 [00:00<00:00, 11.67it/s, v_num=0, train/loss_step=0.0428, val/loss=1.050, val/error_u=0.962, val/error_v=1.240, val/error_h=0.386, val/loss_best=0.819, train/loss_epoch=0.0428]\n",
      "Training time: 0.0h 0.0m 14.162323474884033s\n"
     ]
    }
   ],
   "execution_count": 44
  },
  {
   "metadata": {
    "ExecuteTime": {
     "end_time": "2025-09-17T20:28:23.971854Z",
     "start_time": "2025-09-17T20:28:23.954680Z"
    }
   },
   "cell_type": "code",
   "source": [
    "total_time = end_time - start_time\n",
    "hours = total_time // 3600\n",
    "minutes = (total_time % 3600) // 60\n",
    "seconds = total_time % 60\n",
    "\n",
    "print(f\"Training time: {hours}h {minutes}m {seconds}s\")"
   ],
   "id": "6114c9b21f14bdb3",
   "outputs": [
    {
     "name": "stdout",
     "output_type": "stream",
     "text": [
      "Training time: 0.0h 0.0m 14.162323474884033s\n"
     ]
    }
   ],
   "execution_count": 46
  },
  {
   "metadata": {
    "ExecuteTime": {
     "end_time": "2025-09-17T20:28:02.831515Z",
     "start_time": "2025-09-17T20:28:02.694118Z"
    }
   },
   "cell_type": "code",
   "source": "trainer.validate(model=model, datamodule=datamodule)",
   "id": "d6c1ca6340ef110a",
   "outputs": [
    {
     "name": "stderr",
     "output_type": "stream",
     "text": [
      "LOCAL_RANK: 0 - CUDA_VISIBLE_DEVICES: [0]\n"
     ]
    },
    {
     "name": "stdout",
     "output_type": "stream",
     "text": [
      "Validation DataLoader 0: 100%|██████████| 1/1 [00:00<00:00, 11.63it/s]\n"
     ]
    },
    {
     "data": {
      "text/plain": [
       "┏━━━━━━━━━━━━━━━━━━━━━━━━━━━┳━━━━━━━━━━━━━━━━━━━━━━━━━━━┓\n",
       "┃\u001B[1m \u001B[0m\u001B[1m     Validate metric     \u001B[0m\u001B[1m \u001B[0m┃\u001B[1m \u001B[0m\u001B[1m      DataLoader 0       \u001B[0m\u001B[1m \u001B[0m┃\n",
       "┡━━━━━━━━━━━━━━━━━━━━━━━━━━━╇━━━━━━━━━━━━━━━━━━━━━━━━━━━┩\n",
       "│\u001B[36m \u001B[0m\u001B[36m       val/error_h       \u001B[0m\u001B[36m \u001B[0m│\u001B[35m \u001B[0m\u001B[35m   0.38588765263557434   \u001B[0m\u001B[35m \u001B[0m│\n",
       "│\u001B[36m \u001B[0m\u001B[36m       val/error_u       \u001B[0m\u001B[36m \u001B[0m│\u001B[35m \u001B[0m\u001B[35m    0.962169349193573    \u001B[0m\u001B[35m \u001B[0m│\n",
       "│\u001B[36m \u001B[0m\u001B[36m       val/error_v       \u001B[0m\u001B[36m \u001B[0m│\u001B[35m \u001B[0m\u001B[35m   1.2424595355987549    \u001B[0m\u001B[35m \u001B[0m│\n",
       "│\u001B[36m \u001B[0m\u001B[36m        val/loss         \u001B[0m\u001B[36m \u001B[0m│\u001B[35m \u001B[0m\u001B[35m   1.0467365980148315    \u001B[0m\u001B[35m \u001B[0m│\n",
       "│\u001B[36m \u001B[0m\u001B[36m      val/loss_best      \u001B[0m\u001B[36m \u001B[0m│\u001B[35m \u001B[0m\u001B[35m   0.8194981217384338    \u001B[0m\u001B[35m \u001B[0m│\n",
       "└───────────────────────────┴───────────────────────────┘\n"
      ],
      "text/html": [
       "<pre style=\"white-space:pre;overflow-x:auto;line-height:normal;font-family:Menlo,'DejaVu Sans Mono',consolas,'Courier New',monospace\">┏━━━━━━━━━━━━━━━━━━━━━━━━━━━┳━━━━━━━━━━━━━━━━━━━━━━━━━━━┓\n",
       "┃<span style=\"font-weight: bold\">      Validate metric      </span>┃<span style=\"font-weight: bold\">       DataLoader 0        </span>┃\n",
       "┡━━━━━━━━━━━━━━━━━━━━━━━━━━━╇━━━━━━━━━━━━━━━━━━━━━━━━━━━┩\n",
       "│<span style=\"color: #008080; text-decoration-color: #008080\">        val/error_h        </span>│<span style=\"color: #800080; text-decoration-color: #800080\">    0.38588765263557434    </span>│\n",
       "│<span style=\"color: #008080; text-decoration-color: #008080\">        val/error_u        </span>│<span style=\"color: #800080; text-decoration-color: #800080\">     0.962169349193573     </span>│\n",
       "│<span style=\"color: #008080; text-decoration-color: #008080\">        val/error_v        </span>│<span style=\"color: #800080; text-decoration-color: #800080\">    1.2424595355987549     </span>│\n",
       "│<span style=\"color: #008080; text-decoration-color: #008080\">         val/loss          </span>│<span style=\"color: #800080; text-decoration-color: #800080\">    1.0467365980148315     </span>│\n",
       "│<span style=\"color: #008080; text-decoration-color: #008080\">       val/loss_best       </span>│<span style=\"color: #800080; text-decoration-color: #800080\">    0.8194981217384338     </span>│\n",
       "└───────────────────────────┴───────────────────────────┘\n",
       "</pre>\n"
      ]
     },
     "metadata": {},
     "output_type": "display_data"
    },
    {
     "data": {
      "text/plain": [
       "[{'val/loss': 1.0467365980148315,\n",
       "  'val/error_u': 0.962169349193573,\n",
       "  'val/error_v': 1.2424595355987549,\n",
       "  'val/error_h': 0.38588765263557434,\n",
       "  'val/loss_best': 0.8194981217384338}]"
      ]
     },
     "execution_count": 45,
     "metadata": {},
     "output_type": "execute_result"
    }
   ],
   "execution_count": 45
  },
  {
   "metadata": {
    "ExecuteTime": {
     "end_time": "2025-09-17T20:28:50.603603Z",
     "start_time": "2025-09-17T20:28:50.492219Z"
    }
   },
   "cell_type": "code",
   "source": [
    "preds_list = trainer.predict(model=model, datamodule=datamodule)\n",
    "preds_dict = pinnstorch.utils.fix_predictions(preds_list)"
   ],
   "id": "fe225aa51b126829",
   "outputs": [
    {
     "name": "stderr",
     "output_type": "stream",
     "text": [
      "LOCAL_RANK: 0 - CUDA_VISIBLE_DEVICES: [0]\n"
     ]
    },
    {
     "name": "stdout",
     "output_type": "stream",
     "text": [
      "Predicting DataLoader 0: 100%|██████████| 1/1 [00:00<00:00, 12.96it/s]\n"
     ]
    }
   ],
   "execution_count": 47
  },
  {
   "metadata": {
    "ExecuteTime": {
     "end_time": "2025-09-17T20:29:10.279815Z",
     "start_time": "2025-09-17T20:29:09.466540Z"
    }
   },
   "cell_type": "code",
   "source": [
    "pinnstorch.utils.plot_schrodinger(mesh=mesh,\n",
    "                                  preds=preds_dict,\n",
    "                                  train_datasets=train_datasets,\n",
    "                                  val_dataset=val_dataset,\n",
    "                                  file_name='out')"
   ],
   "id": "699266cd59f912ef",
   "outputs": [
    {
     "data": {
      "text/plain": [
       "<Figure size 539.643x300.166 with 6 Axes>"
      ],
      "image/png": "[encoded data removed]"
     },
     "metadata": {},
     "output_type": "display_data"
    }
   ],
   "execution_count": 48
  },
  {
   "metadata": {},
   "cell_type": "markdown",
   "source": "##### FINER",
   "id": "f8b08eb124d12383"
  },
  {
   "metadata": {},
   "cell_type": "code",
   "outputs": [],
   "execution_count": null,
   "source": "",
   "id": "97e13ccb0c9de7ce"
  },
  {
   "metadata": {},
   "cell_type": "code",
   "outputs": [],
   "execution_count": null,
   "source": "",
   "id": "938e994351690afb"
  },
  {
   "metadata": {},
   "cell_type": "code",
   "outputs": [],
   "execution_count": null,
   "source": "",
   "id": "5ccbde8af2de4ac8"
  },
  {
   "metadata": {},
   "cell_type": "code",
   "outputs": [],
   "execution_count": null,
   "source": "",
   "id": "598247462d48658b"
  },
  {
   "metadata": {},
   "cell_type": "code",
   "outputs": [],
   "execution_count": null,
   "source": "",
   "id": "d924669affa72b03"
  },
  {
   "metadata": {},
   "cell_type": "code",
   "outputs": [],
   "execution_count": null,
   "source": "",
   "id": "ae383e7a2e66e6a2"
  },
  {
   "metadata": {},
   "cell_type": "markdown",
   "source": "##### GAUSSIAN",
   "id": "8b8c34ed2af97f75"
  },
  {
   "metadata": {},
   "cell_type": "code",
   "outputs": [],
   "execution_count": null,
   "source": "",
   "id": "768f9cb9aebbc534"
  },
  {
   "metadata": {},
   "cell_type": "code",
   "outputs": [],
   "execution_count": null,
   "source": "",
   "id": "2b7f42af361a04e5"
  },
  {
   "metadata": {},
   "cell_type": "code",
   "outputs": [],
   "execution_count": null,
   "source": "",
   "id": "a2e685e6f41dfffa"
  },
  {
   "metadata": {},
   "cell_type": "code",
   "outputs": [],
   "execution_count": null,
   "source": "",
   "id": "209380e922fbafbf"
  },
  {
   "metadata": {},
   "cell_type": "code",
   "outputs": [],
   "execution_count": null,
   "source": "",
   "id": "64b42d3cbce4db17"
  },
  {
   "metadata": {},
   "cell_type": "code",
   "outputs": [],
   "execution_count": null,
   "source": "",
   "id": "9245168e67f6b0a1"
  },
  {
   "metadata": {},
   "cell_type": "code",
   "outputs": [],
   "execution_count": null,
   "source": "",
   "id": "8b6a40a1c1f83c92"
  },
  {
   "metadata": {},
   "cell_type": "markdown",
   "source": "##### GAUSSIAN W/ FINER",
   "id": "90665df762416292"
  },
  {
   "metadata": {},
   "cell_type": "code",
   "outputs": [],
   "execution_count": null,
   "source": "",
   "id": "cd3e3a6caf708e78"
  },
  {
   "metadata": {},
   "cell_type": "code",
   "outputs": [],
   "execution_count": null,
   "source": "",
   "id": "4fca59fe637948a3"
  },
  {
   "metadata": {},
   "cell_type": "code",
   "outputs": [],
   "execution_count": null,
   "source": "",
   "id": "e8c3905cdca6a5b9"
  },
  {
   "metadata": {},
   "cell_type": "code",
   "outputs": [],
   "execution_count": null,
   "source": "",
   "id": "fb8cae9179e5f583"
  },
  {
   "metadata": {},
   "cell_type": "code",
   "outputs": [],
   "execution_count": null,
   "source": "",
   "id": "9b3990c0722a746"
  },
  {
   "metadata": {},
   "cell_type": "code",
   "outputs": [],
   "execution_count": null,
   "source": "",
   "id": "d89bf5bcb1a8ffdf"
  },
  {
   "metadata": {},
   "cell_type": "code",
   "outputs": [],
   "execution_count": null,
   "source": "",
   "id": "b3e2c9a44f9f3170"
  },
  {
   "metadata": {},
   "cell_type": "markdown",
   "source": "##### COMPLEX GABOR WAVELET",
   "id": "13869dbf8157b521"
  },
  {
   "metadata": {},
   "cell_type": "code",
   "outputs": [],
   "execution_count": null,
   "source": "",
   "id": "635687b16b4ea770"
  },
  {
   "metadata": {},
   "cell_type": "code",
   "outputs": [],
   "execution_count": null,
   "source": "",
   "id": "d1994ee19009366e"
  },
  {
   "metadata": {},
   "cell_type": "code",
   "outputs": [],
   "execution_count": null,
   "source": "",
   "id": "492f50a45dc590ef"
  },
  {
   "metadata": {},
   "cell_type": "code",
   "outputs": [],
   "execution_count": null,
   "source": "",
   "id": "d66ca3c8dc84f7c2"
  },
  {
   "metadata": {},
   "cell_type": "code",
   "outputs": [],
   "execution_count": null,
   "source": "",
   "id": "f4101a9e3575aa64"
  },
  {
   "metadata": {},
   "cell_type": "code",
   "outputs": [],
   "execution_count": null,
   "source": "",
   "id": "418874c112bbb832"
  },
  {
   "metadata": {},
   "cell_type": "code",
   "outputs": [],
   "execution_count": null,
   "source": "",
   "id": "84621dc4b281b53c"
  },
  {
   "metadata": {},
   "cell_type": "markdown",
   "source": "##### COMPLEX GABOR WAVELET W/ FINER",
   "id": "21f1ef320f8c4efd"
  },
  {
   "metadata": {},
   "cell_type": "code",
   "outputs": [],
   "execution_count": null,
   "source": "",
   "id": "e5c103bf542d519"
  },
  {
   "metadata": {},
   "cell_type": "code",
   "outputs": [],
   "execution_count": null,
   "source": "",
   "id": "dd8ef408ee8182f9"
  },
  {
   "metadata": {},
   "cell_type": "code",
   "outputs": [],
   "execution_count": null,
   "source": "",
   "id": "2263dc90d5ce13ce"
  },
  {
   "metadata": {},
   "cell_type": "code",
   "outputs": [],
   "execution_count": null,
   "source": "",
   "id": "c21b0069aba33c11"
  },
  {
   "metadata": {},
   "cell_type": "code",
   "outputs": [],
   "execution_count": null,
   "source": "",
   "id": "4874e03c0df922e9"
  },
  {
   "metadata": {},
   "cell_type": "code",
   "outputs": [],
   "execution_count": null,
   "source": "",
   "id": "1dfe77348d157d02"
  },
  {
   "metadata": {},
   "cell_type": "code",
   "outputs": [],
   "execution_count": null,
   "source": "",
   "id": "575ffc61d3eee20d"
  },
  {
   "metadata": {},
   "cell_type": "markdown",
   "source": "##### HYPERBOLIC SINE",
   "id": "17ac78c45c3087ca"
  },
  {
   "metadata": {},
   "cell_type": "code",
   "outputs": [],
   "execution_count": null,
   "source": "",
   "id": "5bae23bf941bfc58"
  },
  {
   "metadata": {},
   "cell_type": "code",
   "outputs": [],
   "execution_count": null,
   "source": "",
   "id": "6efa2ae223ee21f"
  },
  {
   "metadata": {},
   "cell_type": "code",
   "outputs": [],
   "execution_count": null,
   "source": "",
   "id": "9c9f2a054619d2b1"
  },
  {
   "metadata": {},
   "cell_type": "code",
   "outputs": [],
   "execution_count": null,
   "source": "",
   "id": "b42fe1a8598bdaaa"
  },
  {
   "metadata": {},
   "cell_type": "code",
   "outputs": [],
   "execution_count": null,
   "source": "",
   "id": "e967068f1ebeedbd"
  },
  {
   "metadata": {},
   "cell_type": "code",
   "outputs": [],
   "execution_count": null,
   "source": "",
   "id": "da322e8bbcb30f7d"
  },
  {
   "metadata": {},
   "cell_type": "code",
   "outputs": [],
   "execution_count": null,
   "source": "",
   "id": "a9241258df6e8002"
  },
  {
   "metadata": {},
   "cell_type": "markdown",
   "source": "##### HYPERBOLIC SINE W/ FINER",
   "id": "e096313922843844"
  },
  {
   "metadata": {},
   "cell_type": "code",
   "outputs": [],
   "execution_count": null,
   "source": "",
   "id": "b4a6884fa3bd303e"
  },
  {
   "metadata": {},
   "cell_type": "code",
   "outputs": [],
   "execution_count": null,
   "source": "",
   "id": "bcdcb9f07692f179"
  },
  {
   "metadata": {},
   "cell_type": "code",
   "outputs": [],
   "execution_count": null,
   "source": "",
   "id": "937eaf7f16198cc9"
  },
  {
   "metadata": {},
   "cell_type": "code",
   "outputs": [],
   "execution_count": null,
   "source": "",
   "id": "29e65a320fc87c52"
  },
  {
   "metadata": {},
   "cell_type": "code",
   "outputs": [],
   "execution_count": null,
   "source": "",
   "id": "46989903a855ba1c"
  },
  {
   "metadata": {},
   "cell_type": "code",
   "outputs": [],
   "execution_count": null,
   "source": "",
   "id": "c441f77affb044fa"
  },
  {
   "metadata": {},
   "cell_type": "code",
   "outputs": [],
   "execution_count": null,
   "source": "",
   "id": "b3a3c5cb2f7720de"
  },
  {
   "metadata": {},
   "cell_type": "code",
   "outputs": [],
   "execution_count": null,
   "source": "",
   "id": "7b857b1731e1c9e4"
  },
  {
   "metadata": {},
   "cell_type": "markdown",
   "source": [
    "##### SINC\n",
    "\n",
    "![](https://i0.wp.com/sefiks.com/wp-content/uploads/2018/01/sinc-function.png?resize=543%2C311&ssl=1)"
   ],
   "id": "613bd46690343fc1"
  },
  {
   "metadata": {},
   "cell_type": "code",
   "outputs": [],
   "execution_count": null,
   "source": "",
   "id": "a2ae83db02e5dab0"
  },
  {
   "metadata": {},
   "cell_type": "code",
   "outputs": [],
   "execution_count": null,
   "source": "",
   "id": "6bde8975ded845f3"
  },
  {
   "metadata": {},
   "cell_type": "code",
   "outputs": [],
   "execution_count": null,
   "source": "",
   "id": "d0c05543fe2484f7"
  },
  {
   "metadata": {},
   "cell_type": "code",
   "outputs": [],
   "execution_count": null,
   "source": "",
   "id": "d2ce58cd8d42835f"
  },
  {
   "metadata": {},
   "cell_type": "code",
   "outputs": [],
   "execution_count": null,
   "source": "",
   "id": "66132c9355bcd540"
  },
  {
   "metadata": {},
   "cell_type": "code",
   "outputs": [],
   "execution_count": null,
   "source": "",
   "id": "ed462d16205d41d6"
  },
  {
   "metadata": {},
   "cell_type": "code",
   "outputs": [],
   "execution_count": null,
   "source": "",
   "id": "878a3ccbabc023f2"
  },
  {
   "metadata": {},
   "cell_type": "code",
   "outputs": [],
   "execution_count": null,
   "source": "",
   "id": "2c4524b921882a66"
  },
  {
   "metadata": {},
   "cell_type": "code",
   "outputs": [],
   "execution_count": null,
   "source": "",
   "id": "9457d35c9f05fdbe"
  },
  {
   "metadata": {},
   "cell_type": "code",
   "outputs": [],
   "execution_count": null,
   "source": "",
   "id": "14b1038a16d34734"
  },
  {
   "metadata": {},
   "cell_type": "code",
   "outputs": [],
   "execution_count": null,
   "source": "",
   "id": "305efef17fb38277"
  }
 ],
 "metadata": {
  "kernelspec": {
   "display_name": "Python (myenv)",
   "language": "python",
   "name": "myenv"
  },
  "language_info": {
   "codemirror_mode": {
    "name": "ipython",
    "version": 2
   },
   "file_extension": ".py",
   "mimetype": "text/x-python",
   "name": "python",
   "nbconvert_exporter": "python",
   "pygments_lexer": "ipython2",
   "version": "2.7.6"
  }
 },
 "nbformat": 4,
 "nbformat_minor": 5
}
