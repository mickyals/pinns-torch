{
 "cells": [
  {
   "metadata": {
    "collapsed": true
   },
   "cell_type": "markdown",
   "source": [
    "## Tutorial - 0: Continuous Forward Schrodinger\n",
    "\n",
    "Welcome to our tutorial on the effect of differing non-linearities in Physics-Informed Neural Networks (PINNs) using `PyTorch Lightning` and the new package, **`pinnstorch`**! This guide aims to introduce you to the integration of deep learning and scientific computing via PINNs, which embed physical laws into neural network training.\n",
    "### UPDATE TO SUIT MY CHANGES\n",
    "#### Overview:\n",
    "\n",
    "- **Mesh Generation and Sampling:** Understanding how to create and use meshes for training PINNs, crucial for defining the domain of our problem.\n",
    "- **Neural Network Model with PINNs:** How to build and structure a neural network for physical law integration.\n",
    "- **Physical Laws in Neural Networks:** Detailing the implementation of differential equations within the network using `pde_fn` and `output_fn`.\n",
    "- **Training and Validation:** Utilizing PyTorch Lightning’s Trainer to train our model, including defining the training data, initial conditions, and handling boundary conditions.\n",
    "- **Results Visualization:** Saving and analyzing the outcomes of your PINN models."
   ],
   "id": "c9f9d3c73e0b9895"
  },
  {
   "metadata": {},
   "cell_type": "markdown",
   "source": "#### Install Libraries\n",
   "id": "ab5dc003f5029330"
  },
  {
   "metadata": {
    "ExecuteTime": {
     "end_time": "2025-09-17T23:17:09.838904Z",
     "start_time": "2025-09-17T23:17:07.255539Z"
    }
   },
   "cell_type": "code",
   "source": "!pip install lightning",
   "id": "dae781f435fb95df",
   "outputs": [
    {
     "name": "stdout",
     "output_type": "stream",
     "text": [
      "Requirement already satisfied: lightning in c:\\users\\micke\\anaconda3\\lib\\site-packages (2.5.5)\n",
      "Requirement already satisfied: PyYAML<8.0,>5.4 in c:\\users\\micke\\anaconda3\\lib\\site-packages (from lightning) (6.0.1)\n",
      "Requirement already satisfied: fsspec<2027.0,>=2022.5.0 in c:\\users\\micke\\anaconda3\\lib\\site-packages (from fsspec[http]<2027.0,>=2022.5.0->lightning) (2024.6.1)\n",
      "Requirement already satisfied: lightning-utilities<2.0,>=0.10.0 in c:\\users\\micke\\anaconda3\\lib\\site-packages (from lightning) (0.11.9)\n",
      "Requirement already satisfied: packaging<27.0,>=20.0 in c:\\users\\micke\\anaconda3\\lib\\site-packages (from lightning) (24.1)\n",
      "Requirement already satisfied: torch<4.0,>=2.1.0 in c:\\users\\micke\\anaconda3\\lib\\site-packages (from lightning) (2.3.1)\n",
      "Requirement already satisfied: torchmetrics<3.0,>0.7.0 in c:\\users\\micke\\anaconda3\\lib\\site-packages (from lightning) (1.4.0.post0)\n",
      "Requirement already satisfied: tqdm<6.0,>=4.57.0 in c:\\users\\micke\\anaconda3\\lib\\site-packages (from lightning) (4.66.5)\n",
      "Requirement already satisfied: typing-extensions<6.0,>4.5.0 in c:\\users\\micke\\anaconda3\\lib\\site-packages (from lightning) (4.11.0)\n",
      "Requirement already satisfied: pytorch-lightning in c:\\users\\micke\\anaconda3\\lib\\site-packages (from lightning) (2.5.0.post0)\n",
      "Requirement already satisfied: aiohttp!=4.0.0a0,!=4.0.0a1 in c:\\users\\micke\\anaconda3\\lib\\site-packages (from fsspec[http]<2027.0,>=2022.5.0->lightning) (3.10.5)\n",
      "Requirement already satisfied: setuptools in c:\\users\\micke\\anaconda3\\lib\\site-packages (from lightning-utilities<2.0,>=0.10.0->lightning) (75.1.0)\n",
      "Requirement already satisfied: filelock in c:\\users\\micke\\anaconda3\\lib\\site-packages (from torch<4.0,>=2.1.0->lightning) (3.13.1)\n",
      "Requirement already satisfied: sympy in c:\\users\\micke\\anaconda3\\lib\\site-packages (from torch<4.0,>=2.1.0->lightning) (1.13.2)\n",
      "Requirement already satisfied: networkx in c:\\users\\micke\\anaconda3\\lib\\site-packages (from torch<4.0,>=2.1.0->lightning) (3.3)\n",
      "Requirement already satisfied: jinja2 in c:\\users\\micke\\anaconda3\\lib\\site-packages (from torch<4.0,>=2.1.0->lightning) (3.1.4)\n",
      "Requirement already satisfied: numpy>1.20.0 in c:\\users\\micke\\anaconda3\\lib\\site-packages (from torchmetrics<3.0,>0.7.0->lightning) (1.26.4)\n",
      "Requirement already satisfied: colorama in c:\\users\\micke\\anaconda3\\lib\\site-packages (from tqdm<6.0,>=4.57.0->lightning) (0.4.6)\n",
      "Requirement already satisfied: aiohappyeyeballs>=2.3.0 in c:\\users\\micke\\anaconda3\\lib\\site-packages (from aiohttp!=4.0.0a0,!=4.0.0a1->fsspec[http]<2027.0,>=2022.5.0->lightning) (2.4.0)\n",
      "Requirement already satisfied: aiosignal>=1.1.2 in c:\\users\\micke\\anaconda3\\lib\\site-packages (from aiohttp!=4.0.0a0,!=4.0.0a1->fsspec[http]<2027.0,>=2022.5.0->lightning) (1.2.0)\n",
      "Requirement already satisfied: attrs>=17.3.0 in c:\\users\\micke\\anaconda3\\lib\\site-packages (from aiohttp!=4.0.0a0,!=4.0.0a1->fsspec[http]<2027.0,>=2022.5.0->lightning) (23.1.0)\n",
      "Requirement already satisfied: frozenlist>=1.1.1 in c:\\users\\micke\\anaconda3\\lib\\site-packages (from aiohttp!=4.0.0a0,!=4.0.0a1->fsspec[http]<2027.0,>=2022.5.0->lightning) (1.4.0)\n",
      "Requirement already satisfied: multidict<7.0,>=4.5 in c:\\users\\micke\\anaconda3\\lib\\site-packages (from aiohttp!=4.0.0a0,!=4.0.0a1->fsspec[http]<2027.0,>=2022.5.0->lightning) (6.0.4)\n",
      "Requirement already satisfied: yarl<2.0,>=1.0 in c:\\users\\micke\\anaconda3\\lib\\site-packages (from aiohttp!=4.0.0a0,!=4.0.0a1->fsspec[http]<2027.0,>=2022.5.0->lightning) (1.11.0)\n",
      "Requirement already satisfied: MarkupSafe>=2.0 in c:\\users\\micke\\anaconda3\\lib\\site-packages (from jinja2->torch<4.0,>=2.1.0->lightning) (2.1.3)\n",
      "Requirement already satisfied: mpmath<1.4,>=1.1.0 in c:\\users\\micke\\anaconda3\\lib\\site-packages (from sympy->torch<4.0,>=2.1.0->lightning) (1.3.0)\n",
      "Requirement already satisfied: idna>=2.0 in c:\\users\\micke\\anaconda3\\lib\\site-packages (from yarl<2.0,>=1.0->aiohttp!=4.0.0a0,!=4.0.0a1->fsspec[http]<2027.0,>=2022.5.0->lightning) (3.7)\n"
     ]
    }
   ],
   "execution_count": 1
  },
  {
   "metadata": {
    "ExecuteTime": {
     "end_time": "2025-09-17T23:17:14.018806Z",
     "start_time": "2025-09-17T23:17:09.843692Z"
    }
   },
   "cell_type": "code",
   "source": [
    "from typing import Dict\n",
    "\n",
    "import torch\n",
    "import numpy as np\n",
    "import lightning.pytorch as pl\n",
    "\n",
    "import pinnstorch"
   ],
   "id": "b9adcf0fd99bf733",
   "outputs": [],
   "execution_count": 2
  },
  {
   "metadata": {},
   "cell_type": "markdown",
   "source": [
    "### Define Mesh\n",
    "\n",
    "Physics-Informed Neural Networks (PINNs) require a discretized domain (mesh) over which the physical equations are solved. In `pinnstorch`, there are primarily two approaches to define this mesh:\n",
    "\n",
    "\n",
    "- **Defining Point Clouds:** This method involves directly utilizing spatio-temporal data (e.g., from experiments or other simulations) to create a mesh using `pinnstorch.data.PointCloud`.\n",
    "\n",
    "\n",
    "**Note:** It's crucial to format the spatial and temporal domain dimensions correctly. Specifically:\n",
    "\n",
    "- **Spatial Domain:** Each axis should be structured in the shape of $(N \\times 1)$, where $N$ represents the number of spatial points.\n",
    "- **Time Domain:** This should be formatted as $(T \\times 1)$, where $T$ indicates the number of time steps.\n",
    "- **Solution Data:** Each solution variable (e.g., temperature, velocity) should be in the shape of $(N \\times T)$, aligning with the spatial and temporal points."
   ],
   "id": "5d98b842c17438b"
  },
  {
   "metadata": {
    "ExecuteTime": {
     "end_time": "2025-09-17T23:17:14.917046Z",
     "start_time": "2025-09-17T23:17:14.907496Z"
    }
   },
   "cell_type": "code",
   "source": [
    "def read_data_fn(root_path):\n",
    "    \"\"\"Read and preprocess data from the specified root path.\n",
    "\n",
    "    :param root_path: The root directory containing the data.\n",
    "    :return: Processed data will be used in PointCloud class.\n",
    "    \"\"\"\n",
    "\n",
    "    data = pinnstorch.utils.load_data(root_path, \"NLS.mat\")\n",
    "\n",
    "    x = data[\"x\"].T  # N x 1\n",
    "    t = data[\"tt\"].T  # T x 1\n",
    "\n",
    "    exact = data[\"uu\"]\n",
    "    exact_u = np.real(exact) # N x T\n",
    "    exact_v = np.imag(exact) # N x T\n",
    "    exact_h = np.sqrt(exact_u**2 + exact_v**2) # N x T\n",
    "\n",
    "    print(f\" x has {x.shape} shape with min: {x.min()}, max: {x.max()}\")\n",
    "    print(f\" t has {t.shape} shape with min: {t.min()}, max: {t.max()}\")\n",
    "    print(f\"  exact_u {exact_u.shape} shape with min: {exact_u.min()}, max: {exact_u.max()}\")\n",
    "    print(f\" exact_v {exact_v.shape} shape with min: {exact_v.min()}, max: {exact_v.max()}\")\n",
    "    print(f\" exact_h  {exact_h.shape} shape with min: {exact_h.min()}, max: {exact_h.max()}\")\n",
    "\n",
    "\n",
    "\n",
    "    return pinnstorch.data.PointCloudData(\n",
    "            spatial=[x], time=[t], solution={\"u\": exact_u, \"v\": exact_v, \"h\": exact_h}\n",
    "    )"
   ],
   "id": "38074e2edc59658d",
   "outputs": [],
   "execution_count": 3
  },
  {
   "metadata": {
    "ExecuteTime": {
     "end_time": "2025-09-17T19:30:08.014287Z",
     "start_time": "2025-09-17T19:30:08.010618Z"
    }
   },
   "cell_type": "markdown",
   "source": "Now, mesh can be initalize with using the function and the directory to the folder of data.",
   "id": "23784c98c72c25f1"
  },
  {
   "metadata": {
    "ExecuteTime": {
     "end_time": "2025-09-17T23:17:14.948140Z",
     "start_time": "2025-09-17T23:17:14.926221Z"
    }
   },
   "cell_type": "code",
   "source": [
    "mesh = pinnstorch.data.PointCloud(root_dir='./data',\n",
    "                                  read_data_fn=read_data_fn)"
   ],
   "id": "4788121d7e93f9af",
   "outputs": [
    {
     "name": "stdout",
     "output_type": "stream",
     "text": [
      " x has (256, 1) shape with min: -5.0, max: 4.9609375\n",
      " t has (201, 1) shape with min: 0.0, max: 1.5707963267948966\n",
      "  exact_u (256, 201) shape with min: -3.932425448799453, max: 2.1998422786360754\n",
      " exact_v (256, 201) shape with min: -3.4523031901896957, max: 2.754265786698505\n",
      " exact_h  (256, 201) shape with min: 0.015981892796576278, max: 3.9987582390710266\n"
     ]
    }
   ],
   "execution_count": 4
  },
  {
   "metadata": {},
   "cell_type": "markdown",
   "source": [
    "### Define Train datasets\n",
    "\n",
    "For solving Schrodinger PDE, we have:\n",
    "- Initial condition\n",
    "- Periodic boundary condition\n",
    "- Collection points for the PDE."
   ],
   "id": "8674c5a7b7188218"
  },
  {
   "metadata": {},
   "cell_type": "markdown",
   "source": [
    "#### Initial Condition\n",
    "\n",
    "Let's start with initial condition of the Schrodinger.\n",
    "$$ u(0, x) = 2 \\text{sech}(x) $$\n",
    "$$ v(0, x) = 0 $$\n",
    "\n",
    "For defining initial condition, again we have two options.\n",
    "\n",
    "- **Sample from the data.**\n",
    "- **Defining a function for calculating initial condition.**"
   ],
   "id": "60a28a65693bcdc8"
  },
  {
   "metadata": {},
   "cell_type": "markdown",
   "source": "##### Set number of samples",
   "id": "ae47ebe2f5d93a1f"
  },
  {
   "metadata": {
    "ExecuteTime": {
     "end_time": "2025-09-17T23:17:14.963868Z",
     "start_time": "2025-09-17T23:17:14.953278Z"
    }
   },
   "cell_type": "code",
   "source": "NO = 50",
   "id": "e3f6a6a9e2842fd2",
   "outputs": [],
   "execution_count": 5
  },
  {
   "metadata": {},
   "cell_type": "markdown",
   "source": "The input of `initial_fun` should be the same as spatial domain of the problem.",
   "id": "85f122b432c5c575"
  },
  {
   "metadata": {
    "ExecuteTime": {
     "end_time": "2025-09-17T23:17:14.979769Z",
     "start_time": "2025-09-17T23:17:14.967467Z"
    }
   },
   "cell_type": "code",
   "source": [
    "def initial_fun(x):\n",
    "    return {'u': 2*1/np.cosh(x), 'v': np.zeros_like(x)}"
   ],
   "id": "7b442a17c109669c",
   "outputs": [],
   "execution_count": 6
  },
  {
   "metadata": {
    "ExecuteTime": {
     "end_time": "2025-09-17T23:17:14.995781Z",
     "start_time": "2025-09-17T23:17:14.983241Z"
    }
   },
   "cell_type": "code",
   "source": [
    "in_c = pinnstorch.data.InitialCondition(mesh = mesh,\n",
    "                                        num_sample = NO,\n",
    "                                        initial_fun = initial_fun,\n",
    "                                        solution = ['u', 'v'])"
   ],
   "id": "bb33a00e6fe19816",
   "outputs": [],
   "execution_count": 7
  },
  {
   "metadata": {},
   "cell_type": "markdown",
   "source": "The `solution` attribute in `pinnstorch.data.InitialCondition` specifies the solutions (`u` and `v` in our case) to be sampled for initial conditions.",
   "id": "87bf5e73660056f8"
  },
  {
   "metadata": {},
   "cell_type": "markdown",
   "source": "#### Periodic Boundary Condition",
   "id": "6ff7dcb5d38b74f8"
  },
  {
   "metadata": {},
   "cell_type": "markdown",
   "source": [
    "The `pinnstorch.data.PeriodicBoundaryCondition` is used to sample periodic points from the upper and lower bounds of the spatial domain (mesh). The `derivative_order` parameter specifies the order of the derivative to be matched at these boundaries. In our case, for the Schrödinger equation, both the function and its first spatial derivative should match at the boundaries, hence `derivative_order = 1`.\n",
    "\n",
    "\n",
    "$$ u(t,-5) = u(t, 5), $$\n",
    "$$ v(t,-5) = v(t, 5), $$\n",
    "$$ u_x(t,-5) = u_x(t, 5),$$\n",
    "$$ v_x(t,-5) = v_x(t, 5) $$"
   ],
   "id": "545a8422a5186c1d"
  },
  {
   "metadata": {
    "ExecuteTime": {
     "end_time": "2025-09-17T23:17:15.010846Z",
     "start_time": "2025-09-17T23:17:15.000887Z"
    }
   },
   "cell_type": "code",
   "source": [
    "N_b = 50\n",
    "pe_b = pinnstorch.data.PeriodicBoundaryCondition(mesh = mesh,\n",
    "                                                 num_sample = N_b,\n",
    "                                                 derivative_order = 1,\n",
    "                                                 solution = ['u', 'v'])"
   ],
   "id": "d065c9e5431f6688",
   "outputs": [],
   "execution_count": 8
  },
  {
   "metadata": {},
   "cell_type": "markdown",
   "source": [
    "#### Mesh Sampler for collection points and solutions\n",
    "\n",
    "In our problem, the partial differential equations (PDEs) governing the dynamics are given by:\n",
    "\n",
    "$$ f_u := u_t + 0.5v_{xx} + v(u^2 +v^2),$$\n",
    "$$ f_v := v_t + 0.5u_{xx} + u(u^2 +v^2) $$\n",
    "\n",
    "To find the solutions to these PDEs using a neural network, we must sample points from the domain at which the network will be trained to satisfy these equations. This sampling process is crucial for training our PINN. We utilize the `pinnstorch.data.MeshSampler` for this purpose, specifying the following:\n",
    "\n",
    "- **Number of Sample Points (N_f):** We choose to sample 20,000 points from the domain. This number is a balance between computational efficiency and the need for a sufficiently dense sampling to capture the dynamics of the PDEs.\n",
    "- **Mesh (mesh):** This parameter defines the spatial-temporal domain from which the points will be sampled.\n",
    "- **Collection Points:** We define `['f_u', 'f_v']` as the targets for our collection points. These are not direct outputs from the neural network but are derived from the network outputs and their derivatives (We will define `pde_fn` function later). The PINN will be trained such that these expressions tend towards zero, aligning with the PDE constraints.\n",
    "\n",
    "Here's the code to implement this sampler:"
   ],
   "id": "bd05fae32208852f"
  },
  {
   "metadata": {
    "ExecuteTime": {
     "end_time": "2025-09-17T23:17:15.041317Z",
     "start_time": "2025-09-17T23:17:15.018839Z"
    }
   },
   "cell_type": "code",
   "source": [
    "N_f = 20000\n",
    "me_s = pinnstorch.data.MeshSampler(mesh = mesh,\n",
    "                                   num_sample = N_f,\n",
    "                                   collection_points = ['f_v', 'f_u'])"
   ],
   "id": "8734a1f980770e18",
   "outputs": [],
   "execution_count": 9
  },
  {
   "metadata": {
    "ExecuteTime": {
     "end_time": "2025-09-17T23:17:15.056345Z",
     "start_time": "2025-09-17T23:17:15.046020Z"
    }
   },
   "cell_type": "code",
   "source": "",
   "id": "6ce7ae106333b202",
   "outputs": [],
   "execution_count": null
  },
  {
   "metadata": {},
   "cell_type": "markdown",
   "source": [
    "### Define Validation dataset\n",
    "\n",
    "For validation, we sample all points from the mesh to evaluate our model comprehensively. Model will be validated for solutions of `u`, `v`, and `h`.\n",
    "\n",
    "**Note:** If `num_sample` is not specified, the sampler will use the entire mesh for data sampling."
   ],
   "id": "ee7e0926eba79067"
  },
  {
   "metadata": {
    "ExecuteTime": {
     "end_time": "2025-09-17T23:17:15.071771Z",
     "start_time": "2025-09-17T23:17:15.060084Z"
    }
   },
   "cell_type": "code",
   "source": [
    "val_s = pinnstorch.data.MeshSampler(mesh = mesh,\n",
    "                                    solution = ['u', 'v', 'h'])"
   ],
   "id": "9ae2e0e436ca3f4a",
   "outputs": [],
   "execution_count": 10
  },
  {
   "metadata": {},
   "cell_type": "markdown",
   "source": [
    "### Define `pde_fn` and `output_fn` functions\n",
    "\n",
    "Now, we define `pde_fn` and `output_fn`.\n",
    "- **`output_fn`:** is applied to the network's output, adding any necessary post-processing computations. For example, in our case, `h(x,t) = u(x,t)**2 + v(x,t)**2`, thus, we define this equation in `output_fn`.\n",
    "- **`pde_fn`:** formulates the PDE constraints, which will be used by the `MeshSampler` to compute the loss at the collection points."
   ],
   "id": "8d5263552300341e"
  },
  {
   "metadata": {},
   "cell_type": "markdown",
   "source": [
    "#### `output_fn` function\n",
    "\n",
    "**Note:** `output_fn` should always have these inputs:\n",
    "- **Outputs:** It is output of the network. In our case, this dictionary should have two output: `u` and `v`.\n",
    "- **Spatial domains:** These are the spatial domain variables. In our case, because our problem has 1-D spatial domain, the input just have `x`. For example, if we had 2-D space, we need another input for that dimention. For example, the inputs from `(outputs, x, t)` will be changed to `(outputs, x, y, t)`.\n",
    "- **Time domin:** The last input of `output_fn` function always should be time."
   ],
   "id": "587ad365fece9537"
  },
  {
   "metadata": {
    "ExecuteTime": {
     "end_time": "2025-09-17T23:17:15.087811Z",
     "start_time": "2025-09-17T23:17:15.077074Z"
    }
   },
   "cell_type": "code",
   "source": [
    "def output_fn(outputs: Dict[str, torch.Tensor],\n",
    "              x: torch.Tensor,\n",
    "              t: torch.Tensor):\n",
    "    \"\"\"Define `output_fn` function that will be applied to outputs of net.\"\"\"\n",
    "\n",
    "    outputs[\"h\"] = torch.sqrt(outputs[\"u\"] ** 2 + outputs[\"v\"] ** 2)\n",
    "\n",
    "    return outputs"
   ],
   "id": "2d383cf53ae93e7f",
   "outputs": [],
   "execution_count": 11
  },
  {
   "metadata": {},
   "cell_type": "markdown",
   "source": [
    "#### `pde_fn` function\n",
    "\n",
    "The inputs are similar to `output_fn`. Only if we have extra variables for training (i.g. in inverse problems), we should add input at the end of inputs. For example, `(outputs, x, t)` will be `(outputs, x, t, extra_variable)`. `extra_variable` is always a dictionary."
   ],
   "id": "977d649c31b4e32a"
  },
  {
   "metadata": {
    "ExecuteTime": {
     "end_time": "2025-09-17T23:17:15.103532Z",
     "start_time": "2025-09-17T23:17:15.091904Z"
    }
   },
   "cell_type": "code",
   "source": [
    "def pde_fn(outputs: Dict[str, torch.Tensor],\n",
    "           x: torch.Tensor,\n",
    "           t: torch.Tensor):\n",
    "    \"\"\"Define the partial differential equations (PDEs).\"\"\"\n",
    "    u_x, u_t = pinnstorch.utils.gradient(outputs[\"u\"], [x, t])\n",
    "    v_x, v_t = pinnstorch.utils.gradient(outputs[\"v\"], [x, t])\n",
    "\n",
    "    u_xx = pinnstorch.utils.gradient(u_x, x)[0]\n",
    "    v_xx = pinnstorch.utils.gradient(v_x, x)[0]\n",
    "\n",
    "    outputs[\"f_u\"] = u_t + 0.5 * v_xx + (outputs[\"u\"] ** 2 + outputs[\"v\"] ** 2) * outputs[\"v\"]\n",
    "    outputs[\"f_v\"] = v_t - 0.5 * u_xx - (outputs[\"u\"] ** 2 + outputs[\"v\"] ** 2) * outputs[\"u\"]\n",
    "\n",
    "    return outputs"
   ],
   "id": "7db6b0340b71302f",
   "outputs": [],
   "execution_count": 12
  },
  {
   "metadata": {},
   "cell_type": "markdown",
   "source": [
    "### Define PINNDataModule and PINNModule\n",
    "\n",
    "To integrate with Lightning, we utilize two specialized modules:\n",
    "\n",
    "- `PINNDataModule` (inherited from `LightningDataModule`) manages data.\n",
    "- `PINNModule` (derived from `LightningModule`) handles the model, compilation, and various enhancements like AMP."
   ],
   "id": "a5df194ad77c0b59"
  },
  {
   "metadata": {},
   "cell_type": "markdown",
   "source": [
    "#### Define `PINNDataModule`\n",
    "Here, we define collection points, initial condition, and preiodic boundary condition as training datasets, and also, we set validation set. `PINNDataModule` is used for defining training, validation, prediction, and test datasets."
   ],
   "id": "215ed7a78b79aeff"
  },
  {
   "metadata": {
    "ExecuteTime": {
     "end_time": "2025-09-17T23:17:15.118776Z",
     "start_time": "2025-09-17T23:17:15.107256Z"
    }
   },
   "cell_type": "code",
   "source": [
    "train_datasets = [me_s, in_c, pe_b]\n",
    "val_dataset = val_s\n",
    "datamodule = pinnstorch.data.PINNDataModule(train_datasets = [me_s, in_c, pe_b],\n",
    "                                            val_dataset = val_dataset,\n",
    "                                            pred_dataset = val_s)"
   ],
   "id": "c0d300c122c8d391",
   "outputs": [],
   "execution_count": 13
  },
  {
   "metadata": {
    "ExecuteTime": {
     "end_time": "2025-09-17T23:17:15.134390Z",
     "start_time": "2025-09-17T23:17:15.122017Z"
    }
   },
   "cell_type": "code",
   "source": "",
   "id": "1d8e0f73cf1f535",
   "outputs": [],
   "execution_count": null
  },
  {
   "metadata": {
    "ExecuteTime": {
     "end_time": "2025-09-17T23:17:15.149630Z",
     "start_time": "2025-09-17T23:17:15.138001Z"
    }
   },
   "cell_type": "code",
   "source": "",
   "id": "d11c0978e302a0de",
   "outputs": [],
   "execution_count": null
  },
  {
   "metadata": {},
   "cell_type": "markdown",
   "source": "## DEFINING MODELS",
   "id": "334e55234654ce2c"
  },
  {
   "metadata": {
    "ExecuteTime": {
     "end_time": "2025-09-17T23:17:15.165279Z",
     "start_time": "2025-09-17T23:17:15.153139Z"
    }
   },
   "cell_type": "code",
   "source": "import time",
   "id": "e29bd05361908ec4",
   "outputs": [],
   "execution_count": 14
  },
  {
   "metadata": {},
   "cell_type": "markdown",
   "source": "Define the layers and epochs of your model below",
   "id": "e28301889029a884"
  },
  {
   "metadata": {
    "ExecuteTime": {
     "end_time": "2025-09-17T23:17:15.180332Z",
     "start_time": "2025-09-17T23:17:15.168855Z"
    }
   },
   "cell_type": "code",
   "source": [
    "layers = [2, 100, 100, 100, 100, 2]\n",
    "num_epochs = 100"
   ],
   "id": "9bed08d5d22ba984",
   "outputs": [],
   "execution_count": 15
  },
  {
   "metadata": {},
   "cell_type": "markdown",
   "source": "### Activations and Initializers\n",
   "id": "186c0d1f29eaa9f3"
  },
  {
   "metadata": {},
   "cell_type": "markdown",
   "source": [
    "##### DEFAULT\n",
    "\n",
    "The default activation for PINNS is typically the `Hyperbolic Tangent` also known as `Tanh`.\n",
    "\n",
    "![](https://www.aitude.com/wp-content/uploads/2020/08/507x279xtanh-graph-aitude-1024x564.png.pagespeed.ic.W1m7DEvoG3.png)\n"
   ],
   "id": "bd4c24b099d27daa"
  },
  {
   "metadata": {
    "ExecuteTime": {
     "end_time": "2025-09-17T23:17:15.196069Z",
     "start_time": "2025-09-17T23:17:15.183910Z"
    }
   },
   "cell_type": "code",
   "source": [
    "net_tanh = pinnstorch.models.FCN(layers=layers,\n",
    "                            output_names=['u', 'v'],\n",
    "                            lb=mesh.lb,\n",
    "                            ub=mesh.ub,\n",
    "                            activation=\"TANH\",  # use registry\n",
    "                            activation_kwargs={},  # extra params\n",
    "                            initializer=\"XAVIER_UNIFORM\",  # use registry\n",
    "                            initializer_kwargs={},  # extra params\n",
    "                            layer_type='BASE',\n",
    "                            layer_kwargs={}\n",
    "                            )"
   ],
   "id": "6c909e0e7dda63f",
   "outputs": [],
   "execution_count": 16
  },
  {
   "metadata": {
    "ExecuteTime": {
     "end_time": "2025-09-17T23:17:15.211975Z",
     "start_time": "2025-09-17T23:17:15.200205Z"
    }
   },
   "cell_type": "code",
   "source": [
    "model = pinnstorch.models.PINNModule(net = net_tanh,\n",
    "                                     pde_fn = pde_fn,\n",
    "                                     output_fn = output_fn,\n",
    "                                     loss_fn = 'mse')"
   ],
   "id": "baa3e48c0599da9f",
   "outputs": [],
   "execution_count": 17
  },
  {
   "metadata": {
    "ExecuteTime": {
     "end_time": "2025-09-17T23:17:24.743943Z",
     "start_time": "2025-09-17T23:17:15.216059Z"
    }
   },
   "cell_type": "code",
   "source": [
    "trainer = pl.Trainer(accelerator='gpu', devices=1, max_epochs = num_epochs)\n",
    "start_time = time.time()\n",
    "\n",
    "trainer.fit(model=model, datamodule=datamodule)\n",
    "end_time = time.time()\n",
    "\n",
    "total_time = end_time - start_time\n",
    "hours = total_time // 3600\n",
    "minutes = (total_time % 3600) // 60\n",
    "seconds = total_time % 60\n",
    "\n",
    "print(f\"Training time: {hours}h {minutes}m {seconds}s\")"
   ],
   "id": "4ddb88772b1c73a",
   "outputs": [
    {
     "name": "stderr",
     "output_type": "stream",
     "text": [
      "💡 Tip: For seamless cloud uploads and versioning, try installing [litmodels](https://pypi.org/project/litmodels/) to enable LitModelCheckpoint, which syncs automatically with the Lightning model registry.\n",
      "GPU available: True (cuda), used: True\n",
      "TPU available: False, using: 0 TPU cores\n",
      "HPU available: False, using: 0 HPUs\n",
      "C:\\Users\\micke\\anaconda3\\envs\\myenv\\lib\\site-packages\\lightning\\pytorch\\trainer\\connectors\\logger_connector\\logger_connector.py:76: Starting from v1.9.0, `tensorboardX` has been removed as a dependency of the `lightning.pytorch` package, due to potential conflicts with other packages in the ML ecosystem. For this reason, `logger=True` will use `CSVLogger` as the default logger, unless the `tensorboard` or `tensorboardX` packages are found. Please `pip install lightning[extra]` or one of them to enable TensorBoard support by default\n",
      "You are using a CUDA device ('NVIDIA GeForce RTX 4080 Laptop GPU') that has Tensor Cores. To properly utilize them, you should set `torch.set_float32_matmul_precision('medium' | 'high')` which will trade-off precision for performance. For more details, read https://pytorch.org/docs/stable/generated/torch.set_float32_matmul_precision.html#torch.set_float32_matmul_precision\n",
      "LOCAL_RANK: 0 - CUDA_VISIBLE_DEVICES: [0]\n",
      "\n",
      "  | Name          | Type       | Params | Mode \n",
      "-----------------------------------------------------\n",
      "0 | net           | FCN        | 30.8 K | train\n",
      "1 | train_loss    | MeanMetric | 0      | train\n",
      "2 | val_loss      | MeanMetric | 0      | train\n",
      "3 | val_error     | MeanMetric | 0      | train\n",
      "4 | test_loss     | MeanMetric | 0      | train\n",
      "5 | test_error    | MeanMetric | 0      | train\n",
      "6 | val_loss_best | MinMetric  | 0      | train\n",
      "-----------------------------------------------------\n",
      "30.8 K    Trainable params\n",
      "0         Non-trainable params\n",
      "30.8 K    Total params\n",
      "0.123     Total estimated model params size (MB)\n",
      "23        Modules in train mode\n",
      "0         Modules in eval mode\n"
     ]
    },
    {
     "name": "stdout",
     "output_type": "stream",
     "text": [
      "Sanity Checking DataLoader 0:   0%|          | 0/1 [00:00<?, ?it/s]"
     ]
    },
    {
     "name": "stderr",
     "output_type": "stream",
     "text": [
      "C:\\Users\\micke\\anaconda3\\envs\\myenv\\lib\\site-packages\\lightning\\pytorch\\trainer\\connectors\\data_connector.py:377: You have overridden `transfer_batch_to_device` in `LightningModule` but have passed in a `LightningDataModule`. It will use the implementation from `LightningModule` instance.\n"
     ]
    },
    {
     "name": "stdout",
     "output_type": "stream",
     "text": [
      "                                                                           "
     ]
    },
    {
     "name": "stderr",
     "output_type": "stream",
     "text": [
      "C:\\Users\\micke\\anaconda3\\envs\\myenv\\lib\\site-packages\\lightning\\pytorch\\loops\\fit_loop.py:310: The number of training batches (1) is smaller than the logging interval Trainer(log_every_n_steps=50). Set a lower value for log_every_n_steps if you want to see logs for the training epoch.\n"
     ]
    },
    {
     "name": "stdout",
     "output_type": "stream",
     "text": [
      "Epoch 0:   0%|          | 0/1 [00:00<?, ?it/s]"
     ]
    },
    {
     "name": "stderr",
     "output_type": "stream",
     "text": [
      "C:\\Users\\micke\\anaconda3\\envs\\myenv\\lib\\site-packages\\torch\\jit\\_trace.py:165: UserWarning: The .grad attribute of a Tensor that is not a leaf Tensor is being accessed. Its .grad attribute won't be populated during autograd.backward(). If you indeed want the .grad field to be populated for a non-leaf Tensor, use .retain_grad() on the non-leaf Tensor. If you access the non-leaf Tensor by mistake, make sure you access the leaf Tensor instead. See github.com/pytorch/pytorch/pull/30531 for more informations. (Triggered internally at C:\\actions-runner\\_work\\pytorch\\pytorch\\pytorch\\build\\aten\\src\\ATen/core/TensorBody.h:494.)\n",
      "  if a.grad is not None:\n",
      "C:\\Users\\micke\\anaconda3\\envs\\myenv\\lib\\site-packages\\torch\\jit\\_trace.py:165: UserWarning: The .grad attribute of a Tensor that is not a leaf Tensor is being accessed. Its .grad attribute won't be populated during autograd.backward(). If you indeed want the .grad field to be populated for a non-leaf Tensor, use .retain_grad() on the non-leaf Tensor. If you access the non-leaf Tensor by mistake, make sure you access the leaf Tensor instead. See github.com/pytorch/pytorch/pull/30531 for more informations. (Triggered internally at C:\\actions-runner\\_work\\pytorch\\pytorch\\pytorch\\build\\aten\\src\\ATen/core/TensorBody.h:494.)\n",
      "  if a.grad is not None:\n",
      "C:\\Users\\micke\\anaconda3\\envs\\myenv\\lib\\site-packages\\torch\\jit\\_trace.py:165: UserWarning: The .grad attribute of a Tensor that is not a leaf Tensor is being accessed. Its .grad attribute won't be populated during autograd.backward(). If you indeed want the .grad field to be populated for a non-leaf Tensor, use .retain_grad() on the non-leaf Tensor. If you access the non-leaf Tensor by mistake, make sure you access the leaf Tensor instead. See github.com/pytorch/pytorch/pull/30531 for more informations. (Triggered internally at C:\\actions-runner\\_work\\pytorch\\pytorch\\pytorch\\build\\aten\\src\\ATen/core/TensorBody.h:494.)\n",
      "  if a.grad is not None:\n"
     ]
    },
    {
     "name": "stdout",
     "output_type": "stream",
     "text": [
      "Epoch 0: 100%|██████████| 1/1 [00:01<00:00,  0.51it/s, v_num=2, train/loss_step=1.630]"
     ]
    },
    {
     "name": "stderr",
     "output_type": "stream",
     "text": [
      "C:\\Users\\micke\\anaconda3\\envs\\myenv\\lib\\site-packages\\torch\\jit\\_trace.py:165: UserWarning: The .grad attribute of a Tensor that is not a leaf Tensor is being accessed. Its .grad attribute won't be populated during autograd.backward(). If you indeed want the .grad field to be populated for a non-leaf Tensor, use .retain_grad() on the non-leaf Tensor. If you access the non-leaf Tensor by mistake, make sure you access the leaf Tensor instead. See github.com/pytorch/pytorch/pull/30531 for more informations. (Triggered internally at C:\\actions-runner\\_work\\pytorch\\pytorch\\pytorch\\build\\aten\\src\\ATen/core/TensorBody.h:494.)\n",
      "  if a.grad is not None:\n",
      "C:\\Users\\micke\\anaconda3\\envs\\myenv\\lib\\site-packages\\torch\\jit\\_trace.py:165: UserWarning: The .grad attribute of a Tensor that is not a leaf Tensor is being accessed. Its .grad attribute won't be populated during autograd.backward(). If you indeed want the .grad field to be populated for a non-leaf Tensor, use .retain_grad() on the non-leaf Tensor. If you access the non-leaf Tensor by mistake, make sure you access the leaf Tensor instead. See github.com/pytorch/pytorch/pull/30531 for more informations. (Triggered internally at C:\\actions-runner\\_work\\pytorch\\pytorch\\pytorch\\build\\aten\\src\\ATen/core/TensorBody.h:494.)\n",
      "  if a.grad is not None:\n"
     ]
    },
    {
     "name": "stdout",
     "output_type": "stream",
     "text": [
      "\n",
      "Validation: |          | 0/? [00:00<?, ?it/s]\u001B[A\n",
      "Validation: |          | 0/? [00:00<?, ?it/s]\u001B[A\n",
      "Validation DataLoader 0:   0%|          | 0/1 [00:00<?, ?it/s]\u001B[A\n",
      "Validation DataLoader 0: 100%|██████████| 1/1 [00:00<00:00, 132.66it/s]\u001B[A\n",
      "Epoch 1: 100%|██████████| 1/1 [00:00<00:00,  6.81it/s, v_num=2, train/loss_step=0.485, val/loss=1.180, val/error_u=0.880, val/error_v=0.970, val/error_h=0.798, val/loss_best=1.180, train/loss_epoch=1.630]\n",
      "Validation: |          | 0/? [00:00<?, ?it/s]\u001B[A\n",
      "Validation: |          | 0/? [00:00<?, ?it/s]\u001B[A\n",
      "Validation DataLoader 0:   0%|          | 0/1 [00:00<?, ?it/s]\u001B[A\n",
      "Validation DataLoader 0: 100%|██████████| 1/1 [00:00<00:00, 103.23it/s]\u001B[A\n",
      "Epoch 2: 100%|██████████| 1/1 [00:00<00:00,  2.01it/s, v_num=2, train/loss_step=1.110, val/loss=1.490, val/error_u=0.995, val/error_v=1.270, val/error_h=0.796, val/loss_best=1.180, train/loss_epoch=0.485]\n",
      "Validation: |          | 0/? [00:00<?, ?it/s]\u001B[A\n",
      "Validation: |          | 0/? [00:00<?, ?it/s]\u001B[A\n",
      "Validation DataLoader 0:   0%|          | 0/1 [00:00<?, ?it/s]\u001B[A\n",
      "Validation DataLoader 0: 100%|██████████| 1/1 [00:00<00:00, 105.61it/s]\u001B[A\n",
      "Epoch 3: 100%|██████████| 1/1 [00:00<00:00, 38.63it/s, v_num=2, train/loss_step=0.949, val/loss=1.500, val/error_u=0.892, val/error_v=1.440, val/error_h=0.771, val/loss_best=1.180, train/loss_epoch=1.110]\n",
      "Validation: |          | 0/? [00:00<?, ?it/s]\u001B[A\n",
      "Validation: |          | 0/? [00:00<?, ?it/s]\u001B[A\n",
      "Validation DataLoader 0:   0%|          | 0/1 [00:00<?, ?it/s]\u001B[A\n",
      "Validation DataLoader 0: 100%|██████████| 1/1 [00:00<00:00, 92.87it/s]\u001B[A\n",
      "Epoch 4: 100%|██████████| 1/1 [00:00<00:00, 37.28it/s, v_num=2, train/loss_step=0.730, val/loss=1.420, val/error_u=0.877, val/error_v=1.360, val/error_h=0.773, val/loss_best=1.180, train/loss_epoch=0.949]\n",
      "Validation: |          | 0/? [00:00<?, ?it/s]\u001B[A\n",
      "Validation: |          | 0/? [00:00<?, ?it/s]\u001B[A\n",
      "Validation DataLoader 0:   0%|          | 0/1 [00:00<?, ?it/s]\u001B[A\n",
      "Validation DataLoader 0: 100%|██████████| 1/1 [00:00<00:00, 93.44it/s]\u001B[A\n",
      "Epoch 5: 100%|██████████| 1/1 [00:00<00:00, 36.96it/s, v_num=2, train/loss_step=0.636, val/loss=1.390, val/error_u=0.908, val/error_v=1.200, val/error_h=0.828, val/loss_best=1.180, train/loss_epoch=0.730]\n",
      "Validation: |          | 0/? [00:00<?, ?it/s]\u001B[A\n",
      "Validation: |          | 0/? [00:00<?, ?it/s]\u001B[A\n",
      "Validation DataLoader 0:   0%|          | 0/1 [00:00<?, ?it/s]\u001B[A\n",
      "Validation DataLoader 0: 100%|██████████| 1/1 [00:00<00:00, 101.80it/s]\u001B[A\n",
      "Epoch 6: 100%|██████████| 1/1 [00:00<00:00, 35.35it/s, v_num=2, train/loss_step=0.577, val/loss=1.370, val/error_u=0.908, val/error_v=1.050, val/error_h=0.888, val/loss_best=1.180, train/loss_epoch=0.636]\n",
      "Validation: |          | 0/? [00:00<?, ?it/s]\u001B[A\n",
      "Validation: |          | 0/? [00:00<?, ?it/s]\u001B[A\n",
      "Validation DataLoader 0:   0%|          | 0/1 [00:00<?, ?it/s]\u001B[A\n",
      "Validation DataLoader 0: 100%|██████████| 1/1 [00:00<00:00, 72.29it/s]\u001B[A\n",
      "Epoch 7: 100%|██████████| 1/1 [00:00<00:00, 35.48it/s, v_num=2, train/loss_step=0.539, val/loss=1.240, val/error_u=0.877, val/error_v=0.969, val/error_h=0.848, val/loss_best=1.180, train/loss_epoch=0.577]\n",
      "Validation: |          | 0/? [00:00<?, ?it/s]\u001B[A\n",
      "Validation: |          | 0/? [00:00<?, ?it/s]\u001B[A\n",
      "Validation DataLoader 0:   0%|          | 0/1 [00:00<?, ?it/s]\u001B[A\n",
      "Validation DataLoader 0: 100%|██████████| 1/1 [00:00<00:00, 97.71it/s]\u001B[A\n",
      "Epoch 8: 100%|██████████| 1/1 [00:00<00:00, 36.35it/s, v_num=2, train/loss_step=0.542, val/loss=1.130, val/error_u=0.854, val/error_v=0.970, val/error_h=0.780, val/loss_best=1.130, train/loss_epoch=0.539]\n",
      "Validation: |          | 0/? [00:00<?, ?it/s]\u001B[A\n",
      "Validation: |          | 0/? [00:00<?, ?it/s]\u001B[A\n",
      "Validation DataLoader 0:   0%|          | 0/1 [00:00<?, ?it/s]\u001B[A\n",
      "Validation DataLoader 0: 100%|██████████| 1/1 [00:00<00:00, 86.49it/s]\u001B[A\n",
      "Epoch 9: 100%|██████████| 1/1 [00:00<00:00, 36.28it/s, v_num=2, train/loss_step=0.609, val/loss=1.140, val/error_u=0.868, val/error_v=1.010, val/error_h=0.757, val/loss_best=1.130, train/loss_epoch=0.542]\n",
      "Validation: |          | 0/? [00:00<?, ?it/s]\u001B[A\n",
      "Validation: |          | 0/? [00:00<?, ?it/s]\u001B[A\n",
      "Validation DataLoader 0:   0%|          | 0/1 [00:00<?, ?it/s]\u001B[A\n",
      "Validation DataLoader 0: 100%|██████████| 1/1 [00:00<00:00, 97.63it/s]\u001B[A\n",
      "Epoch 10: 100%|██████████| 1/1 [00:00<00:00, 35.41it/s, v_num=2, train/loss_step=0.665, val/loss=1.180, val/error_u=0.895, val/error_v=1.030, val/error_h=0.762, val/loss_best=1.130, train/loss_epoch=0.609]\n",
      "Validation: |          | 0/? [00:00<?, ?it/s]\u001B[A\n",
      "Validation: |          | 0/? [00:00<?, ?it/s]\u001B[A\n",
      "Validation DataLoader 0:   0%|          | 0/1 [00:00<?, ?it/s]\u001B[A\n",
      "Validation DataLoader 0: 100%|██████████| 1/1 [00:00<00:00, 97.82it/s]\u001B[A\n",
      "Epoch 11: 100%|██████████| 1/1 [00:00<00:00, 36.09it/s, v_num=2, train/loss_step=0.585, val/loss=1.160, val/error_u=0.891, val/error_v=1.000, val/error_h=0.759, val/loss_best=1.130, train/loss_epoch=0.665]\n",
      "Validation: |          | 0/? [00:00<?, ?it/s]\u001B[A\n",
      "Validation: |          | 0/? [00:00<?, ?it/s]\u001B[A\n",
      "Validation DataLoader 0:   0%|          | 0/1 [00:00<?, ?it/s]\u001B[A\n",
      "Validation DataLoader 0: 100%|██████████| 1/1 [00:00<00:00, 81.81it/s]\u001B[A\n",
      "Epoch 12: 100%|██████████| 1/1 [00:00<00:00, 35.26it/s, v_num=2, train/loss_step=0.477, val/loss=1.120, val/error_u=0.871, val/error_v=0.973, val/error_h=0.758, val/loss_best=1.120, train/loss_epoch=0.585]\n",
      "Validation: |          | 0/? [00:00<?, ?it/s]\u001B[A\n",
      "Validation: |          | 0/? [00:00<?, ?it/s]\u001B[A\n",
      "Validation DataLoader 0:   0%|          | 0/1 [00:00<?, ?it/s]\u001B[A\n",
      "Validation DataLoader 0: 100%|██████████| 1/1 [00:00<00:00, 102.65it/s]\u001B[A\n",
      "Epoch 13: 100%|██████████| 1/1 [00:00<00:00, 36.29it/s, v_num=2, train/loss_step=0.428, val/loss=1.120, val/error_u=0.859, val/error_v=0.965, val/error_h=0.772, val/loss_best=1.120, train/loss_epoch=0.477]\n",
      "Validation: |          | 0/? [00:00<?, ?it/s]\u001B[A\n",
      "Validation: |          | 0/? [00:00<?, ?it/s]\u001B[A\n",
      "Validation DataLoader 0:   0%|          | 0/1 [00:00<?, ?it/s]\u001B[A\n",
      "Validation DataLoader 0: 100%|██████████| 1/1 [00:00<00:00, 99.25it/s]\u001B[A\n",
      "Epoch 14: 100%|██████████| 1/1 [00:00<00:00, 36.69it/s, v_num=2, train/loss_step=0.426, val/loss=1.160, val/error_u=0.857, val/error_v=0.983, val/error_h=0.789, val/loss_best=1.120, train/loss_epoch=0.428]\n",
      "Validation: |          | 0/? [00:00<?, ?it/s]\u001B[A\n",
      "Validation: |          | 0/? [00:00<?, ?it/s]\u001B[A\n",
      "Validation DataLoader 0:   0%|          | 0/1 [00:00<?, ?it/s]\u001B[A\n",
      "Validation DataLoader 0: 100%|██████████| 1/1 [00:00<00:00, 89.65it/s]\u001B[A\n",
      "Epoch 15: 100%|██████████| 1/1 [00:00<00:00, 33.37it/s, v_num=2, train/loss_step=0.446, val/loss=1.190, val/error_u=0.858, val/error_v=1.020, val/error_h=0.797, val/loss_best=1.120, train/loss_epoch=0.426]\n",
      "Validation: |          | 0/? [00:00<?, ?it/s]\u001B[A\n",
      "Validation: |          | 0/? [00:00<?, ?it/s]\u001B[A\n",
      "Validation DataLoader 0:   0%|          | 0/1 [00:00<?, ?it/s]\u001B[A\n",
      "Validation DataLoader 0: 100%|██████████| 1/1 [00:00<00:00, 67.39it/s]\u001B[A\n",
      "Epoch 16: 100%|██████████| 1/1 [00:00<00:00, 38.03it/s, v_num=2, train/loss_step=0.468, val/loss=1.200, val/error_u=0.859, val/error_v=1.050, val/error_h=0.792, val/loss_best=1.120, train/loss_epoch=0.446]\n",
      "Validation: |          | 0/? [00:00<?, ?it/s]\u001B[A\n",
      "Validation: |          | 0/? [00:00<?, ?it/s]\u001B[A\n",
      "Validation DataLoader 0:   0%|          | 0/1 [00:00<?, ?it/s]\u001B[A\n",
      "Validation DataLoader 0: 100%|██████████| 1/1 [00:00<00:00, 95.26it/s]\u001B[A\n",
      "Epoch 17: 100%|██████████| 1/1 [00:00<00:00, 37.60it/s, v_num=2, train/loss_step=0.482, val/loss=1.200, val/error_u=0.862, val/error_v=1.070, val/error_h=0.782, val/loss_best=1.120, train/loss_epoch=0.468]\n",
      "Validation: |          | 0/? [00:00<?, ?it/s]\u001B[A\n",
      "Validation: |          | 0/? [00:00<?, ?it/s]\u001B[A\n",
      "Validation DataLoader 0:   0%|          | 0/1 [00:00<?, ?it/s]\u001B[A\n",
      "Validation DataLoader 0: 100%|██████████| 1/1 [00:00<00:00, 78.42it/s]\u001B[A\n",
      "Epoch 18: 100%|██████████| 1/1 [00:00<00:00, 38.27it/s, v_num=2, train/loss_step=0.484, val/loss=1.200, val/error_u=0.870, val/error_v=1.070, val/error_h=0.771, val/loss_best=1.120, train/loss_epoch=0.482]\n",
      "Validation: |          | 0/? [00:00<?, ?it/s]\u001B[A\n",
      "Validation: |          | 0/? [00:00<?, ?it/s]\u001B[A\n",
      "Validation DataLoader 0:   0%|          | 0/1 [00:00<?, ?it/s]\u001B[A\n",
      "Validation DataLoader 0: 100%|██████████| 1/1 [00:00<00:00, 95.17it/s]\u001B[A\n",
      "Epoch 19: 100%|██████████| 1/1 [00:00<00:00, 37.47it/s, v_num=2, train/loss_step=0.475, val/loss=1.190, val/error_u=0.885, val/error_v=1.060, val/error_h=0.762, val/loss_best=1.120, train/loss_epoch=0.484]\n",
      "Validation: |          | 0/? [00:00<?, ?it/s]\u001B[A\n",
      "Validation: |          | 0/? [00:00<?, ?it/s]\u001B[A\n",
      "Validation DataLoader 0:   0%|          | 0/1 [00:00<?, ?it/s]\u001B[A\n",
      "Validation DataLoader 0: 100%|██████████| 1/1 [00:00<00:00, 80.69it/s]\u001B[A\n",
      "Epoch 20: 100%|██████████| 1/1 [00:00<00:00, 37.06it/s, v_num=2, train/loss_step=0.458, val/loss=1.190, val/error_u=0.903, val/error_v=1.030, val/error_h=0.758, val/loss_best=1.120, train/loss_epoch=0.475]\n",
      "Validation: |          | 0/? [00:00<?, ?it/s]\u001B[A\n",
      "Validation: |          | 0/? [00:00<?, ?it/s]\u001B[A\n",
      "Validation DataLoader 0:   0%|          | 0/1 [00:00<?, ?it/s]\u001B[A\n",
      "Validation DataLoader 0: 100%|██████████| 1/1 [00:00<00:00, 89.48it/s]\u001B[A\n",
      "Epoch 21: 100%|██████████| 1/1 [00:00<00:00, 35.87it/s, v_num=2, train/loss_step=0.436, val/loss=1.180, val/error_u=0.917, val/error_v=1.010, val/error_h=0.756, val/loss_best=1.120, train/loss_epoch=0.458]\n",
      "Validation: |          | 0/? [00:00<?, ?it/s]\u001B[A\n",
      "Validation: |          | 0/? [00:00<?, ?it/s]\u001B[A\n",
      "Validation DataLoader 0:   0%|          | 0/1 [00:00<?, ?it/s]\u001B[A\n",
      "Validation DataLoader 0: 100%|██████████| 1/1 [00:00<00:00, 98.72it/s]\u001B[A\n",
      "Epoch 22: 100%|██████████| 1/1 [00:00<00:00, 35.73it/s, v_num=2, train/loss_step=0.415, val/loss=1.170, val/error_u=0.920, val/error_v=0.988, val/error_h=0.756, val/loss_best=1.120, train/loss_epoch=0.436]\n",
      "Validation: |          | 0/? [00:00<?, ?it/s]\u001B[A\n",
      "Validation: |          | 0/? [00:00<?, ?it/s]\u001B[A\n",
      "Validation DataLoader 0:   0%|          | 0/1 [00:00<?, ?it/s]\u001B[A\n",
      "Validation DataLoader 0: 100%|██████████| 1/1 [00:00<00:00, 78.36it/s]\u001B[A\n",
      "Epoch 23: 100%|██████████| 1/1 [00:00<00:00, 34.13it/s, v_num=2, train/loss_step=0.401, val/loss=1.160, val/error_u=0.912, val/error_v=0.980, val/error_h=0.755, val/loss_best=1.120, train/loss_epoch=0.415]\n",
      "Validation: |          | 0/? [00:00<?, ?it/s]\u001B[A\n",
      "Validation: |          | 0/? [00:00<?, ?it/s]\u001B[A\n",
      "Validation DataLoader 0:   0%|          | 0/1 [00:00<?, ?it/s]\u001B[A\n",
      "Validation DataLoader 0: 100%|██████████| 1/1 [00:00<00:00, 99.33it/s]\u001B[A\n",
      "Epoch 24: 100%|██████████| 1/1 [00:00<00:00, 38.97it/s, v_num=2, train/loss_step=0.399, val/loss=1.150, val/error_u=0.897, val/error_v=0.983, val/error_h=0.754, val/loss_best=1.120, train/loss_epoch=0.401]\n",
      "Validation: |          | 0/? [00:00<?, ?it/s]\u001B[A\n",
      "Validation: |          | 0/? [00:00<?, ?it/s]\u001B[A\n",
      "Validation DataLoader 0:   0%|          | 0/1 [00:00<?, ?it/s]\u001B[A\n",
      "Validation DataLoader 0: 100%|██████████| 1/1 [00:00<00:00, 92.28it/s]\u001B[A\n",
      "Epoch 25: 100%|██████████| 1/1 [00:00<00:00, 38.06it/s, v_num=2, train/loss_step=0.409, val/loss=1.140, val/error_u=0.882, val/error_v=0.990, val/error_h=0.754, val/loss_best=1.120, train/loss_epoch=0.399]\n",
      "Validation: |          | 0/? [00:00<?, ?it/s]\u001B[A\n",
      "Validation: |          | 0/? [00:00<?, ?it/s]\u001B[A\n",
      "Validation DataLoader 0:   0%|          | 0/1 [00:00<?, ?it/s]\u001B[A\n",
      "Validation DataLoader 0: 100%|██████████| 1/1 [00:00<00:00, 84.96it/s]\u001B[A\n",
      "Epoch 26: 100%|██████████| 1/1 [00:00<00:00, 37.75it/s, v_num=2, train/loss_step=0.423, val/loss=1.140, val/error_u=0.871, val/error_v=0.998, val/error_h=0.755, val/loss_best=1.120, train/loss_epoch=0.409]\n",
      "Validation: |          | 0/? [00:00<?, ?it/s]\u001B[A\n",
      "Validation: |          | 0/? [00:00<?, ?it/s]\u001B[A\n",
      "Validation DataLoader 0:   0%|          | 0/1 [00:00<?, ?it/s]\u001B[A\n",
      "Validation DataLoader 0: 100%|██████████| 1/1 [00:00<00:00, 93.52it/s]\u001B[A\n",
      "Epoch 27: 100%|██████████| 1/1 [00:00<00:00, 38.76it/s, v_num=2, train/loss_step=0.432, val/loss=1.130, val/error_u=0.866, val/error_v=1.000, val/error_h=0.756, val/loss_best=1.120, train/loss_epoch=0.423]\n",
      "Validation: |          | 0/? [00:00<?, ?it/s]\u001B[A\n",
      "Validation: |          | 0/? [00:00<?, ?it/s]\u001B[A\n",
      "Validation DataLoader 0:   0%|          | 0/1 [00:00<?, ?it/s]\u001B[A\n",
      "Validation DataLoader 0: 100%|██████████| 1/1 [00:00<00:00, 89.89it/s]\u001B[A\n",
      "Epoch 28: 100%|██████████| 1/1 [00:00<00:00, 38.10it/s, v_num=2, train/loss_step=0.431, val/loss=1.130, val/error_u=0.864, val/error_v=1.000, val/error_h=0.756, val/loss_best=1.120, train/loss_epoch=0.432]\n",
      "Validation: |          | 0/? [00:00<?, ?it/s]\u001B[A\n",
      "Validation: |          | 0/? [00:00<?, ?it/s]\u001B[A\n",
      "Validation DataLoader 0:   0%|          | 0/1 [00:00<?, ?it/s]\u001B[A\n",
      "Validation DataLoader 0: 100%|██████████| 1/1 [00:00<00:00, 92.71it/s]\u001B[A\n",
      "Epoch 29: 100%|██████████| 1/1 [00:00<00:00, 35.52it/s, v_num=2, train/loss_step=0.422, val/loss=1.130, val/error_u=0.866, val/error_v=1.000, val/error_h=0.755, val/loss_best=1.120, train/loss_epoch=0.431]\n",
      "Validation: |          | 0/? [00:00<?, ?it/s]\u001B[A\n",
      "Validation: |          | 0/? [00:00<?, ?it/s]\u001B[A\n",
      "Validation DataLoader 0:   0%|          | 0/1 [00:00<?, ?it/s]\u001B[A\n",
      "Validation DataLoader 0: 100%|██████████| 1/1 [00:00<00:00, 99.74it/s]\u001B[A\n",
      "Epoch 30: 100%|██████████| 1/1 [00:00<00:00, 38.15it/s, v_num=2, train/loss_step=0.409, val/loss=1.130, val/error_u=0.872, val/error_v=0.995, val/error_h=0.754, val/loss_best=1.120, train/loss_epoch=0.422]\n",
      "Validation: |          | 0/? [00:00<?, ?it/s]\u001B[A\n",
      "Validation: |          | 0/? [00:00<?, ?it/s]\u001B[A\n",
      "Validation DataLoader 0:   0%|          | 0/1 [00:00<?, ?it/s]\u001B[A\n",
      "Validation DataLoader 0: 100%|██████████| 1/1 [00:00<00:00, 67.94it/s]\u001B[A\n",
      "Epoch 31: 100%|██████████| 1/1 [00:00<00:00, 37.93it/s, v_num=2, train/loss_step=0.399, val/loss=1.140, val/error_u=0.880, val/error_v=0.989, val/error_h=0.753, val/loss_best=1.120, train/loss_epoch=0.409]\n",
      "Validation: |          | 0/? [00:00<?, ?it/s]\u001B[A\n",
      "Validation: |          | 0/? [00:00<?, ?it/s]\u001B[A\n",
      "Validation DataLoader 0:   0%|          | 0/1 [00:00<?, ?it/s]\u001B[A\n",
      "Validation DataLoader 0: 100%|██████████| 1/1 [00:00<00:00, 89.45it/s]\u001B[A\n",
      "Epoch 32: 100%|██████████| 1/1 [00:00<00:00, 37.86it/s, v_num=2, train/loss_step=0.395, val/loss=1.140, val/error_u=0.890, val/error_v=0.984, val/error_h=0.753, val/loss_best=1.120, train/loss_epoch=0.399]\n",
      "Validation: |          | 0/? [00:00<?, ?it/s]\u001B[A\n",
      "Validation: |          | 0/? [00:00<?, ?it/s]\u001B[A\n",
      "Validation DataLoader 0:   0%|          | 0/1 [00:00<?, ?it/s]\u001B[A\n",
      "Validation DataLoader 0: 100%|██████████| 1/1 [00:00<00:00, 86.51it/s]\u001B[A\n",
      "Epoch 33: 100%|██████████| 1/1 [00:00<00:00, 38.85it/s, v_num=2, train/loss_step=0.396, val/loss=1.150, val/error_u=0.899, val/error_v=0.982, val/error_h=0.753, val/loss_best=1.120, train/loss_epoch=0.395]\n",
      "Validation: |          | 0/? [00:00<?, ?it/s]\u001B[A\n",
      "Validation: |          | 0/? [00:00<?, ?it/s]\u001B[A\n",
      "Validation DataLoader 0:   0%|          | 0/1 [00:00<?, ?it/s]\u001B[A\n",
      "Validation DataLoader 0: 100%|██████████| 1/1 [00:00<00:00, 89.81it/s]\u001B[A\n",
      "Epoch 34: 100%|██████████| 1/1 [00:00<00:00, 37.89it/s, v_num=2, train/loss_step=0.400, val/loss=1.150, val/error_u=0.902, val/error_v=0.983, val/error_h=0.753, val/loss_best=1.120, train/loss_epoch=0.396]\n",
      "Validation: |          | 0/? [00:00<?, ?it/s]\u001B[A\n",
      "Validation: |          | 0/? [00:00<?, ?it/s]\u001B[A\n",
      "Validation DataLoader 0:   0%|          | 0/1 [00:00<?, ?it/s]\u001B[A\n",
      "Validation DataLoader 0: 100%|██████████| 1/1 [00:00<00:00, 88.07it/s]\u001B[A\n",
      "Epoch 35: 100%|██████████| 1/1 [00:00<00:00, 38.54it/s, v_num=2, train/loss_step=0.403, val/loss=1.150, val/error_u=0.900, val/error_v=0.986, val/error_h=0.753, val/loss_best=1.120, train/loss_epoch=0.400]\n",
      "Validation: |          | 0/? [00:00<?, ?it/s]\u001B[A\n",
      "Validation: |          | 0/? [00:00<?, ?it/s]\u001B[A\n",
      "Validation DataLoader 0:   0%|          | 0/1 [00:00<?, ?it/s]\u001B[A\n",
      "Validation DataLoader 0: 100%|██████████| 1/1 [00:00<00:00, 78.05it/s]\u001B[A\n",
      "Epoch 36: 100%|██████████| 1/1 [00:00<00:00, 38.86it/s, v_num=2, train/loss_step=0.404, val/loss=1.150, val/error_u=0.894, val/error_v=0.990, val/error_h=0.753, val/loss_best=1.120, train/loss_epoch=0.403]\n",
      "Validation: |          | 0/? [00:00<?, ?it/s]\u001B[A\n",
      "Validation: |          | 0/? [00:00<?, ?it/s]\u001B[A\n",
      "Validation DataLoader 0:   0%|          | 0/1 [00:00<?, ?it/s]\u001B[A\n",
      "Validation DataLoader 0: 100%|██████████| 1/1 [00:00<00:00, 70.82it/s]\u001B[A\n",
      "Epoch 37: 100%|██████████| 1/1 [00:00<00:00, 38.10it/s, v_num=2, train/loss_step=0.404, val/loss=1.140, val/error_u=0.887, val/error_v=0.992, val/error_h=0.753, val/loss_best=1.120, train/loss_epoch=0.404]\n",
      "Validation: |          | 0/? [00:00<?, ?it/s]\u001B[A\n",
      "Validation: |          | 0/? [00:00<?, ?it/s]\u001B[A\n",
      "Validation DataLoader 0:   0%|          | 0/1 [00:00<?, ?it/s]\u001B[A\n",
      "Validation DataLoader 0: 100%|██████████| 1/1 [00:00<00:00, 74.17it/s]\u001B[A\n",
      "Epoch 38: 100%|██████████| 1/1 [00:00<00:00, 35.99it/s, v_num=2, train/loss_step=0.403, val/loss=1.140, val/error_u=0.882, val/error_v=0.992, val/error_h=0.754, val/loss_best=1.120, train/loss_epoch=0.404]\n",
      "Validation: |          | 0/? [00:00<?, ?it/s]\u001B[A\n",
      "Validation: |          | 0/? [00:00<?, ?it/s]\u001B[A\n",
      "Validation DataLoader 0:   0%|          | 0/1 [00:00<?, ?it/s]\u001B[A\n",
      "Validation DataLoader 0: 100%|██████████| 1/1 [00:00<00:00, 70.83it/s]\u001B[A\n",
      "Epoch 39: 100%|██████████| 1/1 [00:00<00:00, 35.79it/s, v_num=2, train/loss_step=0.399, val/loss=1.140, val/error_u=0.880, val/error_v=0.989, val/error_h=0.754, val/loss_best=1.120, train/loss_epoch=0.403]\n",
      "Validation: |          | 0/? [00:00<?, ?it/s]\u001B[A\n",
      "Validation: |          | 0/? [00:00<?, ?it/s]\u001B[A\n",
      "Validation DataLoader 0:   0%|          | 0/1 [00:00<?, ?it/s]\u001B[A\n",
      "Validation DataLoader 0: 100%|██████████| 1/1 [00:00<00:00, 76.86it/s]\u001B[A\n",
      "Epoch 40: 100%|██████████| 1/1 [00:00<00:00, 37.05it/s, v_num=2, train/loss_step=0.394, val/loss=1.130, val/error_u=0.881, val/error_v=0.985, val/error_h=0.753, val/loss_best=1.120, train/loss_epoch=0.399]\n",
      "Validation: |          | 0/? [00:00<?, ?it/s]\u001B[A\n",
      "Validation: |          | 0/? [00:00<?, ?it/s]\u001B[A\n",
      "Validation DataLoader 0:   0%|          | 0/1 [00:00<?, ?it/s]\u001B[A\n",
      "Validation DataLoader 0: 100%|██████████| 1/1 [00:00<00:00, 96.55it/s]\u001B[A\n",
      "Epoch 41: 100%|██████████| 1/1 [00:00<00:00, 30.31it/s, v_num=2, train/loss_step=0.391, val/loss=1.130, val/error_u=0.884, val/error_v=0.983, val/error_h=0.751, val/loss_best=1.120, train/loss_epoch=0.394]\n",
      "Validation: |          | 0/? [00:00<?, ?it/s]\u001B[A\n",
      "Validation: |          | 0/? [00:00<?, ?it/s]\u001B[A\n",
      "Validation DataLoader 0:   0%|          | 0/1 [00:00<?, ?it/s]\u001B[A\n",
      "Validation DataLoader 0: 100%|██████████| 1/1 [00:00<00:00, 70.82it/s]\u001B[A\n",
      "Epoch 42: 100%|██████████| 1/1 [00:00<00:00, 39.52it/s, v_num=2, train/loss_step=0.391, val/loss=1.140, val/error_u=0.889, val/error_v=0.982, val/error_h=0.751, val/loss_best=1.120, train/loss_epoch=0.391]\n",
      "Validation: |          | 0/? [00:00<?, ?it/s]\u001B[A\n",
      "Validation: |          | 0/? [00:00<?, ?it/s]\u001B[A\n",
      "Validation DataLoader 0:   0%|          | 0/1 [00:00<?, ?it/s]\u001B[A\n",
      "Validation DataLoader 0: 100%|██████████| 1/1 [00:00<00:00, 88.03it/s]\u001B[A\n",
      "Epoch 43: 100%|██████████| 1/1 [00:00<00:00, 28.44it/s, v_num=2, train/loss_step=0.393, val/loss=1.140, val/error_u=0.893, val/error_v=0.982, val/error_h=0.751, val/loss_best=1.120, train/loss_epoch=0.391]\n",
      "Validation: |          | 0/? [00:00<?, ?it/s]\u001B[A\n",
      "Validation: |          | 0/? [00:00<?, ?it/s]\u001B[A\n",
      "Validation DataLoader 0:   0%|          | 0/1 [00:00<?, ?it/s]\u001B[A\n",
      "Validation DataLoader 0: 100%|██████████| 1/1 [00:00<00:00, 90.03it/s]\u001B[A\n",
      "Epoch 44: 100%|██████████| 1/1 [00:00<00:00, 39.05it/s, v_num=2, train/loss_step=0.395, val/loss=1.140, val/error_u=0.893, val/error_v=0.983, val/error_h=0.751, val/loss_best=1.120, train/loss_epoch=0.393]\n",
      "Validation: |          | 0/? [00:00<?, ?it/s]\u001B[A\n",
      "Validation: |          | 0/? [00:00<?, ?it/s]\u001B[A\n",
      "Validation DataLoader 0:   0%|          | 0/1 [00:00<?, ?it/s]\u001B[A\n",
      "Validation DataLoader 0: 100%|██████████| 1/1 [00:00<00:00, 97.04it/s]\u001B[A\n",
      "Epoch 45: 100%|██████████| 1/1 [00:00<00:00, 32.97it/s, v_num=2, train/loss_step=0.395, val/loss=1.140, val/error_u=0.890, val/error_v=0.983, val/error_h=0.751, val/loss_best=1.120, train/loss_epoch=0.395]\n",
      "Validation: |          | 0/? [00:00<?, ?it/s]\u001B[A\n",
      "Validation: |          | 0/? [00:00<?, ?it/s]\u001B[A\n",
      "Validation DataLoader 0:   0%|          | 0/1 [00:00<?, ?it/s]\u001B[A\n",
      "Validation DataLoader 0: 100%|██████████| 1/1 [00:00<00:00, 85.06it/s]\u001B[A\n",
      "Epoch 46: 100%|██████████| 1/1 [00:00<00:00, 33.67it/s, v_num=2, train/loss_step=0.394, val/loss=1.130, val/error_u=0.884, val/error_v=0.983, val/error_h=0.750, val/loss_best=1.120, train/loss_epoch=0.395]\n",
      "Validation: |          | 0/? [00:00<?, ?it/s]\u001B[A\n",
      "Validation: |          | 0/? [00:00<?, ?it/s]\u001B[A\n",
      "Validation DataLoader 0:   0%|          | 0/1 [00:00<?, ?it/s]\u001B[A\n",
      "Validation DataLoader 0: 100%|██████████| 1/1 [00:00<00:00, 68.14it/s]\u001B[A\n",
      "Epoch 47: 100%|██████████| 1/1 [00:00<00:00, 37.66it/s, v_num=2, train/loss_step=0.392, val/loss=1.130, val/error_u=0.878, val/error_v=0.981, val/error_h=0.751, val/loss_best=1.120, train/loss_epoch=0.394]\n",
      "Validation: |          | 0/? [00:00<?, ?it/s]\u001B[A\n",
      "Validation: |          | 0/? [00:00<?, ?it/s]\u001B[A\n",
      "Validation DataLoader 0:   0%|          | 0/1 [00:00<?, ?it/s]\u001B[A\n",
      "Validation DataLoader 0: 100%|██████████| 1/1 [00:00<00:00, 89.61it/s]\u001B[A\n",
      "Epoch 48: 100%|██████████| 1/1 [00:00<00:00, 37.68it/s, v_num=2, train/loss_step=0.391, val/loss=1.120, val/error_u=0.875, val/error_v=0.981, val/error_h=0.751, val/loss_best=1.120, train/loss_epoch=0.392]\n",
      "Validation: |          | 0/? [00:00<?, ?it/s]\u001B[A\n",
      "Validation: |          | 0/? [00:00<?, ?it/s]\u001B[A\n",
      "Validation DataLoader 0:   0%|          | 0/1 [00:00<?, ?it/s]\u001B[A\n",
      "Validation DataLoader 0: 100%|██████████| 1/1 [00:00<00:00, 26.73it/s]\u001B[A\n",
      "Epoch 49: 100%|██████████| 1/1 [00:00<00:00, 21.66it/s, v_num=2, train/loss_step=0.390, val/loss=1.120, val/error_u=0.876, val/error_v=0.981, val/error_h=0.751, val/loss_best=1.120, train/loss_epoch=0.391]\n",
      "Validation: |          | 0/? [00:00<?, ?it/s]\u001B[A\n",
      "Validation: |          | 0/? [00:00<?, ?it/s]\u001B[A\n",
      "Validation DataLoader 0:   0%|          | 0/1 [00:00<?, ?it/s]\u001B[A\n",
      "Validation DataLoader 0: 100%|██████████| 1/1 [00:00<00:00, 39.70it/s]\u001B[A\n",
      "Epoch 50: 100%|██████████| 1/1 [00:00<00:00, 22.96it/s, v_num=2, train/loss_step=0.388, val/loss=1.130, val/error_u=0.879, val/error_v=0.981, val/error_h=0.750, val/loss_best=1.120, train/loss_epoch=0.390]\n",
      "Validation: |          | 0/? [00:00<?, ?it/s]\u001B[A\n",
      "Validation: |          | 0/? [00:00<?, ?it/s]\u001B[A\n",
      "Validation DataLoader 0:   0%|          | 0/1 [00:00<?, ?it/s]\u001B[A\n",
      "Validation DataLoader 0: 100%|██████████| 1/1 [00:00<00:00, 37.58it/s]\u001B[A\n",
      "Epoch 51: 100%|██████████| 1/1 [00:00<00:00, 19.56it/s, v_num=2, train/loss_step=0.388, val/loss=1.130, val/error_u=0.884, val/error_v=0.981, val/error_h=0.749, val/loss_best=1.120, train/loss_epoch=0.388]\n",
      "Validation: |          | 0/? [00:00<?, ?it/s]\u001B[A\n",
      "Validation: |          | 0/? [00:00<?, ?it/s]\u001B[A\n",
      "Validation DataLoader 0:   0%|          | 0/1 [00:00<?, ?it/s]\u001B[A\n",
      "Validation DataLoader 0: 100%|██████████| 1/1 [00:00<00:00, 38.48it/s]\u001B[A\n",
      "Epoch 52: 100%|██████████| 1/1 [00:00<00:00, 26.36it/s, v_num=2, train/loss_step=0.389, val/loss=1.130, val/error_u=0.889, val/error_v=0.981, val/error_h=0.749, val/loss_best=1.120, train/loss_epoch=0.388]\n",
      "Validation: |          | 0/? [00:00<?, ?it/s]\u001B[A\n",
      "Validation: |          | 0/? [00:00<?, ?it/s]\u001B[A\n",
      "Validation DataLoader 0:   0%|          | 0/1 [00:00<?, ?it/s]\u001B[A\n",
      "Validation DataLoader 0: 100%|██████████| 1/1 [00:00<00:00, 61.55it/s]\u001B[A\n",
      "Epoch 53: 100%|██████████| 1/1 [00:00<00:00, 27.13it/s, v_num=2, train/loss_step=0.390, val/loss=1.140, val/error_u=0.892, val/error_v=0.982, val/error_h=0.749, val/loss_best=1.120, train/loss_epoch=0.389]\n",
      "Validation: |          | 0/? [00:00<?, ?it/s]\u001B[A\n",
      "Validation: |          | 0/? [00:00<?, ?it/s]\u001B[A\n",
      "Validation DataLoader 0:   0%|          | 0/1 [00:00<?, ?it/s]\u001B[A\n",
      "Validation DataLoader 0: 100%|██████████| 1/1 [00:00<00:00, 57.66it/s]\u001B[A\n",
      "Epoch 54: 100%|██████████| 1/1 [00:00<00:00, 34.11it/s, v_num=2, train/loss_step=0.389, val/loss=1.140, val/error_u=0.892, val/error_v=0.982, val/error_h=0.748, val/loss_best=1.120, train/loss_epoch=0.390]\n",
      "Validation: |          | 0/? [00:00<?, ?it/s]\u001B[A\n",
      "Validation: |          | 0/? [00:00<?, ?it/s]\u001B[A\n",
      "Validation DataLoader 0:   0%|          | 0/1 [00:00<?, ?it/s]\u001B[A\n",
      "Validation DataLoader 0: 100%|██████████| 1/1 [00:00<00:00, 70.46it/s]\u001B[A\n",
      "Epoch 55: 100%|██████████| 1/1 [00:00<00:00, 35.12it/s, v_num=2, train/loss_step=0.388, val/loss=1.130, val/error_u=0.888, val/error_v=0.982, val/error_h=0.748, val/loss_best=1.120, train/loss_epoch=0.389]\n",
      "Validation: |          | 0/? [00:00<?, ?it/s]\u001B[A\n",
      "Validation: |          | 0/? [00:00<?, ?it/s]\u001B[A\n",
      "Validation DataLoader 0:   0%|          | 0/1 [00:00<?, ?it/s]\u001B[A\n",
      "Validation DataLoader 0: 100%|██████████| 1/1 [00:00<00:00, 81.80it/s]\u001B[A\n",
      "Epoch 56: 100%|██████████| 1/1 [00:00<00:00, 35.34it/s, v_num=2, train/loss_step=0.387, val/loss=1.130, val/error_u=0.884, val/error_v=0.982, val/error_h=0.748, val/loss_best=1.120, train/loss_epoch=0.388]\n",
      "Validation: |          | 0/? [00:00<?, ?it/s]\u001B[A\n",
      "Validation: |          | 0/? [00:00<?, ?it/s]\u001B[A\n",
      "Validation DataLoader 0:   0%|          | 0/1 [00:00<?, ?it/s]\u001B[A\n",
      "Validation DataLoader 0: 100%|██████████| 1/1 [00:00<00:00, 80.19it/s]\u001B[A\n",
      "Epoch 57: 100%|██████████| 1/1 [00:00<00:00, 36.27it/s, v_num=2, train/loss_step=0.386, val/loss=1.120, val/error_u=0.880, val/error_v=0.981, val/error_h=0.748, val/loss_best=1.120, train/loss_epoch=0.387]\n",
      "Validation: |          | 0/? [00:00<?, ?it/s]\u001B[A\n",
      "Validation: |          | 0/? [00:00<?, ?it/s]\u001B[A\n",
      "Validation DataLoader 0:   0%|          | 0/1 [00:00<?, ?it/s]\u001B[A\n",
      "Validation DataLoader 0: 100%|██████████| 1/1 [00:00<00:00, 79.38it/s]\u001B[A\n",
      "Epoch 58: 100%|██████████| 1/1 [00:00<00:00, 36.04it/s, v_num=2, train/loss_step=0.386, val/loss=1.120, val/error_u=0.878, val/error_v=0.981, val/error_h=0.748, val/loss_best=1.120, train/loss_epoch=0.386]\n",
      "Validation: |          | 0/? [00:00<?, ?it/s]\u001B[A\n",
      "Validation: |          | 0/? [00:00<?, ?it/s]\u001B[A\n",
      "Validation DataLoader 0:   0%|          | 0/1 [00:00<?, ?it/s]\u001B[A\n",
      "Validation DataLoader 0: 100%|██████████| 1/1 [00:00<00:00, 92.66it/s]\u001B[A\n",
      "Epoch 59: 100%|██████████| 1/1 [00:00<00:00, 35.50it/s, v_num=2, train/loss_step=0.385, val/loss=1.120, val/error_u=0.878, val/error_v=0.981, val/error_h=0.748, val/loss_best=1.120, train/loss_epoch=0.386]\n",
      "Validation: |          | 0/? [00:00<?, ?it/s]\u001B[A\n",
      "Validation: |          | 0/? [00:00<?, ?it/s]\u001B[A\n",
      "Validation DataLoader 0:   0%|          | 0/1 [00:00<?, ?it/s]\u001B[A\n",
      "Validation DataLoader 0: 100%|██████████| 1/1 [00:00<00:00, 75.87it/s]\u001B[A\n",
      "Epoch 60: 100%|██████████| 1/1 [00:00<00:00, 38.25it/s, v_num=2, train/loss_step=0.385, val/loss=1.120, val/error_u=0.880, val/error_v=0.981, val/error_h=0.747, val/loss_best=1.120, train/loss_epoch=0.385]\n",
      "Validation: |          | 0/? [00:00<?, ?it/s]\u001B[A\n",
      "Validation: |          | 0/? [00:00<?, ?it/s]\u001B[A\n",
      "Validation DataLoader 0:   0%|          | 0/1 [00:00<?, ?it/s]\u001B[A\n",
      "Validation DataLoader 0: 100%|██████████| 1/1 [00:00<00:00, 88.92it/s]\u001B[A\n",
      "Epoch 61: 100%|██████████| 1/1 [00:00<00:00, 36.00it/s, v_num=2, train/loss_step=0.385, val/loss=1.130, val/error_u=0.884, val/error_v=0.982, val/error_h=0.746, val/loss_best=1.120, train/loss_epoch=0.385]\n",
      "Validation: |          | 0/? [00:00<?, ?it/s]\u001B[A\n",
      "Validation: |          | 0/? [00:00<?, ?it/s]\u001B[A\n",
      "Validation DataLoader 0:   0%|          | 0/1 [00:00<?, ?it/s]\u001B[A\n",
      "Validation DataLoader 0: 100%|██████████| 1/1 [00:00<00:00, 90.02it/s]\u001B[A\n",
      "Epoch 62: 100%|██████████| 1/1 [00:00<00:00, 35.95it/s, v_num=2, train/loss_step=0.385, val/loss=1.130, val/error_u=0.886, val/error_v=0.982, val/error_h=0.746, val/loss_best=1.120, train/loss_epoch=0.385]\n",
      "Validation: |          | 0/? [00:00<?, ?it/s]\u001B[A\n",
      "Validation: |          | 0/? [00:00<?, ?it/s]\u001B[A\n",
      "Validation DataLoader 0:   0%|          | 0/1 [00:00<?, ?it/s]\u001B[A\n",
      "Validation DataLoader 0: 100%|██████████| 1/1 [00:00<00:00, 82.68it/s]\u001B[A\n",
      "Epoch 63: 100%|██████████| 1/1 [00:00<00:00, 35.65it/s, v_num=2, train/loss_step=0.384, val/loss=1.130, val/error_u=0.887, val/error_v=0.982, val/error_h=0.746, val/loss_best=1.120, train/loss_epoch=0.385]\n",
      "Validation: |          | 0/? [00:00<?, ?it/s]\u001B[A\n",
      "Validation: |          | 0/? [00:00<?, ?it/s]\u001B[A\n",
      "Validation DataLoader 0:   0%|          | 0/1 [00:00<?, ?it/s]\u001B[A\n",
      "Validation DataLoader 0: 100%|██████████| 1/1 [00:00<00:00, 67.52it/s]\u001B[A\n",
      "Epoch 64: 100%|██████████| 1/1 [00:00<00:00, 36.67it/s, v_num=2, train/loss_step=0.383, val/loss=1.130, val/error_u=0.886, val/error_v=0.982, val/error_h=0.745, val/loss_best=1.120, train/loss_epoch=0.384]\n",
      "Validation: |          | 0/? [00:00<?, ?it/s]\u001B[A\n",
      "Validation: |          | 0/? [00:00<?, ?it/s]\u001B[A\n",
      "Validation DataLoader 0:   0%|          | 0/1 [00:00<?, ?it/s]\u001B[A\n",
      "Validation DataLoader 0: 100%|██████████| 1/1 [00:00<00:00, 82.56it/s]\u001B[A\n",
      "Epoch 65: 100%|██████████| 1/1 [00:00<00:00, 36.32it/s, v_num=2, train/loss_step=0.383, val/loss=1.120, val/error_u=0.883, val/error_v=0.982, val/error_h=0.745, val/loss_best=1.120, train/loss_epoch=0.383]\n",
      "Validation: |          | 0/? [00:00<?, ?it/s]\u001B[A\n",
      "Validation: |          | 0/? [00:00<?, ?it/s]\u001B[A\n",
      "Validation DataLoader 0:   0%|          | 0/1 [00:00<?, ?it/s]\u001B[A\n",
      "Validation DataLoader 0: 100%|██████████| 1/1 [00:00<00:00, 93.03it/s]\u001B[A\n",
      "Epoch 66: 100%|██████████| 1/1 [00:00<00:00, 38.80it/s, v_num=2, train/loss_step=0.382, val/loss=1.120, val/error_u=0.881, val/error_v=0.982, val/error_h=0.745, val/loss_best=1.120, train/loss_epoch=0.383]\n",
      "Validation: |          | 0/? [00:00<?, ?it/s]\u001B[A\n",
      "Validation: |          | 0/? [00:00<?, ?it/s]\u001B[A\n",
      "Validation DataLoader 0:   0%|          | 0/1 [00:00<?, ?it/s]\u001B[A\n",
      "Validation DataLoader 0: 100%|██████████| 1/1 [00:00<00:00, 104.33it/s]\u001B[A\n",
      "Epoch 67: 100%|██████████| 1/1 [00:00<00:00, 29.71it/s, v_num=2, train/loss_step=0.382, val/loss=1.120, val/error_u=0.880, val/error_v=0.983, val/error_h=0.745, val/loss_best=1.120, train/loss_epoch=0.382]\n",
      "Validation: |          | 0/? [00:00<?, ?it/s]\u001B[A\n",
      "Validation: |          | 0/? [00:00<?, ?it/s]\u001B[A\n",
      "Validation DataLoader 0:   0%|          | 0/1 [00:00<?, ?it/s]\u001B[A\n",
      "Validation DataLoader 0: 100%|██████████| 1/1 [00:00<00:00, 97.99it/s]\u001B[A\n",
      "Epoch 68: 100%|██████████| 1/1 [00:00<00:00, 35.73it/s, v_num=2, train/loss_step=0.382, val/loss=1.120, val/error_u=0.881, val/error_v=0.983, val/error_h=0.744, val/loss_best=1.120, train/loss_epoch=0.382]\n",
      "Validation: |          | 0/? [00:00<?, ?it/s]\u001B[A\n",
      "Validation: |          | 0/? [00:00<?, ?it/s]\u001B[A\n",
      "Validation DataLoader 0:   0%|          | 0/1 [00:00<?, ?it/s]\u001B[A\n",
      "Validation DataLoader 0: 100%|██████████| 1/1 [00:00<00:00, 101.16it/s]\u001B[A\n",
      "Epoch 69: 100%|██████████| 1/1 [00:00<00:00, 37.05it/s, v_num=2, train/loss_step=0.381, val/loss=1.120, val/error_u=0.883, val/error_v=0.983, val/error_h=0.744, val/loss_best=1.120, train/loss_epoch=0.382]\n",
      "Validation: |          | 0/? [00:00<?, ?it/s]\u001B[A\n",
      "Validation: |          | 0/? [00:00<?, ?it/s]\u001B[A\n",
      "Validation DataLoader 0:   0%|          | 0/1 [00:00<?, ?it/s]\u001B[A\n",
      "Validation DataLoader 0: 100%|██████████| 1/1 [00:00<00:00, 97.79it/s]\u001B[A\n",
      "Epoch 70: 100%|██████████| 1/1 [00:00<00:00, 35.28it/s, v_num=2, train/loss_step=0.381, val/loss=1.120, val/error_u=0.884, val/error_v=0.983, val/error_h=0.743, val/loss_best=1.120, train/loss_epoch=0.381]\n",
      "Validation: |          | 0/? [00:00<?, ?it/s]\u001B[A\n",
      "Validation: |          | 0/? [00:00<?, ?it/s]\u001B[A\n",
      "Validation DataLoader 0:   0%|          | 0/1 [00:00<?, ?it/s]\u001B[A\n",
      "Validation DataLoader 0: 100%|██████████| 1/1 [00:00<00:00, 104.40it/s]\u001B[A\n",
      "Epoch 71: 100%|██████████| 1/1 [00:00<00:00, 32.10it/s, v_num=2, train/loss_step=0.380, val/loss=1.120, val/error_u=0.885, val/error_v=0.982, val/error_h=0.743, val/loss_best=1.120, train/loss_epoch=0.381]\n",
      "Validation: |          | 0/? [00:00<?, ?it/s]\u001B[A\n",
      "Validation: |          | 0/? [00:00<?, ?it/s]\u001B[A\n",
      "Validation DataLoader 0:   0%|          | 0/1 [00:00<?, ?it/s]\u001B[A\n",
      "Validation DataLoader 0: 100%|██████████| 1/1 [00:00<00:00, 96.26it/s]\u001B[A\n",
      "Epoch 72: 100%|██████████| 1/1 [00:00<00:00, 38.53it/s, v_num=2, train/loss_step=0.380, val/loss=1.120, val/error_u=0.885, val/error_v=0.982, val/error_h=0.743, val/loss_best=1.120, train/loss_epoch=0.380]\n",
      "Validation: |          | 0/? [00:00<?, ?it/s]\u001B[A\n",
      "Validation: |          | 0/? [00:00<?, ?it/s]\u001B[A\n",
      "Validation DataLoader 0:   0%|          | 0/1 [00:00<?, ?it/s]\u001B[A\n",
      "Validation DataLoader 0: 100%|██████████| 1/1 [00:00<00:00, 85.40it/s]\u001B[A\n",
      "Epoch 73: 100%|██████████| 1/1 [00:00<00:00, 34.31it/s, v_num=2, train/loss_step=0.379, val/loss=1.120, val/error_u=0.883, val/error_v=0.982, val/error_h=0.742, val/loss_best=1.120, train/loss_epoch=0.380]\n",
      "Validation: |          | 0/? [00:00<?, ?it/s]\u001B[A\n",
      "Validation: |          | 0/? [00:00<?, ?it/s]\u001B[A\n",
      "Validation DataLoader 0:   0%|          | 0/1 [00:00<?, ?it/s]\u001B[A\n",
      "Validation DataLoader 0: 100%|██████████| 1/1 [00:00<00:00, 87.92it/s]\u001B[A\n",
      "Epoch 74: 100%|██████████| 1/1 [00:00<00:00, 37.94it/s, v_num=2, train/loss_step=0.379, val/loss=1.120, val/error_u=0.881, val/error_v=0.982, val/error_h=0.742, val/loss_best=1.120, train/loss_epoch=0.379]\n",
      "Validation: |          | 0/? [00:00<?, ?it/s]\u001B[A\n",
      "Validation: |          | 0/? [00:00<?, ?it/s]\u001B[A\n",
      "Validation DataLoader 0:   0%|          | 0/1 [00:00<?, ?it/s]\u001B[A\n",
      "Validation DataLoader 0: 100%|██████████| 1/1 [00:00<00:00, 84.60it/s]\u001B[A\n",
      "Epoch 75: 100%|██████████| 1/1 [00:00<00:00, 35.09it/s, v_num=2, train/loss_step=0.378, val/loss=1.120, val/error_u=0.879, val/error_v=0.983, val/error_h=0.742, val/loss_best=1.120, train/loss_epoch=0.379]\n",
      "Validation: |          | 0/? [00:00<?, ?it/s]\u001B[A\n",
      "Validation: |          | 0/? [00:00<?, ?it/s]\u001B[A\n",
      "Validation DataLoader 0:   0%|          | 0/1 [00:00<?, ?it/s]\u001B[A\n",
      "Validation DataLoader 0: 100%|██████████| 1/1 [00:00<00:00, 91.82it/s]\u001B[A\n",
      "Epoch 76: 100%|██████████| 1/1 [00:00<00:00, 37.36it/s, v_num=2, train/loss_step=0.378, val/loss=1.110, val/error_u=0.878, val/error_v=0.983, val/error_h=0.741, val/loss_best=1.110, train/loss_epoch=0.378]\n",
      "Validation: |          | 0/? [00:00<?, ?it/s]\u001B[A\n",
      "Validation: |          | 0/? [00:00<?, ?it/s]\u001B[A\n",
      "Validation DataLoader 0:   0%|          | 0/1 [00:00<?, ?it/s]\u001B[A\n",
      "Validation DataLoader 0: 100%|██████████| 1/1 [00:00<00:00, 99.52it/s]\u001B[A\n",
      "Epoch 77: 100%|██████████| 1/1 [00:00<00:00, 30.02it/s, v_num=2, train/loss_step=0.377, val/loss=1.110, val/error_u=0.878, val/error_v=0.983, val/error_h=0.741, val/loss_best=1.110, train/loss_epoch=0.378]\n",
      "Validation: |          | 0/? [00:00<?, ?it/s]\u001B[A\n",
      "Validation: |          | 0/? [00:00<?, ?it/s]\u001B[A\n",
      "Validation DataLoader 0:   0%|          | 0/1 [00:00<?, ?it/s]\u001B[A\n",
      "Validation DataLoader 0: 100%|██████████| 1/1 [00:00<00:00, 94.36it/s]\u001B[A\n",
      "Epoch 78: 100%|██████████| 1/1 [00:00<00:00, 38.30it/s, v_num=2, train/loss_step=0.377, val/loss=1.110, val/error_u=0.879, val/error_v=0.982, val/error_h=0.740, val/loss_best=1.110, train/loss_epoch=0.377]\n",
      "Validation: |          | 0/? [00:00<?, ?it/s]\u001B[A\n",
      "Validation: |          | 0/? [00:00<?, ?it/s]\u001B[A\n",
      "Validation DataLoader 0:   0%|          | 0/1 [00:00<?, ?it/s]\u001B[A\n",
      "Validation DataLoader 0: 100%|██████████| 1/1 [00:00<00:00, 93.59it/s]\u001B[A\n",
      "Epoch 79: 100%|██████████| 1/1 [00:00<00:00, 29.89it/s, v_num=2, train/loss_step=0.376, val/loss=1.110, val/error_u=0.880, val/error_v=0.982, val/error_h=0.740, val/loss_best=1.110, train/loss_epoch=0.377]\n",
      "Validation: |          | 0/? [00:00<?, ?it/s]\u001B[A\n",
      "Validation: |          | 0/? [00:00<?, ?it/s]\u001B[A\n",
      "Validation DataLoader 0:   0%|          | 0/1 [00:00<?, ?it/s]\u001B[A\n",
      "Validation DataLoader 0: 100%|██████████| 1/1 [00:00<00:00, 97.02it/s]\u001B[A\n",
      "Epoch 80: 100%|██████████| 1/1 [00:00<00:00, 35.24it/s, v_num=2, train/loss_step=0.376, val/loss=1.110, val/error_u=0.880, val/error_v=0.982, val/error_h=0.739, val/loss_best=1.110, train/loss_epoch=0.376]\n",
      "Validation: |          | 0/? [00:00<?, ?it/s]\u001B[A\n",
      "Validation: |          | 0/? [00:00<?, ?it/s]\u001B[A\n",
      "Validation DataLoader 0:   0%|          | 0/1 [00:00<?, ?it/s]\u001B[A\n",
      "Validation DataLoader 0: 100%|██████████| 1/1 [00:00<00:00, 94.02it/s]\u001B[A\n",
      "Epoch 81: 100%|██████████| 1/1 [00:00<00:00, 28.67it/s, v_num=2, train/loss_step=0.375, val/loss=1.110, val/error_u=0.880, val/error_v=0.982, val/error_h=0.739, val/loss_best=1.110, train/loss_epoch=0.376]\n",
      "Validation: |          | 0/? [00:00<?, ?it/s]\u001B[A\n",
      "Validation: |          | 0/? [00:00<?, ?it/s]\u001B[A\n",
      "Validation DataLoader 0:   0%|          | 0/1 [00:00<?, ?it/s]\u001B[A\n",
      "Validation DataLoader 0: 100%|██████████| 1/1 [00:00<00:00, 70.08it/s]\u001B[A\n",
      "Epoch 82: 100%|██████████| 1/1 [00:00<00:00, 34.65it/s, v_num=2, train/loss_step=0.375, val/loss=1.110, val/error_u=0.879, val/error_v=0.982, val/error_h=0.738, val/loss_best=1.110, train/loss_epoch=0.375]\n",
      "Validation: |          | 0/? [00:00<?, ?it/s]\u001B[A\n",
      "Validation: |          | 0/? [00:00<?, ?it/s]\u001B[A\n",
      "Validation DataLoader 0:   0%|          | 0/1 [00:00<?, ?it/s]\u001B[A\n",
      "Validation DataLoader 0: 100%|██████████| 1/1 [00:00<00:00, 81.88it/s]\u001B[A\n",
      "Epoch 83: 100%|██████████| 1/1 [00:00<00:00, 34.77it/s, v_num=2, train/loss_step=0.374, val/loss=1.110, val/error_u=0.878, val/error_v=0.982, val/error_h=0.738, val/loss_best=1.110, train/loss_epoch=0.375]\n",
      "Validation: |          | 0/? [00:00<?, ?it/s]\u001B[A\n",
      "Validation: |          | 0/? [00:00<?, ?it/s]\u001B[A\n",
      "Validation DataLoader 0:   0%|          | 0/1 [00:00<?, ?it/s]\u001B[A\n",
      "Validation DataLoader 0: 100%|██████████| 1/1 [00:00<00:00, 93.28it/s]\u001B[A\n",
      "Epoch 84: 100%|██████████| 1/1 [00:00<00:00, 29.47it/s, v_num=2, train/loss_step=0.374, val/loss=1.110, val/error_u=0.877, val/error_v=0.982, val/error_h=0.737, val/loss_best=1.110, train/loss_epoch=0.374]\n",
      "Validation: |          | 0/? [00:00<?, ?it/s]\u001B[A\n",
      "Validation: |          | 0/? [00:00<?, ?it/s]\u001B[A\n",
      "Validation DataLoader 0:   0%|          | 0/1 [00:00<?, ?it/s]\u001B[A\n",
      "Validation DataLoader 0: 100%|██████████| 1/1 [00:00<00:00, 76.04it/s]\u001B[A\n",
      "Epoch 85: 100%|██████████| 1/1 [00:00<00:00, 33.04it/s, v_num=2, train/loss_step=0.373, val/loss=1.110, val/error_u=0.877, val/error_v=0.982, val/error_h=0.737, val/loss_best=1.110, train/loss_epoch=0.374]\n",
      "Validation: |          | 0/? [00:00<?, ?it/s]\u001B[A\n",
      "Validation: |          | 0/? [00:00<?, ?it/s]\u001B[A\n",
      "Validation DataLoader 0:   0%|          | 0/1 [00:00<?, ?it/s]\u001B[A\n",
      "Validation DataLoader 0: 100%|██████████| 1/1 [00:00<00:00, 97.54it/s]\u001B[A\n",
      "Epoch 86: 100%|██████████| 1/1 [00:00<00:00, 34.93it/s, v_num=2, train/loss_step=0.372, val/loss=1.110, val/error_u=0.877, val/error_v=0.982, val/error_h=0.736, val/loss_best=1.110, train/loss_epoch=0.373]\n",
      "Validation: |          | 0/? [00:00<?, ?it/s]\u001B[A\n",
      "Validation: |          | 0/? [00:00<?, ?it/s]\u001B[A\n",
      "Validation DataLoader 0:   0%|          | 0/1 [00:00<?, ?it/s]\u001B[A\n",
      "Validation DataLoader 0: 100%|██████████| 1/1 [00:00<00:00, 85.08it/s]\u001B[A\n",
      "Epoch 87: 100%|██████████| 1/1 [00:00<00:00, 32.29it/s, v_num=2, train/loss_step=0.372, val/loss=1.110, val/error_u=0.877, val/error_v=0.982, val/error_h=0.735, val/loss_best=1.110, train/loss_epoch=0.372]\n",
      "Validation: |          | 0/? [00:00<?, ?it/s]\u001B[A\n",
      "Validation: |          | 0/? [00:00<?, ?it/s]\u001B[A\n",
      "Validation DataLoader 0:   0%|          | 0/1 [00:00<?, ?it/s]\u001B[A\n",
      "Validation DataLoader 0: 100%|██████████| 1/1 [00:00<00:00, 92.79it/s]\u001B[A\n",
      "Epoch 88: 100%|██████████| 1/1 [00:00<00:00, 26.52it/s, v_num=2, train/loss_step=0.371, val/loss=1.110, val/error_u=0.877, val/error_v=0.982, val/error_h=0.735, val/loss_best=1.110, train/loss_epoch=0.372]\n",
      "Validation: |          | 0/? [00:00<?, ?it/s]\u001B[A\n",
      "Validation: |          | 0/? [00:00<?, ?it/s]\u001B[A\n",
      "Validation DataLoader 0:   0%|          | 0/1 [00:00<?, ?it/s]\u001B[A\n",
      "Validation DataLoader 0: 100%|██████████| 1/1 [00:00<00:00, 104.54it/s]\u001B[A\n",
      "Epoch 89: 100%|██████████| 1/1 [00:00<00:00, 32.77it/s, v_num=2, train/loss_step=0.370, val/loss=1.100, val/error_u=0.876, val/error_v=0.982, val/error_h=0.734, val/loss_best=1.100, train/loss_epoch=0.371]\n",
      "Validation: |          | 0/? [00:00<?, ?it/s]\u001B[A\n",
      "Validation: |          | 0/? [00:00<?, ?it/s]\u001B[A\n",
      "Validation DataLoader 0:   0%|          | 0/1 [00:00<?, ?it/s]\u001B[A\n",
      "Validation DataLoader 0: 100%|██████████| 1/1 [00:00<00:00, 89.62it/s]\u001B[A\n",
      "Epoch 90: 100%|██████████| 1/1 [00:00<00:00, 27.72it/s, v_num=2, train/loss_step=0.370, val/loss=1.100, val/error_u=0.875, val/error_v=0.982, val/error_h=0.733, val/loss_best=1.100, train/loss_epoch=0.370]\n",
      "Validation: |          | 0/? [00:00<?, ?it/s]\u001B[A\n",
      "Validation: |          | 0/? [00:00<?, ?it/s]\u001B[A\n",
      "Validation DataLoader 0:   0%|          | 0/1 [00:00<?, ?it/s]\u001B[A\n",
      "Validation DataLoader 0: 100%|██████████| 1/1 [00:00<00:00, 97.02it/s]\u001B[A\n",
      "Epoch 91: 100%|██████████| 1/1 [00:00<00:00, 32.74it/s, v_num=2, train/loss_step=0.369, val/loss=1.100, val/error_u=0.873, val/error_v=0.982, val/error_h=0.733, val/loss_best=1.100, train/loss_epoch=0.370]\n",
      "Validation: |          | 0/? [00:00<?, ?it/s]\u001B[A\n",
      "Validation: |          | 0/? [00:00<?, ?it/s]\u001B[A\n",
      "Validation DataLoader 0:   0%|          | 0/1 [00:00<?, ?it/s]\u001B[A\n",
      "Validation DataLoader 0: 100%|██████████| 1/1 [00:00<00:00, 75.81it/s]\u001B[A\n",
      "Epoch 92: 100%|██████████| 1/1 [00:00<00:00, 33.65it/s, v_num=2, train/loss_step=0.368, val/loss=1.100, val/error_u=0.873, val/error_v=0.982, val/error_h=0.732, val/loss_best=1.100, train/loss_epoch=0.369]\n",
      "Validation: |          | 0/? [00:00<?, ?it/s]\u001B[A\n",
      "Validation: |          | 0/? [00:00<?, ?it/s]\u001B[A\n",
      "Validation DataLoader 0:   0%|          | 0/1 [00:00<?, ?it/s]\u001B[A\n",
      "Validation DataLoader 0: 100%|██████████| 1/1 [00:00<00:00, 82.45it/s]\u001B[A\n",
      "Epoch 93: 100%|██████████| 1/1 [00:00<00:00, 32.98it/s, v_num=2, train/loss_step=0.368, val/loss=1.100, val/error_u=0.872, val/error_v=0.982, val/error_h=0.732, val/loss_best=1.100, train/loss_epoch=0.368]\n",
      "Validation: |          | 0/? [00:00<?, ?it/s]\u001B[A\n",
      "Validation: |          | 0/? [00:00<?, ?it/s]\u001B[A\n",
      "Validation DataLoader 0:   0%|          | 0/1 [00:00<?, ?it/s]\u001B[A\n",
      "Validation DataLoader 0: 100%|██████████| 1/1 [00:00<00:00, 85.58it/s]\u001B[A\n",
      "Epoch 94: 100%|██████████| 1/1 [00:00<00:00, 31.19it/s, v_num=2, train/loss_step=0.367, val/loss=1.100, val/error_u=0.872, val/error_v=0.982, val/error_h=0.731, val/loss_best=1.100, train/loss_epoch=0.368]\n",
      "Validation: |          | 0/? [00:00<?, ?it/s]\u001B[A\n",
      "Validation: |          | 0/? [00:00<?, ?it/s]\u001B[A\n",
      "Validation DataLoader 0:   0%|          | 0/1 [00:00<?, ?it/s]\u001B[A\n",
      "Validation DataLoader 0: 100%|██████████| 1/1 [00:00<00:00, 93.55it/s]\u001B[A\n",
      "Epoch 95: 100%|██████████| 1/1 [00:00<00:00, 32.66it/s, v_num=2, train/loss_step=0.366, val/loss=1.100, val/error_u=0.872, val/error_v=0.982, val/error_h=0.730, val/loss_best=1.100, train/loss_epoch=0.367]\n",
      "Validation: |          | 0/? [00:00<?, ?it/s]\u001B[A\n",
      "Validation: |          | 0/? [00:00<?, ?it/s]\u001B[A\n",
      "Validation DataLoader 0:   0%|          | 0/1 [00:00<?, ?it/s]\u001B[A\n",
      "Validation DataLoader 0: 100%|██████████| 1/1 [00:00<00:00, 90.45it/s]\u001B[A\n",
      "Epoch 96: 100%|██████████| 1/1 [00:00<00:00, 28.84it/s, v_num=2, train/loss_step=0.366, val/loss=1.100, val/error_u=0.872, val/error_v=0.982, val/error_h=0.729, val/loss_best=1.100, train/loss_epoch=0.366]\n",
      "Validation: |          | 0/? [00:00<?, ?it/s]\u001B[A\n",
      "Validation: |          | 0/? [00:00<?, ?it/s]\u001B[A\n",
      "Validation DataLoader 0:   0%|          | 0/1 [00:00<?, ?it/s]\u001B[A\n",
      "Validation DataLoader 0: 100%|██████████| 1/1 [00:00<00:00, 79.02it/s]\u001B[A\n",
      "Epoch 97: 100%|██████████| 1/1 [00:00<00:00, 32.88it/s, v_num=2, train/loss_step=0.365, val/loss=1.090, val/error_u=0.871, val/error_v=0.982, val/error_h=0.728, val/loss_best=1.090, train/loss_epoch=0.366]\n",
      "Validation: |          | 0/? [00:00<?, ?it/s]\u001B[A\n",
      "Validation: |          | 0/? [00:00<?, ?it/s]\u001B[A\n",
      "Validation DataLoader 0:   0%|          | 0/1 [00:00<?, ?it/s]\u001B[A\n",
      "Validation DataLoader 0: 100%|██████████| 1/1 [00:00<00:00, 92.76it/s]\u001B[A\n",
      "Epoch 98: 100%|██████████| 1/1 [00:00<00:00, 32.69it/s, v_num=2, train/loss_step=0.364, val/loss=1.090, val/error_u=0.870, val/error_v=0.982, val/error_h=0.728, val/loss_best=1.090, train/loss_epoch=0.365]\n",
      "Validation: |          | 0/? [00:00<?, ?it/s]\u001B[A\n",
      "Validation: |          | 0/? [00:00<?, ?it/s]\u001B[A\n",
      "Validation DataLoader 0:   0%|          | 0/1 [00:00<?, ?it/s]\u001B[A\n",
      "Validation DataLoader 0: 100%|██████████| 1/1 [00:00<00:00, 82.09it/s]\u001B[A\n",
      "Epoch 99: 100%|██████████| 1/1 [00:00<00:00, 28.51it/s, v_num=2, train/loss_step=0.363, val/loss=1.090, val/error_u=0.870, val/error_v=0.982, val/error_h=0.727, val/loss_best=1.090, train/loss_epoch=0.364]\n",
      "Validation: |          | 0/? [00:00<?, ?it/s]\u001B[A\n",
      "Validation: |          | 0/? [00:00<?, ?it/s]\u001B[A\n",
      "Validation DataLoader 0:   0%|          | 0/1 [00:00<?, ?it/s]\u001B[A\n",
      "Validation DataLoader 0: 100%|██████████| 1/1 [00:00<00:00, 86.12it/s]\u001B[A\n",
      "Epoch 99: 100%|██████████| 1/1 [00:00<00:00, 15.50it/s, v_num=2, train/loss_step=0.363, val/loss=1.090, val/error_u=0.869, val/error_v=0.982, val/error_h=0.726, val/loss_best=1.090, train/loss_epoch=0.363]"
     ]
    },
    {
     "name": "stderr",
     "output_type": "stream",
     "text": [
      "`Trainer.fit` stopped: `max_epochs=100` reached.\n"
     ]
    },
    {
     "name": "stdout",
     "output_type": "stream",
     "text": [
      "Epoch 99: 100%|██████████| 1/1 [00:00<00:00, 13.19it/s, v_num=2, train/loss_step=0.363, val/loss=1.090, val/error_u=0.869, val/error_v=0.982, val/error_h=0.726, val/loss_best=1.090, train/loss_epoch=0.363]\n",
      "Training time: 0.0h 0.0m 9.450665473937988s\n"
     ]
    }
   ],
   "execution_count": 18
  },
  {
   "metadata": {
    "ExecuteTime": {
     "end_time": "2025-09-17T23:17:24.820276Z",
     "start_time": "2025-09-17T23:17:24.777198Z"
    }
   },
   "cell_type": "code",
   "source": "trainer.validate(model=model, datamodule=datamodule)",
   "id": "6ed408a27bc2fe69",
   "outputs": [
    {
     "name": "stderr",
     "output_type": "stream",
     "text": [
      "LOCAL_RANK: 0 - CUDA_VISIBLE_DEVICES: [0]\n"
     ]
    },
    {
     "name": "stdout",
     "output_type": "stream",
     "text": [
      "Validation DataLoader 0: 100%|██████████| 1/1 [00:00<00:00, 66.07it/s]\n"
     ]
    },
    {
     "data": {
      "text/plain": [
       "┏━━━━━━━━━━━━━━━━━━━━━━━━━━━┳━━━━━━━━━━━━━━━━━━━━━━━━━━━┓\n",
       "┃\u001B[1m \u001B[0m\u001B[1m     Validate metric     \u001B[0m\u001B[1m \u001B[0m┃\u001B[1m \u001B[0m\u001B[1m      DataLoader 0       \u001B[0m\u001B[1m \u001B[0m┃\n",
       "┡━━━━━━━━━━━━━━━━━━━━━━━━━━━╇━━━━━━━━━━━━━━━━━━━━━━━━━━━┩\n",
       "│\u001B[36m \u001B[0m\u001B[36m       val/error_h       \u001B[0m\u001B[36m \u001B[0m│\u001B[35m \u001B[0m\u001B[35m   0.7260131239891052    \u001B[0m\u001B[35m \u001B[0m│\n",
       "│\u001B[36m \u001B[0m\u001B[36m       val/error_u       \u001B[0m\u001B[36m \u001B[0m│\u001B[35m \u001B[0m\u001B[35m   0.8689003586769104    \u001B[0m\u001B[35m \u001B[0m│\n",
       "│\u001B[36m \u001B[0m\u001B[36m       val/error_v       \u001B[0m\u001B[36m \u001B[0m│\u001B[35m \u001B[0m\u001B[35m   0.9822352528572083    \u001B[0m\u001B[35m \u001B[0m│\n",
       "│\u001B[36m \u001B[0m\u001B[36m        val/loss         \u001B[0m\u001B[36m \u001B[0m│\u001B[35m \u001B[0m\u001B[35m   1.0890865325927734    \u001B[0m\u001B[35m \u001B[0m│\n",
       "│\u001B[36m \u001B[0m\u001B[36m      val/loss_best      \u001B[0m\u001B[36m \u001B[0m│\u001B[35m \u001B[0m\u001B[35m   1.0890865325927734    \u001B[0m\u001B[35m \u001B[0m│\n",
       "└───────────────────────────┴───────────────────────────┘\n"
      ],
      "text/html": [
       "<pre style=\"white-space:pre;overflow-x:auto;line-height:normal;font-family:Menlo,'DejaVu Sans Mono',consolas,'Courier New',monospace\">┏━━━━━━━━━━━━━━━━━━━━━━━━━━━┳━━━━━━━━━━━━━━━━━━━━━━━━━━━┓\n",
       "┃<span style=\"font-weight: bold\">      Validate metric      </span>┃<span style=\"font-weight: bold\">       DataLoader 0        </span>┃\n",
       "┡━━━━━━━━━━━━━━━━━━━━━━━━━━━╇━━━━━━━━━━━━━━━━━━━━━━━━━━━┩\n",
       "│<span style=\"color: #008080; text-decoration-color: #008080\">        val/error_h        </span>│<span style=\"color: #800080; text-decoration-color: #800080\">    0.7260131239891052     </span>│\n",
       "│<span style=\"color: #008080; text-decoration-color: #008080\">        val/error_u        </span>│<span style=\"color: #800080; text-decoration-color: #800080\">    0.8689003586769104     </span>│\n",
       "│<span style=\"color: #008080; text-decoration-color: #008080\">        val/error_v        </span>│<span style=\"color: #800080; text-decoration-color: #800080\">    0.9822352528572083     </span>│\n",
       "│<span style=\"color: #008080; text-decoration-color: #008080\">         val/loss          </span>│<span style=\"color: #800080; text-decoration-color: #800080\">    1.0890865325927734     </span>│\n",
       "│<span style=\"color: #008080; text-decoration-color: #008080\">       val/loss_best       </span>│<span style=\"color: #800080; text-decoration-color: #800080\">    1.0890865325927734     </span>│\n",
       "└───────────────────────────┴───────────────────────────┘\n",
       "</pre>\n"
      ]
     },
     "metadata": {},
     "output_type": "display_data"
    },
    {
     "data": {
      "text/plain": [
       "[{'val/loss': 1.0890865325927734,\n",
       "  'val/error_u': 0.8689003586769104,\n",
       "  'val/error_v': 0.9822352528572083,\n",
       "  'val/error_h': 0.7260131239891052,\n",
       "  'val/loss_best': 1.0890865325927734}]"
      ]
     },
     "execution_count": 19,
     "metadata": {},
     "output_type": "execute_result"
    }
   ],
   "execution_count": 19
  },
  {
   "metadata": {
    "ExecuteTime": {
     "end_time": "2025-09-17T23:17:24.850509Z",
     "start_time": "2025-09-17T23:17:24.823921Z"
    }
   },
   "cell_type": "code",
   "source": [
    "preds_list = trainer.predict(model=model, datamodule=datamodule)\n",
    "preds_dict = pinnstorch.utils.fix_predictions(preds_list)"
   ],
   "id": "b27ae0c64cff66e9",
   "outputs": [
    {
     "name": "stderr",
     "output_type": "stream",
     "text": [
      "LOCAL_RANK: 0 - CUDA_VISIBLE_DEVICES: [0]\n"
     ]
    },
    {
     "name": "stdout",
     "output_type": "stream",
     "text": [
      "Predicting DataLoader 0: 100%|██████████| 1/1 [00:00<00:00, 108.62it/s]\n"
     ]
    }
   ],
   "execution_count": 20
  },
  {
   "metadata": {
    "ExecuteTime": {
     "end_time": "2025-09-17T23:17:25.875981Z",
     "start_time": "2025-09-17T23:17:24.854056Z"
    }
   },
   "cell_type": "code",
   "source": [
    "pinnstorch.utils.plot_schrodinger(mesh=mesh,\n",
    "                                  preds=preds_dict,\n",
    "                                  train_datasets=train_datasets,\n",
    "                                  val_dataset=val_dataset,\n",
    "                                  file_name='1_tanh')"
   ],
   "id": "136934f985ff58a",
   "outputs": [
    {
     "data": {
      "text/plain": [
       "<Figure size 539.643x300.166 with 6 Axes>"
      ],
      "image/png": "[encoded data removed]"
     },
     "metadata": {},
     "output_type": "display_data"
    }
   ],
   "execution_count": 21
  },
  {
   "metadata": {
    "ExecuteTime": {
     "end_time": "2025-09-17T20:00:00.944134Z",
     "start_time": "2025-09-17T20:00:00.936908Z"
    }
   },
   "cell_type": "markdown",
   "source": [
    "##### ReLu\n",
    "\n",
    "The `Rectified Linear Unit` also known as `Relu` is another common activation. This activation is typically not utilized with PINNs\n",
    "\n",
    "![](https://www.aitude.com/wp-content/uploads/2020/08/relu-activation.png)\n"
   ],
   "id": "da2080b764bd873b"
  },
  {
   "metadata": {
    "ExecuteTime": {
     "end_time": "2025-09-17T23:17:25.906925Z",
     "start_time": "2025-09-17T23:17:25.895306Z"
    }
   },
   "cell_type": "code",
   "source": [
    "net_relu = pinnstorch.models.FCN(layers=layers,\n",
    "                            output_names=['u', 'v'],\n",
    "                            lb=mesh.lb,\n",
    "                            ub=mesh.ub,\n",
    "                            activation=\"RELU\",  # use registry\n",
    "                            activation_kwargs={},  # extra params\n",
    "                            initializer=\"XAVIER_UNIFORM\",  # use registry\n",
    "                            initializer_kwargs={},  # extra params\n",
    "                            layer_type='BASE',\n",
    "                            layer_kwargs={}\n",
    "                            )"
   ],
   "id": "a7b588b62aff44b9",
   "outputs": [],
   "execution_count": 22
  },
  {
   "metadata": {
    "ExecuteTime": {
     "end_time": "2025-09-17T23:17:25.922507Z",
     "start_time": "2025-09-17T23:17:25.910358Z"
    }
   },
   "cell_type": "code",
   "source": [
    "model = pinnstorch.models.PINNModule(net = net_relu,\n",
    "                                     pde_fn = pde_fn,\n",
    "                                     output_fn = output_fn,\n",
    "                                     loss_fn = 'mse')"
   ],
   "id": "a2f19ffe19a5a8",
   "outputs": [],
   "execution_count": 23
  },
  {
   "metadata": {
    "ExecuteTime": {
     "end_time": "2025-09-17T23:17:33.477439Z",
     "start_time": "2025-09-17T23:17:25.926511Z"
    }
   },
   "cell_type": "code",
   "source": [
    "trainer = pl.Trainer(accelerator='gpu', devices=1, max_epochs = num_epochs)\n",
    "start_time = time.time()\n",
    "\n",
    "trainer.fit(model=model, datamodule=datamodule)\n",
    "end_time = time.time()\n",
    "\n",
    "total_time = end_time - start_time\n",
    "hours = total_time // 3600\n",
    "minutes = (total_time % 3600) // 60\n",
    "seconds = total_time % 60\n",
    "\n",
    "print(f\"Training time: {hours}h {minutes}m {seconds}s\")"
   ],
   "id": "f7cc74830ac5896c",
   "outputs": [
    {
     "name": "stderr",
     "output_type": "stream",
     "text": [
      "💡 Tip: For seamless cloud uploads and versioning, try installing [litmodels](https://pypi.org/project/litmodels/) to enable LitModelCheckpoint, which syncs automatically with the Lightning model registry.\n",
      "GPU available: True (cuda), used: True\n",
      "TPU available: False, using: 0 TPU cores\n",
      "HPU available: False, using: 0 HPUs\n",
      "LOCAL_RANK: 0 - CUDA_VISIBLE_DEVICES: [0]\n",
      "\n",
      "  | Name          | Type       | Params | Mode \n",
      "-----------------------------------------------------\n",
      "0 | net           | FCN        | 30.8 K | train\n",
      "1 | train_loss    | MeanMetric | 0      | train\n",
      "2 | val_loss      | MeanMetric | 0      | train\n",
      "3 | val_error     | MeanMetric | 0      | train\n",
      "4 | test_loss     | MeanMetric | 0      | train\n",
      "5 | test_error    | MeanMetric | 0      | train\n",
      "6 | val_loss_best | MinMetric  | 0      | train\n",
      "-----------------------------------------------------\n",
      "30.8 K    Trainable params\n",
      "0         Non-trainable params\n",
      "30.8 K    Total params\n",
      "0.123     Total estimated model params size (MB)\n",
      "23        Modules in train mode\n",
      "0         Modules in eval mode\n"
     ]
    },
    {
     "name": "stdout",
     "output_type": "stream",
     "text": [
      "                                                                           "
     ]
    },
    {
     "name": "stderr",
     "output_type": "stream",
     "text": [
      "C:\\Users\\micke\\anaconda3\\envs\\myenv\\lib\\site-packages\\lightning\\pytorch\\loops\\fit_loop.py:310: The number of training batches (1) is smaller than the logging interval Trainer(log_every_n_steps=50). Set a lower value for log_every_n_steps if you want to see logs for the training epoch.\n"
     ]
    },
    {
     "name": "stdout",
     "output_type": "stream",
     "text": [
      "Epoch 0:   0%|          | 0/1 [00:00<?, ?it/s]"
     ]
    },
    {
     "name": "stderr",
     "output_type": "stream",
     "text": [
      "C:\\Users\\micke\\anaconda3\\envs\\myenv\\lib\\site-packages\\torch\\jit\\_trace.py:165: UserWarning: The .grad attribute of a Tensor that is not a leaf Tensor is being accessed. Its .grad attribute won't be populated during autograd.backward(). If you indeed want the .grad field to be populated for a non-leaf Tensor, use .retain_grad() on the non-leaf Tensor. If you access the non-leaf Tensor by mistake, make sure you access the leaf Tensor instead. See github.com/pytorch/pytorch/pull/30531 for more informations. (Triggered internally at C:\\actions-runner\\_work\\pytorch\\pytorch\\pytorch\\build\\aten\\src\\ATen/core/TensorBody.h:494.)\n",
      "  if a.grad is not None:\n"
     ]
    },
    {
     "name": "stdout",
     "output_type": "stream",
     "text": [
      "Epoch 0: 100%|██████████| 1/1 [00:00<00:00,  1.52it/s, v_num=3, train/loss_step=0.945]\n",
      "Validation: |          | 0/? [00:00<?, ?it/s]\u001B[A\n",
      "Validation: |          | 0/? [00:00<?, ?it/s]\u001B[A\n",
      "Validation DataLoader 0:   0%|          | 0/1 [00:00<?, ?it/s]\u001B[A\n",
      "Validation DataLoader 0: 100%|██████████| 1/1 [00:00<00:00, 98.14it/s]\u001B[A\n",
      "Epoch 1: 100%|██████████| 1/1 [00:00<00:00,  6.91it/s, v_num=3, train/loss_step=0.765, val/loss=1.480, val/error_u=1.040, val/error_v=0.958, val/error_h=0.914, val/loss_best=1.480, train/loss_epoch=0.945]\n",
      "Validation: |          | 0/? [00:00<?, ?it/s]\u001B[A\n",
      "Validation: |          | 0/? [00:00<?, ?it/s]\u001B[A\n",
      "Validation DataLoader 0:   0%|          | 0/1 [00:00<?, ?it/s]\u001B[A\n",
      "Validation DataLoader 0: 100%|██████████| 1/1 [00:00<00:00, 78.87it/s]\u001B[A\n",
      "Epoch 2: 100%|██████████| 1/1 [00:00<00:00,  2.39it/s, v_num=3, train/loss_step=0.640, val/loss=1.490, val/error_u=0.970, val/error_v=0.976, val/error_h=0.956, val/loss_best=1.480, train/loss_epoch=0.765]\n",
      "Validation: |          | 0/? [00:00<?, ?it/s]\u001B[A\n",
      "Validation: |          | 0/? [00:00<?, ?it/s]\u001B[A\n",
      "Validation DataLoader 0:   0%|          | 0/1 [00:00<?, ?it/s]\u001B[A\n",
      "Validation DataLoader 0: 100%|██████████| 1/1 [00:00<00:00, 59.73it/s]\u001B[A\n",
      "Epoch 3: 100%|██████████| 1/1 [00:00<00:00, 29.47it/s, v_num=3, train/loss_step=0.550, val/loss=1.370, val/error_u=0.914, val/error_v=0.999, val/error_h=0.905, val/loss_best=1.370, train/loss_epoch=0.640]\n",
      "Validation: |          | 0/? [00:00<?, ?it/s]\u001B[A\n",
      "Validation: |          | 0/? [00:00<?, ?it/s]\u001B[A\n",
      "Validation DataLoader 0:   0%|          | 0/1 [00:00<?, ?it/s]\u001B[A\n",
      "Validation DataLoader 0: 100%|██████████| 1/1 [00:00<00:00, 82.82it/s]\u001B[A\n",
      "Epoch 4: 100%|██████████| 1/1 [00:00<00:00, 29.05it/s, v_num=3, train/loss_step=0.488, val/loss=1.280, val/error_u=0.876, val/error_v=1.020, val/error_h=0.852, val/loss_best=1.280, train/loss_epoch=0.550]\n",
      "Validation: |          | 0/? [00:00<?, ?it/s]\u001B[A\n",
      "Validation: |          | 0/? [00:00<?, ?it/s]\u001B[A\n",
      "Validation DataLoader 0:   0%|          | 0/1 [00:00<?, ?it/s]\u001B[A\n",
      "Validation DataLoader 0: 100%|██████████| 1/1 [00:00<00:00, 82.50it/s]\u001B[A\n",
      "Epoch 5: 100%|██████████| 1/1 [00:00<00:00, 27.84it/s, v_num=3, train/loss_step=0.453, val/loss=1.210, val/error_u=0.856, val/error_v=1.030, val/error_h=0.812, val/loss_best=1.210, train/loss_epoch=0.488]\n",
      "Validation: |          | 0/? [00:00<?, ?it/s]\u001B[A\n",
      "Validation: |          | 0/? [00:00<?, ?it/s]\u001B[A\n",
      "Validation DataLoader 0:   0%|          | 0/1 [00:00<?, ?it/s]\u001B[A\n",
      "Validation DataLoader 0: 100%|██████████| 1/1 [00:00<00:00, 69.04it/s]\u001B[A\n",
      "Epoch 6: 100%|██████████| 1/1 [00:00<00:00, 35.66it/s, v_num=3, train/loss_step=0.431, val/loss=1.170, val/error_u=0.852, val/error_v=1.030, val/error_h=0.783, val/loss_best=1.170, train/loss_epoch=0.453]\n",
      "Validation: |          | 0/? [00:00<?, ?it/s]\u001B[A\n",
      "Validation: |          | 0/? [00:00<?, ?it/s]\u001B[A\n",
      "Validation DataLoader 0:   0%|          | 0/1 [00:00<?, ?it/s]\u001B[A\n",
      "Validation DataLoader 0: 100%|██████████| 1/1 [00:00<00:00, 37.98it/s]\u001B[A\n",
      "Epoch 7: 100%|██████████| 1/1 [00:00<00:00, 35.18it/s, v_num=3, train/loss_step=0.422, val/loss=1.160, val/error_u=0.860, val/error_v=1.030, val/error_h=0.766, val/loss_best=1.160, train/loss_epoch=0.431]\n",
      "Validation: |          | 0/? [00:00<?, ?it/s]\u001B[A\n",
      "Validation: |          | 0/? [00:00<?, ?it/s]\u001B[A\n",
      "Validation DataLoader 0:   0%|          | 0/1 [00:00<?, ?it/s]\u001B[A\n",
      "Validation DataLoader 0: 100%|██████████| 1/1 [00:00<00:00, 47.95it/s]\u001B[A\n",
      "Epoch 8: 100%|██████████| 1/1 [00:00<00:00, 33.08it/s, v_num=3, train/loss_step=0.424, val/loss=1.160, val/error_u=0.876, val/error_v=1.020, val/error_h=0.756, val/loss_best=1.160, train/loss_epoch=0.422]\n",
      "Validation: |          | 0/? [00:00<?, ?it/s]\u001B[A\n",
      "Validation: |          | 0/? [00:00<?, ?it/s]\u001B[A\n",
      "Validation DataLoader 0:   0%|          | 0/1 [00:00<?, ?it/s]\u001B[A\n",
      "Validation DataLoader 0: 100%|██████████| 1/1 [00:00<00:00, 73.34it/s]\u001B[A\n",
      "Epoch 9: 100%|██████████| 1/1 [00:00<00:00, 31.18it/s, v_num=3, train/loss_step=0.430, val/loss=1.160, val/error_u=0.890, val/error_v=1.020, val/error_h=0.753, val/loss_best=1.160, train/loss_epoch=0.424]\n",
      "Validation: |          | 0/? [00:00<?, ?it/s]\u001B[A\n",
      "Validation: |          | 0/? [00:00<?, ?it/s]\u001B[A\n",
      "Validation DataLoader 0:   0%|          | 0/1 [00:00<?, ?it/s]\u001B[A\n",
      "Validation DataLoader 0: 100%|██████████| 1/1 [00:00<00:00, 75.41it/s]\u001B[A\n",
      "Epoch 10: 100%|██████████| 1/1 [00:00<00:00, 34.49it/s, v_num=3, train/loss_step=0.429, val/loss=1.160, val/error_u=0.895, val/error_v=1.010, val/error_h=0.753, val/loss_best=1.160, train/loss_epoch=0.430]\n",
      "Validation: |          | 0/? [00:00<?, ?it/s]\u001B[A\n",
      "Validation: |          | 0/? [00:00<?, ?it/s]\u001B[A\n",
      "Validation DataLoader 0:   0%|          | 0/1 [00:00<?, ?it/s]\u001B[A\n",
      "Validation DataLoader 0: 100%|██████████| 1/1 [00:00<00:00, 81.49it/s]\u001B[A\n",
      "Epoch 11: 100%|██████████| 1/1 [00:00<00:00, 33.96it/s, v_num=3, train/loss_step=0.420, val/loss=1.160, val/error_u=0.892, val/error_v=1.010, val/error_h=0.753, val/loss_best=1.160, train/loss_epoch=0.429]\n",
      "Validation: |          | 0/? [00:00<?, ?it/s]\u001B[A\n",
      "Validation: |          | 0/? [00:00<?, ?it/s]\u001B[A\n",
      "Validation DataLoader 0:   0%|          | 0/1 [00:00<?, ?it/s]\u001B[A\n",
      "Validation DataLoader 0: 100%|██████████| 1/1 [00:00<00:00, 75.00it/s]\u001B[A\n",
      "Epoch 12: 100%|██████████| 1/1 [00:00<00:00, 37.77it/s, v_num=3, train/loss_step=0.408, val/loss=1.150, val/error_u=0.883, val/error_v=1.000, val/error_h=0.755, val/loss_best=1.150, train/loss_epoch=0.420]\n",
      "Validation: |          | 0/? [00:00<?, ?it/s]\u001B[A\n",
      "Validation: |          | 0/? [00:00<?, ?it/s]\u001B[A\n",
      "Validation DataLoader 0:   0%|          | 0/1 [00:00<?, ?it/s]\u001B[A\n",
      "Validation DataLoader 0: 100%|██████████| 1/1 [00:00<00:00, 92.95it/s]\u001B[A\n",
      "Epoch 13: 100%|██████████| 1/1 [00:00<00:00, 37.31it/s, v_num=3, train/loss_step=0.399, val/loss=1.140, val/error_u=0.872, val/error_v=0.999, val/error_h=0.758, val/loss_best=1.140, train/loss_epoch=0.408]\n",
      "Validation: |          | 0/? [00:00<?, ?it/s]\u001B[A\n",
      "Validation: |          | 0/? [00:00<?, ?it/s]\u001B[A\n",
      "Validation DataLoader 0:   0%|          | 0/1 [00:00<?, ?it/s]\u001B[A\n",
      "Validation DataLoader 0: 100%|██████████| 1/1 [00:00<00:00, 93.65it/s]\u001B[A\n",
      "Epoch 14: 100%|██████████| 1/1 [00:00<00:00, 36.26it/s, v_num=3, train/loss_step=0.394, val/loss=1.130, val/error_u=0.863, val/error_v=0.994, val/error_h=0.761, val/loss_best=1.130, train/loss_epoch=0.399]\n",
      "Validation: |          | 0/? [00:00<?, ?it/s]\u001B[A\n",
      "Validation: |          | 0/? [00:00<?, ?it/s]\u001B[A\n",
      "Validation DataLoader 0:   0%|          | 0/1 [00:00<?, ?it/s]\u001B[A\n",
      "Validation DataLoader 0: 100%|██████████| 1/1 [00:00<00:00, 80.82it/s]\u001B[A\n",
      "Epoch 15: 100%|██████████| 1/1 [00:00<00:00, 39.85it/s, v_num=3, train/loss_step=0.390, val/loss=1.130, val/error_u=0.858, val/error_v=0.989, val/error_h=0.764, val/loss_best=1.130, train/loss_epoch=0.394]\n",
      "Validation: |          | 0/? [00:00<?, ?it/s]\u001B[A\n",
      "Validation: |          | 0/? [00:00<?, ?it/s]\u001B[A\n",
      "Validation DataLoader 0:   0%|          | 0/1 [00:00<?, ?it/s]\u001B[A\n",
      "Validation DataLoader 0: 100%|██████████| 1/1 [00:00<00:00, 84.78it/s]\u001B[A\n",
      "Epoch 16: 100%|██████████| 1/1 [00:00<00:00, 39.20it/s, v_num=3, train/loss_step=0.389, val/loss=1.120, val/error_u=0.854, val/error_v=0.984, val/error_h=0.766, val/loss_best=1.120, train/loss_epoch=0.390]\n",
      "Validation: |          | 0/? [00:00<?, ?it/s]\u001B[A\n",
      "Validation: |          | 0/? [00:00<?, ?it/s]\u001B[A\n",
      "Validation DataLoader 0:   0%|          | 0/1 [00:00<?, ?it/s]\u001B[A\n",
      "Validation DataLoader 0: 100%|██████████| 1/1 [00:00<00:00, 69.09it/s]\u001B[A\n",
      "Epoch 17: 100%|██████████| 1/1 [00:00<00:00, 39.83it/s, v_num=3, train/loss_step=0.386, val/loss=1.120, val/error_u=0.853, val/error_v=0.980, val/error_h=0.764, val/loss_best=1.120, train/loss_epoch=0.389]\n",
      "Validation: |          | 0/? [00:00<?, ?it/s]\u001B[A\n",
      "Validation: |          | 0/? [00:00<?, ?it/s]\u001B[A\n",
      "Validation DataLoader 0:   0%|          | 0/1 [00:00<?, ?it/s]\u001B[A\n",
      "Validation DataLoader 0: 100%|██████████| 1/1 [00:00<00:00, 75.47it/s]\u001B[A\n",
      "Epoch 18: 100%|██████████| 1/1 [00:00<00:00, 39.96it/s, v_num=3, train/loss_step=0.381, val/loss=1.110, val/error_u=0.854, val/error_v=0.978, val/error_h=0.761, val/loss_best=1.110, train/loss_epoch=0.386]\n",
      "Validation: |          | 0/? [00:00<?, ?it/s]\u001B[A\n",
      "Validation: |          | 0/? [00:00<?, ?it/s]\u001B[A\n",
      "Validation DataLoader 0:   0%|          | 0/1 [00:00<?, ?it/s]\u001B[A\n",
      "Validation DataLoader 0: 100%|██████████| 1/1 [00:00<00:00, 85.15it/s]\u001B[A\n",
      "Epoch 19: 100%|██████████| 1/1 [00:00<00:00, 42.02it/s, v_num=3, train/loss_step=0.376, val/loss=1.110, val/error_u=0.856, val/error_v=0.977, val/error_h=0.756, val/loss_best=1.110, train/loss_epoch=0.381]\n",
      "Validation: |          | 0/? [00:00<?, ?it/s]\u001B[A\n",
      "Validation: |          | 0/? [00:00<?, ?it/s]\u001B[A\n",
      "Validation DataLoader 0:   0%|          | 0/1 [00:00<?, ?it/s]\u001B[A\n",
      "Validation DataLoader 0: 100%|██████████| 1/1 [00:00<00:00, 86.03it/s]\u001B[A\n",
      "Epoch 20: 100%|██████████| 1/1 [00:00<00:00, 41.11it/s, v_num=3, train/loss_step=0.371, val/loss=1.110, val/error_u=0.861, val/error_v=0.977, val/error_h=0.751, val/loss_best=1.110, train/loss_epoch=0.376]\n",
      "Validation: |          | 0/? [00:00<?, ?it/s]\u001B[A\n",
      "Validation: |          | 0/? [00:00<?, ?it/s]\u001B[A\n",
      "Validation DataLoader 0:   0%|          | 0/1 [00:00<?, ?it/s]\u001B[A\n",
      "Validation DataLoader 0: 100%|██████████| 1/1 [00:00<00:00, 72.70it/s]\u001B[A\n",
      "Epoch 21: 100%|██████████| 1/1 [00:00<00:00, 37.62it/s, v_num=3, train/loss_step=0.367, val/loss=1.110, val/error_u=0.867, val/error_v=0.977, val/error_h=0.747, val/loss_best=1.110, train/loss_epoch=0.371]\n",
      "Validation: |          | 0/? [00:00<?, ?it/s]\u001B[A\n",
      "Validation: |          | 0/? [00:00<?, ?it/s]\u001B[A\n",
      "Validation DataLoader 0:   0%|          | 0/1 [00:00<?, ?it/s]\u001B[A\n",
      "Validation DataLoader 0: 100%|██████████| 1/1 [00:00<00:00, 86.42it/s]\u001B[A\n",
      "Epoch 22: 100%|██████████| 1/1 [00:00<00:00, 41.32it/s, v_num=3, train/loss_step=0.363, val/loss=1.110, val/error_u=0.874, val/error_v=0.978, val/error_h=0.743, val/loss_best=1.110, train/loss_epoch=0.367]\n",
      "Validation: |          | 0/? [00:00<?, ?it/s]\u001B[A\n",
      "Validation: |          | 0/? [00:00<?, ?it/s]\u001B[A\n",
      "Validation DataLoader 0:   0%|          | 0/1 [00:00<?, ?it/s]\u001B[A\n",
      "Validation DataLoader 0: 100%|██████████| 1/1 [00:00<00:00, 60.03it/s]\u001B[A\n",
      "Epoch 23: 100%|██████████| 1/1 [00:00<00:00, 41.01it/s, v_num=3, train/loss_step=0.360, val/loss=1.110, val/error_u=0.880, val/error_v=0.979, val/error_h=0.741, val/loss_best=1.110, train/loss_epoch=0.363]\n",
      "Validation: |          | 0/? [00:00<?, ?it/s]\u001B[A\n",
      "Validation: |          | 0/? [00:00<?, ?it/s]\u001B[A\n",
      "Validation DataLoader 0:   0%|          | 0/1 [00:00<?, ?it/s]\u001B[A\n",
      "Validation DataLoader 0: 100%|██████████| 1/1 [00:00<00:00, 67.95it/s]\u001B[A\n",
      "Epoch 24: 100%|██████████| 1/1 [00:00<00:00, 41.68it/s, v_num=3, train/loss_step=0.356, val/loss=1.110, val/error_u=0.882, val/error_v=0.980, val/error_h=0.739, val/loss_best=1.110, train/loss_epoch=0.360]\n",
      "Validation: |          | 0/? [00:00<?, ?it/s]\u001B[A\n",
      "Validation: |          | 0/? [00:00<?, ?it/s]\u001B[A\n",
      "Validation DataLoader 0:   0%|          | 0/1 [00:00<?, ?it/s]\u001B[A\n",
      "Validation DataLoader 0: 100%|██████████| 1/1 [00:00<00:00, 81.50it/s]\u001B[A\n",
      "Epoch 25: 100%|██████████| 1/1 [00:00<00:00, 40.87it/s, v_num=3, train/loss_step=0.351, val/loss=1.110, val/error_u=0.880, val/error_v=0.981, val/error_h=0.738, val/loss_best=1.110, train/loss_epoch=0.356]\n",
      "Validation: |          | 0/? [00:00<?, ?it/s]\u001B[A\n",
      "Validation: |          | 0/? [00:00<?, ?it/s]\u001B[A\n",
      "Validation DataLoader 0:   0%|          | 0/1 [00:00<?, ?it/s]\u001B[A\n",
      "Validation DataLoader 0: 100%|██████████| 1/1 [00:00<00:00, 79.62it/s]\u001B[A\n",
      "Epoch 26: 100%|██████████| 1/1 [00:00<00:00, 41.02it/s, v_num=3, train/loss_step=0.345, val/loss=1.100, val/error_u=0.874, val/error_v=0.981, val/error_h=0.736, val/loss_best=1.100, train/loss_epoch=0.351]\n",
      "Validation: |          | 0/? [00:00<?, ?it/s]\u001B[A\n",
      "Validation: |          | 0/? [00:00<?, ?it/s]\u001B[A\n",
      "Validation DataLoader 0:   0%|          | 0/1 [00:00<?, ?it/s]\u001B[A\n",
      "Validation DataLoader 0: 100%|██████████| 1/1 [00:00<00:00, 84.92it/s]\u001B[A\n",
      "Epoch 27: 100%|██████████| 1/1 [00:00<00:00, 43.18it/s, v_num=3, train/loss_step=0.340, val/loss=1.100, val/error_u=0.868, val/error_v=0.980, val/error_h=0.734, val/loss_best=1.100, train/loss_epoch=0.345]\n",
      "Validation: |          | 0/? [00:00<?, ?it/s]\u001B[A\n",
      "Validation: |          | 0/? [00:00<?, ?it/s]\u001B[A\n",
      "Validation DataLoader 0:   0%|          | 0/1 [00:00<?, ?it/s]\u001B[A\n",
      "Validation DataLoader 0: 100%|██████████| 1/1 [00:00<00:00, 85.06it/s]\u001B[A\n",
      "Epoch 28: 100%|██████████| 1/1 [00:00<00:00, 39.00it/s, v_num=3, train/loss_step=0.337, val/loss=1.090, val/error_u=0.862, val/error_v=0.979, val/error_h=0.732, val/loss_best=1.090, train/loss_epoch=0.340]\n",
      "Validation: |          | 0/? [00:00<?, ?it/s]\u001B[A\n",
      "Validation: |          | 0/? [00:00<?, ?it/s]\u001B[A\n",
      "Validation DataLoader 0:   0%|          | 0/1 [00:00<?, ?it/s]\u001B[A\n",
      "Validation DataLoader 0: 100%|██████████| 1/1 [00:00<00:00, 90.67it/s]\u001B[A\n",
      "Epoch 29: 100%|██████████| 1/1 [00:00<00:00, 31.28it/s, v_num=3, train/loss_step=0.333, val/loss=1.080, val/error_u=0.859, val/error_v=0.979, val/error_h=0.729, val/loss_best=1.080, train/loss_epoch=0.337]\n",
      "Validation: |          | 0/? [00:00<?, ?it/s]\u001B[A\n",
      "Validation: |          | 0/? [00:00<?, ?it/s]\u001B[A\n",
      "Validation DataLoader 0:   0%|          | 0/1 [00:00<?, ?it/s]\u001B[A\n",
      "Validation DataLoader 0: 100%|██████████| 1/1 [00:00<00:00, 90.50it/s]\u001B[A\n",
      "Epoch 30: 100%|██████████| 1/1 [00:00<00:00, 40.74it/s, v_num=3, train/loss_step=0.328, val/loss=1.080, val/error_u=0.858, val/error_v=0.979, val/error_h=0.726, val/loss_best=1.080, train/loss_epoch=0.333]\n",
      "Validation: |          | 0/? [00:00<?, ?it/s]\u001B[A\n",
      "Validation: |          | 0/? [00:00<?, ?it/s]\u001B[A\n",
      "Validation DataLoader 0:   0%|          | 0/1 [00:00<?, ?it/s]\u001B[A\n",
      "Validation DataLoader 0: 100%|██████████| 1/1 [00:00<00:00, 79.03it/s]\u001B[A\n",
      "Epoch 31: 100%|██████████| 1/1 [00:00<00:00, 41.86it/s, v_num=3, train/loss_step=0.323, val/loss=1.080, val/error_u=0.860, val/error_v=0.979, val/error_h=0.723, val/loss_best=1.080, train/loss_epoch=0.328]\n",
      "Validation: |          | 0/? [00:00<?, ?it/s]\u001B[A\n",
      "Validation: |          | 0/? [00:00<?, ?it/s]\u001B[A\n",
      "Validation DataLoader 0:   0%|          | 0/1 [00:00<?, ?it/s]\u001B[A\n",
      "Validation DataLoader 0: 100%|██████████| 1/1 [00:00<00:00, 78.78it/s]\u001B[A\n",
      "Epoch 32: 100%|██████████| 1/1 [00:00<00:00, 39.40it/s, v_num=3, train/loss_step=0.318, val/loss=1.080, val/error_u=0.864, val/error_v=0.980, val/error_h=0.720, val/loss_best=1.080, train/loss_epoch=0.323]\n",
      "Validation: |          | 0/? [00:00<?, ?it/s]\u001B[A\n",
      "Validation: |          | 0/? [00:00<?, ?it/s]\u001B[A\n",
      "Validation DataLoader 0:   0%|          | 0/1 [00:00<?, ?it/s]\u001B[A\n",
      "Validation DataLoader 0: 100%|██████████| 1/1 [00:00<00:00, 75.01it/s]\u001B[A\n",
      "Epoch 33: 100%|██████████| 1/1 [00:00<00:00, 40.78it/s, v_num=3, train/loss_step=0.314, val/loss=1.080, val/error_u=0.868, val/error_v=0.980, val/error_h=0.718, val/loss_best=1.080, train/loss_epoch=0.318]\n",
      "Validation: |          | 0/? [00:00<?, ?it/s]\u001B[A\n",
      "Validation: |          | 0/? [00:00<?, ?it/s]\u001B[A\n",
      "Validation DataLoader 0:   0%|          | 0/1 [00:00<?, ?it/s]\u001B[A\n",
      "Validation DataLoader 0: 100%|██████████| 1/1 [00:00<00:00, 85.59it/s]\u001B[A\n",
      "Epoch 34: 100%|██████████| 1/1 [00:00<00:00, 41.45it/s, v_num=3, train/loss_step=0.311, val/loss=1.080, val/error_u=0.870, val/error_v=0.981, val/error_h=0.715, val/loss_best=1.080, train/loss_epoch=0.314]\n",
      "Validation: |          | 0/? [00:00<?, ?it/s]\u001B[A\n",
      "Validation: |          | 0/? [00:00<?, ?it/s]\u001B[A\n",
      "Validation DataLoader 0:   0%|          | 0/1 [00:00<?, ?it/s]\u001B[A\n",
      "Validation DataLoader 0: 100%|██████████| 1/1 [00:00<00:00, 73.08it/s]\u001B[A\n",
      "Epoch 35: 100%|██████████| 1/1 [00:00<00:00, 28.27it/s, v_num=3, train/loss_step=0.308, val/loss=1.070, val/error_u=0.870, val/error_v=0.982, val/error_h=0.713, val/loss_best=1.070, train/loss_epoch=0.311]\n",
      "Validation: |          | 0/? [00:00<?, ?it/s]\u001B[A\n",
      "Validation: |          | 0/? [00:00<?, ?it/s]\u001B[A\n",
      "Validation DataLoader 0:   0%|          | 0/1 [00:00<?, ?it/s]\u001B[A\n",
      "Validation DataLoader 0: 100%|██████████| 1/1 [00:00<00:00, 82.62it/s]\u001B[A\n",
      "Epoch 36: 100%|██████████| 1/1 [00:00<00:00, 33.87it/s, v_num=3, train/loss_step=0.303, val/loss=1.070, val/error_u=0.867, val/error_v=0.982, val/error_h=0.710, val/loss_best=1.070, train/loss_epoch=0.308]\n",
      "Validation: |          | 0/? [00:00<?, ?it/s]\u001B[A\n",
      "Validation: |          | 0/? [00:00<?, ?it/s]\u001B[A\n",
      "Validation DataLoader 0:   0%|          | 0/1 [00:00<?, ?it/s]\u001B[A\n",
      "Validation DataLoader 0: 100%|██████████| 1/1 [00:00<00:00, 87.35it/s]\u001B[A\n",
      "Epoch 37: 100%|██████████| 1/1 [00:00<00:00, 40.79it/s, v_num=3, train/loss_step=0.297, val/loss=1.060, val/error_u=0.862, val/error_v=0.982, val/error_h=0.707, val/loss_best=1.060, train/loss_epoch=0.303]\n",
      "Validation: |          | 0/? [00:00<?, ?it/s]\u001B[A\n",
      "Validation: |          | 0/? [00:00<?, ?it/s]\u001B[A\n",
      "Validation DataLoader 0:   0%|          | 0/1 [00:00<?, ?it/s]\u001B[A\n",
      "Validation DataLoader 0: 100%|██████████| 1/1 [00:00<00:00, 70.76it/s]\u001B[A\n",
      "Epoch 38: 100%|██████████| 1/1 [00:00<00:00, 39.42it/s, v_num=3, train/loss_step=0.292, val/loss=1.050, val/error_u=0.855, val/error_v=0.982, val/error_h=0.703, val/loss_best=1.050, train/loss_epoch=0.297]\n",
      "Validation: |          | 0/? [00:00<?, ?it/s]\u001B[A\n",
      "Validation: |          | 0/? [00:00<?, ?it/s]\u001B[A\n",
      "Validation DataLoader 0:   0%|          | 0/1 [00:00<?, ?it/s]\u001B[A\n",
      "Validation DataLoader 0: 100%|██████████| 1/1 [00:00<00:00, 78.59it/s]\u001B[A\n",
      "Epoch 39: 100%|██████████| 1/1 [00:00<00:00, 40.10it/s, v_num=3, train/loss_step=0.287, val/loss=1.040, val/error_u=0.850, val/error_v=0.982, val/error_h=0.700, val/loss_best=1.040, train/loss_epoch=0.292]\n",
      "Validation: |          | 0/? [00:00<?, ?it/s]\u001B[A\n",
      "Validation: |          | 0/? [00:00<?, ?it/s]\u001B[A\n",
      "Validation DataLoader 0:   0%|          | 0/1 [00:00<?, ?it/s]\u001B[A\n",
      "Validation DataLoader 0: 100%|██████████| 1/1 [00:00<00:00, 73.11it/s]\u001B[A\n",
      "Epoch 40: 100%|██████████| 1/1 [00:00<00:00, 40.89it/s, v_num=3, train/loss_step=0.282, val/loss=1.040, val/error_u=0.848, val/error_v=0.982, val/error_h=0.697, val/loss_best=1.040, train/loss_epoch=0.287]\n",
      "Validation: |          | 0/? [00:00<?, ?it/s]\u001B[A\n",
      "Validation: |          | 0/? [00:00<?, ?it/s]\u001B[A\n",
      "Validation DataLoader 0:   0%|          | 0/1 [00:00<?, ?it/s]\u001B[A\n",
      "Validation DataLoader 0: 100%|██████████| 1/1 [00:00<00:00, 84.61it/s]\u001B[A\n",
      "Epoch 41: 100%|██████████| 1/1 [00:00<00:00, 41.01it/s, v_num=3, train/loss_step=0.277, val/loss=1.030, val/error_u=0.847, val/error_v=0.983, val/error_h=0.692, val/loss_best=1.030, train/loss_epoch=0.282]\n",
      "Validation: |          | 0/? [00:00<?, ?it/s]\u001B[A\n",
      "Validation: |          | 0/? [00:00<?, ?it/s]\u001B[A\n",
      "Validation DataLoader 0:   0%|          | 0/1 [00:00<?, ?it/s]\u001B[A\n",
      "Validation DataLoader 0: 100%|██████████| 1/1 [00:00<00:00, 70.25it/s]\u001B[A\n",
      "Epoch 42: 100%|██████████| 1/1 [00:00<00:00, 41.69it/s, v_num=3, train/loss_step=0.272, val/loss=1.030, val/error_u=0.849, val/error_v=0.984, val/error_h=0.688, val/loss_best=1.030, train/loss_epoch=0.277]\n",
      "Validation: |          | 0/? [00:00<?, ?it/s]\u001B[A\n",
      "Validation: |          | 0/? [00:00<?, ?it/s]\u001B[A\n",
      "Validation DataLoader 0:   0%|          | 0/1 [00:00<?, ?it/s]\u001B[A\n",
      "Validation DataLoader 0: 100%|██████████| 1/1 [00:00<00:00, 82.53it/s]\u001B[A\n",
      "Epoch 43: 100%|██████████| 1/1 [00:00<00:00, 40.77it/s, v_num=3, train/loss_step=0.268, val/loss=1.030, val/error_u=0.849, val/error_v=0.985, val/error_h=0.683, val/loss_best=1.030, train/loss_epoch=0.272]\n",
      "Validation: |          | 0/? [00:00<?, ?it/s]\u001B[A\n",
      "Validation: |          | 0/? [00:00<?, ?it/s]\u001B[A\n",
      "Validation DataLoader 0:   0%|          | 0/1 [00:00<?, ?it/s]\u001B[A\n",
      "Validation DataLoader 0: 100%|██████████| 1/1 [00:00<00:00, 53.41it/s]\u001B[A\n",
      "Epoch 44: 100%|██████████| 1/1 [00:00<00:00, 37.71it/s, v_num=3, train/loss_step=0.264, val/loss=1.020, val/error_u=0.848, val/error_v=0.986, val/error_h=0.679, val/loss_best=1.020, train/loss_epoch=0.268]\n",
      "Validation: |          | 0/? [00:00<?, ?it/s]\u001B[A\n",
      "Validation: |          | 0/? [00:00<?, ?it/s]\u001B[A\n",
      "Validation DataLoader 0:   0%|          | 0/1 [00:00<?, ?it/s]\u001B[A\n",
      "Validation DataLoader 0: 100%|██████████| 1/1 [00:00<00:00, 73.46it/s]\u001B[A\n",
      "Epoch 45: 100%|██████████| 1/1 [00:00<00:00, 43.37it/s, v_num=3, train/loss_step=0.259, val/loss=1.010, val/error_u=0.844, val/error_v=0.987, val/error_h=0.675, val/loss_best=1.010, train/loss_epoch=0.264]\n",
      "Validation: |          | 0/? [00:00<?, ?it/s]\u001B[A\n",
      "Validation: |          | 0/? [00:00<?, ?it/s]\u001B[A\n",
      "Validation DataLoader 0:   0%|          | 0/1 [00:00<?, ?it/s]\u001B[A\n",
      "Validation DataLoader 0: 100%|██████████| 1/1 [00:00<00:00, 84.53it/s]\u001B[A\n",
      "Epoch 46: 100%|██████████| 1/1 [00:00<00:00, 39.46it/s, v_num=3, train/loss_step=0.254, val/loss=1.000, val/error_u=0.838, val/error_v=0.988, val/error_h=0.671, val/loss_best=1.000, train/loss_epoch=0.259]\n",
      "Validation: |          | 0/? [00:00<?, ?it/s]\u001B[A\n",
      "Validation: |          | 0/? [00:00<?, ?it/s]\u001B[A\n",
      "Validation DataLoader 0:   0%|          | 0/1 [00:00<?, ?it/s]\u001B[A\n",
      "Validation DataLoader 0: 100%|██████████| 1/1 [00:00<00:00, 94.07it/s]\u001B[A\n",
      "Epoch 47: 100%|██████████| 1/1 [00:00<00:00, 39.60it/s, v_num=3, train/loss_step=0.249, val/loss=0.997, val/error_u=0.832, val/error_v=0.989, val/error_h=0.668, val/loss_best=0.997, train/loss_epoch=0.254]\n",
      "Validation: |          | 0/? [00:00<?, ?it/s]\u001B[A\n",
      "Validation: |          | 0/? [00:00<?, ?it/s]\u001B[A\n",
      "Validation DataLoader 0:   0%|          | 0/1 [00:00<?, ?it/s]\u001B[A\n",
      "Validation DataLoader 0: 100%|██████████| 1/1 [00:00<00:00, 74.37it/s]\u001B[A\n",
      "Epoch 48: 100%|██████████| 1/1 [00:00<00:00, 41.35it/s, v_num=3, train/loss_step=0.245, val/loss=0.991, val/error_u=0.829, val/error_v=0.990, val/error_h=0.664, val/loss_best=0.991, train/loss_epoch=0.249]\n",
      "Validation: |          | 0/? [00:00<?, ?it/s]\u001B[A\n",
      "Validation: |          | 0/? [00:00<?, ?it/s]\u001B[A\n",
      "Validation DataLoader 0:   0%|          | 0/1 [00:00<?, ?it/s]\u001B[A\n",
      "Validation DataLoader 0: 100%|██████████| 1/1 [00:00<00:00, 99.73it/s]\u001B[A\n",
      "Epoch 49: 100%|██████████| 1/1 [00:00<00:00, 40.73it/s, v_num=3, train/loss_step=0.241, val/loss=0.987, val/error_u=0.828, val/error_v=0.992, val/error_h=0.660, val/loss_best=0.987, train/loss_epoch=0.245]\n",
      "Validation: |          | 0/? [00:00<?, ?it/s]\u001B[A\n",
      "Validation: |          | 0/? [00:00<?, ?it/s]\u001B[A\n",
      "Validation DataLoader 0:   0%|          | 0/1 [00:00<?, ?it/s]\u001B[A\n",
      "Validation DataLoader 0: 100%|██████████| 1/1 [00:00<00:00, 91.96it/s]\u001B[A\n",
      "Epoch 50: 100%|██████████| 1/1 [00:00<00:00, 33.99it/s, v_num=3, train/loss_step=0.237, val/loss=0.984, val/error_u=0.827, val/error_v=0.993, val/error_h=0.657, val/loss_best=0.984, train/loss_epoch=0.241]\n",
      "Validation: |          | 0/? [00:00<?, ?it/s]\u001B[A\n",
      "Validation: |          | 0/? [00:00<?, ?it/s]\u001B[A\n",
      "Validation DataLoader 0:   0%|          | 0/1 [00:00<?, ?it/s]\u001B[A\n",
      "Validation DataLoader 0: 100%|██████████| 1/1 [00:00<00:00, 109.14it/s]\u001B[A\n",
      "Epoch 51: 100%|██████████| 1/1 [00:00<00:00, 43.77it/s, v_num=3, train/loss_step=0.233, val/loss=0.980, val/error_u=0.826, val/error_v=0.994, val/error_h=0.654, val/loss_best=0.980, train/loss_epoch=0.237]\n",
      "Validation: |          | 0/? [00:00<?, ?it/s]\u001B[A\n",
      "Validation: |          | 0/? [00:00<?, ?it/s]\u001B[A\n",
      "Validation DataLoader 0:   0%|          | 0/1 [00:00<?, ?it/s]\u001B[A\n",
      "Validation DataLoader 0: 100%|██████████| 1/1 [00:00<00:00, 70.42it/s]\u001B[A\n",
      "Epoch 52: 100%|██████████| 1/1 [00:00<00:00, 42.74it/s, v_num=3, train/loss_step=0.229, val/loss=0.975, val/error_u=0.823, val/error_v=0.995, val/error_h=0.651, val/loss_best=0.975, train/loss_epoch=0.233]\n",
      "Validation: |          | 0/? [00:00<?, ?it/s]\u001B[A\n",
      "Validation: |          | 0/? [00:00<?, ?it/s]\u001B[A\n",
      "Validation DataLoader 0:   0%|          | 0/1 [00:00<?, ?it/s]\u001B[A\n",
      "Validation DataLoader 0: 100%|██████████| 1/1 [00:00<00:00, 79.59it/s]\u001B[A\n",
      "Epoch 53: 100%|██████████| 1/1 [00:00<00:00, 34.50it/s, v_num=3, train/loss_step=0.225, val/loss=0.970, val/error_u=0.819, val/error_v=0.996, val/error_h=0.648, val/loss_best=0.970, train/loss_epoch=0.229]\n",
      "Validation: |          | 0/? [00:00<?, ?it/s]\u001B[A\n",
      "Validation: |          | 0/? [00:00<?, ?it/s]\u001B[A\n",
      "Validation DataLoader 0:   0%|          | 0/1 [00:00<?, ?it/s]\u001B[A\n",
      "Validation DataLoader 0: 100%|██████████| 1/1 [00:00<00:00, 94.68it/s]\u001B[A\n",
      "Epoch 54: 100%|██████████| 1/1 [00:00<00:00, 41.87it/s, v_num=3, train/loss_step=0.222, val/loss=0.965, val/error_u=0.816, val/error_v=0.997, val/error_h=0.645, val/loss_best=0.965, train/loss_epoch=0.225]\n",
      "Validation: |          | 0/? [00:00<?, ?it/s]\u001B[A\n",
      "Validation: |          | 0/? [00:00<?, ?it/s]\u001B[A\n",
      "Validation DataLoader 0:   0%|          | 0/1 [00:00<?, ?it/s]\u001B[A\n",
      "Validation DataLoader 0: 100%|██████████| 1/1 [00:00<00:00, 89.57it/s]\u001B[A\n",
      "Epoch 55: 100%|██████████| 1/1 [00:00<00:00, 43.84it/s, v_num=3, train/loss_step=0.219, val/loss=0.962, val/error_u=0.814, val/error_v=0.998, val/error_h=0.643, val/loss_best=0.962, train/loss_epoch=0.222]\n",
      "Validation: |          | 0/? [00:00<?, ?it/s]\u001B[A\n",
      "Validation: |          | 0/? [00:00<?, ?it/s]\u001B[A\n",
      "Validation DataLoader 0:   0%|          | 0/1 [00:00<?, ?it/s]\u001B[A\n",
      "Validation DataLoader 0: 100%|██████████| 1/1 [00:00<00:00, 79.91it/s]\u001B[A\n",
      "Epoch 56: 100%|██████████| 1/1 [00:00<00:00, 37.87it/s, v_num=3, train/loss_step=0.216, val/loss=0.959, val/error_u=0.814, val/error_v=0.999, val/error_h=0.640, val/loss_best=0.959, train/loss_epoch=0.219]\n",
      "Validation: |          | 0/? [00:00<?, ?it/s]\u001B[A\n",
      "Validation: |          | 0/? [00:00<?, ?it/s]\u001B[A\n",
      "Validation DataLoader 0:   0%|          | 0/1 [00:00<?, ?it/s]\u001B[A\n",
      "Validation DataLoader 0: 100%|██████████| 1/1 [00:00<00:00, 93.14it/s]\u001B[A\n",
      "Epoch 57: 100%|██████████| 1/1 [00:00<00:00, 43.86it/s, v_num=3, train/loss_step=0.214, val/loss=0.955, val/error_u=0.812, val/error_v=1.000, val/error_h=0.637, val/loss_best=0.955, train/loss_epoch=0.216]\n",
      "Validation: |          | 0/? [00:00<?, ?it/s]\u001B[A\n",
      "Validation: |          | 0/? [00:00<?, ?it/s]\u001B[A\n",
      "Validation DataLoader 0:   0%|          | 0/1 [00:00<?, ?it/s]\u001B[A\n",
      "Validation DataLoader 0: 100%|██████████| 1/1 [00:00<00:00, 88.76it/s]\u001B[A\n",
      "Epoch 58: 100%|██████████| 1/1 [00:00<00:00, 41.23it/s, v_num=3, train/loss_step=0.211, val/loss=0.950, val/error_u=0.808, val/error_v=1.000, val/error_h=0.635, val/loss_best=0.950, train/loss_epoch=0.214]\n",
      "Validation: |          | 0/? [00:00<?, ?it/s]\u001B[A\n",
      "Validation: |          | 0/? [00:00<?, ?it/s]\u001B[A\n",
      "Validation DataLoader 0:   0%|          | 0/1 [00:00<?, ?it/s]\u001B[A\n",
      "Validation DataLoader 0: 100%|██████████| 1/1 [00:00<00:00, 78.20it/s]\u001B[A\n",
      "Epoch 59: 100%|██████████| 1/1 [00:00<00:00, 43.02it/s, v_num=3, train/loss_step=0.207, val/loss=0.945, val/error_u=0.804, val/error_v=1.000, val/error_h=0.633, val/loss_best=0.945, train/loss_epoch=0.211]\n",
      "Validation: |          | 0/? [00:00<?, ?it/s]\u001B[A\n",
      "Validation: |          | 0/? [00:00<?, ?it/s]\u001B[A\n",
      "Validation DataLoader 0:   0%|          | 0/1 [00:00<?, ?it/s]\u001B[A\n",
      "Validation DataLoader 0: 100%|██████████| 1/1 [00:00<00:00, 73.22it/s]\u001B[A\n",
      "Epoch 60: 100%|██████████| 1/1 [00:00<00:00, 39.75it/s, v_num=3, train/loss_step=0.204, val/loss=0.942, val/error_u=0.802, val/error_v=1.000, val/error_h=0.632, val/loss_best=0.942, train/loss_epoch=0.207]\n",
      "Validation: |          | 0/? [00:00<?, ?it/s]\u001B[A\n",
      "Validation: |          | 0/? [00:00<?, ?it/s]\u001B[A\n",
      "Validation DataLoader 0:   0%|          | 0/1 [00:00<?, ?it/s]\u001B[A\n",
      "Validation DataLoader 0: 100%|██████████| 1/1 [00:00<00:00, 47.12it/s]\u001B[A\n",
      "Epoch 61: 100%|██████████| 1/1 [00:00<00:00, 43.05it/s, v_num=3, train/loss_step=0.200, val/loss=0.940, val/error_u=0.802, val/error_v=1.000, val/error_h=0.629, val/loss_best=0.940, train/loss_epoch=0.204]\n",
      "Validation: |          | 0/? [00:00<?, ?it/s]\u001B[A\n",
      "Validation: |          | 0/? [00:00<?, ?it/s]\u001B[A\n",
      "Validation DataLoader 0:   0%|          | 0/1 [00:00<?, ?it/s]\u001B[A\n",
      "Validation DataLoader 0: 100%|██████████| 1/1 [00:00<00:00, 88.17it/s]\u001B[A\n",
      "Epoch 62: 100%|██████████| 1/1 [00:00<00:00, 43.71it/s, v_num=3, train/loss_step=0.197, val/loss=0.938, val/error_u=0.802, val/error_v=1.000, val/error_h=0.627, val/loss_best=0.938, train/loss_epoch=0.200]\n",
      "Validation: |          | 0/? [00:00<?, ?it/s]\u001B[A\n",
      "Validation: |          | 0/? [00:00<?, ?it/s]\u001B[A\n",
      "Validation DataLoader 0:   0%|          | 0/1 [00:00<?, ?it/s]\u001B[A\n",
      "Validation DataLoader 0: 100%|██████████| 1/1 [00:00<00:00, 90.06it/s]\u001B[A\n",
      "Epoch 63: 100%|██████████| 1/1 [00:00<00:00, 42.96it/s, v_num=3, train/loss_step=0.193, val/loss=0.935, val/error_u=0.800, val/error_v=1.000, val/error_h=0.626, val/loss_best=0.935, train/loss_epoch=0.197]\n",
      "Validation: |          | 0/? [00:00<?, ?it/s]\u001B[A\n",
      "Validation: |          | 0/? [00:00<?, ?it/s]\u001B[A\n",
      "Validation DataLoader 0:   0%|          | 0/1 [00:00<?, ?it/s]\u001B[A\n",
      "Validation DataLoader 0: 100%|██████████| 1/1 [00:00<00:00, 76.20it/s]\u001B[A\n",
      "Epoch 64: 100%|██████████| 1/1 [00:00<00:00, 43.36it/s, v_num=3, train/loss_step=0.189, val/loss=0.931, val/error_u=0.798, val/error_v=1.000, val/error_h=0.624, val/loss_best=0.931, train/loss_epoch=0.193]\n",
      "Validation: |          | 0/? [00:00<?, ?it/s]\u001B[A\n",
      "Validation: |          | 0/? [00:00<?, ?it/s]\u001B[A\n",
      "Validation DataLoader 0:   0%|          | 0/1 [00:00<?, ?it/s]\u001B[A\n",
      "Validation DataLoader 0: 100%|██████████| 1/1 [00:00<00:00, 78.96it/s]\u001B[A\n",
      "Epoch 65: 100%|██████████| 1/1 [00:00<00:00, 41.02it/s, v_num=3, train/loss_step=0.186, val/loss=0.928, val/error_u=0.796, val/error_v=1.000, val/error_h=0.622, val/loss_best=0.928, train/loss_epoch=0.189]\n",
      "Validation: |          | 0/? [00:00<?, ?it/s]\u001B[A\n",
      "Validation: |          | 0/? [00:00<?, ?it/s]\u001B[A\n",
      "Validation DataLoader 0:   0%|          | 0/1 [00:00<?, ?it/s]\u001B[A\n",
      "Validation DataLoader 0: 100%|██████████| 1/1 [00:00<00:00, 57.21it/s]\u001B[A\n",
      "Epoch 66: 100%|██████████| 1/1 [00:00<00:00, 43.00it/s, v_num=3, train/loss_step=0.184, val/loss=0.926, val/error_u=0.796, val/error_v=1.000, val/error_h=0.620, val/loss_best=0.926, train/loss_epoch=0.186]\n",
      "Validation: |          | 0/? [00:00<?, ?it/s]\u001B[A\n",
      "Validation: |          | 0/? [00:00<?, ?it/s]\u001B[A\n",
      "Validation DataLoader 0:   0%|          | 0/1 [00:00<?, ?it/s]\u001B[A\n",
      "Validation DataLoader 0: 100%|██████████| 1/1 [00:00<00:00, 75.92it/s]\u001B[A\n",
      "Epoch 67: 100%|██████████| 1/1 [00:00<00:00, 38.95it/s, v_num=3, train/loss_step=0.182, val/loss=0.924, val/error_u=0.796, val/error_v=0.999, val/error_h=0.619, val/loss_best=0.924, train/loss_epoch=0.184]\n",
      "Validation: |          | 0/? [00:00<?, ?it/s]\u001B[A\n",
      "Validation: |          | 0/? [00:00<?, ?it/s]\u001B[A\n",
      "Validation DataLoader 0:   0%|          | 0/1 [00:00<?, ?it/s]\u001B[A\n",
      "Validation DataLoader 0: 100%|██████████| 1/1 [00:00<00:00, 86.63it/s]\u001B[A\n",
      "Epoch 68: 100%|██████████| 1/1 [00:00<00:00, 40.98it/s, v_num=3, train/loss_step=0.180, val/loss=0.922, val/error_u=0.796, val/error_v=0.999, val/error_h=0.618, val/loss_best=0.922, train/loss_epoch=0.182]\n",
      "Validation: |          | 0/? [00:00<?, ?it/s]\u001B[A\n",
      "Validation: |          | 0/? [00:00<?, ?it/s]\u001B[A\n",
      "Validation DataLoader 0:   0%|          | 0/1 [00:00<?, ?it/s]\u001B[A\n",
      "Validation DataLoader 0: 100%|██████████| 1/1 [00:00<00:00, 94.08it/s]\u001B[A\n",
      "Epoch 69: 100%|██████████| 1/1 [00:00<00:00, 38.69it/s, v_num=3, train/loss_step=0.178, val/loss=0.921, val/error_u=0.795, val/error_v=0.999, val/error_h=0.617, val/loss_best=0.921, train/loss_epoch=0.180]\n",
      "Validation: |          | 0/? [00:00<?, ?it/s]\u001B[A\n",
      "Validation: |          | 0/? [00:00<?, ?it/s]\u001B[A\n",
      "Validation DataLoader 0:   0%|          | 0/1 [00:00<?, ?it/s]\u001B[A\n",
      "Validation DataLoader 0: 100%|██████████| 1/1 [00:00<00:00, 65.75it/s]\u001B[A\n",
      "Epoch 70: 100%|██████████| 1/1 [00:00<00:00, 42.52it/s, v_num=3, train/loss_step=0.176, val/loss=0.919, val/error_u=0.794, val/error_v=0.999, val/error_h=0.616, val/loss_best=0.919, train/loss_epoch=0.178]\n",
      "Validation: |          | 0/? [00:00<?, ?it/s]\u001B[A\n",
      "Validation: |          | 0/? [00:00<?, ?it/s]\u001B[A\n",
      "Validation DataLoader 0:   0%|          | 0/1 [00:00<?, ?it/s]\u001B[A\n",
      "Validation DataLoader 0: 100%|██████████| 1/1 [00:00<00:00, 70.65it/s]\u001B[A\n",
      "Epoch 71: 100%|██████████| 1/1 [00:00<00:00, 32.47it/s, v_num=3, train/loss_step=0.174, val/loss=0.917, val/error_u=0.794, val/error_v=0.998, val/error_h=0.614, val/loss_best=0.917, train/loss_epoch=0.176]\n",
      "Validation: |          | 0/? [00:00<?, ?it/s]\u001B[A\n",
      "Validation: |          | 0/? [00:00<?, ?it/s]\u001B[A\n",
      "Validation DataLoader 0:   0%|          | 0/1 [00:00<?, ?it/s]\u001B[A\n",
      "Validation DataLoader 0: 100%|██████████| 1/1 [00:00<00:00, 93.16it/s]\u001B[A\n",
      "Epoch 72: 100%|██████████| 1/1 [00:00<00:00, 43.63it/s, v_num=3, train/loss_step=0.172, val/loss=0.915, val/error_u=0.794, val/error_v=0.997, val/error_h=0.613, val/loss_best=0.915, train/loss_epoch=0.174]\n",
      "Validation: |          | 0/? [00:00<?, ?it/s]\u001B[A\n",
      "Validation: |          | 0/? [00:00<?, ?it/s]\u001B[A\n",
      "Validation DataLoader 0:   0%|          | 0/1 [00:00<?, ?it/s]\u001B[A\n",
      "Validation DataLoader 0: 100%|██████████| 1/1 [00:00<00:00, 98.45it/s]\u001B[A\n",
      "Epoch 73: 100%|██████████| 1/1 [00:00<00:00, 39.53it/s, v_num=3, train/loss_step=0.169, val/loss=0.913, val/error_u=0.793, val/error_v=0.997, val/error_h=0.611, val/loss_best=0.913, train/loss_epoch=0.172]\n",
      "Validation: |          | 0/? [00:00<?, ?it/s]\u001B[A\n",
      "Validation: |          | 0/? [00:00<?, ?it/s]\u001B[A\n",
      "Validation DataLoader 0:   0%|          | 0/1 [00:00<?, ?it/s]\u001B[A\n",
      "Validation DataLoader 0: 100%|██████████| 1/1 [00:00<00:00, 75.73it/s]\u001B[A\n",
      "Epoch 74: 100%|██████████| 1/1 [00:00<00:00, 43.35it/s, v_num=3, train/loss_step=0.167, val/loss=0.910, val/error_u=0.792, val/error_v=0.997, val/error_h=0.610, val/loss_best=0.910, train/loss_epoch=0.169]\n",
      "Validation: |          | 0/? [00:00<?, ?it/s]\u001B[A\n",
      "Validation: |          | 0/? [00:00<?, ?it/s]\u001B[A\n",
      "Validation DataLoader 0:   0%|          | 0/1 [00:00<?, ?it/s]\u001B[A\n",
      "Validation DataLoader 0: 100%|██████████| 1/1 [00:00<00:00, 76.67it/s]\u001B[A\n",
      "Epoch 75: 100%|██████████| 1/1 [00:00<00:00, 40.35it/s, v_num=3, train/loss_step=0.165, val/loss=0.908, val/error_u=0.792, val/error_v=0.997, val/error_h=0.608, val/loss_best=0.908, train/loss_epoch=0.167]\n",
      "Validation: |          | 0/? [00:00<?, ?it/s]\u001B[A\n",
      "Validation: |          | 0/? [00:00<?, ?it/s]\u001B[A\n",
      "Validation DataLoader 0:   0%|          | 0/1 [00:00<?, ?it/s]\u001B[A\n",
      "Validation DataLoader 0: 100%|██████████| 1/1 [00:00<00:00, 89.74it/s]\u001B[A\n",
      "Epoch 76: 100%|██████████| 1/1 [00:00<00:00, 45.34it/s, v_num=3, train/loss_step=0.163, val/loss=0.906, val/error_u=0.792, val/error_v=0.997, val/error_h=0.605, val/loss_best=0.906, train/loss_epoch=0.165]\n",
      "Validation: |          | 0/? [00:00<?, ?it/s]\u001B[A\n",
      "Validation: |          | 0/? [00:00<?, ?it/s]\u001B[A\n",
      "Validation DataLoader 0:   0%|          | 0/1 [00:00<?, ?it/s]\u001B[A\n",
      "Validation DataLoader 0: 100%|██████████| 1/1 [00:00<00:00, 90.67it/s]\u001B[A\n",
      "Epoch 77: 100%|██████████| 1/1 [00:00<00:00, 40.40it/s, v_num=3, train/loss_step=0.161, val/loss=0.905, val/error_u=0.792, val/error_v=0.997, val/error_h=0.603, val/loss_best=0.905, train/loss_epoch=0.163]\n",
      "Validation: |          | 0/? [00:00<?, ?it/s]\u001B[A\n",
      "Validation: |          | 0/? [00:00<?, ?it/s]\u001B[A\n",
      "Validation DataLoader 0:   0%|          | 0/1 [00:00<?, ?it/s]\u001B[A\n",
      "Validation DataLoader 0: 100%|██████████| 1/1 [00:00<00:00, 76.72it/s]\u001B[A\n",
      "Epoch 78: 100%|██████████| 1/1 [00:00<00:00, 22.43it/s, v_num=3, train/loss_step=0.159, val/loss=0.903, val/error_u=0.791, val/error_v=0.998, val/error_h=0.603, val/loss_best=0.903, train/loss_epoch=0.161]\n",
      "Validation: |          | 0/? [00:00<?, ?it/s]\u001B[A\n",
      "Validation: |          | 0/? [00:00<?, ?it/s]\u001B[A\n",
      "Validation DataLoader 0:   0%|          | 0/1 [00:00<?, ?it/s]\u001B[A\n",
      "Validation DataLoader 0: 100%|██████████| 1/1 [00:00<00:00, 80.31it/s]\u001B[A\n",
      "Epoch 79: 100%|██████████| 1/1 [00:00<00:00, 39.81it/s, v_num=3, train/loss_step=0.158, val/loss=0.902, val/error_u=0.790, val/error_v=0.999, val/error_h=0.601, val/loss_best=0.902, train/loss_epoch=0.159]\n",
      "Validation: |          | 0/? [00:00<?, ?it/s]\u001B[A\n",
      "Validation: |          | 0/? [00:00<?, ?it/s]\u001B[A\n",
      "Validation DataLoader 0:   0%|          | 0/1 [00:00<?, ?it/s]\u001B[A\n",
      "Validation DataLoader 0: 100%|██████████| 1/1 [00:00<00:00, 103.29it/s]\u001B[A\n",
      "Epoch 80: 100%|██████████| 1/1 [00:00<00:00, 43.01it/s, v_num=3, train/loss_step=0.156, val/loss=0.900, val/error_u=0.791, val/error_v=0.999, val/error_h=0.599, val/loss_best=0.900, train/loss_epoch=0.158]\n",
      "Validation: |          | 0/? [00:00<?, ?it/s]\u001B[A\n",
      "Validation: |          | 0/? [00:00<?, ?it/s]\u001B[A\n",
      "Validation DataLoader 0:   0%|          | 0/1 [00:00<?, ?it/s]\u001B[A\n",
      "Validation DataLoader 0: 100%|██████████| 1/1 [00:00<00:00, 99.01it/s]\u001B[A\n",
      "Epoch 81: 100%|██████████| 1/1 [00:00<00:00, 39.68it/s, v_num=3, train/loss_step=0.155, val/loss=0.899, val/error_u=0.791, val/error_v=1.000, val/error_h=0.597, val/loss_best=0.899, train/loss_epoch=0.156]\n",
      "Validation: |          | 0/? [00:00<?, ?it/s]\u001B[A\n",
      "Validation: |          | 0/? [00:00<?, ?it/s]\u001B[A\n",
      "Validation DataLoader 0:   0%|          | 0/1 [00:00<?, ?it/s]\u001B[A\n",
      "Validation DataLoader 0: 100%|██████████| 1/1 [00:00<00:00, 90.44it/s]\u001B[A\n",
      "Epoch 82: 100%|██████████| 1/1 [00:00<00:00, 41.51it/s, v_num=3, train/loss_step=0.153, val/loss=0.899, val/error_u=0.791, val/error_v=1.000, val/error_h=0.596, val/loss_best=0.899, train/loss_epoch=0.155]\n",
      "Validation: |          | 0/? [00:00<?, ?it/s]\u001B[A\n",
      "Validation: |          | 0/? [00:00<?, ?it/s]\u001B[A\n",
      "Validation DataLoader 0:   0%|          | 0/1 [00:00<?, ?it/s]\u001B[A\n",
      "Validation DataLoader 0: 100%|██████████| 1/1 [00:00<00:00, 78.41it/s]\u001B[A\n",
      "Epoch 83: 100%|██████████| 1/1 [00:00<00:00, 39.15it/s, v_num=3, train/loss_step=0.153, val/loss=0.898, val/error_u=0.790, val/error_v=1.000, val/error_h=0.594, val/loss_best=0.898, train/loss_epoch=0.153]\n",
      "Validation: |          | 0/? [00:00<?, ?it/s]\u001B[A\n",
      "Validation: |          | 0/? [00:00<?, ?it/s]\u001B[A\n",
      "Validation DataLoader 0:   0%|          | 0/1 [00:00<?, ?it/s]\u001B[A\n",
      "Validation DataLoader 0: 100%|██████████| 1/1 [00:00<00:00, 92.89it/s]\u001B[A\n",
      "Epoch 84: 100%|██████████| 1/1 [00:00<00:00, 40.83it/s, v_num=3, train/loss_step=0.152, val/loss=0.898, val/error_u=0.791, val/error_v=1.010, val/error_h=0.592, val/loss_best=0.898, train/loss_epoch=0.153]\n",
      "Validation: |          | 0/? [00:00<?, ?it/s]\u001B[A\n",
      "Validation: |          | 0/? [00:00<?, ?it/s]\u001B[A\n",
      "Validation DataLoader 0:   0%|          | 0/1 [00:00<?, ?it/s]\u001B[A\n",
      "Validation DataLoader 0: 100%|██████████| 1/1 [00:00<00:00, 76.79it/s]\u001B[A\n",
      "Epoch 85: 100%|██████████| 1/1 [00:00<00:00, 38.69it/s, v_num=3, train/loss_step=0.151, val/loss=0.896, val/error_u=0.791, val/error_v=1.010, val/error_h=0.590, val/loss_best=0.896, train/loss_epoch=0.152]\n",
      "Validation: |          | 0/? [00:00<?, ?it/s]\u001B[A\n",
      "Validation: |          | 0/? [00:00<?, ?it/s]\u001B[A\n",
      "Validation DataLoader 0:   0%|          | 0/1 [00:00<?, ?it/s]\u001B[A\n",
      "Validation DataLoader 0: 100%|██████████| 1/1 [00:00<00:00, 81.70it/s]\u001B[A\n",
      "Epoch 86: 100%|██████████| 1/1 [00:00<00:00, 35.38it/s, v_num=3, train/loss_step=0.151, val/loss=0.895, val/error_u=0.791, val/error_v=1.010, val/error_h=0.589, val/loss_best=0.895, train/loss_epoch=0.151]\n",
      "Validation: |          | 0/? [00:00<?, ?it/s]\u001B[A\n",
      "Validation: |          | 0/? [00:00<?, ?it/s]\u001B[A\n",
      "Validation DataLoader 0:   0%|          | 0/1 [00:00<?, ?it/s]\u001B[A\n",
      "Validation DataLoader 0: 100%|██████████| 1/1 [00:00<00:00, 82.12it/s]\u001B[A\n",
      "Epoch 87: 100%|██████████| 1/1 [00:00<00:00, 41.86it/s, v_num=3, train/loss_step=0.150, val/loss=0.895, val/error_u=0.791, val/error_v=1.010, val/error_h=0.588, val/loss_best=0.895, train/loss_epoch=0.151]\n",
      "Validation: |          | 0/? [00:00<?, ?it/s]\u001B[A\n",
      "Validation: |          | 0/? [00:00<?, ?it/s]\u001B[A\n",
      "Validation DataLoader 0:   0%|          | 0/1 [00:00<?, ?it/s]\u001B[A\n",
      "Validation DataLoader 0: 100%|██████████| 1/1 [00:00<00:00, 77.06it/s]\u001B[A\n",
      "Epoch 88: 100%|██████████| 1/1 [00:00<00:00, 40.51it/s, v_num=3, train/loss_step=0.150, val/loss=0.896, val/error_u=0.791, val/error_v=1.010, val/error_h=0.587, val/loss_best=0.895, train/loss_epoch=0.150]\n",
      "Validation: |          | 0/? [00:00<?, ?it/s]\u001B[A\n",
      "Validation: |          | 0/? [00:00<?, ?it/s]\u001B[A\n",
      "Validation DataLoader 0:   0%|          | 0/1 [00:00<?, ?it/s]\u001B[A\n",
      "Validation DataLoader 0: 100%|██████████| 1/1 [00:00<00:00, 41.82it/s]\u001B[A\n",
      "Epoch 89: 100%|██████████| 1/1 [00:00<00:00, 39.47it/s, v_num=3, train/loss_step=0.149, val/loss=0.896, val/error_u=0.792, val/error_v=1.010, val/error_h=0.585, val/loss_best=0.895, train/loss_epoch=0.150]\n",
      "Validation: |          | 0/? [00:00<?, ?it/s]\u001B[A\n",
      "Validation: |          | 0/? [00:00<?, ?it/s]\u001B[A\n",
      "Validation DataLoader 0:   0%|          | 0/1 [00:00<?, ?it/s]\u001B[A\n",
      "Validation DataLoader 0: 100%|██████████| 1/1 [00:00<00:00, 76.27it/s]\u001B[A\n",
      "Epoch 90: 100%|██████████| 1/1 [00:00<00:00, 43.30it/s, v_num=3, train/loss_step=0.148, val/loss=0.895, val/error_u=0.792, val/error_v=1.010, val/error_h=0.584, val/loss_best=0.895, train/loss_epoch=0.149]\n",
      "Validation: |          | 0/? [00:00<?, ?it/s]\u001B[A\n",
      "Validation: |          | 0/? [00:00<?, ?it/s]\u001B[A\n",
      "Validation DataLoader 0:   0%|          | 0/1 [00:00<?, ?it/s]\u001B[A\n",
      "Validation DataLoader 0: 100%|██████████| 1/1 [00:00<00:00, 78.88it/s]\u001B[A\n",
      "Epoch 91: 100%|██████████| 1/1 [00:00<00:00, 41.95it/s, v_num=3, train/loss_step=0.147, val/loss=0.894, val/error_u=0.792, val/error_v=1.010, val/error_h=0.583, val/loss_best=0.894, train/loss_epoch=0.148]\n",
      "Validation: |          | 0/? [00:00<?, ?it/s]\u001B[A\n",
      "Validation: |          | 0/? [00:00<?, ?it/s]\u001B[A\n",
      "Validation DataLoader 0:   0%|          | 0/1 [00:00<?, ?it/s]\u001B[A\n",
      "Validation DataLoader 0: 100%|██████████| 1/1 [00:00<00:00, 80.82it/s]\u001B[A\n",
      "Epoch 92: 100%|██████████| 1/1 [00:00<00:00, 36.94it/s, v_num=3, train/loss_step=0.147, val/loss=0.893, val/error_u=0.792, val/error_v=1.010, val/error_h=0.583, val/loss_best=0.893, train/loss_epoch=0.147]\n",
      "Validation: |          | 0/? [00:00<?, ?it/s]\u001B[A\n",
      "Validation: |          | 0/? [00:00<?, ?it/s]\u001B[A\n",
      "Validation DataLoader 0:   0%|          | 0/1 [00:00<?, ?it/s]\u001B[A\n",
      "Validation DataLoader 0: 100%|██████████| 1/1 [00:00<00:00, 73.30it/s]\u001B[A\n",
      "Epoch 93: 100%|██████████| 1/1 [00:00<00:00, 35.57it/s, v_num=3, train/loss_step=0.147, val/loss=0.894, val/error_u=0.792, val/error_v=1.010, val/error_h=0.582, val/loss_best=0.893, train/loss_epoch=0.147]\n",
      "Validation: |          | 0/? [00:00<?, ?it/s]\u001B[A\n",
      "Validation: |          | 0/? [00:00<?, ?it/s]\u001B[A\n",
      "Validation DataLoader 0:   0%|          | 0/1 [00:00<?, ?it/s]\u001B[A\n",
      "Validation DataLoader 0: 100%|██████████| 1/1 [00:00<00:00, 78.63it/s]\u001B[A\n",
      "Epoch 94: 100%|██████████| 1/1 [00:00<00:00, 40.89it/s, v_num=3, train/loss_step=0.147, val/loss=0.894, val/error_u=0.792, val/error_v=1.010, val/error_h=0.582, val/loss_best=0.893, train/loss_epoch=0.147]\n",
      "Validation: |          | 0/? [00:00<?, ?it/s]\u001B[A\n",
      "Validation: |          | 0/? [00:00<?, ?it/s]\u001B[A\n",
      "Validation DataLoader 0:   0%|          | 0/1 [00:00<?, ?it/s]\u001B[A\n",
      "Validation DataLoader 0: 100%|██████████| 1/1 [00:00<00:00, 79.43it/s]\u001B[A\n",
      "Epoch 95: 100%|██████████| 1/1 [00:00<00:00, 42.33it/s, v_num=3, train/loss_step=0.147, val/loss=0.892, val/error_u=0.792, val/error_v=1.010, val/error_h=0.581, val/loss_best=0.892, train/loss_epoch=0.147]\n",
      "Validation: |          | 0/? [00:00<?, ?it/s]\u001B[A\n",
      "Validation: |          | 0/? [00:00<?, ?it/s]\u001B[A\n",
      "Validation DataLoader 0:   0%|          | 0/1 [00:00<?, ?it/s]\u001B[A\n",
      "Validation DataLoader 0: 100%|██████████| 1/1 [00:00<00:00, 99.11it/s]\u001B[A\n",
      "Epoch 96: 100%|██████████| 1/1 [00:00<00:00, 42.24it/s, v_num=3, train/loss_step=0.147, val/loss=0.891, val/error_u=0.793, val/error_v=1.010, val/error_h=0.580, val/loss_best=0.891, train/loss_epoch=0.147]\n",
      "Validation: |          | 0/? [00:00<?, ?it/s]\u001B[A\n",
      "Validation: |          | 0/? [00:00<?, ?it/s]\u001B[A\n",
      "Validation DataLoader 0:   0%|          | 0/1 [00:00<?, ?it/s]\u001B[A\n",
      "Validation DataLoader 0: 100%|██████████| 1/1 [00:00<00:00, 75.55it/s]\u001B[A\n",
      "Epoch 97: 100%|██████████| 1/1 [00:00<00:00, 38.86it/s, v_num=3, train/loss_step=0.147, val/loss=0.890, val/error_u=0.792, val/error_v=1.010, val/error_h=0.579, val/loss_best=0.890, train/loss_epoch=0.147]\n",
      "Validation: |          | 0/? [00:00<?, ?it/s]\u001B[A\n",
      "Validation: |          | 0/? [00:00<?, ?it/s]\u001B[A\n",
      "Validation DataLoader 0:   0%|          | 0/1 [00:00<?, ?it/s]\u001B[A\n",
      "Validation DataLoader 0: 100%|██████████| 1/1 [00:00<00:00, 89.76it/s]\u001B[A\n",
      "Epoch 98: 100%|██████████| 1/1 [00:00<00:00, 34.06it/s, v_num=3, train/loss_step=0.147, val/loss=0.889, val/error_u=0.792, val/error_v=1.010, val/error_h=0.578, val/loss_best=0.889, train/loss_epoch=0.147]\n",
      "Validation: |          | 0/? [00:00<?, ?it/s]\u001B[A\n",
      "Validation: |          | 0/? [00:00<?, ?it/s]\u001B[A\n",
      "Validation DataLoader 0:   0%|          | 0/1 [00:00<?, ?it/s]\u001B[A\n",
      "Validation DataLoader 0: 100%|██████████| 1/1 [00:00<00:00, 76.61it/s]\u001B[A\n",
      "Epoch 99: 100%|██████████| 1/1 [00:00<00:00, 39.76it/s, v_num=3, train/loss_step=0.146, val/loss=0.888, val/error_u=0.792, val/error_v=1.010, val/error_h=0.577, val/loss_best=0.888, train/loss_epoch=0.147]\n",
      "Validation: |          | 0/? [00:00<?, ?it/s]\u001B[A\n",
      "Validation: |          | 0/? [00:00<?, ?it/s]\u001B[A\n",
      "Validation DataLoader 0:   0%|          | 0/1 [00:00<?, ?it/s]\u001B[A\n",
      "Validation DataLoader 0: 100%|██████████| 1/1 [00:00<00:00, 79.38it/s]\u001B[A\n",
      "Epoch 99: 100%|██████████| 1/1 [00:00<00:00, 18.40it/s, v_num=3, train/loss_step=0.146, val/loss=0.887, val/error_u=0.792, val/error_v=1.010, val/error_h=0.576, val/loss_best=0.887, train/loss_epoch=0.146]"
     ]
    },
    {
     "name": "stderr",
     "output_type": "stream",
     "text": [
      "`Trainer.fit` stopped: `max_epochs=100` reached.\n"
     ]
    },
    {
     "name": "stdout",
     "output_type": "stream",
     "text": [
      "Epoch 99: 100%|██████████| 1/1 [00:00<00:00, 15.87it/s, v_num=3, train/loss_step=0.146, val/loss=0.887, val/error_u=0.792, val/error_v=1.010, val/error_h=0.576, val/loss_best=0.887, train/loss_epoch=0.146]\n",
      "Training time: 0.0h 0.0m 7.516167402267456s\n"
     ]
    }
   ],
   "execution_count": 24
  },
  {
   "metadata": {
    "ExecuteTime": {
     "end_time": "2025-09-17T23:17:33.569813Z",
     "start_time": "2025-09-17T23:17:33.513379Z"
    }
   },
   "cell_type": "code",
   "source": "trainer.validate(model=model, datamodule=datamodule)",
   "id": "5ba06e068a406032",
   "outputs": [
    {
     "name": "stderr",
     "output_type": "stream",
     "text": [
      "LOCAL_RANK: 0 - CUDA_VISIBLE_DEVICES: [0]\n"
     ]
    },
    {
     "name": "stdout",
     "output_type": "stream",
     "text": [
      "Validation DataLoader 0: 100%|██████████| 1/1 [00:00<00:00, 44.65it/s]\n"
     ]
    },
    {
     "data": {
      "text/plain": [
       "┏━━━━━━━━━━━━━━━━━━━━━━━━━━━┳━━━━━━━━━━━━━━━━━━━━━━━━━━━┓\n",
       "┃\u001B[1m \u001B[0m\u001B[1m     Validate metric     \u001B[0m\u001B[1m \u001B[0m┃\u001B[1m \u001B[0m\u001B[1m      DataLoader 0       \u001B[0m\u001B[1m \u001B[0m┃\n",
       "┡━━━━━━━━━━━━━━━━━━━━━━━━━━━╇━━━━━━━━━━━━━━━━━━━━━━━━━━━┩\n",
       "│\u001B[36m \u001B[0m\u001B[36m       val/error_h       \u001B[0m\u001B[36m \u001B[0m│\u001B[35m \u001B[0m\u001B[35m    0.575747549533844    \u001B[0m\u001B[35m \u001B[0m│\n",
       "│\u001B[36m \u001B[0m\u001B[36m       val/error_u       \u001B[0m\u001B[36m \u001B[0m│\u001B[35m \u001B[0m\u001B[35m   0.7924625277519226    \u001B[0m\u001B[35m \u001B[0m│\n",
       "│\u001B[36m \u001B[0m\u001B[36m       val/error_v       \u001B[0m\u001B[36m \u001B[0m│\u001B[35m \u001B[0m\u001B[35m   1.0109961032867432    \u001B[0m\u001B[35m \u001B[0m│\n",
       "│\u001B[36m \u001B[0m\u001B[36m        val/loss         \u001B[0m\u001B[36m \u001B[0m│\u001B[35m \u001B[0m\u001B[35m    0.886829137802124    \u001B[0m\u001B[35m \u001B[0m│\n",
       "│\u001B[36m \u001B[0m\u001B[36m      val/loss_best      \u001B[0m\u001B[36m \u001B[0m│\u001B[35m \u001B[0m\u001B[35m    0.886829137802124    \u001B[0m\u001B[35m \u001B[0m│\n",
       "└───────────────────────────┴───────────────────────────┘\n"
      ],
      "text/html": [
       "<pre style=\"white-space:pre;overflow-x:auto;line-height:normal;font-family:Menlo,'DejaVu Sans Mono',consolas,'Courier New',monospace\">┏━━━━━━━━━━━━━━━━━━━━━━━━━━━┳━━━━━━━━━━━━━━━━━━━━━━━━━━━┓\n",
       "┃<span style=\"font-weight: bold\">      Validate metric      </span>┃<span style=\"font-weight: bold\">       DataLoader 0        </span>┃\n",
       "┡━━━━━━━━━━━━━━━━━━━━━━━━━━━╇━━━━━━━━━━━━━━━━━━━━━━━━━━━┩\n",
       "│<span style=\"color: #008080; text-decoration-color: #008080\">        val/error_h        </span>│<span style=\"color: #800080; text-decoration-color: #800080\">     0.575747549533844     </span>│\n",
       "│<span style=\"color: #008080; text-decoration-color: #008080\">        val/error_u        </span>│<span style=\"color: #800080; text-decoration-color: #800080\">    0.7924625277519226     </span>│\n",
       "│<span style=\"color: #008080; text-decoration-color: #008080\">        val/error_v        </span>│<span style=\"color: #800080; text-decoration-color: #800080\">    1.0109961032867432     </span>│\n",
       "│<span style=\"color: #008080; text-decoration-color: #008080\">         val/loss          </span>│<span style=\"color: #800080; text-decoration-color: #800080\">     0.886829137802124     </span>│\n",
       "│<span style=\"color: #008080; text-decoration-color: #008080\">       val/loss_best       </span>│<span style=\"color: #800080; text-decoration-color: #800080\">     0.886829137802124     </span>│\n",
       "└───────────────────────────┴───────────────────────────┘\n",
       "</pre>\n"
      ]
     },
     "metadata": {},
     "output_type": "display_data"
    },
    {
     "data": {
      "text/plain": [
       "[{'val/loss': 0.886829137802124,\n",
       "  'val/error_u': 0.7924625277519226,\n",
       "  'val/error_v': 1.0109961032867432,\n",
       "  'val/error_h': 0.575747549533844,\n",
       "  'val/loss_best': 0.886829137802124}]"
      ]
     },
     "execution_count": 25,
     "metadata": {},
     "output_type": "execute_result"
    }
   ],
   "execution_count": 25
  },
  {
   "metadata": {
    "ExecuteTime": {
     "end_time": "2025-09-17T23:17:33.600437Z",
     "start_time": "2025-09-17T23:17:33.574609Z"
    }
   },
   "cell_type": "code",
   "source": [
    "preds_list = trainer.predict(model=model, datamodule=datamodule)\n",
    "preds_dict = pinnstorch.utils.fix_predictions(preds_list)"
   ],
   "id": "286ca5682c1787c9",
   "outputs": [
    {
     "name": "stderr",
     "output_type": "stream",
     "text": [
      "LOCAL_RANK: 0 - CUDA_VISIBLE_DEVICES: [0]\n"
     ]
    },
    {
     "name": "stdout",
     "output_type": "stream",
     "text": [
      "Predicting DataLoader 0: 100%|██████████| 1/1 [00:00<00:00, 102.55it/s]\n"
     ]
    }
   ],
   "execution_count": 26
  },
  {
   "metadata": {
    "ExecuteTime": {
     "end_time": "2025-09-17T23:17:34.240880Z",
     "start_time": "2025-09-17T23:17:33.604038Z"
    }
   },
   "cell_type": "code",
   "source": [
    "pinnstorch.utils.plot_schrodinger(mesh=mesh,\n",
    "                                  preds=preds_dict,\n",
    "                                  train_datasets=train_datasets,\n",
    "                                  val_dataset=val_dataset,\n",
    "                                  file_name='2_relu')"
   ],
   "id": "f761c3e456889233",
   "outputs": [
    {
     "data": {
      "text/plain": [
       "<Figure size 539.643x300.166 with 6 Axes>"
      ],
      "image/png": "[encoded data removed]"
     },
     "metadata": {},
     "output_type": "display_data"
    }
   ],
   "execution_count": 27
  },
  {
   "metadata": {},
   "cell_type": "markdown",
   "source": [
    "##### SIREN\n",
    "\n",
    "`SIREN` architectures utilize `sinusoidal` activation functions. These activations require tuning of the frequency parameter `omega` as well as a custom initialisation for stability.\n",
    "\n",
    "Try different values of `omega` and see how it affects the training.\n",
    "\n",
    "![](https://miro.medium.com/v2/resize:fit:1100/format:webp/1*xGr5o0m1OPsDtmtGas4rUg.png)"
   ],
   "id": "2f02aee2adefcd6"
  },
  {
   "metadata": {
    "ExecuteTime": {
     "end_time": "2025-09-17T23:17:34.256223Z",
     "start_time": "2025-09-17T23:17:34.246659Z"
    }
   },
   "cell_type": "code",
   "source": [
    "net_sine = pinnstorch.models.FCN(layers=layers,\n",
    "                            output_names=['u', 'v'],\n",
    "                            lb=mesh.lb,\n",
    "                            ub=mesh.ub,\n",
    "                            activation=\"SINE\",  # use registry\n",
    "                            activation_kwargs={'omega':5},  # extra params\n",
    "                            initializer=\"SIREN\",  # use registry\n",
    "                            initializer_kwargs={'omega':5},  # extra params\n",
    "                            layer_type='BASE',\n",
    "                            layer_kwargs={}\n",
    "                            )"
   ],
   "id": "f5a4c8717d925e64",
   "outputs": [],
   "execution_count": 28
  },
  {
   "metadata": {
    "ExecuteTime": {
     "end_time": "2025-09-17T23:17:34.271497Z",
     "start_time": "2025-09-17T23:17:34.260577Z"
    }
   },
   "cell_type": "code",
   "source": [
    "model = pinnstorch.models.PINNModule(net = net_sine,\n",
    "                                     pde_fn = pde_fn,\n",
    "                                     output_fn = output_fn,\n",
    "                                     loss_fn = 'mse')"
   ],
   "id": "1124ea8320937e0f",
   "outputs": [],
   "execution_count": 29
  },
  {
   "metadata": {
    "ExecuteTime": {
     "end_time": "2025-09-17T23:17:45.910575Z",
     "start_time": "2025-09-17T23:17:34.277422Z"
    }
   },
   "cell_type": "code",
   "source": [
    "trainer = pl.Trainer(accelerator='gpu', devices=1, max_epochs = num_epochs)\n",
    "start_time = time.time()\n",
    "\n",
    "trainer.fit(model=model, datamodule=datamodule)\n",
    "end_time = time.time()\n",
    "\n"
   ],
   "id": "7124ded4d0635b91",
   "outputs": [
    {
     "name": "stderr",
     "output_type": "stream",
     "text": [
      "💡 Tip: For seamless cloud uploads and versioning, try installing [litmodels](https://pypi.org/project/litmodels/) to enable LitModelCheckpoint, which syncs automatically with the Lightning model registry.\n",
      "GPU available: True (cuda), used: True\n",
      "TPU available: False, using: 0 TPU cores\n",
      "HPU available: False, using: 0 HPUs\n",
      "LOCAL_RANK: 0 - CUDA_VISIBLE_DEVICES: [0]\n",
      "\n",
      "  | Name          | Type       | Params | Mode \n",
      "-----------------------------------------------------\n",
      "0 | net           | FCN        | 30.8 K | train\n",
      "1 | train_loss    | MeanMetric | 0      | train\n",
      "2 | val_loss      | MeanMetric | 0      | train\n",
      "3 | val_error     | MeanMetric | 0      | train\n",
      "4 | test_loss     | MeanMetric | 0      | train\n",
      "5 | test_error    | MeanMetric | 0      | train\n",
      "6 | val_loss_best | MinMetric  | 0      | train\n",
      "-----------------------------------------------------\n",
      "30.8 K    Trainable params\n",
      "0         Non-trainable params\n",
      "30.8 K    Total params\n",
      "0.123     Total estimated model params size (MB)\n",
      "23        Modules in train mode\n",
      "0         Modules in eval mode\n"
     ]
    },
    {
     "name": "stdout",
     "output_type": "stream",
     "text": [
      "                                                                           "
     ]
    },
    {
     "name": "stderr",
     "output_type": "stream",
     "text": [
      "C:\\Users\\micke\\anaconda3\\envs\\myenv\\lib\\site-packages\\lightning\\pytorch\\loops\\fit_loop.py:310: The number of training batches (1) is smaller than the logging interval Trainer(log_every_n_steps=50). Set a lower value for log_every_n_steps if you want to see logs for the training epoch.\n"
     ]
    },
    {
     "name": "stdout",
     "output_type": "stream",
     "text": [
      "Epoch 0:   0%|          | 0/1 [00:00<?, ?it/s]"
     ]
    },
    {
     "name": "stderr",
     "output_type": "stream",
     "text": [
      "C:\\Users\\micke\\anaconda3\\envs\\myenv\\lib\\site-packages\\torch\\jit\\_trace.py:165: UserWarning: The .grad attribute of a Tensor that is not a leaf Tensor is being accessed. Its .grad attribute won't be populated during autograd.backward(). If you indeed want the .grad field to be populated for a non-leaf Tensor, use .retain_grad() on the non-leaf Tensor. If you access the non-leaf Tensor by mistake, make sure you access the leaf Tensor instead. See github.com/pytorch/pytorch/pull/30531 for more informations. (Triggered internally at C:\\actions-runner\\_work\\pytorch\\pytorch\\pytorch\\build\\aten\\src\\ATen/core/TensorBody.h:494.)\n",
      "  if a.grad is not None:\n"
     ]
    },
    {
     "name": "stdout",
     "output_type": "stream",
     "text": [
      "Epoch 0: 100%|██████████| 1/1 [00:01<00:00,  0.90it/s, v_num=4, train/loss_step=1.500]\n",
      "Validation: |          | 0/? [00:00<?, ?it/s]\u001B[A\n",
      "Validation: |          | 0/? [00:00<?, ?it/s]\u001B[A\n",
      "Validation DataLoader 0:   0%|          | 0/1 [00:00<?, ?it/s]\u001B[A\n",
      "Validation DataLoader 0: 100%|██████████| 1/1 [00:00<00:00, 84.81it/s]\u001B[A\n",
      "Epoch 1: 100%|██████████| 1/1 [00:00<00:00,  4.36it/s, v_num=4, train/loss_step=1.120, val/loss=1.390, val/error_u=1.050, val/error_v=0.997, val/error_h=0.821, val/loss_best=1.390, train/loss_epoch=1.500]\n",
      "Validation: |          | 0/? [00:00<?, ?it/s]\u001B[A\n",
      "Validation: |          | 0/? [00:00<?, ?it/s]\u001B[A\n",
      "Validation DataLoader 0:   0%|          | 0/1 [00:00<?, ?it/s]\u001B[A\n",
      "Validation DataLoader 0: 100%|██████████| 1/1 [00:00<00:00, 78.41it/s]\u001B[A\n",
      "Epoch 2: 100%|██████████| 1/1 [00:03<00:00,  0.32it/s, v_num=4, train/loss_step=0.546, val/loss=1.250, val/error_u=0.920, val/error_v=0.985, val/error_h=0.815, val/loss_best=1.250, train/loss_epoch=1.120]\n",
      "Validation: |          | 0/? [00:00<?, ?it/s]\u001B[A\n",
      "Validation: |          | 0/? [00:00<?, ?it/s]\u001B[A\n",
      "Validation DataLoader 0:   0%|          | 0/1 [00:00<?, ?it/s]\u001B[A\n",
      "Validation DataLoader 0: 100%|██████████| 1/1 [00:00<00:00, 52.16it/s]\u001B[A\n",
      "Epoch 3: 100%|██████████| 1/1 [00:00<00:00,  6.38it/s, v_num=4, train/loss_step=0.518, val/loss=1.100, val/error_u=0.841, val/error_v=0.967, val/error_h=0.758, val/loss_best=1.100, train/loss_epoch=0.546]\n",
      "Validation: |          | 0/? [00:00<?, ?it/s]\u001B[A\n",
      "Validation: |          | 0/? [00:00<?, ?it/s]\u001B[A\n",
      "Validation DataLoader 0:   0%|          | 0/1 [00:00<?, ?it/s]\u001B[A\n",
      "Validation DataLoader 0: 100%|██████████| 1/1 [00:00<00:00, 47.81it/s]\u001B[A\n",
      "Epoch 4: 100%|██████████| 1/1 [00:00<00:00, 40.43it/s, v_num=4, train/loss_step=0.404, val/loss=0.988, val/error_u=0.787, val/error_v=0.955, val/error_h=0.710, val/loss_best=0.988, train/loss_epoch=0.518]\n",
      "Validation: |          | 0/? [00:00<?, ?it/s]\u001B[A\n",
      "Validation: |          | 0/? [00:00<?, ?it/s]\u001B[A\n",
      "Validation DataLoader 0:   0%|          | 0/1 [00:00<?, ?it/s]\u001B[A\n",
      "Validation DataLoader 0: 100%|██████████| 1/1 [00:00<00:00, 94.79it/s]\u001B[A\n",
      "Epoch 5: 100%|██████████| 1/1 [00:00<00:00, 40.21it/s, v_num=4, train/loss_step=0.287, val/loss=0.931, val/error_u=0.762, val/error_v=0.956, val/error_h=0.676, val/loss_best=0.931, train/loss_epoch=0.404]\n",
      "Validation: |          | 0/? [00:00<?, ?it/s]\u001B[A\n",
      "Validation: |          | 0/? [00:00<?, ?it/s]\u001B[A\n",
      "Validation DataLoader 0:   0%|          | 0/1 [00:00<?, ?it/s]\u001B[A\n",
      "Validation DataLoader 0: 100%|██████████| 1/1 [00:00<00:00, 104.51it/s]\u001B[A\n",
      "Epoch 6: 100%|██████████| 1/1 [00:00<00:00, 38.71it/s, v_num=4, train/loss_step=0.291, val/loss=0.925, val/error_u=0.778, val/error_v=0.967, val/error_h=0.654, val/loss_best=0.925, train/loss_epoch=0.287]\n",
      "Validation: |          | 0/? [00:00<?, ?it/s]\u001B[A\n",
      "Validation: |          | 0/? [00:00<?, ?it/s]\u001B[A\n",
      "Validation DataLoader 0:   0%|          | 0/1 [00:00<?, ?it/s]\u001B[A\n",
      "Validation DataLoader 0: 100%|██████████| 1/1 [00:00<00:00, 71.08it/s]\u001B[A\n",
      "Epoch 7: 100%|██████████| 1/1 [00:00<00:00, 39.93it/s, v_num=4, train/loss_step=0.268, val/loss=0.935, val/error_u=0.806, val/error_v=0.979, val/error_h=0.634, val/loss_best=0.925, train/loss_epoch=0.291]\n",
      "Validation: |          | 0/? [00:00<?, ?it/s]\u001B[A\n",
      "Validation: |          | 0/? [00:00<?, ?it/s]\u001B[A\n",
      "Validation DataLoader 0:   0%|          | 0/1 [00:00<?, ?it/s]\u001B[A\n",
      "Validation DataLoader 0: 100%|██████████| 1/1 [00:00<00:00, 97.92it/s]\u001B[A\n",
      "Epoch 8: 100%|██████████| 1/1 [00:00<00:00, 36.86it/s, v_num=4, train/loss_step=0.232, val/loss=0.937, val/error_u=0.824, val/error_v=0.990, val/error_h=0.616, val/loss_best=0.925, train/loss_epoch=0.268]\n",
      "Validation: |          | 0/? [00:00<?, ?it/s]\u001B[A\n",
      "Validation: |          | 0/? [00:00<?, ?it/s]\u001B[A\n",
      "Validation DataLoader 0:   0%|          | 0/1 [00:00<?, ?it/s]\u001B[A\n",
      "Validation DataLoader 0: 100%|██████████| 1/1 [00:00<00:00, 87.25it/s]\u001B[A\n",
      "Epoch 9: 100%|██████████| 1/1 [00:00<00:00, 38.28it/s, v_num=4, train/loss_step=0.222, val/loss=0.931, val/error_u=0.825, val/error_v=0.998, val/error_h=0.604, val/loss_best=0.925, train/loss_epoch=0.232]\n",
      "Validation: |          | 0/? [00:00<?, ?it/s]\u001B[A\n",
      "Validation: |          | 0/? [00:00<?, ?it/s]\u001B[A\n",
      "Validation DataLoader 0:   0%|          | 0/1 [00:00<?, ?it/s]\u001B[A\n",
      "Validation DataLoader 0: 100%|██████████| 1/1 [00:00<00:00, 86.13it/s]\u001B[A\n",
      "Epoch 10: 100%|██████████| 1/1 [00:00<00:00, 36.91it/s, v_num=4, train/loss_step=0.208, val/loss=0.914, val/error_u=0.813, val/error_v=0.999, val/error_h=0.595, val/loss_best=0.914, train/loss_epoch=0.222]\n",
      "Validation: |          | 0/? [00:00<?, ?it/s]\u001B[A\n",
      "Validation: |          | 0/? [00:00<?, ?it/s]\u001B[A\n",
      "Validation DataLoader 0:   0%|          | 0/1 [00:00<?, ?it/s]\u001B[A\n",
      "Validation DataLoader 0: 100%|██████████| 1/1 [00:00<00:00, 78.99it/s]\u001B[A\n",
      "Epoch 11: 100%|██████████| 1/1 [00:00<00:00, 38.21it/s, v_num=4, train/loss_step=0.184, val/loss=0.887, val/error_u=0.796, val/error_v=0.992, val/error_h=0.585, val/loss_best=0.887, train/loss_epoch=0.208]\n",
      "Validation: |          | 0/? [00:00<?, ?it/s]\u001B[A\n",
      "Validation: |          | 0/? [00:00<?, ?it/s]\u001B[A\n",
      "Validation DataLoader 0:   0%|          | 0/1 [00:00<?, ?it/s]\u001B[A\n",
      "Validation DataLoader 0: 100%|██████████| 1/1 [00:00<00:00, 89.09it/s]\u001B[A\n",
      "Epoch 12: 100%|██████████| 1/1 [00:00<00:00, 36.85it/s, v_num=4, train/loss_step=0.166, val/loss=0.861, val/error_u=0.782, val/error_v=0.983, val/error_h=0.575, val/loss_best=0.861, train/loss_epoch=0.184]\n",
      "Validation: |          | 0/? [00:00<?, ?it/s]\u001B[A\n",
      "Validation: |          | 0/? [00:00<?, ?it/s]\u001B[A\n",
      "Validation DataLoader 0:   0%|          | 0/1 [00:00<?, ?it/s]\u001B[A\n",
      "Validation DataLoader 0: 100%|██████████| 1/1 [00:00<00:00, 90.40it/s]\u001B[A\n",
      "Epoch 13: 100%|██████████| 1/1 [00:00<00:00, 38.96it/s, v_num=4, train/loss_step=0.155, val/loss=0.845, val/error_u=0.773, val/error_v=0.982, val/error_h=0.565, val/loss_best=0.845, train/loss_epoch=0.166]\n",
      "Validation: |          | 0/? [00:00<?, ?it/s]\u001B[A\n",
      "Validation: |          | 0/? [00:00<?, ?it/s]\u001B[A\n",
      "Validation DataLoader 0:   0%|          | 0/1 [00:00<?, ?it/s]\u001B[A\n",
      "Validation DataLoader 0: 100%|██████████| 1/1 [00:00<00:00, 41.79it/s]\u001B[A\n",
      "Epoch 14: 100%|██████████| 1/1 [00:00<00:00, 42.65it/s, v_num=4, train/loss_step=0.150, val/loss=0.838, val/error_u=0.768, val/error_v=0.992, val/error_h=0.555, val/loss_best=0.838, train/loss_epoch=0.155]\n",
      "Validation: |          | 0/? [00:00<?, ?it/s]\u001B[A\n",
      "Validation: |          | 0/? [00:00<?, ?it/s]\u001B[A\n",
      "Validation DataLoader 0:   0%|          | 0/1 [00:00<?, ?it/s]\u001B[A\n",
      "Validation DataLoader 0: 100%|██████████| 1/1 [00:00<00:00, 95.41it/s]\u001B[A\n",
      "Epoch 15: 100%|██████████| 1/1 [00:00<00:00, 41.54it/s, v_num=4, train/loss_step=0.144, val/loss=0.837, val/error_u=0.766, val/error_v=1.010, val/error_h=0.546, val/loss_best=0.837, train/loss_epoch=0.150]\n",
      "Validation: |          | 0/? [00:00<?, ?it/s]\u001B[A\n",
      "Validation: |          | 0/? [00:00<?, ?it/s]\u001B[A\n",
      "Validation DataLoader 0:   0%|          | 0/1 [00:00<?, ?it/s]\u001B[A\n",
      "Validation DataLoader 0: 100%|██████████| 1/1 [00:00<00:00, 93.82it/s]\u001B[A\n",
      "Epoch 16: 100%|██████████| 1/1 [00:00<00:00, 37.81it/s, v_num=4, train/loss_step=0.131, val/loss=0.836, val/error_u=0.769, val/error_v=1.020, val/error_h=0.537, val/loss_best=0.836, train/loss_epoch=0.144]\n",
      "Validation: |          | 0/? [00:00<?, ?it/s]\u001B[A\n",
      "Validation: |          | 0/? [00:00<?, ?it/s]\u001B[A\n",
      "Validation DataLoader 0:   0%|          | 0/1 [00:00<?, ?it/s]\u001B[A\n",
      "Validation DataLoader 0: 100%|██████████| 1/1 [00:00<00:00, 89.36it/s]\u001B[A\n",
      "Epoch 17: 100%|██████████| 1/1 [00:00<00:00, 37.54it/s, v_num=4, train/loss_step=0.119, val/loss=0.834, val/error_u=0.776, val/error_v=1.010, val/error_h=0.529, val/loss_best=0.834, train/loss_epoch=0.131]\n",
      "Validation: |          | 0/? [00:00<?, ?it/s]\u001B[A\n",
      "Validation: |          | 0/? [00:00<?, ?it/s]\u001B[A\n",
      "Validation DataLoader 0:   0%|          | 0/1 [00:00<?, ?it/s]\u001B[A\n",
      "Validation DataLoader 0: 100%|██████████| 1/1 [00:00<00:00, 79.84it/s]\u001B[A\n",
      "Epoch 18: 100%|██████████| 1/1 [00:00<00:00, 37.52it/s, v_num=4, train/loss_step=0.116, val/loss=0.831, val/error_u=0.782, val/error_v=1.010, val/error_h=0.522, val/loss_best=0.831, train/loss_epoch=0.119]\n",
      "Validation: |          | 0/? [00:00<?, ?it/s]\u001B[A\n",
      "Validation: |          | 0/? [00:00<?, ?it/s]\u001B[A\n",
      "Validation DataLoader 0:   0%|          | 0/1 [00:00<?, ?it/s]\u001B[A\n",
      "Validation DataLoader 0: 100%|██████████| 1/1 [00:00<00:00, 51.31it/s]\u001B[A\n",
      "Epoch 19: 100%|██████████| 1/1 [00:00<00:00, 37.23it/s, v_num=4, train/loss_step=0.114, val/loss=0.826, val/error_u=0.784, val/error_v=1.010, val/error_h=0.516, val/loss_best=0.826, train/loss_epoch=0.116]\n",
      "Validation: |          | 0/? [00:00<?, ?it/s]\u001B[A\n",
      "Validation: |          | 0/? [00:00<?, ?it/s]\u001B[A\n",
      "Validation DataLoader 0:   0%|          | 0/1 [00:00<?, ?it/s]\u001B[A\n",
      "Validation DataLoader 0: 100%|██████████| 1/1 [00:00<00:00, 78.75it/s]\u001B[A\n",
      "Epoch 20: 100%|██████████| 1/1 [00:00<00:00, 39.38it/s, v_num=4, train/loss_step=0.109, val/loss=0.822, val/error_u=0.784, val/error_v=1.010, val/error_h=0.510, val/loss_best=0.822, train/loss_epoch=0.114]\n",
      "Validation: |          | 0/? [00:00<?, ?it/s]\u001B[A\n",
      "Validation: |          | 0/? [00:00<?, ?it/s]\u001B[A\n",
      "Validation DataLoader 0:   0%|          | 0/1 [00:00<?, ?it/s]\u001B[A\n",
      "Validation DataLoader 0: 100%|██████████| 1/1 [00:00<00:00, 94.89it/s]\u001B[A\n",
      "Epoch 21: 100%|██████████| 1/1 [00:00<00:00, 37.86it/s, v_num=4, train/loss_step=0.101, val/loss=0.820, val/error_u=0.783, val/error_v=1.020, val/error_h=0.502, val/loss_best=0.820, train/loss_epoch=0.109]\n",
      "Validation: |          | 0/? [00:00<?, ?it/s]\u001B[A\n",
      "Validation: |          | 0/? [00:00<?, ?it/s]\u001B[A\n",
      "Validation DataLoader 0:   0%|          | 0/1 [00:00<?, ?it/s]\u001B[A\n",
      "Validation DataLoader 0: 100%|██████████| 1/1 [00:00<00:00, 94.37it/s]\u001B[A\n",
      "Epoch 22: 100%|██████████| 1/1 [00:00<00:00, 36.87it/s, v_num=4, train/loss_step=0.0941, val/loss=0.821, val/error_u=0.785, val/error_v=1.030, val/error_h=0.494, val/loss_best=0.820, train/loss_epoch=0.101]\n",
      "Validation: |          | 0/? [00:00<?, ?it/s]\u001B[A\n",
      "Validation: |          | 0/? [00:00<?, ?it/s]\u001B[A\n",
      "Validation DataLoader 0:   0%|          | 0/1 [00:00<?, ?it/s]\u001B[A\n",
      "Validation DataLoader 0: 100%|██████████| 1/1 [00:00<00:00, 81.48it/s]\u001B[A\n",
      "Epoch 23: 100%|██████████| 1/1 [00:00<00:00, 42.67it/s, v_num=4, train/loss_step=0.0933, val/loss=0.824, val/error_u=0.790, val/error_v=1.030, val/error_h=0.489, val/loss_best=0.820, train/loss_epoch=0.0941]\n",
      "Validation: |          | 0/? [00:00<?, ?it/s]\u001B[A\n",
      "Validation: |          | 0/? [00:00<?, ?it/s]\u001B[A\n",
      "Validation DataLoader 0:   0%|          | 0/1 [00:00<?, ?it/s]\u001B[A\n",
      "Validation DataLoader 0: 100%|██████████| 1/1 [00:00<00:00, 86.38it/s]\u001B[A\n",
      "Epoch 24: 100%|██████████| 1/1 [00:00<00:00, 39.03it/s, v_num=4, train/loss_step=0.0943, val/loss=0.828, val/error_u=0.794, val/error_v=1.040, val/error_h=0.486, val/loss_best=0.820, train/loss_epoch=0.0933]\n",
      "Validation: |          | 0/? [00:00<?, ?it/s]\u001B[A\n",
      "Validation: |          | 0/? [00:00<?, ?it/s]\u001B[A\n",
      "Validation DataLoader 0:   0%|          | 0/1 [00:00<?, ?it/s]\u001B[A\n",
      "Validation DataLoader 0: 100%|██████████| 1/1 [00:00<00:00, 77.56it/s]\u001B[A\n",
      "Epoch 25: 100%|██████████| 1/1 [00:00<00:00, 41.25it/s, v_num=4, train/loss_step=0.0919, val/loss=0.830, val/error_u=0.797, val/error_v=1.040, val/error_h=0.485, val/loss_best=0.820, train/loss_epoch=0.0943]\n",
      "Validation: |          | 0/? [00:00<?, ?it/s]\u001B[A\n",
      "Validation: |          | 0/? [00:00<?, ?it/s]\u001B[A\n",
      "Validation DataLoader 0:   0%|          | 0/1 [00:00<?, ?it/s]\u001B[A\n",
      "Validation DataLoader 0: 100%|██████████| 1/1 [00:00<00:00, 85.40it/s]\u001B[A\n",
      "Epoch 26: 100%|██████████| 1/1 [00:00<00:00, 41.51it/s, v_num=4, train/loss_step=0.087, val/loss=0.830, val/error_u=0.798, val/error_v=1.040, val/error_h=0.483, val/loss_best=0.820, train/loss_epoch=0.0919] \n",
      "Validation: |          | 0/? [00:00<?, ?it/s]\u001B[A\n",
      "Validation: |          | 0/? [00:00<?, ?it/s]\u001B[A\n",
      "Validation DataLoader 0:   0%|          | 0/1 [00:00<?, ?it/s]\u001B[A\n",
      "Validation DataLoader 0: 100%|██████████| 1/1 [00:00<00:00, 90.07it/s]\u001B[A\n",
      "Epoch 27: 100%|██████████| 1/1 [00:00<00:00, 38.08it/s, v_num=4, train/loss_step=0.0823, val/loss=0.829, val/error_u=0.798, val/error_v=1.040, val/error_h=0.479, val/loss_best=0.820, train/loss_epoch=0.087]\n",
      "Validation: |          | 0/? [00:00<?, ?it/s]\u001B[A\n",
      "Validation: |          | 0/? [00:00<?, ?it/s]\u001B[A\n",
      "Validation DataLoader 0:   0%|          | 0/1 [00:00<?, ?it/s]\u001B[A\n",
      "Validation DataLoader 0: 100%|██████████| 1/1 [00:00<00:00, 86.41it/s]\u001B[A\n",
      "Epoch 28: 100%|██████████| 1/1 [00:00<00:00, 41.20it/s, v_num=4, train/loss_step=0.0812, val/loss=0.827, val/error_u=0.800, val/error_v=1.050, val/error_h=0.472, val/loss_best=0.820, train/loss_epoch=0.0823]\n",
      "Validation: |          | 0/? [00:00<?, ?it/s]\u001B[A\n",
      "Validation: |          | 0/? [00:00<?, ?it/s]\u001B[A\n",
      "Validation DataLoader 0:   0%|          | 0/1 [00:00<?, ?it/s]\u001B[A\n",
      "Validation DataLoader 0: 100%|██████████| 1/1 [00:00<00:00, 102.02it/s]\u001B[A\n",
      "Epoch 29: 100%|██████████| 1/1 [00:00<00:00, 41.07it/s, v_num=4, train/loss_step=0.0815, val/loss=0.827, val/error_u=0.801, val/error_v=1.050, val/error_h=0.466, val/loss_best=0.820, train/loss_epoch=0.0812]\n",
      "Validation: |          | 0/? [00:00<?, ?it/s]\u001B[A\n",
      "Validation: |          | 0/? [00:00<?, ?it/s]\u001B[A\n",
      "Validation DataLoader 0:   0%|          | 0/1 [00:00<?, ?it/s]\u001B[A\n",
      "Validation DataLoader 0: 100%|██████████| 1/1 [00:00<00:00, 88.43it/s]\u001B[A\n",
      "Epoch 30: 100%|██████████| 1/1 [00:00<00:00, 39.27it/s, v_num=4, train/loss_step=0.0789, val/loss=0.829, val/error_u=0.801, val/error_v=1.060, val/error_h=0.463, val/loss_best=0.820, train/loss_epoch=0.0815]\n",
      "Validation: |          | 0/? [00:00<?, ?it/s]\u001B[A\n",
      "Validation: |          | 0/? [00:00<?, ?it/s]\u001B[A\n",
      "Validation DataLoader 0:   0%|          | 0/1 [00:00<?, ?it/s]\u001B[A\n",
      "Validation DataLoader 0: 100%|██████████| 1/1 [00:00<00:00, 82.24it/s]\u001B[A\n",
      "Epoch 31: 100%|██████████| 1/1 [00:00<00:00, 40.74it/s, v_num=4, train/loss_step=0.0753, val/loss=0.833, val/error_u=0.801, val/error_v=1.060, val/error_h=0.462, val/loss_best=0.820, train/loss_epoch=0.0789]\n",
      "Validation: |          | 0/? [00:00<?, ?it/s]\u001B[A\n",
      "Validation: |          | 0/? [00:00<?, ?it/s]\u001B[A\n",
      "Validation DataLoader 0:   0%|          | 0/1 [00:00<?, ?it/s]\u001B[A\n",
      "Validation DataLoader 0: 100%|██████████| 1/1 [00:00<00:00, 62.83it/s]\u001B[A\n",
      "Epoch 32: 100%|██████████| 1/1 [00:00<00:00, 30.92it/s, v_num=4, train/loss_step=0.0733, val/loss=0.838, val/error_u=0.803, val/error_v=1.070, val/error_h=0.464, val/loss_best=0.820, train/loss_epoch=0.0753]\n",
      "Validation: |          | 0/? [00:00<?, ?it/s]\u001B[A\n",
      "Validation: |          | 0/? [00:00<?, ?it/s]\u001B[A\n",
      "Validation DataLoader 0:   0%|          | 0/1 [00:00<?, ?it/s]\u001B[A\n",
      "Validation DataLoader 0: 100%|██████████| 1/1 [00:00<00:00, 66.80it/s]\u001B[A\n",
      "Epoch 33: 100%|██████████| 1/1 [00:00<00:00, 36.71it/s, v_num=4, train/loss_step=0.0723, val/loss=0.843, val/error_u=0.806, val/error_v=1.070, val/error_h=0.465, val/loss_best=0.820, train/loss_epoch=0.0733]\n",
      "Validation: |          | 0/? [00:00<?, ?it/s]\u001B[A\n",
      "Validation: |          | 0/? [00:00<?, ?it/s]\u001B[A\n",
      "Validation DataLoader 0:   0%|          | 0/1 [00:00<?, ?it/s]\u001B[A\n",
      "Validation DataLoader 0: 100%|██████████| 1/1 [00:00<00:00, 79.60it/s]\u001B[A\n",
      "Epoch 34: 100%|██████████| 1/1 [00:00<00:00, 32.74it/s, v_num=4, train/loss_step=0.0717, val/loss=0.848, val/error_u=0.808, val/error_v=1.080, val/error_h=0.465, val/loss_best=0.820, train/loss_epoch=0.0723]\n",
      "Validation: |          | 0/? [00:00<?, ?it/s]\u001B[A\n",
      "Validation: |          | 0/? [00:00<?, ?it/s]\u001B[A\n",
      "Validation DataLoader 0:   0%|          | 0/1 [00:00<?, ?it/s]\u001B[A\n",
      "Validation DataLoader 0: 100%|██████████| 1/1 [00:00<00:00, 78.65it/s]\u001B[A\n",
      "Epoch 35: 100%|██████████| 1/1 [00:00<00:00, 39.35it/s, v_num=4, train/loss_step=0.0704, val/loss=0.852, val/error_u=0.808, val/error_v=1.080, val/error_h=0.463, val/loss_best=0.820, train/loss_epoch=0.0717]\n",
      "Validation: |          | 0/? [00:00<?, ?it/s]\u001B[A\n",
      "Validation: |          | 0/? [00:00<?, ?it/s]\u001B[A\n",
      "Validation DataLoader 0:   0%|          | 0/1 [00:00<?, ?it/s]\u001B[A\n",
      "Validation DataLoader 0: 100%|██████████| 1/1 [00:00<00:00, 58.15it/s]\u001B[A\n",
      "Epoch 36: 100%|██████████| 1/1 [00:00<00:00, 38.72it/s, v_num=4, train/loss_step=0.0681, val/loss=0.856, val/error_u=0.811, val/error_v=1.090, val/error_h=0.461, val/loss_best=0.820, train/loss_epoch=0.0704]\n",
      "Validation: |          | 0/? [00:00<?, ?it/s]\u001B[A\n",
      "Validation: |          | 0/? [00:00<?, ?it/s]\u001B[A\n",
      "Validation DataLoader 0:   0%|          | 0/1 [00:00<?, ?it/s]\u001B[A\n",
      "Validation DataLoader 0: 100%|██████████| 1/1 [00:00<00:00, 82.88it/s]\u001B[A\n",
      "Epoch 37: 100%|██████████| 1/1 [00:00<00:00, 40.60it/s, v_num=4, train/loss_step=0.0663, val/loss=0.860, val/error_u=0.815, val/error_v=1.090, val/error_h=0.459, val/loss_best=0.820, train/loss_epoch=0.0681]\n",
      "Validation: |          | 0/? [00:00<?, ?it/s]\u001B[A\n",
      "Validation: |          | 0/? [00:00<?, ?it/s]\u001B[A\n",
      "Validation DataLoader 0:   0%|          | 0/1 [00:00<?, ?it/s]\u001B[A\n",
      "Validation DataLoader 0: 100%|██████████| 1/1 [00:00<00:00, 79.75it/s]\u001B[A\n",
      "Epoch 38: 100%|██████████| 1/1 [00:00<00:00, 37.53it/s, v_num=4, train/loss_step=0.0654, val/loss=0.865, val/error_u=0.820, val/error_v=1.100, val/error_h=0.456, val/loss_best=0.820, train/loss_epoch=0.0663]\n",
      "Validation: |          | 0/? [00:00<?, ?it/s]\u001B[A\n",
      "Validation: |          | 0/? [00:00<?, ?it/s]\u001B[A\n",
      "Validation DataLoader 0:   0%|          | 0/1 [00:00<?, ?it/s]\u001B[A\n",
      "Validation DataLoader 0: 100%|██████████| 1/1 [00:00<00:00, 75.32it/s]\u001B[A\n",
      "Epoch 39: 100%|██████████| 1/1 [00:00<00:00, 38.34it/s, v_num=4, train/loss_step=0.0646, val/loss=0.870, val/error_u=0.823, val/error_v=1.100, val/error_h=0.453, val/loss_best=0.820, train/loss_epoch=0.0654]\n",
      "Validation: |          | 0/? [00:00<?, ?it/s]\u001B[A\n",
      "Validation: |          | 0/? [00:00<?, ?it/s]\u001B[A\n",
      "Validation DataLoader 0:   0%|          | 0/1 [00:00<?, ?it/s]\u001B[A\n",
      "Validation DataLoader 0: 100%|██████████| 1/1 [00:00<00:00, 57.33it/s]\u001B[A\n",
      "Epoch 40: 100%|██████████| 1/1 [00:00<00:00, 37.14it/s, v_num=4, train/loss_step=0.0635, val/loss=0.874, val/error_u=0.823, val/error_v=1.110, val/error_h=0.450, val/loss_best=0.820, train/loss_epoch=0.0646]\n",
      "Validation: |          | 0/? [00:00<?, ?it/s]\u001B[A\n",
      "Validation: |          | 0/? [00:00<?, ?it/s]\u001B[A\n",
      "Validation DataLoader 0:   0%|          | 0/1 [00:00<?, ?it/s]\u001B[A\n",
      "Validation DataLoader 0: 100%|██████████| 1/1 [00:00<00:00, 68.42it/s]\u001B[A\n",
      "Epoch 41: 100%|██████████| 1/1 [00:00<00:00, 40.19it/s, v_num=4, train/loss_step=0.0622, val/loss=0.877, val/error_u=0.824, val/error_v=1.120, val/error_h=0.450, val/loss_best=0.820, train/loss_epoch=0.0635]\n",
      "Validation: |          | 0/? [00:00<?, ?it/s]\u001B[A\n",
      "Validation: |          | 0/? [00:00<?, ?it/s]\u001B[A\n",
      "Validation DataLoader 0:   0%|          | 0/1 [00:00<?, ?it/s]\u001B[A\n",
      "Validation DataLoader 0: 100%|██████████| 1/1 [00:00<00:00, 87.66it/s]\u001B[A\n",
      "Epoch 42: 100%|██████████| 1/1 [00:00<00:00, 36.10it/s, v_num=4, train/loss_step=0.061, val/loss=0.880, val/error_u=0.827, val/error_v=1.120, val/error_h=0.450, val/loss_best=0.820, train/loss_epoch=0.0622] \n",
      "Validation: |          | 0/? [00:00<?, ?it/s]\u001B[A\n",
      "Validation: |          | 0/? [00:00<?, ?it/s]\u001B[A\n",
      "Validation DataLoader 0:   0%|          | 0/1 [00:00<?, ?it/s]\u001B[A\n",
      "Validation DataLoader 0: 100%|██████████| 1/1 [00:00<00:00, 80.76it/s]\u001B[A\n",
      "Epoch 43: 100%|██████████| 1/1 [00:00<00:00, 33.28it/s, v_num=4, train/loss_step=0.0607, val/loss=0.884, val/error_u=0.831, val/error_v=1.120, val/error_h=0.451, val/loss_best=0.820, train/loss_epoch=0.061]\n",
      "Validation: |          | 0/? [00:00<?, ?it/s]\u001B[A\n",
      "Validation: |          | 0/? [00:00<?, ?it/s]\u001B[A\n",
      "Validation DataLoader 0:   0%|          | 0/1 [00:00<?, ?it/s]\u001B[A\n",
      "Validation DataLoader 0: 100%|██████████| 1/1 [00:00<00:00, 85.27it/s]\u001B[A\n",
      "Epoch 44: 100%|██████████| 1/1 [00:00<00:00, 34.44it/s, v_num=4, train/loss_step=0.0602, val/loss=0.888, val/error_u=0.834, val/error_v=1.120, val/error_h=0.451, val/loss_best=0.820, train/loss_epoch=0.0607]\n",
      "Validation: |          | 0/? [00:00<?, ?it/s]\u001B[A\n",
      "Validation: |          | 0/? [00:00<?, ?it/s]\u001B[A\n",
      "Validation DataLoader 0:   0%|          | 0/1 [00:00<?, ?it/s]\u001B[A\n",
      "Validation DataLoader 0: 100%|██████████| 1/1 [00:00<00:00, 98.20it/s]\u001B[A\n",
      "Epoch 45: 100%|██████████| 1/1 [00:00<00:00, 35.31it/s, v_num=4, train/loss_step=0.0593, val/loss=0.892, val/error_u=0.835, val/error_v=1.130, val/error_h=0.449, val/loss_best=0.820, train/loss_epoch=0.0602]\n",
      "Validation: |          | 0/? [00:00<?, ?it/s]\u001B[A\n",
      "Validation: |          | 0/? [00:00<?, ?it/s]\u001B[A\n",
      "Validation DataLoader 0:   0%|          | 0/1 [00:00<?, ?it/s]\u001B[A\n",
      "Validation DataLoader 0: 100%|██████████| 1/1 [00:00<00:00, 64.22it/s]\u001B[A\n",
      "Epoch 46: 100%|██████████| 1/1 [00:00<00:00, 34.51it/s, v_num=4, train/loss_step=0.0586, val/loss=0.896, val/error_u=0.837, val/error_v=1.130, val/error_h=0.447, val/loss_best=0.820, train/loss_epoch=0.0593]\n",
      "Validation: |          | 0/? [00:00<?, ?it/s]\u001B[A\n",
      "Validation: |          | 0/? [00:00<?, ?it/s]\u001B[A\n",
      "Validation DataLoader 0:   0%|          | 0/1 [00:00<?, ?it/s]\u001B[A\n",
      "Validation DataLoader 0: 100%|██████████| 1/1 [00:00<00:00, 86.04it/s]\u001B[A\n",
      "Epoch 47: 100%|██████████| 1/1 [00:00<00:00, 34.85it/s, v_num=4, train/loss_step=0.0579, val/loss=0.899, val/error_u=0.841, val/error_v=1.130, val/error_h=0.445, val/loss_best=0.820, train/loss_epoch=0.0586]\n",
      "Validation: |          | 0/? [00:00<?, ?it/s]\u001B[A\n",
      "Validation: |          | 0/? [00:00<?, ?it/s]\u001B[A\n",
      "Validation DataLoader 0:   0%|          | 0/1 [00:00<?, ?it/s]\u001B[A\n",
      "Validation DataLoader 0: 100%|██████████| 1/1 [00:00<00:00, 93.20it/s]\u001B[A\n",
      "Epoch 48: 100%|██████████| 1/1 [00:00<00:00, 37.14it/s, v_num=4, train/loss_step=0.0573, val/loss=0.902, val/error_u=0.844, val/error_v=1.140, val/error_h=0.443, val/loss_best=0.820, train/loss_epoch=0.0579]\n",
      "Validation: |          | 0/? [00:00<?, ?it/s]\u001B[A\n",
      "Validation: |          | 0/? [00:00<?, ?it/s]\u001B[A\n",
      "Validation DataLoader 0:   0%|          | 0/1 [00:00<?, ?it/s]\u001B[A\n",
      "Validation DataLoader 0: 100%|██████████| 1/1 [00:00<00:00, 91.90it/s]\u001B[A\n",
      "Epoch 49: 100%|██████████| 1/1 [00:00<00:00, 36.42it/s, v_num=4, train/loss_step=0.0566, val/loss=0.905, val/error_u=0.845, val/error_v=1.140, val/error_h=0.442, val/loss_best=0.820, train/loss_epoch=0.0573]\n",
      "Validation: |          | 0/? [00:00<?, ?it/s]\u001B[A\n",
      "Validation: |          | 0/? [00:00<?, ?it/s]\u001B[A\n",
      "Validation DataLoader 0:   0%|          | 0/1 [00:00<?, ?it/s]\u001B[A\n",
      "Validation DataLoader 0: 100%|██████████| 1/1 [00:00<00:00, 91.37it/s]\u001B[A\n",
      "Epoch 50: 100%|██████████| 1/1 [00:00<00:00, 36.93it/s, v_num=4, train/loss_step=0.0559, val/loss=0.908, val/error_u=0.847, val/error_v=1.140, val/error_h=0.440, val/loss_best=0.820, train/loss_epoch=0.0566]\n",
      "Validation: |          | 0/? [00:00<?, ?it/s]\u001B[A\n",
      "Validation: |          | 0/? [00:00<?, ?it/s]\u001B[A\n",
      "Validation DataLoader 0:   0%|          | 0/1 [00:00<?, ?it/s]\u001B[A\n",
      "Validation DataLoader 0: 100%|██████████| 1/1 [00:00<00:00, 94.75it/s]\u001B[A\n",
      "Epoch 51: 100%|██████████| 1/1 [00:00<00:00, 30.92it/s, v_num=4, train/loss_step=0.0551, val/loss=0.913, val/error_u=0.850, val/error_v=1.150, val/error_h=0.438, val/loss_best=0.820, train/loss_epoch=0.0559]\n",
      "Validation: |          | 0/? [00:00<?, ?it/s]\u001B[A\n",
      "Validation: |          | 0/? [00:00<?, ?it/s]\u001B[A\n",
      "Validation DataLoader 0:   0%|          | 0/1 [00:00<?, ?it/s]\u001B[A\n",
      "Validation DataLoader 0: 100%|██████████| 1/1 [00:00<00:00, 85.74it/s]\u001B[A\n",
      "Epoch 52: 100%|██████████| 1/1 [00:00<00:00, 36.15it/s, v_num=4, train/loss_step=0.0546, val/loss=0.917, val/error_u=0.854, val/error_v=1.150, val/error_h=0.437, val/loss_best=0.820, train/loss_epoch=0.0551]\n",
      "Validation: |          | 0/? [00:00<?, ?it/s]\u001B[A\n",
      "Validation: |          | 0/? [00:00<?, ?it/s]\u001B[A\n",
      "Validation DataLoader 0:   0%|          | 0/1 [00:00<?, ?it/s]\u001B[A\n",
      "Validation DataLoader 0: 100%|██████████| 1/1 [00:00<00:00, 66.26it/s]\u001B[A\n",
      "Epoch 53: 100%|██████████| 1/1 [00:00<00:00, 37.42it/s, v_num=4, train/loss_step=0.0542, val/loss=0.922, val/error_u=0.857, val/error_v=1.160, val/error_h=0.435, val/loss_best=0.820, train/loss_epoch=0.0546]\n",
      "Validation: |          | 0/? [00:00<?, ?it/s]\u001B[A\n",
      "Validation: |          | 0/? [00:00<?, ?it/s]\u001B[A\n",
      "Validation DataLoader 0:   0%|          | 0/1 [00:00<?, ?it/s]\u001B[A\n",
      "Validation DataLoader 0: 100%|██████████| 1/1 [00:00<00:00, 85.14it/s]\u001B[A\n",
      "Epoch 54: 100%|██████████| 1/1 [00:00<00:00, 39.60it/s, v_num=4, train/loss_step=0.0537, val/loss=0.926, val/error_u=0.860, val/error_v=1.160, val/error_h=0.434, val/loss_best=0.820, train/loss_epoch=0.0542]\n",
      "Validation: |          | 0/? [00:00<?, ?it/s]\u001B[A\n",
      "Validation: |          | 0/? [00:00<?, ?it/s]\u001B[A\n",
      "Validation DataLoader 0:   0%|          | 0/1 [00:00<?, ?it/s]\u001B[A\n",
      "Validation DataLoader 0: 100%|██████████| 1/1 [00:00<00:00, 66.82it/s]\u001B[A\n",
      "Epoch 55: 100%|██████████| 1/1 [00:00<00:00, 36.14it/s, v_num=4, train/loss_step=0.0532, val/loss=0.929, val/error_u=0.862, val/error_v=1.160, val/error_h=0.433, val/loss_best=0.820, train/loss_epoch=0.0537]\n",
      "Validation: |          | 0/? [00:00<?, ?it/s]\u001B[A\n",
      "Validation: |          | 0/? [00:00<?, ?it/s]\u001B[A\n",
      "Validation DataLoader 0:   0%|          | 0/1 [00:00<?, ?it/s]\u001B[A\n",
      "Validation DataLoader 0: 100%|██████████| 1/1 [00:00<00:00, 97.10it/s]\u001B[A\n",
      "Epoch 56: 100%|██████████| 1/1 [00:00<00:00, 37.75it/s, v_num=4, train/loss_step=0.0526, val/loss=0.931, val/error_u=0.864, val/error_v=1.170, val/error_h=0.431, val/loss_best=0.820, train/loss_epoch=0.0532]\n",
      "Validation: |          | 0/? [00:00<?, ?it/s]\u001B[A\n",
      "Validation: |          | 0/? [00:00<?, ?it/s]\u001B[A\n",
      "Validation DataLoader 0:   0%|          | 0/1 [00:00<?, ?it/s]\u001B[A\n",
      "Validation DataLoader 0: 100%|██████████| 1/1 [00:00<00:00, 99.68it/s]\u001B[A\n",
      "Epoch 57: 100%|██████████| 1/1 [00:00<00:00, 35.41it/s, v_num=4, train/loss_step=0.0521, val/loss=0.932, val/error_u=0.865, val/error_v=1.170, val/error_h=0.429, val/loss_best=0.820, train/loss_epoch=0.0526]\n",
      "Validation: |          | 0/? [00:00<?, ?it/s]\u001B[A\n",
      "Validation: |          | 0/? [00:00<?, ?it/s]\u001B[A\n",
      "Validation DataLoader 0:   0%|          | 0/1 [00:00<?, ?it/s]\u001B[A\n",
      "Validation DataLoader 0: 100%|██████████| 1/1 [00:00<00:00, 102.12it/s]\u001B[A\n",
      "Epoch 58: 100%|██████████| 1/1 [00:00<00:00, 31.88it/s, v_num=4, train/loss_step=0.0517, val/loss=0.934, val/error_u=0.866, val/error_v=1.170, val/error_h=0.428, val/loss_best=0.820, train/loss_epoch=0.0521]\n",
      "Validation: |          | 0/? [00:00<?, ?it/s]\u001B[A\n",
      "Validation: |          | 0/? [00:00<?, ?it/s]\u001B[A\n",
      "Validation DataLoader 0:   0%|          | 0/1 [00:00<?, ?it/s]\u001B[A\n",
      "Validation DataLoader 0: 100%|██████████| 1/1 [00:00<00:00, 81.91it/s]\u001B[A\n",
      "Epoch 59: 100%|██████████| 1/1 [00:00<00:00, 30.78it/s, v_num=4, train/loss_step=0.0513, val/loss=0.935, val/error_u=0.868, val/error_v=1.170, val/error_h=0.427, val/loss_best=0.820, train/loss_epoch=0.0517]\n",
      "Validation: |          | 0/? [00:00<?, ?it/s]\u001B[A\n",
      "Validation: |          | 0/? [00:00<?, ?it/s]\u001B[A\n",
      "Validation DataLoader 0:   0%|          | 0/1 [00:00<?, ?it/s]\u001B[A\n",
      "Validation DataLoader 0: 100%|██████████| 1/1 [00:00<00:00, 64.51it/s]\u001B[A\n",
      "Epoch 60: 100%|██████████| 1/1 [00:00<00:00, 34.76it/s, v_num=4, train/loss_step=0.0509, val/loss=0.937, val/error_u=0.870, val/error_v=1.170, val/error_h=0.427, val/loss_best=0.820, train/loss_epoch=0.0513]\n",
      "Validation: |          | 0/? [00:00<?, ?it/s]\u001B[A\n",
      "Validation: |          | 0/? [00:00<?, ?it/s]\u001B[A\n",
      "Validation DataLoader 0:   0%|          | 0/1 [00:00<?, ?it/s]\u001B[A\n",
      "Validation DataLoader 0: 100%|██████████| 1/1 [00:00<00:00, 78.93it/s]\u001B[A\n",
      "Epoch 61: 100%|██████████| 1/1 [00:00<00:00, 33.52it/s, v_num=4, train/loss_step=0.0504, val/loss=0.939, val/error_u=0.871, val/error_v=1.170, val/error_h=0.426, val/loss_best=0.820, train/loss_epoch=0.0509]\n",
      "Validation: |          | 0/? [00:00<?, ?it/s]\u001B[A\n",
      "Validation: |          | 0/? [00:00<?, ?it/s]\u001B[A\n",
      "Validation DataLoader 0:   0%|          | 0/1 [00:00<?, ?it/s]\u001B[A\n",
      "Validation DataLoader 0: 100%|██████████| 1/1 [00:00<00:00, 62.85it/s]\u001B[A\n",
      "Epoch 62: 100%|██████████| 1/1 [00:00<00:00, 34.83it/s, v_num=4, train/loss_step=0.0499, val/loss=0.942, val/error_u=0.872, val/error_v=1.180, val/error_h=0.425, val/loss_best=0.820, train/loss_epoch=0.0504]\n",
      "Validation: |          | 0/? [00:00<?, ?it/s]\u001B[A\n",
      "Validation: |          | 0/? [00:00<?, ?it/s]\u001B[A\n",
      "Validation DataLoader 0:   0%|          | 0/1 [00:00<?, ?it/s]\u001B[A\n",
      "Validation DataLoader 0: 100%|██████████| 1/1 [00:00<00:00, 75.09it/s]\u001B[A\n",
      "Epoch 63: 100%|██████████| 1/1 [00:00<00:00, 34.09it/s, v_num=4, train/loss_step=0.0495, val/loss=0.944, val/error_u=0.873, val/error_v=1.180, val/error_h=0.424, val/loss_best=0.820, train/loss_epoch=0.0499]\n",
      "Validation: |          | 0/? [00:00<?, ?it/s]\u001B[A\n",
      "Validation: |          | 0/? [00:00<?, ?it/s]\u001B[A\n",
      "Validation DataLoader 0:   0%|          | 0/1 [00:00<?, ?it/s]\u001B[A\n",
      "Validation DataLoader 0: 100%|██████████| 1/1 [00:00<00:00, 78.13it/s]\u001B[A\n",
      "Epoch 64: 100%|██████████| 1/1 [00:00<00:00, 28.74it/s, v_num=4, train/loss_step=0.0491, val/loss=0.947, val/error_u=0.875, val/error_v=1.180, val/error_h=0.424, val/loss_best=0.820, train/loss_epoch=0.0495]\n",
      "Validation: |          | 0/? [00:00<?, ?it/s]\u001B[A\n",
      "Validation: |          | 0/? [00:00<?, ?it/s]\u001B[A\n",
      "Validation DataLoader 0:   0%|          | 0/1 [00:00<?, ?it/s]\u001B[A\n",
      "Validation DataLoader 0: 100%|██████████| 1/1 [00:00<00:00, 79.39it/s]\u001B[A\n",
      "Epoch 65: 100%|██████████| 1/1 [00:00<00:00, 30.59it/s, v_num=4, train/loss_step=0.0487, val/loss=0.948, val/error_u=0.876, val/error_v=1.180, val/error_h=0.424, val/loss_best=0.820, train/loss_epoch=0.0491]\n",
      "Validation: |          | 0/? [00:00<?, ?it/s]\u001B[A\n",
      "Validation: |          | 0/? [00:00<?, ?it/s]\u001B[A\n",
      "Validation DataLoader 0:   0%|          | 0/1 [00:00<?, ?it/s]\u001B[A\n",
      "Validation DataLoader 0: 100%|██████████| 1/1 [00:00<00:00, 69.59it/s]\u001B[A\n",
      "Epoch 66: 100%|██████████| 1/1 [00:00<00:00, 31.52it/s, v_num=4, train/loss_step=0.0483, val/loss=0.949, val/error_u=0.877, val/error_v=1.180, val/error_h=0.423, val/loss_best=0.820, train/loss_epoch=0.0487]\n",
      "Validation: |          | 0/? [00:00<?, ?it/s]\u001B[A\n",
      "Validation: |          | 0/? [00:00<?, ?it/s]\u001B[A\n",
      "Validation DataLoader 0:   0%|          | 0/1 [00:00<?, ?it/s]\u001B[A\n",
      "Validation DataLoader 0: 100%|██████████| 1/1 [00:00<00:00, 39.94it/s]\u001B[A\n",
      "Epoch 67: 100%|██████████| 1/1 [00:00<00:00, 24.39it/s, v_num=4, train/loss_step=0.0479, val/loss=0.950, val/error_u=0.878, val/error_v=1.180, val/error_h=0.423, val/loss_best=0.820, train/loss_epoch=0.0483]\n",
      "Validation: |          | 0/? [00:00<?, ?it/s]\u001B[A\n",
      "Validation: |          | 0/? [00:00<?, ?it/s]\u001B[A\n",
      "Validation DataLoader 0:   0%|          | 0/1 [00:00<?, ?it/s]\u001B[A\n",
      "Validation DataLoader 0: 100%|██████████| 1/1 [00:00<00:00, 85.77it/s]\u001B[A\n",
      "Epoch 68: 100%|██████████| 1/1 [00:00<00:00, 36.11it/s, v_num=4, train/loss_step=0.0476, val/loss=0.951, val/error_u=0.879, val/error_v=1.180, val/error_h=0.422, val/loss_best=0.820, train/loss_epoch=0.0479]\n",
      "Validation: |          | 0/? [00:00<?, ?it/s]\u001B[A\n",
      "Validation: |          | 0/? [00:00<?, ?it/s]\u001B[A\n",
      "Validation DataLoader 0:   0%|          | 0/1 [00:00<?, ?it/s]\u001B[A\n",
      "Validation DataLoader 0: 100%|██████████| 1/1 [00:00<00:00, 57.99it/s]\u001B[A\n",
      "Epoch 69: 100%|██████████| 1/1 [00:00<00:00, 29.64it/s, v_num=4, train/loss_step=0.0472, val/loss=0.953, val/error_u=0.880, val/error_v=1.190, val/error_h=0.421, val/loss_best=0.820, train/loss_epoch=0.0476]\n",
      "Validation: |          | 0/? [00:00<?, ?it/s]\u001B[A\n",
      "Validation: |          | 0/? [00:00<?, ?it/s]\u001B[A\n",
      "Validation DataLoader 0:   0%|          | 0/1 [00:00<?, ?it/s]\u001B[A\n",
      "Validation DataLoader 0: 100%|██████████| 1/1 [00:00<00:00, 77.60it/s]\u001B[A\n",
      "Epoch 70: 100%|██████████| 1/1 [00:00<00:00, 30.98it/s, v_num=4, train/loss_step=0.0468, val/loss=0.954, val/error_u=0.881, val/error_v=1.190, val/error_h=0.421, val/loss_best=0.820, train/loss_epoch=0.0472]\n",
      "Validation: |          | 0/? [00:00<?, ?it/s]\u001B[A\n",
      "Validation: |          | 0/? [00:00<?, ?it/s]\u001B[A\n",
      "Validation DataLoader 0:   0%|          | 0/1 [00:00<?, ?it/s]\u001B[A\n",
      "Validation DataLoader 0: 100%|██████████| 1/1 [00:00<00:00, 57.90it/s]\u001B[A\n",
      "Epoch 71: 100%|██████████| 1/1 [00:00<00:00, 35.46it/s, v_num=4, train/loss_step=0.0465, val/loss=0.956, val/error_u=0.882, val/error_v=1.190, val/error_h=0.420, val/loss_best=0.820, train/loss_epoch=0.0468]\n",
      "Validation: |          | 0/? [00:00<?, ?it/s]\u001B[A\n",
      "Validation: |          | 0/? [00:00<?, ?it/s]\u001B[A\n",
      "Validation DataLoader 0:   0%|          | 0/1 [00:00<?, ?it/s]\u001B[A\n",
      "Validation DataLoader 0: 100%|██████████| 1/1 [00:00<00:00, 103.54it/s]\u001B[A\n",
      "Epoch 72: 100%|██████████| 1/1 [00:00<00:00, 37.41it/s, v_num=4, train/loss_step=0.0462, val/loss=0.957, val/error_u=0.883, val/error_v=1.190, val/error_h=0.420, val/loss_best=0.820, train/loss_epoch=0.0465]\n",
      "Validation: |          | 0/? [00:00<?, ?it/s]\u001B[A\n",
      "Validation: |          | 0/? [00:00<?, ?it/s]\u001B[A\n",
      "Validation DataLoader 0:   0%|          | 0/1 [00:00<?, ?it/s]\u001B[A\n",
      "Validation DataLoader 0: 100%|██████████| 1/1 [00:00<00:00, 47.62it/s]\u001B[A\n",
      "Epoch 73: 100%|██████████| 1/1 [00:00<00:00, 29.70it/s, v_num=4, train/loss_step=0.0458, val/loss=0.959, val/error_u=0.884, val/error_v=1.190, val/error_h=0.420, val/loss_best=0.820, train/loss_epoch=0.0462]\n",
      "Validation: |          | 0/? [00:00<?, ?it/s]\u001B[A\n",
      "Validation: |          | 0/? [00:00<?, ?it/s]\u001B[A\n",
      "Validation DataLoader 0:   0%|          | 0/1 [00:00<?, ?it/s]\u001B[A\n",
      "Validation DataLoader 0: 100%|██████████| 1/1 [00:00<00:00, 82.53it/s]\u001B[A\n",
      "Epoch 74: 100%|██████████| 1/1 [00:00<00:00, 32.69it/s, v_num=4, train/loss_step=0.0455, val/loss=0.960, val/error_u=0.885, val/error_v=1.190, val/error_h=0.419, val/loss_best=0.820, train/loss_epoch=0.0458]\n",
      "Validation: |          | 0/? [00:00<?, ?it/s]\u001B[A\n",
      "Validation: |          | 0/? [00:00<?, ?it/s]\u001B[A\n",
      "Validation DataLoader 0:   0%|          | 0/1 [00:00<?, ?it/s]\u001B[A\n",
      "Validation DataLoader 0: 100%|██████████| 1/1 [00:00<00:00, 70.62it/s]\u001B[A\n",
      "Epoch 75: 100%|██████████| 1/1 [00:00<00:00, 26.00it/s, v_num=4, train/loss_step=0.0452, val/loss=0.961, val/error_u=0.887, val/error_v=1.190, val/error_h=0.418, val/loss_best=0.820, train/loss_epoch=0.0455]\n",
      "Validation: |          | 0/? [00:00<?, ?it/s]\u001B[A\n",
      "Validation: |          | 0/? [00:00<?, ?it/s]\u001B[A\n",
      "Validation DataLoader 0:   0%|          | 0/1 [00:00<?, ?it/s]\u001B[A\n",
      "Validation DataLoader 0: 100%|██████████| 1/1 [00:00<00:00, 72.69it/s]\u001B[A\n",
      "Epoch 76: 100%|██████████| 1/1 [00:00<00:00, 24.94it/s, v_num=4, train/loss_step=0.0449, val/loss=0.962, val/error_u=0.887, val/error_v=1.190, val/error_h=0.418, val/loss_best=0.820, train/loss_epoch=0.0452]\n",
      "Validation: |          | 0/? [00:00<?, ?it/s]\u001B[A\n",
      "Validation: |          | 0/? [00:00<?, ?it/s]\u001B[A\n",
      "Validation DataLoader 0:   0%|          | 0/1 [00:00<?, ?it/s]\u001B[A\n",
      "Validation DataLoader 0: 100%|██████████| 1/1 [00:00<00:00, 55.30it/s]\u001B[A\n",
      "Epoch 77: 100%|██████████| 1/1 [00:00<00:00, 23.63it/s, v_num=4, train/loss_step=0.0446, val/loss=0.963, val/error_u=0.888, val/error_v=1.190, val/error_h=0.417, val/loss_best=0.820, train/loss_epoch=0.0449]\n",
      "Validation: |          | 0/? [00:00<?, ?it/s]\u001B[A\n",
      "Validation: |          | 0/? [00:00<?, ?it/s]\u001B[A\n",
      "Validation DataLoader 0:   0%|          | 0/1 [00:00<?, ?it/s]\u001B[A\n",
      "Validation DataLoader 0: 100%|██████████| 1/1 [00:00<00:00, 60.85it/s]\u001B[A\n",
      "Epoch 78: 100%|██████████| 1/1 [00:00<00:00, 30.32it/s, v_num=4, train/loss_step=0.0443, val/loss=0.964, val/error_u=0.889, val/error_v=1.190, val/error_h=0.416, val/loss_best=0.820, train/loss_epoch=0.0446]\n",
      "Validation: |          | 0/? [00:00<?, ?it/s]\u001B[A\n",
      "Validation: |          | 0/? [00:00<?, ?it/s]\u001B[A\n",
      "Validation DataLoader 0:   0%|          | 0/1 [00:00<?, ?it/s]\u001B[A\n",
      "Validation DataLoader 0: 100%|██████████| 1/1 [00:00<00:00, 59.33it/s]\u001B[A\n",
      "Epoch 79: 100%|██████████| 1/1 [00:00<00:00, 28.54it/s, v_num=4, train/loss_step=0.044, val/loss=0.965, val/error_u=0.891, val/error_v=1.200, val/error_h=0.415, val/loss_best=0.820, train/loss_epoch=0.0443] \n",
      "Validation: |          | 0/? [00:00<?, ?it/s]\u001B[A\n",
      "Validation: |          | 0/? [00:00<?, ?it/s]\u001B[A\n",
      "Validation DataLoader 0:   0%|          | 0/1 [00:00<?, ?it/s]\u001B[A\n",
      "Validation DataLoader 0: 100%|██████████| 1/1 [00:00<00:00, 58.59it/s]\u001B[A\n",
      "Epoch 80: 100%|██████████| 1/1 [00:00<00:00, 27.07it/s, v_num=4, train/loss_step=0.0437, val/loss=0.966, val/error_u=0.892, val/error_v=1.200, val/error_h=0.415, val/loss_best=0.820, train/loss_epoch=0.044]\n",
      "Validation: |          | 0/? [00:00<?, ?it/s]\u001B[A\n",
      "Validation: |          | 0/? [00:00<?, ?it/s]\u001B[A\n",
      "Validation DataLoader 0:   0%|          | 0/1 [00:00<?, ?it/s]\u001B[A\n",
      "Validation DataLoader 0: 100%|██████████| 1/1 [00:00<00:00, 62.75it/s]\u001B[A\n",
      "Epoch 81: 100%|██████████| 1/1 [00:00<00:00, 29.65it/s, v_num=4, train/loss_step=0.0434, val/loss=0.968, val/error_u=0.893, val/error_v=1.200, val/error_h=0.414, val/loss_best=0.820, train/loss_epoch=0.0437]\n",
      "Validation: |          | 0/? [00:00<?, ?it/s]\u001B[A\n",
      "Validation: |          | 0/? [00:00<?, ?it/s]\u001B[A\n",
      "Validation DataLoader 0:   0%|          | 0/1 [00:00<?, ?it/s]\u001B[A\n",
      "Validation DataLoader 0: 100%|██████████| 1/1 [00:00<00:00, 65.43it/s]\u001B[A\n",
      "Epoch 82: 100%|██████████| 1/1 [00:00<00:00, 30.55it/s, v_num=4, train/loss_step=0.0432, val/loss=0.969, val/error_u=0.894, val/error_v=1.200, val/error_h=0.414, val/loss_best=0.820, train/loss_epoch=0.0434]\n",
      "Validation: |          | 0/? [00:00<?, ?it/s]\u001B[A\n",
      "Validation: |          | 0/? [00:00<?, ?it/s]\u001B[A\n",
      "Validation DataLoader 0:   0%|          | 0/1 [00:00<?, ?it/s]\u001B[A\n",
      "Validation DataLoader 0: 100%|██████████| 1/1 [00:00<00:00, 59.74it/s]\u001B[A\n",
      "Epoch 83: 100%|██████████| 1/1 [00:00<00:00, 33.69it/s, v_num=4, train/loss_step=0.0429, val/loss=0.971, val/error_u=0.895, val/error_v=1.200, val/error_h=0.413, val/loss_best=0.820, train/loss_epoch=0.0432]\n",
      "Validation: |          | 0/? [00:00<?, ?it/s]\u001B[A\n",
      "Validation: |          | 0/? [00:00<?, ?it/s]\u001B[A\n",
      "Validation DataLoader 0:   0%|          | 0/1 [00:00<?, ?it/s]\u001B[A\n",
      "Validation DataLoader 0: 100%|██████████| 1/1 [00:00<00:00, 82.50it/s]\u001B[A\n",
      "Epoch 84: 100%|██████████| 1/1 [00:00<00:00, 32.87it/s, v_num=4, train/loss_step=0.0426, val/loss=0.973, val/error_u=0.897, val/error_v=1.200, val/error_h=0.413, val/loss_best=0.820, train/loss_epoch=0.0429]\n",
      "Validation: |          | 0/? [00:00<?, ?it/s]\u001B[A\n",
      "Validation: |          | 0/? [00:00<?, ?it/s]\u001B[A\n",
      "Validation DataLoader 0:   0%|          | 0/1 [00:00<?, ?it/s]\u001B[A\n",
      "Validation DataLoader 0: 100%|██████████| 1/1 [00:00<00:00, 51.01it/s]\u001B[A\n",
      "Epoch 85: 100%|██████████| 1/1 [00:00<00:00, 30.48it/s, v_num=4, train/loss_step=0.0424, val/loss=0.974, val/error_u=0.898, val/error_v=1.200, val/error_h=0.412, val/loss_best=0.820, train/loss_epoch=0.0426]\n",
      "Validation: |          | 0/? [00:00<?, ?it/s]\u001B[A\n",
      "Validation: |          | 0/? [00:00<?, ?it/s]\u001B[A\n",
      "Validation DataLoader 0:   0%|          | 0/1 [00:00<?, ?it/s]\u001B[A\n",
      "Validation DataLoader 0: 100%|██████████| 1/1 [00:00<00:00, 80.89it/s]\u001B[A\n",
      "Epoch 86: 100%|██████████| 1/1 [00:00<00:00, 30.88it/s, v_num=4, train/loss_step=0.0421, val/loss=0.976, val/error_u=0.900, val/error_v=1.200, val/error_h=0.412, val/loss_best=0.820, train/loss_epoch=0.0424]\n",
      "Validation: |          | 0/? [00:00<?, ?it/s]\u001B[A\n",
      "Validation: |          | 0/? [00:00<?, ?it/s]\u001B[A\n",
      "Validation DataLoader 0:   0%|          | 0/1 [00:00<?, ?it/s]\u001B[A\n",
      "Validation DataLoader 0: 100%|██████████| 1/1 [00:00<00:00, 71.07it/s]\u001B[A\n",
      "Epoch 87: 100%|██████████| 1/1 [00:00<00:00, 24.89it/s, v_num=4, train/loss_step=0.0419, val/loss=0.978, val/error_u=0.901, val/error_v=1.200, val/error_h=0.411, val/loss_best=0.820, train/loss_epoch=0.0421]\n",
      "Validation: |          | 0/? [00:00<?, ?it/s]\u001B[A\n",
      "Validation: |          | 0/? [00:00<?, ?it/s]\u001B[A\n",
      "Validation DataLoader 0:   0%|          | 0/1 [00:00<?, ?it/s]\u001B[A\n",
      "Validation DataLoader 0: 100%|██████████| 1/1 [00:00<00:00, 56.52it/s]\u001B[A\n",
      "Epoch 88: 100%|██████████| 1/1 [00:00<00:00, 30.77it/s, v_num=4, train/loss_step=0.0416, val/loss=0.980, val/error_u=0.902, val/error_v=1.210, val/error_h=0.411, val/loss_best=0.820, train/loss_epoch=0.0419]\n",
      "Validation: |          | 0/? [00:00<?, ?it/s]\u001B[A\n",
      "Validation: |          | 0/? [00:00<?, ?it/s]\u001B[A\n",
      "Validation DataLoader 0:   0%|          | 0/1 [00:00<?, ?it/s]\u001B[A\n",
      "Validation DataLoader 0: 100%|██████████| 1/1 [00:00<00:00, 64.14it/s]\u001B[A\n",
      "Epoch 89: 100%|██████████| 1/1 [00:00<00:00, 31.23it/s, v_num=4, train/loss_step=0.0414, val/loss=0.982, val/error_u=0.904, val/error_v=1.210, val/error_h=0.410, val/loss_best=0.820, train/loss_epoch=0.0416]\n",
      "Validation: |          | 0/? [00:00<?, ?it/s]\u001B[A\n",
      "Validation: |          | 0/? [00:00<?, ?it/s]\u001B[A\n",
      "Validation DataLoader 0:   0%|          | 0/1 [00:00<?, ?it/s]\u001B[A\n",
      "Validation DataLoader 0: 100%|██████████| 1/1 [00:00<00:00, 75.77it/s]\u001B[A\n",
      "Epoch 90: 100%|██████████| 1/1 [00:00<00:00, 29.27it/s, v_num=4, train/loss_step=0.0411, val/loss=0.983, val/error_u=0.904, val/error_v=1.210, val/error_h=0.410, val/loss_best=0.820, train/loss_epoch=0.0414]\n",
      "Validation: |          | 0/? [00:00<?, ?it/s]\u001B[A\n",
      "Validation: |          | 0/? [00:00<?, ?it/s]\u001B[A\n",
      "Validation DataLoader 0:   0%|          | 0/1 [00:00<?, ?it/s]\u001B[A\n",
      "Validation DataLoader 0: 100%|██████████| 1/1 [00:00<00:00, 69.87it/s]\u001B[A\n",
      "Epoch 91: 100%|██████████| 1/1 [00:00<00:00, 29.17it/s, v_num=4, train/loss_step=0.0409, val/loss=0.984, val/error_u=0.906, val/error_v=1.210, val/error_h=0.409, val/loss_best=0.820, train/loss_epoch=0.0411]\n",
      "Validation: |          | 0/? [00:00<?, ?it/s]\u001B[A\n",
      "Validation: |          | 0/? [00:00<?, ?it/s]\u001B[A\n",
      "Validation DataLoader 0:   0%|          | 0/1 [00:00<?, ?it/s]\u001B[A\n",
      "Validation DataLoader 0: 100%|██████████| 1/1 [00:00<00:00, 67.27it/s]\u001B[A\n",
      "Epoch 92: 100%|██████████| 1/1 [00:00<00:00, 28.66it/s, v_num=4, train/loss_step=0.0406, val/loss=0.986, val/error_u=0.907, val/error_v=1.210, val/error_h=0.409, val/loss_best=0.820, train/loss_epoch=0.0409]\n",
      "Validation: |          | 0/? [00:00<?, ?it/s]\u001B[A\n",
      "Validation: |          | 0/? [00:00<?, ?it/s]\u001B[A\n",
      "Validation DataLoader 0:   0%|          | 0/1 [00:00<?, ?it/s]\u001B[A\n",
      "Validation DataLoader 0: 100%|██████████| 1/1 [00:00<00:00, 65.79it/s]\u001B[A\n",
      "Epoch 93: 100%|██████████| 1/1 [00:00<00:00, 25.27it/s, v_num=4, train/loss_step=0.0404, val/loss=0.988, val/error_u=0.909, val/error_v=1.210, val/error_h=0.408, val/loss_best=0.820, train/loss_epoch=0.0406]\n",
      "Validation: |          | 0/? [00:00<?, ?it/s]\u001B[A\n",
      "Validation: |          | 0/? [00:00<?, ?it/s]\u001B[A\n",
      "Validation DataLoader 0:   0%|          | 0/1 [00:00<?, ?it/s]\u001B[A\n",
      "Validation DataLoader 0: 100%|██████████| 1/1 [00:00<00:00, 60.75it/s]\u001B[A\n",
      "Epoch 94: 100%|██████████| 1/1 [00:00<00:00, 29.47it/s, v_num=4, train/loss_step=0.0402, val/loss=0.990, val/error_u=0.910, val/error_v=1.210, val/error_h=0.408, val/loss_best=0.820, train/loss_epoch=0.0404]\n",
      "Validation: |          | 0/? [00:00<?, ?it/s]\u001B[A\n",
      "Validation: |          | 0/? [00:00<?, ?it/s]\u001B[A\n",
      "Validation DataLoader 0:   0%|          | 0/1 [00:00<?, ?it/s]\u001B[A\n",
      "Validation DataLoader 0: 100%|██████████| 1/1 [00:00<00:00, 73.66it/s]\u001B[A\n",
      "Epoch 95: 100%|██████████| 1/1 [00:00<00:00, 23.60it/s, v_num=4, train/loss_step=0.0399, val/loss=0.992, val/error_u=0.912, val/error_v=1.210, val/error_h=0.407, val/loss_best=0.820, train/loss_epoch=0.0402]\n",
      "Validation: |          | 0/? [00:00<?, ?it/s]\u001B[A\n",
      "Validation: |          | 0/? [00:00<?, ?it/s]\u001B[A\n",
      "Validation DataLoader 0:   0%|          | 0/1 [00:00<?, ?it/s]\u001B[A\n",
      "Validation DataLoader 0: 100%|██████████| 1/1 [00:00<00:00, 73.27it/s]\u001B[A\n",
      "Epoch 96: 100%|██████████| 1/1 [00:00<00:00, 22.32it/s, v_num=4, train/loss_step=0.0397, val/loss=0.993, val/error_u=0.913, val/error_v=1.210, val/error_h=0.407, val/loss_best=0.820, train/loss_epoch=0.0399]\n",
      "Validation: |          | 0/? [00:00<?, ?it/s]\u001B[A\n",
      "Validation: |          | 0/? [00:00<?, ?it/s]\u001B[A\n",
      "Validation DataLoader 0:   0%|          | 0/1 [00:00<?, ?it/s]\u001B[A\n",
      "Validation DataLoader 0: 100%|██████████| 1/1 [00:00<00:00, 63.54it/s]\u001B[A\n",
      "Epoch 97: 100%|██████████| 1/1 [00:00<00:00, 32.49it/s, v_num=4, train/loss_step=0.0395, val/loss=0.995, val/error_u=0.914, val/error_v=1.220, val/error_h=0.406, val/loss_best=0.820, train/loss_epoch=0.0397]\n",
      "Validation: |          | 0/? [00:00<?, ?it/s]\u001B[A\n",
      "Validation: |          | 0/? [00:00<?, ?it/s]\u001B[A\n",
      "Validation DataLoader 0:   0%|          | 0/1 [00:00<?, ?it/s]\u001B[A\n",
      "Validation DataLoader 0: 100%|██████████| 1/1 [00:00<00:00, 61.12it/s]\u001B[A\n",
      "Epoch 98: 100%|██████████| 1/1 [00:00<00:00, 25.05it/s, v_num=4, train/loss_step=0.0392, val/loss=0.997, val/error_u=0.916, val/error_v=1.220, val/error_h=0.406, val/loss_best=0.820, train/loss_epoch=0.0395]\n",
      "Validation: |          | 0/? [00:00<?, ?it/s]\u001B[A\n",
      "Validation: |          | 0/? [00:00<?, ?it/s]\u001B[A\n",
      "Validation DataLoader 0:   0%|          | 0/1 [00:00<?, ?it/s]\u001B[A\n",
      "Validation DataLoader 0: 100%|██████████| 1/1 [00:00<00:00, 61.32it/s]\u001B[A\n",
      "Epoch 99: 100%|██████████| 1/1 [00:00<00:00, 25.38it/s, v_num=4, train/loss_step=0.039, val/loss=0.999, val/error_u=0.917, val/error_v=1.220, val/error_h=0.406, val/loss_best=0.820, train/loss_epoch=0.0392] \n",
      "Validation: |          | 0/? [00:00<?, ?it/s]\u001B[A\n",
      "Validation: |          | 0/? [00:00<?, ?it/s]\u001B[A\n",
      "Validation DataLoader 0:   0%|          | 0/1 [00:00<?, ?it/s]\u001B[A\n",
      "Validation DataLoader 0: 100%|██████████| 1/1 [00:00<00:00, 59.13it/s]\u001B[A\n",
      "Epoch 99: 100%|██████████| 1/1 [00:00<00:00, 12.36it/s, v_num=4, train/loss_step=0.039, val/loss=1.000, val/error_u=0.918, val/error_v=1.220, val/error_h=0.405, val/loss_best=0.820, train/loss_epoch=0.039] "
     ]
    },
    {
     "name": "stderr",
     "output_type": "stream",
     "text": [
      "`Trainer.fit` stopped: `max_epochs=100` reached.\n"
     ]
    },
    {
     "name": "stdout",
     "output_type": "stream",
     "text": [
      "Epoch 99: 100%|██████████| 1/1 [00:00<00:00, 10.51it/s, v_num=4, train/loss_step=0.039, val/loss=1.000, val/error_u=0.918, val/error_v=1.220, val/error_h=0.405, val/loss_best=0.820, train/loss_epoch=0.039]\n"
     ]
    }
   ],
   "execution_count": 30
  },
  {
   "metadata": {
    "ExecuteTime": {
     "end_time": "2025-09-17T23:17:45.956615Z",
     "start_time": "2025-09-17T23:17:45.948996Z"
    }
   },
   "cell_type": "code",
   "source": [
    "total_time = end_time - start_time\n",
    "hours = total_time // 3600\n",
    "minutes = (total_time % 3600) // 60\n",
    "seconds = total_time % 60\n",
    "\n",
    "print(f\"Training time: {hours}h {minutes}m {seconds}s\")"
   ],
   "id": "6114c9b21f14bdb3",
   "outputs": [
    {
     "name": "stdout",
     "output_type": "stream",
     "text": [
      "Training time: 0.0h 0.0m 11.604338884353638s\n"
     ]
    }
   ],
   "execution_count": 31
  },
  {
   "metadata": {
    "ExecuteTime": {
     "end_time": "2025-09-17T23:17:46.032887Z",
     "start_time": "2025-09-17T23:17:45.971214Z"
    }
   },
   "cell_type": "code",
   "source": "trainer.validate(model=model, datamodule=datamodule)",
   "id": "d6c1ca6340ef110a",
   "outputs": [
    {
     "name": "stderr",
     "output_type": "stream",
     "text": [
      "LOCAL_RANK: 0 - CUDA_VISIBLE_DEVICES: [0]\n"
     ]
    },
    {
     "name": "stdout",
     "output_type": "stream",
     "text": [
      "Validation DataLoader 0: 100%|██████████| 1/1 [00:00<00:00, 38.13it/s]\n"
     ]
    },
    {
     "data": {
      "text/plain": [
       "┏━━━━━━━━━━━━━━━━━━━━━━━━━━━┳━━━━━━━━━━━━━━━━━━━━━━━━━━━┓\n",
       "┃\u001B[1m \u001B[0m\u001B[1m     Validate metric     \u001B[0m\u001B[1m \u001B[0m┃\u001B[1m \u001B[0m\u001B[1m      DataLoader 0       \u001B[0m\u001B[1m \u001B[0m┃\n",
       "┡━━━━━━━━━━━━━━━━━━━━━━━━━━━╇━━━━━━━━━━━━━━━━━━━━━━━━━━━┩\n",
       "│\u001B[36m \u001B[0m\u001B[36m       val/error_h       \u001B[0m\u001B[36m \u001B[0m│\u001B[35m \u001B[0m\u001B[35m   0.4051196873188019    \u001B[0m\u001B[35m \u001B[0m│\n",
       "│\u001B[36m \u001B[0m\u001B[36m       val/error_u       \u001B[0m\u001B[36m \u001B[0m│\u001B[35m \u001B[0m\u001B[35m   0.9183316826820374    \u001B[0m\u001B[35m \u001B[0m│\n",
       "│\u001B[36m \u001B[0m\u001B[36m       val/error_v       \u001B[0m\u001B[36m \u001B[0m│\u001B[35m \u001B[0m\u001B[35m    1.218977928161621    \u001B[0m\u001B[35m \u001B[0m│\n",
       "│\u001B[36m \u001B[0m\u001B[36m        val/loss         \u001B[0m\u001B[36m \u001B[0m│\u001B[35m \u001B[0m\u001B[35m   1.0004210472106934    \u001B[0m\u001B[35m \u001B[0m│\n",
       "│\u001B[36m \u001B[0m\u001B[36m      val/loss_best      \u001B[0m\u001B[36m \u001B[0m│\u001B[35m \u001B[0m\u001B[35m   0.8204375505447388    \u001B[0m\u001B[35m \u001B[0m│\n",
       "└───────────────────────────┴───────────────────────────┘\n"
      ],
      "text/html": [
       "<pre style=\"white-space:pre;overflow-x:auto;line-height:normal;font-family:Menlo,'DejaVu Sans Mono',consolas,'Courier New',monospace\">┏━━━━━━━━━━━━━━━━━━━━━━━━━━━┳━━━━━━━━━━━━━━━━━━━━━━━━━━━┓\n",
       "┃<span style=\"font-weight: bold\">      Validate metric      </span>┃<span style=\"font-weight: bold\">       DataLoader 0        </span>┃\n",
       "┡━━━━━━━━━━━━━━━━━━━━━━━━━━━╇━━━━━━━━━━━━━━━━━━━━━━━━━━━┩\n",
       "│<span style=\"color: #008080; text-decoration-color: #008080\">        val/error_h        </span>│<span style=\"color: #800080; text-decoration-color: #800080\">    0.4051196873188019     </span>│\n",
       "│<span style=\"color: #008080; text-decoration-color: #008080\">        val/error_u        </span>│<span style=\"color: #800080; text-decoration-color: #800080\">    0.9183316826820374     </span>│\n",
       "│<span style=\"color: #008080; text-decoration-color: #008080\">        val/error_v        </span>│<span style=\"color: #800080; text-decoration-color: #800080\">     1.218977928161621     </span>│\n",
       "│<span style=\"color: #008080; text-decoration-color: #008080\">         val/loss          </span>│<span style=\"color: #800080; text-decoration-color: #800080\">    1.0004210472106934     </span>│\n",
       "│<span style=\"color: #008080; text-decoration-color: #008080\">       val/loss_best       </span>│<span style=\"color: #800080; text-decoration-color: #800080\">    0.8204375505447388     </span>│\n",
       "└───────────────────────────┴───────────────────────────┘\n",
       "</pre>\n"
      ]
     },
     "metadata": {},
     "output_type": "display_data"
    },
    {
     "data": {
      "text/plain": [
       "[{'val/loss': 1.0004210472106934,\n",
       "  'val/error_u': 0.9183316826820374,\n",
       "  'val/error_v': 1.218977928161621,\n",
       "  'val/error_h': 0.4051196873188019,\n",
       "  'val/loss_best': 0.8204375505447388}]"
      ]
     },
     "execution_count": 32,
     "metadata": {},
     "output_type": "execute_result"
    }
   ],
   "execution_count": 32
  },
  {
   "metadata": {
    "ExecuteTime": {
     "end_time": "2025-09-17T23:17:46.323870Z",
     "start_time": "2025-09-17T23:17:46.287358Z"
    }
   },
   "cell_type": "code",
   "source": [
    "preds_list = trainer.predict(model=model, datamodule=datamodule)\n",
    "preds_dict = pinnstorch.utils.fix_predictions(preds_list)"
   ],
   "id": "fe225aa51b126829",
   "outputs": [
    {
     "name": "stderr",
     "output_type": "stream",
     "text": [
      "LOCAL_RANK: 0 - CUDA_VISIBLE_DEVICES: [0]\n"
     ]
    },
    {
     "name": "stdout",
     "output_type": "stream",
     "text": [
      "Predicting DataLoader 0: 100%|██████████| 1/1 [00:00<00:00, 82.31it/s] \n"
     ]
    }
   ],
   "execution_count": 33
  },
  {
   "metadata": {
    "ExecuteTime": {
     "end_time": "2025-09-17T23:17:47.139999Z",
     "start_time": "2025-09-17T23:17:46.357062Z"
    }
   },
   "cell_type": "code",
   "source": [
    "pinnstorch.utils.plot_schrodinger(mesh=mesh,\n",
    "                                  preds=preds_dict,\n",
    "                                  train_datasets=train_datasets,\n",
    "                                  val_dataset=val_dataset,\n",
    "                                  file_name='3_sine')"
   ],
   "id": "699266cd59f912ef",
   "outputs": [
    {
     "data": {
      "text/plain": [
       "<Figure size 539.643x300.166 with 6 Axes>"
      ],
      "image/png": "[encoded data removed]"
     },
     "metadata": {},
     "output_type": "display_data"
    }
   ],
   "execution_count": 34
  },
  {
   "metadata": {},
   "cell_type": "markdown",
   "source": [
    "##### FINER\n",
    "\n",
    "![](finer.png)"
   ],
   "id": "f8b08eb124d12383"
  },
  {
   "metadata": {
    "ExecuteTime": {
     "end_time": "2025-09-17T23:17:47.155218Z",
     "start_time": "2025-09-17T23:17:47.149059Z"
    }
   },
   "cell_type": "code",
   "source": [
    "net_finer = pinnstorch.models.FCN(layers=layers,\n",
    "                            output_names=['u', 'v'],\n",
    "                            lb=mesh.lb,\n",
    "                            ub=mesh.ub,\n",
    "                            activation=\"FINER\",  # use registry\n",
    "                            activation_kwargs={'omega':5},  # extra params\n",
    "                            initializer=\"FINER\",  # use registry\n",
    "                            initializer_kwargs={'omega':5, 'k':1},  # extra params\n",
    "                            layer_type='BASE',\n",
    "                            layer_kwargs={}\n",
    "                            )"
   ],
   "id": "97e13ccb0c9de7ce",
   "outputs": [],
   "execution_count": 35
  },
  {
   "metadata": {
    "ExecuteTime": {
     "end_time": "2025-09-17T23:17:47.170559Z",
     "start_time": "2025-09-17T23:17:47.161439Z"
    }
   },
   "cell_type": "code",
   "source": [
    "model = pinnstorch.models.PINNModule(net = net_finer,\n",
    "                                     pde_fn = pde_fn,\n",
    "                                     output_fn = output_fn,\n",
    "                                     loss_fn = 'mse')"
   ],
   "id": "938e994351690afb",
   "outputs": [],
   "execution_count": 36
  },
  {
   "metadata": {
    "ExecuteTime": {
     "end_time": "2025-09-17T23:18:03.555703Z",
     "start_time": "2025-09-17T23:17:47.179745Z"
    }
   },
   "cell_type": "code",
   "source": [
    "trainer = pl.Trainer(accelerator='gpu', devices=1, max_epochs = num_epochs)\n",
    "start_time = time.time()\n",
    "\n",
    "trainer.fit(model=model, datamodule=datamodule)\n",
    "end_time = time.time()\n",
    "\n"
   ],
   "id": "5ccbde8af2de4ac8",
   "outputs": [
    {
     "name": "stderr",
     "output_type": "stream",
     "text": [
      "💡 Tip: For seamless cloud uploads and versioning, try installing [litmodels](https://pypi.org/project/litmodels/) to enable LitModelCheckpoint, which syncs automatically with the Lightning model registry.\n",
      "GPU available: True (cuda), used: True\n",
      "TPU available: False, using: 0 TPU cores\n",
      "HPU available: False, using: 0 HPUs\n",
      "LOCAL_RANK: 0 - CUDA_VISIBLE_DEVICES: [0]\n",
      "\n",
      "  | Name          | Type       | Params | Mode \n",
      "-----------------------------------------------------\n",
      "0 | net           | FCN        | 30.8 K | train\n",
      "1 | train_loss    | MeanMetric | 0      | train\n",
      "2 | val_loss      | MeanMetric | 0      | train\n",
      "3 | val_error     | MeanMetric | 0      | train\n",
      "4 | test_loss     | MeanMetric | 0      | train\n",
      "5 | test_error    | MeanMetric | 0      | train\n",
      "6 | val_loss_best | MinMetric  | 0      | train\n",
      "-----------------------------------------------------\n",
      "30.8 K    Trainable params\n",
      "0         Non-trainable params\n",
      "30.8 K    Total params\n",
      "0.123     Total estimated model params size (MB)\n",
      "23        Modules in train mode\n",
      "0         Modules in eval mode\n"
     ]
    },
    {
     "name": "stdout",
     "output_type": "stream",
     "text": [
      "                                                                           "
     ]
    },
    {
     "name": "stderr",
     "output_type": "stream",
     "text": [
      "C:\\Users\\micke\\anaconda3\\envs\\myenv\\lib\\site-packages\\lightning\\pytorch\\loops\\fit_loop.py:310: The number of training batches (1) is smaller than the logging interval Trainer(log_every_n_steps=50). Set a lower value for log_every_n_steps if you want to see logs for the training epoch.\n"
     ]
    },
    {
     "name": "stdout",
     "output_type": "stream",
     "text": [
      "Epoch 0:   0%|          | 0/1 [00:00<?, ?it/s]"
     ]
    },
    {
     "name": "stderr",
     "output_type": "stream",
     "text": [
      "C:\\Users\\micke\\anaconda3\\envs\\myenv\\lib\\site-packages\\torch\\jit\\_trace.py:165: UserWarning: The .grad attribute of a Tensor that is not a leaf Tensor is being accessed. Its .grad attribute won't be populated during autograd.backward(). If you indeed want the .grad field to be populated for a non-leaf Tensor, use .retain_grad() on the non-leaf Tensor. If you access the non-leaf Tensor by mistake, make sure you access the leaf Tensor instead. See github.com/pytorch/pytorch/pull/30531 for more informations. (Triggered internally at C:\\actions-runner\\_work\\pytorch\\pytorch\\pytorch\\build\\aten\\src\\ATen/core/TensorBody.h:494.)\n",
      "  if a.grad is not None:\n"
     ]
    },
    {
     "name": "stdout",
     "output_type": "stream",
     "text": [
      "Epoch 0: 100%|██████████| 1/1 [00:01<00:00,  0.51it/s, v_num=5, train/loss_step=288.0]\n",
      "Validation: |          | 0/? [00:00<?, ?it/s]\u001B[A\n",
      "Validation: |          | 0/? [00:00<?, ?it/s]\u001B[A\n",
      "Validation DataLoader 0:   0%|          | 0/1 [00:00<?, ?it/s]\u001B[A\n",
      "Validation DataLoader 0: 100%|██████████| 1/1 [00:00<00:00, 59.82it/s]\u001B[A\n",
      "Epoch 1: 100%|██████████| 1/1 [00:05<00:00,  0.17it/s, v_num=5, train/loss_step=189.0, val/loss=1.730, val/error_u=0.970, val/error_v=1.420, val/error_h=0.903, val/loss_best=1.730, train/loss_epoch=288.0]\n",
      "Validation: |          | 0/? [00:00<?, ?it/s]\u001B[A\n",
      "Validation: |          | 0/? [00:00<?, ?it/s]\u001B[A\n",
      "Validation DataLoader 0:   0%|          | 0/1 [00:00<?, ?it/s]\u001B[A\n",
      "Validation DataLoader 0: 100%|██████████| 1/1 [00:00<00:00, 91.69it/s]\u001B[A\n",
      "Epoch 2: 100%|██████████| 1/1 [00:00<00:00, 19.71it/s, v_num=5, train/loss_step=123.0, val/loss=1.710, val/error_u=0.963, val/error_v=1.410, val/error_h=0.897, val/loss_best=1.710, train/loss_epoch=189.0]\n",
      "Validation: |          | 0/? [00:00<?, ?it/s]\u001B[A\n",
      "Validation: |          | 0/? [00:00<?, ?it/s]\u001B[A\n",
      "Validation DataLoader 0:   0%|          | 0/1 [00:00<?, ?it/s]\u001B[A\n",
      "Validation DataLoader 0: 100%|██████████| 1/1 [00:00<00:00, 76.08it/s]\u001B[A\n",
      "Epoch 3: 100%|██████████| 1/1 [00:00<00:00, 19.03it/s, v_num=5, train/loss_step=89.80, val/loss=1.690, val/error_u=0.967, val/error_v=1.390, val/error_h=0.892, val/loss_best=1.690, train/loss_epoch=123.0]\n",
      "Validation: |          | 0/? [00:00<?, ?it/s]\u001B[A\n",
      "Validation: |          | 0/? [00:00<?, ?it/s]\u001B[A\n",
      "Validation DataLoader 0:   0%|          | 0/1 [00:00<?, ?it/s]\u001B[A\n",
      "Validation DataLoader 0: 100%|██████████| 1/1 [00:00<00:00, 58.15it/s]\u001B[A\n",
      "Epoch 4: 100%|██████████| 1/1 [00:00<00:00, 19.13it/s, v_num=5, train/loss_step=66.40, val/loss=1.670, val/error_u=0.965, val/error_v=1.380, val/error_h=0.888, val/loss_best=1.670, train/loss_epoch=89.80]\n",
      "Validation: |          | 0/? [00:00<?, ?it/s]\u001B[A\n",
      "Validation: |          | 0/? [00:00<?, ?it/s]\u001B[A\n",
      "Validation DataLoader 0:   0%|          | 0/1 [00:00<?, ?it/s]\u001B[A\n",
      "Validation DataLoader 0: 100%|██████████| 1/1 [00:00<00:00, 67.84it/s]\u001B[A\n",
      "Epoch 5: 100%|██████████| 1/1 [00:00<00:00, 20.34it/s, v_num=5, train/loss_step=51.60, val/loss=1.660, val/error_u=0.958, val/error_v=1.370, val/error_h=0.888, val/loss_best=1.660, train/loss_epoch=66.40]\n",
      "Validation: |          | 0/? [00:00<?, ?it/s]\u001B[A\n",
      "Validation: |          | 0/? [00:00<?, ?it/s]\u001B[A\n",
      "Validation DataLoader 0:   0%|          | 0/1 [00:00<?, ?it/s]\u001B[A\n",
      "Validation DataLoader 0: 100%|██████████| 1/1 [00:00<00:00, 60.06it/s]\u001B[A\n",
      "Epoch 6: 100%|██████████| 1/1 [00:00<00:00, 18.38it/s, v_num=5, train/loss_step=42.00, val/loss=1.650, val/error_u=0.950, val/error_v=1.370, val/error_h=0.888, val/loss_best=1.650, train/loss_epoch=51.60]\n",
      "Validation: |          | 0/? [00:00<?, ?it/s]\u001B[A\n",
      "Validation: |          | 0/? [00:00<?, ?it/s]\u001B[A\n",
      "Validation DataLoader 0:   0%|          | 0/1 [00:00<?, ?it/s]\u001B[A\n",
      "Validation DataLoader 0: 100%|██████████| 1/1 [00:00<00:00, 73.23it/s]\u001B[A\n",
      "Epoch 7: 100%|██████████| 1/1 [00:00<00:00, 20.77it/s, v_num=5, train/loss_step=34.00, val/loss=1.630, val/error_u=0.944, val/error_v=1.360, val/error_h=0.885, val/loss_best=1.630, train/loss_epoch=42.00]\n",
      "Validation: |          | 0/? [00:00<?, ?it/s]\u001B[A\n",
      "Validation: |          | 0/? [00:00<?, ?it/s]\u001B[A\n",
      "Validation DataLoader 0:   0%|          | 0/1 [00:00<?, ?it/s]\u001B[A\n",
      "Validation DataLoader 0: 100%|██████████| 1/1 [00:00<00:00, 72.91it/s]\u001B[A\n",
      "Epoch 8: 100%|██████████| 1/1 [00:00<00:00, 20.30it/s, v_num=5, train/loss_step=27.50, val/loss=1.620, val/error_u=0.939, val/error_v=1.360, val/error_h=0.882, val/loss_best=1.620, train/loss_epoch=34.00]\n",
      "Validation: |          | 0/? [00:00<?, ?it/s]\u001B[A\n",
      "Validation: |          | 0/? [00:00<?, ?it/s]\u001B[A\n",
      "Validation DataLoader 0:   0%|          | 0/1 [00:00<?, ?it/s]\u001B[A\n",
      "Validation DataLoader 0: 100%|██████████| 1/1 [00:00<00:00, 76.23it/s]\u001B[A\n",
      "Epoch 9: 100%|██████████| 1/1 [00:00<00:00, 23.08it/s, v_num=5, train/loss_step=22.70, val/loss=1.610, val/error_u=0.936, val/error_v=1.350, val/error_h=0.879, val/loss_best=1.610, train/loss_epoch=27.50]\n",
      "Validation: |          | 0/? [00:00<?, ?it/s]\u001B[A\n",
      "Validation: |          | 0/? [00:00<?, ?it/s]\u001B[A\n",
      "Validation DataLoader 0:   0%|          | 0/1 [00:00<?, ?it/s]\u001B[A\n",
      "Validation DataLoader 0: 100%|██████████| 1/1 [00:00<00:00, 65.95it/s]\u001B[A\n",
      "Epoch 10: 100%|██████████| 1/1 [00:00<00:00, 20.12it/s, v_num=5, train/loss_step=19.40, val/loss=1.600, val/error_u=0.932, val/error_v=1.350, val/error_h=0.879, val/loss_best=1.600, train/loss_epoch=22.70]\n",
      "Validation: |          | 0/? [00:00<?, ?it/s]\u001B[A\n",
      "Validation: |          | 0/? [00:00<?, ?it/s]\u001B[A\n",
      "Validation DataLoader 0:   0%|          | 0/1 [00:00<?, ?it/s]\u001B[A\n",
      "Validation DataLoader 0: 100%|██████████| 1/1 [00:00<00:00, 89.74it/s]\u001B[A\n",
      "Epoch 11: 100%|██████████| 1/1 [00:00<00:00, 23.96it/s, v_num=5, train/loss_step=16.80, val/loss=1.600, val/error_u=0.929, val/error_v=1.350, val/error_h=0.879, val/loss_best=1.600, train/loss_epoch=19.40]\n",
      "Validation: |          | 0/? [00:00<?, ?it/s]\u001B[A\n",
      "Validation: |          | 0/? [00:00<?, ?it/s]\u001B[A\n",
      "Validation DataLoader 0:   0%|          | 0/1 [00:00<?, ?it/s]\u001B[A\n",
      "Validation DataLoader 0: 100%|██████████| 1/1 [00:00<00:00, 63.35it/s]\u001B[A\n",
      "Epoch 12: 100%|██████████| 1/1 [00:00<00:00, 21.75it/s, v_num=5, train/loss_step=14.40, val/loss=1.590, val/error_u=0.925, val/error_v=1.340, val/error_h=0.879, val/loss_best=1.590, train/loss_epoch=16.80]\n",
      "Validation: |          | 0/? [00:00<?, ?it/s]\u001B[A\n",
      "Validation: |          | 0/? [00:00<?, ?it/s]\u001B[A\n",
      "Validation DataLoader 0:   0%|          | 0/1 [00:00<?, ?it/s]\u001B[A\n",
      "Validation DataLoader 0: 100%|██████████| 1/1 [00:00<00:00, 67.56it/s]\u001B[A\n",
      "Epoch 13: 100%|██████████| 1/1 [00:00<00:00, 21.51it/s, v_num=5, train/loss_step=12.50, val/loss=1.580, val/error_u=0.921, val/error_v=1.340, val/error_h=0.877, val/loss_best=1.580, train/loss_epoch=14.40]\n",
      "Validation: |          | 0/? [00:00<?, ?it/s]\u001B[A\n",
      "Validation: |          | 0/? [00:00<?, ?it/s]\u001B[A\n",
      "Validation DataLoader 0:   0%|          | 0/1 [00:00<?, ?it/s]\u001B[A\n",
      "Validation DataLoader 0: 100%|██████████| 1/1 [00:00<00:00, 65.74it/s]\u001B[A\n",
      "Epoch 14: 100%|██████████| 1/1 [00:00<00:00, 22.72it/s, v_num=5, train/loss_step=10.90, val/loss=1.570, val/error_u=0.917, val/error_v=1.330, val/error_h=0.875, val/loss_best=1.570, train/loss_epoch=12.50]\n",
      "Validation: |          | 0/? [00:00<?, ?it/s]\u001B[A\n",
      "Validation: |          | 0/? [00:00<?, ?it/s]\u001B[A\n",
      "Validation DataLoader 0:   0%|          | 0/1 [00:00<?, ?it/s]\u001B[A\n",
      "Validation DataLoader 0: 100%|██████████| 1/1 [00:00<00:00, 67.91it/s]\u001B[A\n",
      "Epoch 15: 100%|██████████| 1/1 [00:00<00:00, 23.08it/s, v_num=5, train/loss_step=9.730, val/loss=1.550, val/error_u=0.914, val/error_v=1.330, val/error_h=0.872, val/loss_best=1.550, train/loss_epoch=10.90]\n",
      "Validation: |          | 0/? [00:00<?, ?it/s]\u001B[A\n",
      "Validation: |          | 0/? [00:00<?, ?it/s]\u001B[A\n",
      "Validation DataLoader 0:   0%|          | 0/1 [00:00<?, ?it/s]\u001B[A\n",
      "Validation DataLoader 0: 100%|██████████| 1/1 [00:00<00:00, 67.71it/s]\u001B[A\n",
      "Epoch 16: 100%|██████████| 1/1 [00:00<00:00, 23.76it/s, v_num=5, train/loss_step=8.700, val/loss=1.540, val/error_u=0.910, val/error_v=1.320, val/error_h=0.868, val/loss_best=1.540, train/loss_epoch=9.730]\n",
      "Validation: |          | 0/? [00:00<?, ?it/s]\u001B[A\n",
      "Validation: |          | 0/? [00:00<?, ?it/s]\u001B[A\n",
      "Validation DataLoader 0:   0%|          | 0/1 [00:00<?, ?it/s]\u001B[A\n",
      "Validation DataLoader 0: 100%|██████████| 1/1 [00:00<00:00, 65.30it/s]\u001B[A\n",
      "Epoch 17: 100%|██████████| 1/1 [00:00<00:00, 25.00it/s, v_num=5, train/loss_step=7.780, val/loss=1.530, val/error_u=0.908, val/error_v=1.320, val/error_h=0.864, val/loss_best=1.530, train/loss_epoch=8.700]\n",
      "Validation: |          | 0/? [00:00<?, ?it/s]\u001B[A\n",
      "Validation: |          | 0/? [00:00<?, ?it/s]\u001B[A\n",
      "Validation DataLoader 0:   0%|          | 0/1 [00:00<?, ?it/s]\u001B[A\n",
      "Validation DataLoader 0: 100%|██████████| 1/1 [00:00<00:00, 82.95it/s]\u001B[A\n",
      "Epoch 18: 100%|██████████| 1/1 [00:00<00:00, 22.73it/s, v_num=5, train/loss_step=6.970, val/loss=1.520, val/error_u=0.905, val/error_v=1.310, val/error_h=0.860, val/loss_best=1.520, train/loss_epoch=7.780]\n",
      "Validation: |          | 0/? [00:00<?, ?it/s]\u001B[A\n",
      "Validation: |          | 0/? [00:00<?, ?it/s]\u001B[A\n",
      "Validation DataLoader 0:   0%|          | 0/1 [00:00<?, ?it/s]\u001B[A\n",
      "Validation DataLoader 0: 100%|██████████| 1/1 [00:00<00:00, 79.55it/s]\u001B[A\n",
      "Epoch 19: 100%|██████████| 1/1 [00:00<00:00, 23.34it/s, v_num=5, train/loss_step=6.270, val/loss=1.510, val/error_u=0.903, val/error_v=1.310, val/error_h=0.857, val/loss_best=1.510, train/loss_epoch=6.970]\n",
      "Validation: |          | 0/? [00:00<?, ?it/s]\u001B[A\n",
      "Validation: |          | 0/? [00:00<?, ?it/s]\u001B[A\n",
      "Validation DataLoader 0:   0%|          | 0/1 [00:00<?, ?it/s]\u001B[A\n",
      "Validation DataLoader 0: 100%|██████████| 1/1 [00:00<00:00, 68.16it/s]\u001B[A\n",
      "Epoch 20: 100%|██████████| 1/1 [00:00<00:00, 24.19it/s, v_num=5, train/loss_step=5.680, val/loss=1.500, val/error_u=0.902, val/error_v=1.300, val/error_h=0.854, val/loss_best=1.500, train/loss_epoch=6.270]\n",
      "Validation: |          | 0/? [00:00<?, ?it/s]\u001B[A\n",
      "Validation: |          | 0/? [00:00<?, ?it/s]\u001B[A\n",
      "Validation DataLoader 0:   0%|          | 0/1 [00:00<?, ?it/s]\u001B[A\n",
      "Validation DataLoader 0: 100%|██████████| 1/1 [00:00<00:00, 72.91it/s]\u001B[A\n",
      "Epoch 21: 100%|██████████| 1/1 [00:00<00:00, 21.02it/s, v_num=5, train/loss_step=5.160, val/loss=1.490, val/error_u=0.900, val/error_v=1.300, val/error_h=0.850, val/loss_best=1.490, train/loss_epoch=5.680]\n",
      "Validation: |          | 0/? [00:00<?, ?it/s]\u001B[A\n",
      "Validation: |          | 0/? [00:00<?, ?it/s]\u001B[A\n",
      "Validation DataLoader 0:   0%|          | 0/1 [00:00<?, ?it/s]\u001B[A\n",
      "Validation DataLoader 0: 100%|██████████| 1/1 [00:00<00:00, 85.18it/s]\u001B[A\n",
      "Epoch 22: 100%|██████████| 1/1 [00:00<00:00, 24.91it/s, v_num=5, train/loss_step=4.710, val/loss=1.480, val/error_u=0.899, val/error_v=1.290, val/error_h=0.847, val/loss_best=1.480, train/loss_epoch=5.160]\n",
      "Validation: |          | 0/? [00:00<?, ?it/s]\u001B[A\n",
      "Validation: |          | 0/? [00:00<?, ?it/s]\u001B[A\n",
      "Validation DataLoader 0:   0%|          | 0/1 [00:00<?, ?it/s]\u001B[A\n",
      "Validation DataLoader 0: 100%|██████████| 1/1 [00:00<00:00, 85.08it/s]\u001B[A\n",
      "Epoch 23: 100%|██████████| 1/1 [00:00<00:00, 24.01it/s, v_num=5, train/loss_step=4.320, val/loss=1.470, val/error_u=0.898, val/error_v=1.290, val/error_h=0.845, val/loss_best=1.470, train/loss_epoch=4.710]\n",
      "Validation: |          | 0/? [00:00<?, ?it/s]\u001B[A\n",
      "Validation: |          | 0/? [00:00<?, ?it/s]\u001B[A\n",
      "Validation DataLoader 0:   0%|          | 0/1 [00:00<?, ?it/s]\u001B[A\n",
      "Validation DataLoader 0: 100%|██████████| 1/1 [00:00<00:00, 78.95it/s]\u001B[A\n",
      "Epoch 24: 100%|██████████| 1/1 [00:00<00:00, 23.43it/s, v_num=5, train/loss_step=3.980, val/loss=1.470, val/error_u=0.898, val/error_v=1.280, val/error_h=0.842, val/loss_best=1.470, train/loss_epoch=4.320]\n",
      "Validation: |          | 0/? [00:00<?, ?it/s]\u001B[A\n",
      "Validation: |          | 0/? [00:00<?, ?it/s]\u001B[A\n",
      "Validation DataLoader 0:   0%|          | 0/1 [00:00<?, ?it/s]\u001B[A\n",
      "Validation DataLoader 0: 100%|██████████| 1/1 [00:00<00:00, 88.64it/s]\u001B[A\n",
      "Epoch 25: 100%|██████████| 1/1 [00:00<00:00, 21.37it/s, v_num=5, train/loss_step=3.680, val/loss=1.460, val/error_u=0.897, val/error_v=1.280, val/error_h=0.840, val/loss_best=1.460, train/loss_epoch=3.980]\n",
      "Validation: |          | 0/? [00:00<?, ?it/s]\u001B[A\n",
      "Validation: |          | 0/? [00:00<?, ?it/s]\u001B[A\n",
      "Validation DataLoader 0:   0%|          | 0/1 [00:00<?, ?it/s]\u001B[A\n",
      "Validation DataLoader 0: 100%|██████████| 1/1 [00:00<00:00, 58.54it/s]\u001B[A\n",
      "Epoch 26: 100%|██████████| 1/1 [00:00<00:00, 21.01it/s, v_num=5, train/loss_step=3.410, val/loss=1.450, val/error_u=0.896, val/error_v=1.270, val/error_h=0.838, val/loss_best=1.450, train/loss_epoch=3.680]\n",
      "Validation: |          | 0/? [00:00<?, ?it/s]\u001B[A\n",
      "Validation: |          | 0/? [00:00<?, ?it/s]\u001B[A\n",
      "Validation DataLoader 0:   0%|          | 0/1 [00:00<?, ?it/s]\u001B[A\n",
      "Validation DataLoader 0: 100%|██████████| 1/1 [00:00<00:00, 67.89it/s]\u001B[A\n",
      "Epoch 27: 100%|██████████| 1/1 [00:00<00:00, 22.32it/s, v_num=5, train/loss_step=3.170, val/loss=1.440, val/error_u=0.894, val/error_v=1.260, val/error_h=0.836, val/loss_best=1.440, train/loss_epoch=3.410]\n",
      "Validation: |          | 0/? [00:00<?, ?it/s]\u001B[A\n",
      "Validation: |          | 0/? [00:00<?, ?it/s]\u001B[A\n",
      "Validation DataLoader 0:   0%|          | 0/1 [00:00<?, ?it/s]\u001B[A\n",
      "Validation DataLoader 0: 100%|██████████| 1/1 [00:00<00:00, 79.50it/s]\u001B[A\n",
      "Epoch 28: 100%|██████████| 1/1 [00:00<00:00, 20.88it/s, v_num=5, train/loss_step=2.940, val/loss=1.430, val/error_u=0.893, val/error_v=1.260, val/error_h=0.833, val/loss_best=1.430, train/loss_epoch=3.170]\n",
      "Validation: |          | 0/? [00:00<?, ?it/s]\u001B[A\n",
      "Validation: |          | 0/? [00:00<?, ?it/s]\u001B[A\n",
      "Validation DataLoader 0:   0%|          | 0/1 [00:00<?, ?it/s]\u001B[A\n",
      "Validation DataLoader 0: 100%|██████████| 1/1 [00:00<00:00, 73.39it/s]\u001B[A\n",
      "Epoch 29: 100%|██████████| 1/1 [00:00<00:00, 22.43it/s, v_num=5, train/loss_step=2.730, val/loss=1.420, val/error_u=0.891, val/error_v=1.250, val/error_h=0.831, val/loss_best=1.420, train/loss_epoch=2.940]\n",
      "Validation: |          | 0/? [00:00<?, ?it/s]\u001B[A\n",
      "Validation: |          | 0/? [00:00<?, ?it/s]\u001B[A\n",
      "Validation DataLoader 0:   0%|          | 0/1 [00:00<?, ?it/s]\u001B[A\n",
      "Validation DataLoader 0: 100%|██████████| 1/1 [00:00<00:00, 76.56it/s]\u001B[A\n",
      "Epoch 30: 100%|██████████| 1/1 [00:00<00:00, 23.21it/s, v_num=5, train/loss_step=2.540, val/loss=1.410, val/error_u=0.889, val/error_v=1.250, val/error_h=0.829, val/loss_best=1.410, train/loss_epoch=2.730]\n",
      "Validation: |          | 0/? [00:00<?, ?it/s]\u001B[A\n",
      "Validation: |          | 0/? [00:00<?, ?it/s]\u001B[A\n",
      "Validation DataLoader 0:   0%|          | 0/1 [00:00<?, ?it/s]\u001B[A\n",
      "Validation DataLoader 0: 100%|██████████| 1/1 [00:00<00:00, 61.73it/s]\u001B[A\n",
      "Epoch 31: 100%|██████████| 1/1 [00:00<00:00, 23.30it/s, v_num=5, train/loss_step=2.370, val/loss=1.400, val/error_u=0.887, val/error_v=1.240, val/error_h=0.827, val/loss_best=1.400, train/loss_epoch=2.540]\n",
      "Validation: |          | 0/? [00:00<?, ?it/s]\u001B[A\n",
      "Validation: |          | 0/? [00:00<?, ?it/s]\u001B[A\n",
      "Validation DataLoader 0:   0%|          | 0/1 [00:00<?, ?it/s]\u001B[A\n",
      "Validation DataLoader 0: 100%|██████████| 1/1 [00:00<00:00, 72.72it/s]\u001B[A\n",
      "Epoch 32: 100%|██████████| 1/1 [00:00<00:00, 23.20it/s, v_num=5, train/loss_step=2.220, val/loss=1.390, val/error_u=0.885, val/error_v=1.230, val/error_h=0.824, val/loss_best=1.390, train/loss_epoch=2.370]\n",
      "Validation: |          | 0/? [00:00<?, ?it/s]\u001B[A\n",
      "Validation: |          | 0/? [00:00<?, ?it/s]\u001B[A\n",
      "Validation DataLoader 0:   0%|          | 0/1 [00:00<?, ?it/s]\u001B[A\n",
      "Validation DataLoader 0: 100%|██████████| 1/1 [00:00<00:00, 77.47it/s]\u001B[A\n",
      "Epoch 33: 100%|██████████| 1/1 [00:00<00:00, 22.65it/s, v_num=5, train/loss_step=2.100, val/loss=1.390, val/error_u=0.883, val/error_v=1.230, val/error_h=0.822, val/loss_best=1.390, train/loss_epoch=2.220]\n",
      "Validation: |          | 0/? [00:00<?, ?it/s]\u001B[A\n",
      "Validation: |          | 0/? [00:00<?, ?it/s]\u001B[A\n",
      "Validation DataLoader 0:   0%|          | 0/1 [00:00<?, ?it/s]\u001B[A\n",
      "Validation DataLoader 0: 100%|██████████| 1/1 [00:00<00:00, 70.51it/s]\u001B[A\n",
      "Epoch 34: 100%|██████████| 1/1 [00:00<00:00, 22.87it/s, v_num=5, train/loss_step=1.980, val/loss=1.380, val/error_u=0.881, val/error_v=1.220, val/error_h=0.819, val/loss_best=1.380, train/loss_epoch=2.100]\n",
      "Validation: |          | 0/? [00:00<?, ?it/s]\u001B[A\n",
      "Validation: |          | 0/? [00:00<?, ?it/s]\u001B[A\n",
      "Validation DataLoader 0:   0%|          | 0/1 [00:00<?, ?it/s]\u001B[A\n",
      "Validation DataLoader 0: 100%|██████████| 1/1 [00:00<00:00, 62.03it/s]\u001B[A\n",
      "Epoch 35: 100%|██████████| 1/1 [00:00<00:00, 21.82it/s, v_num=5, train/loss_step=1.880, val/loss=1.370, val/error_u=0.880, val/error_v=1.220, val/error_h=0.817, val/loss_best=1.370, train/loss_epoch=1.980]\n",
      "Validation: |          | 0/? [00:00<?, ?it/s]\u001B[A\n",
      "Validation: |          | 0/? [00:00<?, ?it/s]\u001B[A\n",
      "Validation DataLoader 0:   0%|          | 0/1 [00:00<?, ?it/s]\u001B[A\n",
      "Validation DataLoader 0: 100%|██████████| 1/1 [00:00<00:00, 78.41it/s]\u001B[A\n",
      "Epoch 36: 100%|██████████| 1/1 [00:00<00:00, 22.76it/s, v_num=5, train/loss_step=1.780, val/loss=1.360, val/error_u=0.878, val/error_v=1.220, val/error_h=0.814, val/loss_best=1.360, train/loss_epoch=1.880]\n",
      "Validation: |          | 0/? [00:00<?, ?it/s]\u001B[A\n",
      "Validation: |          | 0/? [00:00<?, ?it/s]\u001B[A\n",
      "Validation DataLoader 0:   0%|          | 0/1 [00:00<?, ?it/s]\u001B[A\n",
      "Validation DataLoader 0: 100%|██████████| 1/1 [00:00<00:00, 78.84it/s]\u001B[A\n",
      "Epoch 37: 100%|██████████| 1/1 [00:00<00:00, 21.78it/s, v_num=5, train/loss_step=1.690, val/loss=1.350, val/error_u=0.876, val/error_v=1.210, val/error_h=0.812, val/loss_best=1.350, train/loss_epoch=1.780]\n",
      "Validation: |          | 0/? [00:00<?, ?it/s]\u001B[A\n",
      "Validation: |          | 0/? [00:00<?, ?it/s]\u001B[A\n",
      "Validation DataLoader 0:   0%|          | 0/1 [00:00<?, ?it/s]\u001B[A\n",
      "Validation DataLoader 0: 100%|██████████| 1/1 [00:00<00:00, 82.20it/s]\u001B[A\n",
      "Epoch 38: 100%|██████████| 1/1 [00:00<00:00, 20.58it/s, v_num=5, train/loss_step=1.620, val/loss=1.350, val/error_u=0.874, val/error_v=1.210, val/error_h=0.810, val/loss_best=1.350, train/loss_epoch=1.690]\n",
      "Validation: |          | 0/? [00:00<?, ?it/s]\u001B[A\n",
      "Validation: |          | 0/? [00:00<?, ?it/s]\u001B[A\n",
      "Validation DataLoader 0:   0%|          | 0/1 [00:00<?, ?it/s]\u001B[A\n",
      "Validation DataLoader 0: 100%|██████████| 1/1 [00:00<00:00, 85.22it/s]\u001B[A\n",
      "Epoch 39: 100%|██████████| 1/1 [00:00<00:00, 22.41it/s, v_num=5, train/loss_step=1.540, val/loss=1.340, val/error_u=0.873, val/error_v=1.200, val/error_h=0.808, val/loss_best=1.340, train/loss_epoch=1.620]\n",
      "Validation: |          | 0/? [00:00<?, ?it/s]\u001B[A\n",
      "Validation: |          | 0/? [00:00<?, ?it/s]\u001B[A\n",
      "Validation DataLoader 0:   0%|          | 0/1 [00:00<?, ?it/s]\u001B[A\n",
      "Validation DataLoader 0: 100%|██████████| 1/1 [00:00<00:00, 75.29it/s]\u001B[A\n",
      "Epoch 40: 100%|██████████| 1/1 [00:00<00:00, 21.16it/s, v_num=5, train/loss_step=1.480, val/loss=1.330, val/error_u=0.871, val/error_v=1.200, val/error_h=0.806, val/loss_best=1.330, train/loss_epoch=1.540]\n",
      "Validation: |          | 0/? [00:00<?, ?it/s]\u001B[A\n",
      "Validation: |          | 0/? [00:00<?, ?it/s]\u001B[A\n",
      "Validation DataLoader 0:   0%|          | 0/1 [00:00<?, ?it/s]\u001B[A\n",
      "Validation DataLoader 0: 100%|██████████| 1/1 [00:00<00:00, 72.82it/s]\u001B[A\n",
      "Epoch 41: 100%|██████████| 1/1 [00:00<00:00, 19.73it/s, v_num=5, train/loss_step=1.410, val/loss=1.330, val/error_u=0.870, val/error_v=1.200, val/error_h=0.804, val/loss_best=1.330, train/loss_epoch=1.480]\n",
      "Validation: |          | 0/? [00:00<?, ?it/s]\u001B[A\n",
      "Validation: |          | 0/? [00:00<?, ?it/s]\u001B[A\n",
      "Validation DataLoader 0:   0%|          | 0/1 [00:00<?, ?it/s]\u001B[A\n",
      "Validation DataLoader 0: 100%|██████████| 1/1 [00:00<00:00, 65.81it/s]\u001B[A\n",
      "Epoch 42: 100%|██████████| 1/1 [00:00<00:00, 20.87it/s, v_num=5, train/loss_step=1.360, val/loss=1.320, val/error_u=0.869, val/error_v=1.190, val/error_h=0.802, val/loss_best=1.320, train/loss_epoch=1.410]\n",
      "Validation: |          | 0/? [00:00<?, ?it/s]\u001B[A\n",
      "Validation: |          | 0/? [00:00<?, ?it/s]\u001B[A\n",
      "Validation DataLoader 0:   0%|          | 0/1 [00:00<?, ?it/s]\u001B[A\n",
      "Validation DataLoader 0: 100%|██████████| 1/1 [00:00<00:00, 70.57it/s]\u001B[A\n",
      "Epoch 43: 100%|██████████| 1/1 [00:00<00:00, 20.43it/s, v_num=5, train/loss_step=1.300, val/loss=1.320, val/error_u=0.867, val/error_v=1.190, val/error_h=0.801, val/loss_best=1.320, train/loss_epoch=1.360]\n",
      "Validation: |          | 0/? [00:00<?, ?it/s]\u001B[A\n",
      "Validation: |          | 0/? [00:00<?, ?it/s]\u001B[A\n",
      "Validation DataLoader 0:   0%|          | 0/1 [00:00<?, ?it/s]\u001B[A\n",
      "Validation DataLoader 0: 100%|██████████| 1/1 [00:00<00:00, 72.91it/s]\u001B[A\n",
      "Epoch 44: 100%|██████████| 1/1 [00:00<00:00, 22.70it/s, v_num=5, train/loss_step=1.250, val/loss=1.310, val/error_u=0.866, val/error_v=1.190, val/error_h=0.799, val/loss_best=1.310, train/loss_epoch=1.300]\n",
      "Validation: |          | 0/? [00:00<?, ?it/s]\u001B[A\n",
      "Validation: |          | 0/? [00:00<?, ?it/s]\u001B[A\n",
      "Validation DataLoader 0:   0%|          | 0/1 [00:00<?, ?it/s]\u001B[A\n",
      "Validation DataLoader 0: 100%|██████████| 1/1 [00:00<00:00, 76.46it/s]\u001B[A\n",
      "Epoch 45: 100%|██████████| 1/1 [00:00<00:00, 22.30it/s, v_num=5, train/loss_step=1.210, val/loss=1.300, val/error_u=0.865, val/error_v=1.180, val/error_h=0.798, val/loss_best=1.300, train/loss_epoch=1.250]\n",
      "Validation: |          | 0/? [00:00<?, ?it/s]\u001B[A\n",
      "Validation: |          | 0/? [00:00<?, ?it/s]\u001B[A\n",
      "Validation DataLoader 0:   0%|          | 0/1 [00:00<?, ?it/s]\u001B[A\n",
      "Validation DataLoader 0: 100%|██████████| 1/1 [00:00<00:00, 68.51it/s]\u001B[A\n",
      "Epoch 46: 100%|██████████| 1/1 [00:00<00:00, 19.69it/s, v_num=5, train/loss_step=1.160, val/loss=1.300, val/error_u=0.864, val/error_v=1.180, val/error_h=0.796, val/loss_best=1.300, train/loss_epoch=1.210]\n",
      "Validation: |          | 0/? [00:00<?, ?it/s]\u001B[A\n",
      "Validation: |          | 0/? [00:00<?, ?it/s]\u001B[A\n",
      "Validation DataLoader 0:   0%|          | 0/1 [00:00<?, ?it/s]\u001B[A\n",
      "Validation DataLoader 0: 100%|██████████| 1/1 [00:00<00:00, 72.53it/s]\u001B[A\n",
      "Epoch 47: 100%|██████████| 1/1 [00:00<00:00, 23.10it/s, v_num=5, train/loss_step=1.120, val/loss=1.290, val/error_u=0.863, val/error_v=1.180, val/error_h=0.795, val/loss_best=1.290, train/loss_epoch=1.160]\n",
      "Validation: |          | 0/? [00:00<?, ?it/s]\u001B[A\n",
      "Validation: |          | 0/? [00:00<?, ?it/s]\u001B[A\n",
      "Validation DataLoader 0:   0%|          | 0/1 [00:00<?, ?it/s]\u001B[A\n",
      "Validation DataLoader 0: 100%|██████████| 1/1 [00:00<00:00, 70.76it/s]\u001B[A\n",
      "Epoch 48: 100%|██████████| 1/1 [00:00<00:00, 23.82it/s, v_num=5, train/loss_step=1.090, val/loss=1.290, val/error_u=0.862, val/error_v=1.170, val/error_h=0.794, val/loss_best=1.290, train/loss_epoch=1.120]\n",
      "Validation: |          | 0/? [00:00<?, ?it/s]\u001B[A\n",
      "Validation: |          | 0/? [00:00<?, ?it/s]\u001B[A\n",
      "Validation DataLoader 0:   0%|          | 0/1 [00:00<?, ?it/s]\u001B[A\n",
      "Validation DataLoader 0: 100%|██████████| 1/1 [00:00<00:00, 69.53it/s]\u001B[A\n",
      "Epoch 49: 100%|██████████| 1/1 [00:00<00:00, 23.70it/s, v_num=5, train/loss_step=1.050, val/loss=1.290, val/error_u=0.862, val/error_v=1.170, val/error_h=0.792, val/loss_best=1.290, train/loss_epoch=1.090]\n",
      "Validation: |          | 0/? [00:00<?, ?it/s]\u001B[A\n",
      "Validation: |          | 0/? [00:00<?, ?it/s]\u001B[A\n",
      "Validation DataLoader 0:   0%|          | 0/1 [00:00<?, ?it/s]\u001B[A\n",
      "Validation DataLoader 0: 100%|██████████| 1/1 [00:00<00:00, 71.67it/s]\u001B[A\n",
      "Epoch 50: 100%|██████████| 1/1 [00:00<00:00, 22.73it/s, v_num=5, train/loss_step=1.020, val/loss=1.280, val/error_u=0.861, val/error_v=1.170, val/error_h=0.791, val/loss_best=1.280, train/loss_epoch=1.050]\n",
      "Validation: |          | 0/? [00:00<?, ?it/s]\u001B[A\n",
      "Validation: |          | 0/? [00:00<?, ?it/s]\u001B[A\n",
      "Validation DataLoader 0:   0%|          | 0/1 [00:00<?, ?it/s]\u001B[A\n",
      "Validation DataLoader 0: 100%|██████████| 1/1 [00:00<00:00, 76.22it/s]\u001B[A\n",
      "Epoch 51: 100%|██████████| 1/1 [00:00<00:00, 22.24it/s, v_num=5, train/loss_step=0.986, val/loss=1.280, val/error_u=0.860, val/error_v=1.160, val/error_h=0.790, val/loss_best=1.280, train/loss_epoch=1.020]\n",
      "Validation: |          | 0/? [00:00<?, ?it/s]\u001B[A\n",
      "Validation: |          | 0/? [00:00<?, ?it/s]\u001B[A\n",
      "Validation DataLoader 0:   0%|          | 0/1 [00:00<?, ?it/s]\u001B[A\n",
      "Validation DataLoader 0: 100%|██████████| 1/1 [00:00<00:00, 79.36it/s]\u001B[A\n",
      "Epoch 52: 100%|██████████| 1/1 [00:00<00:00, 22.11it/s, v_num=5, train/loss_step=0.957, val/loss=1.270, val/error_u=0.859, val/error_v=1.160, val/error_h=0.788, val/loss_best=1.270, train/loss_epoch=0.986]\n",
      "Validation: |          | 0/? [00:00<?, ?it/s]\u001B[A\n",
      "Validation: |          | 0/? [00:00<?, ?it/s]\u001B[A\n",
      "Validation DataLoader 0:   0%|          | 0/1 [00:00<?, ?it/s]\u001B[A\n",
      "Validation DataLoader 0: 100%|██████████| 1/1 [00:00<00:00, 79.63it/s]\u001B[A\n",
      "Epoch 53: 100%|██████████| 1/1 [00:00<00:00, 21.50it/s, v_num=5, train/loss_step=0.930, val/loss=1.270, val/error_u=0.858, val/error_v=1.160, val/error_h=0.787, val/loss_best=1.270, train/loss_epoch=0.957]\n",
      "Validation: |          | 0/? [00:00<?, ?it/s]\u001B[A\n",
      "Validation: |          | 0/? [00:00<?, ?it/s]\u001B[A\n",
      "Validation DataLoader 0:   0%|          | 0/1 [00:00<?, ?it/s]\u001B[A\n",
      "Validation DataLoader 0: 100%|██████████| 1/1 [00:00<00:00, 74.53it/s]\u001B[A\n",
      "Epoch 54: 100%|██████████| 1/1 [00:00<00:00, 21.73it/s, v_num=5, train/loss_step=0.906, val/loss=1.260, val/error_u=0.857, val/error_v=1.150, val/error_h=0.786, val/loss_best=1.260, train/loss_epoch=0.930]\n",
      "Validation: |          | 0/? [00:00<?, ?it/s]\u001B[A\n",
      "Validation: |          | 0/? [00:00<?, ?it/s]\u001B[A\n",
      "Validation DataLoader 0:   0%|          | 0/1 [00:00<?, ?it/s]\u001B[A\n",
      "Validation DataLoader 0: 100%|██████████| 1/1 [00:00<00:00, 73.20it/s]\u001B[A\n",
      "Epoch 55: 100%|██████████| 1/1 [00:00<00:00, 21.92it/s, v_num=5, train/loss_step=0.882, val/loss=1.260, val/error_u=0.856, val/error_v=1.150, val/error_h=0.785, val/loss_best=1.260, train/loss_epoch=0.906]\n",
      "Validation: |          | 0/? [00:00<?, ?it/s]\u001B[A\n",
      "Validation: |          | 0/? [00:00<?, ?it/s]\u001B[A\n",
      "Validation DataLoader 0:   0%|          | 0/1 [00:00<?, ?it/s]\u001B[A\n",
      "Validation DataLoader 0: 100%|██████████| 1/1 [00:00<00:00, 78.49it/s]\u001B[A\n",
      "Epoch 56: 100%|██████████| 1/1 [00:00<00:00, 21.64it/s, v_num=5, train/loss_step=0.860, val/loss=1.250, val/error_u=0.855, val/error_v=1.150, val/error_h=0.783, val/loss_best=1.250, train/loss_epoch=0.882]\n",
      "Validation: |          | 0/? [00:00<?, ?it/s]\u001B[A\n",
      "Validation: |          | 0/? [00:00<?, ?it/s]\u001B[A\n",
      "Validation DataLoader 0:   0%|          | 0/1 [00:00<?, ?it/s]\u001B[A\n",
      "Validation DataLoader 0: 100%|██████████| 1/1 [00:00<00:00, 78.73it/s]\u001B[A\n",
      "Epoch 57: 100%|██████████| 1/1 [00:00<00:00, 22.14it/s, v_num=5, train/loss_step=0.839, val/loss=1.250, val/error_u=0.854, val/error_v=1.150, val/error_h=0.782, val/loss_best=1.250, train/loss_epoch=0.860]\n",
      "Validation: |          | 0/? [00:00<?, ?it/s]\u001B[A\n",
      "Validation: |          | 0/? [00:00<?, ?it/s]\u001B[A\n",
      "Validation DataLoader 0:   0%|          | 0/1 [00:00<?, ?it/s]\u001B[A\n",
      "Validation DataLoader 0: 100%|██████████| 1/1 [00:00<00:00, 73.65it/s]\u001B[A\n",
      "Epoch 58: 100%|██████████| 1/1 [00:00<00:00, 21.79it/s, v_num=5, train/loss_step=0.820, val/loss=1.250, val/error_u=0.853, val/error_v=1.140, val/error_h=0.781, val/loss_best=1.250, train/loss_epoch=0.839]\n",
      "Validation: |          | 0/? [00:00<?, ?it/s]\u001B[A\n",
      "Validation: |          | 0/? [00:00<?, ?it/s]\u001B[A\n",
      "Validation DataLoader 0:   0%|          | 0/1 [00:00<?, ?it/s]\u001B[A\n",
      "Validation DataLoader 0: 100%|██████████| 1/1 [00:00<00:00, 63.51it/s]\u001B[A\n",
      "Epoch 59: 100%|██████████| 1/1 [00:00<00:00, 21.61it/s, v_num=5, train/loss_step=0.802, val/loss=1.240, val/error_u=0.853, val/error_v=1.140, val/error_h=0.780, val/loss_best=1.240, train/loss_epoch=0.820]\n",
      "Validation: |          | 0/? [00:00<?, ?it/s]\u001B[A\n",
      "Validation: |          | 0/? [00:00<?, ?it/s]\u001B[A\n",
      "Validation DataLoader 0:   0%|          | 0/1 [00:00<?, ?it/s]\u001B[A\n",
      "Validation DataLoader 0: 100%|██████████| 1/1 [00:00<00:00, 72.46it/s]\u001B[A\n",
      "Epoch 60: 100%|██████████| 1/1 [00:00<00:00, 21.06it/s, v_num=5, train/loss_step=0.784, val/loss=1.240, val/error_u=0.852, val/error_v=1.140, val/error_h=0.779, val/loss_best=1.240, train/loss_epoch=0.802]\n",
      "Validation: |          | 0/? [00:00<?, ?it/s]\u001B[A\n",
      "Validation: |          | 0/? [00:00<?, ?it/s]\u001B[A\n",
      "Validation DataLoader 0:   0%|          | 0/1 [00:00<?, ?it/s]\u001B[A\n",
      "Validation DataLoader 0: 100%|██████████| 1/1 [00:00<00:00, 72.39it/s]\u001B[A\n",
      "Epoch 61: 100%|██████████| 1/1 [00:00<00:00, 20.44it/s, v_num=5, train/loss_step=0.768, val/loss=1.230, val/error_u=0.851, val/error_v=1.140, val/error_h=0.778, val/loss_best=1.230, train/loss_epoch=0.784]\n",
      "Validation: |          | 0/? [00:00<?, ?it/s]\u001B[A\n",
      "Validation: |          | 0/? [00:00<?, ?it/s]\u001B[A\n",
      "Validation DataLoader 0:   0%|          | 0/1 [00:00<?, ?it/s]\u001B[A\n",
      "Validation DataLoader 0: 100%|██████████| 1/1 [00:00<00:00, 70.35it/s]\u001B[A\n",
      "Epoch 62: 100%|██████████| 1/1 [00:00<00:00, 21.03it/s, v_num=5, train/loss_step=0.752, val/loss=1.230, val/error_u=0.850, val/error_v=1.130, val/error_h=0.776, val/loss_best=1.230, train/loss_epoch=0.768]\n",
      "Validation: |          | 0/? [00:00<?, ?it/s]\u001B[A\n",
      "Validation: |          | 0/? [00:00<?, ?it/s]\u001B[A\n",
      "Validation DataLoader 0:   0%|          | 0/1 [00:00<?, ?it/s]\u001B[A\n",
      "Validation DataLoader 0: 100%|██████████| 1/1 [00:00<00:00, 76.55it/s]\u001B[A\n",
      "Epoch 63: 100%|██████████| 1/1 [00:00<00:00, 20.37it/s, v_num=5, train/loss_step=0.737, val/loss=1.230, val/error_u=0.849, val/error_v=1.130, val/error_h=0.775, val/loss_best=1.230, train/loss_epoch=0.752]\n",
      "Validation: |          | 0/? [00:00<?, ?it/s]\u001B[A\n",
      "Validation: |          | 0/? [00:00<?, ?it/s]\u001B[A\n",
      "Validation DataLoader 0:   0%|          | 0/1 [00:00<?, ?it/s]\u001B[A\n",
      "Validation DataLoader 0: 100%|██████████| 1/1 [00:00<00:00, 77.44it/s]\u001B[A\n",
      "Epoch 64: 100%|██████████| 1/1 [00:00<00:00, 21.31it/s, v_num=5, train/loss_step=0.723, val/loss=1.220, val/error_u=0.849, val/error_v=1.130, val/error_h=0.774, val/loss_best=1.220, train/loss_epoch=0.737]\n",
      "Validation: |          | 0/? [00:00<?, ?it/s]\u001B[A\n",
      "Validation: |          | 0/? [00:00<?, ?it/s]\u001B[A\n",
      "Validation DataLoader 0:   0%|          | 0/1 [00:00<?, ?it/s]\u001B[A\n",
      "Validation DataLoader 0: 100%|██████████| 1/1 [00:00<00:00, 75.44it/s]\u001B[A\n",
      "Epoch 65: 100%|██████████| 1/1 [00:00<00:00, 22.17it/s, v_num=5, train/loss_step=0.710, val/loss=1.220, val/error_u=0.848, val/error_v=1.130, val/error_h=0.773, val/loss_best=1.220, train/loss_epoch=0.723]\n",
      "Validation: |          | 0/? [00:00<?, ?it/s]\u001B[A\n",
      "Validation: |          | 0/? [00:00<?, ?it/s]\u001B[A\n",
      "Validation DataLoader 0:   0%|          | 0/1 [00:00<?, ?it/s]\u001B[A\n",
      "Validation DataLoader 0: 100%|██████████| 1/1 [00:00<00:00, 68.11it/s]\u001B[A\n",
      "Epoch 66: 100%|██████████| 1/1 [00:00<00:00, 22.22it/s, v_num=5, train/loss_step=0.697, val/loss=1.220, val/error_u=0.847, val/error_v=1.120, val/error_h=0.772, val/loss_best=1.220, train/loss_epoch=0.710]\n",
      "Validation: |          | 0/? [00:00<?, ?it/s]\u001B[A\n",
      "Validation: |          | 0/? [00:00<?, ?it/s]\u001B[A\n",
      "Validation DataLoader 0:   0%|          | 0/1 [00:00<?, ?it/s]\u001B[A\n",
      "Validation DataLoader 0: 100%|██████████| 1/1 [00:00<00:00, 70.25it/s]\u001B[A\n",
      "Epoch 67: 100%|██████████| 1/1 [00:00<00:00, 19.99it/s, v_num=5, train/loss_step=0.684, val/loss=1.210, val/error_u=0.847, val/error_v=1.120, val/error_h=0.771, val/loss_best=1.210, train/loss_epoch=0.697]\n",
      "Validation: |          | 0/? [00:00<?, ?it/s]\u001B[A\n",
      "Validation: |          | 0/? [00:00<?, ?it/s]\u001B[A\n",
      "Validation DataLoader 0:   0%|          | 0/1 [00:00<?, ?it/s]\u001B[A\n",
      "Validation DataLoader 0: 100%|██████████| 1/1 [00:00<00:00, 69.84it/s]\u001B[A\n",
      "Epoch 68: 100%|██████████| 1/1 [00:00<00:00, 22.20it/s, v_num=5, train/loss_step=0.673, val/loss=1.210, val/error_u=0.846, val/error_v=1.120, val/error_h=0.771, val/loss_best=1.210, train/loss_epoch=0.684]\n",
      "Validation: |          | 0/? [00:00<?, ?it/s]\u001B[A\n",
      "Validation: |          | 0/? [00:00<?, ?it/s]\u001B[A\n",
      "Validation DataLoader 0:   0%|          | 0/1 [00:00<?, ?it/s]\u001B[A\n",
      "Validation DataLoader 0: 100%|██████████| 1/1 [00:00<00:00, 76.39it/s]\u001B[A\n",
      "Epoch 69: 100%|██████████| 1/1 [00:00<00:00, 23.11it/s, v_num=5, train/loss_step=0.661, val/loss=1.210, val/error_u=0.846, val/error_v=1.120, val/error_h=0.770, val/loss_best=1.210, train/loss_epoch=0.673]\n",
      "Validation: |          | 0/? [00:00<?, ?it/s]\u001B[A\n",
      "Validation: |          | 0/? [00:00<?, ?it/s]\u001B[A\n",
      "Validation DataLoader 0:   0%|          | 0/1 [00:00<?, ?it/s]\u001B[A\n",
      "Validation DataLoader 0: 100%|██████████| 1/1 [00:00<00:00, 76.15it/s]\u001B[A\n",
      "Epoch 70: 100%|██████████| 1/1 [00:00<00:00, 21.06it/s, v_num=5, train/loss_step=0.650, val/loss=1.200, val/error_u=0.845, val/error_v=1.120, val/error_h=0.769, val/loss_best=1.200, train/loss_epoch=0.661]\n",
      "Validation: |          | 0/? [00:00<?, ?it/s]\u001B[A\n",
      "Validation: |          | 0/? [00:00<?, ?it/s]\u001B[A\n",
      "Validation DataLoader 0:   0%|          | 0/1 [00:00<?, ?it/s]\u001B[A\n",
      "Validation DataLoader 0: 100%|██████████| 1/1 [00:00<00:00, 68.71it/s]\u001B[A\n",
      "Epoch 71: 100%|██████████| 1/1 [00:00<00:00, 23.57it/s, v_num=5, train/loss_step=0.640, val/loss=1.200, val/error_u=0.845, val/error_v=1.110, val/error_h=0.768, val/loss_best=1.200, train/loss_epoch=0.650]\n",
      "Validation: |          | 0/? [00:00<?, ?it/s]\u001B[A\n",
      "Validation: |          | 0/? [00:00<?, ?it/s]\u001B[A\n",
      "Validation DataLoader 0:   0%|          | 0/1 [00:00<?, ?it/s]\u001B[A\n",
      "Validation DataLoader 0: 100%|██████████| 1/1 [00:00<00:00, 70.08it/s]\u001B[A\n",
      "Epoch 72: 100%|██████████| 1/1 [00:00<00:00, 21.30it/s, v_num=5, train/loss_step=0.630, val/loss=1.200, val/error_u=0.844, val/error_v=1.110, val/error_h=0.767, val/loss_best=1.200, train/loss_epoch=0.640]\n",
      "Validation: |          | 0/? [00:00<?, ?it/s]\u001B[A\n",
      "Validation: |          | 0/? [00:00<?, ?it/s]\u001B[A\n",
      "Validation DataLoader 0:   0%|          | 0/1 [00:00<?, ?it/s]\u001B[A\n",
      "Validation DataLoader 0: 100%|██████████| 1/1 [00:00<00:00, 76.31it/s]\u001B[A\n",
      "Epoch 73: 100%|██████████| 1/1 [00:00<00:00, 21.40it/s, v_num=5, train/loss_step=0.621, val/loss=1.200, val/error_u=0.843, val/error_v=1.110, val/error_h=0.766, val/loss_best=1.200, train/loss_epoch=0.630]\n",
      "Validation: |          | 0/? [00:00<?, ?it/s]\u001B[A\n",
      "Validation: |          | 0/? [00:00<?, ?it/s]\u001B[A\n",
      "Validation DataLoader 0:   0%|          | 0/1 [00:00<?, ?it/s]\u001B[A\n",
      "Validation DataLoader 0: 100%|██████████| 1/1 [00:00<00:00, 79.10it/s]\u001B[A\n",
      "Epoch 74: 100%|██████████| 1/1 [00:00<00:00, 20.03it/s, v_num=5, train/loss_step=0.612, val/loss=1.190, val/error_u=0.843, val/error_v=1.110, val/error_h=0.765, val/loss_best=1.190, train/loss_epoch=0.621]\n",
      "Validation: |          | 0/? [00:00<?, ?it/s]\u001B[A\n",
      "Validation: |          | 0/? [00:00<?, ?it/s]\u001B[A\n",
      "Validation DataLoader 0:   0%|          | 0/1 [00:00<?, ?it/s]\u001B[A\n",
      "Validation DataLoader 0: 100%|██████████| 1/1 [00:00<00:00, 78.91it/s]\u001B[A\n",
      "Epoch 75: 100%|██████████| 1/1 [00:00<00:00, 23.52it/s, v_num=5, train/loss_step=0.603, val/loss=1.190, val/error_u=0.843, val/error_v=1.110, val/error_h=0.764, val/loss_best=1.190, train/loss_epoch=0.612]\n",
      "Validation: |          | 0/? [00:00<?, ?it/s]\u001B[A\n",
      "Validation: |          | 0/? [00:00<?, ?it/s]\u001B[A\n",
      "Validation DataLoader 0:   0%|          | 0/1 [00:00<?, ?it/s]\u001B[A\n",
      "Validation DataLoader 0: 100%|██████████| 1/1 [00:00<00:00, 59.73it/s]\u001B[A\n",
      "Epoch 76: 100%|██████████| 1/1 [00:00<00:00, 20.59it/s, v_num=5, train/loss_step=0.594, val/loss=1.190, val/error_u=0.842, val/error_v=1.100, val/error_h=0.764, val/loss_best=1.190, train/loss_epoch=0.603]\n",
      "Validation: |          | 0/? [00:00<?, ?it/s]\u001B[A\n",
      "Validation: |          | 0/? [00:00<?, ?it/s]\u001B[A\n",
      "Validation DataLoader 0:   0%|          | 0/1 [00:00<?, ?it/s]\u001B[A\n",
      "Validation DataLoader 0: 100%|██████████| 1/1 [00:00<00:00, 82.24it/s]\u001B[A\n",
      "Epoch 77: 100%|██████████| 1/1 [00:00<00:00, 22.02it/s, v_num=5, train/loss_step=0.586, val/loss=1.190, val/error_u=0.842, val/error_v=1.100, val/error_h=0.763, val/loss_best=1.190, train/loss_epoch=0.594]\n",
      "Validation: |          | 0/? [00:00<?, ?it/s]\u001B[A\n",
      "Validation: |          | 0/? [00:00<?, ?it/s]\u001B[A\n",
      "Validation DataLoader 0:   0%|          | 0/1 [00:00<?, ?it/s]\u001B[A\n",
      "Validation DataLoader 0: 100%|██████████| 1/1 [00:00<00:00, 52.19it/s]\u001B[A\n",
      "Epoch 78: 100%|██████████| 1/1 [00:00<00:00, 20.00it/s, v_num=5, train/loss_step=0.578, val/loss=1.180, val/error_u=0.841, val/error_v=1.100, val/error_h=0.762, val/loss_best=1.180, train/loss_epoch=0.586]\n",
      "Validation: |          | 0/? [00:00<?, ?it/s]\u001B[A\n",
      "Validation: |          | 0/? [00:00<?, ?it/s]\u001B[A\n",
      "Validation DataLoader 0:   0%|          | 0/1 [00:00<?, ?it/s]\u001B[A\n",
      "Validation DataLoader 0: 100%|██████████| 1/1 [00:00<00:00, 76.29it/s]\u001B[A\n",
      "Epoch 79: 100%|██████████| 1/1 [00:00<00:00, 21.98it/s, v_num=5, train/loss_step=0.570, val/loss=1.180, val/error_u=0.841, val/error_v=1.100, val/error_h=0.761, val/loss_best=1.180, train/loss_epoch=0.578]\n",
      "Validation: |          | 0/? [00:00<?, ?it/s]\u001B[A\n",
      "Validation: |          | 0/? [00:00<?, ?it/s]\u001B[A\n",
      "Validation DataLoader 0:   0%|          | 0/1 [00:00<?, ?it/s]\u001B[A\n",
      "Validation DataLoader 0: 100%|██████████| 1/1 [00:00<00:00, 81.69it/s]\u001B[A\n",
      "Epoch 80: 100%|██████████| 1/1 [00:00<00:00, 21.08it/s, v_num=5, train/loss_step=0.562, val/loss=1.180, val/error_u=0.840, val/error_v=1.100, val/error_h=0.761, val/loss_best=1.180, train/loss_epoch=0.570]\n",
      "Validation: |          | 0/? [00:00<?, ?it/s]\u001B[A\n",
      "Validation: |          | 0/? [00:00<?, ?it/s]\u001B[A\n",
      "Validation DataLoader 0:   0%|          | 0/1 [00:00<?, ?it/s]\u001B[A\n",
      "Validation DataLoader 0: 100%|██████████| 1/1 [00:00<00:00, 75.74it/s]\u001B[A\n",
      "Epoch 81: 100%|██████████| 1/1 [00:00<00:00, 22.17it/s, v_num=5, train/loss_step=0.555, val/loss=1.180, val/error_u=0.840, val/error_v=1.100, val/error_h=0.760, val/loss_best=1.180, train/loss_epoch=0.562]\n",
      "Validation: |          | 0/? [00:00<?, ?it/s]\u001B[A\n",
      "Validation: |          | 0/? [00:00<?, ?it/s]\u001B[A\n",
      "Validation DataLoader 0:   0%|          | 0/1 [00:00<?, ?it/s]\u001B[A\n",
      "Validation DataLoader 0: 100%|██████████| 1/1 [00:00<00:00, 76.27it/s]\u001B[A\n",
      "Epoch 82: 100%|██████████| 1/1 [00:00<00:00, 20.89it/s, v_num=5, train/loss_step=0.548, val/loss=1.170, val/error_u=0.840, val/error_v=1.100, val/error_h=0.759, val/loss_best=1.170, train/loss_epoch=0.555]\n",
      "Validation: |          | 0/? [00:00<?, ?it/s]\u001B[A\n",
      "Validation: |          | 0/? [00:00<?, ?it/s]\u001B[A\n",
      "Validation DataLoader 0:   0%|          | 0/1 [00:00<?, ?it/s]\u001B[A\n",
      "Validation DataLoader 0: 100%|██████████| 1/1 [00:00<00:00, 68.07it/s]\u001B[A\n",
      "Epoch 83: 100%|██████████| 1/1 [00:00<00:00, 21.40it/s, v_num=5, train/loss_step=0.541, val/loss=1.170, val/error_u=0.839, val/error_v=1.090, val/error_h=0.758, val/loss_best=1.170, train/loss_epoch=0.548]\n",
      "Validation: |          | 0/? [00:00<?, ?it/s]\u001B[A\n",
      "Validation: |          | 0/? [00:00<?, ?it/s]\u001B[A\n",
      "Validation DataLoader 0:   0%|          | 0/1 [00:00<?, ?it/s]\u001B[A\n",
      "Validation DataLoader 0: 100%|██████████| 1/1 [00:00<00:00, 70.60it/s]\u001B[A\n",
      "Epoch 84: 100%|██████████| 1/1 [00:00<00:00, 21.41it/s, v_num=5, train/loss_step=0.535, val/loss=1.170, val/error_u=0.839, val/error_v=1.090, val/error_h=0.758, val/loss_best=1.170, train/loss_epoch=0.541]\n",
      "Validation: |          | 0/? [00:00<?, ?it/s]\u001B[A\n",
      "Validation: |          | 0/? [00:00<?, ?it/s]\u001B[A\n",
      "Validation DataLoader 0:   0%|          | 0/1 [00:00<?, ?it/s]\u001B[A\n",
      "Validation DataLoader 0: 100%|██████████| 1/1 [00:00<00:00, 85.32it/s]\u001B[A\n",
      "Epoch 85: 100%|██████████| 1/1 [00:00<00:00, 21.63it/s, v_num=5, train/loss_step=0.528, val/loss=1.170, val/error_u=0.838, val/error_v=1.090, val/error_h=0.757, val/loss_best=1.170, train/loss_epoch=0.535]\n",
      "Validation: |          | 0/? [00:00<?, ?it/s]\u001B[A\n",
      "Validation: |          | 0/? [00:00<?, ?it/s]\u001B[A\n",
      "Validation DataLoader 0:   0%|          | 0/1 [00:00<?, ?it/s]\u001B[A\n",
      "Validation DataLoader 0: 100%|██████████| 1/1 [00:00<00:00, 82.72it/s]\u001B[A\n",
      "Epoch 86: 100%|██████████| 1/1 [00:00<00:00, 23.77it/s, v_num=5, train/loss_step=0.522, val/loss=1.170, val/error_u=0.838, val/error_v=1.090, val/error_h=0.756, val/loss_best=1.170, train/loss_epoch=0.528]\n",
      "Validation: |          | 0/? [00:00<?, ?it/s]\u001B[A\n",
      "Validation: |          | 0/? [00:00<?, ?it/s]\u001B[A\n",
      "Validation DataLoader 0:   0%|          | 0/1 [00:00<?, ?it/s]\u001B[A\n",
      "Validation DataLoader 0: 100%|██████████| 1/1 [00:00<00:00, 74.98it/s]\u001B[A\n",
      "Epoch 87: 100%|██████████| 1/1 [00:00<00:00, 21.33it/s, v_num=5, train/loss_step=0.516, val/loss=1.160, val/error_u=0.838, val/error_v=1.090, val/error_h=0.756, val/loss_best=1.160, train/loss_epoch=0.522]\n",
      "Validation: |          | 0/? [00:00<?, ?it/s]\u001B[A\n",
      "Validation: |          | 0/? [00:00<?, ?it/s]\u001B[A\n",
      "Validation DataLoader 0:   0%|          | 0/1 [00:00<?, ?it/s]\u001B[A\n",
      "Validation DataLoader 0: 100%|██████████| 1/1 [00:00<00:00, 61.79it/s]\u001B[A\n",
      "Epoch 88: 100%|██████████| 1/1 [00:00<00:00, 19.87it/s, v_num=5, train/loss_step=0.510, val/loss=1.160, val/error_u=0.837, val/error_v=1.090, val/error_h=0.755, val/loss_best=1.160, train/loss_epoch=0.516]\n",
      "Validation: |          | 0/? [00:00<?, ?it/s]\u001B[A\n",
      "Validation: |          | 0/? [00:00<?, ?it/s]\u001B[A\n",
      "Validation DataLoader 0:   0%|          | 0/1 [00:00<?, ?it/s]\u001B[A\n",
      "Validation DataLoader 0: 100%|██████████| 1/1 [00:00<00:00, 74.11it/s]\u001B[A\n",
      "Epoch 89: 100%|██████████| 1/1 [00:00<00:00, 23.24it/s, v_num=5, train/loss_step=0.504, val/loss=1.160, val/error_u=0.837, val/error_v=1.090, val/error_h=0.754, val/loss_best=1.160, train/loss_epoch=0.510]\n",
      "Validation: |          | 0/? [00:00<?, ?it/s]\u001B[A\n",
      "Validation: |          | 0/? [00:00<?, ?it/s]\u001B[A\n",
      "Validation DataLoader 0:   0%|          | 0/1 [00:00<?, ?it/s]\u001B[A\n",
      "Validation DataLoader 0: 100%|██████████| 1/1 [00:00<00:00, 79.16it/s]\u001B[A\n",
      "Epoch 90: 100%|██████████| 1/1 [00:00<00:00, 23.97it/s, v_num=5, train/loss_step=0.499, val/loss=1.160, val/error_u=0.836, val/error_v=1.080, val/error_h=0.753, val/loss_best=1.160, train/loss_epoch=0.504]\n",
      "Validation: |          | 0/? [00:00<?, ?it/s]\u001B[A\n",
      "Validation: |          | 0/? [00:00<?, ?it/s]\u001B[A\n",
      "Validation DataLoader 0:   0%|          | 0/1 [00:00<?, ?it/s]\u001B[A\n",
      "Validation DataLoader 0: 100%|██████████| 1/1 [00:00<00:00, 75.47it/s]\u001B[A\n",
      "Epoch 91: 100%|██████████| 1/1 [00:00<00:00, 23.20it/s, v_num=5, train/loss_step=0.493, val/loss=1.160, val/error_u=0.836, val/error_v=1.080, val/error_h=0.753, val/loss_best=1.160, train/loss_epoch=0.499]\n",
      "Validation: |          | 0/? [00:00<?, ?it/s]\u001B[A\n",
      "Validation: |          | 0/? [00:00<?, ?it/s]\u001B[A\n",
      "Validation DataLoader 0:   0%|          | 0/1 [00:00<?, ?it/s]\u001B[A\n",
      "Validation DataLoader 0: 100%|██████████| 1/1 [00:00<00:00, 68.75it/s]\u001B[A\n",
      "Epoch 92: 100%|██████████| 1/1 [00:00<00:00, 20.75it/s, v_num=5, train/loss_step=0.488, val/loss=1.150, val/error_u=0.836, val/error_v=1.080, val/error_h=0.752, val/loss_best=1.150, train/loss_epoch=0.493]\n",
      "Validation: |          | 0/? [00:00<?, ?it/s]\u001B[A\n",
      "Validation: |          | 0/? [00:00<?, ?it/s]\u001B[A\n",
      "Validation DataLoader 0:   0%|          | 0/1 [00:00<?, ?it/s]\u001B[A\n",
      "Validation DataLoader 0: 100%|██████████| 1/1 [00:00<00:00, 83.30it/s]\u001B[A\n",
      "Epoch 93: 100%|██████████| 1/1 [00:00<00:00, 21.48it/s, v_num=5, train/loss_step=0.482, val/loss=1.150, val/error_u=0.836, val/error_v=1.080, val/error_h=0.751, val/loss_best=1.150, train/loss_epoch=0.488]\n",
      "Validation: |          | 0/? [00:00<?, ?it/s]\u001B[A\n",
      "Validation: |          | 0/? [00:00<?, ?it/s]\u001B[A\n",
      "Validation DataLoader 0:   0%|          | 0/1 [00:00<?, ?it/s]\u001B[A\n",
      "Validation DataLoader 0: 100%|██████████| 1/1 [00:00<00:00, 78.78it/s]\u001B[A\n",
      "Epoch 94: 100%|██████████| 1/1 [00:00<00:00, 20.88it/s, v_num=5, train/loss_step=0.477, val/loss=1.150, val/error_u=0.835, val/error_v=1.080, val/error_h=0.751, val/loss_best=1.150, train/loss_epoch=0.482]\n",
      "Validation: |          | 0/? [00:00<?, ?it/s]\u001B[A\n",
      "Validation: |          | 0/? [00:00<?, ?it/s]\u001B[A\n",
      "Validation DataLoader 0:   0%|          | 0/1 [00:00<?, ?it/s]\u001B[A\n",
      "Validation DataLoader 0: 100%|██████████| 1/1 [00:00<00:00, 75.49it/s]\u001B[A\n",
      "Epoch 95: 100%|██████████| 1/1 [00:00<00:00, 22.87it/s, v_num=5, train/loss_step=0.472, val/loss=1.150, val/error_u=0.835, val/error_v=1.080, val/error_h=0.750, val/loss_best=1.150, train/loss_epoch=0.477]\n",
      "Validation: |          | 0/? [00:00<?, ?it/s]\u001B[A\n",
      "Validation: |          | 0/? [00:00<?, ?it/s]\u001B[A\n",
      "Validation DataLoader 0:   0%|          | 0/1 [00:00<?, ?it/s]\u001B[A\n",
      "Validation DataLoader 0: 100%|██████████| 1/1 [00:00<00:00, 76.18it/s]\u001B[A\n",
      "Epoch 96: 100%|██████████| 1/1 [00:00<00:00, 23.14it/s, v_num=5, train/loss_step=0.467, val/loss=1.150, val/error_u=0.835, val/error_v=1.080, val/error_h=0.749, val/loss_best=1.150, train/loss_epoch=0.472]\n",
      "Validation: |          | 0/? [00:00<?, ?it/s]\u001B[A\n",
      "Validation: |          | 0/? [00:00<?, ?it/s]\u001B[A\n",
      "Validation DataLoader 0:   0%|          | 0/1 [00:00<?, ?it/s]\u001B[A\n",
      "Validation DataLoader 0: 100%|██████████| 1/1 [00:00<00:00, 66.71it/s]\u001B[A\n",
      "Epoch 97: 100%|██████████| 1/1 [00:00<00:00, 22.52it/s, v_num=5, train/loss_step=0.463, val/loss=1.150, val/error_u=0.834, val/error_v=1.080, val/error_h=0.749, val/loss_best=1.150, train/loss_epoch=0.467]\n",
      "Validation: |          | 0/? [00:00<?, ?it/s]\u001B[A\n",
      "Validation: |          | 0/? [00:00<?, ?it/s]\u001B[A\n",
      "Validation DataLoader 0:   0%|          | 0/1 [00:00<?, ?it/s]\u001B[A\n",
      "Validation DataLoader 0: 100%|██████████| 1/1 [00:00<00:00, 76.04it/s]\u001B[A\n",
      "Epoch 98: 100%|██████████| 1/1 [00:00<00:00, 22.85it/s, v_num=5, train/loss_step=0.458, val/loss=1.140, val/error_u=0.834, val/error_v=1.070, val/error_h=0.748, val/loss_best=1.140, train/loss_epoch=0.463]\n",
      "Validation: |          | 0/? [00:00<?, ?it/s]\u001B[A\n",
      "Validation: |          | 0/? [00:00<?, ?it/s]\u001B[A\n",
      "Validation DataLoader 0:   0%|          | 0/1 [00:00<?, ?it/s]\u001B[A\n",
      "Validation DataLoader 0: 100%|██████████| 1/1 [00:00<00:00, 85.12it/s]\u001B[A\n",
      "Epoch 99: 100%|██████████| 1/1 [00:00<00:00, 22.59it/s, v_num=5, train/loss_step=0.453, val/loss=1.140, val/error_u=0.834, val/error_v=1.070, val/error_h=0.748, val/loss_best=1.140, train/loss_epoch=0.458]\n",
      "Validation: |          | 0/? [00:00<?, ?it/s]\u001B[A\n",
      "Validation: |          | 0/? [00:00<?, ?it/s]\u001B[A\n",
      "Validation DataLoader 0:   0%|          | 0/1 [00:00<?, ?it/s]\u001B[A\n",
      "Validation DataLoader 0: 100%|██████████| 1/1 [00:00<00:00, 70.02it/s]\u001B[A\n",
      "Epoch 99: 100%|██████████| 1/1 [00:00<00:00, 13.55it/s, v_num=5, train/loss_step=0.453, val/loss=1.140, val/error_u=0.834, val/error_v=1.070, val/error_h=0.747, val/loss_best=1.140, train/loss_epoch=0.453]"
     ]
    },
    {
     "name": "stderr",
     "output_type": "stream",
     "text": [
      "`Trainer.fit` stopped: `max_epochs=100` reached.\n"
     ]
    },
    {
     "name": "stdout",
     "output_type": "stream",
     "text": [
      "Epoch 99: 100%|██████████| 1/1 [00:00<00:00, 11.86it/s, v_num=5, train/loss_step=0.453, val/loss=1.140, val/error_u=0.834, val/error_v=1.070, val/error_h=0.747, val/loss_best=1.140, train/loss_epoch=0.453]\n"
     ]
    }
   ],
   "execution_count": 37
  },
  {
   "metadata": {
    "ExecuteTime": {
     "end_time": "2025-09-17T23:18:04.587351Z",
     "start_time": "2025-09-17T23:18:04.533906Z"
    }
   },
   "cell_type": "code",
   "source": "trainer.validate(model=model, datamodule=datamodule)",
   "id": "598247462d48658b",
   "outputs": [
    {
     "name": "stderr",
     "output_type": "stream",
     "text": [
      "LOCAL_RANK: 0 - CUDA_VISIBLE_DEVICES: [0]\n"
     ]
    },
    {
     "name": "stdout",
     "output_type": "stream",
     "text": [
      "Validation DataLoader 0: 100%|██████████| 1/1 [00:00<00:00, 59.39it/s]\n"
     ]
    },
    {
     "data": {
      "text/plain": [
       "┏━━━━━━━━━━━━━━━━━━━━━━━━━━━┳━━━━━━━━━━━━━━━━━━━━━━━━━━━┓\n",
       "┃\u001B[1m \u001B[0m\u001B[1m     Validate metric     \u001B[0m\u001B[1m \u001B[0m┃\u001B[1m \u001B[0m\u001B[1m      DataLoader 0       \u001B[0m\u001B[1m \u001B[0m┃\n",
       "┡━━━━━━━━━━━━━━━━━━━━━━━━━━━╇━━━━━━━━━━━━━━━━━━━━━━━━━━━┩\n",
       "│\u001B[36m \u001B[0m\u001B[36m       val/error_h       \u001B[0m\u001B[36m \u001B[0m│\u001B[35m \u001B[0m\u001B[35m    0.746867835521698    \u001B[0m\u001B[35m \u001B[0m│\n",
       "│\u001B[36m \u001B[0m\u001B[36m       val/error_u       \u001B[0m\u001B[36m \u001B[0m│\u001B[35m \u001B[0m\u001B[35m   0.8335254788398743    \u001B[0m\u001B[35m \u001B[0m│\n",
       "│\u001B[36m \u001B[0m\u001B[36m       val/error_v       \u001B[0m\u001B[36m \u001B[0m│\u001B[35m \u001B[0m\u001B[35m   1.0725865364074707    \u001B[0m\u001B[35m \u001B[0m│\n",
       "│\u001B[36m \u001B[0m\u001B[36m        val/loss         \u001B[0m\u001B[36m \u001B[0m│\u001B[35m \u001B[0m\u001B[35m   1.1399197578430176    \u001B[0m\u001B[35m \u001B[0m│\n",
       "│\u001B[36m \u001B[0m\u001B[36m      val/loss_best      \u001B[0m\u001B[36m \u001B[0m│\u001B[35m \u001B[0m\u001B[35m   1.1399197578430176    \u001B[0m\u001B[35m \u001B[0m│\n",
       "└───────────────────────────┴───────────────────────────┘\n"
      ],
      "text/html": [
       "<pre style=\"white-space:pre;overflow-x:auto;line-height:normal;font-family:Menlo,'DejaVu Sans Mono',consolas,'Courier New',monospace\">┏━━━━━━━━━━━━━━━━━━━━━━━━━━━┳━━━━━━━━━━━━━━━━━━━━━━━━━━━┓\n",
       "┃<span style=\"font-weight: bold\">      Validate metric      </span>┃<span style=\"font-weight: bold\">       DataLoader 0        </span>┃\n",
       "┡━━━━━━━━━━━━━━━━━━━━━━━━━━━╇━━━━━━━━━━━━━━━━━━━━━━━━━━━┩\n",
       "│<span style=\"color: #008080; text-decoration-color: #008080\">        val/error_h        </span>│<span style=\"color: #800080; text-decoration-color: #800080\">     0.746867835521698     </span>│\n",
       "│<span style=\"color: #008080; text-decoration-color: #008080\">        val/error_u        </span>│<span style=\"color: #800080; text-decoration-color: #800080\">    0.8335254788398743     </span>│\n",
       "│<span style=\"color: #008080; text-decoration-color: #008080\">        val/error_v        </span>│<span style=\"color: #800080; text-decoration-color: #800080\">    1.0725865364074707     </span>│\n",
       "│<span style=\"color: #008080; text-decoration-color: #008080\">         val/loss          </span>│<span style=\"color: #800080; text-decoration-color: #800080\">    1.1399197578430176     </span>│\n",
       "│<span style=\"color: #008080; text-decoration-color: #008080\">       val/loss_best       </span>│<span style=\"color: #800080; text-decoration-color: #800080\">    1.1399197578430176     </span>│\n",
       "└───────────────────────────┴───────────────────────────┘\n",
       "</pre>\n"
      ]
     },
     "metadata": {},
     "output_type": "display_data"
    },
    {
     "data": {
      "text/plain": [
       "[{'val/loss': 1.1399197578430176,\n",
       "  'val/error_u': 0.8335254788398743,\n",
       "  'val/error_v': 1.0725865364074707,\n",
       "  'val/error_h': 0.746867835521698,\n",
       "  'val/loss_best': 1.1399197578430176}]"
      ]
     },
     "execution_count": 38,
     "metadata": {},
     "output_type": "execute_result"
    }
   ],
   "execution_count": 38
  },
  {
   "metadata": {
    "ExecuteTime": {
     "end_time": "2025-09-17T23:18:04.679318Z",
     "start_time": "2025-09-17T23:18:04.652802Z"
    }
   },
   "cell_type": "code",
   "source": [
    "preds_list = trainer.predict(model=model, datamodule=datamodule)\n",
    "preds_dict = pinnstorch.utils.fix_predictions(preds_list)"
   ],
   "id": "d924669affa72b03",
   "outputs": [
    {
     "name": "stderr",
     "output_type": "stream",
     "text": [
      "LOCAL_RANK: 0 - CUDA_VISIBLE_DEVICES: [0]\n"
     ]
    },
    {
     "name": "stdout",
     "output_type": "stream",
     "text": [
      "Predicting DataLoader 0: 100%|██████████| 1/1 [00:00<00:00, 99.01it/s] \n"
     ]
    }
   ],
   "execution_count": 39
  },
  {
   "metadata": {
    "ExecuteTime": {
     "end_time": "2025-09-17T23:18:05.360601Z",
     "start_time": "2025-09-17T23:18:04.688756Z"
    }
   },
   "cell_type": "code",
   "source": [
    "pinnstorch.utils.plot_schrodinger(mesh=mesh,\n",
    "                                  preds=preds_dict,\n",
    "                                  train_datasets=train_datasets,\n",
    "                                  val_dataset=val_dataset,\n",
    "                                  file_name='4_finer')"
   ],
   "id": "ae383e7a2e66e6a2",
   "outputs": [
    {
     "data": {
      "text/plain": [
       "<Figure size 539.643x300.166 with 6 Axes>"
      ],
      "image/png": "[encoded data removed]"
     },
     "metadata": {},
     "output_type": "display_data"
    }
   ],
   "execution_count": 40
  },
  {
   "metadata": {},
   "cell_type": "markdown",
   "source": [
    "##### GAUSSIAN\n",
    "\n",
    "![](gaussian.png)"
   ],
   "id": "8b8c34ed2af97f75"
  },
  {
   "metadata": {
    "ExecuteTime": {
     "end_time": "2025-09-17T23:18:05.375634Z",
     "start_time": "2025-09-17T23:18:05.371457Z"
    }
   },
   "cell_type": "code",
   "source": "",
   "id": "768f9cb9aebbc534",
   "outputs": [],
   "execution_count": null
  },
  {
   "metadata": {
    "ExecuteTime": {
     "end_time": "2025-09-17T23:18:05.391830Z",
     "start_time": "2025-09-17T23:18:05.378341Z"
    }
   },
   "cell_type": "code",
   "source": "",
   "id": "2b7f42af361a04e5",
   "outputs": [],
   "execution_count": null
  },
  {
   "metadata": {
    "ExecuteTime": {
     "end_time": "2025-09-17T23:18:05.407600Z",
     "start_time": "2025-09-17T23:18:05.396097Z"
    }
   },
   "cell_type": "code",
   "source": "",
   "id": "a2e685e6f41dfffa",
   "outputs": [],
   "execution_count": null
  },
  {
   "metadata": {
    "ExecuteTime": {
     "end_time": "2025-09-17T23:18:05.423208Z",
     "start_time": "2025-09-17T23:18:05.414121Z"
    }
   },
   "cell_type": "code",
   "source": "",
   "id": "209380e922fbafbf",
   "outputs": [],
   "execution_count": null
  },
  {
   "metadata": {
    "ExecuteTime": {
     "end_time": "2025-09-17T23:18:05.438683Z",
     "start_time": "2025-09-17T23:18:05.429405Z"
    }
   },
   "cell_type": "code",
   "source": "",
   "id": "64b42d3cbce4db17",
   "outputs": [],
   "execution_count": null
  },
  {
   "metadata": {
    "ExecuteTime": {
     "end_time": "2025-09-17T23:18:05.453655Z",
     "start_time": "2025-09-17T23:18:05.443602Z"
    }
   },
   "cell_type": "code",
   "source": "",
   "id": "9245168e67f6b0a1",
   "outputs": [],
   "execution_count": null
  },
  {
   "metadata": {
    "ExecuteTime": {
     "end_time": "2025-09-17T23:18:05.469253Z",
     "start_time": "2025-09-17T23:18:05.461217Z"
    }
   },
   "cell_type": "code",
   "source": "",
   "id": "8b6a40a1c1f83c92",
   "outputs": [],
   "execution_count": null
  },
  {
   "metadata": {},
   "cell_type": "markdown",
   "source": "##### GAUSSIAN W/ FINER",
   "id": "90665df762416292"
  },
  {
   "metadata": {
    "ExecuteTime": {
     "end_time": "2025-09-17T23:18:05.484553Z",
     "start_time": "2025-09-17T23:18:05.477204Z"
    }
   },
   "cell_type": "code",
   "source": "",
   "id": "cd3e3a6caf708e78",
   "outputs": [],
   "execution_count": null
  },
  {
   "metadata": {
    "ExecuteTime": {
     "end_time": "2025-09-17T23:18:05.499630Z",
     "start_time": "2025-09-17T23:18:05.490307Z"
    }
   },
   "cell_type": "code",
   "source": "",
   "id": "4fca59fe637948a3",
   "outputs": [],
   "execution_count": null
  },
  {
   "metadata": {
    "ExecuteTime": {
     "end_time": "2025-09-17T23:18:05.514788Z",
     "start_time": "2025-09-17T23:18:05.507726Z"
    }
   },
   "cell_type": "code",
   "source": "",
   "id": "e8c3905cdca6a5b9",
   "outputs": [],
   "execution_count": null
  },
  {
   "metadata": {
    "ExecuteTime": {
     "end_time": "2025-09-17T23:18:05.530288Z",
     "start_time": "2025-09-17T23:18:05.523126Z"
    }
   },
   "cell_type": "code",
   "source": "",
   "id": "fb8cae9179e5f583",
   "outputs": [],
   "execution_count": null
  },
  {
   "metadata": {
    "ExecuteTime": {
     "end_time": "2025-09-17T23:18:05.545933Z",
     "start_time": "2025-09-17T23:18:05.537311Z"
    }
   },
   "cell_type": "code",
   "source": "",
   "id": "9b3990c0722a746",
   "outputs": [],
   "execution_count": null
  },
  {
   "metadata": {
    "ExecuteTime": {
     "end_time": "2025-09-17T23:18:05.561258Z",
     "start_time": "2025-09-17T23:18:05.549610Z"
    }
   },
   "cell_type": "code",
   "source": "",
   "id": "d89bf5bcb1a8ffdf",
   "outputs": [],
   "execution_count": null
  },
  {
   "metadata": {
    "ExecuteTime": {
     "end_time": "2025-09-17T23:18:05.576613Z",
     "start_time": "2025-09-17T23:18:05.567494Z"
    }
   },
   "cell_type": "code",
   "source": "",
   "id": "b3e2c9a44f9f3170",
   "outputs": [],
   "execution_count": null
  },
  {
   "metadata": {},
   "cell_type": "markdown",
   "source": [
    "##### COMPLEX GABOR WAVELET\n",
    "\n",
    "![](wire.png)"
   ],
   "id": "13869dbf8157b521"
  },
  {
   "metadata": {
    "ExecuteTime": {
     "end_time": "2025-09-17T23:18:05.592490Z",
     "start_time": "2025-09-17T23:18:05.578352Z"
    }
   },
   "cell_type": "code",
   "source": "",
   "id": "635687b16b4ea770",
   "outputs": [],
   "execution_count": null
  },
  {
   "metadata": {
    "ExecuteTime": {
     "end_time": "2025-09-17T23:18:05.607487Z",
     "start_time": "2025-09-17T23:18:05.596393Z"
    }
   },
   "cell_type": "code",
   "source": "",
   "id": "d1994ee19009366e",
   "outputs": [],
   "execution_count": null
  },
  {
   "metadata": {
    "ExecuteTime": {
     "end_time": "2025-09-17T23:18:05.623437Z",
     "start_time": "2025-09-17T23:18:05.610857Z"
    }
   },
   "cell_type": "code",
   "source": "",
   "id": "492f50a45dc590ef",
   "outputs": [],
   "execution_count": null
  },
  {
   "metadata": {
    "ExecuteTime": {
     "end_time": "2025-09-17T23:18:05.639258Z",
     "start_time": "2025-09-17T23:18:05.627610Z"
    }
   },
   "cell_type": "code",
   "source": "",
   "id": "d66ca3c8dc84f7c2",
   "outputs": [],
   "execution_count": null
  },
  {
   "metadata": {
    "ExecuteTime": {
     "end_time": "2025-09-17T23:18:05.654636Z",
     "start_time": "2025-09-17T23:18:05.645210Z"
    }
   },
   "cell_type": "code",
   "source": "",
   "id": "f4101a9e3575aa64",
   "outputs": [],
   "execution_count": null
  },
  {
   "metadata": {
    "ExecuteTime": {
     "end_time": "2025-09-17T23:18:05.670114Z",
     "start_time": "2025-09-17T23:18:05.657354Z"
    }
   },
   "cell_type": "code",
   "source": "",
   "id": "418874c112bbb832",
   "outputs": [],
   "execution_count": null
  },
  {
   "metadata": {
    "ExecuteTime": {
     "end_time": "2025-09-17T23:18:05.685384Z",
     "start_time": "2025-09-17T23:18:05.674185Z"
    }
   },
   "cell_type": "code",
   "source": "",
   "id": "84621dc4b281b53c",
   "outputs": [],
   "execution_count": null
  },
  {
   "metadata": {},
   "cell_type": "markdown",
   "source": "##### COMPLEX GABOR WAVELET W/ FINER",
   "id": "21f1ef320f8c4efd"
  },
  {
   "metadata": {
    "ExecuteTime": {
     "end_time": "2025-09-17T23:18:05.700528Z",
     "start_time": "2025-09-17T23:18:05.688970Z"
    }
   },
   "cell_type": "code",
   "source": "",
   "id": "e5c103bf542d519",
   "outputs": [],
   "execution_count": null
  },
  {
   "metadata": {
    "ExecuteTime": {
     "end_time": "2025-09-17T23:18:05.716030Z",
     "start_time": "2025-09-17T23:18:05.704060Z"
    }
   },
   "cell_type": "code",
   "source": "",
   "id": "dd8ef408ee8182f9",
   "outputs": [],
   "execution_count": null
  },
  {
   "metadata": {
    "ExecuteTime": {
     "end_time": "2025-09-17T23:18:05.730873Z",
     "start_time": "2025-09-17T23:18:05.721722Z"
    }
   },
   "cell_type": "code",
   "source": "",
   "id": "2263dc90d5ce13ce",
   "outputs": [],
   "execution_count": null
  },
  {
   "metadata": {
    "ExecuteTime": {
     "end_time": "2025-09-17T23:18:05.746547Z",
     "start_time": "2025-09-17T23:18:05.733426Z"
    }
   },
   "cell_type": "code",
   "source": "",
   "id": "c21b0069aba33c11",
   "outputs": [],
   "execution_count": null
  },
  {
   "metadata": {
    "ExecuteTime": {
     "end_time": "2025-09-17T23:18:05.762376Z",
     "start_time": "2025-09-17T23:18:05.748655Z"
    }
   },
   "cell_type": "code",
   "source": "",
   "id": "4874e03c0df922e9",
   "outputs": [],
   "execution_count": null
  },
  {
   "metadata": {
    "ExecuteTime": {
     "end_time": "2025-09-17T23:18:05.778037Z",
     "start_time": "2025-09-17T23:18:05.765326Z"
    }
   },
   "cell_type": "code",
   "source": "",
   "id": "1dfe77348d157d02",
   "outputs": [],
   "execution_count": null
  },
  {
   "metadata": {
    "ExecuteTime": {
     "end_time": "2025-09-17T23:18:05.792770Z",
     "start_time": "2025-09-17T23:18:05.784673Z"
    }
   },
   "cell_type": "code",
   "source": "",
   "id": "575ffc61d3eee20d",
   "outputs": [],
   "execution_count": null
  },
  {
   "metadata": {},
   "cell_type": "markdown",
   "source": [
    "##### HYPERBOLIC SINE\n",
    "\n",
    "![](hosc.png)"
   ],
   "id": "17ac78c45c3087ca",
   "attachments": {
    "eab5e98c-2c82-4599-9216-66d2d9baa920.png": {
     "image/png": "[encoded data removed]"
    }
   }
  },
  {
   "metadata": {
    "ExecuteTime": {
     "end_time": "2025-09-17T23:18:05.807756Z",
     "start_time": "2025-09-17T23:18:05.798043Z"
    }
   },
   "cell_type": "code",
   "source": "",
   "id": "5bae23bf941bfc58",
   "outputs": [],
   "execution_count": null
  },
  {
   "metadata": {
    "ExecuteTime": {
     "end_time": "2025-09-17T23:18:05.823205Z",
     "start_time": "2025-09-17T23:18:05.814959Z"
    }
   },
   "cell_type": "code",
   "source": "",
   "id": "6efa2ae223ee21f",
   "outputs": [],
   "execution_count": null
  },
  {
   "metadata": {
    "ExecuteTime": {
     "end_time": "2025-09-17T23:18:05.838428Z",
     "start_time": "2025-09-17T23:18:05.829902Z"
    }
   },
   "cell_type": "code",
   "source": "",
   "id": "9c9f2a054619d2b1",
   "outputs": [],
   "execution_count": null
  },
  {
   "metadata": {
    "ExecuteTime": {
     "end_time": "2025-09-17T23:18:05.853665Z",
     "start_time": "2025-09-17T23:18:05.844588Z"
    }
   },
   "cell_type": "code",
   "source": "",
   "id": "b42fe1a8598bdaaa",
   "outputs": [],
   "execution_count": null
  },
  {
   "metadata": {
    "ExecuteTime": {
     "end_time": "2025-09-17T23:18:05.884281Z",
     "start_time": "2025-09-17T23:18:05.864553Z"
    }
   },
   "cell_type": "code",
   "source": "",
   "id": "e967068f1ebeedbd",
   "outputs": [],
   "execution_count": null
  },
  {
   "metadata": {
    "ExecuteTime": {
     "end_time": "2025-09-17T23:18:05.914984Z",
     "start_time": "2025-09-17T23:18:05.901374Z"
    }
   },
   "cell_type": "code",
   "source": "",
   "id": "da322e8bbcb30f7d",
   "outputs": [],
   "execution_count": null
  },
  {
   "metadata": {
    "ExecuteTime": {
     "end_time": "2025-09-17T23:18:05.946031Z",
     "start_time": "2025-09-17T23:18:05.930752Z"
    }
   },
   "cell_type": "code",
   "source": "",
   "id": "a9241258df6e8002",
   "outputs": [],
   "execution_count": null
  },
  {
   "metadata": {},
   "cell_type": "markdown",
   "source": "##### HYPERBOLIC SINE W/ FINER",
   "id": "e096313922843844"
  },
  {
   "metadata": {
    "ExecuteTime": {
     "end_time": "2025-09-17T23:18:05.977091Z",
     "start_time": "2025-09-17T23:18:05.957642Z"
    }
   },
   "cell_type": "code",
   "source": "",
   "id": "b4a6884fa3bd303e",
   "outputs": [],
   "execution_count": null
  },
  {
   "metadata": {
    "ExecuteTime": {
     "end_time": "2025-09-17T23:18:06.007775Z",
     "start_time": "2025-09-17T23:18:05.992095Z"
    }
   },
   "cell_type": "code",
   "source": "",
   "id": "bcdcb9f07692f179",
   "outputs": [],
   "execution_count": null
  },
  {
   "metadata": {
    "ExecuteTime": {
     "end_time": "2025-09-17T23:18:06.038328Z",
     "start_time": "2025-09-17T23:18:06.020838Z"
    }
   },
   "cell_type": "code",
   "source": "",
   "id": "937eaf7f16198cc9",
   "outputs": [],
   "execution_count": null
  },
  {
   "metadata": {
    "ExecuteTime": {
     "end_time": "2025-09-17T23:18:06.069353Z",
     "start_time": "2025-09-17T23:18:06.051206Z"
    }
   },
   "cell_type": "code",
   "source": "",
   "id": "29e65a320fc87c52",
   "outputs": [],
   "execution_count": null
  },
  {
   "metadata": {
    "ExecuteTime": {
     "end_time": "2025-09-17T23:18:06.084358Z",
     "start_time": "2025-09-17T23:18:06.078289Z"
    }
   },
   "cell_type": "code",
   "source": "",
   "id": "46989903a855ba1c",
   "outputs": [],
   "execution_count": null
  },
  {
   "metadata": {
    "ExecuteTime": {
     "end_time": "2025-09-17T23:18:06.100216Z",
     "start_time": "2025-09-17T23:18:06.098195Z"
    }
   },
   "cell_type": "code",
   "source": "",
   "id": "c441f77affb044fa",
   "outputs": [],
   "execution_count": null
  },
  {
   "metadata": {
    "ExecuteTime": {
     "end_time": "2025-09-17T23:18:06.115005Z",
     "start_time": "2025-09-17T23:18:06.104943Z"
    }
   },
   "cell_type": "code",
   "source": "",
   "id": "b3a3c5cb2f7720de",
   "outputs": [],
   "execution_count": null
  },
  {
   "metadata": {
    "ExecuteTime": {
     "end_time": "2025-09-17T23:18:06.130992Z",
     "start_time": "2025-09-17T23:18:06.119181Z"
    }
   },
   "cell_type": "code",
   "source": "",
   "id": "7b857b1731e1c9e4",
   "outputs": [],
   "execution_count": null
  },
  {
   "metadata": {},
   "cell_type": "markdown",
   "source": [
    "##### SINC\n",
    "\n",
    "![](https://i0.wp.com/sefiks.com/wp-content/uploads/2018/01/sinc-function.png?resize=543%2C311&ssl=1)"
   ],
   "id": "613bd46690343fc1"
  },
  {
   "metadata": {
    "ExecuteTime": {
     "end_time": "2025-09-17T23:18:06.145686Z",
     "start_time": "2025-09-17T23:18:06.142614Z"
    }
   },
   "cell_type": "code",
   "source": "",
   "id": "a2ae83db02e5dab0",
   "outputs": [],
   "execution_count": null
  },
  {
   "metadata": {
    "ExecuteTime": {
     "end_time": "2025-09-17T23:18:06.162043Z",
     "start_time": "2025-09-17T23:18:06.147972Z"
    }
   },
   "cell_type": "code",
   "source": "",
   "id": "6bde8975ded845f3",
   "outputs": [],
   "execution_count": null
  },
  {
   "metadata": {
    "ExecuteTime": {
     "end_time": "2025-09-17T23:18:06.177836Z",
     "start_time": "2025-09-17T23:18:06.171283Z"
    }
   },
   "cell_type": "code",
   "source": "",
   "id": "d0c05543fe2484f7",
   "outputs": [],
   "execution_count": null
  },
  {
   "metadata": {
    "ExecuteTime": {
     "end_time": "2025-09-17T23:18:06.194085Z",
     "start_time": "2025-09-17T23:18:06.184490Z"
    }
   },
   "cell_type": "code",
   "source": "",
   "id": "d2ce58cd8d42835f",
   "outputs": [],
   "execution_count": null
  },
  {
   "metadata": {
    "ExecuteTime": {
     "end_time": "2025-09-17T23:18:06.209367Z",
     "start_time": "2025-09-17T23:18:06.197710Z"
    }
   },
   "cell_type": "code",
   "source": "",
   "id": "66132c9355bcd540",
   "outputs": [],
   "execution_count": null
  },
  {
   "metadata": {
    "ExecuteTime": {
     "end_time": "2025-09-17T23:18:06.224711Z",
     "start_time": "2025-09-17T23:18:06.218044Z"
    }
   },
   "cell_type": "code",
   "source": "",
   "id": "ed462d16205d41d6",
   "outputs": [],
   "execution_count": null
  },
  {
   "metadata": {
    "ExecuteTime": {
     "end_time": "2025-09-17T23:18:06.240147Z",
     "start_time": "2025-09-17T23:18:06.230240Z"
    }
   },
   "cell_type": "code",
   "source": "",
   "id": "878a3ccbabc023f2",
   "outputs": [],
   "execution_count": null
  },
  {
   "metadata": {
    "ExecuteTime": {
     "end_time": "2025-09-17T23:18:06.256213Z",
     "start_time": "2025-09-17T23:18:06.249070Z"
    }
   },
   "cell_type": "code",
   "source": "",
   "id": "2c4524b921882a66",
   "outputs": [],
   "execution_count": null
  },
  {
   "metadata": {
    "ExecuteTime": {
     "end_time": "2025-09-17T23:18:06.271488Z",
     "start_time": "2025-09-17T23:18:06.262440Z"
    }
   },
   "cell_type": "code",
   "source": "",
   "id": "9457d35c9f05fdbe",
   "outputs": [],
   "execution_count": null
  },
  {
   "metadata": {
    "ExecuteTime": {
     "end_time": "2025-09-17T23:18:06.302530Z",
     "start_time": "2025-09-17T23:18:06.294728Z"
    }
   },
   "cell_type": "code",
   "source": "",
   "id": "14b1038a16d34734",
   "outputs": [],
   "execution_count": null
  },
  {
   "metadata": {
    "ExecuteTime": {
     "end_time": "2025-09-17T23:18:06.317802Z",
     "start_time": "2025-09-17T23:18:06.311438Z"
    }
   },
   "cell_type": "code",
   "source": "",
   "id": "305efef17fb38277",
   "outputs": [],
   "execution_count": null
  }
 ],
 "metadata": {
  "kernelspec": {
   "display_name": "Python (myenv)",
   "language": "python",
   "name": "myenv"
  },
  "language_info": {
   "codemirror_mode": {
    "name": "ipython",
    "version": 2
   },
   "file_extension": ".py",
   "mimetype": "text/x-python",
   "name": "python",
   "nbconvert_exporter": "python",
   "pygments_lexer": "ipython2",
   "version": "2.7.6"
  }
 },
 "nbformat": 4,
 "nbformat_minor": 5
}
