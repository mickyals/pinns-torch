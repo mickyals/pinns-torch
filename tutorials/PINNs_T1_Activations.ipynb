{
 "cells": [
  {
   "metadata": {
    "collapsed": true
   },
   "cell_type": "markdown",
   "source": [
    "## Tutorial - 0: Continuous Forward Schrodinger\n",
    "\n",
    "Welcome to our tutorial on the effect of differing non-linearities in Physics-Informed Neural Networks (PINNs) using `PyTorch Lightning` and the new package, **`pinnstorch`**! This guide aims to introduce you to the integration of deep learning and scientific computing via PINNs, which embed physical laws into neural network training.\n",
    "### UPDATE TO SUIT MY CHANGES\n",
    "#### Overview:\n",
    "\n",
    "- **Mesh Generation and Sampling:** Understanding how to create and use meshes for training PINNs, crucial for defining the domain of our problem.\n",
    "- **Neural Network Model with PINNs:** How to build and structure a neural network for physical law integration.\n",
    "- **Physical Laws in Neural Networks:** Detailing the implementation of differential equations within the network using `pde_fn` and `output_fn`.\n",
    "- **Training and Validation:** Utilizing PyTorch Lightning’s Trainer to train our model, including defining the training data, initial conditions, and handling boundary conditions.\n",
    "- **Results Visualization:** Saving and analyzing the outcomes of your PINN models."
   ],
   "id": "c9f9d3c73e0b9895"
  },
  {
   "metadata": {},
   "cell_type": "markdown",
   "source": "#### Install Libraries\n",
   "id": "ab5dc003f5029330"
  },
  {
   "metadata": {
    "ExecuteTime": {
     "end_time": "2025-09-17T23:27:52.118097Z",
     "start_time": "2025-09-17T23:27:50.207404Z"
    }
   },
   "cell_type": "code",
   "source": "!pip install lightning",
   "id": "dae781f435fb95df",
   "outputs": [
    {
     "name": "stdout",
     "output_type": "stream",
     "text": [
      "Requirement already satisfied: lightning in c:\\users\\micke\\anaconda3\\lib\\site-packages (2.5.5)\n",
      "Requirement already satisfied: PyYAML<8.0,>5.4 in c:\\users\\micke\\anaconda3\\lib\\site-packages (from lightning) (6.0.1)\n",
      "Requirement already satisfied: fsspec<2027.0,>=2022.5.0 in c:\\users\\micke\\anaconda3\\lib\\site-packages (from fsspec[http]<2027.0,>=2022.5.0->lightning) (2024.6.1)\n",
      "Requirement already satisfied: lightning-utilities<2.0,>=0.10.0 in c:\\users\\micke\\anaconda3\\lib\\site-packages (from lightning) (0.11.9)\n",
      "Requirement already satisfied: packaging<27.0,>=20.0 in c:\\users\\micke\\anaconda3\\lib\\site-packages (from lightning) (24.1)\n",
      "Requirement already satisfied: torch<4.0,>=2.1.0 in c:\\users\\micke\\anaconda3\\lib\\site-packages (from lightning) (2.3.1)\n",
      "Requirement already satisfied: torchmetrics<3.0,>0.7.0 in c:\\users\\micke\\anaconda3\\lib\\site-packages (from lightning) (1.4.0.post0)\n",
      "Requirement already satisfied: tqdm<6.0,>=4.57.0 in c:\\users\\micke\\anaconda3\\lib\\site-packages (from lightning) (4.66.5)\n",
      "Requirement already satisfied: typing-extensions<6.0,>4.5.0 in c:\\users\\micke\\anaconda3\\lib\\site-packages (from lightning) (4.11.0)\n",
      "Requirement already satisfied: pytorch-lightning in c:\\users\\micke\\anaconda3\\lib\\site-packages (from lightning) (2.5.0.post0)\n",
      "Requirement already satisfied: aiohttp!=4.0.0a0,!=4.0.0a1 in c:\\users\\micke\\anaconda3\\lib\\site-packages (from fsspec[http]<2027.0,>=2022.5.0->lightning) (3.10.5)\n",
      "Requirement already satisfied: setuptools in c:\\users\\micke\\anaconda3\\lib\\site-packages (from lightning-utilities<2.0,>=0.10.0->lightning) (75.1.0)\n",
      "Requirement already satisfied: filelock in c:\\users\\micke\\anaconda3\\lib\\site-packages (from torch<4.0,>=2.1.0->lightning) (3.13.1)\n",
      "Requirement already satisfied: sympy in c:\\users\\micke\\anaconda3\\lib\\site-packages (from torch<4.0,>=2.1.0->lightning) (1.13.2)\n",
      "Requirement already satisfied: networkx in c:\\users\\micke\\anaconda3\\lib\\site-packages (from torch<4.0,>=2.1.0->lightning) (3.3)\n",
      "Requirement already satisfied: jinja2 in c:\\users\\micke\\anaconda3\\lib\\site-packages (from torch<4.0,>=2.1.0->lightning) (3.1.4)\n",
      "Requirement already satisfied: numpy>1.20.0 in c:\\users\\micke\\anaconda3\\lib\\site-packages (from torchmetrics<3.0,>0.7.0->lightning) (1.26.4)\n",
      "Requirement already satisfied: colorama in c:\\users\\micke\\anaconda3\\lib\\site-packages (from tqdm<6.0,>=4.57.0->lightning) (0.4.6)\n",
      "Requirement already satisfied: aiohappyeyeballs>=2.3.0 in c:\\users\\micke\\anaconda3\\lib\\site-packages (from aiohttp!=4.0.0a0,!=4.0.0a1->fsspec[http]<2027.0,>=2022.5.0->lightning) (2.4.0)\n",
      "Requirement already satisfied: aiosignal>=1.1.2 in c:\\users\\micke\\anaconda3\\lib\\site-packages (from aiohttp!=4.0.0a0,!=4.0.0a1->fsspec[http]<2027.0,>=2022.5.0->lightning) (1.2.0)\n",
      "Requirement already satisfied: attrs>=17.3.0 in c:\\users\\micke\\anaconda3\\lib\\site-packages (from aiohttp!=4.0.0a0,!=4.0.0a1->fsspec[http]<2027.0,>=2022.5.0->lightning) (23.1.0)\n",
      "Requirement already satisfied: frozenlist>=1.1.1 in c:\\users\\micke\\anaconda3\\lib\\site-packages (from aiohttp!=4.0.0a0,!=4.0.0a1->fsspec[http]<2027.0,>=2022.5.0->lightning) (1.4.0)\n",
      "Requirement already satisfied: multidict<7.0,>=4.5 in c:\\users\\micke\\anaconda3\\lib\\site-packages (from aiohttp!=4.0.0a0,!=4.0.0a1->fsspec[http]<2027.0,>=2022.5.0->lightning) (6.0.4)\n",
      "Requirement already satisfied: yarl<2.0,>=1.0 in c:\\users\\micke\\anaconda3\\lib\\site-packages (from aiohttp!=4.0.0a0,!=4.0.0a1->fsspec[http]<2027.0,>=2022.5.0->lightning) (1.11.0)\n",
      "Requirement already satisfied: MarkupSafe>=2.0 in c:\\users\\micke\\anaconda3\\lib\\site-packages (from jinja2->torch<4.0,>=2.1.0->lightning) (2.1.3)\n",
      "Requirement already satisfied: mpmath<1.4,>=1.1.0 in c:\\users\\micke\\anaconda3\\lib\\site-packages (from sympy->torch<4.0,>=2.1.0->lightning) (1.3.0)\n",
      "Requirement already satisfied: idna>=2.0 in c:\\users\\micke\\anaconda3\\lib\\site-packages (from yarl<2.0,>=1.0->aiohttp!=4.0.0a0,!=4.0.0a1->fsspec[http]<2027.0,>=2022.5.0->lightning) (3.7)\n"
     ]
    }
   ],
   "execution_count": 1
  },
  {
   "metadata": {
    "ExecuteTime": {
     "end_time": "2025-09-17T23:27:55.858953Z",
     "start_time": "2025-09-17T23:27:52.157453Z"
    }
   },
   "cell_type": "code",
   "source": [
    "from typing import Dict\n",
    "\n",
    "import torch\n",
    "import numpy as np\n",
    "import lightning.pytorch as pl\n",
    "\n",
    "import pinnstorch"
   ],
   "id": "b9adcf0fd99bf733",
   "outputs": [],
   "execution_count": 2
  },
  {
   "metadata": {},
   "cell_type": "markdown",
   "source": [
    "### Define Mesh\n",
    "\n",
    "Physics-Informed Neural Networks (PINNs) require a discretized domain (mesh) over which the physical equations are solved. In `pinnstorch`, there are primarily two approaches to define this mesh:\n",
    "\n",
    "\n",
    "- **Defining Point Clouds:** This method involves directly utilizing spatio-temporal data (e.g., from experiments or other simulations) to create a mesh using `pinnstorch.data.PointCloud`.\n",
    "\n",
    "\n",
    "**Note:** It's crucial to format the spatial and temporal domain dimensions correctly. Specifically:\n",
    "\n",
    "- **Spatial Domain:** Each axis should be structured in the shape of $(N \\times 1)$, where $N$ represents the number of spatial points.\n",
    "- **Time Domain:** This should be formatted as $(T \\times 1)$, where $T$ indicates the number of time steps.\n",
    "- **Solution Data:** Each solution variable (e.g., temperature, velocity) should be in the shape of $(N \\times T)$, aligning with the spatial and temporal points."
   ],
   "id": "5d98b842c17438b"
  },
  {
   "metadata": {
    "ExecuteTime": {
     "end_time": "2025-09-17T23:27:56.014867Z",
     "start_time": "2025-09-17T23:27:56.005216Z"
    }
   },
   "cell_type": "code",
   "source": [
    "def read_data_fn(root_path):\n",
    "    \"\"\"Read and preprocess data from the specified root path.\n",
    "\n",
    "    :param root_path: The root directory containing the data.\n",
    "    :return: Processed data will be used in PointCloud class.\n",
    "    \"\"\"\n",
    "\n",
    "    data = pinnstorch.utils.load_data(root_path, \"NLS.mat\")\n",
    "\n",
    "    x = data[\"x\"].T  # N x 1\n",
    "    t = data[\"tt\"].T  # T x 1\n",
    "\n",
    "    exact = data[\"uu\"]\n",
    "    exact_u = np.real(exact) # N x T\n",
    "    exact_v = np.imag(exact) # N x T\n",
    "    exact_h = np.sqrt(exact_u**2 + exact_v**2) # N x T\n",
    "\n",
    "    print(f\" x has {x.shape} shape with min: {x.min()}, max: {x.max()}\")\n",
    "    print(f\" t has {t.shape} shape with min: {t.min()}, max: {t.max()}\")\n",
    "    print(f\"  exact_u {exact_u.shape} shape with min: {exact_u.min()}, max: {exact_u.max()}\")\n",
    "    print(f\" exact_v {exact_v.shape} shape with min: {exact_v.min()}, max: {exact_v.max()}\")\n",
    "    print(f\" exact_h  {exact_h.shape} shape with min: {exact_h.min()}, max: {exact_h.max()}\")\n",
    "\n",
    "\n",
    "\n",
    "    return pinnstorch.data.PointCloudData(\n",
    "            spatial=[x], time=[t], solution={\"u\": exact_u, \"v\": exact_v, \"h\": exact_h}\n",
    "    )"
   ],
   "id": "38074e2edc59658d",
   "outputs": [],
   "execution_count": 3
  },
  {
   "metadata": {
    "ExecuteTime": {
     "end_time": "2025-09-17T19:30:08.014287Z",
     "start_time": "2025-09-17T19:30:08.010618Z"
    }
   },
   "cell_type": "markdown",
   "source": "Now, mesh can be initalize with using the function and the directory to the folder of data.",
   "id": "23784c98c72c25f1"
  },
  {
   "metadata": {
    "ExecuteTime": {
     "end_time": "2025-09-17T23:27:56.092467Z",
     "start_time": "2025-09-17T23:27:56.071411Z"
    }
   },
   "cell_type": "code",
   "source": [
    "mesh = pinnstorch.data.PointCloud(root_dir='./data',\n",
    "                                  read_data_fn=read_data_fn)"
   ],
   "id": "4788121d7e93f9af",
   "outputs": [
    {
     "name": "stdout",
     "output_type": "stream",
     "text": [
      " x has (256, 1) shape with min: -5.0, max: 4.9609375\n",
      " t has (201, 1) shape with min: 0.0, max: 1.5707963267948966\n",
      "  exact_u (256, 201) shape with min: -3.932425448799453, max: 2.1998422786360754\n",
      " exact_v (256, 201) shape with min: -3.4523031901896957, max: 2.754265786698505\n",
      " exact_h  (256, 201) shape with min: 0.015981892796576278, max: 3.9987582390710266\n"
     ]
    }
   ],
   "execution_count": 4
  },
  {
   "metadata": {},
   "cell_type": "markdown",
   "source": [
    "### Define Train datasets\n",
    "\n",
    "For solving Schrodinger PDE, we have:\n",
    "- Initial condition\n",
    "- Periodic boundary condition\n",
    "- Collection points for the PDE."
   ],
   "id": "8674c5a7b7188218"
  },
  {
   "metadata": {},
   "cell_type": "markdown",
   "source": [
    "#### Initial Condition\n",
    "\n",
    "Let's start with initial condition of the Schrodinger.\n",
    "$$ u(0, x) = 2 \\text{sech}(x) $$\n",
    "$$ v(0, x) = 0 $$\n",
    "\n",
    "For defining initial condition, again we have two options.\n",
    "\n",
    "- **Sample from the data.**\n",
    "- **Defining a function for calculating initial condition.**"
   ],
   "id": "60a28a65693bcdc8"
  },
  {
   "metadata": {},
   "cell_type": "markdown",
   "source": "##### Set number of samples",
   "id": "ae47ebe2f5d93a1f"
  },
  {
   "metadata": {
    "ExecuteTime": {
     "end_time": "2025-09-17T23:27:56.262270Z",
     "start_time": "2025-09-17T23:27:56.241529Z"
    }
   },
   "cell_type": "code",
   "source": "NO = 50",
   "id": "e3f6a6a9e2842fd2",
   "outputs": [],
   "execution_count": 5
  },
  {
   "metadata": {},
   "cell_type": "markdown",
   "source": "The input of `initial_fun` should be the same as spatial domain of the problem.",
   "id": "85f122b432c5c575"
  },
  {
   "metadata": {
    "ExecuteTime": {
     "end_time": "2025-09-17T23:27:56.293847Z",
     "start_time": "2025-09-17T23:27:56.275461Z"
    }
   },
   "cell_type": "code",
   "source": [
    "def initial_fun(x):\n",
    "    return {'u': 2*1/np.cosh(x), 'v': np.zeros_like(x)}"
   ],
   "id": "7b442a17c109669c",
   "outputs": [],
   "execution_count": 6
  },
  {
   "metadata": {
    "ExecuteTime": {
     "end_time": "2025-09-17T23:27:56.323984Z",
     "start_time": "2025-09-17T23:27:56.309825Z"
    }
   },
   "cell_type": "code",
   "source": [
    "in_c = pinnstorch.data.InitialCondition(mesh = mesh,\n",
    "                                        num_sample = NO,\n",
    "                                        initial_fun = initial_fun,\n",
    "                                        solution = ['u', 'v'])"
   ],
   "id": "bb33a00e6fe19816",
   "outputs": [],
   "execution_count": 7
  },
  {
   "metadata": {},
   "cell_type": "markdown",
   "source": "The `solution` attribute in `pinnstorch.data.InitialCondition` specifies the solutions (`u` and `v` in our case) to be sampled for initial conditions.",
   "id": "87bf5e73660056f8"
  },
  {
   "metadata": {},
   "cell_type": "markdown",
   "source": "#### Periodic Boundary Condition",
   "id": "6ff7dcb5d38b74f8"
  },
  {
   "metadata": {},
   "cell_type": "markdown",
   "source": [
    "The `pinnstorch.data.PeriodicBoundaryCondition` is used to sample periodic points from the upper and lower bounds of the spatial domain (mesh). The `derivative_order` parameter specifies the order of the derivative to be matched at these boundaries. In our case, for the Schrödinger equation, both the function and its first spatial derivative should match at the boundaries, hence `derivative_order = 1`.\n",
    "\n",
    "\n",
    "$$ u(t,-5) = u(t, 5), $$\n",
    "$$ v(t,-5) = v(t, 5), $$\n",
    "$$ u_x(t,-5) = u_x(t, 5),$$\n",
    "$$ v_x(t,-5) = v_x(t, 5) $$"
   ],
   "id": "545a8422a5186c1d"
  },
  {
   "metadata": {
    "ExecuteTime": {
     "end_time": "2025-09-17T23:27:56.355193Z",
     "start_time": "2025-09-17T23:27:56.338259Z"
    }
   },
   "cell_type": "code",
   "source": [
    "N_b = 50\n",
    "pe_b = pinnstorch.data.PeriodicBoundaryCondition(mesh = mesh,\n",
    "                                                 num_sample = N_b,\n",
    "                                                 derivative_order = 1,\n",
    "                                                 solution = ['u', 'v'])"
   ],
   "id": "d065c9e5431f6688",
   "outputs": [],
   "execution_count": 8
  },
  {
   "metadata": {},
   "cell_type": "markdown",
   "source": [
    "#### Mesh Sampler for collection points and solutions\n",
    "\n",
    "In our problem, the partial differential equations (PDEs) governing the dynamics are given by:\n",
    "\n",
    "$$ f_u := u_t + 0.5v_{xx} + v(u^2 +v^2),$$\n",
    "$$ f_v := v_t + 0.5u_{xx} + u(u^2 +v^2) $$\n",
    "\n",
    "To find the solutions to these PDEs using a neural network, we must sample points from the domain at which the network will be trained to satisfy these equations. This sampling process is crucial for training our PINN. We utilize the `pinnstorch.data.MeshSampler` for this purpose, specifying the following:\n",
    "\n",
    "- **Number of Sample Points (N_f):** We choose to sample 20,000 points from the domain. This number is a balance between computational efficiency and the need for a sufficiently dense sampling to capture the dynamics of the PDEs.\n",
    "- **Mesh (mesh):** This parameter defines the spatial-temporal domain from which the points will be sampled.\n",
    "- **Collection Points:** We define `['f_u', 'f_v']` as the targets for our collection points. These are not direct outputs from the neural network but are derived from the network outputs and their derivatives (We will define `pde_fn` function later). The PINN will be trained such that these expressions tend towards zero, aligning with the PDE constraints.\n",
    "\n",
    "Here's the code to implement this sampler:"
   ],
   "id": "bd05fae32208852f"
  },
  {
   "metadata": {
    "ExecuteTime": {
     "end_time": "2025-09-17T23:27:56.416825Z",
     "start_time": "2025-09-17T23:27:56.388985Z"
    }
   },
   "cell_type": "code",
   "source": [
    "N_f = 20000\n",
    "me_s = pinnstorch.data.MeshSampler(mesh = mesh,\n",
    "                                   num_sample = N_f,\n",
    "                                   collection_points = ['f_v', 'f_u'])"
   ],
   "id": "8734a1f980770e18",
   "outputs": [],
   "execution_count": 9
  },
  {
   "metadata": {
    "ExecuteTime": {
     "end_time": "2025-09-17T23:27:56.448346Z",
     "start_time": "2025-09-17T23:27:56.436258Z"
    }
   },
   "cell_type": "code",
   "source": "",
   "id": "6ce7ae106333b202",
   "outputs": [],
   "execution_count": null
  },
  {
   "metadata": {},
   "cell_type": "markdown",
   "source": [
    "### Define Validation dataset\n",
    "\n",
    "For validation, we sample all points from the mesh to evaluate our model comprehensively. Model will be validated for solutions of `u`, `v`, and `h`.\n",
    "\n",
    "**Note:** If `num_sample` is not specified, the sampler will use the entire mesh for data sampling."
   ],
   "id": "ee7e0926eba79067"
  },
  {
   "metadata": {
    "ExecuteTime": {
     "end_time": "2025-09-17T23:27:56.479525Z",
     "start_time": "2025-09-17T23:27:56.465864Z"
    }
   },
   "cell_type": "code",
   "source": [
    "val_s = pinnstorch.data.MeshSampler(mesh = mesh,\n",
    "                                    solution = ['u', 'v', 'h'])"
   ],
   "id": "9ae2e0e436ca3f4a",
   "outputs": [],
   "execution_count": 10
  },
  {
   "metadata": {},
   "cell_type": "markdown",
   "source": [
    "### Define `pde_fn` and `output_fn` functions\n",
    "\n",
    "Now, we define `pde_fn` and `output_fn`.\n",
    "- **`output_fn`:** is applied to the network's output, adding any necessary post-processing computations. For example, in our case, `h(x,t) = u(x,t)**2 + v(x,t)**2`, thus, we define this equation in `output_fn`.\n",
    "- **`pde_fn`:** formulates the PDE constraints, which will be used by the `MeshSampler` to compute the loss at the collection points."
   ],
   "id": "8d5263552300341e"
  },
  {
   "metadata": {},
   "cell_type": "markdown",
   "source": [
    "#### `output_fn` function\n",
    "\n",
    "**Note:** `output_fn` should always have these inputs:\n",
    "- **Outputs:** It is output of the network. In our case, this dictionary should have two output: `u` and `v`.\n",
    "- **Spatial domains:** These are the spatial domain variables. In our case, because our problem has 1-D spatial domain, the input just have `x`. For example, if we had 2-D space, we need another input for that dimention. For example, the inputs from `(outputs, x, t)` will be changed to `(outputs, x, y, t)`.\n",
    "- **Time domin:** The last input of `output_fn` function always should be time."
   ],
   "id": "587ad365fece9537"
  },
  {
   "metadata": {
    "ExecuteTime": {
     "end_time": "2025-09-17T23:27:56.509502Z",
     "start_time": "2025-09-17T23:27:56.498399Z"
    }
   },
   "cell_type": "code",
   "source": [
    "def output_fn(outputs: Dict[str, torch.Tensor],\n",
    "              x: torch.Tensor,\n",
    "              t: torch.Tensor):\n",
    "    \"\"\"Define `output_fn` function that will be applied to outputs of net.\"\"\"\n",
    "\n",
    "    outputs[\"h\"] = torch.sqrt(outputs[\"u\"] ** 2 + outputs[\"v\"] ** 2)\n",
    "\n",
    "    return outputs"
   ],
   "id": "2d383cf53ae93e7f",
   "outputs": [],
   "execution_count": 11
  },
  {
   "metadata": {},
   "cell_type": "markdown",
   "source": [
    "#### `pde_fn` function\n",
    "\n",
    "The inputs are similar to `output_fn`. Only if we have extra variables for training (i.g. in inverse problems), we should add input at the end of inputs. For example, `(outputs, x, t)` will be `(outputs, x, t, extra_variable)`. `extra_variable` is always a dictionary."
   ],
   "id": "977d649c31b4e32a"
  },
  {
   "metadata": {
    "ExecuteTime": {
     "end_time": "2025-09-17T23:27:56.540409Z",
     "start_time": "2025-09-17T23:27:56.527228Z"
    }
   },
   "cell_type": "code",
   "source": [
    "def pde_fn(outputs: Dict[str, torch.Tensor],\n",
    "           x: torch.Tensor,\n",
    "           t: torch.Tensor):\n",
    "    \"\"\"Define the partial differential equations (PDEs).\"\"\"\n",
    "    u_x, u_t = pinnstorch.utils.gradient(outputs[\"u\"], [x, t])\n",
    "    v_x, v_t = pinnstorch.utils.gradient(outputs[\"v\"], [x, t])\n",
    "\n",
    "    u_xx = pinnstorch.utils.gradient(u_x, x)[0]\n",
    "    v_xx = pinnstorch.utils.gradient(v_x, x)[0]\n",
    "\n",
    "    outputs[\"f_u\"] = u_t + 0.5 * v_xx + (outputs[\"u\"] ** 2 + outputs[\"v\"] ** 2) * outputs[\"v\"]\n",
    "    outputs[\"f_v\"] = v_t - 0.5 * u_xx - (outputs[\"u\"] ** 2 + outputs[\"v\"] ** 2) * outputs[\"u\"]\n",
    "\n",
    "    return outputs"
   ],
   "id": "7db6b0340b71302f",
   "outputs": [],
   "execution_count": 12
  },
  {
   "metadata": {},
   "cell_type": "markdown",
   "source": [
    "### Define PINNDataModule and PINNModule\n",
    "\n",
    "To integrate with Lightning, we utilize two specialized modules:\n",
    "\n",
    "- `PINNDataModule` (inherited from `LightningDataModule`) manages data.\n",
    "- `PINNModule` (derived from `LightningModule`) handles the model, compilation, and various enhancements like AMP."
   ],
   "id": "a5df194ad77c0b59"
  },
  {
   "metadata": {},
   "cell_type": "markdown",
   "source": [
    "#### Define `PINNDataModule`\n",
    "Here, we define collection points, initial condition, and preiodic boundary condition as training datasets, and also, we set validation set. `PINNDataModule` is used for defining training, validation, prediction, and test datasets."
   ],
   "id": "215ed7a78b79aeff"
  },
  {
   "metadata": {
    "ExecuteTime": {
     "end_time": "2025-09-17T23:27:56.571808Z",
     "start_time": "2025-09-17T23:27:56.555627Z"
    }
   },
   "cell_type": "code",
   "source": [
    "train_datasets = [me_s, in_c, pe_b]\n",
    "val_dataset = val_s\n",
    "datamodule = pinnstorch.data.PINNDataModule(train_datasets = [me_s, in_c, pe_b],\n",
    "                                            val_dataset = val_dataset,\n",
    "                                            pred_dataset = val_s)"
   ],
   "id": "c0d300c122c8d391",
   "outputs": [],
   "execution_count": 13
  },
  {
   "metadata": {
    "ExecuteTime": {
     "end_time": "2025-09-17T23:27:56.587468Z",
     "start_time": "2025-09-17T23:27:56.582843Z"
    }
   },
   "cell_type": "code",
   "source": "",
   "id": "1d8e0f73cf1f535",
   "outputs": [],
   "execution_count": null
  },
  {
   "metadata": {
    "ExecuteTime": {
     "end_time": "2025-09-17T23:27:56.602758Z",
     "start_time": "2025-09-17T23:27:56.596689Z"
    }
   },
   "cell_type": "code",
   "source": "",
   "id": "d11c0978e302a0de",
   "outputs": [],
   "execution_count": null
  },
  {
   "metadata": {},
   "cell_type": "markdown",
   "source": "## DEFINING MODELS",
   "id": "334e55234654ce2c"
  },
  {
   "metadata": {
    "ExecuteTime": {
     "end_time": "2025-09-17T23:27:56.617585Z",
     "start_time": "2025-09-17T23:27:56.610534Z"
    }
   },
   "cell_type": "code",
   "source": "import time",
   "id": "e29bd05361908ec4",
   "outputs": [],
   "execution_count": 14
  },
  {
   "metadata": {},
   "cell_type": "markdown",
   "source": "Define the layers and epochs of your model below",
   "id": "e28301889029a884"
  },
  {
   "metadata": {
    "ExecuteTime": {
     "end_time": "2025-09-17T23:27:56.647995Z",
     "start_time": "2025-09-17T23:27:56.629638Z"
    }
   },
   "cell_type": "code",
   "source": [
    "layers = [2, 100, 100, 100, 100, 2]\n",
    "num_epochs = 100"
   ],
   "id": "9bed08d5d22ba984",
   "outputs": [],
   "execution_count": 15
  },
  {
   "metadata": {},
   "cell_type": "markdown",
   "source": "### Activations and Initializers\n",
   "id": "186c0d1f29eaa9f3"
  },
  {
   "metadata": {},
   "cell_type": "markdown",
   "source": [
    "##### DEFAULT\n",
    "\n",
    "The default activation for PINNS is typically the `Hyperbolic Tangent` also known as `Tanh`.\n",
    "\n",
    "![](https://www.aitude.com/wp-content/uploads/2020/08/507x279xtanh-graph-aitude-1024x564.png.pagespeed.ic.W1m7DEvoG3.png)\n"
   ],
   "id": "bd4c24b099d27daa"
  },
  {
   "metadata": {
    "ExecuteTime": {
     "end_time": "2025-09-17T23:27:56.679649Z",
     "start_time": "2025-09-17T23:27:56.657875Z"
    }
   },
   "cell_type": "code",
   "source": [
    "net_tanh = pinnstorch.models.FCN(layers=layers,\n",
    "                            output_names=['u', 'v'],\n",
    "                            lb=mesh.lb,\n",
    "                            ub=mesh.ub,\n",
    "                            activation=\"TANH\",  # use registry\n",
    "                            activation_kwargs={},  # extra params\n",
    "                            initializer=\"XAVIER_UNIFORM\",  # use registry\n",
    "                            initializer_kwargs={},  # extra params\n",
    "                            layer_type='BASE',\n",
    "                            layer_kwargs={}\n",
    "                            )"
   ],
   "id": "6c909e0e7dda63f",
   "outputs": [],
   "execution_count": 16
  },
  {
   "metadata": {
    "ExecuteTime": {
     "end_time": "2025-09-17T23:27:56.710339Z",
     "start_time": "2025-09-17T23:27:56.690458Z"
    }
   },
   "cell_type": "code",
   "source": [
    "model = pinnstorch.models.PINNModule(net = net_tanh,\n",
    "                                     pde_fn = pde_fn,\n",
    "                                     output_fn = output_fn,\n",
    "                                     loss_fn = 'mse')"
   ],
   "id": "baa3e48c0599da9f",
   "outputs": [],
   "execution_count": 17
  },
  {
   "metadata": {
    "ExecuteTime": {
     "end_time": "2025-09-17T23:28:09.782713Z",
     "start_time": "2025-09-17T23:27:56.724776Z"
    }
   },
   "cell_type": "code",
   "source": [
    "trainer = pl.Trainer(accelerator='gpu', devices=1, max_epochs = num_epochs)\n",
    "start_time = time.time()\n",
    "\n",
    "trainer.fit(model=model, datamodule=datamodule)\n",
    "end_time = time.time()"
   ],
   "id": "4ddb88772b1c73a",
   "outputs": [
    {
     "name": "stderr",
     "output_type": "stream",
     "text": [
      "💡 Tip: For seamless cloud uploads and versioning, try installing [litmodels](https://pypi.org/project/litmodels/) to enable LitModelCheckpoint, which syncs automatically with the Lightning model registry.\n",
      "GPU available: True (cuda), used: True\n",
      "TPU available: False, using: 0 TPU cores\n",
      "HPU available: False, using: 0 HPUs\n",
      "C:\\Users\\micke\\anaconda3\\envs\\myenv\\lib\\site-packages\\lightning\\pytorch\\trainer\\connectors\\logger_connector\\logger_connector.py:76: Starting from v1.9.0, `tensorboardX` has been removed as a dependency of the `lightning.pytorch` package, due to potential conflicts with other packages in the ML ecosystem. For this reason, `logger=True` will use `CSVLogger` as the default logger, unless the `tensorboard` or `tensorboardX` packages are found. Please `pip install lightning[extra]` or one of them to enable TensorBoard support by default\n",
      "You are using a CUDA device ('NVIDIA GeForce RTX 4080 Laptop GPU') that has Tensor Cores. To properly utilize them, you should set `torch.set_float32_matmul_precision('medium' | 'high')` which will trade-off precision for performance. For more details, read https://pytorch.org/docs/stable/generated/torch.set_float32_matmul_precision.html#torch.set_float32_matmul_precision\n",
      "LOCAL_RANK: 0 - CUDA_VISIBLE_DEVICES: [0]\n",
      "\n",
      "  | Name          | Type       | Params | Mode \n",
      "-----------------------------------------------------\n",
      "0 | net           | FCN        | 30.8 K | train\n",
      "1 | train_loss    | MeanMetric | 0      | train\n",
      "2 | val_loss      | MeanMetric | 0      | train\n",
      "3 | val_error     | MeanMetric | 0      | train\n",
      "4 | test_loss     | MeanMetric | 0      | train\n",
      "5 | test_error    | MeanMetric | 0      | train\n",
      "6 | val_loss_best | MinMetric  | 0      | train\n",
      "-----------------------------------------------------\n",
      "30.8 K    Trainable params\n",
      "0         Non-trainable params\n",
      "30.8 K    Total params\n",
      "0.123     Total estimated model params size (MB)\n",
      "23        Modules in train mode\n",
      "0         Modules in eval mode\n"
     ]
    },
    {
     "name": "stdout",
     "output_type": "stream",
     "text": [
      "Sanity Checking: |          | 0/? [00:00<?, ?it/s]"
     ]
    },
    {
     "name": "stderr",
     "output_type": "stream",
     "text": [
      "C:\\Users\\micke\\anaconda3\\envs\\myenv\\lib\\site-packages\\lightning\\pytorch\\trainer\\connectors\\data_connector.py:377: You have overridden `transfer_batch_to_device` in `LightningModule` but have passed in a `LightningDataModule`. It will use the implementation from `LightningModule` instance.\n"
     ]
    },
    {
     "name": "stdout",
     "output_type": "stream",
     "text": [
      "                                                                           "
     ]
    },
    {
     "name": "stderr",
     "output_type": "stream",
     "text": [
      "C:\\Users\\micke\\anaconda3\\envs\\myenv\\lib\\site-packages\\lightning\\pytorch\\loops\\fit_loop.py:310: The number of training batches (1) is smaller than the logging interval Trainer(log_every_n_steps=50). Set a lower value for log_every_n_steps if you want to see logs for the training epoch.\n"
     ]
    },
    {
     "name": "stdout",
     "output_type": "stream",
     "text": [
      "Epoch 0:   0%|          | 0/1 [00:00<?, ?it/s]"
     ]
    },
    {
     "name": "stderr",
     "output_type": "stream",
     "text": [
      "C:\\Users\\micke\\anaconda3\\envs\\myenv\\lib\\site-packages\\torch\\jit\\_trace.py:165: UserWarning: The .grad attribute of a Tensor that is not a leaf Tensor is being accessed. Its .grad attribute won't be populated during autograd.backward(). If you indeed want the .grad field to be populated for a non-leaf Tensor, use .retain_grad() on the non-leaf Tensor. If you access the non-leaf Tensor by mistake, make sure you access the leaf Tensor instead. See github.com/pytorch/pytorch/pull/30531 for more informations. (Triggered internally at C:\\actions-runner\\_work\\pytorch\\pytorch\\pytorch\\build\\aten\\src\\ATen/core/TensorBody.h:494.)\n",
      "  if a.grad is not None:\n",
      "C:\\Users\\micke\\anaconda3\\envs\\myenv\\lib\\site-packages\\torch\\jit\\_trace.py:165: UserWarning: The .grad attribute of a Tensor that is not a leaf Tensor is being accessed. Its .grad attribute won't be populated during autograd.backward(). If you indeed want the .grad field to be populated for a non-leaf Tensor, use .retain_grad() on the non-leaf Tensor. If you access the non-leaf Tensor by mistake, make sure you access the leaf Tensor instead. See github.com/pytorch/pytorch/pull/30531 for more informations. (Triggered internally at C:\\actions-runner\\_work\\pytorch\\pytorch\\pytorch\\build\\aten\\src\\ATen/core/TensorBody.h:494.)\n",
      "  if a.grad is not None:\n",
      "C:\\Users\\micke\\anaconda3\\envs\\myenv\\lib\\site-packages\\torch\\jit\\_trace.py:165: UserWarning: The .grad attribute of a Tensor that is not a leaf Tensor is being accessed. Its .grad attribute won't be populated during autograd.backward(). If you indeed want the .grad field to be populated for a non-leaf Tensor, use .retain_grad() on the non-leaf Tensor. If you access the non-leaf Tensor by mistake, make sure you access the leaf Tensor instead. See github.com/pytorch/pytorch/pull/30531 for more informations. (Triggered internally at C:\\actions-runner\\_work\\pytorch\\pytorch\\pytorch\\build\\aten\\src\\ATen/core/TensorBody.h:494.)\n",
      "  if a.grad is not None:\n"
     ]
    },
    {
     "name": "stdout",
     "output_type": "stream",
     "text": [
      "Epoch 0: 100%|██████████| 1/1 [00:01<00:00,  0.59it/s, v_num=14, train/loss_step=1.120]"
     ]
    },
    {
     "name": "stderr",
     "output_type": "stream",
     "text": [
      "C:\\Users\\micke\\anaconda3\\envs\\myenv\\lib\\site-packages\\torch\\jit\\_trace.py:165: UserWarning: The .grad attribute of a Tensor that is not a leaf Tensor is being accessed. Its .grad attribute won't be populated during autograd.backward(). If you indeed want the .grad field to be populated for a non-leaf Tensor, use .retain_grad() on the non-leaf Tensor. If you access the non-leaf Tensor by mistake, make sure you access the leaf Tensor instead. See github.com/pytorch/pytorch/pull/30531 for more informations. (Triggered internally at C:\\actions-runner\\_work\\pytorch\\pytorch\\pytorch\\build\\aten\\src\\ATen/core/TensorBody.h:494.)\n",
      "  if a.grad is not None:\n",
      "C:\\Users\\micke\\anaconda3\\envs\\myenv\\lib\\site-packages\\torch\\jit\\_trace.py:165: UserWarning: The .grad attribute of a Tensor that is not a leaf Tensor is being accessed. Its .grad attribute won't be populated during autograd.backward(). If you indeed want the .grad field to be populated for a non-leaf Tensor, use .retain_grad() on the non-leaf Tensor. If you access the non-leaf Tensor by mistake, make sure you access the leaf Tensor instead. See github.com/pytorch/pytorch/pull/30531 for more informations. (Triggered internally at C:\\actions-runner\\_work\\pytorch\\pytorch\\pytorch\\build\\aten\\src\\ATen/core/TensorBody.h:494.)\n",
      "  if a.grad is not None:\n"
     ]
    },
    {
     "name": "stdout",
     "output_type": "stream",
     "text": [
      "\n",
      "Validation: |          | 0/? [00:00<?, ?it/s]\u001B[A\n",
      "Validation: |          | 0/? [00:00<?, ?it/s]\u001B[A\n",
      "Validation DataLoader 0:   0%|          | 0/1 [00:00<?, ?it/s]\u001B[A\n",
      "Validation DataLoader 0: 100%|██████████| 1/1 [00:00<00:00, 86.83it/s]\u001B[A\n",
      "Epoch 1: 100%|██████████| 1/1 [00:00<00:00,  5.65it/s, v_num=14, train/loss_step=0.878, val/loss=1.440, val/error_u=1.050, val/error_v=1.110, val/error_h=0.801, val/loss_best=1.440, train/loss_epoch=1.120]\n",
      "Validation: |          | 0/? [00:00<?, ?it/s]\u001B[A\n",
      "Validation: |          | 0/? [00:00<?, ?it/s]\u001B[A\n",
      "Validation DataLoader 0:   0%|          | 0/1 [00:00<?, ?it/s]\u001B[A\n",
      "Validation DataLoader 0: 100%|██████████| 1/1 [00:00<00:00, 86.43it/s]\u001B[A\n",
      "Epoch 2: 100%|██████████| 1/1 [00:00<00:00,  1.58it/s, v_num=14, train/loss_step=0.514, val/loss=1.150, val/error_u=0.902, val/error_v=0.965, val/error_h=0.759, val/loss_best=1.150, train/loss_epoch=0.878]\n",
      "Validation: |          | 0/? [00:00<?, ?it/s]\u001B[A\n",
      "Validation: |          | 0/? [00:00<?, ?it/s]\u001B[A\n",
      "Validation DataLoader 0:   0%|          | 0/1 [00:00<?, ?it/s]\u001B[A\n",
      "Validation DataLoader 0: 100%|██████████| 1/1 [00:00<00:00, 40.68it/s]\u001B[A\n",
      "Epoch 3: 100%|██████████| 1/1 [00:00<00:00, 34.19it/s, v_num=14, train/loss_step=0.588, val/loss=1.160, val/error_u=0.864, val/error_v=1.040, val/error_h=0.760, val/loss_best=1.150, train/loss_epoch=0.514]\n",
      "Validation: |          | 0/? [00:00<?, ?it/s]\u001B[A\n",
      "Validation: |          | 0/? [00:00<?, ?it/s]\u001B[A\n",
      "Validation DataLoader 0:   0%|          | 0/1 [00:00<?, ?it/s]\u001B[A\n",
      "Validation DataLoader 0: 100%|██████████| 1/1 [00:00<00:00, 80.13it/s]\u001B[A\n",
      "Epoch 4: 100%|██████████| 1/1 [00:00<00:00, 26.70it/s, v_num=14, train/loss_step=0.629, val/loss=1.200, val/error_u=0.875, val/error_v=1.080, val/error_h=0.762, val/loss_best=1.150, train/loss_epoch=0.588]\n",
      "Validation: |          | 0/? [00:00<?, ?it/s]\u001B[A\n",
      "Validation: |          | 0/? [00:00<?, ?it/s]\u001B[A\n",
      "Validation DataLoader 0:   0%|          | 0/1 [00:00<?, ?it/s]\u001B[A\n",
      "Validation DataLoader 0: 100%|██████████| 1/1 [00:00<00:00, 81.79it/s]\u001B[A\n",
      "Epoch 5: 100%|██████████| 1/1 [00:00<00:00, 34.21it/s, v_num=14, train/loss_step=0.589, val/loss=1.190, val/error_u=0.871, val/error_v=1.080, val/error_h=0.759, val/loss_best=1.150, train/loss_epoch=0.629]\n",
      "Validation: |          | 0/? [00:00<?, ?it/s]\u001B[A\n",
      "Validation: |          | 0/? [00:00<?, ?it/s]\u001B[A\n",
      "Validation DataLoader 0:   0%|          | 0/1 [00:00<?, ?it/s]\u001B[A\n",
      "Validation DataLoader 0: 100%|██████████| 1/1 [00:00<00:00, 72.77it/s]\u001B[A\n",
      "Epoch 6: 100%|██████████| 1/1 [00:00<00:00, 30.26it/s, v_num=14, train/loss_step=0.509, val/loss=1.200, val/error_u=0.886, val/error_v=1.090, val/error_h=0.756, val/loss_best=1.150, train/loss_epoch=0.589]\n",
      "Validation: |          | 0/? [00:00<?, ?it/s]\u001B[A\n",
      "Validation: |          | 0/? [00:00<?, ?it/s]\u001B[A\n",
      "Validation DataLoader 0:   0%|          | 0/1 [00:00<?, ?it/s]\u001B[A\n",
      "Validation DataLoader 0: 100%|██████████| 1/1 [00:00<00:00, 63.60it/s]\u001B[A\n",
      "Epoch 7: 100%|██████████| 1/1 [00:00<00:00, 31.09it/s, v_num=14, train/loss_step=0.460, val/loss=1.330, val/error_u=0.965, val/error_v=1.100, val/error_h=0.785, val/loss_best=1.150, train/loss_epoch=0.509]\n",
      "Validation: |          | 0/? [00:00<?, ?it/s]\u001B[A\n",
      "Validation: |          | 0/? [00:00<?, ?it/s]\u001B[A\n",
      "Validation DataLoader 0:   0%|          | 0/1 [00:00<?, ?it/s]\u001B[A\n",
      "Validation DataLoader 0: 100%|██████████| 1/1 [00:00<00:00, 45.40it/s]\u001B[A\n",
      "Epoch 8: 100%|██████████| 1/1 [00:00<00:00, 30.36it/s, v_num=14, train/loss_step=0.568, val/loss=1.510, val/error_u=1.060, val/error_v=1.130, val/error_h=0.838, val/loss_best=1.150, train/loss_epoch=0.460]\n",
      "Validation: |          | 0/? [00:00<?, ?it/s]\u001B[A\n",
      "Validation: |          | 0/? [00:00<?, ?it/s]\u001B[A\n",
      "Validation DataLoader 0:   0%|          | 0/1 [00:00<?, ?it/s]\u001B[A\n",
      "Validation DataLoader 0: 100%|██████████| 1/1 [00:00<00:00, 63.85it/s]\u001B[A\n",
      "Epoch 9: 100%|██████████| 1/1 [00:00<00:00, 31.28it/s, v_num=14, train/loss_step=0.509, val/loss=1.440, val/error_u=1.040, val/error_v=1.110, val/error_h=0.816, val/loss_best=1.150, train/loss_epoch=0.568]\n",
      "Validation: |          | 0/? [00:00<?, ?it/s]\u001B[A\n",
      "Validation: |          | 0/? [00:00<?, ?it/s]\u001B[A\n",
      "Validation DataLoader 0:   0%|          | 0/1 [00:00<?, ?it/s]\u001B[A\n",
      "Validation DataLoader 0: 100%|██████████| 1/1 [00:00<00:00, 65.20it/s]\u001B[A\n",
      "Epoch 10: 100%|██████████| 1/1 [00:00<00:00, 32.54it/s, v_num=14, train/loss_step=0.481, val/loss=1.310, val/error_u=0.960, val/error_v=1.100, val/error_h=0.779, val/loss_best=1.150, train/loss_epoch=0.509]\n",
      "Validation: |          | 0/? [00:00<?, ?it/s]\u001B[A\n",
      "Validation: |          | 0/? [00:00<?, ?it/s]\u001B[A\n",
      "Validation DataLoader 0:   0%|          | 0/1 [00:00<?, ?it/s]\u001B[A\n",
      "Validation DataLoader 0: 100%|██████████| 1/1 [00:00<00:00, 69.09it/s]\u001B[A\n",
      "Epoch 11: 100%|██████████| 1/1 [00:00<00:00, 31.24it/s, v_num=14, train/loss_step=0.499, val/loss=1.260, val/error_u=0.914, val/error_v=1.110, val/error_h=0.765, val/loss_best=1.150, train/loss_epoch=0.481]\n",
      "Validation: |          | 0/? [00:00<?, ?it/s]\u001B[A\n",
      "Validation: |          | 0/? [00:00<?, ?it/s]\u001B[A\n",
      "Validation DataLoader 0:   0%|          | 0/1 [00:00<?, ?it/s]\u001B[A\n",
      "Validation DataLoader 0: 100%|██████████| 1/1 [00:00<00:00, 55.62it/s]\u001B[A\n",
      "Epoch 12: 100%|██████████| 1/1 [00:00<00:00, 32.12it/s, v_num=14, train/loss_step=0.496, val/loss=1.270, val/error_u=0.900, val/error_v=1.140, val/error_h=0.767, val/loss_best=1.150, train/loss_epoch=0.499]\n",
      "Validation: |          | 0/? [00:00<?, ?it/s]\u001B[A\n",
      "Validation: |          | 0/? [00:00<?, ?it/s]\u001B[A\n",
      "Validation DataLoader 0:   0%|          | 0/1 [00:00<?, ?it/s]\u001B[A\n",
      "Validation DataLoader 0: 100%|██████████| 1/1 [00:00<00:00, 65.46it/s]\u001B[A\n",
      "Epoch 13: 100%|██████████| 1/1 [00:00<00:00, 27.55it/s, v_num=14, train/loss_step=0.487, val/loss=1.300, val/error_u=0.906, val/error_v=1.160, val/error_h=0.776, val/loss_best=1.150, train/loss_epoch=0.496]\n",
      "Validation: |          | 0/? [00:00<?, ?it/s]\u001B[A\n",
      "Validation: |          | 0/? [00:00<?, ?it/s]\u001B[A\n",
      "Validation DataLoader 0:   0%|          | 0/1 [00:00<?, ?it/s]\u001B[A\n",
      "Validation DataLoader 0: 100%|██████████| 1/1 [00:00<00:00, 66.22it/s]\u001B[A\n",
      "Epoch 14: 100%|██████████| 1/1 [00:00<00:00, 32.73it/s, v_num=14, train/loss_step=0.467, val/loss=1.300, val/error_u=0.927, val/error_v=1.130, val/error_h=0.780, val/loss_best=1.150, train/loss_epoch=0.487]\n",
      "Validation: |          | 0/? [00:00<?, ?it/s]\u001B[A\n",
      "Validation: |          | 0/? [00:00<?, ?it/s]\u001B[A\n",
      "Validation DataLoader 0:   0%|          | 0/1 [00:00<?, ?it/s]\u001B[A\n",
      "Validation DataLoader 0: 100%|██████████| 1/1 [00:00<00:00, 73.82it/s]\u001B[A\n",
      "Epoch 15: 100%|██████████| 1/1 [00:00<00:00, 30.21it/s, v_num=14, train/loss_step=0.440, val/loss=1.280, val/error_u=0.951, val/error_v=1.070, val/error_h=0.778, val/loss_best=1.150, train/loss_epoch=0.467]\n",
      "Validation: |          | 0/? [00:00<?, ?it/s]\u001B[A\n",
      "Validation: |          | 0/? [00:00<?, ?it/s]\u001B[A\n",
      "Validation DataLoader 0:   0%|          | 0/1 [00:00<?, ?it/s]\u001B[A\n",
      "Validation DataLoader 0: 100%|██████████| 1/1 [00:00<00:00, 71.71it/s]\u001B[A\n",
      "Epoch 16: 100%|██████████| 1/1 [00:00<00:00, 31.47it/s, v_num=14, train/loss_step=0.436, val/loss=1.260, val/error_u=0.968, val/error_v=1.020, val/error_h=0.773, val/loss_best=1.150, train/loss_epoch=0.440]\n",
      "Validation: |          | 0/? [00:00<?, ?it/s]\u001B[A\n",
      "Validation: |          | 0/? [00:00<?, ?it/s]\u001B[A\n",
      "Validation DataLoader 0:   0%|          | 0/1 [00:00<?, ?it/s]\u001B[A\n",
      "Validation DataLoader 0: 100%|██████████| 1/1 [00:00<00:00, 77.78it/s]\u001B[A\n",
      "Epoch 17: 100%|██████████| 1/1 [00:00<00:00, 29.64it/s, v_num=14, train/loss_step=0.451, val/loss=1.250, val/error_u=0.971, val/error_v=1.000, val/error_h=0.769, val/loss_best=1.150, train/loss_epoch=0.436]\n",
      "Validation: |          | 0/? [00:00<?, ?it/s]\u001B[A\n",
      "Validation: |          | 0/? [00:00<?, ?it/s]\u001B[A\n",
      "Validation DataLoader 0:   0%|          | 0/1 [00:00<?, ?it/s]\u001B[A\n",
      "Validation DataLoader 0: 100%|██████████| 1/1 [00:00<00:00, 69.82it/s]\u001B[A\n",
      "Epoch 18: 100%|██████████| 1/1 [00:00<00:00, 30.22it/s, v_num=14, train/loss_step=0.457, val/loss=1.230, val/error_u=0.959, val/error_v=1.000, val/error_h=0.764, val/loss_best=1.150, train/loss_epoch=0.451]\n",
      "Validation: |          | 0/? [00:00<?, ?it/s]\u001B[A\n",
      "Validation: |          | 0/? [00:00<?, ?it/s]\u001B[A\n",
      "Validation DataLoader 0:   0%|          | 0/1 [00:00<?, ?it/s]\u001B[A\n",
      "Validation DataLoader 0: 100%|██████████| 1/1 [00:00<00:00, 32.76it/s]\u001B[A\n",
      "Epoch 19: 100%|██████████| 1/1 [00:00<00:00, 11.27it/s, v_num=14, train/loss_step=0.449, val/loss=1.200, val/error_u=0.940, val/error_v=0.996, val/error_h=0.759, val/loss_best=1.150, train/loss_epoch=0.457]\n",
      "Validation: |          | 0/? [00:00<?, ?it/s]\u001B[A\n",
      "Validation: |          | 0/? [00:00<?, ?it/s]\u001B[A\n",
      "Validation DataLoader 0:   0%|          | 0/1 [00:00<?, ?it/s]\u001B[A\n",
      "Validation DataLoader 0: 100%|██████████| 1/1 [00:00<00:00, 20.08it/s]\u001B[A\n",
      "Epoch 20: 100%|██████████| 1/1 [00:00<00:00, 11.01it/s, v_num=14, train/loss_step=0.440, val/loss=1.170, val/error_u=0.921, val/error_v=0.987, val/error_h=0.756, val/loss_best=1.150, train/loss_epoch=0.449]\n",
      "Validation: |          | 0/? [00:00<?, ?it/s]\u001B[A\n",
      "Validation: |          | 0/? [00:00<?, ?it/s]\u001B[A\n",
      "Validation DataLoader 0:   0%|          | 0/1 [00:00<?, ?it/s]\u001B[A\n",
      "Validation DataLoader 0: 100%|██████████| 1/1 [00:00<00:00, 38.20it/s]\u001B[A\n",
      "Epoch 21: 100%|██████████| 1/1 [00:00<00:00, 28.21it/s, v_num=14, train/loss_step=0.442, val/loss=1.160, val/error_u=0.909, val/error_v=0.983, val/error_h=0.755, val/loss_best=1.150, train/loss_epoch=0.440]\n",
      "Validation: |          | 0/? [00:00<?, ?it/s]\u001B[A\n",
      "Validation: |          | 0/? [00:00<?, ?it/s]\u001B[A\n",
      "Validation DataLoader 0:   0%|          | 0/1 [00:00<?, ?it/s]\u001B[A\n",
      "Validation DataLoader 0: 100%|██████████| 1/1 [00:00<00:00, 49.83it/s]\u001B[A\n",
      "Epoch 22: 100%|██████████| 1/1 [00:00<00:00, 19.25it/s, v_num=14, train/loss_step=0.450, val/loss=1.160, val/error_u=0.904, val/error_v=0.985, val/error_h=0.755, val/loss_best=1.150, train/loss_epoch=0.442]\n",
      "Validation: |          | 0/? [00:00<?, ?it/s]\u001B[A\n",
      "Validation: |          | 0/? [00:00<?, ?it/s]\u001B[A\n",
      "Validation DataLoader 0:   0%|          | 0/1 [00:00<?, ?it/s]\u001B[A\n",
      "Validation DataLoader 0: 100%|██████████| 1/1 [00:00<00:00, 49.04it/s]\u001B[A\n",
      "Epoch 23: 100%|██████████| 1/1 [00:00<00:00, 25.81it/s, v_num=14, train/loss_step=0.454, val/loss=1.160, val/error_u=0.905, val/error_v=0.987, val/error_h=0.755, val/loss_best=1.150, train/loss_epoch=0.450]\n",
      "Validation: |          | 0/? [00:00<?, ?it/s]\u001B[A\n",
      "Validation: |          | 0/? [00:00<?, ?it/s]\u001B[A\n",
      "Validation DataLoader 0:   0%|          | 0/1 [00:00<?, ?it/s]\u001B[A\n",
      "Validation DataLoader 0: 100%|██████████| 1/1 [00:00<00:00, 68.06it/s]\u001B[A\n",
      "Epoch 24: 100%|██████████| 1/1 [00:00<00:00, 26.74it/s, v_num=14, train/loss_step=0.449, val/loss=1.160, val/error_u=0.911, val/error_v=0.984, val/error_h=0.755, val/loss_best=1.150, train/loss_epoch=0.454]\n",
      "Validation: |          | 0/? [00:00<?, ?it/s]\u001B[A\n",
      "Validation: |          | 0/? [00:00<?, ?it/s]\u001B[A\n",
      "Validation DataLoader 0:   0%|          | 0/1 [00:00<?, ?it/s]\u001B[A\n",
      "Validation DataLoader 0: 100%|██████████| 1/1 [00:00<00:00, 58.14it/s]\u001B[A\n",
      "Epoch 25: 100%|██████████| 1/1 [00:00<00:00, 20.19it/s, v_num=14, train/loss_step=0.441, val/loss=1.170, val/error_u=0.919, val/error_v=0.981, val/error_h=0.755, val/loss_best=1.150, train/loss_epoch=0.449]\n",
      "Validation: |          | 0/? [00:00<?, ?it/s]\u001B[A\n",
      "Validation: |          | 0/? [00:00<?, ?it/s]\u001B[A\n",
      "Validation DataLoader 0:   0%|          | 0/1 [00:00<?, ?it/s]\u001B[A\n",
      "Validation DataLoader 0: 100%|██████████| 1/1 [00:00<00:00, 44.16it/s]\u001B[A\n",
      "Epoch 26: 100%|██████████| 1/1 [00:00<00:00, 20.91it/s, v_num=14, train/loss_step=0.439, val/loss=1.180, val/error_u=0.928, val/error_v=0.984, val/error_h=0.756, val/loss_best=1.150, train/loss_epoch=0.441]\n",
      "Validation: |          | 0/? [00:00<?, ?it/s]\u001B[A\n",
      "Validation: |          | 0/? [00:00<?, ?it/s]\u001B[A\n",
      "Validation DataLoader 0:   0%|          | 0/1 [00:00<?, ?it/s]\u001B[A\n",
      "Validation DataLoader 0: 100%|██████████| 1/1 [00:00<00:00, 60.59it/s]\u001B[A\n",
      "Epoch 27: 100%|██████████| 1/1 [00:00<00:00, 16.90it/s, v_num=14, train/loss_step=0.441, val/loss=1.190, val/error_u=0.937, val/error_v=0.991, val/error_h=0.757, val/loss_best=1.150, train/loss_epoch=0.439]\n",
      "Validation: |          | 0/? [00:00<?, ?it/s]\u001B[A\n",
      "Validation: |          | 0/? [00:00<?, ?it/s]\u001B[A\n",
      "Validation DataLoader 0:   0%|          | 0/1 [00:00<?, ?it/s]\u001B[A\n",
      "Validation DataLoader 0: 100%|██████████| 1/1 [00:00<00:00, 28.26it/s]\u001B[A\n",
      "Epoch 28: 100%|██████████| 1/1 [00:00<00:00, 25.82it/s, v_num=14, train/loss_step=0.442, val/loss=1.200, val/error_u=0.942, val/error_v=0.995, val/error_h=0.758, val/loss_best=1.150, train/loss_epoch=0.441]\n",
      "Validation: |          | 0/? [00:00<?, ?it/s]\u001B[A\n",
      "Validation: |          | 0/? [00:00<?, ?it/s]\u001B[A\n",
      "Validation DataLoader 0:   0%|          | 0/1 [00:00<?, ?it/s]\u001B[A\n",
      "Validation DataLoader 0: 100%|██████████| 1/1 [00:00<00:00, 47.74it/s]\u001B[A\n",
      "Epoch 29: 100%|██████████| 1/1 [00:00<00:00, 18.15it/s, v_num=14, train/loss_step=0.437, val/loss=1.200, val/error_u=0.944, val/error_v=0.995, val/error_h=0.759, val/loss_best=1.150, train/loss_epoch=0.442]\n",
      "Validation: |          | 0/? [00:00<?, ?it/s]\u001B[A\n",
      "Validation: |          | 0/? [00:00<?, ?it/s]\u001B[A\n",
      "Validation DataLoader 0:   0%|          | 0/1 [00:00<?, ?it/s]\u001B[A\n",
      "Validation DataLoader 0: 100%|██████████| 1/1 [00:00<00:00, 59.77it/s]\u001B[A\n",
      "Epoch 30: 100%|██████████| 1/1 [00:00<00:00, 25.13it/s, v_num=14, train/loss_step=0.431, val/loss=1.200, val/error_u=0.942, val/error_v=0.996, val/error_h=0.759, val/loss_best=1.150, train/loss_epoch=0.437]\n",
      "Validation: |          | 0/? [00:00<?, ?it/s]\u001B[A\n",
      "Validation: |          | 0/? [00:00<?, ?it/s]\u001B[A\n",
      "Validation DataLoader 0:   0%|          | 0/1 [00:00<?, ?it/s]\u001B[A\n",
      "Validation DataLoader 0: 100%|██████████| 1/1 [00:00<00:00, 71.68it/s]\u001B[A\n",
      "Epoch 31: 100%|██████████| 1/1 [00:00<00:00, 25.61it/s, v_num=14, train/loss_step=0.429, val/loss=1.210, val/error_u=0.939, val/error_v=1.000, val/error_h=0.760, val/loss_best=1.150, train/loss_epoch=0.431]\n",
      "Validation: |          | 0/? [00:00<?, ?it/s]\u001B[A\n",
      "Validation: |          | 0/? [00:00<?, ?it/s]\u001B[A\n",
      "Validation DataLoader 0:   0%|          | 0/1 [00:00<?, ?it/s]\u001B[A\n",
      "Validation DataLoader 0: 100%|██████████| 1/1 [00:00<00:00, 62.67it/s]\u001B[A\n",
      "Epoch 32: 100%|██████████| 1/1 [00:00<00:00, 27.80it/s, v_num=14, train/loss_step=0.431, val/loss=1.210, val/error_u=0.934, val/error_v=1.020, val/error_h=0.761, val/loss_best=1.150, train/loss_epoch=0.429]\n",
      "Validation: |          | 0/? [00:00<?, ?it/s]\u001B[A\n",
      "Validation: |          | 0/? [00:00<?, ?it/s]\u001B[A\n",
      "Validation DataLoader 0:   0%|          | 0/1 [00:00<?, ?it/s]\u001B[A\n",
      "Validation DataLoader 0: 100%|██████████| 1/1 [00:00<00:00, 62.94it/s]\u001B[A\n",
      "Epoch 33: 100%|██████████| 1/1 [00:00<00:00, 27.55it/s, v_num=14, train/loss_step=0.432, val/loss=1.210, val/error_u=0.930, val/error_v=1.030, val/error_h=0.761, val/loss_best=1.150, train/loss_epoch=0.431]\n",
      "Validation: |          | 0/? [00:00<?, ?it/s]\u001B[A\n",
      "Validation: |          | 0/? [00:00<?, ?it/s]\u001B[A\n",
      "Validation DataLoader 0:   0%|          | 0/1 [00:00<?, ?it/s]\u001B[A\n",
      "Validation DataLoader 0: 100%|██████████| 1/1 [00:00<00:00, 49.01it/s]\u001B[A\n",
      "Epoch 34: 100%|██████████| 1/1 [00:00<00:00, 21.81it/s, v_num=14, train/loss_step=0.428, val/loss=1.210, val/error_u=0.929, val/error_v=1.030, val/error_h=0.761, val/loss_best=1.150, train/loss_epoch=0.432]\n",
      "Validation: |          | 0/? [00:00<?, ?it/s]\u001B[A\n",
      "Validation: |          | 0/? [00:00<?, ?it/s]\u001B[A\n",
      "Validation DataLoader 0:   0%|          | 0/1 [00:00<?, ?it/s]\u001B[A\n",
      "Validation DataLoader 0: 100%|██████████| 1/1 [00:00<00:00, 59.74it/s]\u001B[A\n",
      "Epoch 35: 100%|██████████| 1/1 [00:00<00:00, 23.84it/s, v_num=14, train/loss_step=0.426, val/loss=1.220, val/error_u=0.933, val/error_v=1.030, val/error_h=0.761, val/loss_best=1.150, train/loss_epoch=0.428]\n",
      "Validation: |          | 0/? [00:00<?, ?it/s]\u001B[A\n",
      "Validation: |          | 0/? [00:00<?, ?it/s]\u001B[A\n",
      "Validation DataLoader 0:   0%|          | 0/1 [00:00<?, ?it/s]\u001B[A\n",
      "Validation DataLoader 0: 100%|██████████| 1/1 [00:00<00:00, 70.85it/s]\u001B[A\n",
      "Epoch 36: 100%|██████████| 1/1 [00:00<00:00, 20.79it/s, v_num=14, train/loss_step=0.425, val/loss=1.230, val/error_u=0.942, val/error_v=1.030, val/error_h=0.762, val/loss_best=1.150, train/loss_epoch=0.426]\n",
      "Validation: |          | 0/? [00:00<?, ?it/s]\u001B[A\n",
      "Validation: |          | 0/? [00:00<?, ?it/s]\u001B[A\n",
      "Validation DataLoader 0:   0%|          | 0/1 [00:00<?, ?it/s]\u001B[A\n",
      "Validation DataLoader 0: 100%|██████████| 1/1 [00:00<00:00, 53.55it/s]\u001B[A\n",
      "Epoch 37: 100%|██████████| 1/1 [00:00<00:00, 22.58it/s, v_num=14, train/loss_step=0.427, val/loss=1.240, val/error_u=0.952, val/error_v=1.030, val/error_h=0.766, val/loss_best=1.150, train/loss_epoch=0.425]\n",
      "Validation: |          | 0/? [00:00<?, ?it/s]\u001B[A\n",
      "Validation: |          | 0/? [00:00<?, ?it/s]\u001B[A\n",
      "Validation DataLoader 0:   0%|          | 0/1 [00:00<?, ?it/s]\u001B[A\n",
      "Validation DataLoader 0: 100%|██████████| 1/1 [00:00<00:00, 50.09it/s]\u001B[A\n",
      "Epoch 38: 100%|██████████| 1/1 [00:00<00:00, 19.47it/s, v_num=14, train/loss_step=0.428, val/loss=1.260, val/error_u=0.959, val/error_v=1.040, val/error_h=0.769, val/loss_best=1.150, train/loss_epoch=0.427]\n",
      "Validation: |          | 0/? [00:00<?, ?it/s]\u001B[A\n",
      "Validation: |          | 0/? [00:00<?, ?it/s]\u001B[A\n",
      "Validation DataLoader 0:   0%|          | 0/1 [00:00<?, ?it/s]\u001B[A\n",
      "Validation DataLoader 0: 100%|██████████| 1/1 [00:00<00:00, 46.78it/s]\u001B[A\n",
      "Epoch 39: 100%|██████████| 1/1 [00:00<00:00, 18.60it/s, v_num=14, train/loss_step=0.426, val/loss=1.260, val/error_u=0.957, val/error_v=1.050, val/error_h=0.770, val/loss_best=1.150, train/loss_epoch=0.428]\n",
      "Validation: |          | 0/? [00:00<?, ?it/s]\u001B[A\n",
      "Validation: |          | 0/? [00:00<?, ?it/s]\u001B[A\n",
      "Validation DataLoader 0:   0%|          | 0/1 [00:00<?, ?it/s]\u001B[A\n",
      "Validation DataLoader 0: 100%|██████████| 1/1 [00:00<00:00, 51.95it/s]\u001B[A\n",
      "Epoch 40: 100%|██████████| 1/1 [00:00<00:00, 24.15it/s, v_num=14, train/loss_step=0.424, val/loss=1.250, val/error_u=0.947, val/error_v=1.050, val/error_h=0.768, val/loss_best=1.150, train/loss_epoch=0.426]\n",
      "Validation: |          | 0/? [00:00<?, ?it/s]\u001B[A\n",
      "Validation: |          | 0/? [00:00<?, ?it/s]\u001B[A\n",
      "Validation DataLoader 0:   0%|          | 0/1 [00:00<?, ?it/s]\u001B[A\n",
      "Validation DataLoader 0: 100%|██████████| 1/1 [00:00<00:00, 73.94it/s]\u001B[A\n",
      "Epoch 41: 100%|██████████| 1/1 [00:00<00:00, 22.31it/s, v_num=14, train/loss_step=0.424, val/loss=1.240, val/error_u=0.936, val/error_v=1.060, val/error_h=0.765, val/loss_best=1.150, train/loss_epoch=0.424]\n",
      "Validation: |          | 0/? [00:00<?, ?it/s]\u001B[A\n",
      "Validation: |          | 0/? [00:00<?, ?it/s]\u001B[A\n",
      "Validation DataLoader 0:   0%|          | 0/1 [00:00<?, ?it/s]\u001B[A\n",
      "Validation DataLoader 0: 100%|██████████| 1/1 [00:00<00:00, 43.04it/s]\u001B[A\n",
      "Epoch 42: 100%|██████████| 1/1 [00:00<00:00, 15.27it/s, v_num=14, train/loss_step=0.425, val/loss=1.240, val/error_u=0.929, val/error_v=1.060, val/error_h=0.762, val/loss_best=1.150, train/loss_epoch=0.424]\n",
      "Validation: |          | 0/? [00:00<?, ?it/s]\u001B[A\n",
      "Validation: |          | 0/? [00:00<?, ?it/s]\u001B[A\n",
      "Validation DataLoader 0:   0%|          | 0/1 [00:00<?, ?it/s]\u001B[A\n",
      "Validation DataLoader 0: 100%|██████████| 1/1 [00:00<00:00, 35.39it/s]\u001B[A\n",
      "Epoch 43: 100%|██████████| 1/1 [00:00<00:00, 21.04it/s, v_num=14, train/loss_step=0.425, val/loss=1.230, val/error_u=0.929, val/error_v=1.060, val/error_h=0.762, val/loss_best=1.150, train/loss_epoch=0.425]\n",
      "Validation: |          | 0/? [00:00<?, ?it/s]\u001B[A\n",
      "Validation: |          | 0/? [00:00<?, ?it/s]\u001B[A\n",
      "Validation DataLoader 0:   0%|          | 0/1 [00:00<?, ?it/s]\u001B[A\n",
      "Validation DataLoader 0: 100%|██████████| 1/1 [00:00<00:00, 54.65it/s]\u001B[A\n",
      "Epoch 44: 100%|██████████| 1/1 [00:00<00:00, 23.18it/s, v_num=14, train/loss_step=0.423, val/loss=1.240, val/error_u=0.936, val/error_v=1.050, val/error_h=0.763, val/loss_best=1.150, train/loss_epoch=0.425]\n",
      "Validation: |          | 0/? [00:00<?, ?it/s]\u001B[A\n",
      "Validation: |          | 0/? [00:00<?, ?it/s]\u001B[A\n",
      "Validation DataLoader 0:   0%|          | 0/1 [00:00<?, ?it/s]\u001B[A\n",
      "Validation DataLoader 0: 100%|██████████| 1/1 [00:00<00:00, 47.41it/s]\u001B[A\n",
      "Epoch 45: 100%|██████████| 1/1 [00:00<00:00, 21.89it/s, v_num=14, train/loss_step=0.422, val/loss=1.240, val/error_u=0.945, val/error_v=1.050, val/error_h=0.765, val/loss_best=1.150, train/loss_epoch=0.423]\n",
      "Validation: |          | 0/? [00:00<?, ?it/s]\u001B[A\n",
      "Validation: |          | 0/? [00:00<?, ?it/s]\u001B[A\n",
      "Validation DataLoader 0:   0%|          | 0/1 [00:00<?, ?it/s]\u001B[A\n",
      "Validation DataLoader 0: 100%|██████████| 1/1 [00:00<00:00, 56.33it/s]\u001B[A\n",
      "Epoch 46: 100%|██████████| 1/1 [00:00<00:00, 25.52it/s, v_num=14, train/loss_step=0.422, val/loss=1.250, val/error_u=0.951, val/error_v=1.040, val/error_h=0.765, val/loss_best=1.150, train/loss_epoch=0.422]\n",
      "Validation: |          | 0/? [00:00<?, ?it/s]\u001B[A\n",
      "Validation: |          | 0/? [00:00<?, ?it/s]\u001B[A\n",
      "Validation DataLoader 0:   0%|          | 0/1 [00:00<?, ?it/s]\u001B[A\n",
      "Validation DataLoader 0: 100%|██████████| 1/1 [00:00<00:00, 60.60it/s]\u001B[A\n",
      "Epoch 47: 100%|██████████| 1/1 [00:00<00:00, 22.41it/s, v_num=14, train/loss_step=0.421, val/loss=1.240, val/error_u=0.950, val/error_v=1.040, val/error_h=0.764, val/loss_best=1.150, train/loss_epoch=0.422]\n",
      "Validation: |          | 0/? [00:00<?, ?it/s]\u001B[A\n",
      "Validation: |          | 0/? [00:00<?, ?it/s]\u001B[A\n",
      "Validation DataLoader 0:   0%|          | 0/1 [00:00<?, ?it/s]\u001B[A\n",
      "Validation DataLoader 0: 100%|██████████| 1/1 [00:00<00:00, 67.06it/s]\u001B[A\n",
      "Epoch 48: 100%|██████████| 1/1 [00:00<00:00, 23.92it/s, v_num=14, train/loss_step=0.420, val/loss=1.230, val/error_u=0.944, val/error_v=1.030, val/error_h=0.761, val/loss_best=1.150, train/loss_epoch=0.421]\n",
      "Validation: |          | 0/? [00:00<?, ?it/s]\u001B[A\n",
      "Validation: |          | 0/? [00:00<?, ?it/s]\u001B[A\n",
      "Validation DataLoader 0:   0%|          | 0/1 [00:00<?, ?it/s]\u001B[A\n",
      "Validation DataLoader 0: 100%|██████████| 1/1 [00:00<00:00, 58.15it/s]\u001B[A\n",
      "Epoch 49: 100%|██████████| 1/1 [00:00<00:00, 19.42it/s, v_num=14, train/loss_step=0.419, val/loss=1.220, val/error_u=0.937, val/error_v=1.030, val/error_h=0.759, val/loss_best=1.150, train/loss_epoch=0.420]\n",
      "Validation: |          | 0/? [00:00<?, ?it/s]\u001B[A\n",
      "Validation: |          | 0/? [00:00<?, ?it/s]\u001B[A\n",
      "Validation DataLoader 0:   0%|          | 0/1 [00:00<?, ?it/s]\u001B[A\n",
      "Validation DataLoader 0: 100%|██████████| 1/1 [00:00<00:00, 68.21it/s]\u001B[A\n",
      "Epoch 50: 100%|██████████| 1/1 [00:00<00:00, 24.19it/s, v_num=14, train/loss_step=0.418, val/loss=1.220, val/error_u=0.933, val/error_v=1.030, val/error_h=0.758, val/loss_best=1.150, train/loss_epoch=0.419]\n",
      "Validation: |          | 0/? [00:00<?, ?it/s]\u001B[A\n",
      "Validation: |          | 0/? [00:00<?, ?it/s]\u001B[A\n",
      "Validation DataLoader 0:   0%|          | 0/1 [00:00<?, ?it/s]\u001B[A\n",
      "Validation DataLoader 0: 100%|██████████| 1/1 [00:00<00:00, 48.64it/s]\u001B[A\n",
      "Epoch 51: 100%|██████████| 1/1 [00:00<00:00, 21.64it/s, v_num=14, train/loss_step=0.418, val/loss=1.220, val/error_u=0.932, val/error_v=1.030, val/error_h=0.758, val/loss_best=1.150, train/loss_epoch=0.418]\n",
      "Validation: |          | 0/? [00:00<?, ?it/s]\u001B[A\n",
      "Validation: |          | 0/? [00:00<?, ?it/s]\u001B[A\n",
      "Validation DataLoader 0:   0%|          | 0/1 [00:00<?, ?it/s]\u001B[A\n",
      "Validation DataLoader 0: 100%|██████████| 1/1 [00:00<00:00, 42.51it/s]\u001B[A\n",
      "Epoch 52: 100%|██████████| 1/1 [00:00<00:00, 17.24it/s, v_num=14, train/loss_step=0.417, val/loss=1.220, val/error_u=0.935, val/error_v=1.030, val/error_h=0.758, val/loss_best=1.150, train/loss_epoch=0.418]\n",
      "Validation: |          | 0/? [00:00<?, ?it/s]\u001B[A\n",
      "Validation: |          | 0/? [00:00<?, ?it/s]\u001B[A\n",
      "Validation DataLoader 0:   0%|          | 0/1 [00:00<?, ?it/s]\u001B[A\n",
      "Validation DataLoader 0: 100%|██████████| 1/1 [00:00<00:00, 39.81it/s]\u001B[A\n",
      "Epoch 53: 100%|██████████| 1/1 [00:00<00:00, 15.80it/s, v_num=14, train/loss_step=0.416, val/loss=1.210, val/error_u=0.938, val/error_v=1.030, val/error_h=0.757, val/loss_best=1.150, train/loss_epoch=0.417]\n",
      "Validation: |          | 0/? [00:00<?, ?it/s]\u001B[A\n",
      "Validation: |          | 0/? [00:00<?, ?it/s]\u001B[A\n",
      "Validation DataLoader 0:   0%|          | 0/1 [00:00<?, ?it/s]\u001B[A\n",
      "Validation DataLoader 0: 100%|██████████| 1/1 [00:00<00:00, 36.59it/s]\u001B[A\n",
      "Epoch 54: 100%|██████████| 1/1 [00:00<00:00, 16.39it/s, v_num=14, train/loss_step=0.416, val/loss=1.210, val/error_u=0.939, val/error_v=1.020, val/error_h=0.756, val/loss_best=1.150, train/loss_epoch=0.416]\n",
      "Validation: |          | 0/? [00:00<?, ?it/s]\u001B[A\n",
      "Validation: |          | 0/? [00:00<?, ?it/s]\u001B[A\n",
      "Validation DataLoader 0:   0%|          | 0/1 [00:00<?, ?it/s]\u001B[A\n",
      "Validation DataLoader 0: 100%|██████████| 1/1 [00:00<00:00, 51.39it/s]\u001B[A\n",
      "Epoch 55: 100%|██████████| 1/1 [00:00<00:00, 20.42it/s, v_num=14, train/loss_step=0.416, val/loss=1.210, val/error_u=0.940, val/error_v=1.020, val/error_h=0.755, val/loss_best=1.150, train/loss_epoch=0.416]\n",
      "Validation: |          | 0/? [00:00<?, ?it/s]\u001B[A\n",
      "Validation: |          | 0/? [00:00<?, ?it/s]\u001B[A\n",
      "Validation DataLoader 0:   0%|          | 0/1 [00:00<?, ?it/s]\u001B[A\n",
      "Validation DataLoader 0: 100%|██████████| 1/1 [00:00<00:00, 50.72it/s]\u001B[A\n",
      "Epoch 56: 100%|██████████| 1/1 [00:00<00:00, 20.22it/s, v_num=14, train/loss_step=0.415, val/loss=1.210, val/error_u=0.940, val/error_v=1.020, val/error_h=0.755, val/loss_best=1.150, train/loss_epoch=0.416]\n",
      "Validation: |          | 0/? [00:00<?, ?it/s]\u001B[A\n",
      "Validation: |          | 0/? [00:00<?, ?it/s]\u001B[A\n",
      "Validation DataLoader 0:   0%|          | 0/1 [00:00<?, ?it/s]\u001B[A\n",
      "Validation DataLoader 0: 100%|██████████| 1/1 [00:00<00:00, 35.49it/s]\u001B[A\n",
      "Epoch 57: 100%|██████████| 1/1 [00:00<00:00, 12.50it/s, v_num=14, train/loss_step=0.414, val/loss=1.210, val/error_u=0.938, val/error_v=1.020, val/error_h=0.754, val/loss_best=1.150, train/loss_epoch=0.415]\n",
      "Validation: |          | 0/? [00:00<?, ?it/s]\u001B[A\n",
      "Validation: |          | 0/? [00:00<?, ?it/s]\u001B[A\n",
      "Validation DataLoader 0:   0%|          | 0/1 [00:00<?, ?it/s]\u001B[A\n",
      "Validation DataLoader 0: 100%|██████████| 1/1 [00:00<00:00, 75.87it/s]\u001B[A\n",
      "Epoch 58: 100%|██████████| 1/1 [00:00<00:00, 23.03it/s, v_num=14, train/loss_step=0.413, val/loss=1.210, val/error_u=0.936, val/error_v=1.020, val/error_h=0.754, val/loss_best=1.150, train/loss_epoch=0.414]\n",
      "Validation: |          | 0/? [00:00<?, ?it/s]\u001B[A\n",
      "Validation: |          | 0/? [00:00<?, ?it/s]\u001B[A\n",
      "Validation DataLoader 0:   0%|          | 0/1 [00:00<?, ?it/s]\u001B[A\n",
      "Validation DataLoader 0: 100%|██████████| 1/1 [00:00<00:00, 79.40it/s]\u001B[A\n",
      "Epoch 59: 100%|██████████| 1/1 [00:00<00:00, 18.45it/s, v_num=14, train/loss_step=0.413, val/loss=1.200, val/error_u=0.933, val/error_v=1.020, val/error_h=0.754, val/loss_best=1.150, train/loss_epoch=0.413]\n",
      "Validation: |          | 0/? [00:00<?, ?it/s]\u001B[A\n",
      "Validation: |          | 0/? [00:00<?, ?it/s]\u001B[A\n",
      "Validation DataLoader 0:   0%|          | 0/1 [00:00<?, ?it/s]\u001B[A\n",
      "Validation DataLoader 0: 100%|██████████| 1/1 [00:00<00:00, 61.06it/s]\u001B[A\n",
      "Epoch 60: 100%|██████████| 1/1 [00:00<00:00, 19.45it/s, v_num=14, train/loss_step=0.412, val/loss=1.200, val/error_u=0.931, val/error_v=1.030, val/error_h=0.753, val/loss_best=1.150, train/loss_epoch=0.413]\n",
      "Validation: |          | 0/? [00:00<?, ?it/s]\u001B[A\n",
      "Validation: |          | 0/? [00:00<?, ?it/s]\u001B[A\n",
      "Validation DataLoader 0:   0%|          | 0/1 [00:00<?, ?it/s]\u001B[A\n",
      "Validation DataLoader 0: 100%|██████████| 1/1 [00:00<00:00, 51.23it/s]\u001B[A\n",
      "Epoch 61: 100%|██████████| 1/1 [00:00<00:00, 18.11it/s, v_num=14, train/loss_step=0.411, val/loss=1.200, val/error_u=0.930, val/error_v=1.030, val/error_h=0.752, val/loss_best=1.150, train/loss_epoch=0.412]\n",
      "Validation: |          | 0/? [00:00<?, ?it/s]\u001B[A\n",
      "Validation: |          | 0/? [00:00<?, ?it/s]\u001B[A\n",
      "Validation DataLoader 0:   0%|          | 0/1 [00:00<?, ?it/s]\u001B[A\n",
      "Validation DataLoader 0: 100%|██████████| 1/1 [00:00<00:00, 65.17it/s]\u001B[A\n",
      "Epoch 62: 100%|██████████| 1/1 [00:00<00:00, 18.88it/s, v_num=14, train/loss_step=0.410, val/loss=1.200, val/error_u=0.931, val/error_v=1.020, val/error_h=0.752, val/loss_best=1.150, train/loss_epoch=0.411]\n",
      "Validation: |          | 0/? [00:00<?, ?it/s]\u001B[A\n",
      "Validation: |          | 0/? [00:00<?, ?it/s]\u001B[A\n",
      "Validation DataLoader 0:   0%|          | 0/1 [00:00<?, ?it/s]\u001B[A\n",
      "Validation DataLoader 0: 100%|██████████| 1/1 [00:00<00:00, 59.77it/s]\u001B[A\n",
      "Epoch 63: 100%|██████████| 1/1 [00:00<00:00, 24.58it/s, v_num=14, train/loss_step=0.410, val/loss=1.200, val/error_u=0.934, val/error_v=1.020, val/error_h=0.752, val/loss_best=1.150, train/loss_epoch=0.410]\n",
      "Validation: |          | 0/? [00:00<?, ?it/s]\u001B[A\n",
      "Validation: |          | 0/? [00:00<?, ?it/s]\u001B[A\n",
      "Validation DataLoader 0:   0%|          | 0/1 [00:00<?, ?it/s]\u001B[A\n",
      "Validation DataLoader 0: 100%|██████████| 1/1 [00:00<00:00, 69.64it/s]\u001B[A\n",
      "Epoch 64: 100%|██████████| 1/1 [00:00<00:00, 24.79it/s, v_num=14, train/loss_step=0.409, val/loss=1.210, val/error_u=0.937, val/error_v=1.030, val/error_h=0.752, val/loss_best=1.150, train/loss_epoch=0.410]\n",
      "Validation: |          | 0/? [00:00<?, ?it/s]\u001B[A\n",
      "Validation: |          | 0/? [00:00<?, ?it/s]\u001B[A\n",
      "Validation DataLoader 0:   0%|          | 0/1 [00:00<?, ?it/s]\u001B[A\n",
      "Validation DataLoader 0: 100%|██████████| 1/1 [00:00<00:00, 38.15it/s]\u001B[A\n",
      "Epoch 65: 100%|██████████| 1/1 [00:00<00:00, 22.12it/s, v_num=14, train/loss_step=0.408, val/loss=1.210, val/error_u=0.937, val/error_v=1.030, val/error_h=0.753, val/loss_best=1.150, train/loss_epoch=0.409]\n",
      "Validation: |          | 0/? [00:00<?, ?it/s]\u001B[A\n",
      "Validation: |          | 0/? [00:00<?, ?it/s]\u001B[A\n",
      "Validation DataLoader 0:   0%|          | 0/1 [00:00<?, ?it/s]\u001B[A\n",
      "Validation DataLoader 0: 100%|██████████| 1/1 [00:00<00:00, 74.06it/s]\u001B[A\n",
      "Epoch 66: 100%|██████████| 1/1 [00:00<00:00, 25.03it/s, v_num=14, train/loss_step=0.407, val/loss=1.210, val/error_u=0.935, val/error_v=1.030, val/error_h=0.752, val/loss_best=1.150, train/loss_epoch=0.408]\n",
      "Validation: |          | 0/? [00:00<?, ?it/s]\u001B[A\n",
      "Validation: |          | 0/? [00:00<?, ?it/s]\u001B[A\n",
      "Validation DataLoader 0:   0%|          | 0/1 [00:00<?, ?it/s]\u001B[A\n",
      "Validation DataLoader 0: 100%|██████████| 1/1 [00:00<00:00, 60.74it/s]\u001B[A\n",
      "Epoch 67: 100%|██████████| 1/1 [00:00<00:00, 26.66it/s, v_num=14, train/loss_step=0.406, val/loss=1.210, val/error_u=0.932, val/error_v=1.040, val/error_h=0.751, val/loss_best=1.150, train/loss_epoch=0.407]\n",
      "Validation: |          | 0/? [00:00<?, ?it/s]\u001B[A\n",
      "Validation: |          | 0/? [00:00<?, ?it/s]\u001B[A\n",
      "Validation DataLoader 0:   0%|          | 0/1 [00:00<?, ?it/s]\u001B[A\n",
      "Validation DataLoader 0: 100%|██████████| 1/1 [00:00<00:00, 63.35it/s]\u001B[A\n",
      "Epoch 68: 100%|██████████| 1/1 [00:00<00:00, 16.03it/s, v_num=14, train/loss_step=0.406, val/loss=1.210, val/error_u=0.930, val/error_v=1.040, val/error_h=0.750, val/loss_best=1.150, train/loss_epoch=0.406]\n",
      "Validation: |          | 0/? [00:00<?, ?it/s]\u001B[A\n",
      "Validation: |          | 0/? [00:00<?, ?it/s]\u001B[A\n",
      "Validation DataLoader 0:   0%|          | 0/1 [00:00<?, ?it/s]\u001B[A\n",
      "Validation DataLoader 0: 100%|██████████| 1/1 [00:00<00:00, 38.75it/s]\u001B[A\n",
      "Epoch 69: 100%|██████████| 1/1 [00:00<00:00, 21.83it/s, v_num=14, train/loss_step=0.405, val/loss=1.210, val/error_u=0.931, val/error_v=1.040, val/error_h=0.750, val/loss_best=1.150, train/loss_epoch=0.406]\n",
      "Validation: |          | 0/? [00:00<?, ?it/s]\u001B[A\n",
      "Validation: |          | 0/? [00:00<?, ?it/s]\u001B[A\n",
      "Validation DataLoader 0:   0%|          | 0/1 [00:00<?, ?it/s]\u001B[A\n",
      "Validation DataLoader 0: 100%|██████████| 1/1 [00:00<00:00, 56.77it/s]\u001B[A\n",
      "Epoch 70: 100%|██████████| 1/1 [00:00<00:00, 20.14it/s, v_num=14, train/loss_step=0.404, val/loss=1.210, val/error_u=0.933, val/error_v=1.040, val/error_h=0.750, val/loss_best=1.150, train/loss_epoch=0.405]\n",
      "Validation: |          | 0/? [00:00<?, ?it/s]\u001B[A\n",
      "Validation: |          | 0/? [00:00<?, ?it/s]\u001B[A\n",
      "Validation DataLoader 0:   0%|          | 0/1 [00:00<?, ?it/s]\u001B[A\n",
      "Validation DataLoader 0: 100%|██████████| 1/1 [00:00<00:00, 68.39it/s]\u001B[A\n",
      "Epoch 71: 100%|██████████| 1/1 [00:00<00:00, 19.98it/s, v_num=14, train/loss_step=0.403, val/loss=1.210, val/error_u=0.935, val/error_v=1.040, val/error_h=0.750, val/loss_best=1.150, train/loss_epoch=0.404]\n",
      "Validation: |          | 0/? [00:00<?, ?it/s]\u001B[A\n",
      "Validation: |          | 0/? [00:00<?, ?it/s]\u001B[A\n",
      "Validation DataLoader 0:   0%|          | 0/1 [00:00<?, ?it/s]\u001B[A\n",
      "Validation DataLoader 0: 100%|██████████| 1/1 [00:00<00:00, 49.83it/s]\u001B[A\n",
      "Epoch 72: 100%|██████████| 1/1 [00:00<00:00, 19.86it/s, v_num=14, train/loss_step=0.402, val/loss=1.210, val/error_u=0.935, val/error_v=1.040, val/error_h=0.749, val/loss_best=1.150, train/loss_epoch=0.403]\n",
      "Validation: |          | 0/? [00:00<?, ?it/s]\u001B[A\n",
      "Validation: |          | 0/? [00:00<?, ?it/s]\u001B[A\n",
      "Validation DataLoader 0:   0%|          | 0/1 [00:00<?, ?it/s]\u001B[A\n",
      "Validation DataLoader 0: 100%|██████████| 1/1 [00:00<00:00, 57.78it/s]\u001B[A\n",
      "Epoch 73: 100%|██████████| 1/1 [00:00<00:00, 18.93it/s, v_num=14, train/loss_step=0.401, val/loss=1.210, val/error_u=0.933, val/error_v=1.040, val/error_h=0.748, val/loss_best=1.150, train/loss_epoch=0.402]\n",
      "Validation: |          | 0/? [00:00<?, ?it/s]\u001B[A\n",
      "Validation: |          | 0/? [00:00<?, ?it/s]\u001B[A\n",
      "Validation DataLoader 0:   0%|          | 0/1 [00:00<?, ?it/s]\u001B[A\n",
      "Validation DataLoader 0: 100%|██████████| 1/1 [00:00<00:00, 56.77it/s]\u001B[A\n",
      "Epoch 74: 100%|██████████| 1/1 [00:00<00:00, 21.48it/s, v_num=14, train/loss_step=0.400, val/loss=1.200, val/error_u=0.931, val/error_v=1.040, val/error_h=0.747, val/loss_best=1.150, train/loss_epoch=0.401]\n",
      "Validation: |          | 0/? [00:00<?, ?it/s]\u001B[A\n",
      "Validation: |          | 0/? [00:00<?, ?it/s]\u001B[A\n",
      "Validation DataLoader 0:   0%|          | 0/1 [00:00<?, ?it/s]\u001B[A\n",
      "Validation DataLoader 0: 100%|██████████| 1/1 [00:00<00:00, 58.81it/s]\u001B[A\n",
      "Epoch 75: 100%|██████████| 1/1 [00:00<00:00, 20.98it/s, v_num=14, train/loss_step=0.399, val/loss=1.200, val/error_u=0.929, val/error_v=1.040, val/error_h=0.746, val/loss_best=1.150, train/loss_epoch=0.400]\n",
      "Validation: |          | 0/? [00:00<?, ?it/s]\u001B[A\n",
      "Validation: |          | 0/? [00:00<?, ?it/s]\u001B[A\n",
      "Validation DataLoader 0:   0%|          | 0/1 [00:00<?, ?it/s]\u001B[A\n",
      "Validation DataLoader 0: 100%|██████████| 1/1 [00:00<00:00, 65.49it/s]\u001B[A\n",
      "Epoch 76: 100%|██████████| 1/1 [00:00<00:00, 24.89it/s, v_num=14, train/loss_step=0.398, val/loss=1.200, val/error_u=0.928, val/error_v=1.040, val/error_h=0.745, val/loss_best=1.150, train/loss_epoch=0.399]\n",
      "Validation: |          | 0/? [00:00<?, ?it/s]\u001B[A\n",
      "Validation: |          | 0/? [00:00<?, ?it/s]\u001B[A\n",
      "Validation DataLoader 0:   0%|          | 0/1 [00:00<?, ?it/s]\u001B[A\n",
      "Validation DataLoader 0: 100%|██████████| 1/1 [00:00<00:00, 74.33it/s]\u001B[A\n",
      "Epoch 77: 100%|██████████| 1/1 [00:00<00:00, 22.50it/s, v_num=14, train/loss_step=0.397, val/loss=1.200, val/error_u=0.928, val/error_v=1.040, val/error_h=0.744, val/loss_best=1.150, train/loss_epoch=0.398]\n",
      "Validation: |          | 0/? [00:00<?, ?it/s]\u001B[A\n",
      "Validation: |          | 0/? [00:00<?, ?it/s]\u001B[A\n",
      "Validation DataLoader 0:   0%|          | 0/1 [00:00<?, ?it/s]\u001B[A\n",
      "Validation DataLoader 0: 100%|██████████| 1/1 [00:00<00:00, 44.11it/s]\u001B[A\n",
      "Epoch 78: 100%|██████████| 1/1 [00:00<00:00, 17.23it/s, v_num=14, train/loss_step=0.395, val/loss=1.190, val/error_u=0.927, val/error_v=1.040, val/error_h=0.743, val/loss_best=1.150, train/loss_epoch=0.397]\n",
      "Validation: |          | 0/? [00:00<?, ?it/s]\u001B[A\n",
      "Validation: |          | 0/? [00:00<?, ?it/s]\u001B[A\n",
      "Validation DataLoader 0:   0%|          | 0/1 [00:00<?, ?it/s]\u001B[A\n",
      "Validation DataLoader 0: 100%|██████████| 1/1 [00:00<00:00, 32.99it/s]\u001B[A\n",
      "Epoch 79: 100%|██████████| 1/1 [00:00<00:00, 18.00it/s, v_num=14, train/loss_step=0.394, val/loss=1.190, val/error_u=0.926, val/error_v=1.040, val/error_h=0.742, val/loss_best=1.150, train/loss_epoch=0.395]\n",
      "Validation: |          | 0/? [00:00<?, ?it/s]\u001B[A\n",
      "Validation: |          | 0/? [00:00<?, ?it/s]\u001B[A\n",
      "Validation DataLoader 0:   0%|          | 0/1 [00:00<?, ?it/s]\u001B[A\n",
      "Validation DataLoader 0: 100%|██████████| 1/1 [00:00<00:00, 25.86it/s]\u001B[A\n",
      "Epoch 80: 100%|██████████| 1/1 [00:00<00:00, 17.58it/s, v_num=14, train/loss_step=0.393, val/loss=1.190, val/error_u=0.925, val/error_v=1.040, val/error_h=0.741, val/loss_best=1.150, train/loss_epoch=0.394]\n",
      "Validation: |          | 0/? [00:00<?, ?it/s]\u001B[A\n",
      "Validation: |          | 0/? [00:00<?, ?it/s]\u001B[A\n",
      "Validation DataLoader 0:   0%|          | 0/1 [00:00<?, ?it/s]\u001B[A\n",
      "Validation DataLoader 0: 100%|██████████| 1/1 [00:00<00:00, 84.42it/s]\u001B[A\n",
      "Epoch 81: 100%|██████████| 1/1 [00:00<00:00, 25.08it/s, v_num=14, train/loss_step=0.392, val/loss=1.190, val/error_u=0.925, val/error_v=1.030, val/error_h=0.740, val/loss_best=1.150, train/loss_epoch=0.393]\n",
      "Validation: |          | 0/? [00:00<?, ?it/s]\u001B[A\n",
      "Validation: |          | 0/? [00:00<?, ?it/s]\u001B[A\n",
      "Validation DataLoader 0:   0%|          | 0/1 [00:00<?, ?it/s]\u001B[A\n",
      "Validation DataLoader 0: 100%|██████████| 1/1 [00:00<00:00, 71.04it/s]\u001B[A\n",
      "Epoch 82: 100%|██████████| 1/1 [00:00<00:00, 26.81it/s, v_num=14, train/loss_step=0.391, val/loss=1.180, val/error_u=0.924, val/error_v=1.030, val/error_h=0.738, val/loss_best=1.150, train/loss_epoch=0.392]\n",
      "Validation: |          | 0/? [00:00<?, ?it/s]\u001B[A\n",
      "Validation: |          | 0/? [00:00<?, ?it/s]\u001B[A\n",
      "Validation DataLoader 0:   0%|          | 0/1 [00:00<?, ?it/s]\u001B[A\n",
      "Validation DataLoader 0: 100%|██████████| 1/1 [00:00<00:00, 77.83it/s]\u001B[A\n",
      "Epoch 83: 100%|██████████| 1/1 [00:00<00:00, 24.43it/s, v_num=14, train/loss_step=0.389, val/loss=1.180, val/error_u=0.922, val/error_v=1.030, val/error_h=0.737, val/loss_best=1.150, train/loss_epoch=0.391]\n",
      "Validation: |          | 0/? [00:00<?, ?it/s]\u001B[A\n",
      "Validation: |          | 0/? [00:00<?, ?it/s]\u001B[A\n",
      "Validation DataLoader 0:   0%|          | 0/1 [00:00<?, ?it/s]\u001B[A\n",
      "Validation DataLoader 0: 100%|██████████| 1/1 [00:00<00:00, 65.34it/s]\u001B[A\n",
      "Epoch 84: 100%|██████████| 1/1 [00:00<00:00, 21.24it/s, v_num=14, train/loss_step=0.388, val/loss=1.180, val/error_u=0.921, val/error_v=1.030, val/error_h=0.736, val/loss_best=1.150, train/loss_epoch=0.389]\n",
      "Validation: |          | 0/? [00:00<?, ?it/s]\u001B[A\n",
      "Validation: |          | 0/? [00:00<?, ?it/s]\u001B[A\n",
      "Validation DataLoader 0:   0%|          | 0/1 [00:00<?, ?it/s]\u001B[A\n",
      "Validation DataLoader 0: 100%|██████████| 1/1 [00:00<00:00, 59.43it/s]\u001B[A\n",
      "Epoch 85: 100%|██████████| 1/1 [00:00<00:00, 23.36it/s, v_num=14, train/loss_step=0.387, val/loss=1.180, val/error_u=0.920, val/error_v=1.030, val/error_h=0.735, val/loss_best=1.150, train/loss_epoch=0.388]\n",
      "Validation: |          | 0/? [00:00<?, ?it/s]\u001B[A\n",
      "Validation: |          | 0/? [00:00<?, ?it/s]\u001B[A\n",
      "Validation DataLoader 0:   0%|          | 0/1 [00:00<?, ?it/s]\u001B[A\n",
      "Validation DataLoader 0: 100%|██████████| 1/1 [00:00<00:00, 59.60it/s]\u001B[A\n",
      "Epoch 86: 100%|██████████| 1/1 [00:00<00:00, 23.82it/s, v_num=14, train/loss_step=0.385, val/loss=1.170, val/error_u=0.919, val/error_v=1.030, val/error_h=0.734, val/loss_best=1.150, train/loss_epoch=0.387]\n",
      "Validation: |          | 0/? [00:00<?, ?it/s]\u001B[A\n",
      "Validation: |          | 0/? [00:00<?, ?it/s]\u001B[A\n",
      "Validation DataLoader 0:   0%|          | 0/1 [00:00<?, ?it/s]\u001B[A\n",
      "Validation DataLoader 0: 100%|██████████| 1/1 [00:00<00:00, 45.02it/s]\u001B[A\n",
      "Epoch 87: 100%|██████████| 1/1 [00:00<00:00, 20.44it/s, v_num=14, train/loss_step=0.384, val/loss=1.170, val/error_u=0.919, val/error_v=1.030, val/error_h=0.732, val/loss_best=1.150, train/loss_epoch=0.385]\n",
      "Validation: |          | 0/? [00:00<?, ?it/s]\u001B[A\n",
      "Validation: |          | 0/? [00:00<?, ?it/s]\u001B[A\n",
      "Validation DataLoader 0:   0%|          | 0/1 [00:00<?, ?it/s]\u001B[A\n",
      "Validation DataLoader 0: 100%|██████████| 1/1 [00:00<00:00, 44.84it/s]\u001B[A\n",
      "Epoch 88: 100%|██████████| 1/1 [00:00<00:00, 20.45it/s, v_num=14, train/loss_step=0.382, val/loss=1.170, val/error_u=0.918, val/error_v=1.040, val/error_h=0.731, val/loss_best=1.150, train/loss_epoch=0.384]\n",
      "Validation: |          | 0/? [00:00<?, ?it/s]\u001B[A\n",
      "Validation: |          | 0/? [00:00<?, ?it/s]\u001B[A\n",
      "Validation DataLoader 0:   0%|          | 0/1 [00:00<?, ?it/s]\u001B[A\n",
      "Validation DataLoader 0: 100%|██████████| 1/1 [00:00<00:00, 44.71it/s]\u001B[A\n",
      "Epoch 89: 100%|██████████| 1/1 [00:00<00:00, 20.68it/s, v_num=14, train/loss_step=0.381, val/loss=1.170, val/error_u=0.916, val/error_v=1.040, val/error_h=0.730, val/loss_best=1.150, train/loss_epoch=0.382]\n",
      "Validation: |          | 0/? [00:00<?, ?it/s]\u001B[A\n",
      "Validation: |          | 0/? [00:00<?, ?it/s]\u001B[A\n",
      "Validation DataLoader 0:   0%|          | 0/1 [00:00<?, ?it/s]\u001B[A\n",
      "Validation DataLoader 0: 100%|██████████| 1/1 [00:00<00:00, 55.47it/s]\u001B[A\n",
      "Epoch 90: 100%|██████████| 1/1 [00:00<00:00, 21.44it/s, v_num=14, train/loss_step=0.379, val/loss=1.170, val/error_u=0.915, val/error_v=1.040, val/error_h=0.728, val/loss_best=1.150, train/loss_epoch=0.381]\n",
      "Validation: |          | 0/? [00:00<?, ?it/s]\u001B[A\n",
      "Validation: |          | 0/? [00:00<?, ?it/s]\u001B[A\n",
      "Validation DataLoader 0:   0%|          | 0/1 [00:00<?, ?it/s]\u001B[A\n",
      "Validation DataLoader 0: 100%|██████████| 1/1 [00:00<00:00, 77.36it/s]\u001B[A\n",
      "Epoch 91: 100%|██████████| 1/1 [00:00<00:00, 25.57it/s, v_num=14, train/loss_step=0.378, val/loss=1.160, val/error_u=0.914, val/error_v=1.040, val/error_h=0.727, val/loss_best=1.150, train/loss_epoch=0.379]\n",
      "Validation: |          | 0/? [00:00<?, ?it/s]\u001B[A\n",
      "Validation: |          | 0/? [00:00<?, ?it/s]\u001B[A\n",
      "Validation DataLoader 0:   0%|          | 0/1 [00:00<?, ?it/s]\u001B[A\n",
      "Validation DataLoader 0: 100%|██████████| 1/1 [00:00<00:00, 47.66it/s]\u001B[A\n",
      "Epoch 92: 100%|██████████| 1/1 [00:00<00:00, 22.42it/s, v_num=14, train/loss_step=0.376, val/loss=1.160, val/error_u=0.913, val/error_v=1.040, val/error_h=0.726, val/loss_best=1.150, train/loss_epoch=0.378]\n",
      "Validation: |          | 0/? [00:00<?, ?it/s]\u001B[A\n",
      "Validation: |          | 0/? [00:00<?, ?it/s]\u001B[A\n",
      "Validation DataLoader 0:   0%|          | 0/1 [00:00<?, ?it/s]\u001B[A\n",
      "Validation DataLoader 0: 100%|██████████| 1/1 [00:00<00:00, 45.07it/s]\u001B[A\n",
      "Epoch 93: 100%|██████████| 1/1 [00:00<00:00, 23.18it/s, v_num=14, train/loss_step=0.374, val/loss=1.160, val/error_u=0.911, val/error_v=1.040, val/error_h=0.724, val/loss_best=1.150, train/loss_epoch=0.376]\n",
      "Validation: |          | 0/? [00:00<?, ?it/s]\u001B[A\n",
      "Validation: |          | 0/? [00:00<?, ?it/s]\u001B[A\n",
      "Validation DataLoader 0:   0%|          | 0/1 [00:00<?, ?it/s]\u001B[A\n",
      "Validation DataLoader 0: 100%|██████████| 1/1 [00:00<00:00, 72.08it/s]\u001B[A\n",
      "Epoch 94: 100%|██████████| 1/1 [00:00<00:00, 19.78it/s, v_num=14, train/loss_step=0.372, val/loss=1.160, val/error_u=0.909, val/error_v=1.040, val/error_h=0.723, val/loss_best=1.150, train/loss_epoch=0.374]\n",
      "Validation: |          | 0/? [00:00<?, ?it/s]\u001B[A\n",
      "Validation: |          | 0/? [00:00<?, ?it/s]\u001B[A\n",
      "Validation DataLoader 0:   0%|          | 0/1 [00:00<?, ?it/s]\u001B[A\n",
      "Validation DataLoader 0: 100%|██████████| 1/1 [00:00<00:00, 68.15it/s]\u001B[A\n",
      "Epoch 95: 100%|██████████| 1/1 [00:00<00:00, 21.94it/s, v_num=14, train/loss_step=0.371, val/loss=1.150, val/error_u=0.908, val/error_v=1.040, val/error_h=0.721, val/loss_best=1.150, train/loss_epoch=0.372]\n",
      "Validation: |          | 0/? [00:00<?, ?it/s]\u001B[A\n",
      "Validation: |          | 0/? [00:00<?, ?it/s]\u001B[A\n",
      "Validation DataLoader 0:   0%|          | 0/1 [00:00<?, ?it/s]\u001B[A\n",
      "Validation DataLoader 0: 100%|██████████| 1/1 [00:00<00:00, 44.13it/s]\u001B[A\n",
      "Epoch 96: 100%|██████████| 1/1 [00:00<00:00, 20.44it/s, v_num=14, train/loss_step=0.369, val/loss=1.150, val/error_u=0.907, val/error_v=1.040, val/error_h=0.719, val/loss_best=1.150, train/loss_epoch=0.371]\n",
      "Validation: |          | 0/? [00:00<?, ?it/s]\u001B[A\n",
      "Validation: |          | 0/? [00:00<?, ?it/s]\u001B[A\n",
      "Validation DataLoader 0:   0%|          | 0/1 [00:00<?, ?it/s]\u001B[A\n",
      "Validation DataLoader 0: 100%|██████████| 1/1 [00:00<00:00, 39.88it/s]\u001B[A\n",
      "Epoch 97: 100%|██████████| 1/1 [00:00<00:00, 12.68it/s, v_num=14, train/loss_step=0.367, val/loss=1.150, val/error_u=0.906, val/error_v=1.040, val/error_h=0.718, val/loss_best=1.150, train/loss_epoch=0.369]\n",
      "Validation: |          | 0/? [00:00<?, ?it/s]\u001B[A\n",
      "Validation: |          | 0/? [00:00<?, ?it/s]\u001B[A\n",
      "Validation DataLoader 0:   0%|          | 0/1 [00:00<?, ?it/s]\u001B[A\n",
      "Validation DataLoader 0: 100%|██████████| 1/1 [00:00<00:00, 48.91it/s]\u001B[A\n",
      "Epoch 98: 100%|██████████| 1/1 [00:00<00:00, 28.27it/s, v_num=14, train/loss_step=0.365, val/loss=1.150, val/error_u=0.904, val/error_v=1.040, val/error_h=0.716, val/loss_best=1.150, train/loss_epoch=0.367]\n",
      "Validation: |          | 0/? [00:00<?, ?it/s]\u001B[A\n",
      "Validation: |          | 0/? [00:00<?, ?it/s]\u001B[A\n",
      "Validation DataLoader 0:   0%|          | 0/1 [00:00<?, ?it/s]\u001B[A\n",
      "Validation DataLoader 0: 100%|██████████| 1/1 [00:00<00:00, 93.86it/s]\u001B[A\n",
      "Epoch 99: 100%|██████████| 1/1 [00:00<00:00, 25.98it/s, v_num=14, train/loss_step=0.362, val/loss=1.140, val/error_u=0.902, val/error_v=1.040, val/error_h=0.714, val/loss_best=1.140, train/loss_epoch=0.365]\n",
      "Validation: |          | 0/? [00:00<?, ?it/s]\u001B[A\n",
      "Validation: |          | 0/? [00:00<?, ?it/s]\u001B[A\n",
      "Validation DataLoader 0:   0%|          | 0/1 [00:00<?, ?it/s]\u001B[A\n",
      "Validation DataLoader 0: 100%|██████████| 1/1 [00:00<00:00, 86.79it/s]\u001B[A\n",
      "Epoch 99: 100%|██████████| 1/1 [00:00<00:00, 14.38it/s, v_num=14, train/loss_step=0.362, val/loss=1.140, val/error_u=0.900, val/error_v=1.040, val/error_h=0.712, val/loss_best=1.140, train/loss_epoch=0.362]"
     ]
    },
    {
     "name": "stderr",
     "output_type": "stream",
     "text": [
      "`Trainer.fit` stopped: `max_epochs=100` reached.\n"
     ]
    },
    {
     "name": "stdout",
     "output_type": "stream",
     "text": [
      "Epoch 99: 100%|██████████| 1/1 [00:00<00:00, 12.49it/s, v_num=14, train/loss_step=0.362, val/loss=1.140, val/error_u=0.900, val/error_v=1.040, val/error_h=0.712, val/loss_best=1.140, train/loss_epoch=0.362]\n"
     ]
    }
   ],
   "execution_count": 18
  },
  {
   "metadata": {
    "ExecuteTime": {
     "end_time": "2025-09-17T23:28:12.354621Z",
     "start_time": "2025-09-17T23:28:12.336689Z"
    }
   },
   "cell_type": "code",
   "source": [
    "total_time = end_time - start_time\n",
    "hours = total_time // 3600\n",
    "minutes = (total_time % 3600) // 60\n",
    "seconds = total_time % 60\n",
    "\n",
    "print(f\"Training time: {hours}h {minutes}m {seconds}s\")"
   ],
   "id": "f0ff6282475cc73f",
   "outputs": [
    {
     "name": "stdout",
     "output_type": "stream",
     "text": [
      "Training time: 0.0h 0.0m 12.959734201431274s\n"
     ]
    }
   ],
   "execution_count": 19
  },
  {
   "metadata": {
    "ExecuteTime": {
     "end_time": "2025-09-17T23:28:12.524768Z",
     "start_time": "2025-09-17T23:28:12.405346Z"
    }
   },
   "cell_type": "code",
   "source": "trainer.validate(model=model, datamodule=datamodule)",
   "id": "6ed408a27bc2fe69",
   "outputs": [
    {
     "name": "stderr",
     "output_type": "stream",
     "text": [
      "LOCAL_RANK: 0 - CUDA_VISIBLE_DEVICES: [0]\n"
     ]
    },
    {
     "name": "stdout",
     "output_type": "stream",
     "text": [
      "Validation DataLoader 0: 100%|██████████| 1/1 [00:00<00:00, 28.53it/s]\n"
     ]
    },
    {
     "data": {
      "text/plain": [
       "┏━━━━━━━━━━━━━━━━━━━━━━━━━━━┳━━━━━━━━━━━━━━━━━━━━━━━━━━━┓\n",
       "┃\u001B[1m \u001B[0m\u001B[1m     Validate metric     \u001B[0m\u001B[1m \u001B[0m┃\u001B[1m \u001B[0m\u001B[1m      DataLoader 0       \u001B[0m\u001B[1m \u001B[0m┃\n",
       "┡━━━━━━━━━━━━━━━━━━━━━━━━━━━╇━━━━━━━━━━━━━━━━━━━━━━━━━━━┩\n",
       "│\u001B[36m \u001B[0m\u001B[36m       val/error_h       \u001B[0m\u001B[36m \u001B[0m│\u001B[35m \u001B[0m\u001B[35m   0.7121604084968567    \u001B[0m\u001B[35m \u001B[0m│\n",
       "│\u001B[36m \u001B[0m\u001B[36m       val/error_u       \u001B[0m\u001B[36m \u001B[0m│\u001B[35m \u001B[0m\u001B[35m   0.9003599286079407    \u001B[0m\u001B[35m \u001B[0m│\n",
       "│\u001B[36m \u001B[0m\u001B[36m       val/error_v       \u001B[0m\u001B[36m \u001B[0m│\u001B[35m \u001B[0m\u001B[35m    1.042987585067749    \u001B[0m\u001B[35m \u001B[0m│\n",
       "│\u001B[36m \u001B[0m\u001B[36m        val/loss         \u001B[0m\u001B[36m \u001B[0m│\u001B[35m \u001B[0m\u001B[35m   1.1380715370178223    \u001B[0m\u001B[35m \u001B[0m│\n",
       "│\u001B[36m \u001B[0m\u001B[36m      val/loss_best      \u001B[0m\u001B[36m \u001B[0m│\u001B[35m \u001B[0m\u001B[35m   1.1380715370178223    \u001B[0m\u001B[35m \u001B[0m│\n",
       "└───────────────────────────┴───────────────────────────┘\n"
      ],
      "text/html": [
       "<pre style=\"white-space:pre;overflow-x:auto;line-height:normal;font-family:Menlo,'DejaVu Sans Mono',consolas,'Courier New',monospace\">┏━━━━━━━━━━━━━━━━━━━━━━━━━━━┳━━━━━━━━━━━━━━━━━━━━━━━━━━━┓\n",
       "┃<span style=\"font-weight: bold\">      Validate metric      </span>┃<span style=\"font-weight: bold\">       DataLoader 0        </span>┃\n",
       "┡━━━━━━━━━━━━━━━━━━━━━━━━━━━╇━━━━━━━━━━━━━━━━━━━━━━━━━━━┩\n",
       "│<span style=\"color: #008080; text-decoration-color: #008080\">        val/error_h        </span>│<span style=\"color: #800080; text-decoration-color: #800080\">    0.7121604084968567     </span>│\n",
       "│<span style=\"color: #008080; text-decoration-color: #008080\">        val/error_u        </span>│<span style=\"color: #800080; text-decoration-color: #800080\">    0.9003599286079407     </span>│\n",
       "│<span style=\"color: #008080; text-decoration-color: #008080\">        val/error_v        </span>│<span style=\"color: #800080; text-decoration-color: #800080\">     1.042987585067749     </span>│\n",
       "│<span style=\"color: #008080; text-decoration-color: #008080\">         val/loss          </span>│<span style=\"color: #800080; text-decoration-color: #800080\">    1.1380715370178223     </span>│\n",
       "│<span style=\"color: #008080; text-decoration-color: #008080\">       val/loss_best       </span>│<span style=\"color: #800080; text-decoration-color: #800080\">    1.1380715370178223     </span>│\n",
       "└───────────────────────────┴───────────────────────────┘\n",
       "</pre>\n"
      ]
     },
     "metadata": {},
     "output_type": "display_data"
    },
    {
     "data": {
      "text/plain": [
       "[{'val/loss': 1.1380715370178223,\n",
       "  'val/error_u': 0.9003599286079407,\n",
       "  'val/error_v': 1.042987585067749,\n",
       "  'val/error_h': 0.7121604084968567,\n",
       "  'val/loss_best': 1.1380715370178223}]"
      ]
     },
     "execution_count": 20,
     "metadata": {},
     "output_type": "execute_result"
    }
   ],
   "execution_count": 20
  },
  {
   "metadata": {
    "ExecuteTime": {
     "end_time": "2025-09-17T23:28:12.882813Z",
     "start_time": "2025-09-17T23:28:12.819619Z"
    }
   },
   "cell_type": "code",
   "source": [
    "preds_list = trainer.predict(model=model, datamodule=datamodule)\n",
    "preds_dict = pinnstorch.utils.fix_predictions(preds_list)"
   ],
   "id": "b27ae0c64cff66e9",
   "outputs": [
    {
     "name": "stderr",
     "output_type": "stream",
     "text": [
      "LOCAL_RANK: 0 - CUDA_VISIBLE_DEVICES: [0]\n"
     ]
    },
    {
     "name": "stdout",
     "output_type": "stream",
     "text": [
      "Predicting DataLoader 0: 100%|██████████| 1/1 [00:00<00:00, 57.39it/s]\n"
     ]
    }
   ],
   "execution_count": 21
  },
  {
   "metadata": {
    "ExecuteTime": {
     "end_time": "2025-09-17T23:28:14.181584Z",
     "start_time": "2025-09-17T23:28:13.024382Z"
    }
   },
   "cell_type": "code",
   "source": [
    "pinnstorch.utils.plot_schrodinger(mesh=mesh,\n",
    "                                  preds=preds_dict,\n",
    "                                  train_datasets=train_datasets,\n",
    "                                  val_dataset=val_dataset,\n",
    "                                  file_name='out/1_tanh')"
   ],
   "id": "136934f985ff58a",
   "outputs": [
    {
     "data": {
      "text/plain": [
       "<Figure size 539.643x300.166 with 6 Axes>"
      ],
      "image/png": "[encoded data removed]"
     },
     "metadata": {},
     "output_type": "display_data"
    }
   ],
   "execution_count": 22
  },
  {
   "metadata": {
    "ExecuteTime": {
     "end_time": "2025-09-17T20:00:00.944134Z",
     "start_time": "2025-09-17T20:00:00.936908Z"
    }
   },
   "cell_type": "markdown",
   "source": [
    "##### ReLu\n",
    "\n",
    "The `Rectified Linear Unit` also known as `Relu` is another common activation. This activation is typically not utilized with PINNs\n",
    "\n",
    "![](https://www.aitude.com/wp-content/uploads/2020/08/relu-activation.png)\n"
   ],
   "id": "da2080b764bd873b"
  },
  {
   "metadata": {
    "ExecuteTime": {
     "end_time": "2025-09-17T23:28:14.214316Z",
     "start_time": "2025-09-17T23:28:14.201173Z"
    }
   },
   "cell_type": "code",
   "source": [
    "net_relu = pinnstorch.models.FCN(layers=layers,\n",
    "                            output_names=['u', 'v'],\n",
    "                            lb=mesh.lb,\n",
    "                            ub=mesh.ub,\n",
    "                            activation=\"RELU\",  # use registry\n",
    "                            activation_kwargs={},  # extra params\n",
    "                            initializer=\"XAVIER_UNIFORM\",  # use registry\n",
    "                            initializer_kwargs={},  # extra params\n",
    "                            layer_type='BASE',\n",
    "                            layer_kwargs={}\n",
    "                            )"
   ],
   "id": "a7b588b62aff44b9",
   "outputs": [],
   "execution_count": 23
  },
  {
   "metadata": {
    "ExecuteTime": {
     "end_time": "2025-09-17T23:28:14.229876Z",
     "start_time": "2025-09-17T23:28:14.220065Z"
    }
   },
   "cell_type": "code",
   "source": [
    "model = pinnstorch.models.PINNModule(net = net_relu,\n",
    "                                     pde_fn = pde_fn,\n",
    "                                     output_fn = output_fn,\n",
    "                                     loss_fn = 'mse')"
   ],
   "id": "a2f19ffe19a5a8",
   "outputs": [],
   "execution_count": 24
  },
  {
   "metadata": {
    "ExecuteTime": {
     "end_time": "2025-09-17T23:28:25.553380Z",
     "start_time": "2025-09-17T23:28:14.234619Z"
    }
   },
   "cell_type": "code",
   "source": [
    "trainer = pl.Trainer(accelerator='gpu', devices=1, max_epochs = num_epochs)\n",
    "start_time = time.time()\n",
    "\n",
    "trainer.fit(model=model, datamodule=datamodule)\n",
    "end_time = time.time()"
   ],
   "id": "f7cc74830ac5896c",
   "outputs": [
    {
     "name": "stderr",
     "output_type": "stream",
     "text": [
      "💡 Tip: For seamless cloud uploads and versioning, try installing [litmodels](https://pypi.org/project/litmodels/) to enable LitModelCheckpoint, which syncs automatically with the Lightning model registry.\n",
      "GPU available: True (cuda), used: True\n",
      "TPU available: False, using: 0 TPU cores\n",
      "HPU available: False, using: 0 HPUs\n",
      "LOCAL_RANK: 0 - CUDA_VISIBLE_DEVICES: [0]\n",
      "\n",
      "  | Name          | Type       | Params | Mode \n",
      "-----------------------------------------------------\n",
      "0 | net           | FCN        | 30.8 K | train\n",
      "1 | train_loss    | MeanMetric | 0      | train\n",
      "2 | val_loss      | MeanMetric | 0      | train\n",
      "3 | val_error     | MeanMetric | 0      | train\n",
      "4 | test_loss     | MeanMetric | 0      | train\n",
      "5 | test_error    | MeanMetric | 0      | train\n",
      "6 | val_loss_best | MinMetric  | 0      | train\n",
      "-----------------------------------------------------\n",
      "30.8 K    Trainable params\n",
      "0         Non-trainable params\n",
      "30.8 K    Total params\n",
      "0.123     Total estimated model params size (MB)\n",
      "23        Modules in train mode\n",
      "0         Modules in eval mode\n"
     ]
    },
    {
     "name": "stdout",
     "output_type": "stream",
     "text": [
      "                                                                           "
     ]
    },
    {
     "name": "stderr",
     "output_type": "stream",
     "text": [
      "C:\\Users\\micke\\anaconda3\\envs\\myenv\\lib\\site-packages\\lightning\\pytorch\\loops\\fit_loop.py:310: The number of training batches (1) is smaller than the logging interval Trainer(log_every_n_steps=50). Set a lower value for log_every_n_steps if you want to see logs for the training epoch.\n"
     ]
    },
    {
     "name": "stdout",
     "output_type": "stream",
     "text": [
      "Epoch 0:   0%|          | 0/1 [00:00<?, ?it/s]"
     ]
    },
    {
     "name": "stderr",
     "output_type": "stream",
     "text": [
      "C:\\Users\\micke\\anaconda3\\envs\\myenv\\lib\\site-packages\\torch\\jit\\_trace.py:165: UserWarning: The .grad attribute of a Tensor that is not a leaf Tensor is being accessed. Its .grad attribute won't be populated during autograd.backward(). If you indeed want the .grad field to be populated for a non-leaf Tensor, use .retain_grad() on the non-leaf Tensor. If you access the non-leaf Tensor by mistake, make sure you access the leaf Tensor instead. See github.com/pytorch/pytorch/pull/30531 for more informations. (Triggered internally at C:\\actions-runner\\_work\\pytorch\\pytorch\\pytorch\\build\\aten\\src\\ATen/core/TensorBody.h:494.)\n",
      "  if a.grad is not None:\n"
     ]
    },
    {
     "name": "stdout",
     "output_type": "stream",
     "text": [
      "Epoch 0: 100%|██████████| 1/1 [00:00<00:00,  1.14it/s, v_num=15, train/loss_step=0.727]\n",
      "Validation: |          | 0/? [00:00<?, ?it/s]\u001B[A\n",
      "Validation: |          | 0/? [00:00<?, ?it/s]\u001B[A\n",
      "Validation DataLoader 0:   0%|          | 0/1 [00:00<?, ?it/s]\u001B[A\n",
      "Validation DataLoader 0: 100%|██████████| 1/1 [00:00<00:00, 26.65it/s]\u001B[A\n",
      "Epoch 1: 100%|██████████| 1/1 [00:00<00:00,  3.86it/s, v_num=15, train/loss_step=0.571, val/loss=1.110, val/error_u=0.849, val/error_v=0.962, val/error_h=0.769, val/loss_best=1.110, train/loss_epoch=0.727]\n",
      "Validation: |          | 0/? [00:00<?, ?it/s]\u001B[A\n",
      "Validation: |          | 0/? [00:00<?, ?it/s]\u001B[A\n",
      "Validation DataLoader 0:   0%|          | 0/1 [00:00<?, ?it/s]\u001B[A\n",
      "Validation DataLoader 0: 100%|██████████| 1/1 [00:00<00:00, 63.46it/s]\u001B[A\n",
      "Epoch 2: 100%|██████████| 1/1 [00:00<00:00,  2.24it/s, v_num=15, train/loss_step=0.499, val/loss=1.110, val/error_u=0.874, val/error_v=0.963, val/error_h=0.754, val/loss_best=1.110, train/loss_epoch=0.571]\n",
      "Validation: |          | 0/? [00:00<?, ?it/s]\u001B[A\n",
      "Validation: |          | 0/? [00:00<?, ?it/s]\u001B[A\n",
      "Validation DataLoader 0:   0%|          | 0/1 [00:00<?, ?it/s]\u001B[A\n",
      "Validation DataLoader 0: 100%|██████████| 1/1 [00:00<00:00, 57.52it/s]\u001B[A\n",
      "Epoch 3: 100%|██████████| 1/1 [00:00<00:00, 11.53it/s, v_num=15, train/loss_step=0.487, val/loss=1.140, val/error_u=0.906, val/error_v=0.968, val/error_h=0.750, val/loss_best=1.110, train/loss_epoch=0.499]\n",
      "Validation: |          | 0/? [00:00<?, ?it/s]\u001B[A\n",
      "Validation: |          | 0/? [00:00<?, ?it/s]\u001B[A\n",
      "Validation DataLoader 0:   0%|          | 0/1 [00:00<?, ?it/s]\u001B[A\n",
      "Validation DataLoader 0: 100%|██████████| 1/1 [00:00<00:00, 10.97it/s]\u001B[A\n",
      "Epoch 4: 100%|██████████| 1/1 [00:00<00:00, 12.06it/s, v_num=15, train/loss_step=0.481, val/loss=1.160, val/error_u=0.913, val/error_v=0.985, val/error_h=0.750, val/loss_best=1.110, train/loss_epoch=0.487]\n",
      "Validation: |          | 0/? [00:00<?, ?it/s]\u001B[A\n",
      "Validation: |          | 0/? [00:00<?, ?it/s]\u001B[A\n",
      "Validation DataLoader 0:   0%|          | 0/1 [00:00<?, ?it/s]\u001B[A\n",
      "Validation DataLoader 0: 100%|██████████| 1/1 [00:00<00:00, 22.01it/s]\u001B[A\n",
      "Epoch 5: 100%|██████████| 1/1 [00:00<00:00,  9.20it/s, v_num=15, train/loss_step=0.473, val/loss=1.160, val/error_u=0.900, val/error_v=1.010, val/error_h=0.749, val/loss_best=1.110, train/loss_epoch=0.481]\n",
      "Validation: |          | 0/? [00:00<?, ?it/s]\u001B[A\n",
      "Validation: |          | 0/? [00:00<?, ?it/s]\u001B[A\n",
      "Validation DataLoader 0:   0%|          | 0/1 [00:00<?, ?it/s]\u001B[A\n",
      "Validation DataLoader 0: 100%|██████████| 1/1 [00:00<00:00, 51.26it/s]\u001B[A\n",
      "Epoch 6: 100%|██████████| 1/1 [00:00<00:00, 20.10it/s, v_num=15, train/loss_step=0.468, val/loss=1.150, val/error_u=0.885, val/error_v=1.020, val/error_h=0.750, val/loss_best=1.110, train/loss_epoch=0.473]\n",
      "Validation: |          | 0/? [00:00<?, ?it/s]\u001B[A\n",
      "Validation: |          | 0/? [00:00<?, ?it/s]\u001B[A\n",
      "Validation DataLoader 0:   0%|          | 0/1 [00:00<?, ?it/s]\u001B[A\n",
      "Validation DataLoader 0: 100%|██████████| 1/1 [00:00<00:00, 62.16it/s]\u001B[A\n",
      "Epoch 7: 100%|██████████| 1/1 [00:00<00:00, 27.19it/s, v_num=15, train/loss_step=0.465, val/loss=1.150, val/error_u=0.878, val/error_v=1.020, val/error_h=0.752, val/loss_best=1.110, train/loss_epoch=0.468]\n",
      "Validation: |          | 0/? [00:00<?, ?it/s]\u001B[A\n",
      "Validation: |          | 0/? [00:00<?, ?it/s]\u001B[A\n",
      "Validation DataLoader 0:   0%|          | 0/1 [00:00<?, ?it/s]\u001B[A\n",
      "Validation DataLoader 0: 100%|██████████| 1/1 [00:00<00:00, 69.40it/s]\u001B[A\n",
      "Epoch 8: 100%|██████████| 1/1 [00:00<00:00, 29.67it/s, v_num=15, train/loss_step=0.456, val/loss=1.140, val/error_u=0.877, val/error_v=1.010, val/error_h=0.751, val/loss_best=1.110, train/loss_epoch=0.465]\n",
      "Validation: |          | 0/? [00:00<?, ?it/s]\u001B[A\n",
      "Validation: |          | 0/? [00:00<?, ?it/s]\u001B[A\n",
      "Validation DataLoader 0:   0%|          | 0/1 [00:00<?, ?it/s]\u001B[A\n",
      "Validation DataLoader 0: 100%|██████████| 1/1 [00:00<00:00, 47.79it/s]\u001B[A\n",
      "Epoch 9: 100%|██████████| 1/1 [00:00<00:00, 24.21it/s, v_num=15, train/loss_step=0.445, val/loss=1.130, val/error_u=0.883, val/error_v=0.993, val/error_h=0.749, val/loss_best=1.110, train/loss_epoch=0.456]\n",
      "Validation: |          | 0/? [00:00<?, ?it/s]\u001B[A\n",
      "Validation: |          | 0/? [00:00<?, ?it/s]\u001B[A\n",
      "Validation DataLoader 0:   0%|          | 0/1 [00:00<?, ?it/s]\u001B[A\n",
      "Validation DataLoader 0: 100%|██████████| 1/1 [00:00<00:00, 50.10it/s]\u001B[A\n",
      "Epoch 10: 100%|██████████| 1/1 [00:00<00:00, 32.18it/s, v_num=15, train/loss_step=0.434, val/loss=1.140, val/error_u=0.895, val/error_v=0.983, val/error_h=0.747, val/loss_best=1.110, train/loss_epoch=0.445]\n",
      "Validation: |          | 0/? [00:00<?, ?it/s]\u001B[A\n",
      "Validation: |          | 0/? [00:00<?, ?it/s]\u001B[A\n",
      "Validation DataLoader 0:   0%|          | 0/1 [00:00<?, ?it/s]\u001B[A\n",
      "Validation DataLoader 0: 100%|██████████| 1/1 [00:00<00:00, 61.48it/s]\u001B[A\n",
      "Epoch 11: 100%|██████████| 1/1 [00:00<00:00, 28.12it/s, v_num=15, train/loss_step=0.429, val/loss=1.140, val/error_u=0.907, val/error_v=0.977, val/error_h=0.747, val/loss_best=1.110, train/loss_epoch=0.434]\n",
      "Validation: |          | 0/? [00:00<?, ?it/s]\u001B[A\n",
      "Validation: |          | 0/? [00:00<?, ?it/s]\u001B[A\n",
      "Validation DataLoader 0:   0%|          | 0/1 [00:00<?, ?it/s]\u001B[A\n",
      "Validation DataLoader 0: 100%|██████████| 1/1 [00:00<00:00, 71.28it/s]\u001B[A\n",
      "Epoch 12: 100%|██████████| 1/1 [00:00<00:00, 32.49it/s, v_num=15, train/loss_step=0.426, val/loss=1.150, val/error_u=0.911, val/error_v=0.977, val/error_h=0.748, val/loss_best=1.110, train/loss_epoch=0.429]\n",
      "Validation: |          | 0/? [00:00<?, ?it/s]\u001B[A\n",
      "Validation: |          | 0/? [00:00<?, ?it/s]\u001B[A\n",
      "Validation DataLoader 0:   0%|          | 0/1 [00:00<?, ?it/s]\u001B[A\n",
      "Validation DataLoader 0: 100%|██████████| 1/1 [00:00<00:00, 56.70it/s]\u001B[A\n",
      "Epoch 13: 100%|██████████| 1/1 [00:00<00:00, 42.65it/s, v_num=15, train/loss_step=0.420, val/loss=1.140, val/error_u=0.906, val/error_v=0.979, val/error_h=0.746, val/loss_best=1.110, train/loss_epoch=0.426]\n",
      "Validation: |          | 0/? [00:00<?, ?it/s]\u001B[A\n",
      "Validation: |          | 0/? [00:00<?, ?it/s]\u001B[A\n",
      "Validation DataLoader 0:   0%|          | 0/1 [00:00<?, ?it/s]\u001B[A\n",
      "Validation DataLoader 0: 100%|██████████| 1/1 [00:00<00:00, 67.02it/s]\u001B[A\n",
      "Epoch 14: 100%|██████████| 1/1 [00:00<00:00, 23.82it/s, v_num=15, train/loss_step=0.414, val/loss=1.130, val/error_u=0.894, val/error_v=0.982, val/error_h=0.744, val/loss_best=1.110, train/loss_epoch=0.420]\n",
      "Validation: |          | 0/? [00:00<?, ?it/s]\u001B[A\n",
      "Validation: |          | 0/? [00:00<?, ?it/s]\u001B[A\n",
      "Validation DataLoader 0:   0%|          | 0/1 [00:00<?, ?it/s]\u001B[A\n",
      "Validation DataLoader 0: 100%|██████████| 1/1 [00:00<00:00, 67.57it/s]\u001B[A\n",
      "Epoch 15: 100%|██████████| 1/1 [00:00<00:00, 20.35it/s, v_num=15, train/loss_step=0.411, val/loss=1.120, val/error_u=0.883, val/error_v=0.985, val/error_h=0.741, val/loss_best=1.110, train/loss_epoch=0.414]\n",
      "Validation: |          | 0/? [00:00<?, ?it/s]\u001B[A\n",
      "Validation: |          | 0/? [00:00<?, ?it/s]\u001B[A\n",
      "Validation DataLoader 0:   0%|          | 0/1 [00:00<?, ?it/s]\u001B[A\n",
      "Validation DataLoader 0: 100%|██████████| 1/1 [00:00<00:00, 49.12it/s]\u001B[A\n",
      "Epoch 16: 100%|██████████| 1/1 [00:00<00:00, 39.54it/s, v_num=15, train/loss_step=0.408, val/loss=1.120, val/error_u=0.879, val/error_v=0.987, val/error_h=0.740, val/loss_best=1.110, train/loss_epoch=0.411]\n",
      "Validation: |          | 0/? [00:00<?, ?it/s]\u001B[A\n",
      "Validation: |          | 0/? [00:00<?, ?it/s]\u001B[A\n",
      "Validation DataLoader 0:   0%|          | 0/1 [00:00<?, ?it/s]\u001B[A\n",
      "Validation DataLoader 0: 100%|██████████| 1/1 [00:00<00:00, 66.30it/s]\u001B[A\n",
      "Epoch 17: 100%|██████████| 1/1 [00:00<00:00, 32.53it/s, v_num=15, train/loss_step=0.401, val/loss=1.120, val/error_u=0.881, val/error_v=0.988, val/error_h=0.738, val/loss_best=1.110, train/loss_epoch=0.408]\n",
      "Validation: |          | 0/? [00:00<?, ?it/s]\u001B[A\n",
      "Validation: |          | 0/? [00:00<?, ?it/s]\u001B[A\n",
      "Validation DataLoader 0:   0%|          | 0/1 [00:00<?, ?it/s]\u001B[A\n",
      "Validation DataLoader 0: 100%|██████████| 1/1 [00:00<00:00, 22.39it/s]\u001B[A\n",
      "Epoch 18: 100%|██████████| 1/1 [00:00<00:00, 41.02it/s, v_num=15, train/loss_step=0.393, val/loss=1.120, val/error_u=0.889, val/error_v=0.990, val/error_h=0.737, val/loss_best=1.110, train/loss_epoch=0.401]\n",
      "Validation: |          | 0/? [00:00<?, ?it/s]\u001B[A\n",
      "Validation: |          | 0/? [00:00<?, ?it/s]\u001B[A\n",
      "Validation DataLoader 0:   0%|          | 0/1 [00:00<?, ?it/s]\u001B[A\n",
      "Validation DataLoader 0: 100%|██████████| 1/1 [00:00<00:00, 59.59it/s]\u001B[A\n",
      "Epoch 19: 100%|██████████| 1/1 [00:00<00:00, 29.57it/s, v_num=15, train/loss_step=0.387, val/loss=1.130, val/error_u=0.900, val/error_v=0.992, val/error_h=0.736, val/loss_best=1.110, train/loss_epoch=0.393]\n",
      "Validation: |          | 0/? [00:00<?, ?it/s]\u001B[A\n",
      "Validation: |          | 0/? [00:00<?, ?it/s]\u001B[A\n",
      "Validation DataLoader 0:   0%|          | 0/1 [00:00<?, ?it/s]\u001B[A\n",
      "Validation DataLoader 0: 100%|██████████| 1/1 [00:00<00:00, 80.97it/s]\u001B[A\n",
      "Epoch 20: 100%|██████████| 1/1 [00:00<00:00, 26.15it/s, v_num=15, train/loss_step=0.384, val/loss=1.140, val/error_u=0.910, val/error_v=0.993, val/error_h=0.736, val/loss_best=1.110, train/loss_epoch=0.387]\n",
      "Validation: |          | 0/? [00:00<?, ?it/s]\u001B[A\n",
      "Validation: |          | 0/? [00:00<?, ?it/s]\u001B[A\n",
      "Validation DataLoader 0:   0%|          | 0/1 [00:00<?, ?it/s]\u001B[A\n",
      "Validation DataLoader 0: 100%|██████████| 1/1 [00:00<00:00, 68.81it/s]\u001B[A\n",
      "Epoch 21: 100%|██████████| 1/1 [00:00<00:00, 37.07it/s, v_num=15, train/loss_step=0.379, val/loss=1.140, val/error_u=0.912, val/error_v=0.994, val/error_h=0.735, val/loss_best=1.110, train/loss_epoch=0.384]\n",
      "Validation: |          | 0/? [00:00<?, ?it/s]\u001B[A\n",
      "Validation: |          | 0/? [00:00<?, ?it/s]\u001B[A\n",
      "Validation DataLoader 0:   0%|          | 0/1 [00:00<?, ?it/s]\u001B[A\n",
      "Validation DataLoader 0: 100%|██████████| 1/1 [00:00<00:00, 64.05it/s]\u001B[A\n",
      "Epoch 22: 100%|██████████| 1/1 [00:00<00:00, 32.77it/s, v_num=15, train/loss_step=0.374, val/loss=1.130, val/error_u=0.905, val/error_v=0.994, val/error_h=0.732, val/loss_best=1.110, train/loss_epoch=0.379]\n",
      "Validation: |          | 0/? [00:00<?, ?it/s]\u001B[A\n",
      "Validation: |          | 0/? [00:00<?, ?it/s]\u001B[A\n",
      "Validation DataLoader 0:   0%|          | 0/1 [00:00<?, ?it/s]\u001B[A\n",
      "Validation DataLoader 0: 100%|██████████| 1/1 [00:00<00:00, 55.83it/s]\u001B[A\n",
      "Epoch 23: 100%|██████████| 1/1 [00:00<00:00, 25.89it/s, v_num=15, train/loss_step=0.370, val/loss=1.120, val/error_u=0.897, val/error_v=0.994, val/error_h=0.729, val/loss_best=1.110, train/loss_epoch=0.374]\n",
      "Validation: |          | 0/? [00:00<?, ?it/s]\u001B[A\n",
      "Validation: |          | 0/? [00:00<?, ?it/s]\u001B[A\n",
      "Validation DataLoader 0:   0%|          | 0/1 [00:00<?, ?it/s]\u001B[A\n",
      "Validation DataLoader 0: 100%|██████████| 1/1 [00:00<00:00, 84.86it/s]\u001B[A\n",
      "Epoch 24: 100%|██████████| 1/1 [00:00<00:00, 36.50it/s, v_num=15, train/loss_step=0.366, val/loss=1.120, val/error_u=0.893, val/error_v=0.995, val/error_h=0.727, val/loss_best=1.110, train/loss_epoch=0.370]\n",
      "Validation: |          | 0/? [00:00<?, ?it/s]\u001B[A\n",
      "Validation: |          | 0/? [00:00<?, ?it/s]\u001B[A\n",
      "Validation DataLoader 0:   0%|          | 0/1 [00:00<?, ?it/s]\u001B[A\n",
      "Validation DataLoader 0: 100%|██████████| 1/1 [00:00<00:00, 43.04it/s]\u001B[A\n",
      "Epoch 25: 100%|██████████| 1/1 [00:00<00:00, 28.22it/s, v_num=15, train/loss_step=0.360, val/loss=1.120, val/error_u=0.894, val/error_v=0.997, val/error_h=0.726, val/loss_best=1.110, train/loss_epoch=0.366]\n",
      "Validation: |          | 0/? [00:00<?, ?it/s]\u001B[A\n",
      "Validation: |          | 0/? [00:00<?, ?it/s]\u001B[A\n",
      "Validation DataLoader 0:   0%|          | 0/1 [00:00<?, ?it/s]\u001B[A\n",
      "Validation DataLoader 0: 100%|██████████| 1/1 [00:00<00:00, 63.95it/s]\u001B[A\n",
      "Epoch 26: 100%|██████████| 1/1 [00:00<00:00, 31.00it/s, v_num=15, train/loss_step=0.355, val/loss=1.120, val/error_u=0.898, val/error_v=0.999, val/error_h=0.726, val/loss_best=1.110, train/loss_epoch=0.360]\n",
      "Validation: |          | 0/? [00:00<?, ?it/s]\u001B[A\n",
      "Validation: |          | 0/? [00:00<?, ?it/s]\u001B[A\n",
      "Validation DataLoader 0:   0%|          | 0/1 [00:00<?, ?it/s]\u001B[A\n",
      "Validation DataLoader 0: 100%|██████████| 1/1 [00:00<00:00, 68.23it/s]\u001B[A\n",
      "Epoch 27: 100%|██████████| 1/1 [00:00<00:00, 27.56it/s, v_num=15, train/loss_step=0.350, val/loss=1.130, val/error_u=0.902, val/error_v=1.000, val/error_h=0.726, val/loss_best=1.110, train/loss_epoch=0.355]\n",
      "Validation: |          | 0/? [00:00<?, ?it/s]\u001B[A\n",
      "Validation: |          | 0/? [00:00<?, ?it/s]\u001B[A\n",
      "Validation DataLoader 0:   0%|          | 0/1 [00:00<?, ?it/s]\u001B[A\n",
      "Validation DataLoader 0: 100%|██████████| 1/1 [00:00<00:00, 70.81it/s]\u001B[A\n",
      "Epoch 28: 100%|██████████| 1/1 [00:00<00:00, 31.23it/s, v_num=15, train/loss_step=0.347, val/loss=1.130, val/error_u=0.900, val/error_v=1.010, val/error_h=0.725, val/loss_best=1.110, train/loss_epoch=0.350]\n",
      "Validation: |          | 0/? [00:00<?, ?it/s]\u001B[A\n",
      "Validation: |          | 0/? [00:00<?, ?it/s]\u001B[A\n",
      "Validation DataLoader 0:   0%|          | 0/1 [00:00<?, ?it/s]\u001B[A\n",
      "Validation DataLoader 0: 100%|██████████| 1/1 [00:00<00:00, 91.52it/s]\u001B[A\n",
      "Epoch 29: 100%|██████████| 1/1 [00:00<00:00, 42.97it/s, v_num=15, train/loss_step=0.342, val/loss=1.120, val/error_u=0.893, val/error_v=1.010, val/error_h=0.722, val/loss_best=1.110, train/loss_epoch=0.347]\n",
      "Validation: |          | 0/? [00:00<?, ?it/s]\u001B[A\n",
      "Validation: |          | 0/? [00:00<?, ?it/s]\u001B[A\n",
      "Validation DataLoader 0:   0%|          | 0/1 [00:00<?, ?it/s]\u001B[A\n",
      "Validation DataLoader 0: 100%|██████████| 1/1 [00:00<00:00, 64.68it/s]\u001B[A\n",
      "Epoch 30: 100%|██████████| 1/1 [00:00<00:00, 34.88it/s, v_num=15, train/loss_step=0.338, val/loss=1.120, val/error_u=0.887, val/error_v=1.010, val/error_h=0.719, val/loss_best=1.110, train/loss_epoch=0.342]\n",
      "Validation: |          | 0/? [00:00<?, ?it/s]\u001B[A\n",
      "Validation: |          | 0/? [00:00<?, ?it/s]\u001B[A\n",
      "Validation DataLoader 0:   0%|          | 0/1 [00:00<?, ?it/s]\u001B[A\n",
      "Validation DataLoader 0: 100%|██████████| 1/1 [00:00<00:00, 31.46it/s]\u001B[A\n",
      "Epoch 31: 100%|██████████| 1/1 [00:00<00:00, 23.14it/s, v_num=15, train/loss_step=0.333, val/loss=1.110, val/error_u=0.885, val/error_v=1.020, val/error_h=0.716, val/loss_best=1.110, train/loss_epoch=0.338]\n",
      "Validation: |          | 0/? [00:00<?, ?it/s]\u001B[A\n",
      "Validation: |          | 0/? [00:00<?, ?it/s]\u001B[A\n",
      "Validation DataLoader 0:   0%|          | 0/1 [00:00<?, ?it/s]\u001B[A\n",
      "Validation DataLoader 0: 100%|██████████| 1/1 [00:00<00:00, 59.52it/s]\u001B[A\n",
      "Epoch 32: 100%|██████████| 1/1 [00:00<00:00, 32.85it/s, v_num=15, train/loss_step=0.328, val/loss=1.110, val/error_u=0.888, val/error_v=1.020, val/error_h=0.714, val/loss_best=1.110, train/loss_epoch=0.333]\n",
      "Validation: |          | 0/? [00:00<?, ?it/s]\u001B[A\n",
      "Validation: |          | 0/? [00:00<?, ?it/s]\u001B[A\n",
      "Validation DataLoader 0:   0%|          | 0/1 [00:00<?, ?it/s]\u001B[A\n",
      "Validation DataLoader 0: 100%|██████████| 1/1 [00:00<00:00, 43.68it/s]\u001B[A\n",
      "Epoch 33: 100%|██████████| 1/1 [00:00<00:00, 31.58it/s, v_num=15, train/loss_step=0.324, val/loss=1.120, val/error_u=0.893, val/error_v=1.020, val/error_h=0.712, val/loss_best=1.110, train/loss_epoch=0.328]\n",
      "Validation: |          | 0/? [00:00<?, ?it/s]\u001B[A\n",
      "Validation: |          | 0/? [00:00<?, ?it/s]\u001B[A\n",
      "Validation DataLoader 0:   0%|          | 0/1 [00:00<?, ?it/s]\u001B[A\n",
      "Validation DataLoader 0: 100%|██████████| 1/1 [00:00<00:00, 59.27it/s]\u001B[A\n",
      "Epoch 34: 100%|██████████| 1/1 [00:00<00:00, 29.43it/s, v_num=15, train/loss_step=0.320, val/loss=1.110, val/error_u=0.893, val/error_v=1.020, val/error_h=0.709, val/loss_best=1.110, train/loss_epoch=0.324]\n",
      "Validation: |          | 0/? [00:00<?, ?it/s]\u001B[A\n",
      "Validation: |          | 0/? [00:00<?, ?it/s]\u001B[A\n",
      "Validation DataLoader 0:   0%|          | 0/1 [00:00<?, ?it/s]\u001B[A\n",
      "Validation DataLoader 0: 100%|██████████| 1/1 [00:00<00:00, 86.29it/s]\u001B[A\n",
      "Epoch 35: 100%|██████████| 1/1 [00:00<00:00, 24.43it/s, v_num=15, train/loss_step=0.315, val/loss=1.100, val/error_u=0.886, val/error_v=1.020, val/error_h=0.705, val/loss_best=1.100, train/loss_epoch=0.320]\n",
      "Validation: |          | 0/? [00:00<?, ?it/s]\u001B[A\n",
      "Validation: |          | 0/? [00:00<?, ?it/s]\u001B[A\n",
      "Validation DataLoader 0:   0%|          | 0/1 [00:00<?, ?it/s]\u001B[A\n",
      "Validation DataLoader 0: 100%|██████████| 1/1 [00:00<00:00, 69.79it/s]\u001B[A\n",
      "Epoch 36: 100%|██████████| 1/1 [00:00<00:00, 26.32it/s, v_num=15, train/loss_step=0.311, val/loss=1.090, val/error_u=0.878, val/error_v=1.020, val/error_h=0.701, val/loss_best=1.090, train/loss_epoch=0.315]\n",
      "Validation: |          | 0/? [00:00<?, ?it/s]\u001B[A\n",
      "Validation: |          | 0/? [00:00<?, ?it/s]\u001B[A\n",
      "Validation DataLoader 0:   0%|          | 0/1 [00:00<?, ?it/s]\u001B[A\n",
      "Validation DataLoader 0: 100%|██████████| 1/1 [00:00<00:00, 42.68it/s]\u001B[A\n",
      "Epoch 37: 100%|██████████| 1/1 [00:00<00:00, 22.98it/s, v_num=15, train/loss_step=0.306, val/loss=1.090, val/error_u=0.875, val/error_v=1.020, val/error_h=0.699, val/loss_best=1.090, train/loss_epoch=0.311]\n",
      "Validation: |          | 0/? [00:00<?, ?it/s]\u001B[A\n",
      "Validation: |          | 0/? [00:00<?, ?it/s]\u001B[A\n",
      "Validation DataLoader 0:   0%|          | 0/1 [00:00<?, ?it/s]\u001B[A\n",
      "Validation DataLoader 0: 100%|██████████| 1/1 [00:00<00:00, 53.98it/s]\u001B[A\n",
      "Epoch 38: 100%|██████████| 1/1 [00:00<00:00, 29.29it/s, v_num=15, train/loss_step=0.302, val/loss=1.090, val/error_u=0.877, val/error_v=1.020, val/error_h=0.697, val/loss_best=1.090, train/loss_epoch=0.306]\n",
      "Validation: |          | 0/? [00:00<?, ?it/s]\u001B[A\n",
      "Validation: |          | 0/? [00:00<?, ?it/s]\u001B[A\n",
      "Validation DataLoader 0:   0%|          | 0/1 [00:00<?, ?it/s]\u001B[A\n",
      "Validation DataLoader 0: 100%|██████████| 1/1 [00:00<00:00, 79.05it/s]\u001B[A\n",
      "Epoch 39: 100%|██████████| 1/1 [00:00<00:00, 25.69it/s, v_num=15, train/loss_step=0.298, val/loss=1.090, val/error_u=0.877, val/error_v=1.030, val/error_h=0.695, val/loss_best=1.090, train/loss_epoch=0.302]\n",
      "Validation: |          | 0/? [00:00<?, ?it/s]\u001B[A\n",
      "Validation: |          | 0/? [00:00<?, ?it/s]\u001B[A\n",
      "Validation DataLoader 0:   0%|          | 0/1 [00:00<?, ?it/s]\u001B[A\n",
      "Validation DataLoader 0: 100%|██████████| 1/1 [00:00<00:00, 46.94it/s]\u001B[A\n",
      "Epoch 40: 100%|██████████| 1/1 [00:00<00:00, 33.13it/s, v_num=15, train/loss_step=0.292, val/loss=1.080, val/error_u=0.872, val/error_v=1.030, val/error_h=0.691, val/loss_best=1.080, train/loss_epoch=0.298]\n",
      "Validation: |          | 0/? [00:00<?, ?it/s]\u001B[A\n",
      "Validation: |          | 0/? [00:00<?, ?it/s]\u001B[A\n",
      "Validation DataLoader 0:   0%|          | 0/1 [00:00<?, ?it/s]\u001B[A\n",
      "Validation DataLoader 0: 100%|██████████| 1/1 [00:00<00:00, 61.42it/s]\u001B[A\n",
      "Epoch 41: 100%|██████████| 1/1 [00:00<00:00, 26.48it/s, v_num=15, train/loss_step=0.286, val/loss=1.070, val/error_u=0.864, val/error_v=1.030, val/error_h=0.686, val/loss_best=1.070, train/loss_epoch=0.292]\n",
      "Validation: |          | 0/? [00:00<?, ?it/s]\u001B[A\n",
      "Validation: |          | 0/? [00:00<?, ?it/s]\u001B[A\n",
      "Validation DataLoader 0:   0%|          | 0/1 [00:00<?, ?it/s]\u001B[A\n",
      "Validation DataLoader 0: 100%|██████████| 1/1 [00:00<00:00, 69.00it/s]\u001B[A\n",
      "Epoch 42: 100%|██████████| 1/1 [00:00<00:00, 24.15it/s, v_num=15, train/loss_step=0.281, val/loss=1.060, val/error_u=0.860, val/error_v=1.030, val/error_h=0.683, val/loss_best=1.060, train/loss_epoch=0.286]\n",
      "Validation: |          | 0/? [00:00<?, ?it/s]\u001B[A\n",
      "Validation: |          | 0/? [00:00<?, ?it/s]\u001B[A\n",
      "Validation DataLoader 0:   0%|          | 0/1 [00:00<?, ?it/s]\u001B[A\n",
      "Validation DataLoader 0: 100%|██████████| 1/1 [00:00<00:00, 45.84it/s]\u001B[A\n",
      "Epoch 43: 100%|██████████| 1/1 [00:00<00:00, 19.65it/s, v_num=15, train/loss_step=0.276, val/loss=1.060, val/error_u=0.860, val/error_v=1.030, val/error_h=0.681, val/loss_best=1.060, train/loss_epoch=0.281]\n",
      "Validation: |          | 0/? [00:00<?, ?it/s]\u001B[A\n",
      "Validation: |          | 0/? [00:00<?, ?it/s]\u001B[A\n",
      "Validation DataLoader 0:   0%|          | 0/1 [00:00<?, ?it/s]\u001B[A\n",
      "Validation DataLoader 0: 100%|██████████| 1/1 [00:00<00:00, 69.37it/s]\u001B[A\n",
      "Epoch 44: 100%|██████████| 1/1 [00:00<00:00, 26.91it/s, v_num=15, train/loss_step=0.271, val/loss=1.050, val/error_u=0.856, val/error_v=1.030, val/error_h=0.677, val/loss_best=1.050, train/loss_epoch=0.276]\n",
      "Validation: |          | 0/? [00:00<?, ?it/s]\u001B[A\n",
      "Validation: |          | 0/? [00:00<?, ?it/s]\u001B[A\n",
      "Validation DataLoader 0:   0%|          | 0/1 [00:00<?, ?it/s]\u001B[A\n",
      "Validation DataLoader 0: 100%|██████████| 1/1 [00:00<00:00, 50.36it/s]\u001B[A\n",
      "Epoch 45: 100%|██████████| 1/1 [00:00<00:00, 26.73it/s, v_num=15, train/loss_step=0.266, val/loss=1.040, val/error_u=0.850, val/error_v=1.030, val/error_h=0.672, val/loss_best=1.040, train/loss_epoch=0.271]\n",
      "Validation: |          | 0/? [00:00<?, ?it/s]\u001B[A\n",
      "Validation: |          | 0/? [00:00<?, ?it/s]\u001B[A\n",
      "Validation DataLoader 0:   0%|          | 0/1 [00:00<?, ?it/s]\u001B[A\n",
      "Validation DataLoader 0: 100%|██████████| 1/1 [00:00<00:00, 48.28it/s]\u001B[A\n",
      "Epoch 46: 100%|██████████| 1/1 [00:00<00:00, 19.25it/s, v_num=15, train/loss_step=0.262, val/loss=1.040, val/error_u=0.849, val/error_v=1.030, val/error_h=0.669, val/loss_best=1.040, train/loss_epoch=0.266]\n",
      "Validation: |          | 0/? [00:00<?, ?it/s]\u001B[A\n",
      "Validation: |          | 0/? [00:00<?, ?it/s]\u001B[A\n",
      "Validation DataLoader 0:   0%|          | 0/1 [00:00<?, ?it/s]\u001B[A\n",
      "Validation DataLoader 0: 100%|██████████| 1/1 [00:00<00:00, 68.24it/s]\u001B[A\n",
      "Epoch 47: 100%|██████████| 1/1 [00:00<00:00, 19.93it/s, v_num=15, train/loss_step=0.259, val/loss=1.030, val/error_u=0.850, val/error_v=1.030, val/error_h=0.666, val/loss_best=1.030, train/loss_epoch=0.262]\n",
      "Validation: |          | 0/? [00:00<?, ?it/s]\u001B[A\n",
      "Validation: |          | 0/? [00:00<?, ?it/s]\u001B[A\n",
      "Validation DataLoader 0:   0%|          | 0/1 [00:00<?, ?it/s]\u001B[A\n",
      "Validation DataLoader 0: 100%|██████████| 1/1 [00:00<00:00, 44.25it/s]\u001B[A\n",
      "Epoch 48: 100%|██████████| 1/1 [00:00<00:00, 32.42it/s, v_num=15, train/loss_step=0.255, val/loss=1.020, val/error_u=0.846, val/error_v=1.030, val/error_h=0.662, val/loss_best=1.020, train/loss_epoch=0.259]\n",
      "Validation: |          | 0/? [00:00<?, ?it/s]\u001B[A\n",
      "Validation: |          | 0/? [00:00<?, ?it/s]\u001B[A\n",
      "Validation DataLoader 0:   0%|          | 0/1 [00:00<?, ?it/s]\u001B[A\n",
      "Validation DataLoader 0: 100%|██████████| 1/1 [00:00<00:00, 54.60it/s]\u001B[A\n",
      "Epoch 49: 100%|██████████| 1/1 [00:00<00:00, 27.39it/s, v_num=15, train/loss_step=0.252, val/loss=1.010, val/error_u=0.839, val/error_v=1.020, val/error_h=0.658, val/loss_best=1.010, train/loss_epoch=0.255]\n",
      "Validation: |          | 0/? [00:00<?, ?it/s]\u001B[A\n",
      "Validation: |          | 0/? [00:00<?, ?it/s]\u001B[A\n",
      "Validation DataLoader 0:   0%|          | 0/1 [00:00<?, ?it/s]\u001B[A\n",
      "Validation DataLoader 0: 100%|██████████| 1/1 [00:00<00:00, 64.79it/s]\u001B[A\n",
      "Epoch 50: 100%|██████████| 1/1 [00:00<00:00, 25.77it/s, v_num=15, train/loss_step=0.249, val/loss=1.010, val/error_u=0.836, val/error_v=1.030, val/error_h=0.656, val/loss_best=1.010, train/loss_epoch=0.252]\n",
      "Validation: |          | 0/? [00:00<?, ?it/s]\u001B[A\n",
      "Validation: |          | 0/? [00:00<?, ?it/s]\u001B[A\n",
      "Validation DataLoader 0:   0%|          | 0/1 [00:00<?, ?it/s]\u001B[A\n",
      "Validation DataLoader 0: 100%|██████████| 1/1 [00:00<00:00, 57.45it/s]\u001B[A\n",
      "Epoch 51: 100%|██████████| 1/1 [00:00<00:00, 25.76it/s, v_num=15, train/loss_step=0.247, val/loss=1.010, val/error_u=0.837, val/error_v=1.030, val/error_h=0.654, val/loss_best=1.010, train/loss_epoch=0.249]\n",
      "Validation: |          | 0/? [00:00<?, ?it/s]\u001B[A\n",
      "Validation: |          | 0/? [00:00<?, ?it/s]\u001B[A\n",
      "Validation DataLoader 0:   0%|          | 0/1 [00:00<?, ?it/s]\u001B[A\n",
      "Validation DataLoader 0: 100%|██████████| 1/1 [00:00<00:00, 58.40it/s]\u001B[A\n",
      "Epoch 52: 100%|██████████| 1/1 [00:00<00:00, 25.42it/s, v_num=15, train/loss_step=0.245, val/loss=1.000, val/error_u=0.834, val/error_v=1.030, val/error_h=0.651, val/loss_best=1.000, train/loss_epoch=0.247]\n",
      "Validation: |          | 0/? [00:00<?, ?it/s]\u001B[A\n",
      "Validation: |          | 0/? [00:00<?, ?it/s]\u001B[A\n",
      "Validation DataLoader 0:   0%|          | 0/1 [00:00<?, ?it/s]\u001B[A\n",
      "Validation DataLoader 0: 100%|██████████| 1/1 [00:00<00:00, 69.66it/s]\u001B[A\n",
      "Epoch 53: 100%|██████████| 1/1 [00:00<00:00, 23.95it/s, v_num=15, train/loss_step=0.242, val/loss=0.996, val/error_u=0.829, val/error_v=1.030, val/error_h=0.647, val/loss_best=0.996, train/loss_epoch=0.245]\n",
      "Validation: |          | 0/? [00:00<?, ?it/s]\u001B[A\n",
      "Validation: |          | 0/? [00:00<?, ?it/s]\u001B[A\n",
      "Validation DataLoader 0:   0%|          | 0/1 [00:00<?, ?it/s]\u001B[A\n",
      "Validation DataLoader 0: 100%|██████████| 1/1 [00:00<00:00, 46.85it/s]\u001B[A\n",
      "Epoch 54: 100%|██████████| 1/1 [00:00<00:00, 15.19it/s, v_num=15, train/loss_step=0.240, val/loss=0.991, val/error_u=0.827, val/error_v=1.030, val/error_h=0.645, val/loss_best=0.991, train/loss_epoch=0.242]\n",
      "Validation: |          | 0/? [00:00<?, ?it/s]\u001B[A\n",
      "Validation: |          | 0/? [00:00<?, ?it/s]\u001B[A\n",
      "Validation DataLoader 0:   0%|          | 0/1 [00:00<?, ?it/s]\u001B[A\n",
      "Validation DataLoader 0: 100%|██████████| 1/1 [00:00<00:00, 35.81it/s]\u001B[A\n",
      "Epoch 55: 100%|██████████| 1/1 [00:00<00:00, 25.87it/s, v_num=15, train/loss_step=0.238, val/loss=0.987, val/error_u=0.826, val/error_v=1.030, val/error_h=0.642, val/loss_best=0.987, train/loss_epoch=0.240]\n",
      "Validation: |          | 0/? [00:00<?, ?it/s]\u001B[A\n",
      "Validation: |          | 0/? [00:00<?, ?it/s]\u001B[A\n",
      "Validation DataLoader 0:   0%|          | 0/1 [00:00<?, ?it/s]\u001B[A\n",
      "Validation DataLoader 0: 100%|██████████| 1/1 [00:00<00:00, 75.43it/s]\u001B[A\n",
      "Epoch 56: 100%|██████████| 1/1 [00:00<00:00, 33.90it/s, v_num=15, train/loss_step=0.235, val/loss=0.982, val/error_u=0.822, val/error_v=1.030, val/error_h=0.640, val/loss_best=0.982, train/loss_epoch=0.238]\n",
      "Validation: |          | 0/? [00:00<?, ?it/s]\u001B[A\n",
      "Validation: |          | 0/? [00:00<?, ?it/s]\u001B[A\n",
      "Validation DataLoader 0:   0%|          | 0/1 [00:00<?, ?it/s]\u001B[A\n",
      "Validation DataLoader 0: 100%|██████████| 1/1 [00:00<00:00, 81.69it/s]\u001B[A\n",
      "Epoch 57: 100%|██████████| 1/1 [00:00<00:00, 31.20it/s, v_num=15, train/loss_step=0.233, val/loss=0.981, val/error_u=0.823, val/error_v=1.030, val/error_h=0.638, val/loss_best=0.981, train/loss_epoch=0.235]\n",
      "Validation: |          | 0/? [00:00<?, ?it/s]\u001B[A\n",
      "Validation: |          | 0/? [00:00<?, ?it/s]\u001B[A\n",
      "Validation DataLoader 0:   0%|          | 0/1 [00:00<?, ?it/s]\u001B[A\n",
      "Validation DataLoader 0: 100%|██████████| 1/1 [00:00<00:00, 65.98it/s]\u001B[A\n",
      "Epoch 58: 100%|██████████| 1/1 [00:00<00:00, 24.81it/s, v_num=15, train/loss_step=0.231, val/loss=0.981, val/error_u=0.822, val/error_v=1.030, val/error_h=0.637, val/loss_best=0.981, train/loss_epoch=0.233]\n",
      "Validation: |          | 0/? [00:00<?, ?it/s]\u001B[A\n",
      "Validation: |          | 0/? [00:00<?, ?it/s]\u001B[A\n",
      "Validation DataLoader 0:   0%|          | 0/1 [00:00<?, ?it/s]\u001B[A\n",
      "Validation DataLoader 0: 100%|██████████| 1/1 [00:00<00:00, 60.91it/s]\u001B[A\n",
      "Epoch 59: 100%|██████████| 1/1 [00:00<00:00, 33.62it/s, v_num=15, train/loss_step=0.229, val/loss=0.976, val/error_u=0.819, val/error_v=1.030, val/error_h=0.636, val/loss_best=0.976, train/loss_epoch=0.231]\n",
      "Validation: |          | 0/? [00:00<?, ?it/s]\u001B[A\n",
      "Validation: |          | 0/? [00:00<?, ?it/s]\u001B[A\n",
      "Validation DataLoader 0:   0%|          | 0/1 [00:00<?, ?it/s]\u001B[A\n",
      "Validation DataLoader 0: 100%|██████████| 1/1 [00:00<00:00, 72.66it/s]\u001B[A\n",
      "Epoch 60: 100%|██████████| 1/1 [00:00<00:00, 25.75it/s, v_num=15, train/loss_step=0.227, val/loss=0.974, val/error_u=0.818, val/error_v=1.030, val/error_h=0.635, val/loss_best=0.974, train/loss_epoch=0.229]\n",
      "Validation: |          | 0/? [00:00<?, ?it/s]\u001B[A\n",
      "Validation: |          | 0/? [00:00<?, ?it/s]\u001B[A\n",
      "Validation DataLoader 0:   0%|          | 0/1 [00:00<?, ?it/s]\u001B[A\n",
      "Validation DataLoader 0: 100%|██████████| 1/1 [00:00<00:00, 65.03it/s]\u001B[A\n",
      "Epoch 61: 100%|██████████| 1/1 [00:00<00:00, 28.60it/s, v_num=15, train/loss_step=0.225, val/loss=0.974, val/error_u=0.819, val/error_v=1.030, val/error_h=0.634, val/loss_best=0.974, train/loss_epoch=0.227]\n",
      "Validation: |          | 0/? [00:00<?, ?it/s]\u001B[A\n",
      "Validation: |          | 0/? [00:00<?, ?it/s]\u001B[A\n",
      "Validation DataLoader 0:   0%|          | 0/1 [00:00<?, ?it/s]\u001B[A\n",
      "Validation DataLoader 0: 100%|██████████| 1/1 [00:00<00:00, 67.68it/s]\u001B[A\n",
      "Epoch 62: 100%|██████████| 1/1 [00:00<00:00, 26.75it/s, v_num=15, train/loss_step=0.222, val/loss=0.973, val/error_u=0.818, val/error_v=1.030, val/error_h=0.633, val/loss_best=0.973, train/loss_epoch=0.225]\n",
      "Validation: |          | 0/? [00:00<?, ?it/s]\u001B[A\n",
      "Validation: |          | 0/? [00:00<?, ?it/s]\u001B[A\n",
      "Validation DataLoader 0:   0%|          | 0/1 [00:00<?, ?it/s]\u001B[A\n",
      "Validation DataLoader 0: 100%|██████████| 1/1 [00:00<00:00, 53.77it/s]\u001B[A\n",
      "Epoch 63: 100%|██████████| 1/1 [00:00<00:00, 30.74it/s, v_num=15, train/loss_step=0.220, val/loss=0.970, val/error_u=0.816, val/error_v=1.030, val/error_h=0.633, val/loss_best=0.970, train/loss_epoch=0.222]\n",
      "Validation: |          | 0/? [00:00<?, ?it/s]\u001B[A\n",
      "Validation: |          | 0/? [00:00<?, ?it/s]\u001B[A\n",
      "Validation DataLoader 0:   0%|          | 0/1 [00:00<?, ?it/s]\u001B[A\n",
      "Validation DataLoader 0: 100%|██████████| 1/1 [00:00<00:00, 52.46it/s]\u001B[A\n",
      "Epoch 64: 100%|██████████| 1/1 [00:00<00:00, 19.76it/s, v_num=15, train/loss_step=0.218, val/loss=0.970, val/error_u=0.817, val/error_v=1.030, val/error_h=0.632, val/loss_best=0.970, train/loss_epoch=0.220]\n",
      "Validation: |          | 0/? [00:00<?, ?it/s]\u001B[A\n",
      "Validation: |          | 0/? [00:00<?, ?it/s]\u001B[A\n",
      "Validation DataLoader 0:   0%|          | 0/1 [00:00<?, ?it/s]\u001B[A\n",
      "Validation DataLoader 0: 100%|██████████| 1/1 [00:00<00:00, 49.17it/s]\u001B[A\n",
      "Epoch 65: 100%|██████████| 1/1 [00:00<00:00, 26.93it/s, v_num=15, train/loss_step=0.216, val/loss=0.968, val/error_u=0.816, val/error_v=1.020, val/error_h=0.631, val/loss_best=0.968, train/loss_epoch=0.218]\n",
      "Validation: |          | 0/? [00:00<?, ?it/s]\u001B[A\n",
      "Validation: |          | 0/? [00:00<?, ?it/s]\u001B[A\n",
      "Validation DataLoader 0:   0%|          | 0/1 [00:00<?, ?it/s]\u001B[A\n",
      "Validation DataLoader 0: 100%|██████████| 1/1 [00:00<00:00, 40.57it/s]\u001B[A\n",
      "Epoch 66: 100%|██████████| 1/1 [00:00<00:00, 23.70it/s, v_num=15, train/loss_step=0.215, val/loss=0.966, val/error_u=0.816, val/error_v=1.030, val/error_h=0.630, val/loss_best=0.966, train/loss_epoch=0.216]\n",
      "Validation: |          | 0/? [00:00<?, ?it/s]\u001B[A\n",
      "Validation: |          | 0/? [00:00<?, ?it/s]\u001B[A\n",
      "Validation DataLoader 0:   0%|          | 0/1 [00:00<?, ?it/s]\u001B[A\n",
      "Validation DataLoader 0: 100%|██████████| 1/1 [00:00<00:00, 44.58it/s]\u001B[A\n",
      "Epoch 67: 100%|██████████| 1/1 [00:00<00:00, 11.64it/s, v_num=15, train/loss_step=0.213, val/loss=0.967, val/error_u=0.818, val/error_v=1.030, val/error_h=0.629, val/loss_best=0.966, train/loss_epoch=0.215]\n",
      "Validation: |          | 0/? [00:00<?, ?it/s]\u001B[A\n",
      "Validation: |          | 0/? [00:00<?, ?it/s]\u001B[A\n",
      "Validation DataLoader 0:   0%|          | 0/1 [00:00<?, ?it/s]\u001B[A\n",
      "Validation DataLoader 0: 100%|██████████| 1/1 [00:00<00:00, 38.52it/s]\u001B[A\n",
      "Epoch 68: 100%|██████████| 1/1 [00:00<00:00, 30.98it/s, v_num=15, train/loss_step=0.211, val/loss=0.966, val/error_u=0.817, val/error_v=1.030, val/error_h=0.628, val/loss_best=0.966, train/loss_epoch=0.213]\n",
      "Validation: |          | 0/? [00:00<?, ?it/s]\u001B[A\n",
      "Validation: |          | 0/? [00:00<?, ?it/s]\u001B[A\n",
      "Validation DataLoader 0:   0%|          | 0/1 [00:00<?, ?it/s]\u001B[A\n",
      "Validation DataLoader 0: 100%|██████████| 1/1 [00:00<00:00, 85.89it/s]\u001B[A\n",
      "Epoch 69: 100%|██████████| 1/1 [00:00<00:00, 25.21it/s, v_num=15, train/loss_step=0.209, val/loss=0.966, val/error_u=0.816, val/error_v=1.030, val/error_h=0.627, val/loss_best=0.966, train/loss_epoch=0.211]\n",
      "Validation: |          | 0/? [00:00<?, ?it/s]\u001B[A\n",
      "Validation: |          | 0/? [00:00<?, ?it/s]\u001B[A\n",
      "Validation DataLoader 0:   0%|          | 0/1 [00:00<?, ?it/s]\u001B[A\n",
      "Validation DataLoader 0: 100%|██████████| 1/1 [00:00<00:00, 74.77it/s]\u001B[A\n",
      "Epoch 70: 100%|██████████| 1/1 [00:00<00:00, 26.72it/s, v_num=15, train/loss_step=0.207, val/loss=0.967, val/error_u=0.818, val/error_v=1.030, val/error_h=0.627, val/loss_best=0.966, train/loss_epoch=0.209]\n",
      "Validation: |          | 0/? [00:00<?, ?it/s]\u001B[A\n",
      "Validation: |          | 0/? [00:00<?, ?it/s]\u001B[A\n",
      "Validation DataLoader 0:   0%|          | 0/1 [00:00<?, ?it/s]\u001B[A\n",
      "Validation DataLoader 0: 100%|██████████| 1/1 [00:00<00:00, 77.02it/s]\u001B[A\n",
      "Epoch 71: 100%|██████████| 1/1 [00:00<00:00, 29.11it/s, v_num=15, train/loss_step=0.206, val/loss=0.967, val/error_u=0.818, val/error_v=1.030, val/error_h=0.626, val/loss_best=0.966, train/loss_epoch=0.207]\n",
      "Validation: |          | 0/? [00:00<?, ?it/s]\u001B[A\n",
      "Validation: |          | 0/? [00:00<?, ?it/s]\u001B[A\n",
      "Validation DataLoader 0:   0%|          | 0/1 [00:00<?, ?it/s]\u001B[A\n",
      "Validation DataLoader 0: 100%|██████████| 1/1 [00:00<00:00, 57.15it/s]\u001B[A\n",
      "Epoch 72: 100%|██████████| 1/1 [00:00<00:00, 26.66it/s, v_num=15, train/loss_step=0.204, val/loss=0.966, val/error_u=0.818, val/error_v=1.030, val/error_h=0.626, val/loss_best=0.966, train/loss_epoch=0.206]\n",
      "Validation: |          | 0/? [00:00<?, ?it/s]\u001B[A\n",
      "Validation: |          | 0/? [00:00<?, ?it/s]\u001B[A\n",
      "Validation DataLoader 0:   0%|          | 0/1 [00:00<?, ?it/s]\u001B[A\n",
      "Validation DataLoader 0: 100%|██████████| 1/1 [00:00<00:00, 71.40it/s]\u001B[A\n",
      "Epoch 73: 100%|██████████| 1/1 [00:00<00:00, 27.03it/s, v_num=15, train/loss_step=0.201, val/loss=0.967, val/error_u=0.819, val/error_v=1.030, val/error_h=0.625, val/loss_best=0.966, train/loss_epoch=0.204]\n",
      "Validation: |          | 0/? [00:00<?, ?it/s]\u001B[A\n",
      "Validation: |          | 0/? [00:00<?, ?it/s]\u001B[A\n",
      "Validation DataLoader 0:   0%|          | 0/1 [00:00<?, ?it/s]\u001B[A\n",
      "Validation DataLoader 0: 100%|██████████| 1/1 [00:00<00:00, 51.69it/s]\u001B[A\n",
      "Epoch 74: 100%|██████████| 1/1 [00:00<00:00, 24.99it/s, v_num=15, train/loss_step=0.199, val/loss=0.968, val/error_u=0.820, val/error_v=1.030, val/error_h=0.624, val/loss_best=0.966, train/loss_epoch=0.201]\n",
      "Validation: |          | 0/? [00:00<?, ?it/s]\u001B[A\n",
      "Validation: |          | 0/? [00:00<?, ?it/s]\u001B[A\n",
      "Validation DataLoader 0:   0%|          | 0/1 [00:00<?, ?it/s]\u001B[A\n",
      "Validation DataLoader 0: 100%|██████████| 1/1 [00:00<00:00, 63.38it/s]\u001B[A\n",
      "Epoch 75: 100%|██████████| 1/1 [00:00<00:00, 21.45it/s, v_num=15, train/loss_step=0.197, val/loss=0.968, val/error_u=0.820, val/error_v=1.030, val/error_h=0.623, val/loss_best=0.966, train/loss_epoch=0.199]\n",
      "Validation: |          | 0/? [00:00<?, ?it/s]\u001B[A\n",
      "Validation: |          | 0/? [00:00<?, ?it/s]\u001B[A\n",
      "Validation DataLoader 0:   0%|          | 0/1 [00:00<?, ?it/s]\u001B[A\n",
      "Validation DataLoader 0: 100%|██████████| 1/1 [00:00<00:00, 49.96it/s]\u001B[A\n",
      "Epoch 76: 100%|██████████| 1/1 [00:00<00:00, 28.64it/s, v_num=15, train/loss_step=0.196, val/loss=0.967, val/error_u=0.820, val/error_v=1.030, val/error_h=0.622, val/loss_best=0.966, train/loss_epoch=0.197]\n",
      "Validation: |          | 0/? [00:00<?, ?it/s]\u001B[A\n",
      "Validation: |          | 0/? [00:00<?, ?it/s]\u001B[A\n",
      "Validation DataLoader 0:   0%|          | 0/1 [00:00<?, ?it/s]\u001B[A\n",
      "Validation DataLoader 0: 100%|██████████| 1/1 [00:00<00:00, 65.51it/s]\u001B[A\n",
      "Epoch 77: 100%|██████████| 1/1 [00:00<00:00, 25.84it/s, v_num=15, train/loss_step=0.194, val/loss=0.967, val/error_u=0.820, val/error_v=1.040, val/error_h=0.621, val/loss_best=0.966, train/loss_epoch=0.196]\n",
      "Validation: |          | 0/? [00:00<?, ?it/s]\u001B[A\n",
      "Validation: |          | 0/? [00:00<?, ?it/s]\u001B[A\n",
      "Validation DataLoader 0:   0%|          | 0/1 [00:00<?, ?it/s]\u001B[A\n",
      "Validation DataLoader 0: 100%|██████████| 1/1 [00:00<00:00, 72.95it/s]\u001B[A\n",
      "Epoch 78: 100%|██████████| 1/1 [00:00<00:00, 24.41it/s, v_num=15, train/loss_step=0.192, val/loss=0.966, val/error_u=0.820, val/error_v=1.040, val/error_h=0.619, val/loss_best=0.966, train/loss_epoch=0.194]\n",
      "Validation: |          | 0/? [00:00<?, ?it/s]\u001B[A\n",
      "Validation: |          | 0/? [00:00<?, ?it/s]\u001B[A\n",
      "Validation DataLoader 0:   0%|          | 0/1 [00:00<?, ?it/s]\u001B[A\n",
      "Validation DataLoader 0: 100%|██████████| 1/1 [00:00<00:00, 70.91it/s]\u001B[A\n",
      "Epoch 79: 100%|██████████| 1/1 [00:00<00:00, 23.22it/s, v_num=15, train/loss_step=0.191, val/loss=0.967, val/error_u=0.820, val/error_v=1.040, val/error_h=0.618, val/loss_best=0.966, train/loss_epoch=0.192]\n",
      "Validation: |          | 0/? [00:00<?, ?it/s]\u001B[A\n",
      "Validation: |          | 0/? [00:00<?, ?it/s]\u001B[A\n",
      "Validation DataLoader 0:   0%|          | 0/1 [00:00<?, ?it/s]\u001B[A\n",
      "Validation DataLoader 0: 100%|██████████| 1/1 [00:00<00:00, 74.10it/s]\u001B[A\n",
      "Epoch 80: 100%|██████████| 1/1 [00:00<00:00, 19.91it/s, v_num=15, train/loss_step=0.190, val/loss=0.967, val/error_u=0.819, val/error_v=1.040, val/error_h=0.616, val/loss_best=0.966, train/loss_epoch=0.191]\n",
      "Validation: |          | 0/? [00:00<?, ?it/s]\u001B[A\n",
      "Validation: |          | 0/? [00:00<?, ?it/s]\u001B[A\n",
      "Validation DataLoader 0:   0%|          | 0/1 [00:00<?, ?it/s]\u001B[A\n",
      "Validation DataLoader 0: 100%|██████████| 1/1 [00:00<00:00, 55.52it/s]\u001B[A\n",
      "Epoch 81: 100%|██████████| 1/1 [00:00<00:00, 24.70it/s, v_num=15, train/loss_step=0.189, val/loss=0.968, val/error_u=0.821, val/error_v=1.050, val/error_h=0.615, val/loss_best=0.966, train/loss_epoch=0.190]\n",
      "Validation: |          | 0/? [00:00<?, ?it/s]\u001B[A\n",
      "Validation: |          | 0/? [00:00<?, ?it/s]\u001B[A\n",
      "Validation DataLoader 0:   0%|          | 0/1 [00:00<?, ?it/s]\u001B[A\n",
      "Validation DataLoader 0: 100%|██████████| 1/1 [00:00<00:00, 44.54it/s]\u001B[A\n",
      "Epoch 82: 100%|██████████| 1/1 [00:00<00:00, 23.89it/s, v_num=15, train/loss_step=0.187, val/loss=0.964, val/error_u=0.817, val/error_v=1.050, val/error_h=0.612, val/loss_best=0.964, train/loss_epoch=0.189]\n",
      "Validation: |          | 0/? [00:00<?, ?it/s]\u001B[A\n",
      "Validation: |          | 0/? [00:00<?, ?it/s]\u001B[A\n",
      "Validation DataLoader 0:   0%|          | 0/1 [00:00<?, ?it/s]\u001B[A\n",
      "Validation DataLoader 0: 100%|██████████| 1/1 [00:00<00:00, 67.70it/s]\u001B[A\n",
      "Epoch 83: 100%|██████████| 1/1 [00:00<00:00, 21.99it/s, v_num=15, train/loss_step=0.186, val/loss=0.967, val/error_u=0.822, val/error_v=1.050, val/error_h=0.611, val/loss_best=0.964, train/loss_epoch=0.187]\n",
      "Validation: |          | 0/? [00:00<?, ?it/s]\u001B[A\n",
      "Validation: |          | 0/? [00:00<?, ?it/s]\u001B[A\n",
      "Validation DataLoader 0:   0%|          | 0/1 [00:00<?, ?it/s]\u001B[A\n",
      "Validation DataLoader 0: 100%|██████████| 1/1 [00:00<00:00, 62.04it/s]\u001B[A\n",
      "Epoch 84: 100%|██████████| 1/1 [00:00<00:00, 30.45it/s, v_num=15, train/loss_step=0.184, val/loss=0.962, val/error_u=0.816, val/error_v=1.050, val/error_h=0.608, val/loss_best=0.962, train/loss_epoch=0.186]\n",
      "Validation: |          | 0/? [00:00<?, ?it/s]\u001B[A\n",
      "Validation: |          | 0/? [00:00<?, ?it/s]\u001B[A\n",
      "Validation DataLoader 0:   0%|          | 0/1 [00:00<?, ?it/s]\u001B[A\n",
      "Validation DataLoader 0: 100%|██████████| 1/1 [00:00<00:00, 64.32it/s]\u001B[A\n",
      "Epoch 85: 100%|██████████| 1/1 [00:00<00:00, 28.20it/s, v_num=15, train/loss_step=0.183, val/loss=0.968, val/error_u=0.823, val/error_v=1.050, val/error_h=0.608, val/loss_best=0.962, train/loss_epoch=0.184]\n",
      "Validation: |          | 0/? [00:00<?, ?it/s]\u001B[A\n",
      "Validation: |          | 0/? [00:00<?, ?it/s]\u001B[A\n",
      "Validation DataLoader 0:   0%|          | 0/1 [00:00<?, ?it/s]\u001B[A\n",
      "Validation DataLoader 0: 100%|██████████| 1/1 [00:00<00:00, 74.62it/s]\u001B[A\n",
      "Epoch 86: 100%|██████████| 1/1 [00:00<00:00, 22.68it/s, v_num=15, train/loss_step=0.181, val/loss=0.958, val/error_u=0.813, val/error_v=1.060, val/error_h=0.605, val/loss_best=0.958, train/loss_epoch=0.183]\n",
      "Validation: |          | 0/? [00:00<?, ?it/s]\u001B[A\n",
      "Validation: |          | 0/? [00:00<?, ?it/s]\u001B[A\n",
      "Validation DataLoader 0:   0%|          | 0/1 [00:00<?, ?it/s]\u001B[A\n",
      "Validation DataLoader 0: 100%|██████████| 1/1 [00:00<00:00, 50.34it/s]\u001B[A\n",
      "Epoch 87: 100%|██████████| 1/1 [00:00<00:00, 26.09it/s, v_num=15, train/loss_step=0.181, val/loss=0.967, val/error_u=0.825, val/error_v=1.060, val/error_h=0.604, val/loss_best=0.958, train/loss_epoch=0.181]\n",
      "Validation: |          | 0/? [00:00<?, ?it/s]\u001B[A\n",
      "Validation: |          | 0/? [00:00<?, ?it/s]\u001B[A\n",
      "Validation DataLoader 0:   0%|          | 0/1 [00:00<?, ?it/s]\u001B[A\n",
      "Validation DataLoader 0: 100%|██████████| 1/1 [00:00<00:00, 52.60it/s]\u001B[A\n",
      "Epoch 88: 100%|██████████| 1/1 [00:00<00:00, 25.62it/s, v_num=15, train/loss_step=0.179, val/loss=0.954, val/error_u=0.811, val/error_v=1.060, val/error_h=0.600, val/loss_best=0.954, train/loss_epoch=0.181]\n",
      "Validation: |          | 0/? [00:00<?, ?it/s]\u001B[A\n",
      "Validation: |          | 0/? [00:00<?, ?it/s]\u001B[A\n",
      "Validation DataLoader 0:   0%|          | 0/1 [00:00<?, ?it/s]\u001B[A\n",
      "Validation DataLoader 0: 100%|██████████| 1/1 [00:00<00:00, 79.19it/s]\u001B[A\n",
      "Epoch 89: 100%|██████████| 1/1 [00:00<00:00, 24.30it/s, v_num=15, train/loss_step=0.177, val/loss=0.963, val/error_u=0.823, val/error_v=1.060, val/error_h=0.599, val/loss_best=0.954, train/loss_epoch=0.179]\n",
      "Validation: |          | 0/? [00:00<?, ?it/s]\u001B[A\n",
      "Validation: |          | 0/? [00:00<?, ?it/s]\u001B[A\n",
      "Validation DataLoader 0:   0%|          | 0/1 [00:00<?, ?it/s]\u001B[A\n",
      "Validation DataLoader 0: 100%|██████████| 1/1 [00:00<00:00, 56.34it/s]\u001B[A\n",
      "Epoch 90: 100%|██████████| 1/1 [00:00<00:00, 19.60it/s, v_num=15, train/loss_step=0.174, val/loss=0.953, val/error_u=0.814, val/error_v=1.060, val/error_h=0.596, val/loss_best=0.953, train/loss_epoch=0.177]\n",
      "Validation: |          | 0/? [00:00<?, ?it/s]\u001B[A\n",
      "Validation: |          | 0/? [00:00<?, ?it/s]\u001B[A\n",
      "Validation DataLoader 0:   0%|          | 0/1 [00:00<?, ?it/s]\u001B[A\n",
      "Validation DataLoader 0: 100%|██████████| 1/1 [00:00<00:00, 34.17it/s]\u001B[A\n",
      "Epoch 91: 100%|██████████| 1/1 [00:00<00:00, 31.29it/s, v_num=15, train/loss_step=0.173, val/loss=0.954, val/error_u=0.816, val/error_v=1.060, val/error_h=0.595, val/loss_best=0.953, train/loss_epoch=0.174]\n",
      "Validation: |          | 0/? [00:00<?, ?it/s]\u001B[A\n",
      "Validation: |          | 0/? [00:00<?, ?it/s]\u001B[A\n",
      "Validation DataLoader 0:   0%|          | 0/1 [00:00<?, ?it/s]\u001B[A\n",
      "Validation DataLoader 0: 100%|██████████| 1/1 [00:00<00:00, 45.74it/s]\u001B[A\n",
      "Epoch 92: 100%|██████████| 1/1 [00:00<00:00, 25.34it/s, v_num=15, train/loss_step=0.172, val/loss=0.954, val/error_u=0.819, val/error_v=1.060, val/error_h=0.593, val/loss_best=0.953, train/loss_epoch=0.173]\n",
      "Validation: |          | 0/? [00:00<?, ?it/s]\u001B[A\n",
      "Validation: |          | 0/? [00:00<?, ?it/s]\u001B[A\n",
      "Validation DataLoader 0:   0%|          | 0/1 [00:00<?, ?it/s]\u001B[A\n",
      "Validation DataLoader 0: 100%|██████████| 1/1 [00:00<00:00, 44.08it/s]\u001B[A\n",
      "Epoch 93: 100%|██████████| 1/1 [00:00<00:00, 18.34it/s, v_num=15, train/loss_step=0.171, val/loss=0.947, val/error_u=0.812, val/error_v=1.060, val/error_h=0.591, val/loss_best=0.947, train/loss_epoch=0.172]\n",
      "Validation: |          | 0/? [00:00<?, ?it/s]\u001B[A\n",
      "Validation: |          | 0/? [00:00<?, ?it/s]\u001B[A\n",
      "Validation DataLoader 0:   0%|          | 0/1 [00:00<?, ?it/s]\u001B[A\n",
      "Validation DataLoader 0: 100%|██████████| 1/1 [00:00<00:00, 44.00it/s]\u001B[A\n",
      "Epoch 94: 100%|██████████| 1/1 [00:00<00:00, 16.64it/s, v_num=15, train/loss_step=0.171, val/loss=0.955, val/error_u=0.821, val/error_v=1.060, val/error_h=0.591, val/loss_best=0.947, train/loss_epoch=0.171]\n",
      "Validation: |          | 0/? [00:00<?, ?it/s]\u001B[A\n",
      "Validation: |          | 0/? [00:00<?, ?it/s]\u001B[A\n",
      "Validation DataLoader 0:   0%|          | 0/1 [00:00<?, ?it/s]\u001B[A\n",
      "Validation DataLoader 0: 100%|██████████| 1/1 [00:00<00:00, 43.03it/s]\u001B[A\n",
      "Epoch 95: 100%|██████████| 1/1 [00:00<00:00, 18.97it/s, v_num=15, train/loss_step=0.169, val/loss=0.944, val/error_u=0.810, val/error_v=1.060, val/error_h=0.588, val/loss_best=0.944, train/loss_epoch=0.171]\n",
      "Validation: |          | 0/? [00:00<?, ?it/s]\u001B[A\n",
      "Validation: |          | 0/? [00:00<?, ?it/s]\u001B[A\n",
      "Validation DataLoader 0:   0%|          | 0/1 [00:00<?, ?it/s]\u001B[A\n",
      "Validation DataLoader 0: 100%|██████████| 1/1 [00:00<00:00, 55.24it/s]\u001B[A\n",
      "Epoch 96: 100%|██████████| 1/1 [00:00<00:00, 19.88it/s, v_num=15, train/loss_step=0.169, val/loss=0.951, val/error_u=0.820, val/error_v=1.060, val/error_h=0.588, val/loss_best=0.944, train/loss_epoch=0.169]\n",
      "Validation: |          | 0/? [00:00<?, ?it/s]\u001B[A\n",
      "Validation: |          | 0/? [00:00<?, ?it/s]\u001B[A\n",
      "Validation DataLoader 0:   0%|          | 0/1 [00:00<?, ?it/s]\u001B[A\n",
      "Validation DataLoader 0: 100%|██████████| 1/1 [00:00<00:00, 39.11it/s]\u001B[A\n",
      "Epoch 97: 100%|██████████| 1/1 [00:00<00:00, 28.10it/s, v_num=15, train/loss_step=0.167, val/loss=0.943, val/error_u=0.812, val/error_v=1.060, val/error_h=0.586, val/loss_best=0.943, train/loss_epoch=0.169]\n",
      "Validation: |          | 0/? [00:00<?, ?it/s]\u001B[A\n",
      "Validation: |          | 0/? [00:00<?, ?it/s]\u001B[A\n",
      "Validation DataLoader 0:   0%|          | 0/1 [00:00<?, ?it/s]\u001B[A\n",
      "Validation DataLoader 0: 100%|██████████| 1/1 [00:00<00:00, 49.80it/s]\u001B[A\n",
      "Epoch 98: 100%|██████████| 1/1 [00:00<00:00, 21.20it/s, v_num=15, train/loss_step=0.166, val/loss=0.946, val/error_u=0.816, val/error_v=1.060, val/error_h=0.585, val/loss_best=0.943, train/loss_epoch=0.167]\n",
      "Validation: |          | 0/? [00:00<?, ?it/s]\u001B[A\n",
      "Validation: |          | 0/? [00:00<?, ?it/s]\u001B[A\n",
      "Validation DataLoader 0:   0%|          | 0/1 [00:00<?, ?it/s]\u001B[A\n",
      "Validation DataLoader 0: 100%|██████████| 1/1 [00:00<00:00, 55.03it/s]\u001B[A\n",
      "Epoch 99: 100%|██████████| 1/1 [00:00<00:00, 27.06it/s, v_num=15, train/loss_step=0.165, val/loss=0.946, val/error_u=0.816, val/error_v=1.060, val/error_h=0.584, val/loss_best=0.943, train/loss_epoch=0.166]\n",
      "Validation: |          | 0/? [00:00<?, ?it/s]\u001B[A\n",
      "Validation: |          | 0/? [00:00<?, ?it/s]\u001B[A\n",
      "Validation DataLoader 0:   0%|          | 0/1 [00:00<?, ?it/s]\u001B[A\n",
      "Validation DataLoader 0: 100%|██████████| 1/1 [00:00<00:00, 64.97it/s]\u001B[A\n",
      "Epoch 99: 100%|██████████| 1/1 [00:00<00:00, 13.61it/s, v_num=15, train/loss_step=0.165, val/loss=0.941, val/error_u=0.812, val/error_v=1.060, val/error_h=0.583, val/loss_best=0.941, train/loss_epoch=0.165]"
     ]
    },
    {
     "name": "stderr",
     "output_type": "stream",
     "text": [
      "`Trainer.fit` stopped: `max_epochs=100` reached.\n"
     ]
    },
    {
     "name": "stdout",
     "output_type": "stream",
     "text": [
      "Epoch 99: 100%|██████████| 1/1 [00:00<00:00, 11.65it/s, v_num=15, train/loss_step=0.165, val/loss=0.941, val/error_u=0.812, val/error_v=1.060, val/error_h=0.583, val/loss_best=0.941, train/loss_epoch=0.165]\n"
     ]
    }
   ],
   "execution_count": 25
  },
  {
   "metadata": {
    "ExecuteTime": {
     "end_time": "2025-09-17T23:28:27.300879Z",
     "start_time": "2025-09-17T23:28:27.289787Z"
    }
   },
   "cell_type": "code",
   "source": [
    "total_time = end_time - start_time\n",
    "hours = total_time // 3600\n",
    "minutes = (total_time % 3600) // 60\n",
    "seconds = total_time % 60\n",
    "\n",
    "print(f\"Training time: {hours}h {minutes}m {seconds}s\")"
   ],
   "id": "61ff50b873d59e53",
   "outputs": [
    {
     "name": "stdout",
     "output_type": "stream",
     "text": [
      "Training time: 0.0h 0.0m 11.291746854782104s\n"
     ]
    }
   ],
   "execution_count": 26
  },
  {
   "metadata": {
    "ExecuteTime": {
     "end_time": "2025-09-17T23:28:27.394092Z",
     "start_time": "2025-09-17T23:28:27.320684Z"
    }
   },
   "cell_type": "code",
   "source": "trainer.validate(model=model, datamodule=datamodule)",
   "id": "5ba06e068a406032",
   "outputs": [
    {
     "name": "stderr",
     "output_type": "stream",
     "text": [
      "LOCAL_RANK: 0 - CUDA_VISIBLE_DEVICES: [0]\n"
     ]
    },
    {
     "name": "stdout",
     "output_type": "stream",
     "text": [
      "Validation DataLoader 0: 100%|██████████| 1/1 [00:00<00:00, 35.86it/s]\n"
     ]
    },
    {
     "data": {
      "text/plain": [
       "┏━━━━━━━━━━━━━━━━━━━━━━━━━━━┳━━━━━━━━━━━━━━━━━━━━━━━━━━━┓\n",
       "┃\u001B[1m \u001B[0m\u001B[1m     Validate metric     \u001B[0m\u001B[1m \u001B[0m┃\u001B[1m \u001B[0m\u001B[1m      DataLoader 0       \u001B[0m\u001B[1m \u001B[0m┃\n",
       "┡━━━━━━━━━━━━━━━━━━━━━━━━━━━╇━━━━━━━━━━━━━━━━━━━━━━━━━━━┩\n",
       "│\u001B[36m \u001B[0m\u001B[36m       val/error_h       \u001B[0m\u001B[36m \u001B[0m│\u001B[35m \u001B[0m\u001B[35m   0.5833010673522949    \u001B[0m\u001B[35m \u001B[0m│\n",
       "│\u001B[36m \u001B[0m\u001B[36m       val/error_u       \u001B[0m\u001B[36m \u001B[0m│\u001B[35m \u001B[0m\u001B[35m   0.8120594024658203    \u001B[0m\u001B[35m \u001B[0m│\n",
       "│\u001B[36m \u001B[0m\u001B[36m       val/error_v       \u001B[0m\u001B[36m \u001B[0m│\u001B[35m \u001B[0m\u001B[35m   1.0618482828140259    \u001B[0m\u001B[35m \u001B[0m│\n",
       "│\u001B[36m \u001B[0m\u001B[36m        val/loss         \u001B[0m\u001B[36m \u001B[0m│\u001B[35m \u001B[0m\u001B[35m   0.9413768649101257    \u001B[0m\u001B[35m \u001B[0m│\n",
       "│\u001B[36m \u001B[0m\u001B[36m      val/loss_best      \u001B[0m\u001B[36m \u001B[0m│\u001B[35m \u001B[0m\u001B[35m   0.9413768649101257    \u001B[0m\u001B[35m \u001B[0m│\n",
       "└───────────────────────────┴───────────────────────────┘\n"
      ],
      "text/html": [
       "<pre style=\"white-space:pre;overflow-x:auto;line-height:normal;font-family:Menlo,'DejaVu Sans Mono',consolas,'Courier New',monospace\">┏━━━━━━━━━━━━━━━━━━━━━━━━━━━┳━━━━━━━━━━━━━━━━━━━━━━━━━━━┓\n",
       "┃<span style=\"font-weight: bold\">      Validate metric      </span>┃<span style=\"font-weight: bold\">       DataLoader 0        </span>┃\n",
       "┡━━━━━━━━━━━━━━━━━━━━━━━━━━━╇━━━━━━━━━━━━━━━━━━━━━━━━━━━┩\n",
       "│<span style=\"color: #008080; text-decoration-color: #008080\">        val/error_h        </span>│<span style=\"color: #800080; text-decoration-color: #800080\">    0.5833010673522949     </span>│\n",
       "│<span style=\"color: #008080; text-decoration-color: #008080\">        val/error_u        </span>│<span style=\"color: #800080; text-decoration-color: #800080\">    0.8120594024658203     </span>│\n",
       "│<span style=\"color: #008080; text-decoration-color: #008080\">        val/error_v        </span>│<span style=\"color: #800080; text-decoration-color: #800080\">    1.0618482828140259     </span>│\n",
       "│<span style=\"color: #008080; text-decoration-color: #008080\">         val/loss          </span>│<span style=\"color: #800080; text-decoration-color: #800080\">    0.9413768649101257     </span>│\n",
       "│<span style=\"color: #008080; text-decoration-color: #008080\">       val/loss_best       </span>│<span style=\"color: #800080; text-decoration-color: #800080\">    0.9413768649101257     </span>│\n",
       "└───────────────────────────┴───────────────────────────┘\n",
       "</pre>\n"
      ]
     },
     "metadata": {},
     "output_type": "display_data"
    },
    {
     "data": {
      "text/plain": [
       "[{'val/loss': 0.9413768649101257,\n",
       "  'val/error_u': 0.8120594024658203,\n",
       "  'val/error_v': 1.0618482828140259,\n",
       "  'val/error_h': 0.5833010673522949,\n",
       "  'val/loss_best': 0.9413768649101257}]"
      ]
     },
     "execution_count": 27,
     "metadata": {},
     "output_type": "execute_result"
    }
   ],
   "execution_count": 27
  },
  {
   "metadata": {
    "ExecuteTime": {
     "end_time": "2025-09-17T23:28:27.486429Z",
     "start_time": "2025-09-17T23:28:27.429318Z"
    }
   },
   "cell_type": "code",
   "source": [
    "preds_list = trainer.predict(model=model, datamodule=datamodule)\n",
    "preds_dict = pinnstorch.utils.fix_predictions(preds_list)"
   ],
   "id": "286ca5682c1787c9",
   "outputs": [
    {
     "name": "stderr",
     "output_type": "stream",
     "text": [
      "LOCAL_RANK: 0 - CUDA_VISIBLE_DEVICES: [0]\n"
     ]
    },
    {
     "name": "stdout",
     "output_type": "stream",
     "text": [
      "Predicting DataLoader 0: 100%|██████████| 1/1 [00:00<00:00, 57.61it/s]\n"
     ]
    }
   ],
   "execution_count": 28
  },
  {
   "metadata": {
    "ExecuteTime": {
     "end_time": "2025-09-17T23:28:28.274752Z",
     "start_time": "2025-09-17T23:28:27.544796Z"
    }
   },
   "cell_type": "code",
   "source": [
    "pinnstorch.utils.plot_schrodinger(mesh=mesh,\n",
    "                                  preds=preds_dict,\n",
    "                                  train_datasets=train_datasets,\n",
    "                                  val_dataset=val_dataset,\n",
    "                                  file_name='out/2_relu')"
   ],
   "id": "f761c3e456889233",
   "outputs": [
    {
     "data": {
      "text/plain": [
       "<Figure size 539.643x300.166 with 6 Axes>"
      ],
      "image/png": "[encoded data removed]"
     },
     "metadata": {},
     "output_type": "display_data"
    }
   ],
   "execution_count": 29
  },
  {
   "metadata": {},
   "cell_type": "markdown",
   "source": [
    "##### SIREN\n",
    "\n",
    "`SIREN` architectures utilize `sinusoidal` activation functions. These activations require tuning of the frequency parameter `omega` as well as a custom initialisation for stability.\n",
    "\n",
    "Try different values of `omega` and see how it affects the training.\n",
    "\n",
    "![](https://miro.medium.com/v2/resize:fit:1100/format:webp/1*xGr5o0m1OPsDtmtGas4rUg.png)"
   ],
   "id": "2f02aee2adefcd6"
  },
  {
   "metadata": {
    "ExecuteTime": {
     "end_time": "2025-09-17T23:28:28.289902Z",
     "start_time": "2025-09-17T23:28:28.283593Z"
    }
   },
   "cell_type": "code",
   "source": [
    "net_sine = pinnstorch.models.FCN(layers=layers,\n",
    "                            output_names=['u', 'v'],\n",
    "                            lb=mesh.lb,\n",
    "                            ub=mesh.ub,\n",
    "                            activation=\"SINE\",  # use registry\n",
    "                            activation_kwargs={'omega':5},  # extra params\n",
    "                            initializer=\"SIREN\",  # use registry\n",
    "                            initializer_kwargs={'omega':5},  # extra params\n",
    "                            layer_type='BASE',\n",
    "                            layer_kwargs={}\n",
    "                            )"
   ],
   "id": "f5a4c8717d925e64",
   "outputs": [],
   "execution_count": 30
  },
  {
   "metadata": {
    "ExecuteTime": {
     "end_time": "2025-09-17T23:28:28.305674Z",
     "start_time": "2025-09-17T23:28:28.295615Z"
    }
   },
   "cell_type": "code",
   "source": [
    "model = pinnstorch.models.PINNModule(net = net_sine,\n",
    "                                     pde_fn = pde_fn,\n",
    "                                     output_fn = output_fn,\n",
    "                                     loss_fn = 'mse')"
   ],
   "id": "1124ea8320937e0f",
   "outputs": [],
   "execution_count": 31
  },
  {
   "metadata": {
    "ExecuteTime": {
     "end_time": "2025-09-17T23:28:43.988101Z",
     "start_time": "2025-09-17T23:28:28.313290Z"
    }
   },
   "cell_type": "code",
   "source": [
    "trainer = pl.Trainer(accelerator='gpu', devices=1, max_epochs = num_epochs)\n",
    "start_time = time.time()\n",
    "\n",
    "trainer.fit(model=model, datamodule=datamodule)\n",
    "end_time = time.time()\n",
    "\n"
   ],
   "id": "7124ded4d0635b91",
   "outputs": [
    {
     "name": "stderr",
     "output_type": "stream",
     "text": [
      "💡 Tip: For seamless cloud uploads and versioning, try installing [litmodels](https://pypi.org/project/litmodels/) to enable LitModelCheckpoint, which syncs automatically with the Lightning model registry.\n",
      "GPU available: True (cuda), used: True\n",
      "TPU available: False, using: 0 TPU cores\n",
      "HPU available: False, using: 0 HPUs\n",
      "LOCAL_RANK: 0 - CUDA_VISIBLE_DEVICES: [0]\n",
      "\n",
      "  | Name          | Type       | Params | Mode \n",
      "-----------------------------------------------------\n",
      "0 | net           | FCN        | 30.8 K | train\n",
      "1 | train_loss    | MeanMetric | 0      | train\n",
      "2 | val_loss      | MeanMetric | 0      | train\n",
      "3 | val_error     | MeanMetric | 0      | train\n",
      "4 | test_loss     | MeanMetric | 0      | train\n",
      "5 | test_error    | MeanMetric | 0      | train\n",
      "6 | val_loss_best | MinMetric  | 0      | train\n",
      "-----------------------------------------------------\n",
      "30.8 K    Trainable params\n",
      "0         Non-trainable params\n",
      "30.8 K    Total params\n",
      "0.123     Total estimated model params size (MB)\n",
      "23        Modules in train mode\n",
      "0         Modules in eval mode\n"
     ]
    },
    {
     "name": "stdout",
     "output_type": "stream",
     "text": [
      "                                                                           "
     ]
    },
    {
     "name": "stderr",
     "output_type": "stream",
     "text": [
      "C:\\Users\\micke\\anaconda3\\envs\\myenv\\lib\\site-packages\\lightning\\pytorch\\loops\\fit_loop.py:310: The number of training batches (1) is smaller than the logging interval Trainer(log_every_n_steps=50). Set a lower value for log_every_n_steps if you want to see logs for the training epoch.\n"
     ]
    },
    {
     "name": "stdout",
     "output_type": "stream",
     "text": [
      "Epoch 0:   0%|          | 0/1 [00:00<?, ?it/s]"
     ]
    },
    {
     "name": "stderr",
     "output_type": "stream",
     "text": [
      "C:\\Users\\micke\\anaconda3\\envs\\myenv\\lib\\site-packages\\torch\\jit\\_trace.py:165: UserWarning: The .grad attribute of a Tensor that is not a leaf Tensor is being accessed. Its .grad attribute won't be populated during autograd.backward(). If you indeed want the .grad field to be populated for a non-leaf Tensor, use .retain_grad() on the non-leaf Tensor. If you access the non-leaf Tensor by mistake, make sure you access the leaf Tensor instead. See github.com/pytorch/pytorch/pull/30531 for more informations. (Triggered internally at C:\\actions-runner\\_work\\pytorch\\pytorch\\pytorch\\build\\aten\\src\\ATen/core/TensorBody.h:494.)\n",
      "  if a.grad is not None:\n"
     ]
    },
    {
     "name": "stdout",
     "output_type": "stream",
     "text": [
      "Epoch 0: 100%|██████████| 1/1 [00:01<00:00,  0.70it/s, v_num=16, train/loss_step=1.170]\n",
      "Validation: |          | 0/? [00:00<?, ?it/s]\u001B[A\n",
      "Validation: |          | 0/? [00:00<?, ?it/s]\u001B[A\n",
      "Validation DataLoader 0:   0%|          | 0/1 [00:00<?, ?it/s]\u001B[A\n",
      "Validation DataLoader 0: 100%|██████████| 1/1 [00:00<00:00, 51.55it/s]\u001B[A\n",
      "Epoch 1: 100%|██████████| 1/1 [00:00<00:00,  3.25it/s, v_num=16, train/loss_step=1.410, val/loss=1.270, val/error_u=0.893, val/error_v=1.070, val/error_h=0.815, val/loss_best=1.270, train/loss_epoch=1.170]\n",
      "Validation: |          | 0/? [00:00<?, ?it/s]\u001B[A\n",
      "Validation: |          | 0/? [00:00<?, ?it/s]\u001B[A\n",
      "Validation DataLoader 0:   0%|          | 0/1 [00:00<?, ?it/s]\u001B[A\n",
      "Validation DataLoader 0: 100%|██████████| 1/1 [00:00<00:00, 50.10it/s]\u001B[A\n",
      "Epoch 2: 100%|██████████| 1/1 [00:03<00:00,  0.29it/s, v_num=16, train/loss_step=0.546, val/loss=1.040, val/error_u=0.851, val/error_v=0.952, val/error_h=0.716, val/loss_best=1.040, train/loss_epoch=1.410]\n",
      "Validation: |          | 0/? [00:00<?, ?it/s]\u001B[A\n",
      "Validation: |          | 0/? [00:00<?, ?it/s]\u001B[A\n",
      "Validation DataLoader 0:   0%|          | 0/1 [00:00<?, ?it/s]\u001B[A\n",
      "Validation DataLoader 0: 100%|██████████| 1/1 [00:00<00:00, 43.77it/s]\u001B[A\n",
      "Epoch 3: 100%|██████████| 1/1 [00:00<00:00,  6.41it/s, v_num=16, train/loss_step=0.472, val/loss=1.000, val/error_u=0.826, val/error_v=0.986, val/error_h=0.680, val/loss_best=1.000, train/loss_epoch=0.546]\n",
      "Validation: |          | 0/? [00:00<?, ?it/s]\u001B[A\n",
      "Validation: |          | 0/? [00:00<?, ?it/s]\u001B[A\n",
      "Validation DataLoader 0:   0%|          | 0/1 [00:00<?, ?it/s]\u001B[A\n",
      "Validation DataLoader 0: 100%|██████████| 1/1 [00:00<00:00, 48.40it/s]\u001B[A\n",
      "Epoch 4: 100%|██████████| 1/1 [00:00<00:00, 27.24it/s, v_num=16, train/loss_step=0.373, val/loss=0.954, val/error_u=0.806, val/error_v=1.000, val/error_h=0.637, val/loss_best=0.954, train/loss_epoch=0.472]\n",
      "Validation: |          | 0/? [00:00<?, ?it/s]\u001B[A\n",
      "Validation: |          | 0/? [00:00<?, ?it/s]\u001B[A\n",
      "Validation DataLoader 0:   0%|          | 0/1 [00:00<?, ?it/s]\u001B[A\n",
      "Validation DataLoader 0: 100%|██████████| 1/1 [00:00<00:00, 58.17it/s]\u001B[A\n",
      "Epoch 5: 100%|██████████| 1/1 [00:00<00:00, 24.89it/s, v_num=16, train/loss_step=0.284, val/loss=0.911, val/error_u=0.801, val/error_v=1.000, val/error_h=0.599, val/loss_best=0.911, train/loss_epoch=0.373]\n",
      "Validation: |          | 0/? [00:00<?, ?it/s]\u001B[A\n",
      "Validation: |          | 0/? [00:00<?, ?it/s]\u001B[A\n",
      "Validation DataLoader 0:   0%|          | 0/1 [00:00<?, ?it/s]\u001B[A\n",
      "Validation DataLoader 0: 100%|██████████| 1/1 [00:00<00:00, 78.70it/s]\u001B[A\n",
      "Epoch 6: 100%|██████████| 1/1 [00:00<00:00, 26.76it/s, v_num=16, train/loss_step=0.280, val/loss=0.902, val/error_u=0.805, val/error_v=1.010, val/error_h=0.582, val/loss_best=0.902, train/loss_epoch=0.284]\n",
      "Validation: |          | 0/? [00:00<?, ?it/s]\u001B[A\n",
      "Validation: |          | 0/? [00:00<?, ?it/s]\u001B[A\n",
      "Validation DataLoader 0:   0%|          | 0/1 [00:00<?, ?it/s]\u001B[A\n",
      "Validation DataLoader 0: 100%|██████████| 1/1 [00:00<00:00, 96.01it/s]\u001B[A\n",
      "Epoch 7: 100%|██████████| 1/1 [00:00<00:00, 29.59it/s, v_num=16, train/loss_step=0.272, val/loss=0.886, val/error_u=0.801, val/error_v=1.010, val/error_h=0.569, val/loss_best=0.886, train/loss_epoch=0.280]\n",
      "Validation: |          | 0/? [00:00<?, ?it/s]\u001B[A\n",
      "Validation: |          | 0/? [00:00<?, ?it/s]\u001B[A\n",
      "Validation DataLoader 0:   0%|          | 0/1 [00:00<?, ?it/s]\u001B[A\n",
      "Validation DataLoader 0: 100%|██████████| 1/1 [00:00<00:00, 72.88it/s]\u001B[A\n",
      "Epoch 8: 100%|██████████| 1/1 [00:00<00:00, 27.30it/s, v_num=16, train/loss_step=0.229, val/loss=0.852, val/error_u=0.788, val/error_v=0.993, val/error_h=0.553, val/loss_best=0.852, train/loss_epoch=0.272]\n",
      "Validation: |          | 0/? [00:00<?, ?it/s]\u001B[A\n",
      "Validation: |          | 0/? [00:00<?, ?it/s]\u001B[A\n",
      "Validation DataLoader 0:   0%|          | 0/1 [00:00<?, ?it/s]\u001B[A\n",
      "Validation DataLoader 0: 100%|██████████| 1/1 [00:00<00:00, 33.88it/s]\u001B[A\n",
      "Epoch 9: 100%|██████████| 1/1 [00:00<00:00, 24.49it/s, v_num=16, train/loss_step=0.193, val/loss=0.816, val/error_u=0.772, val/error_v=0.977, val/error_h=0.537, val/loss_best=0.816, train/loss_epoch=0.229]\n",
      "Validation: |          | 0/? [00:00<?, ?it/s]\u001B[A\n",
      "Validation: |          | 0/? [00:00<?, ?it/s]\u001B[A\n",
      "Validation DataLoader 0:   0%|          | 0/1 [00:00<?, ?it/s]\u001B[A\n",
      "Validation DataLoader 0: 100%|██████████| 1/1 [00:00<00:00, 38.10it/s]\u001B[A\n",
      "Epoch 10: 100%|██████████| 1/1 [00:00<00:00, 33.92it/s, v_num=16, train/loss_step=0.177, val/loss=0.791, val/error_u=0.760, val/error_v=0.972, val/error_h=0.523, val/loss_best=0.791, train/loss_epoch=0.193]\n",
      "Validation: |          | 0/? [00:00<?, ?it/s]\u001B[A\n",
      "Validation: |          | 0/? [00:00<?, ?it/s]\u001B[A\n",
      "Validation DataLoader 0:   0%|          | 0/1 [00:00<?, ?it/s]\u001B[A\n",
      "Validation DataLoader 0: 100%|██████████| 1/1 [00:00<00:00, 60.51it/s]\u001B[A\n",
      "Epoch 11: 100%|██████████| 1/1 [00:00<00:00, 24.02it/s, v_num=16, train/loss_step=0.175, val/loss=0.782, val/error_u=0.754, val/error_v=0.976, val/error_h=0.513, val/loss_best=0.782, train/loss_epoch=0.177]\n",
      "Validation: |          | 0/? [00:00<?, ?it/s]\u001B[A\n",
      "Validation: |          | 0/? [00:00<?, ?it/s]\u001B[A\n",
      "Validation DataLoader 0:   0%|          | 0/1 [00:00<?, ?it/s]\u001B[A\n",
      "Validation DataLoader 0: 100%|██████████| 1/1 [00:00<00:00, 51.83it/s]\u001B[A\n",
      "Epoch 12: 100%|██████████| 1/1 [00:00<00:00, 18.36it/s, v_num=16, train/loss_step=0.170, val/loss=0.784, val/error_u=0.756, val/error_v=0.985, val/error_h=0.508, val/loss_best=0.782, train/loss_epoch=0.175]\n",
      "Validation: |          | 0/? [00:00<?, ?it/s]\u001B[A\n",
      "Validation: |          | 0/? [00:00<?, ?it/s]\u001B[A\n",
      "Validation DataLoader 0:   0%|          | 0/1 [00:00<?, ?it/s]\u001B[A\n",
      "Validation DataLoader 0: 100%|██████████| 1/1 [00:00<00:00, 60.80it/s]\u001B[A\n",
      "Epoch 13: 100%|██████████| 1/1 [00:00<00:00, 26.81it/s, v_num=16, train/loss_step=0.153, val/loss=0.792, val/error_u=0.763, val/error_v=0.993, val/error_h=0.504, val/loss_best=0.782, train/loss_epoch=0.170]\n",
      "Validation: |          | 0/? [00:00<?, ?it/s]\u001B[A\n",
      "Validation: |          | 0/? [00:00<?, ?it/s]\u001B[A\n",
      "Validation DataLoader 0:   0%|          | 0/1 [00:00<?, ?it/s]\u001B[A\n",
      "Validation DataLoader 0: 100%|██████████| 1/1 [00:00<00:00, 82.96it/s]\u001B[A\n",
      "Epoch 14: 100%|██████████| 1/1 [00:00<00:00, 19.74it/s, v_num=16, train/loss_step=0.139, val/loss=0.807, val/error_u=0.776, val/error_v=1.000, val/error_h=0.504, val/loss_best=0.782, train/loss_epoch=0.153]\n",
      "Validation: |          | 0/? [00:00<?, ?it/s]\u001B[A\n",
      "Validation: |          | 0/? [00:00<?, ?it/s]\u001B[A\n",
      "Validation DataLoader 0:   0%|          | 0/1 [00:00<?, ?it/s]\u001B[A\n",
      "Validation DataLoader 0: 100%|██████████| 1/1 [00:00<00:00, 26.10it/s]\u001B[A\n",
      "Epoch 15: 100%|██████████| 1/1 [00:00<00:00, 16.87it/s, v_num=16, train/loss_step=0.134, val/loss=0.825, val/error_u=0.788, val/error_v=1.020, val/error_h=0.503, val/loss_best=0.782, train/loss_epoch=0.139]\n",
      "Validation: |          | 0/? [00:00<?, ?it/s]\u001B[A\n",
      "Validation: |          | 0/? [00:00<?, ?it/s]\u001B[A\n",
      "Validation DataLoader 0:   0%|          | 0/1 [00:00<?, ?it/s]\u001B[A\n",
      "Validation DataLoader 0: 100%|██████████| 1/1 [00:00<00:00, 50.56it/s]\u001B[A\n",
      "Epoch 16: 100%|██████████| 1/1 [00:00<00:00, 13.86it/s, v_num=16, train/loss_step=0.129, val/loss=0.840, val/error_u=0.799, val/error_v=1.030, val/error_h=0.500, val/loss_best=0.782, train/loss_epoch=0.134]\n",
      "Validation: |          | 0/? [00:00<?, ?it/s]\u001B[A\n",
      "Validation: |          | 0/? [00:00<?, ?it/s]\u001B[A\n",
      "Validation DataLoader 0:   0%|          | 0/1 [00:00<?, ?it/s]\u001B[A\n",
      "Validation DataLoader 0: 100%|██████████| 1/1 [00:00<00:00, 50.63it/s]\u001B[A\n",
      "Epoch 17: 100%|██████████| 1/1 [00:00<00:00, 23.05it/s, v_num=16, train/loss_step=0.121, val/loss=0.848, val/error_u=0.805, val/error_v=1.050, val/error_h=0.493, val/loss_best=0.782, train/loss_epoch=0.129]\n",
      "Validation: |          | 0/? [00:00<?, ?it/s]\u001B[A\n",
      "Validation: |          | 0/? [00:00<?, ?it/s]\u001B[A\n",
      "Validation DataLoader 0:   0%|          | 0/1 [00:00<?, ?it/s]\u001B[A\n",
      "Validation DataLoader 0: 100%|██████████| 1/1 [00:00<00:00, 36.72it/s]\u001B[A\n",
      "Epoch 18: 100%|██████████| 1/1 [00:00<00:00, 41.85it/s, v_num=16, train/loss_step=0.113, val/loss=0.850, val/error_u=0.807, val/error_v=1.060, val/error_h=0.485, val/loss_best=0.782, train/loss_epoch=0.121]\n",
      "Validation: |          | 0/? [00:00<?, ?it/s]\u001B[A\n",
      "Validation: |          | 0/? [00:00<?, ?it/s]\u001B[A\n",
      "Validation DataLoader 0:   0%|          | 0/1 [00:00<?, ?it/s]\u001B[A\n",
      "Validation DataLoader 0: 100%|██████████| 1/1 [00:00<00:00, 79.56it/s]\u001B[A\n",
      "Epoch 19: 100%|██████████| 1/1 [00:00<00:00, 32.16it/s, v_num=16, train/loss_step=0.109, val/loss=0.846, val/error_u=0.804, val/error_v=1.060, val/error_h=0.477, val/loss_best=0.782, train/loss_epoch=0.113]\n",
      "Validation: |          | 0/? [00:00<?, ?it/s]\u001B[A\n",
      "Validation: |          | 0/? [00:00<?, ?it/s]\u001B[A\n",
      "Validation DataLoader 0:   0%|          | 0/1 [00:00<?, ?it/s]\u001B[A\n",
      "Validation DataLoader 0: 100%|██████████| 1/1 [00:00<00:00, 67.40it/s]\u001B[A\n",
      "Epoch 20: 100%|██████████| 1/1 [00:00<00:00, 32.10it/s, v_num=16, train/loss_step=0.107, val/loss=0.842, val/error_u=0.799, val/error_v=1.070, val/error_h=0.473, val/loss_best=0.782, train/loss_epoch=0.109]\n",
      "Validation: |          | 0/? [00:00<?, ?it/s]\u001B[A\n",
      "Validation: |          | 0/? [00:00<?, ?it/s]\u001B[A\n",
      "Validation DataLoader 0:   0%|          | 0/1 [00:00<?, ?it/s]\u001B[A\n",
      "Validation DataLoader 0: 100%|██████████| 1/1 [00:00<00:00, 63.96it/s]\u001B[A\n",
      "Epoch 21: 100%|██████████| 1/1 [00:00<00:00, 23.34it/s, v_num=16, train/loss_step=0.100, val/loss=0.837, val/error_u=0.796, val/error_v=1.070, val/error_h=0.470, val/loss_best=0.782, train/loss_epoch=0.107]\n",
      "Validation: |          | 0/? [00:00<?, ?it/s]\u001B[A\n",
      "Validation: |          | 0/? [00:00<?, ?it/s]\u001B[A\n",
      "Validation DataLoader 0:   0%|          | 0/1 [00:00<?, ?it/s]\u001B[A\n",
      "Validation DataLoader 0: 100%|██████████| 1/1 [00:00<00:00, 56.29it/s]\u001B[A\n",
      "Epoch 22: 100%|██████████| 1/1 [00:00<00:00, 35.43it/s, v_num=16, train/loss_step=0.0946, val/loss=0.834, val/error_u=0.796, val/error_v=1.060, val/error_h=0.468, val/loss_best=0.782, train/loss_epoch=0.100]\n",
      "Validation: |          | 0/? [00:00<?, ?it/s]\u001B[A\n",
      "Validation: |          | 0/? [00:00<?, ?it/s]\u001B[A\n",
      "Validation DataLoader 0:   0%|          | 0/1 [00:00<?, ?it/s]\u001B[A\n",
      "Validation DataLoader 0: 100%|██████████| 1/1 [00:00<00:00, 52.48it/s]\u001B[A\n",
      "Epoch 23: 100%|██████████| 1/1 [00:00<00:00, 24.05it/s, v_num=16, train/loss_step=0.0929, val/loss=0.833, val/error_u=0.798, val/error_v=1.060, val/error_h=0.467, val/loss_best=0.782, train/loss_epoch=0.0946]\n",
      "Validation: |          | 0/? [00:00<?, ?it/s]\u001B[A\n",
      "Validation: |          | 0/? [00:00<?, ?it/s]\u001B[A\n",
      "Validation DataLoader 0:   0%|          | 0/1 [00:00<?, ?it/s]\u001B[A\n",
      "Validation DataLoader 0: 100%|██████████| 1/1 [00:00<00:00, 36.52it/s]\u001B[A\n",
      "Epoch 24: 100%|██████████| 1/1 [00:00<00:00, 18.90it/s, v_num=16, train/loss_step=0.0898, val/loss=0.834, val/error_u=0.797, val/error_v=1.070, val/error_h=0.465, val/loss_best=0.782, train/loss_epoch=0.0929]\n",
      "Validation: |          | 0/? [00:00<?, ?it/s]\u001B[A\n",
      "Validation: |          | 0/? [00:00<?, ?it/s]\u001B[A\n",
      "Validation DataLoader 0:   0%|          | 0/1 [00:00<?, ?it/s]\u001B[A\n",
      "Validation DataLoader 0: 100%|██████████| 1/1 [00:00<00:00, 45.63it/s]\u001B[A\n",
      "Epoch 25: 100%|██████████| 1/1 [00:00<00:00, 30.97it/s, v_num=16, train/loss_step=0.0856, val/loss=0.836, val/error_u=0.798, val/error_v=1.070, val/error_h=0.461, val/loss_best=0.782, train/loss_epoch=0.0898]\n",
      "Validation: |          | 0/? [00:00<?, ?it/s]\u001B[A\n",
      "Validation: |          | 0/? [00:00<?, ?it/s]\u001B[A\n",
      "Validation DataLoader 0:   0%|          | 0/1 [00:00<?, ?it/s]\u001B[A\n",
      "Validation DataLoader 0: 100%|██████████| 1/1 [00:00<00:00, 33.94it/s]\u001B[A\n",
      "Epoch 26: 100%|██████████| 1/1 [00:00<00:00, 34.08it/s, v_num=16, train/loss_step=0.0832, val/loss=0.841, val/error_u=0.803, val/error_v=1.080, val/error_h=0.456, val/loss_best=0.782, train/loss_epoch=0.0856]\n",
      "Validation: |          | 0/? [00:00<?, ?it/s]\u001B[A\n",
      "Validation: |          | 0/? [00:00<?, ?it/s]\u001B[A\n",
      "Validation DataLoader 0:   0%|          | 0/1 [00:00<?, ?it/s]\u001B[A\n",
      "Validation DataLoader 0: 100%|██████████| 1/1 [00:00<00:00, 97.07it/s]\u001B[A\n",
      "Epoch 27: 100%|██████████| 1/1 [00:00<00:00, 33.88it/s, v_num=16, train/loss_step=0.0822, val/loss=0.850, val/error_u=0.810, val/error_v=1.090, val/error_h=0.453, val/loss_best=0.782, train/loss_epoch=0.0832]\n",
      "Validation: |          | 0/? [00:00<?, ?it/s]\u001B[A\n",
      "Validation: |          | 0/? [00:00<?, ?it/s]\u001B[A\n",
      "Validation DataLoader 0:   0%|          | 0/1 [00:00<?, ?it/s]\u001B[A\n",
      "Validation DataLoader 0: 100%|██████████| 1/1 [00:00<00:00, 83.31it/s]\u001B[A\n",
      "Epoch 28: 100%|██████████| 1/1 [00:00<00:00, 29.32it/s, v_num=16, train/loss_step=0.0799, val/loss=0.858, val/error_u=0.817, val/error_v=1.090, val/error_h=0.452, val/loss_best=0.782, train/loss_epoch=0.0822]\n",
      "Validation: |          | 0/? [00:00<?, ?it/s]\u001B[A\n",
      "Validation: |          | 0/? [00:00<?, ?it/s]\u001B[A\n",
      "Validation DataLoader 0:   0%|          | 0/1 [00:00<?, ?it/s]\u001B[A\n",
      "Validation DataLoader 0: 100%|██████████| 1/1 [00:00<00:00, 78.38it/s]\u001B[A\n",
      "Epoch 29: 100%|██████████| 1/1 [00:00<00:00, 28.66it/s, v_num=16, train/loss_step=0.0765, val/loss=0.865, val/error_u=0.822, val/error_v=1.100, val/error_h=0.453, val/loss_best=0.782, train/loss_epoch=0.0799]\n",
      "Validation: |          | 0/? [00:00<?, ?it/s]\u001B[A\n",
      "Validation: |          | 0/? [00:00<?, ?it/s]\u001B[A\n",
      "Validation DataLoader 0:   0%|          | 0/1 [00:00<?, ?it/s]\u001B[A\n",
      "Validation DataLoader 0: 100%|██████████| 1/1 [00:00<00:00, 91.55it/s]\u001B[A\n",
      "Epoch 30: 100%|██████████| 1/1 [00:00<00:00, 32.33it/s, v_num=16, train/loss_step=0.0738, val/loss=0.870, val/error_u=0.825, val/error_v=1.100, val/error_h=0.452, val/loss_best=0.782, train/loss_epoch=0.0765]\n",
      "Validation: |          | 0/? [00:00<?, ?it/s]\u001B[A\n",
      "Validation: |          | 0/? [00:00<?, ?it/s]\u001B[A\n",
      "Validation DataLoader 0:   0%|          | 0/1 [00:00<?, ?it/s]\u001B[A\n",
      "Validation DataLoader 0: 100%|██████████| 1/1 [00:00<00:00, 70.55it/s]\u001B[A\n",
      "Epoch 31: 100%|██████████| 1/1 [00:00<00:00, 22.74it/s, v_num=16, train/loss_step=0.0722, val/loss=0.873, val/error_u=0.827, val/error_v=1.110, val/error_h=0.450, val/loss_best=0.782, train/loss_epoch=0.0738]\n",
      "Validation: |          | 0/? [00:00<?, ?it/s]\u001B[A\n",
      "Validation: |          | 0/? [00:00<?, ?it/s]\u001B[A\n",
      "Validation DataLoader 0:   0%|          | 0/1 [00:00<?, ?it/s]\u001B[A\n",
      "Validation DataLoader 0: 100%|██████████| 1/1 [00:00<00:00, 91.29it/s]\u001B[A\n",
      "Epoch 32: 100%|██████████| 1/1 [00:00<00:00, 31.46it/s, v_num=16, train/loss_step=0.0718, val/loss=0.877, val/error_u=0.828, val/error_v=1.110, val/error_h=0.448, val/loss_best=0.782, train/loss_epoch=0.0722]\n",
      "Validation: |          | 0/? [00:00<?, ?it/s]\u001B[A\n",
      "Validation: |          | 0/? [00:00<?, ?it/s]\u001B[A\n",
      "Validation DataLoader 0:   0%|          | 0/1 [00:00<?, ?it/s]\u001B[A\n",
      "Validation DataLoader 0: 100%|██████████| 1/1 [00:00<00:00, 53.53it/s]\u001B[A\n",
      "Epoch 33: 100%|██████████| 1/1 [00:00<00:00, 26.15it/s, v_num=16, train/loss_step=0.0705, val/loss=0.881, val/error_u=0.829, val/error_v=1.120, val/error_h=0.446, val/loss_best=0.782, train/loss_epoch=0.0718]\n",
      "Validation: |          | 0/? [00:00<?, ?it/s]\u001B[A\n",
      "Validation: |          | 0/? [00:00<?, ?it/s]\u001B[A\n",
      "Validation DataLoader 0:   0%|          | 0/1 [00:00<?, ?it/s]\u001B[A\n",
      "Validation DataLoader 0: 100%|██████████| 1/1 [00:00<00:00, 73.39it/s]\u001B[A\n",
      "Epoch 34: 100%|██████████| 1/1 [00:00<00:00, 28.90it/s, v_num=16, train/loss_step=0.0684, val/loss=0.885, val/error_u=0.832, val/error_v=1.130, val/error_h=0.444, val/loss_best=0.782, train/loss_epoch=0.0705]\n",
      "Validation: |          | 0/? [00:00<?, ?it/s]\u001B[A\n",
      "Validation: |          | 0/? [00:00<?, ?it/s]\u001B[A\n",
      "Validation DataLoader 0:   0%|          | 0/1 [00:00<?, ?it/s]\u001B[A\n",
      "Validation DataLoader 0: 100%|██████████| 1/1 [00:00<00:00, 51.75it/s]\u001B[A\n",
      "Epoch 35: 100%|██████████| 1/1 [00:00<00:00, 25.81it/s, v_num=16, train/loss_step=0.0671, val/loss=0.890, val/error_u=0.836, val/error_v=1.130, val/error_h=0.443, val/loss_best=0.782, train/loss_epoch=0.0684]\n",
      "Validation: |          | 0/? [00:00<?, ?it/s]\u001B[A\n",
      "Validation: |          | 0/? [00:00<?, ?it/s]\u001B[A\n",
      "Validation DataLoader 0:   0%|          | 0/1 [00:00<?, ?it/s]\u001B[A\n",
      "Validation DataLoader 0: 100%|██████████| 1/1 [00:00<00:00, 40.27it/s]\u001B[A\n",
      "Epoch 36: 100%|██████████| 1/1 [00:00<00:00, 23.23it/s, v_num=16, train/loss_step=0.0662, val/loss=0.895, val/error_u=0.840, val/error_v=1.130, val/error_h=0.441, val/loss_best=0.782, train/loss_epoch=0.0671]\n",
      "Validation: |          | 0/? [00:00<?, ?it/s]\u001B[A\n",
      "Validation: |          | 0/? [00:00<?, ?it/s]\u001B[A\n",
      "Validation DataLoader 0:   0%|          | 0/1 [00:00<?, ?it/s]\u001B[A\n",
      "Validation DataLoader 0: 100%|██████████| 1/1 [00:00<00:00, 55.68it/s]\u001B[A\n",
      "Epoch 37: 100%|██████████| 1/1 [00:00<00:00, 26.22it/s, v_num=16, train/loss_step=0.0647, val/loss=0.897, val/error_u=0.841, val/error_v=1.140, val/error_h=0.438, val/loss_best=0.782, train/loss_epoch=0.0662]\n",
      "Validation: |          | 0/? [00:00<?, ?it/s]\u001B[A\n",
      "Validation: |          | 0/? [00:00<?, ?it/s]\u001B[A\n",
      "Validation DataLoader 0:   0%|          | 0/1 [00:00<?, ?it/s]\u001B[A\n",
      "Validation DataLoader 0: 100%|██████████| 1/1 [00:00<00:00, 79.29it/s]\u001B[A\n",
      "Epoch 38: 100%|██████████| 1/1 [00:00<00:00, 23.80it/s, v_num=16, train/loss_step=0.0632, val/loss=0.899, val/error_u=0.842, val/error_v=1.140, val/error_h=0.436, val/loss_best=0.782, train/loss_epoch=0.0647]\n",
      "Validation: |          | 0/? [00:00<?, ?it/s]\u001B[A\n",
      "Validation: |          | 0/? [00:00<?, ?it/s]\u001B[A\n",
      "Validation DataLoader 0:   0%|          | 0/1 [00:00<?, ?it/s]\u001B[A\n",
      "Validation DataLoader 0: 100%|██████████| 1/1 [00:00<00:00, 91.59it/s]\u001B[A\n",
      "Epoch 39: 100%|██████████| 1/1 [00:00<00:00, 21.58it/s, v_num=16, train/loss_step=0.0623, val/loss=0.900, val/error_u=0.846, val/error_v=1.140, val/error_h=0.435, val/loss_best=0.782, train/loss_epoch=0.0632]\n",
      "Validation: |          | 0/? [00:00<?, ?it/s]\u001B[A\n",
      "Validation: |          | 0/? [00:00<?, ?it/s]\u001B[A\n",
      "Validation DataLoader 0:   0%|          | 0/1 [00:00<?, ?it/s]\u001B[A\n",
      "Validation DataLoader 0: 100%|██████████| 1/1 [00:00<00:00, 32.66it/s]\u001B[A\n",
      "Epoch 40: 100%|██████████| 1/1 [00:00<00:00, 19.15it/s, v_num=16, train/loss_step=0.0618, val/loss=0.903, val/error_u=0.850, val/error_v=1.140, val/error_h=0.434, val/loss_best=0.782, train/loss_epoch=0.0623]\n",
      "Validation: |          | 0/? [00:00<?, ?it/s]\u001B[A\n",
      "Validation: |          | 0/? [00:00<?, ?it/s]\u001B[A\n",
      "Validation DataLoader 0:   0%|          | 0/1 [00:00<?, ?it/s]\u001B[A\n",
      "Validation DataLoader 0: 100%|██████████| 1/1 [00:00<00:00, 44.68it/s]\u001B[A\n",
      "Epoch 41: 100%|██████████| 1/1 [00:00<00:00, 17.35it/s, v_num=16, train/loss_step=0.0611, val/loss=0.907, val/error_u=0.852, val/error_v=1.140, val/error_h=0.433, val/loss_best=0.782, train/loss_epoch=0.0618]\n",
      "Validation: |          | 0/? [00:00<?, ?it/s]\u001B[A\n",
      "Validation: |          | 0/? [00:00<?, ?it/s]\u001B[A\n",
      "Validation DataLoader 0:   0%|          | 0/1 [00:00<?, ?it/s]\u001B[A\n",
      "Validation DataLoader 0: 100%|██████████| 1/1 [00:00<00:00, 101.21it/s]\u001B[A\n",
      "Epoch 42: 100%|██████████| 1/1 [00:00<00:00, 33.68it/s, v_num=16, train/loss_step=0.0603, val/loss=0.912, val/error_u=0.854, val/error_v=1.150, val/error_h=0.432, val/loss_best=0.782, train/loss_epoch=0.0611]\n",
      "Validation: |          | 0/? [00:00<?, ?it/s]\u001B[A\n",
      "Validation: |          | 0/? [00:00<?, ?it/s]\u001B[A\n",
      "Validation DataLoader 0:   0%|          | 0/1 [00:00<?, ?it/s]\u001B[A\n",
      "Validation DataLoader 0: 100%|██████████| 1/1 [00:00<00:00, 84.54it/s]\u001B[A\n",
      "Epoch 43: 100%|██████████| 1/1 [00:00<00:00, 33.65it/s, v_num=16, train/loss_step=0.0596, val/loss=0.917, val/error_u=0.856, val/error_v=1.160, val/error_h=0.430, val/loss_best=0.782, train/loss_epoch=0.0603]\n",
      "Validation: |          | 0/? [00:00<?, ?it/s]\u001B[A\n",
      "Validation: |          | 0/? [00:00<?, ?it/s]\u001B[A\n",
      "Validation DataLoader 0:   0%|          | 0/1 [00:00<?, ?it/s]\u001B[A\n",
      "Validation DataLoader 0: 100%|██████████| 1/1 [00:00<00:00, 67.46it/s]\u001B[A\n",
      "Epoch 44: 100%|██████████| 1/1 [00:00<00:00, 20.72it/s, v_num=16, train/loss_step=0.0589, val/loss=0.922, val/error_u=0.858, val/error_v=1.160, val/error_h=0.428, val/loss_best=0.782, train/loss_epoch=0.0596]\n",
      "Validation: |          | 0/? [00:00<?, ?it/s]\u001B[A\n",
      "Validation: |          | 0/? [00:00<?, ?it/s]\u001B[A\n",
      "Validation DataLoader 0:   0%|          | 0/1 [00:00<?, ?it/s]\u001B[A\n",
      "Validation DataLoader 0: 100%|██████████| 1/1 [00:00<00:00, 12.02it/s]\u001B[A\n",
      "Epoch 45: 100%|██████████| 1/1 [00:00<00:00, 34.31it/s, v_num=16, train/loss_step=0.0578, val/loss=0.925, val/error_u=0.861, val/error_v=1.160, val/error_h=0.428, val/loss_best=0.782, train/loss_epoch=0.0589]\n",
      "Validation: |          | 0/? [00:00<?, ?it/s]\u001B[A\n",
      "Validation: |          | 0/? [00:00<?, ?it/s]\u001B[A\n",
      "Validation DataLoader 0:   0%|          | 0/1 [00:00<?, ?it/s]\u001B[A\n",
      "Validation DataLoader 0: 100%|██████████| 1/1 [00:00<00:00, 43.29it/s]\u001B[A\n",
      "Epoch 46: 100%|██████████| 1/1 [00:00<00:00, 23.88it/s, v_num=16, train/loss_step=0.0571, val/loss=0.928, val/error_u=0.864, val/error_v=1.160, val/error_h=0.428, val/loss_best=0.782, train/loss_epoch=0.0578]\n",
      "Validation: |          | 0/? [00:00<?, ?it/s]\u001B[A\n",
      "Validation: |          | 0/? [00:00<?, ?it/s]\u001B[A\n",
      "Validation DataLoader 0:   0%|          | 0/1 [00:00<?, ?it/s]\u001B[A\n",
      "Validation DataLoader 0: 100%|██████████| 1/1 [00:00<00:00, 44.53it/s]\u001B[A\n",
      "Epoch 47: 100%|██████████| 1/1 [00:00<00:00, 19.93it/s, v_num=16, train/loss_step=0.0565, val/loss=0.931, val/error_u=0.868, val/error_v=1.170, val/error_h=0.427, val/loss_best=0.782, train/loss_epoch=0.0571]\n",
      "Validation: |          | 0/? [00:00<?, ?it/s]\u001B[A\n",
      "Validation: |          | 0/? [00:00<?, ?it/s]\u001B[A\n",
      "Validation DataLoader 0:   0%|          | 0/1 [00:00<?, ?it/s]\u001B[A\n",
      "Validation DataLoader 0: 100%|██████████| 1/1 [00:00<00:00, 56.60it/s]\u001B[A\n",
      "Epoch 48: 100%|██████████| 1/1 [00:00<00:00, 20.84it/s, v_num=16, train/loss_step=0.0558, val/loss=0.936, val/error_u=0.871, val/error_v=1.170, val/error_h=0.425, val/loss_best=0.782, train/loss_epoch=0.0565]\n",
      "Validation: |          | 0/? [00:00<?, ?it/s]\u001B[A\n",
      "Validation: |          | 0/? [00:00<?, ?it/s]\u001B[A\n",
      "Validation DataLoader 0:   0%|          | 0/1 [00:00<?, ?it/s]\u001B[A\n",
      "Validation DataLoader 0: 100%|██████████| 1/1 [00:00<00:00, 39.66it/s]\u001B[A\n",
      "Epoch 49: 100%|██████████| 1/1 [00:00<00:00, 19.72it/s, v_num=16, train/loss_step=0.0554, val/loss=0.941, val/error_u=0.873, val/error_v=1.180, val/error_h=0.423, val/loss_best=0.782, train/loss_epoch=0.0558]\n",
      "Validation: |          | 0/? [00:00<?, ?it/s]\u001B[A\n",
      "Validation: |          | 0/? [00:00<?, ?it/s]\u001B[A\n",
      "Validation DataLoader 0:   0%|          | 0/1 [00:00<?, ?it/s]\u001B[A\n",
      "Validation DataLoader 0: 100%|██████████| 1/1 [00:00<00:00, 71.08it/s]\u001B[A\n",
      "Epoch 50: 100%|██████████| 1/1 [00:00<00:00, 21.10it/s, v_num=16, train/loss_step=0.055, val/loss=0.945, val/error_u=0.875, val/error_v=1.180, val/error_h=0.422, val/loss_best=0.782, train/loss_epoch=0.0554] \n",
      "Validation: |          | 0/? [00:00<?, ?it/s]\u001B[A\n",
      "Validation: |          | 0/? [00:00<?, ?it/s]\u001B[A\n",
      "Validation DataLoader 0:   0%|          | 0/1 [00:00<?, ?it/s]\u001B[A\n",
      "Validation DataLoader 0: 100%|██████████| 1/1 [00:00<00:00, 66.26it/s]\u001B[A\n",
      "Epoch 51: 100%|██████████| 1/1 [00:00<00:00, 23.71it/s, v_num=16, train/loss_step=0.0542, val/loss=0.947, val/error_u=0.878, val/error_v=1.180, val/error_h=0.421, val/loss_best=0.782, train/loss_epoch=0.055]\n",
      "Validation: |          | 0/? [00:00<?, ?it/s]\u001B[A\n",
      "Validation: |          | 0/? [00:00<?, ?it/s]\u001B[A\n",
      "Validation DataLoader 0:   0%|          | 0/1 [00:00<?, ?it/s]\u001B[A\n",
      "Validation DataLoader 0: 100%|██████████| 1/1 [00:00<00:00, 34.36it/s]\u001B[A\n",
      "Epoch 52: 100%|██████████| 1/1 [00:00<00:00, 16.81it/s, v_num=16, train/loss_step=0.0534, val/loss=0.947, val/error_u=0.878, val/error_v=1.180, val/error_h=0.421, val/loss_best=0.782, train/loss_epoch=0.0542]\n",
      "Validation: |          | 0/? [00:00<?, ?it/s]\u001B[A\n",
      "Validation: |          | 0/? [00:00<?, ?it/s]\u001B[A\n",
      "Validation DataLoader 0:   0%|          | 0/1 [00:00<?, ?it/s]\u001B[A\n",
      "Validation DataLoader 0: 100%|██████████| 1/1 [00:00<00:00, 39.39it/s]\u001B[A\n",
      "Epoch 53: 100%|██████████| 1/1 [00:00<00:00, 15.15it/s, v_num=16, train/loss_step=0.053, val/loss=0.946, val/error_u=0.877, val/error_v=1.180, val/error_h=0.421, val/loss_best=0.782, train/loss_epoch=0.0534] \n",
      "Validation: |          | 0/? [00:00<?, ?it/s]\u001B[A\n",
      "Validation: |          | 0/? [00:00<?, ?it/s]\u001B[A\n",
      "Validation DataLoader 0:   0%|          | 0/1 [00:00<?, ?it/s]\u001B[A\n",
      "Validation DataLoader 0: 100%|██████████| 1/1 [00:00<00:00, 41.07it/s]\u001B[A\n",
      "Epoch 54: 100%|██████████| 1/1 [00:00<00:00, 15.57it/s, v_num=16, train/loss_step=0.0526, val/loss=0.946, val/error_u=0.877, val/error_v=1.180, val/error_h=0.420, val/loss_best=0.782, train/loss_epoch=0.053]\n",
      "Validation: |          | 0/? [00:00<?, ?it/s]\u001B[A\n",
      "Validation: |          | 0/? [00:00<?, ?it/s]\u001B[A\n",
      "Validation DataLoader 0:   0%|          | 0/1 [00:00<?, ?it/s]\u001B[A\n",
      "Validation DataLoader 0: 100%|██████████| 1/1 [00:00<00:00, 38.36it/s]\u001B[A\n",
      "Epoch 55: 100%|██████████| 1/1 [00:00<00:00, 24.00it/s, v_num=16, train/loss_step=0.0521, val/loss=0.947, val/error_u=0.878, val/error_v=1.180, val/error_h=0.419, val/loss_best=0.782, train/loss_epoch=0.0526]\n",
      "Validation: |          | 0/? [00:00<?, ?it/s]\u001B[A\n",
      "Validation: |          | 0/? [00:00<?, ?it/s]\u001B[A\n",
      "Validation DataLoader 0:   0%|          | 0/1 [00:00<?, ?it/s]\u001B[A\n",
      "Validation DataLoader 0: 100%|██████████| 1/1 [00:00<00:00, 29.10it/s]\u001B[A\n",
      "Epoch 56: 100%|██████████| 1/1 [00:00<00:00, 17.97it/s, v_num=16, train/loss_step=0.0517, val/loss=0.949, val/error_u=0.880, val/error_v=1.180, val/error_h=0.419, val/loss_best=0.782, train/loss_epoch=0.0521]\n",
      "Validation: |          | 0/? [00:00<?, ?it/s]\u001B[A\n",
      "Validation: |          | 0/? [00:00<?, ?it/s]\u001B[A\n",
      "Validation DataLoader 0:   0%|          | 0/1 [00:00<?, ?it/s]\u001B[A\n",
      "Validation DataLoader 0: 100%|██████████| 1/1 [00:00<00:00, 50.87it/s]\u001B[A\n",
      "Epoch 57: 100%|██████████| 1/1 [00:00<00:00, 17.64it/s, v_num=16, train/loss_step=0.0512, val/loss=0.952, val/error_u=0.882, val/error_v=1.180, val/error_h=0.419, val/loss_best=0.782, train/loss_epoch=0.0517]\n",
      "Validation: |          | 0/? [00:00<?, ?it/s]\u001B[A\n",
      "Validation: |          | 0/? [00:00<?, ?it/s]\u001B[A\n",
      "Validation DataLoader 0:   0%|          | 0/1 [00:00<?, ?it/s]\u001B[A\n",
      "Validation DataLoader 0: 100%|██████████| 1/1 [00:00<00:00, 34.15it/s]\u001B[A\n",
      "Epoch 58: 100%|██████████| 1/1 [00:00<00:00, 15.49it/s, v_num=16, train/loss_step=0.0507, val/loss=0.954, val/error_u=0.884, val/error_v=1.190, val/error_h=0.418, val/loss_best=0.782, train/loss_epoch=0.0512]\n",
      "Validation: |          | 0/? [00:00<?, ?it/s]\u001B[A\n",
      "Validation: |          | 0/? [00:00<?, ?it/s]\u001B[A\n",
      "Validation DataLoader 0:   0%|          | 0/1 [00:00<?, ?it/s]\u001B[A\n",
      "Validation DataLoader 0: 100%|██████████| 1/1 [00:00<00:00, 28.41it/s]\u001B[A\n",
      "Epoch 59: 100%|██████████| 1/1 [00:00<00:00, 13.91it/s, v_num=16, train/loss_step=0.0503, val/loss=0.957, val/error_u=0.885, val/error_v=1.190, val/error_h=0.418, val/loss_best=0.782, train/loss_epoch=0.0507]\n",
      "Validation: |          | 0/? [00:00<?, ?it/s]\u001B[A\n",
      "Validation: |          | 0/? [00:00<?, ?it/s]\u001B[A\n",
      "Validation DataLoader 0:   0%|          | 0/1 [00:00<?, ?it/s]\u001B[A\n",
      "Validation DataLoader 0: 100%|██████████| 1/1 [00:00<00:00, 54.02it/s]\u001B[A\n",
      "Epoch 60: 100%|██████████| 1/1 [00:00<00:00, 16.84it/s, v_num=16, train/loss_step=0.0499, val/loss=0.959, val/error_u=0.886, val/error_v=1.190, val/error_h=0.417, val/loss_best=0.782, train/loss_epoch=0.0503]\n",
      "Validation: |          | 0/? [00:00<?, ?it/s]\u001B[A\n",
      "Validation: |          | 0/? [00:00<?, ?it/s]\u001B[A\n",
      "Validation DataLoader 0:   0%|          | 0/1 [00:00<?, ?it/s]\u001B[A\n",
      "Validation DataLoader 0: 100%|██████████| 1/1 [00:00<00:00, 51.96it/s]\u001B[A\n",
      "Epoch 61: 100%|██████████| 1/1 [00:00<00:00, 20.37it/s, v_num=16, train/loss_step=0.0494, val/loss=0.963, val/error_u=0.889, val/error_v=1.190, val/error_h=0.417, val/loss_best=0.782, train/loss_epoch=0.0499]\n",
      "Validation: |          | 0/? [00:00<?, ?it/s]\u001B[A\n",
      "Validation: |          | 0/? [00:00<?, ?it/s]\u001B[A\n",
      "Validation DataLoader 0:   0%|          | 0/1 [00:00<?, ?it/s]\u001B[A\n",
      "Validation DataLoader 0: 100%|██████████| 1/1 [00:00<00:00, 63.15it/s]\u001B[A\n",
      "Epoch 62: 100%|██████████| 1/1 [00:00<00:00, 26.85it/s, v_num=16, train/loss_step=0.049, val/loss=0.965, val/error_u=0.891, val/error_v=1.190, val/error_h=0.416, val/loss_best=0.782, train/loss_epoch=0.0494] \n",
      "Validation: |          | 0/? [00:00<?, ?it/s]\u001B[A\n",
      "Validation: |          | 0/? [00:00<?, ?it/s]\u001B[A\n",
      "Validation DataLoader 0:   0%|          | 0/1 [00:00<?, ?it/s]\u001B[A\n",
      "Validation DataLoader 0: 100%|██████████| 1/1 [00:00<00:00, 68.30it/s]\u001B[A\n",
      "Epoch 63: 100%|██████████| 1/1 [00:00<00:00, 23.27it/s, v_num=16, train/loss_step=0.0487, val/loss=0.967, val/error_u=0.892, val/error_v=1.200, val/error_h=0.416, val/loss_best=0.782, train/loss_epoch=0.049]\n",
      "Validation: |          | 0/? [00:00<?, ?it/s]\u001B[A\n",
      "Validation: |          | 0/? [00:00<?, ?it/s]\u001B[A\n",
      "Validation DataLoader 0:   0%|          | 0/1 [00:00<?, ?it/s]\u001B[A\n",
      "Validation DataLoader 0: 100%|██████████| 1/1 [00:00<00:00, 39.31it/s]\u001B[A\n",
      "Epoch 64: 100%|██████████| 1/1 [00:00<00:00, 16.56it/s, v_num=16, train/loss_step=0.0483, val/loss=0.968, val/error_u=0.893, val/error_v=1.200, val/error_h=0.415, val/loss_best=0.782, train/loss_epoch=0.0487]\n",
      "Validation: |          | 0/? [00:00<?, ?it/s]\u001B[A\n",
      "Validation: |          | 0/? [00:00<?, ?it/s]\u001B[A\n",
      "Validation DataLoader 0:   0%|          | 0/1 [00:00<?, ?it/s]\u001B[A\n",
      "Validation DataLoader 0: 100%|██████████| 1/1 [00:00<00:00, 52.83it/s]\u001B[A\n",
      "Epoch 65: 100%|██████████| 1/1 [00:00<00:00, 22.97it/s, v_num=16, train/loss_step=0.0479, val/loss=0.968, val/error_u=0.894, val/error_v=1.200, val/error_h=0.414, val/loss_best=0.782, train/loss_epoch=0.0483]\n",
      "Validation: |          | 0/? [00:00<?, ?it/s]\u001B[A\n",
      "Validation: |          | 0/? [00:00<?, ?it/s]\u001B[A\n",
      "Validation DataLoader 0:   0%|          | 0/1 [00:00<?, ?it/s]\u001B[A\n",
      "Validation DataLoader 0: 100%|██████████| 1/1 [00:00<00:00, 37.51it/s]\u001B[A\n",
      "Epoch 66: 100%|██████████| 1/1 [00:00<00:00, 27.97it/s, v_num=16, train/loss_step=0.0476, val/loss=0.968, val/error_u=0.895, val/error_v=1.200, val/error_h=0.414, val/loss_best=0.782, train/loss_epoch=0.0479]\n",
      "Validation: |          | 0/? [00:00<?, ?it/s]\u001B[A\n",
      "Validation: |          | 0/? [00:00<?, ?it/s]\u001B[A\n",
      "Validation DataLoader 0:   0%|          | 0/1 [00:00<?, ?it/s]\u001B[A\n",
      "Validation DataLoader 0: 100%|██████████| 1/1 [00:00<00:00, 55.82it/s]\u001B[A\n",
      "Epoch 67: 100%|██████████| 1/1 [00:00<00:00, 26.09it/s, v_num=16, train/loss_step=0.0473, val/loss=0.969, val/error_u=0.896, val/error_v=1.200, val/error_h=0.413, val/loss_best=0.782, train/loss_epoch=0.0476]\n",
      "Validation: |          | 0/? [00:00<?, ?it/s]\u001B[A\n",
      "Validation: |          | 0/? [00:00<?, ?it/s]\u001B[A\n",
      "Validation DataLoader 0:   0%|          | 0/1 [00:00<?, ?it/s]\u001B[A\n",
      "Validation DataLoader 0: 100%|██████████| 1/1 [00:00<00:00, 51.17it/s]\u001B[A\n",
      "Epoch 68: 100%|██████████| 1/1 [00:00<00:00, 27.40it/s, v_num=16, train/loss_step=0.0469, val/loss=0.972, val/error_u=0.897, val/error_v=1.200, val/error_h=0.413, val/loss_best=0.782, train/loss_epoch=0.0473]\n",
      "Validation: |          | 0/? [00:00<?, ?it/s]\u001B[A\n",
      "Validation: |          | 0/? [00:00<?, ?it/s]\u001B[A\n",
      "Validation DataLoader 0:   0%|          | 0/1 [00:00<?, ?it/s]\u001B[A\n",
      "Validation DataLoader 0: 100%|██████████| 1/1 [00:00<00:00, 54.88it/s]\u001B[A\n",
      "Epoch 69: 100%|██████████| 1/1 [00:00<00:00, 25.12it/s, v_num=16, train/loss_step=0.0466, val/loss=0.974, val/error_u=0.899, val/error_v=1.200, val/error_h=0.412, val/loss_best=0.782, train/loss_epoch=0.0469]\n",
      "Validation: |          | 0/? [00:00<?, ?it/s]\u001B[A\n",
      "Validation: |          | 0/? [00:00<?, ?it/s]\u001B[A\n",
      "Validation DataLoader 0:   0%|          | 0/1 [00:00<?, ?it/s]\u001B[A\n",
      "Validation DataLoader 0: 100%|██████████| 1/1 [00:00<00:00, 42.41it/s]\u001B[A\n",
      "Epoch 70: 100%|██████████| 1/1 [00:00<00:00, 16.37it/s, v_num=16, train/loss_step=0.0463, val/loss=0.975, val/error_u=0.900, val/error_v=1.200, val/error_h=0.412, val/loss_best=0.782, train/loss_epoch=0.0466]\n",
      "Validation: |          | 0/? [00:00<?, ?it/s]\u001B[A\n",
      "Validation: |          | 0/? [00:00<?, ?it/s]\u001B[A\n",
      "Validation DataLoader 0:   0%|          | 0/1 [00:00<?, ?it/s]\u001B[A\n",
      "Validation DataLoader 0: 100%|██████████| 1/1 [00:00<00:00, 38.68it/s]\u001B[A\n",
      "Epoch 71: 100%|██████████| 1/1 [00:00<00:00, 16.10it/s, v_num=16, train/loss_step=0.0459, val/loss=0.977, val/error_u=0.902, val/error_v=1.200, val/error_h=0.412, val/loss_best=0.782, train/loss_epoch=0.0463]\n",
      "Validation: |          | 0/? [00:00<?, ?it/s]\u001B[A\n",
      "Validation: |          | 0/? [00:00<?, ?it/s]\u001B[A\n",
      "Validation DataLoader 0:   0%|          | 0/1 [00:00<?, ?it/s]\u001B[A\n",
      "Validation DataLoader 0: 100%|██████████| 1/1 [00:00<00:00, 36.40it/s]\u001B[A\n",
      "Epoch 72: 100%|██████████| 1/1 [00:00<00:00, 12.71it/s, v_num=16, train/loss_step=0.0456, val/loss=0.979, val/error_u=0.903, val/error_v=1.200, val/error_h=0.411, val/loss_best=0.782, train/loss_epoch=0.0459]\n",
      "Validation: |          | 0/? [00:00<?, ?it/s]\u001B[A\n",
      "Validation: |          | 0/? [00:00<?, ?it/s]\u001B[A\n",
      "Validation DataLoader 0:   0%|          | 0/1 [00:00<?, ?it/s]\u001B[A\n",
      "Validation DataLoader 0: 100%|██████████| 1/1 [00:00<00:00, 28.08it/s]\u001B[A\n",
      "Epoch 73: 100%|██████████| 1/1 [00:00<00:00, 11.96it/s, v_num=16, train/loss_step=0.0453, val/loss=0.981, val/error_u=0.904, val/error_v=1.210, val/error_h=0.411, val/loss_best=0.782, train/loss_epoch=0.0456]\n",
      "Validation: |          | 0/? [00:00<?, ?it/s]\u001B[A\n",
      "Validation: |          | 0/? [00:00<?, ?it/s]\u001B[A\n",
      "Validation DataLoader 0:   0%|          | 0/1 [00:00<?, ?it/s]\u001B[A\n",
      "Validation DataLoader 0: 100%|██████████| 1/1 [00:00<00:00, 41.34it/s]\u001B[A\n",
      "Epoch 74: 100%|██████████| 1/1 [00:00<00:00, 18.30it/s, v_num=16, train/loss_step=0.045, val/loss=0.983, val/error_u=0.906, val/error_v=1.210, val/error_h=0.410, val/loss_best=0.782, train/loss_epoch=0.0453] \n",
      "Validation: |          | 0/? [00:00<?, ?it/s]\u001B[A\n",
      "Validation: |          | 0/? [00:00<?, ?it/s]\u001B[A\n",
      "Validation DataLoader 0:   0%|          | 0/1 [00:00<?, ?it/s]\u001B[A\n",
      "Validation DataLoader 0: 100%|██████████| 1/1 [00:00<00:00, 50.78it/s]\u001B[A\n",
      "Epoch 75: 100%|██████████| 1/1 [00:00<00:00, 19.28it/s, v_num=16, train/loss_step=0.0448, val/loss=0.985, val/error_u=0.907, val/error_v=1.210, val/error_h=0.409, val/loss_best=0.782, train/loss_epoch=0.045]\n",
      "Validation: |          | 0/? [00:00<?, ?it/s]\u001B[A\n",
      "Validation: |          | 0/? [00:00<?, ?it/s]\u001B[A\n",
      "Validation DataLoader 0:   0%|          | 0/1 [00:00<?, ?it/s]\u001B[A\n",
      "Validation DataLoader 0: 100%|██████████| 1/1 [00:00<00:00, 48.58it/s]\u001B[A\n",
      "Epoch 76: 100%|██████████| 1/1 [00:00<00:00, 17.93it/s, v_num=16, train/loss_step=0.0445, val/loss=0.986, val/error_u=0.908, val/error_v=1.210, val/error_h=0.409, val/loss_best=0.782, train/loss_epoch=0.0448]\n",
      "Validation: |          | 0/? [00:00<?, ?it/s]\u001B[A\n",
      "Validation: |          | 0/? [00:00<?, ?it/s]\u001B[A\n",
      "Validation DataLoader 0:   0%|          | 0/1 [00:00<?, ?it/s]\u001B[A\n",
      "Validation DataLoader 0: 100%|██████████| 1/1 [00:00<00:00, 27.86it/s]\u001B[A\n",
      "Epoch 77: 100%|██████████| 1/1 [00:00<00:00, 17.30it/s, v_num=16, train/loss_step=0.0442, val/loss=0.987, val/error_u=0.909, val/error_v=1.210, val/error_h=0.409, val/loss_best=0.782, train/loss_epoch=0.0445]\n",
      "Validation: |          | 0/? [00:00<?, ?it/s]\u001B[A\n",
      "Validation: |          | 0/? [00:00<?, ?it/s]\u001B[A\n",
      "Validation DataLoader 0:   0%|          | 0/1 [00:00<?, ?it/s]\u001B[A\n",
      "Validation DataLoader 0: 100%|██████████| 1/1 [00:00<00:00, 34.57it/s]\u001B[A\n",
      "Epoch 78: 100%|██████████| 1/1 [00:00<00:00, 23.49it/s, v_num=16, train/loss_step=0.0439, val/loss=0.988, val/error_u=0.911, val/error_v=1.210, val/error_h=0.408, val/loss_best=0.782, train/loss_epoch=0.0442]\n",
      "Validation: |          | 0/? [00:00<?, ?it/s]\u001B[A\n",
      "Validation: |          | 0/? [00:00<?, ?it/s]\u001B[A\n",
      "Validation DataLoader 0:   0%|          | 0/1 [00:00<?, ?it/s]\u001B[A\n",
      "Validation DataLoader 0: 100%|██████████| 1/1 [00:00<00:00, 40.40it/s]\u001B[A\n",
      "Epoch 79: 100%|██████████| 1/1 [00:00<00:00, 22.01it/s, v_num=16, train/loss_step=0.0436, val/loss=0.990, val/error_u=0.912, val/error_v=1.210, val/error_h=0.408, val/loss_best=0.782, train/loss_epoch=0.0439]\n",
      "Validation: |          | 0/? [00:00<?, ?it/s]\u001B[A\n",
      "Validation: |          | 0/? [00:00<?, ?it/s]\u001B[A\n",
      "Validation DataLoader 0:   0%|          | 0/1 [00:00<?, ?it/s]\u001B[A\n",
      "Validation DataLoader 0: 100%|██████████| 1/1 [00:00<00:00, 35.57it/s]\u001B[A\n",
      "Epoch 80: 100%|██████████| 1/1 [00:00<00:00, 16.07it/s, v_num=16, train/loss_step=0.0434, val/loss=0.992, val/error_u=0.913, val/error_v=1.210, val/error_h=0.408, val/loss_best=0.782, train/loss_epoch=0.0436]\n",
      "Validation: |          | 0/? [00:00<?, ?it/s]\u001B[A\n",
      "Validation: |          | 0/? [00:00<?, ?it/s]\u001B[A\n",
      "Validation DataLoader 0:   0%|          | 0/1 [00:00<?, ?it/s]\u001B[A\n",
      "Validation DataLoader 0: 100%|██████████| 1/1 [00:00<00:00, 42.97it/s]\u001B[A\n",
      "Epoch 81: 100%|██████████| 1/1 [00:00<00:00, 26.20it/s, v_num=16, train/loss_step=0.0431, val/loss=0.993, val/error_u=0.914, val/error_v=1.210, val/error_h=0.407, val/loss_best=0.782, train/loss_epoch=0.0434]\n",
      "Validation: |          | 0/? [00:00<?, ?it/s]\u001B[A\n",
      "Validation: |          | 0/? [00:00<?, ?it/s]\u001B[A\n",
      "Validation DataLoader 0:   0%|          | 0/1 [00:00<?, ?it/s]\u001B[A\n",
      "Validation DataLoader 0: 100%|██████████| 1/1 [00:00<00:00, 53.19it/s]\u001B[A\n",
      "Epoch 82: 100%|██████████| 1/1 [00:00<00:00, 22.91it/s, v_num=16, train/loss_step=0.0429, val/loss=0.995, val/error_u=0.916, val/error_v=1.210, val/error_h=0.407, val/loss_best=0.782, train/loss_epoch=0.0431]\n",
      "Validation: |          | 0/? [00:00<?, ?it/s]\u001B[A\n",
      "Validation: |          | 0/? [00:00<?, ?it/s]\u001B[A\n",
      "Validation DataLoader 0:   0%|          | 0/1 [00:00<?, ?it/s]\u001B[A\n",
      "Validation DataLoader 0: 100%|██████████| 1/1 [00:00<00:00, 23.15it/s]\u001B[A\n",
      "Epoch 83: 100%|██████████| 1/1 [00:00<00:00, 21.67it/s, v_num=16, train/loss_step=0.0426, val/loss=0.996, val/error_u=0.917, val/error_v=1.210, val/error_h=0.406, val/loss_best=0.782, train/loss_epoch=0.0429]\n",
      "Validation: |          | 0/? [00:00<?, ?it/s]\u001B[A\n",
      "Validation: |          | 0/? [00:00<?, ?it/s]\u001B[A\n",
      "Validation DataLoader 0:   0%|          | 0/1 [00:00<?, ?it/s]\u001B[A\n",
      "Validation DataLoader 0: 100%|██████████| 1/1 [00:00<00:00, 64.71it/s]\u001B[A\n",
      "Epoch 84: 100%|██████████| 1/1 [00:00<00:00, 26.62it/s, v_num=16, train/loss_step=0.0423, val/loss=0.997, val/error_u=0.918, val/error_v=1.210, val/error_h=0.406, val/loss_best=0.782, train/loss_epoch=0.0426]\n",
      "Validation: |          | 0/? [00:00<?, ?it/s]\u001B[A\n",
      "Validation: |          | 0/? [00:00<?, ?it/s]\u001B[A\n",
      "Validation DataLoader 0:   0%|          | 0/1 [00:00<?, ?it/s]\u001B[A\n",
      "Validation DataLoader 0: 100%|██████████| 1/1 [00:00<00:00, 61.81it/s]\u001B[A\n",
      "Epoch 85: 100%|██████████| 1/1 [00:00<00:00, 23.65it/s, v_num=16, train/loss_step=0.0421, val/loss=0.999, val/error_u=0.919, val/error_v=1.220, val/error_h=0.406, val/loss_best=0.782, train/loss_epoch=0.0423]\n",
      "Validation: |          | 0/? [00:00<?, ?it/s]\u001B[A\n",
      "Validation: |          | 0/? [00:00<?, ?it/s]\u001B[A\n",
      "Validation DataLoader 0:   0%|          | 0/1 [00:00<?, ?it/s]\u001B[A\n",
      "Validation DataLoader 0: 100%|██████████| 1/1 [00:00<00:00, 59.62it/s]\u001B[A\n",
      "Epoch 86: 100%|██████████| 1/1 [00:00<00:00, 20.58it/s, v_num=16, train/loss_step=0.0418, val/loss=1.000, val/error_u=0.921, val/error_v=1.220, val/error_h=0.405, val/loss_best=0.782, train/loss_epoch=0.0421]\n",
      "Validation: |          | 0/? [00:00<?, ?it/s]\u001B[A\n",
      "Validation: |          | 0/? [00:00<?, ?it/s]\u001B[A\n",
      "Validation DataLoader 0:   0%|          | 0/1 [00:00<?, ?it/s]\u001B[A\n",
      "Validation DataLoader 0: 100%|██████████| 1/1 [00:00<00:00, 55.86it/s]\u001B[A\n",
      "Epoch 87: 100%|██████████| 1/1 [00:00<00:00, 23.30it/s, v_num=16, train/loss_step=0.0416, val/loss=1.000, val/error_u=0.922, val/error_v=1.220, val/error_h=0.405, val/loss_best=0.782, train/loss_epoch=0.0418]\n",
      "Validation: |          | 0/? [00:00<?, ?it/s]\u001B[A\n",
      "Validation: |          | 0/? [00:00<?, ?it/s]\u001B[A\n",
      "Validation DataLoader 0:   0%|          | 0/1 [00:00<?, ?it/s]\u001B[A\n",
      "Validation DataLoader 0: 100%|██████████| 1/1 [00:00<00:00, 58.28it/s]\u001B[A\n",
      "Epoch 88: 100%|██████████| 1/1 [00:00<00:00, 27.75it/s, v_num=16, train/loss_step=0.0414, val/loss=1.000, val/error_u=0.923, val/error_v=1.220, val/error_h=0.405, val/loss_best=0.782, train/loss_epoch=0.0416]\n",
      "Validation: |          | 0/? [00:00<?, ?it/s]\u001B[A\n",
      "Validation: |          | 0/? [00:00<?, ?it/s]\u001B[A\n",
      "Validation DataLoader 0:   0%|          | 0/1 [00:00<?, ?it/s]\u001B[A\n",
      "Validation DataLoader 0: 100%|██████████| 1/1 [00:00<00:00, 53.26it/s]\u001B[A\n",
      "Epoch 89: 100%|██████████| 1/1 [00:00<00:00, 25.34it/s, v_num=16, train/loss_step=0.0411, val/loss=1.010, val/error_u=0.924, val/error_v=1.220, val/error_h=0.404, val/loss_best=0.782, train/loss_epoch=0.0414]\n",
      "Validation: |          | 0/? [00:00<?, ?it/s]\u001B[A\n",
      "Validation: |          | 0/? [00:00<?, ?it/s]\u001B[A\n",
      "Validation DataLoader 0:   0%|          | 0/1 [00:00<?, ?it/s]\u001B[A\n",
      "Validation DataLoader 0: 100%|██████████| 1/1 [00:00<00:00, 63.56it/s]\u001B[A\n",
      "Epoch 90: 100%|██████████| 1/1 [00:00<00:00, 28.18it/s, v_num=16, train/loss_step=0.0409, val/loss=1.010, val/error_u=0.926, val/error_v=1.220, val/error_h=0.404, val/loss_best=0.782, train/loss_epoch=0.0411]\n",
      "Validation: |          | 0/? [00:00<?, ?it/s]\u001B[A\n",
      "Validation: |          | 0/? [00:00<?, ?it/s]\u001B[A\n",
      "Validation DataLoader 0:   0%|          | 0/1 [00:00<?, ?it/s]\u001B[A\n",
      "Validation DataLoader 0: 100%|██████████| 1/1 [00:00<00:00, 59.26it/s]\u001B[A\n",
      "Epoch 91: 100%|██████████| 1/1 [00:00<00:00, 26.02it/s, v_num=16, train/loss_step=0.0406, val/loss=1.010, val/error_u=0.928, val/error_v=1.220, val/error_h=0.404, val/loss_best=0.782, train/loss_epoch=0.0409]\n",
      "Validation: |          | 0/? [00:00<?, ?it/s]\u001B[A\n",
      "Validation: |          | 0/? [00:00<?, ?it/s]\u001B[A\n",
      "Validation DataLoader 0:   0%|          | 0/1 [00:00<?, ?it/s]\u001B[A\n",
      "Validation DataLoader 0: 100%|██████████| 1/1 [00:00<00:00, 66.61it/s]\u001B[A\n",
      "Epoch 92: 100%|██████████| 1/1 [00:00<00:00, 25.49it/s, v_num=16, train/loss_step=0.0404, val/loss=1.010, val/error_u=0.929, val/error_v=1.220, val/error_h=0.404, val/loss_best=0.782, train/loss_epoch=0.0406]\n",
      "Validation: |          | 0/? [00:00<?, ?it/s]\u001B[A\n",
      "Validation: |          | 0/? [00:00<?, ?it/s]\u001B[A\n",
      "Validation DataLoader 0:   0%|          | 0/1 [00:00<?, ?it/s]\u001B[A\n",
      "Validation DataLoader 0: 100%|██████████| 1/1 [00:00<00:00, 61.54it/s]\u001B[A\n",
      "Epoch 93: 100%|██████████| 1/1 [00:00<00:00, 25.96it/s, v_num=16, train/loss_step=0.0402, val/loss=1.010, val/error_u=0.930, val/error_v=1.220, val/error_h=0.404, val/loss_best=0.782, train/loss_epoch=0.0404]\n",
      "Validation: |          | 0/? [00:00<?, ?it/s]\u001B[A\n",
      "Validation: |          | 0/? [00:00<?, ?it/s]\u001B[A\n",
      "Validation DataLoader 0:   0%|          | 0/1 [00:00<?, ?it/s]\u001B[A\n",
      "Validation DataLoader 0: 100%|██████████| 1/1 [00:00<00:00, 59.91it/s]\u001B[A\n",
      "Epoch 94: 100%|██████████| 1/1 [00:00<00:00, 25.58it/s, v_num=16, train/loss_step=0.040, val/loss=1.010, val/error_u=0.931, val/error_v=1.220, val/error_h=0.403, val/loss_best=0.782, train/loss_epoch=0.0402] \n",
      "Validation: |          | 0/? [00:00<?, ?it/s]\u001B[A\n",
      "Validation: |          | 0/? [00:00<?, ?it/s]\u001B[A\n",
      "Validation DataLoader 0:   0%|          | 0/1 [00:00<?, ?it/s]\u001B[A\n",
      "Validation DataLoader 0: 100%|██████████| 1/1 [00:00<00:00, 64.96it/s]\u001B[A\n",
      "Epoch 95: 100%|██████████| 1/1 [00:00<00:00, 26.59it/s, v_num=16, train/loss_step=0.0398, val/loss=1.020, val/error_u=0.933, val/error_v=1.220, val/error_h=0.403, val/loss_best=0.782, train/loss_epoch=0.040]\n",
      "Validation: |          | 0/? [00:00<?, ?it/s]\u001B[A\n",
      "Validation: |          | 0/? [00:00<?, ?it/s]\u001B[A\n",
      "Validation DataLoader 0:   0%|          | 0/1 [00:00<?, ?it/s]\u001B[A\n",
      "Validation DataLoader 0: 100%|██████████| 1/1 [00:00<00:00, 67.61it/s]\u001B[A\n",
      "Epoch 96: 100%|██████████| 1/1 [00:00<00:00, 26.88it/s, v_num=16, train/loss_step=0.0395, val/loss=1.020, val/error_u=0.934, val/error_v=1.230, val/error_h=0.403, val/loss_best=0.782, train/loss_epoch=0.0398]\n",
      "Validation: |          | 0/? [00:00<?, ?it/s]\u001B[A\n",
      "Validation: |          | 0/? [00:00<?, ?it/s]\u001B[A\n",
      "Validation DataLoader 0:   0%|          | 0/1 [00:00<?, ?it/s]\u001B[A\n",
      "Validation DataLoader 0: 100%|██████████| 1/1 [00:00<00:00, 60.58it/s]\u001B[A\n",
      "Epoch 97: 100%|██████████| 1/1 [00:00<00:00, 25.38it/s, v_num=16, train/loss_step=0.0393, val/loss=1.020, val/error_u=0.935, val/error_v=1.230, val/error_h=0.402, val/loss_best=0.782, train/loss_epoch=0.0395]\n",
      "Validation: |          | 0/? [00:00<?, ?it/s]\u001B[A\n",
      "Validation: |          | 0/? [00:00<?, ?it/s]\u001B[A\n",
      "Validation DataLoader 0:   0%|          | 0/1 [00:00<?, ?it/s]\u001B[A\n",
      "Validation DataLoader 0: 100%|██████████| 1/1 [00:00<00:00, 57.49it/s]\u001B[A\n",
      "Epoch 98: 100%|██████████| 1/1 [00:00<00:00, 29.83it/s, v_num=16, train/loss_step=0.0391, val/loss=1.020, val/error_u=0.936, val/error_v=1.230, val/error_h=0.402, val/loss_best=0.782, train/loss_epoch=0.0393]\n",
      "Validation: |          | 0/? [00:00<?, ?it/s]\u001B[A\n",
      "Validation: |          | 0/? [00:00<?, ?it/s]\u001B[A\n",
      "Validation DataLoader 0:   0%|          | 0/1 [00:00<?, ?it/s]\u001B[A\n",
      "Validation DataLoader 0: 100%|██████████| 1/1 [00:00<00:00, 69.53it/s]\u001B[A\n",
      "Epoch 99: 100%|██████████| 1/1 [00:00<00:00, 28.14it/s, v_num=16, train/loss_step=0.0389, val/loss=1.020, val/error_u=0.938, val/error_v=1.230, val/error_h=0.402, val/loss_best=0.782, train/loss_epoch=0.0391]\n",
      "Validation: |          | 0/? [00:00<?, ?it/s]\u001B[A\n",
      "Validation: |          | 0/? [00:00<?, ?it/s]\u001B[A\n",
      "Validation DataLoader 0:   0%|          | 0/1 [00:00<?, ?it/s]\u001B[A\n",
      "Validation DataLoader 0: 100%|██████████| 1/1 [00:00<00:00, 76.60it/s]\u001B[A\n",
      "Epoch 99: 100%|██████████| 1/1 [00:00<00:00, 15.22it/s, v_num=16, train/loss_step=0.0389, val/loss=1.020, val/error_u=0.939, val/error_v=1.230, val/error_h=0.402, val/loss_best=0.782, train/loss_epoch=0.0389]"
     ]
    },
    {
     "name": "stderr",
     "output_type": "stream",
     "text": [
      "`Trainer.fit` stopped: `max_epochs=100` reached.\n"
     ]
    },
    {
     "name": "stdout",
     "output_type": "stream",
     "text": [
      "Epoch 99: 100%|██████████| 1/1 [00:00<00:00, 12.95it/s, v_num=16, train/loss_step=0.0389, val/loss=1.020, val/error_u=0.939, val/error_v=1.230, val/error_h=0.402, val/loss_best=0.782, train/loss_epoch=0.0389]\n"
     ]
    }
   ],
   "execution_count": 32
  },
  {
   "metadata": {
    "ExecuteTime": {
     "end_time": "2025-09-17T23:28:44.391935Z",
     "start_time": "2025-09-17T23:28:44.383388Z"
    }
   },
   "cell_type": "code",
   "source": [
    "total_time = end_time - start_time\n",
    "hours = total_time // 3600\n",
    "minutes = (total_time % 3600) // 60\n",
    "seconds = total_time % 60\n",
    "\n",
    "print(f\"Training time: {hours}h {minutes}m {seconds}s\")"
   ],
   "id": "6114c9b21f14bdb3",
   "outputs": [
    {
     "name": "stdout",
     "output_type": "stream",
     "text": [
      "Training time: 0.0h 0.0m 15.650763988494873s\n"
     ]
    }
   ],
   "execution_count": 33
  },
  {
   "metadata": {
    "ExecuteTime": {
     "end_time": "2025-09-17T23:28:44.453108Z",
     "start_time": "2025-09-17T23:28:44.407357Z"
    }
   },
   "cell_type": "code",
   "source": "trainer.validate(model=model, datamodule=datamodule)",
   "id": "d6c1ca6340ef110a",
   "outputs": [
    {
     "name": "stderr",
     "output_type": "stream",
     "text": [
      "LOCAL_RANK: 0 - CUDA_VISIBLE_DEVICES: [0]\n"
     ]
    },
    {
     "name": "stdout",
     "output_type": "stream",
     "text": [
      "Validation DataLoader 0: 100%|██████████| 1/1 [00:00<00:00, 52.07it/s]\n"
     ]
    },
    {
     "data": {
      "text/plain": [
       "┏━━━━━━━━━━━━━━━━━━━━━━━━━━━┳━━━━━━━━━━━━━━━━━━━━━━━━━━━┓\n",
       "┃\u001B[1m \u001B[0m\u001B[1m     Validate metric     \u001B[0m\u001B[1m \u001B[0m┃\u001B[1m \u001B[0m\u001B[1m      DataLoader 0       \u001B[0m\u001B[1m \u001B[0m┃\n",
       "┡━━━━━━━━━━━━━━━━━━━━━━━━━━━╇━━━━━━━━━━━━━━━━━━━━━━━━━━━┩\n",
       "│\u001B[36m \u001B[0m\u001B[36m       val/error_h       \u001B[0m\u001B[36m \u001B[0m│\u001B[35m \u001B[0m\u001B[35m   0.40183061361312866   \u001B[0m\u001B[35m \u001B[0m│\n",
       "│\u001B[36m \u001B[0m\u001B[36m       val/error_u       \u001B[0m\u001B[36m \u001B[0m│\u001B[35m \u001B[0m\u001B[35m   0.9386854767799377    \u001B[0m\u001B[35m \u001B[0m│\n",
       "│\u001B[36m \u001B[0m\u001B[36m       val/error_v       \u001B[0m\u001B[36m \u001B[0m│\u001B[35m \u001B[0m\u001B[35m   1.2286618947982788    \u001B[0m\u001B[35m \u001B[0m│\n",
       "│\u001B[36m \u001B[0m\u001B[36m        val/loss         \u001B[0m\u001B[36m \u001B[0m│\u001B[35m \u001B[0m\u001B[35m   1.0242661237716675    \u001B[0m\u001B[35m \u001B[0m│\n",
       "│\u001B[36m \u001B[0m\u001B[36m      val/loss_best      \u001B[0m\u001B[36m \u001B[0m│\u001B[35m \u001B[0m\u001B[35m   0.7818220257759094    \u001B[0m\u001B[35m \u001B[0m│\n",
       "└───────────────────────────┴───────────────────────────┘\n"
      ],
      "text/html": [
       "<pre style=\"white-space:pre;overflow-x:auto;line-height:normal;font-family:Menlo,'DejaVu Sans Mono',consolas,'Courier New',monospace\">┏━━━━━━━━━━━━━━━━━━━━━━━━━━━┳━━━━━━━━━━━━━━━━━━━━━━━━━━━┓\n",
       "┃<span style=\"font-weight: bold\">      Validate metric      </span>┃<span style=\"font-weight: bold\">       DataLoader 0        </span>┃\n",
       "┡━━━━━━━━━━━━━━━━━━━━━━━━━━━╇━━━━━━━━━━━━━━━━━━━━━━━━━━━┩\n",
       "│<span style=\"color: #008080; text-decoration-color: #008080\">        val/error_h        </span>│<span style=\"color: #800080; text-decoration-color: #800080\">    0.40183061361312866    </span>│\n",
       "│<span style=\"color: #008080; text-decoration-color: #008080\">        val/error_u        </span>│<span style=\"color: #800080; text-decoration-color: #800080\">    0.9386854767799377     </span>│\n",
       "│<span style=\"color: #008080; text-decoration-color: #008080\">        val/error_v        </span>│<span style=\"color: #800080; text-decoration-color: #800080\">    1.2286618947982788     </span>│\n",
       "│<span style=\"color: #008080; text-decoration-color: #008080\">         val/loss          </span>│<span style=\"color: #800080; text-decoration-color: #800080\">    1.0242661237716675     </span>│\n",
       "│<span style=\"color: #008080; text-decoration-color: #008080\">       val/loss_best       </span>│<span style=\"color: #800080; text-decoration-color: #800080\">    0.7818220257759094     </span>│\n",
       "└───────────────────────────┴───────────────────────────┘\n",
       "</pre>\n"
      ]
     },
     "metadata": {},
     "output_type": "display_data"
    },
    {
     "data": {
      "text/plain": [
       "[{'val/loss': 1.0242661237716675,\n",
       "  'val/error_u': 0.9386854767799377,\n",
       "  'val/error_v': 1.2286618947982788,\n",
       "  'val/error_h': 0.40183061361312866,\n",
       "  'val/loss_best': 0.7818220257759094}]"
      ]
     },
     "execution_count": 34,
     "metadata": {},
     "output_type": "execute_result"
    }
   ],
   "execution_count": 34
  },
  {
   "metadata": {
    "ExecuteTime": {
     "end_time": "2025-09-17T23:28:44.529267Z",
     "start_time": "2025-09-17T23:28:44.493888Z"
    }
   },
   "cell_type": "code",
   "source": [
    "preds_list = trainer.predict(model=model, datamodule=datamodule)\n",
    "preds_dict = pinnstorch.utils.fix_predictions(preds_list)"
   ],
   "id": "fe225aa51b126829",
   "outputs": [
    {
     "name": "stderr",
     "output_type": "stream",
     "text": [
      "LOCAL_RANK: 0 - CUDA_VISIBLE_DEVICES: [0]\n"
     ]
    },
    {
     "name": "stdout",
     "output_type": "stream",
     "text": [
      "Predicting DataLoader 0: 100%|██████████| 1/1 [00:00<00:00, 79.43it/s] \n"
     ]
    }
   ],
   "execution_count": 35
  },
  {
   "metadata": {
    "ExecuteTime": {
     "end_time": "2025-09-17T23:28:45.860912Z",
     "start_time": "2025-09-17T23:28:44.540673Z"
    }
   },
   "cell_type": "code",
   "source": [
    "pinnstorch.utils.plot_schrodinger(mesh=mesh,\n",
    "                                  preds=preds_dict,\n",
    "                                  train_datasets=train_datasets,\n",
    "                                  val_dataset=val_dataset,\n",
    "                                  file_name='out/3_sine')"
   ],
   "id": "699266cd59f912ef",
   "outputs": [
    {
     "data": {
      "text/plain": [
       "<Figure size 539.643x300.166 with 6 Axes>"
      ],
      "image/png": "[encoded data removed]"
     },
     "metadata": {},
     "output_type": "display_data"
    }
   ],
   "execution_count": 36
  },
  {
   "metadata": {},
   "cell_type": "markdown",
   "source": [
    "##### FINER\n",
    "\n",
    "![](finer.png)"
   ],
   "id": "f8b08eb124d12383"
  },
  {
   "metadata": {
    "ExecuteTime": {
     "end_time": "2025-09-17T23:31:39.049038Z",
     "start_time": "2025-09-17T23:31:39.034039Z"
    }
   },
   "cell_type": "code",
   "source": [
    "net_finer = pinnstorch.models.FCN(layers=layers,\n",
    "                            output_names=['u', 'v'],\n",
    "                            lb=mesh.lb,\n",
    "                            ub=mesh.ub,\n",
    "                            activation=\"FINER\",  # use registry\n",
    "                            activation_kwargs={'omega':5},  # extra params\n",
    "                            initializer=\"FINER\",  # use registry\n",
    "                            initializer_kwargs={'omega':5, 'k':0.5},  # extra params\n",
    "                            layer_type='BASE',\n",
    "                            layer_kwargs={}\n",
    "                            )"
   ],
   "id": "97e13ccb0c9de7ce",
   "outputs": [],
   "execution_count": 65
  },
  {
   "metadata": {
    "ExecuteTime": {
     "end_time": "2025-09-17T23:31:49.393197Z",
     "start_time": "2025-09-17T23:31:49.375497Z"
    }
   },
   "cell_type": "code",
   "source": [
    "model = pinnstorch.models.PINNModule(net = net_finer,\n",
    "                                     pde_fn = pde_fn,\n",
    "                                     output_fn = output_fn,\n",
    "                                     loss_fn = 'mse')"
   ],
   "id": "938e994351690afb",
   "outputs": [],
   "execution_count": 66
  },
  {
   "metadata": {
    "jupyter": {
     "is_executing": true
    },
    "ExecuteTime": {
     "start_time": "2025-09-17T23:31:50.779991Z"
    }
   },
   "cell_type": "code",
   "source": [
    "trainer = pl.Trainer(accelerator='auto', devices=1, max_epochs = num_epochs)\n",
    "start_time = time.time()\n",
    "\n",
    "trainer.fit(model=model, datamodule=datamodule)\n",
    "end_time = time.time()\n",
    "\n"
   ],
   "id": "5ccbde8af2de4ac8",
   "outputs": [
    {
     "name": "stderr",
     "output_type": "stream",
     "text": [
      "💡 Tip: For seamless cloud uploads and versioning, try installing [litmodels](https://pypi.org/project/litmodels/) to enable LitModelCheckpoint, which syncs automatically with the Lightning model registry.\n",
      "GPU available: True (cuda), used: True\n",
      "TPU available: False, using: 0 TPU cores\n",
      "HPU available: False, using: 0 HPUs\n",
      "LOCAL_RANK: 0 - CUDA_VISIBLE_DEVICES: [0]\n",
      "\n",
      "  | Name          | Type       | Params | Mode \n",
      "-----------------------------------------------------\n",
      "0 | net           | FCN        | 30.8 K | train\n",
      "1 | train_loss    | MeanMetric | 0      | train\n",
      "2 | val_loss      | MeanMetric | 0      | train\n",
      "3 | val_error     | MeanMetric | 0      | train\n",
      "4 | test_loss     | MeanMetric | 0      | train\n",
      "5 | test_error    | MeanMetric | 0      | train\n",
      "6 | val_loss_best | MinMetric  | 0      | train\n",
      "-----------------------------------------------------\n",
      "30.8 K    Trainable params\n",
      "0         Non-trainable params\n",
      "30.8 K    Total params\n",
      "0.123     Total estimated model params size (MB)\n",
      "23        Modules in train mode\n",
      "0         Modules in eval mode\n"
     ]
    },
    {
     "name": "stdout",
     "output_type": "stream",
     "text": [
      "                                                                           "
     ]
    },
    {
     "name": "stderr",
     "output_type": "stream",
     "text": [
      "C:\\Users\\micke\\anaconda3\\envs\\myenv\\lib\\site-packages\\lightning\\pytorch\\loops\\fit_loop.py:310: The number of training batches (1) is smaller than the logging interval Trainer(log_every_n_steps=50). Set a lower value for log_every_n_steps if you want to see logs for the training epoch.\n"
     ]
    },
    {
     "name": "stdout",
     "output_type": "stream",
     "text": [
      "Epoch 0:   0%|          | 0/1 [00:00<?, ?it/s]"
     ]
    },
    {
     "name": "stderr",
     "output_type": "stream",
     "text": [
      "C:\\Users\\micke\\anaconda3\\envs\\myenv\\lib\\site-packages\\torch\\jit\\_trace.py:165: UserWarning: The .grad attribute of a Tensor that is not a leaf Tensor is being accessed. Its .grad attribute won't be populated during autograd.backward(). If you indeed want the .grad field to be populated for a non-leaf Tensor, use .retain_grad() on the non-leaf Tensor. If you access the non-leaf Tensor by mistake, make sure you access the leaf Tensor instead. See github.com/pytorch/pytorch/pull/30531 for more informations. (Triggered internally at C:\\actions-runner\\_work\\pytorch\\pytorch\\pytorch\\build\\aten\\src\\ATen/core/TensorBody.h:494.)\n",
      "  if a.grad is not None:\n"
     ]
    },
    {
     "name": "stdout",
     "output_type": "stream",
     "text": [
      "Epoch 0: 100%|██████████| 1/1 [00:00<00:00,  1.13it/s, v_num=21, train/loss_step=20.50]\n",
      "Validation: |          | 0/? [00:00<?, ?it/s]\u001B[A\n",
      "Validation: |          | 0/? [00:00<?, ?it/s]\u001B[A\n",
      "Validation DataLoader 0:   0%|          | 0/1 [00:00<?, ?it/s]\u001B[A\n",
      "Validation DataLoader 0: 100%|██████████| 1/1 [00:00<00:00, 82.86it/s]\u001B[A\n",
      "Epoch 1: 100%|██████████| 1/1 [00:04<00:00,  0.24it/s, v_num=21, train/loss_step=11.40, val/loss=1.590, val/error_u=0.997, val/error_v=1.390, val/error_h=0.799, val/loss_best=1.590, train/loss_epoch=20.50]\n",
      "Validation: |          | 0/? [00:00<?, ?it/s]\u001B[A\n",
      "Validation: |          | 0/? [00:00<?, ?it/s]\u001B[A\n",
      "Validation DataLoader 0:   0%|          | 0/1 [00:00<?, ?it/s]\u001B[A\n",
      "Validation DataLoader 0: 100%|██████████| 1/1 [00:00<00:00, 22.34it/s]\u001B[A\n",
      "Epoch 2: 100%|██████████| 1/1 [00:00<00:00,  5.82it/s, v_num=21, train/loss_step=6.010, val/loss=1.540, val/error_u=0.960, val/error_v=1.390, val/error_h=0.789, val/loss_best=1.540, train/loss_epoch=11.40]\n",
      "Validation: |          | 0/? [00:00<?, ?it/s]\u001B[A\n",
      "Validation: |          | 0/? [00:00<?, ?it/s]\u001B[A\n",
      "Validation DataLoader 0:   0%|          | 0/1 [00:00<?, ?it/s]\u001B[A\n",
      "Validation DataLoader 0: 100%|██████████| 1/1 [00:00<00:00, 70.64it/s]\u001B[A\n",
      "Epoch 3: 100%|██████████| 1/1 [00:00<00:00, 19.32it/s, v_num=21, train/loss_step=4.490, val/loss=1.490, val/error_u=0.928, val/error_v=1.380, val/error_h=0.784, val/loss_best=1.490, train/loss_epoch=6.010]\n",
      "Validation: |          | 0/? [00:00<?, ?it/s]\u001B[A\n",
      "Validation: |          | 0/? [00:00<?, ?it/s]\u001B[A\n",
      "Validation DataLoader 0:   0%|          | 0/1 [00:00<?, ?it/s]\u001B[A\n",
      "Validation DataLoader 0: 100%|██████████| 1/1 [00:00<00:00, 67.86it/s]\u001B[A\n",
      "Epoch 4: 100%|██████████| 1/1 [00:00<00:00, 18.90it/s, v_num=21, train/loss_step=3.410, val/loss=1.450, val/error_u=0.910, val/error_v=1.350, val/error_h=0.782, val/loss_best=1.450, train/loss_epoch=4.490]\n",
      "Validation: |          | 0/? [00:00<?, ?it/s]\u001B[A\n",
      "Validation: |          | 0/? [00:00<?, ?it/s]\u001B[A\n",
      "Validation DataLoader 0:   0%|          | 0/1 [00:00<?, ?it/s]\u001B[A\n",
      "Validation DataLoader 0: 100%|██████████| 1/1 [00:00<00:00, 74.68it/s]\u001B[A\n",
      "Epoch 5: 100%|██████████| 1/1 [00:00<00:00, 20.07it/s, v_num=21, train/loss_step=2.760, val/loss=1.430, val/error_u=0.902, val/error_v=1.330, val/error_h=0.782, val/loss_best=1.430, train/loss_epoch=3.410]\n",
      "Validation: |          | 0/? [00:00<?, ?it/s]\u001B[A\n",
      "Validation: |          | 0/? [00:00<?, ?it/s]\u001B[A\n",
      "Validation DataLoader 0:   0%|          | 0/1 [00:00<?, ?it/s]\u001B[A\n",
      "Validation DataLoader 0: 100%|██████████| 1/1 [00:00<00:00, 49.32it/s]\u001B[A\n",
      "Epoch 6: 100%|██████████| 1/1 [00:00<00:00, 21.23it/s, v_num=21, train/loss_step=2.290, val/loss=1.400, val/error_u=0.897, val/error_v=1.300, val/error_h=0.782, val/loss_best=1.400, train/loss_epoch=2.760]\n",
      "Validation: |          | 0/? [00:00<?, ?it/s]\u001B[A\n",
      "Validation: |          | 0/? [00:00<?, ?it/s]\u001B[A\n",
      "Validation DataLoader 0:   0%|          | 0/1 [00:00<?, ?it/s]\u001B[A\n",
      "Validation DataLoader 0: 100%|██████████| 1/1 [00:00<00:00, 64.54it/s]\u001B[A\n",
      "Epoch 7: 100%|██████████| 1/1 [00:00<00:00, 22.15it/s, v_num=21, train/loss_step=1.940, val/loss=1.380, val/error_u=0.892, val/error_v=1.280, val/error_h=0.781, val/loss_best=1.380, train/loss_epoch=2.290]\n",
      "Validation: |          | 0/? [00:00<?, ?it/s]\u001B[A\n",
      "Validation: |          | 0/? [00:00<?, ?it/s]\u001B[A\n",
      "Validation DataLoader 0:   0%|          | 0/1 [00:00<?, ?it/s]\u001B[A\n",
      "Validation DataLoader 0: 100%|██████████| 1/1 [00:00<00:00, 73.04it/s]\u001B[A\n",
      "Epoch 8: 100%|██████████| 1/1 [00:00<00:00, 18.94it/s, v_num=21, train/loss_step=1.680, val/loss=1.360, val/error_u=0.886, val/error_v=1.260, val/error_h=0.778, val/loss_best=1.360, train/loss_epoch=1.940]\n",
      "Validation: |          | 0/? [00:00<?, ?it/s]\u001B[A\n",
      "Validation: |          | 0/? [00:00<?, ?it/s]\u001B[A\n",
      "Validation DataLoader 0:   0%|          | 0/1 [00:00<?, ?it/s]\u001B[A\n",
      "Validation DataLoader 0: 100%|██████████| 1/1 [00:00<00:00, 61.20it/s]\u001B[A\n",
      "Epoch 9: 100%|██████████| 1/1 [00:00<00:00, 21.82it/s, v_num=21, train/loss_step=1.460, val/loss=1.330, val/error_u=0.878, val/error_v=1.250, val/error_h=0.774, val/loss_best=1.330, train/loss_epoch=1.680]\n",
      "Validation: |          | 0/? [00:00<?, ?it/s]\u001B[A\n",
      "Validation: |          | 0/? [00:00<?, ?it/s]\u001B[A\n",
      "Validation DataLoader 0:   0%|          | 0/1 [00:00<?, ?it/s]\u001B[A\n",
      "Validation DataLoader 0: 100%|██████████| 1/1 [00:00<00:00, 87.44it/s]\u001B[A\n",
      "Epoch 10: 100%|██████████| 1/1 [00:00<00:00, 20.84it/s, v_num=21, train/loss_step=1.260, val/loss=1.310, val/error_u=0.870, val/error_v=1.240, val/error_h=0.768, val/loss_best=1.310, train/loss_epoch=1.460]\n",
      "Validation: |          | 0/? [00:00<?, ?it/s]\u001B[A\n",
      "Validation: |          | 0/? [00:00<?, ?it/s]\u001B[A\n",
      "Validation DataLoader 0:   0%|          | 0/1 [00:00<?, ?it/s]\u001B[A\n",
      "Validation DataLoader 0: 100%|██████████| 1/1 [00:00<00:00, 76.74it/s]\u001B[A\n",
      "Epoch 11: 100%|██████████| 1/1 [00:00<00:00, 23.00it/s, v_num=21, train/loss_step=1.110, val/loss=1.290, val/error_u=0.861, val/error_v=1.230, val/error_h=0.762, val/loss_best=1.290, train/loss_epoch=1.260]\n",
      "Validation: |          | 0/? [00:00<?, ?it/s]\u001B[A\n",
      "Validation: |          | 0/? [00:00<?, ?it/s]\u001B[A\n",
      "Validation DataLoader 0:   0%|          | 0/1 [00:00<?, ?it/s]\u001B[A\n",
      "Validation DataLoader 0: 100%|██████████| 1/1 [00:00<00:00, 38.18it/s]\u001B[A\n",
      "Epoch 12: 100%|██████████| 1/1 [00:00<00:00, 22.02it/s, v_num=21, train/loss_step=1.000, val/loss=1.270, val/error_u=0.851, val/error_v=1.220, val/error_h=0.756, val/loss_best=1.270, train/loss_epoch=1.110]\n",
      "Validation: |          | 0/? [00:00<?, ?it/s]\u001B[A\n",
      "Validation: |          | 0/? [00:00<?, ?it/s]\u001B[A\n",
      "Validation DataLoader 0:   0%|          | 0/1 [00:00<?, ?it/s]\u001B[A\n",
      "Validation DataLoader 0: 100%|██████████| 1/1 [00:00<00:00, 76.45it/s]\u001B[A\n",
      "Epoch 13: 100%|██████████| 1/1 [00:00<00:00, 20.30it/s, v_num=21, train/loss_step=0.911, val/loss=1.250, val/error_u=0.843, val/error_v=1.210, val/error_h=0.751, val/loss_best=1.250, train/loss_epoch=1.000]\n",
      "Validation: |          | 0/? [00:00<?, ?it/s]\u001B[A\n",
      "Validation: |          | 0/? [00:00<?, ?it/s]\u001B[A\n",
      "Validation DataLoader 0:   0%|          | 0/1 [00:00<?, ?it/s]\u001B[A\n",
      "Validation DataLoader 0: 100%|██████████| 1/1 [00:00<00:00, 73.37it/s]\u001B[A\n",
      "Epoch 14: 100%|██████████| 1/1 [00:00<00:00, 21.42it/s, v_num=21, train/loss_step=0.827, val/loss=1.230, val/error_u=0.835, val/error_v=1.200, val/error_h=0.746, val/loss_best=1.230, train/loss_epoch=0.911]\n",
      "Validation: |          | 0/? [00:00<?, ?it/s]\u001B[A\n",
      "Validation: |          | 0/? [00:00<?, ?it/s]\u001B[A\n",
      "Validation DataLoader 0:   0%|          | 0/1 [00:00<?, ?it/s]\u001B[A\n",
      "Validation DataLoader 0: 100%|██████████| 1/1 [00:00<00:00, 53.24it/s]\u001B[A\n",
      "Epoch 15: 100%|██████████| 1/1 [00:00<00:00, 23.64it/s, v_num=21, train/loss_step=0.754, val/loss=1.210, val/error_u=0.830, val/error_v=1.190, val/error_h=0.741, val/loss_best=1.210, train/loss_epoch=0.827]\n",
      "Validation: |          | 0/? [00:00<?, ?it/s]\u001B[A\n",
      "Validation: |          | 0/? [00:00<?, ?it/s]\u001B[A\n",
      "Validation DataLoader 0:   0%|          | 0/1 [00:00<?, ?it/s]\u001B[A\n",
      "Validation DataLoader 0: 100%|██████████| 1/1 [00:00<00:00, 42.89it/s]\u001B[A\n",
      "Epoch 16: 100%|██████████| 1/1 [00:00<00:00, 16.57it/s, v_num=21, train/loss_step=0.693, val/loss=1.190, val/error_u=0.825, val/error_v=1.180, val/error_h=0.737, val/loss_best=1.190, train/loss_epoch=0.754]\n",
      "Validation: |          | 0/? [00:00<?, ?it/s]\u001B[A\n",
      "Validation: |          | 0/? [00:00<?, ?it/s]\u001B[A\n",
      "Validation DataLoader 0:   0%|          | 0/1 [00:00<?, ?it/s]\u001B[A\n",
      "Validation DataLoader 0: 100%|██████████| 1/1 [00:00<00:00, 50.94it/s]\u001B[A\n",
      "Epoch 17: 100%|██████████| 1/1 [00:00<00:00, 18.58it/s, v_num=21, train/loss_step=0.640, val/loss=1.170, val/error_u=0.821, val/error_v=1.160, val/error_h=0.733, val/loss_best=1.170, train/loss_epoch=0.693]\n",
      "Validation: |          | 0/? [00:00<?, ?it/s]\u001B[A\n",
      "Validation: |          | 0/? [00:00<?, ?it/s]\u001B[A\n",
      "Validation DataLoader 0:   0%|          | 0/1 [00:00<?, ?it/s]\u001B[A\n",
      "Validation DataLoader 0: 100%|██████████| 1/1 [00:00<00:00, 46.76it/s]\u001B[A\n",
      "Epoch 18: 100%|██████████| 1/1 [00:00<00:00, 20.78it/s, v_num=21, train/loss_step=0.595, val/loss=1.160, val/error_u=0.816, val/error_v=1.150, val/error_h=0.729, val/loss_best=1.160, train/loss_epoch=0.640]\n",
      "Validation: |          | 0/? [00:00<?, ?it/s]\u001B[A\n",
      "Validation: |          | 0/? [00:00<?, ?it/s]\u001B[A\n",
      "Validation DataLoader 0:   0%|          | 0/1 [00:00<?, ?it/s]\u001B[A\n",
      "Validation DataLoader 0: 100%|██████████| 1/1 [00:00<00:00, 57.95it/s]\u001B[A\n",
      "Epoch 19: 100%|██████████| 1/1 [00:00<00:00, 20.56it/s, v_num=21, train/loss_step=0.555, val/loss=1.140, val/error_u=0.812, val/error_v=1.140, val/error_h=0.725, val/loss_best=1.140, train/loss_epoch=0.595]\n",
      "Validation: |          | 0/? [00:00<?, ?it/s]\u001B[A\n",
      "Validation: |          | 0/? [00:00<?, ?it/s]\u001B[A\n",
      "Validation DataLoader 0:   0%|          | 0/1 [00:00<?, ?it/s]\u001B[A\n",
      "Validation DataLoader 0: 100%|██████████| 1/1 [00:00<00:00, 57.46it/s]\u001B[A\n",
      "Epoch 20: 100%|██████████| 1/1 [00:00<00:00, 20.30it/s, v_num=21, train/loss_step=0.518, val/loss=1.120, val/error_u=0.807, val/error_v=1.130, val/error_h=0.720, val/loss_best=1.120, train/loss_epoch=0.555]\n",
      "Validation: |          | 0/? [00:00<?, ?it/s]\u001B[A\n",
      "Validation: |          | 0/? [00:00<?, ?it/s]\u001B[A\n",
      "Validation DataLoader 0:   0%|          | 0/1 [00:00<?, ?it/s]\u001B[A\n",
      "Validation DataLoader 0: 100%|██████████| 1/1 [00:00<00:00, 54.91it/s]\u001B[A\n",
      "Epoch 21: 100%|██████████| 1/1 [00:00<00:00, 18.54it/s, v_num=21, train/loss_step=0.483, val/loss=1.110, val/error_u=0.804, val/error_v=1.120, val/error_h=0.716, val/loss_best=1.110, train/loss_epoch=0.518]\n",
      "Validation: |          | 0/? [00:00<?, ?it/s]\u001B[A\n",
      "Validation: |          | 0/? [00:00<?, ?it/s]\u001B[A\n",
      "Validation DataLoader 0:   0%|          | 0/1 [00:00<?, ?it/s]\u001B[A\n",
      "Validation DataLoader 0: 100%|██████████| 1/1 [00:00<00:00, 56.56it/s]\u001B[A\n",
      "Epoch 22: 100%|██████████| 1/1 [00:00<00:00, 19.78it/s, v_num=21, train/loss_step=0.451, val/loss=1.100, val/error_u=0.801, val/error_v=1.110, val/error_h=0.712, val/loss_best=1.100, train/loss_epoch=0.483]\n",
      "Validation: |          | 0/? [00:00<?, ?it/s]\u001B[A\n",
      "Validation: |          | 0/? [00:00<?, ?it/s]\u001B[A\n",
      "Validation DataLoader 0:   0%|          | 0/1 [00:00<?, ?it/s]\u001B[A\n",
      "Validation DataLoader 0: 100%|██████████| 1/1 [00:00<00:00, 57.75it/s]\u001B[A\n",
      "Epoch 23: 100%|██████████| 1/1 [00:00<00:00, 19.16it/s, v_num=21, train/loss_step=0.427, val/loss=1.080, val/error_u=0.799, val/error_v=1.100, val/error_h=0.708, val/loss_best=1.080, train/loss_epoch=0.451]\n",
      "Validation: |          | 0/? [00:00<?, ?it/s]\u001B[A\n",
      "Validation: |          | 0/? [00:00<?, ?it/s]\u001B[A\n",
      "Validation DataLoader 0:   0%|          | 0/1 [00:00<?, ?it/s]\u001B[A\n",
      "Validation DataLoader 0: 100%|██████████| 1/1 [00:00<00:00, 53.88it/s]\u001B[A\n",
      "Epoch 24: 100%|██████████| 1/1 [00:00<00:00, 21.57it/s, v_num=21, train/loss_step=0.406, val/loss=1.070, val/error_u=0.798, val/error_v=1.090, val/error_h=0.704, val/loss_best=1.070, train/loss_epoch=0.427]\n",
      "Validation: |          | 0/? [00:00<?, ?it/s]\u001B[A\n",
      "Validation: |          | 0/? [00:00<?, ?it/s]\u001B[A\n",
      "Validation DataLoader 0:   0%|          | 0/1 [00:00<?, ?it/s]\u001B[A\n",
      "Validation DataLoader 0: 100%|██████████| 1/1 [00:00<00:00, 74.90it/s]\u001B[A\n",
      "Epoch 25: 100%|██████████| 1/1 [00:00<00:00, 20.54it/s, v_num=21, train/loss_step=0.385, val/loss=1.060, val/error_u=0.797, val/error_v=1.080, val/error_h=0.699, val/loss_best=1.060, train/loss_epoch=0.406]\n",
      "Validation: |          | 0/? [00:00<?, ?it/s]\u001B[A\n",
      "Validation: |          | 0/? [00:00<?, ?it/s]\u001B[A\n",
      "Validation DataLoader 0:   0%|          | 0/1 [00:00<?, ?it/s]\u001B[A\n",
      "Validation DataLoader 0: 100%|██████████| 1/1 [00:00<00:00, 72.15it/s]\u001B[A\n",
      "Epoch 26: 100%|██████████| 1/1 [00:00<00:00, 20.20it/s, v_num=21, train/loss_step=0.364, val/loss=1.050, val/error_u=0.796, val/error_v=1.070, val/error_h=0.694, val/loss_best=1.050, train/loss_epoch=0.385]\n",
      "Validation: |          | 0/? [00:00<?, ?it/s]\u001B[A\n",
      "Validation: |          | 0/? [00:00<?, ?it/s]\u001B[A\n",
      "Validation DataLoader 0:   0%|          | 0/1 [00:00<?, ?it/s]\u001B[A\n",
      "Validation DataLoader 0: 100%|██████████| 1/1 [00:00<00:00, 77.30it/s]\u001B[A\n",
      "Epoch 27: 100%|██████████| 1/1 [00:00<00:00, 18.82it/s, v_num=21, train/loss_step=0.346, val/loss=1.040, val/error_u=0.795, val/error_v=1.070, val/error_h=0.689, val/loss_best=1.040, train/loss_epoch=0.364]\n",
      "Validation: |          | 0/? [00:00<?, ?it/s]\u001B[A\n",
      "Validation: |          | 0/? [00:00<?, ?it/s]\u001B[A\n",
      "Validation DataLoader 0:   0%|          | 0/1 [00:00<?, ?it/s]\u001B[A\n",
      "Validation DataLoader 0: 100%|██████████| 1/1 [00:00<00:00, 58.05it/s]\u001B[A\n",
      "Epoch 28: 100%|██████████| 1/1 [00:00<00:00, 20.48it/s, v_num=21, train/loss_step=0.331, val/loss=1.030, val/error_u=0.794, val/error_v=1.060, val/error_h=0.684, val/loss_best=1.030, train/loss_epoch=0.346]\n",
      "Validation: |          | 0/? [00:00<?, ?it/s]\u001B[A\n",
      "Validation: |          | 0/? [00:00<?, ?it/s]\u001B[A\n",
      "Validation DataLoader 0:   0%|          | 0/1 [00:00<?, ?it/s]\u001B[A\n",
      "Validation DataLoader 0: 100%|██████████| 1/1 [00:00<00:00, 59.62it/s]\u001B[A\n",
      "Epoch 29: 100%|██████████| 1/1 [00:00<00:00, 20.64it/s, v_num=21, train/loss_step=0.318, val/loss=1.020, val/error_u=0.793, val/error_v=1.050, val/error_h=0.679, val/loss_best=1.020, train/loss_epoch=0.331]\n",
      "Validation: |          | 0/? [00:00<?, ?it/s]\u001B[A\n",
      "Validation: |          | 0/? [00:00<?, ?it/s]\u001B[A\n",
      "Validation DataLoader 0:   0%|          | 0/1 [00:00<?, ?it/s]\u001B[A\n",
      "Validation DataLoader 0: 100%|██████████| 1/1 [00:00<00:00, 68.17it/s]\u001B[A\n",
      "Epoch 30: 100%|██████████| 1/1 [00:00<00:00, 22.18it/s, v_num=21, train/loss_step=0.305, val/loss=1.010, val/error_u=0.793, val/error_v=1.040, val/error_h=0.674, val/loss_best=1.010, train/loss_epoch=0.318]\n",
      "Validation: |          | 0/? [00:00<?, ?it/s]\u001B[A\n",
      "Validation: |          | 0/? [00:00<?, ?it/s]\u001B[A\n",
      "Validation DataLoader 0:   0%|          | 0/1 [00:00<?, ?it/s]\u001B[A\n",
      "Validation DataLoader 0: 100%|██████████| 1/1 [00:00<00:00, 60.84it/s]\u001B[A\n",
      "Epoch 31: 100%|██████████| 1/1 [00:00<00:00, 20.63it/s, v_num=21, train/loss_step=0.292, val/loss=0.995, val/error_u=0.792, val/error_v=1.040, val/error_h=0.669, val/loss_best=0.995, train/loss_epoch=0.305]\n",
      "Validation: |          | 0/? [00:00<?, ?it/s]\u001B[A\n",
      "Validation: |          | 0/? [00:00<?, ?it/s]\u001B[A\n",
      "Validation DataLoader 0:   0%|          | 0/1 [00:00<?, ?it/s]\u001B[A\n",
      "Validation DataLoader 0: 100%|██████████| 1/1 [00:00<00:00, 70.52it/s]\u001B[A\n",
      "Epoch 32: 100%|██████████| 1/1 [00:00<00:00, 19.07it/s, v_num=21, train/loss_step=0.279, val/loss=0.984, val/error_u=0.790, val/error_v=1.030, val/error_h=0.664, val/loss_best=0.984, train/loss_epoch=0.292]\n",
      "Validation: |          | 0/? [00:00<?, ?it/s]\u001B[A\n",
      "Validation: |          | 0/? [00:00<?, ?it/s]\u001B[A\n",
      "Validation DataLoader 0:   0%|          | 0/1 [00:00<?, ?it/s]\u001B[A\n",
      "Validation DataLoader 0: 100%|██████████| 1/1 [00:00<00:00, 64.65it/s]\u001B[A\n",
      "Epoch 33: 100%|██████████| 1/1 [00:00<00:00, 20.07it/s, v_num=21, train/loss_step=0.268, val/loss=0.975, val/error_u=0.789, val/error_v=1.020, val/error_h=0.660, val/loss_best=0.975, train/loss_epoch=0.279]\n",
      "Validation: |          | 0/? [00:00<?, ?it/s]\u001B[A\n",
      "Validation: |          | 0/? [00:00<?, ?it/s]\u001B[A\n",
      "Validation DataLoader 0:   0%|          | 0/1 [00:00<?, ?it/s]\u001B[A\n",
      "Validation DataLoader 0: 100%|██████████| 1/1 [00:00<00:00, 59.57it/s]\u001B[A\n",
      "Epoch 34: 100%|██████████| 1/1 [00:00<00:00, 20.18it/s, v_num=21, train/loss_step=0.259, val/loss=0.965, val/error_u=0.787, val/error_v=1.020, val/error_h=0.656, val/loss_best=0.965, train/loss_epoch=0.268]\n",
      "Validation: |          | 0/? [00:00<?, ?it/s]\u001B[A\n",
      "Validation: |          | 0/? [00:00<?, ?it/s]\u001B[A\n",
      "Validation DataLoader 0:   0%|          | 0/1 [00:00<?, ?it/s]\u001B[A\n",
      "Validation DataLoader 0: 100%|██████████| 1/1 [00:00<00:00, 54.27it/s]\u001B[A\n",
      "Epoch 35: 100%|██████████| 1/1 [00:00<00:00, 22.54it/s, v_num=21, train/loss_step=0.250, val/loss=0.956, val/error_u=0.786, val/error_v=1.010, val/error_h=0.652, val/loss_best=0.956, train/loss_epoch=0.259]\n",
      "Validation: |          | 0/? [00:00<?, ?it/s]\u001B[A\n",
      "Validation: |          | 0/? [00:00<?, ?it/s]\u001B[A\n",
      "Validation DataLoader 0:   0%|          | 0/1 [00:00<?, ?it/s]\u001B[A\n",
      "Validation DataLoader 0: 100%|██████████| 1/1 [00:00<00:00, 57.26it/s]\u001B[A\n",
      "Epoch 36: 100%|██████████| 1/1 [00:00<00:00, 20.34it/s, v_num=21, train/loss_step=0.242, val/loss=0.948, val/error_u=0.784, val/error_v=1.010, val/error_h=0.648, val/loss_best=0.948, train/loss_epoch=0.250]\n",
      "Validation: |          | 0/? [00:00<?, ?it/s]\u001B[A\n",
      "Validation: |          | 0/? [00:00<?, ?it/s]\u001B[A\n",
      "Validation DataLoader 0:   0%|          | 0/1 [00:00<?, ?it/s]\u001B[A\n",
      "Validation DataLoader 0: 100%|██████████| 1/1 [00:00<00:00, 62.97it/s]\u001B[A\n",
      "Epoch 37: 100%|██████████| 1/1 [00:00<00:00, 21.79it/s, v_num=21, train/loss_step=0.234, val/loss=0.940, val/error_u=0.782, val/error_v=1.000, val/error_h=0.645, val/loss_best=0.940, train/loss_epoch=0.242]\n",
      "Validation: |          | 0/? [00:00<?, ?it/s]\u001B[A\n",
      "Validation: |          | 0/? [00:00<?, ?it/s]\u001B[A\n",
      "Validation DataLoader 0:   0%|          | 0/1 [00:00<?, ?it/s]\u001B[A\n",
      "Validation DataLoader 0: 100%|██████████| 1/1 [00:00<00:00, 48.02it/s]\u001B[A\n",
      "Epoch 38: 100%|██████████| 1/1 [00:00<00:00, 21.43it/s, v_num=21, train/loss_step=0.227, val/loss=0.933, val/error_u=0.781, val/error_v=0.997, val/error_h=0.641, val/loss_best=0.933, train/loss_epoch=0.234]\n",
      "Validation: |          | 0/? [00:00<?, ?it/s]\u001B[A\n",
      "Validation: |          | 0/? [00:00<?, ?it/s]\u001B[A\n",
      "Validation DataLoader 0:   0%|          | 0/1 [00:00<?, ?it/s]\u001B[A\n",
      "Validation DataLoader 0: 100%|██████████| 1/1 [00:00<00:00, 61.66it/s]\u001B[A\n",
      "Epoch 39: 100%|██████████| 1/1 [00:00<00:00, 18.82it/s, v_num=21, train/loss_step=0.220, val/loss=0.925, val/error_u=0.780, val/error_v=0.992, val/error_h=0.638, val/loss_best=0.925, train/loss_epoch=0.227]\n",
      "Validation: |          | 0/? [00:00<?, ?it/s]\u001B[A\n",
      "Validation: |          | 0/? [00:00<?, ?it/s]\u001B[A\n",
      "Validation DataLoader 0:   0%|          | 0/1 [00:00<?, ?it/s]\u001B[A\n",
      "Validation DataLoader 0: 100%|██████████| 1/1 [00:00<00:00, 70.46it/s]\u001B[A\n",
      "Epoch 40: 100%|██████████| 1/1 [00:00<00:00, 18.62it/s, v_num=21, train/loss_step=0.214, val/loss=0.919, val/error_u=0.779, val/error_v=0.988, val/error_h=0.634, val/loss_best=0.919, train/loss_epoch=0.220]\n",
      "Validation: |          | 0/? [00:00<?, ?it/s]\u001B[A\n",
      "Validation: |          | 0/? [00:00<?, ?it/s]\u001B[A\n",
      "Validation DataLoader 0:   0%|          | 0/1 [00:00<?, ?it/s]\u001B[A\n",
      "Validation DataLoader 0: 100%|██████████| 1/1 [00:00<00:00, 79.40it/s]\u001B[A\n",
      "Epoch 41: 100%|██████████| 1/1 [00:00<00:00, 20.43it/s, v_num=21, train/loss_step=0.209, val/loss=0.913, val/error_u=0.779, val/error_v=0.984, val/error_h=0.630, val/loss_best=0.913, train/loss_epoch=0.214]"
     ]
    }
   ],
   "execution_count": null
  },
  {
   "metadata": {
    "ExecuteTime": {
     "end_time": "2025-09-17T23:31:09.376759Z",
     "start_time": "2025-09-17T23:31:09.366631Z"
    }
   },
   "cell_type": "code",
   "source": [
    "total_time = end_time - start_time\n",
    "hours = total_time // 3600\n",
    "minutes = (total_time % 3600) // 60\n",
    "seconds = total_time % 60\n",
    "\n",
    "print(f\"Training time: {hours}h {minutes}m {seconds}s\")"
   ],
   "id": "269ea1a374d45d0d",
   "outputs": [
    {
     "name": "stdout",
     "output_type": "stream",
     "text": [
      "Training time: 0.0h 0.0m 14.223124027252197s\n"
     ]
    }
   ],
   "execution_count": 61
  },
  {
   "metadata": {
    "ExecuteTime": {
     "end_time": "2025-09-17T23:31:09.453353Z",
     "start_time": "2025-09-17T23:31:09.392897Z"
    }
   },
   "cell_type": "code",
   "source": "trainer.validate(model=model, datamodule=datamodule)",
   "id": "598247462d48658b",
   "outputs": [
    {
     "name": "stderr",
     "output_type": "stream",
     "text": [
      "LOCAL_RANK: 0 - CUDA_VISIBLE_DEVICES: [0]\n"
     ]
    },
    {
     "name": "stdout",
     "output_type": "stream",
     "text": [
      "Validation DataLoader 0: 100%|██████████| 1/1 [00:00<00:00, 51.88it/s]\n"
     ]
    },
    {
     "data": {
      "text/plain": [
       "┏━━━━━━━━━━━━━━━━━━━━━━━━━━━┳━━━━━━━━━━━━━━━━━━━━━━━━━━━┓\n",
       "┃\u001B[1m \u001B[0m\u001B[1m     Validate metric     \u001B[0m\u001B[1m \u001B[0m┃\u001B[1m \u001B[0m\u001B[1m      DataLoader 0       \u001B[0m\u001B[1m \u001B[0m┃\n",
       "┡━━━━━━━━━━━━━━━━━━━━━━━━━━━╇━━━━━━━━━━━━━━━━━━━━━━━━━━━┩\n",
       "│\u001B[36m \u001B[0m\u001B[36m       val/error_h       \u001B[0m\u001B[36m \u001B[0m│\u001B[35m \u001B[0m\u001B[35m   0.5061087012290955    \u001B[0m\u001B[35m \u001B[0m│\n",
       "│\u001B[36m \u001B[0m\u001B[36m       val/error_u       \u001B[0m\u001B[36m \u001B[0m│\u001B[35m \u001B[0m\u001B[35m   0.7916638851165771    \u001B[0m\u001B[35m \u001B[0m│\n",
       "│\u001B[36m \u001B[0m\u001B[36m       val/error_v       \u001B[0m\u001B[36m \u001B[0m│\u001B[35m \u001B[0m\u001B[35m   1.0211474895477295    \u001B[0m\u001B[35m \u001B[0m│\n",
       "│\u001B[36m \u001B[0m\u001B[36m        val/loss         \u001B[0m\u001B[36m \u001B[0m│\u001B[35m \u001B[0m\u001B[35m   0.8321793079376221    \u001B[0m\u001B[35m \u001B[0m│\n",
       "│\u001B[36m \u001B[0m\u001B[36m      val/loss_best      \u001B[0m\u001B[36m \u001B[0m│\u001B[35m \u001B[0m\u001B[35m   0.8321793079376221    \u001B[0m\u001B[35m \u001B[0m│\n",
       "└───────────────────────────┴───────────────────────────┘\n"
      ],
      "text/html": [
       "<pre style=\"white-space:pre;overflow-x:auto;line-height:normal;font-family:Menlo,'DejaVu Sans Mono',consolas,'Courier New',monospace\">┏━━━━━━━━━━━━━━━━━━━━━━━━━━━┳━━━━━━━━━━━━━━━━━━━━━━━━━━━┓\n",
       "┃<span style=\"font-weight: bold\">      Validate metric      </span>┃<span style=\"font-weight: bold\">       DataLoader 0        </span>┃\n",
       "┡━━━━━━━━━━━━━━━━━━━━━━━━━━━╇━━━━━━━━━━━━━━━━━━━━━━━━━━━┩\n",
       "│<span style=\"color: #008080; text-decoration-color: #008080\">        val/error_h        </span>│<span style=\"color: #800080; text-decoration-color: #800080\">    0.5061087012290955     </span>│\n",
       "│<span style=\"color: #008080; text-decoration-color: #008080\">        val/error_u        </span>│<span style=\"color: #800080; text-decoration-color: #800080\">    0.7916638851165771     </span>│\n",
       "│<span style=\"color: #008080; text-decoration-color: #008080\">        val/error_v        </span>│<span style=\"color: #800080; text-decoration-color: #800080\">    1.0211474895477295     </span>│\n",
       "│<span style=\"color: #008080; text-decoration-color: #008080\">         val/loss          </span>│<span style=\"color: #800080; text-decoration-color: #800080\">    0.8321793079376221     </span>│\n",
       "│<span style=\"color: #008080; text-decoration-color: #008080\">       val/loss_best       </span>│<span style=\"color: #800080; text-decoration-color: #800080\">    0.8321793079376221     </span>│\n",
       "└───────────────────────────┴───────────────────────────┘\n",
       "</pre>\n"
      ]
     },
     "metadata": {},
     "output_type": "display_data"
    },
    {
     "data": {
      "text/plain": [
       "[{'val/loss': 0.8321793079376221,\n",
       "  'val/error_u': 0.7916638851165771,\n",
       "  'val/error_v': 1.0211474895477295,\n",
       "  'val/error_h': 0.5061087012290955,\n",
       "  'val/loss_best': 0.8321793079376221}]"
      ]
     },
     "execution_count": 62,
     "metadata": {},
     "output_type": "execute_result"
    }
   ],
   "execution_count": 62
  },
  {
   "metadata": {
    "ExecuteTime": {
     "end_time": "2025-09-17T23:31:09.546938Z",
     "start_time": "2025-09-17T23:31:09.515541Z"
    }
   },
   "cell_type": "code",
   "source": [
    "preds_list = trainer.predict(model=model, datamodule=datamodule)\n",
    "preds_dict = pinnstorch.utils.fix_predictions(preds_list)"
   ],
   "id": "d924669affa72b03",
   "outputs": [
    {
     "name": "stderr",
     "output_type": "stream",
     "text": [
      "LOCAL_RANK: 0 - CUDA_VISIBLE_DEVICES: [0]\n"
     ]
    },
    {
     "name": "stdout",
     "output_type": "stream",
     "text": [
      "Predicting DataLoader 0: 100%|██████████| 1/1 [00:00<00:00, 105.80it/s]\n"
     ]
    }
   ],
   "execution_count": 63
  },
  {
   "metadata": {
    "ExecuteTime": {
     "end_time": "2025-09-17T23:31:10.272239Z",
     "start_time": "2025-09-17T23:31:09.557099Z"
    }
   },
   "cell_type": "code",
   "source": [
    "pinnstorch.utils.plot_schrodinger(mesh=mesh,\n",
    "                                  preds=preds_dict,\n",
    "                                  train_datasets=train_datasets,\n",
    "                                  val_dataset=val_dataset,\n",
    "                                  file_name='out/4_finer')"
   ],
   "id": "ae383e7a2e66e6a2",
   "outputs": [
    {
     "data": {
      "text/plain": [
       "<Figure size 539.643x300.166 with 6 Axes>"
      ],
      "image/png": "[encoded data removed]"
     },
     "metadata": {},
     "output_type": "display_data"
    }
   ],
   "execution_count": 64
  },
  {
   "metadata": {},
   "cell_type": "markdown",
   "source": [
    "##### GAUSSIAN\n",
    "\n",
    "![](gaussian.png)"
   ],
   "id": "8b8c34ed2af97f75"
  },
  {
   "metadata": {
    "ExecuteTime": {
     "end_time": "2025-09-17T23:29:04.716010Z",
     "start_time": "2025-09-17T23:29:04.703816Z"
    }
   },
   "cell_type": "code",
   "source": "",
   "id": "768f9cb9aebbc534",
   "outputs": [],
   "execution_count": null
  },
  {
   "metadata": {
    "ExecuteTime": {
     "end_time": "2025-09-17T23:29:04.731316Z",
     "start_time": "2025-09-17T23:29:04.721255Z"
    }
   },
   "cell_type": "code",
   "source": "",
   "id": "2b7f42af361a04e5",
   "outputs": [],
   "execution_count": null
  },
  {
   "metadata": {
    "ExecuteTime": {
     "end_time": "2025-09-17T23:29:04.746873Z",
     "start_time": "2025-09-17T23:29:04.737943Z"
    }
   },
   "cell_type": "code",
   "source": "",
   "id": "a2e685e6f41dfffa",
   "outputs": [],
   "execution_count": null
  },
  {
   "metadata": {
    "ExecuteTime": {
     "end_time": "2025-09-17T23:29:04.762079Z",
     "start_time": "2025-09-17T23:29:04.756052Z"
    }
   },
   "cell_type": "code",
   "source": "",
   "id": "209380e922fbafbf",
   "outputs": [],
   "execution_count": null
  },
  {
   "metadata": {
    "ExecuteTime": {
     "end_time": "2025-09-17T23:29:04.778202Z",
     "start_time": "2025-09-17T23:29:04.767241Z"
    }
   },
   "cell_type": "code",
   "source": "",
   "id": "64b42d3cbce4db17",
   "outputs": [],
   "execution_count": null
  },
  {
   "metadata": {
    "ExecuteTime": {
     "end_time": "2025-09-17T23:29:04.793773Z",
     "start_time": "2025-09-17T23:29:04.783213Z"
    }
   },
   "cell_type": "code",
   "source": "",
   "id": "9245168e67f6b0a1",
   "outputs": [],
   "execution_count": null
  },
  {
   "metadata": {
    "ExecuteTime": {
     "end_time": "2025-09-17T23:29:04.809393Z",
     "start_time": "2025-09-17T23:29:04.797026Z"
    }
   },
   "cell_type": "code",
   "source": "",
   "id": "8b6a40a1c1f83c92",
   "outputs": [],
   "execution_count": null
  },
  {
   "metadata": {},
   "cell_type": "markdown",
   "source": "##### GAUSSIAN W/ FINER",
   "id": "90665df762416292"
  },
  {
   "metadata": {
    "ExecuteTime": {
     "end_time": "2025-09-17T23:29:04.824855Z",
     "start_time": "2025-09-17T23:29:04.818926Z"
    }
   },
   "cell_type": "code",
   "source": "",
   "id": "cd3e3a6caf708e78",
   "outputs": [],
   "execution_count": null
  },
  {
   "metadata": {
    "ExecuteTime": {
     "end_time": "2025-09-17T23:29:04.839867Z",
     "start_time": "2025-09-17T23:29:04.828362Z"
    }
   },
   "cell_type": "code",
   "source": "",
   "id": "4fca59fe637948a3",
   "outputs": [],
   "execution_count": null
  },
  {
   "metadata": {
    "ExecuteTime": {
     "end_time": "2025-09-17T23:29:04.870267Z",
     "start_time": "2025-09-17T23:29:04.854097Z"
    }
   },
   "cell_type": "code",
   "source": "",
   "id": "e8c3905cdca6a5b9",
   "outputs": [],
   "execution_count": null
  },
  {
   "metadata": {
    "ExecuteTime": {
     "end_time": "2025-09-17T23:29:04.885838Z",
     "start_time": "2025-09-17T23:29:04.878324Z"
    }
   },
   "cell_type": "code",
   "source": "",
   "id": "fb8cae9179e5f583",
   "outputs": [],
   "execution_count": null
  },
  {
   "metadata": {
    "ExecuteTime": {
     "end_time": "2025-09-17T23:29:04.916854Z",
     "start_time": "2025-09-17T23:29:04.903762Z"
    }
   },
   "cell_type": "code",
   "source": "",
   "id": "9b3990c0722a746",
   "outputs": [],
   "execution_count": null
  },
  {
   "metadata": {
    "ExecuteTime": {
     "end_time": "2025-09-17T23:29:04.931850Z",
     "start_time": "2025-09-17T23:29:04.923080Z"
    }
   },
   "cell_type": "code",
   "source": "",
   "id": "d89bf5bcb1a8ffdf",
   "outputs": [],
   "execution_count": null
  },
  {
   "metadata": {
    "ExecuteTime": {
     "end_time": "2025-09-17T23:29:04.948256Z",
     "start_time": "2025-09-17T23:29:04.940714Z"
    }
   },
   "cell_type": "code",
   "source": "",
   "id": "b3e2c9a44f9f3170",
   "outputs": [],
   "execution_count": null
  },
  {
   "metadata": {},
   "cell_type": "markdown",
   "source": [
    "##### COMPLEX GABOR WAVELET\n",
    "\n",
    "![](wire.png)"
   ],
   "id": "13869dbf8157b521"
  },
  {
   "metadata": {
    "ExecuteTime": {
     "end_time": "2025-09-17T23:29:04.963839Z",
     "start_time": "2025-09-17T23:29:04.958328Z"
    }
   },
   "cell_type": "code",
   "source": "",
   "id": "635687b16b4ea770",
   "outputs": [],
   "execution_count": null
  },
  {
   "metadata": {
    "ExecuteTime": {
     "end_time": "2025-09-17T23:29:04.979051Z",
     "start_time": "2025-09-17T23:29:04.971365Z"
    }
   },
   "cell_type": "code",
   "source": "",
   "id": "d1994ee19009366e",
   "outputs": [],
   "execution_count": null
  },
  {
   "metadata": {
    "ExecuteTime": {
     "end_time": "2025-09-17T23:29:04.994519Z",
     "start_time": "2025-09-17T23:29:04.985386Z"
    }
   },
   "cell_type": "code",
   "source": "",
   "id": "492f50a45dc590ef",
   "outputs": [],
   "execution_count": null
  },
  {
   "metadata": {
    "ExecuteTime": {
     "end_time": "2025-09-17T23:29:05.010295Z",
     "start_time": "2025-09-17T23:29:05.004784Z"
    }
   },
   "cell_type": "code",
   "source": "",
   "id": "d66ca3c8dc84f7c2",
   "outputs": [],
   "execution_count": null
  },
  {
   "metadata": {
    "ExecuteTime": {
     "end_time": "2025-09-17T23:29:05.026Z",
     "start_time": "2025-09-17T23:29:05.016405Z"
    }
   },
   "cell_type": "code",
   "source": "",
   "id": "f4101a9e3575aa64",
   "outputs": [],
   "execution_count": null
  },
  {
   "metadata": {
    "ExecuteTime": {
     "end_time": "2025-09-17T23:29:05.041179Z",
     "start_time": "2025-09-17T23:29:05.035133Z"
    }
   },
   "cell_type": "code",
   "source": "",
   "id": "418874c112bbb832",
   "outputs": [],
   "execution_count": null
  },
  {
   "metadata": {
    "ExecuteTime": {
     "end_time": "2025-09-17T23:29:05.056496Z",
     "start_time": "2025-09-17T23:29:05.051496Z"
    }
   },
   "cell_type": "code",
   "source": "",
   "id": "84621dc4b281b53c",
   "outputs": [],
   "execution_count": null
  },
  {
   "metadata": {},
   "cell_type": "markdown",
   "source": "##### COMPLEX GABOR WAVELET W/ FINER",
   "id": "21f1ef320f8c4efd"
  },
  {
   "metadata": {
    "ExecuteTime": {
     "end_time": "2025-09-17T23:29:05.072378Z",
     "start_time": "2025-09-17T23:29:05.060262Z"
    }
   },
   "cell_type": "code",
   "source": "",
   "id": "e5c103bf542d519",
   "outputs": [],
   "execution_count": null
  },
  {
   "metadata": {
    "ExecuteTime": {
     "end_time": "2025-09-17T23:29:05.087653Z",
     "start_time": "2025-09-17T23:29:05.077065Z"
    }
   },
   "cell_type": "code",
   "source": "",
   "id": "dd8ef408ee8182f9",
   "outputs": [],
   "execution_count": null
  },
  {
   "metadata": {
    "ExecuteTime": {
     "end_time": "2025-09-17T23:29:05.102860Z",
     "start_time": "2025-09-17T23:29:05.093809Z"
    }
   },
   "cell_type": "code",
   "source": "",
   "id": "2263dc90d5ce13ce",
   "outputs": [],
   "execution_count": null
  },
  {
   "metadata": {
    "ExecuteTime": {
     "end_time": "2025-09-17T23:29:05.118160Z",
     "start_time": "2025-09-17T23:29:05.107514Z"
    }
   },
   "cell_type": "code",
   "source": "",
   "id": "c21b0069aba33c11",
   "outputs": [],
   "execution_count": null
  },
  {
   "metadata": {
    "ExecuteTime": {
     "end_time": "2025-09-17T23:29:05.133071Z",
     "start_time": "2025-09-17T23:29:05.123873Z"
    }
   },
   "cell_type": "code",
   "source": "",
   "id": "4874e03c0df922e9",
   "outputs": [],
   "execution_count": null
  },
  {
   "metadata": {
    "ExecuteTime": {
     "end_time": "2025-09-17T23:29:05.148283Z",
     "start_time": "2025-09-17T23:29:05.139089Z"
    }
   },
   "cell_type": "code",
   "source": "",
   "id": "1dfe77348d157d02",
   "outputs": [],
   "execution_count": null
  },
  {
   "metadata": {
    "ExecuteTime": {
     "end_time": "2025-09-17T23:29:05.163873Z",
     "start_time": "2025-09-17T23:29:05.156835Z"
    }
   },
   "cell_type": "code",
   "source": "",
   "id": "575ffc61d3eee20d",
   "outputs": [],
   "execution_count": null
  },
  {
   "metadata": {},
   "cell_type": "markdown",
   "source": [
    "##### HYPERBOLIC SINE\n",
    "\n",
    "![](hosc.png)"
   ],
   "id": "17ac78c45c3087ca",
   "attachments": {
    "eab5e98c-2c82-4599-9216-66d2d9baa920.png": {
     "image/png": "[encoded data removed]"
    }
   }
  },
  {
   "metadata": {
    "ExecuteTime": {
     "end_time": "2025-09-17T23:29:05.179694Z",
     "start_time": "2025-09-17T23:29:05.167621Z"
    }
   },
   "cell_type": "code",
   "source": "",
   "id": "5bae23bf941bfc58",
   "outputs": [],
   "execution_count": null
  },
  {
   "metadata": {
    "ExecuteTime": {
     "end_time": "2025-09-17T23:29:05.194857Z",
     "start_time": "2025-09-17T23:29:05.188270Z"
    }
   },
   "cell_type": "code",
   "source": "",
   "id": "6efa2ae223ee21f",
   "outputs": [],
   "execution_count": null
  },
  {
   "metadata": {
    "ExecuteTime": {
     "end_time": "2025-09-17T23:29:05.210458Z",
     "start_time": "2025-09-17T23:29:05.198873Z"
    }
   },
   "cell_type": "code",
   "source": "",
   "id": "9c9f2a054619d2b1",
   "outputs": [],
   "execution_count": null
  },
  {
   "metadata": {
    "ExecuteTime": {
     "end_time": "2025-09-17T23:29:05.241677Z",
     "start_time": "2025-09-17T23:29:05.232625Z"
    }
   },
   "cell_type": "code",
   "source": "",
   "id": "b42fe1a8598bdaaa",
   "outputs": [],
   "execution_count": null
  },
  {
   "metadata": {
    "ExecuteTime": {
     "end_time": "2025-09-17T23:29:05.257371Z",
     "start_time": "2025-09-17T23:29:05.248331Z"
    }
   },
   "cell_type": "code",
   "source": "",
   "id": "e967068f1ebeedbd",
   "outputs": [],
   "execution_count": null
  },
  {
   "metadata": {
    "ExecuteTime": {
     "end_time": "2025-09-17T23:29:05.273251Z",
     "start_time": "2025-09-17T23:29:05.264135Z"
    }
   },
   "cell_type": "code",
   "source": "",
   "id": "da322e8bbcb30f7d",
   "outputs": [],
   "execution_count": null
  },
  {
   "metadata": {
    "ExecuteTime": {
     "end_time": "2025-09-17T23:29:05.288856Z",
     "start_time": "2025-09-17T23:29:05.279811Z"
    }
   },
   "cell_type": "code",
   "source": "",
   "id": "a9241258df6e8002",
   "outputs": [],
   "execution_count": null
  },
  {
   "metadata": {},
   "cell_type": "markdown",
   "source": "##### HYPERBOLIC SINE W/ FINER",
   "id": "e096313922843844"
  },
  {
   "metadata": {
    "ExecuteTime": {
     "end_time": "2025-09-17T23:29:05.304421Z",
     "start_time": "2025-09-17T23:29:05.295692Z"
    }
   },
   "cell_type": "code",
   "source": "",
   "id": "b4a6884fa3bd303e",
   "outputs": [],
   "execution_count": null
  },
  {
   "metadata": {
    "ExecuteTime": {
     "end_time": "2025-09-17T23:29:05.319854Z",
     "start_time": "2025-09-17T23:29:05.314274Z"
    }
   },
   "cell_type": "code",
   "source": "",
   "id": "bcdcb9f07692f179",
   "outputs": [],
   "execution_count": null
  },
  {
   "metadata": {
    "ExecuteTime": {
     "end_time": "2025-09-17T23:29:05.334638Z",
     "start_time": "2025-09-17T23:29:05.323485Z"
    }
   },
   "cell_type": "code",
   "source": "",
   "id": "937eaf7f16198cc9",
   "outputs": [],
   "execution_count": null
  },
  {
   "metadata": {
    "ExecuteTime": {
     "end_time": "2025-09-17T23:29:05.349481Z",
     "start_time": "2025-09-17T23:29:05.340653Z"
    }
   },
   "cell_type": "code",
   "source": "",
   "id": "29e65a320fc87c52",
   "outputs": [],
   "execution_count": null
  },
  {
   "metadata": {
    "ExecuteTime": {
     "end_time": "2025-09-17T23:29:05.364980Z",
     "start_time": "2025-09-17T23:29:05.354388Z"
    }
   },
   "cell_type": "code",
   "source": "",
   "id": "46989903a855ba1c",
   "outputs": [],
   "execution_count": null
  },
  {
   "metadata": {
    "ExecuteTime": {
     "end_time": "2025-09-17T23:29:05.380386Z",
     "start_time": "2025-09-17T23:29:05.369138Z"
    }
   },
   "cell_type": "code",
   "source": "",
   "id": "c441f77affb044fa",
   "outputs": [],
   "execution_count": null
  },
  {
   "metadata": {
    "ExecuteTime": {
     "end_time": "2025-09-17T23:29:05.395304Z",
     "start_time": "2025-09-17T23:29:05.387743Z"
    }
   },
   "cell_type": "code",
   "source": "",
   "id": "b3a3c5cb2f7720de",
   "outputs": [],
   "execution_count": null
  },
  {
   "metadata": {
    "ExecuteTime": {
     "end_time": "2025-09-17T23:29:05.411064Z",
     "start_time": "2025-09-17T23:29:05.401536Z"
    }
   },
   "cell_type": "code",
   "source": "",
   "id": "7b857b1731e1c9e4",
   "outputs": [],
   "execution_count": null
  },
  {
   "metadata": {},
   "cell_type": "markdown",
   "source": [
    "##### SINC\n",
    "\n",
    "![](https://i0.wp.com/sefiks.com/wp-content/uploads/2018/01/sinc-function.png?resize=543%2C311&ssl=1)"
   ],
   "id": "613bd46690343fc1"
  },
  {
   "metadata": {
    "ExecuteTime": {
     "end_time": "2025-09-17T23:29:05.426351Z",
     "start_time": "2025-09-17T23:29:05.419273Z"
    }
   },
   "cell_type": "code",
   "source": "",
   "id": "a2ae83db02e5dab0",
   "outputs": [],
   "execution_count": null
  },
  {
   "metadata": {
    "ExecuteTime": {
     "end_time": "2025-09-17T23:29:05.441497Z",
     "start_time": "2025-09-17T23:29:05.438270Z"
    }
   },
   "cell_type": "code",
   "source": "",
   "id": "6bde8975ded845f3",
   "outputs": [],
   "execution_count": null
  },
  {
   "metadata": {
    "ExecuteTime": {
     "end_time": "2025-09-17T23:29:05.457264Z",
     "start_time": "2025-09-17T23:29:05.453260Z"
    }
   },
   "cell_type": "code",
   "source": "",
   "id": "d0c05543fe2484f7",
   "outputs": [],
   "execution_count": null
  },
  {
   "metadata": {
    "ExecuteTime": {
     "end_time": "2025-09-17T23:29:05.473290Z",
     "start_time": "2025-09-17T23:29:05.464873Z"
    }
   },
   "cell_type": "code",
   "source": "",
   "id": "d2ce58cd8d42835f",
   "outputs": [],
   "execution_count": null
  },
  {
   "metadata": {
    "ExecuteTime": {
     "end_time": "2025-09-17T23:29:05.488838Z",
     "start_time": "2025-09-17T23:29:05.481077Z"
    }
   },
   "cell_type": "code",
   "source": "",
   "id": "66132c9355bcd540",
   "outputs": [],
   "execution_count": null
  },
  {
   "metadata": {
    "ExecuteTime": {
     "end_time": "2025-09-17T23:29:05.503786Z",
     "start_time": "2025-09-17T23:29:05.497942Z"
    }
   },
   "cell_type": "code",
   "source": "",
   "id": "ed462d16205d41d6",
   "outputs": [],
   "execution_count": null
  },
  {
   "metadata": {
    "ExecuteTime": {
     "end_time": "2025-09-17T23:29:05.518984Z",
     "start_time": "2025-09-17T23:29:05.507832Z"
    }
   },
   "cell_type": "code",
   "source": "",
   "id": "878a3ccbabc023f2",
   "outputs": [],
   "execution_count": null
  },
  {
   "metadata": {
    "ExecuteTime": {
     "end_time": "2025-09-17T23:29:05.534934Z",
     "start_time": "2025-09-17T23:29:05.523243Z"
    }
   },
   "cell_type": "code",
   "source": "",
   "id": "2c4524b921882a66",
   "outputs": [],
   "execution_count": null
  },
  {
   "metadata": {
    "ExecuteTime": {
     "end_time": "2025-09-17T23:29:05.550357Z",
     "start_time": "2025-09-17T23:29:05.540070Z"
    }
   },
   "cell_type": "code",
   "source": "",
   "id": "9457d35c9f05fdbe",
   "outputs": [],
   "execution_count": null
  },
  {
   "metadata": {
    "ExecuteTime": {
     "end_time": "2025-09-17T23:29:05.565060Z",
     "start_time": "2025-09-17T23:29:05.557106Z"
    }
   },
   "cell_type": "code",
   "source": "",
   "id": "14b1038a16d34734",
   "outputs": [],
   "execution_count": null
  },
  {
   "metadata": {
    "ExecuteTime": {
     "end_time": "2025-09-17T23:29:05.580306Z",
     "start_time": "2025-09-17T23:29:05.574766Z"
    }
   },
   "cell_type": "code",
   "source": "",
   "id": "305efef17fb38277",
   "outputs": [],
   "execution_count": null
  }
 ],
 "metadata": {
  "kernelspec": {
   "display_name": "Python (myenv)",
   "language": "python",
   "name": "myenv"
  },
  "language_info": {
   "codemirror_mode": {
    "name": "ipython",
    "version": 2
   },
   "file_extension": ".py",
   "mimetype": "text/x-python",
   "name": "python",
   "nbconvert_exporter": "python",
   "pygments_lexer": "ipython2",
   "version": "2.7.6"
  }
 },
 "nbformat": 4,
 "nbformat_minor": 5
}
